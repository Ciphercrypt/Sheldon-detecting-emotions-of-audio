{
 "cells": [
  {
   "cell_type": "markdown",
   "metadata": {
    "colab": {
     "base_uri": "https://localhost:8080/",
     "height": 122
    },
    "id": "R0MsJIWgXut8",
    "outputId": "a5e2830e-6c9c-48ba-e358-0f221aac5554"
   },
   "source": [
    "Audio File pre-processing and converting to images"
   ]
  },
  {
   "cell_type": "code",
   "execution_count": 5,
   "metadata": {
    "id": "6rSku0_cX3dB"
   },
   "outputs": [],
   "source": [
    "import soundfile\n",
    "import numpy as np\n",
    "import librosa\n",
    "import glob\n",
    "import os\n",
    "from sklearn.model_selection import train_test_split\n",
    "import pandas as pd\n",
    "import seaborn as sns\n",
    "# all emotions on RAVDESS dataset\n",
    "int2emotion = {\n",
    "    \"01\": \"neutral\",\n",
    "    \"02\": \"calm\",\n",
    "    \"03\": \"happy\",\n",
    "    \"04\": \"sad\",\n",
    "    \"05\": \"angry\",\n",
    "    \"06\": \"fearful\",\n",
    "    \"07\": \"disgust\",\n",
    "    \"08\": \"surprised\"\n",
    "}\n",
    "\n",
    "# we allow only these emotions\n",
    "AVAILABLE_EMOTIONS = {\n",
    "    \"angry\",\n",
    "    \"sad\",\n",
    "    \"neutral\",\n",
    "    \"happy\"\n",
    "}\n"
   ]
  },
  {
   "cell_type": "code",
   "execution_count": null,
   "metadata": {},
   "outputs": [],
   "source": []
  },
  {
   "cell_type": "code",
   "execution_count": 6,
   "metadata": {
    "id": "KWJ9phRhUDrM"
   },
   "outputs": [],
   "source": [
    "def extract_feature(file_name, **kwargs):\n",
    "    mfcc = kwargs.get(\"mfcc\")\n",
    "    chroma = kwargs.get(\"chroma\")\n",
    "    mel = kwargs.get(\"mel\")\n",
    "    contrast = kwargs.get(\"contrast\")\n",
    "    tonnetz = kwargs.get(\"tonnetz\")\n",
    "    with soundfile.SoundFile(file_name) as sound_file:\n",
    "        X = sound_file.read(dtype=\"float32\")\n",
    "        sample_rate = sound_file.samplerate\n",
    "        if chroma or contrast:\n",
    "            stft = np.abs(librosa.stft(X))\n",
    "        result = np.array([])\n",
    "        if mfcc:\n",
    "            mfccs = np.mean(librosa.feature.mfcc(y=X, sr=sample_rate, n_mfcc=40).T, axis=0)\n",
    "            result = np.hstack((result, mfccs))\n",
    "        if chroma:\n",
    "            chroma = np.mean(librosa.feature.chroma_stft(S=stft, sr=sample_rate).T,axis=0)\n",
    "            result = np.hstack((result, chroma))\n",
    "        if mel:\n",
    "            mel = np.mean(librosa.feature.melspectrogram(X, sr=sample_rate).T,axis=0)\n",
    "            result = np.hstack((result, mel))\n",
    "        if contrast:\n",
    "            contrast = np.mean(librosa.feature.spectral_contrast(S=stft, sr=sample_rate).T,axis=0)\n",
    "            result = np.hstack((result, contrast))\n",
    "        if tonnetz:\n",
    "            tonnetz = np.mean(librosa.feature.tonnetz(y=librosa.effects.harmonic(X), sr=sample_rate).T,axis=0)\n",
    "            result = np.hstack((result, tonnetz))\n",
    "    return result"
   ]
  },
  {
   "cell_type": "code",
   "execution_count": 7,
   "metadata": {
    "id": "NI3q89z5YLVq"
   },
   "outputs": [],
   "source": [
    "def load_data(test_size=0.2):\n",
    "    X, y = [], []\n",
    "    try :\n",
    "      for file in glob.glob(\"data/ravdess/Actor_*/*.wav\"):\n",
    "          # get the base name of the audio file\n",
    "          basename = os.path.basename(file)\n",
    "          print(basename)\n",
    "          # get the emotion label\n",
    "          emotion = int2emotion[basename.split(\"-\")[2]]\n",
    "          # we allow only AVAILABLE_EMOTIONS we set\n",
    "          if emotion not in AVAILABLE_EMOTIONS:\n",
    "              continue\n",
    "          # extract speech features\n",
    "          features = extract_feature(file, mfcc=True, chroma=True, mel=True)\n",
    "          # add to data\n",
    "          X.append(features)\n",
    "          l={'happy':0.0,'sad':1.0,'neutral':3.0,'angry':4.0}\n",
    "          y.append(l[emotion])\n",
    "    except :\n",
    "         pass\n",
    "    # split the data to training and testing and return it\n",
    "    return train_test_split(np.array(X), y, test_size=test_size, random_state=7)"
   ]
  },
  {
   "cell_type": "code",
   "execution_count": 8,
   "metadata": {
    "colab": {
     "base_uri": "https://localhost:8080/",
     "height": 1000
    },
    "id": "p7USodbIYQli",
    "outputId": "7fd11920-7a3e-405e-a828-3f7d50aa97ed"
   },
   "outputs": [
    {
     "name": "stdout",
     "output_type": "stream",
     "text": [
      "03-01-01-01-01-01-01.wav\n",
      "03-01-01-01-01-02-01.wav\n"
     ]
    },
    {
     "name": "stderr",
     "output_type": "stream",
     "text": [
      "<ipython-input-6-2161fc353d88>:20: FutureWarning: Pass y=[0. 0. 0. ... 0. 0. 0.] as keyword args. From version 0.10 passing these as positional arguments will result in an error\n",
      "  mel = np.mean(librosa.feature.melspectrogram(X, sr=sample_rate).T,axis=0)\n",
      "<ipython-input-6-2161fc353d88>:20: FutureWarning: Pass y=[ 0.0000000e+00  0.0000000e+00 -3.0517578e-05 ...  0.0000000e+00\n",
      "  0.0000000e+00  0.0000000e+00] as keyword args. From version 0.10 passing these as positional arguments will result in an error\n",
      "  mel = np.mean(librosa.feature.melspectrogram(X, sr=sample_rate).T,axis=0)\n"
     ]
    },
    {
     "name": "stdout",
     "output_type": "stream",
     "text": [
      "03-01-01-01-02-01-01.wav\n",
      "03-01-01-01-02-02-01.wav\n"
     ]
    },
    {
     "name": "stderr",
     "output_type": "stream",
     "text": [
      "<ipython-input-6-2161fc353d88>:20: FutureWarning: Pass y=[ 3.0517578e-05  3.0517578e-05  0.0000000e+00 ... -3.0517578e-05\n",
      "  0.0000000e+00 -3.0517578e-05] as keyword args. From version 0.10 passing these as positional arguments will result in an error\n",
      "  mel = np.mean(librosa.feature.melspectrogram(X, sr=sample_rate).T,axis=0)\n",
      "<ipython-input-6-2161fc353d88>:20: FutureWarning: Pass y=[3.0517578e-05 3.0517578e-05 3.0517578e-05 ... 0.0000000e+00 0.0000000e+00\n",
      " 0.0000000e+00] as keyword args. From version 0.10 passing these as positional arguments will result in an error\n",
      "  mel = np.mean(librosa.feature.melspectrogram(X, sr=sample_rate).T,axis=0)\n"
     ]
    },
    {
     "name": "stdout",
     "output_type": "stream",
     "text": [
      "03-01-02-01-01-01-01.wav\n",
      "03-01-02-01-01-02-01.wav\n",
      "03-01-02-01-02-01-01.wav\n",
      "03-01-02-01-02-02-01.wav\n",
      "03-01-02-02-01-01-01.wav\n",
      "03-01-02-02-01-02-01.wav\n",
      "03-01-02-02-02-01-01.wav\n",
      "03-01-02-02-02-02-01.wav\n",
      "03-01-03-01-01-01-01.wav\n",
      "03-01-03-01-01-02-01.wav\n",
      "03-01-03-01-02-01-01.wav\n",
      "03-01-03-01-02-02-01.wav\n"
     ]
    },
    {
     "name": "stderr",
     "output_type": "stream",
     "text": [
      "<ipython-input-6-2161fc353d88>:20: FutureWarning: Pass y=[0.0000000e+00 3.0517578e-05 0.0000000e+00 ... 0.0000000e+00 0.0000000e+00\n",
      " 0.0000000e+00] as keyword args. From version 0.10 passing these as positional arguments will result in an error\n",
      "  mel = np.mean(librosa.feature.melspectrogram(X, sr=sample_rate).T,axis=0)\n"
     ]
    },
    {
     "name": "stdout",
     "output_type": "stream",
     "text": [
      "03-01-03-02-01-01-01.wav\n",
      "03-01-03-02-01-02-01.wav\n",
      "03-01-03-02-02-01-01.wav\n",
      "03-01-03-02-02-02-01.wav\n",
      "03-01-04-01-01-01-01.wav\n",
      "03-01-04-01-01-02-01.wav\n"
     ]
    },
    {
     "name": "stderr",
     "output_type": "stream",
     "text": [
      "<ipython-input-6-2161fc353d88>:20: FutureWarning: Pass y=[-3.0517578e-05  0.0000000e+00  0.0000000e+00 ...  0.0000000e+00\n",
      "  0.0000000e+00  0.0000000e+00] as keyword args. From version 0.10 passing these as positional arguments will result in an error\n",
      "  mel = np.mean(librosa.feature.melspectrogram(X, sr=sample_rate).T,axis=0)\n"
     ]
    },
    {
     "name": "stdout",
     "output_type": "stream",
     "text": [
      "03-01-04-01-02-01-01.wav\n",
      "03-01-04-01-02-02-01.wav\n",
      "03-01-04-02-01-01-01.wav\n",
      "03-01-04-02-01-02-01.wav\n",
      "03-01-04-02-02-01-01.wav\n",
      "03-01-04-02-02-02-01.wav\n",
      "03-01-05-01-01-01-01.wav\n",
      "03-01-05-01-01-02-01.wav\n"
     ]
    },
    {
     "name": "stderr",
     "output_type": "stream",
     "text": [
      "<ipython-input-6-2161fc353d88>:20: FutureWarning: Pass y=[3.0517578e-05 0.0000000e+00 0.0000000e+00 ... 0.0000000e+00 0.0000000e+00\n",
      " 0.0000000e+00] as keyword args. From version 0.10 passing these as positional arguments will result in an error\n",
      "  mel = np.mean(librosa.feature.melspectrogram(X, sr=sample_rate).T,axis=0)\n"
     ]
    },
    {
     "name": "stdout",
     "output_type": "stream",
     "text": [
      "03-01-05-01-02-01-01.wav\n",
      "03-01-05-01-02-02-01.wav\n",
      "03-01-05-02-01-01-01.wav\n",
      "03-01-05-02-01-02-01.wav\n"
     ]
    },
    {
     "name": "stderr",
     "output_type": "stream",
     "text": [
      "<ipython-input-6-2161fc353d88>:20: FutureWarning: Pass y=[-0.00082397 -0.0005188  -0.00054932 ...  0.          0.\n",
      "  0.        ] as keyword args. From version 0.10 passing these as positional arguments will result in an error\n",
      "  mel = np.mean(librosa.feature.melspectrogram(X, sr=sample_rate).T,axis=0)\n",
      "<ipython-input-6-2161fc353d88>:20: FutureWarning: Pass y=[-0.00067139  0.00253296  0.00317383 ...  0.          0.\n",
      "  0.        ] as keyword args. From version 0.10 passing these as positional arguments will result in an error\n",
      "  mel = np.mean(librosa.feature.melspectrogram(X, sr=sample_rate).T,axis=0)\n"
     ]
    },
    {
     "name": "stdout",
     "output_type": "stream",
     "text": [
      "03-01-05-02-02-01-01.wav\n",
      "03-01-05-02-02-02-01.wav\n"
     ]
    },
    {
     "name": "stderr",
     "output_type": "stream",
     "text": [
      "<ipython-input-6-2161fc353d88>:20: FutureWarning: Pass y=[ 4.2724609e-04  6.1035156e-04  1.3427734e-03 ... -2.4414062e-04\n",
      " -2.7465820e-04  6.1035156e-05] as keyword args. From version 0.10 passing these as positional arguments will result in an error\n",
      "  mel = np.mean(librosa.feature.melspectrogram(X, sr=sample_rate).T,axis=0)\n",
      "<ipython-input-6-2161fc353d88>:20: FutureWarning: Pass y=[0.00036621 0.00033569 0.00027466 ... 0.0005188  0.00057983 0.00076294] as keyword args. From version 0.10 passing these as positional arguments will result in an error\n",
      "  mel = np.mean(librosa.feature.melspectrogram(X, sr=sample_rate).T,axis=0)\n"
     ]
    },
    {
     "name": "stdout",
     "output_type": "stream",
     "text": [
      "03-01-06-01-01-01-01.wav\n",
      "03-01-06-01-01-02-01.wav\n",
      "03-01-06-01-02-01-01.wav\n",
      "03-01-06-01-02-02-01.wav\n",
      "03-01-06-02-01-01-01.wav\n",
      "03-01-06-02-01-02-01.wav\n",
      "03-01-06-02-02-01-01.wav\n",
      "03-01-06-02-02-02-01.wav\n",
      "03-01-07-01-01-01-01.wav\n",
      "03-01-07-01-01-02-01.wav\n",
      "03-01-07-01-02-01-01.wav\n",
      "03-01-07-01-02-02-01.wav\n",
      "03-01-07-02-01-01-01.wav\n",
      "03-01-07-02-01-02-01.wav\n",
      "03-01-07-02-02-01-01.wav\n",
      "03-01-07-02-02-02-01.wav\n",
      "03-01-08-01-01-01-01.wav\n",
      "03-01-08-01-01-02-01.wav\n",
      "03-01-08-01-02-01-01.wav\n",
      "03-01-08-01-02-02-01.wav\n",
      "03-01-08-02-01-01-01.wav\n",
      "03-01-08-02-01-02-01.wav\n",
      "03-01-08-02-02-01-01.wav\n",
      "03-01-08-02-02-02-01.wav\n",
      "03-01-01-01-01-01-02.wav\n",
      "03-01-01-01-01-02-02.wav\n",
      "03-01-01-01-02-01-02.wav\n",
      "03-01-01-01-02-02-02.wav\n"
     ]
    },
    {
     "name": "stderr",
     "output_type": "stream",
     "text": [
      "<ipython-input-6-2161fc353d88>:20: FutureWarning: Pass y=[0.0000000e+00 0.0000000e+00 0.0000000e+00 ... 0.0000000e+00 0.0000000e+00\n",
      " 6.1035156e-05] as keyword args. From version 0.10 passing these as positional arguments will result in an error\n",
      "  mel = np.mean(librosa.feature.melspectrogram(X, sr=sample_rate).T,axis=0)\n"
     ]
    },
    {
     "name": "stdout",
     "output_type": "stream",
     "text": [
      "03-01-02-01-01-01-02.wav\n",
      "03-01-02-01-01-02-02.wav\n",
      "03-01-02-01-02-01-02.wav\n",
      "03-01-02-01-02-02-02.wav\n",
      "03-01-02-02-01-01-02.wav\n",
      "03-01-02-02-01-02-02.wav\n",
      "03-01-02-02-02-01-02.wav\n",
      "03-01-02-02-02-02-02.wav\n",
      "03-01-03-01-01-01-02.wav\n",
      "03-01-03-01-01-02-02.wav\n",
      "03-01-03-01-02-01-02.wav\n",
      "03-01-03-01-02-02-02.wav\n",
      "03-01-03-02-01-01-02.wav\n",
      "03-01-03-02-01-02-02.wav\n"
     ]
    },
    {
     "name": "stderr",
     "output_type": "stream",
     "text": [
      "<ipython-input-6-2161fc353d88>:20: FutureWarning: Pass y=[0.0000000e+00 0.0000000e+00 0.0000000e+00 ... 3.0517578e-05 0.0000000e+00\n",
      " 0.0000000e+00] as keyword args. From version 0.10 passing these as positional arguments will result in an error\n",
      "  mel = np.mean(librosa.feature.melspectrogram(X, sr=sample_rate).T,axis=0)\n",
      "<ipython-input-6-2161fc353d88>:20: FutureWarning: Pass y=[ 0.0000000e+00  0.0000000e+00  0.0000000e+00 ... -3.0517578e-05\n",
      "  0.0000000e+00  0.0000000e+00] as keyword args. From version 0.10 passing these as positional arguments will result in an error\n",
      "  mel = np.mean(librosa.feature.melspectrogram(X, sr=sample_rate).T,axis=0)\n"
     ]
    },
    {
     "name": "stdout",
     "output_type": "stream",
     "text": [
      "03-01-03-02-02-01-02.wav\n",
      "03-01-03-02-02-02-02.wav\n",
      "03-01-04-01-01-01-02.wav\n",
      "03-01-04-01-01-02-02.wav\n",
      "03-01-04-01-02-01-02.wav\n",
      "03-01-04-01-02-02-02.wav\n",
      "03-01-04-02-01-01-02.wav"
     ]
    },
    {
     "name": "stderr",
     "output_type": "stream",
     "text": [
      "<ipython-input-6-2161fc353d88>:20: FutureWarning: Pass y=[0.0000000e+00 0.0000000e+00 0.0000000e+00 ... 0.0000000e+00 3.0517578e-05\n",
      " 3.0517578e-05] as keyword args. From version 0.10 passing these as positional arguments will result in an error\n",
      "  mel = np.mean(librosa.feature.melspectrogram(X, sr=sample_rate).T,axis=0)\n"
     ]
    },
    {
     "name": "stdout",
     "output_type": "stream",
     "text": [
      "\n",
      "03-01-04-02-01-02-02.wav\n",
      "03-01-04-02-02-01-02.wav\n",
      "03-01-04-02-02-02-02.wav\n",
      "03-01-05-01-01-01-02.wav\n",
      "03-01-05-01-01-02-02.wav\n"
     ]
    },
    {
     "name": "stderr",
     "output_type": "stream",
     "text": [
      "<ipython-input-6-2161fc353d88>:20: FutureWarning: Pass y=[0.0000000e+00 0.0000000e+00 0.0000000e+00 ... 0.0000000e+00 0.0000000e+00\n",
      " 3.0517578e-05] as keyword args. From version 0.10 passing these as positional arguments will result in an error\n",
      "  mel = np.mean(librosa.feature.melspectrogram(X, sr=sample_rate).T,axis=0)\n"
     ]
    },
    {
     "name": "stdout",
     "output_type": "stream",
     "text": [
      "03-01-05-01-02-01-02.wav\n",
      "03-01-05-01-02-02-02.wav\n",
      "03-01-05-02-01-01-02.wav\n",
      "03-01-05-02-01-02-02.wav\n",
      "03-01-05-02-02-01-02.wav\n",
      "03-01-05-02-02-02-02.wav\n",
      "03-01-06-01-01-01-02.wav\n",
      "03-01-06-01-01-02-02.wav\n",
      "03-01-06-01-02-01-02.wav\n",
      "03-01-06-01-02-02-02.wav\n",
      "03-01-06-02-01-01-02.wav\n",
      "03-01-06-02-01-02-02.wav\n",
      "03-01-06-02-02-01-02.wav\n",
      "03-01-06-02-02-02-02.wav\n",
      "03-01-07-01-01-01-02.wav\n",
      "03-01-07-01-01-02-02.wav\n",
      "03-01-07-01-02-01-02.wav\n",
      "03-01-07-01-02-02-02.wav\n",
      "03-01-07-02-01-01-02.wav\n",
      "03-01-07-02-01-02-02.wav\n",
      "03-01-07-02-02-01-02.wav\n",
      "03-01-07-02-02-02-02.wav\n",
      "03-01-08-01-01-01-02.wav\n",
      "03-01-08-01-01-02-02.wav\n",
      "03-01-08-01-02-01-02.wav\n",
      "03-01-08-01-02-02-02.wav\n",
      "03-01-08-02-01-01-02.wav\n",
      "03-01-08-02-01-02-02.wav\n",
      "03-01-08-02-02-01-02.wav\n",
      "03-01-08-02-02-02-02.wav\n",
      "03-01-01-01-01-01-03.wav\n"
     ]
    },
    {
     "name": "stderr",
     "output_type": "stream",
     "text": [
      "<ipython-input-6-2161fc353d88>:20: FutureWarning: Pass y=[0.0000000e+00 0.0000000e+00 0.0000000e+00 ... 0.0000000e+00 3.0517578e-05\n",
      " 0.0000000e+00] as keyword args. From version 0.10 passing these as positional arguments will result in an error\n",
      "  mel = np.mean(librosa.feature.melspectrogram(X, sr=sample_rate).T,axis=0)\n",
      "<ipython-input-6-2161fc353d88>:20: FutureWarning: Pass y=[-3.0517578e-05  0.0000000e+00 -3.0517578e-05 ...  0.0000000e+00\n",
      "  0.0000000e+00  0.0000000e+00] as keyword args. From version 0.10 passing these as positional arguments will result in an error\n",
      "  mel = np.mean(librosa.feature.melspectrogram(X, sr=sample_rate).T,axis=0)\n"
     ]
    },
    {
     "name": "stdout",
     "output_type": "stream",
     "text": [
      "03-01-01-01-01-02-03.wav\n",
      "03-01-01-01-02-01-03.wav\n"
     ]
    },
    {
     "name": "stderr",
     "output_type": "stream",
     "text": [
      "<ipython-input-6-2161fc353d88>:20: FutureWarning: Pass y=[ 0.0000000e+00 -3.0517578e-05 -3.0517578e-05 ... -3.0517578e-05\n",
      "  0.0000000e+00  0.0000000e+00] as keyword args. From version 0.10 passing these as positional arguments will result in an error\n",
      "  mel = np.mean(librosa.feature.melspectrogram(X, sr=sample_rate).T,axis=0)\n"
     ]
    },
    {
     "name": "stdout",
     "output_type": "stream",
     "text": [
      "03-01-01-01-02-02-03.wav\n",
      "03-01-02-01-01-01-03.wav"
     ]
    },
    {
     "name": "stderr",
     "output_type": "stream",
     "text": [
      "<ipython-input-6-2161fc353d88>:20: FutureWarning: Pass y=[0.         0.         0.00018311 ... 0.         0.         0.        ] as keyword args. From version 0.10 passing these as positional arguments will result in an error\n",
      "  mel = np.mean(librosa.feature.melspectrogram(X, sr=sample_rate).T,axis=0)\n",
      "<ipython-input-6-2161fc353d88>:20: FutureWarning: Pass y=[3.0517578e-05 9.1552734e-05 6.1035156e-05 ... 0.0000000e+00 0.0000000e+00\n",
      " 0.0000000e+00] as keyword args. From version 0.10 passing these as positional arguments will result in an error\n",
      "  mel = np.mean(librosa.feature.melspectrogram(X, sr=sample_rate).T,axis=0)\n"
     ]
    },
    {
     "name": "stdout",
     "output_type": "stream",
     "text": [
      "\n",
      "03-01-02-01-01-02-03.wav\n",
      "03-01-02-01-02-01-03.wav\n",
      "03-01-02-01-02-02-03.wav\n",
      "03-01-02-02-01-01-03.wav\n",
      "03-01-02-02-01-02-03.wav\n",
      "03-01-02-02-02-01-03.wav\n",
      "03-01-02-02-02-02-03.wav\n",
      "03-01-03-01-01-01-03.wav\n",
      "03-01-03-01-01-02-03.wav"
     ]
    },
    {
     "name": "stderr",
     "output_type": "stream",
     "text": [
      "<ipython-input-6-2161fc353d88>:20: FutureWarning: Pass y=[ 4.5776367e-04  6.7138672e-04  6.1035156e-05 ... -3.0517578e-05\n",
      " -3.0517578e-05 -3.0517578e-05] as keyword args. From version 0.10 passing these as positional arguments will result in an error\n",
      "  mel = np.mean(librosa.feature.melspectrogram(X, sr=sample_rate).T,axis=0)\n"
     ]
    },
    {
     "name": "stdout",
     "output_type": "stream",
     "text": [
      "\n",
      "03-01-03-01-02-01-03.wav\n"
     ]
    },
    {
     "name": "stderr",
     "output_type": "stream",
     "text": [
      "<ipython-input-6-2161fc353d88>:20: FutureWarning: Pass y=[0.0000000e+00 0.0000000e+00 0.0000000e+00 ... 6.1035156e-05 6.1035156e-05\n",
      " 0.0000000e+00] as keyword args. From version 0.10 passing these as positional arguments will result in an error\n",
      "  mel = np.mean(librosa.feature.melspectrogram(X, sr=sample_rate).T,axis=0)\n"
     ]
    },
    {
     "name": "stdout",
     "output_type": "stream",
     "text": [
      "03-01-03-01-02-02-03.wav\n",
      "03-01-03-02-01-01-03.wav\n"
     ]
    },
    {
     "name": "stderr",
     "output_type": "stream",
     "text": [
      "<ipython-input-6-2161fc353d88>:20: FutureWarning: Pass y=[3.0517578e-05 0.0000000e+00 0.0000000e+00 ... 0.0000000e+00 0.0000000e+00\n",
      " 3.0517578e-05] as keyword args. From version 0.10 passing these as positional arguments will result in an error\n",
      "  mel = np.mean(librosa.feature.melspectrogram(X, sr=sample_rate).T,axis=0)\n"
     ]
    },
    {
     "name": "stdout",
     "output_type": "stream",
     "text": [
      "03-01-03-02-01-02-03.wav\n"
     ]
    },
    {
     "name": "stderr",
     "output_type": "stream",
     "text": [
      "<ipython-input-6-2161fc353d88>:20: FutureWarning: Pass y=[2.1362305e-04 1.5258789e-04 6.1035156e-05 ... 0.0000000e+00 3.0517578e-05\n",
      " 0.0000000e+00] as keyword args. From version 0.10 passing these as positional arguments will result in an error\n",
      "  mel = np.mean(librosa.feature.melspectrogram(X, sr=sample_rate).T,axis=0)\n"
     ]
    },
    {
     "name": "stdout",
     "output_type": "stream",
     "text": [
      "03-01-03-02-02-01-03.wav\n"
     ]
    },
    {
     "name": "stderr",
     "output_type": "stream",
     "text": [
      "<ipython-input-6-2161fc353d88>:20: FutureWarning: Pass y=[-0.00027466 -0.00024414 -0.00027466 ... -0.00018311 -0.00024414\n",
      " -0.00018311] as keyword args. From version 0.10 passing these as positional arguments will result in an error\n",
      "  mel = np.mean(librosa.feature.melspectrogram(X, sr=sample_rate).T,axis=0)\n",
      "<ipython-input-6-2161fc353d88>:20: FutureWarning: Pass y=[ 0.0007019  -0.00015259 -0.00100708 ...  0.00033569  0.00036621\n",
      "  0.00036621] as keyword args. From version 0.10 passing these as positional arguments will result in an error\n",
      "  mel = np.mean(librosa.feature.melspectrogram(X, sr=sample_rate).T,axis=0)\n"
     ]
    },
    {
     "name": "stdout",
     "output_type": "stream",
     "text": [
      "03-01-03-02-02-02-03.wav\n",
      "03-01-04-01-01-01-03.wav\n"
     ]
    },
    {
     "name": "stderr",
     "output_type": "stream",
     "text": [
      "<ipython-input-6-2161fc353d88>:20: FutureWarning: Pass y=[ 0.          0.          0.         ... -0.00015259 -0.00018311\n",
      " -0.00012207] as keyword args. From version 0.10 passing these as positional arguments will result in an error\n",
      "  mel = np.mean(librosa.feature.melspectrogram(X, sr=sample_rate).T,axis=0)\n",
      "<ipython-input-6-2161fc353d88>:20: FutureWarning: Pass y=[0.0000000e+00 0.0000000e+00 0.0000000e+00 ... 6.1035156e-05 3.0517578e-05\n",
      " 3.0517578e-05] as keyword args. From version 0.10 passing these as positional arguments will result in an error\n",
      "  mel = np.mean(librosa.feature.melspectrogram(X, sr=sample_rate).T,axis=0)\n"
     ]
    },
    {
     "name": "stdout",
     "output_type": "stream",
     "text": [
      "03-01-04-01-01-02-03.wav\n",
      "03-01-04-01-02-01-03.wav\n"
     ]
    },
    {
     "name": "stderr",
     "output_type": "stream",
     "text": [
      "<ipython-input-6-2161fc353d88>:20: FutureWarning: Pass y=[ 0.          0.          0.         ... -0.00036621 -0.00033569\n",
      " -0.00033569] as keyword args. From version 0.10 passing these as positional arguments will result in an error\n",
      "  mel = np.mean(librosa.feature.melspectrogram(X, sr=sample_rate).T,axis=0)\n"
     ]
    },
    {
     "name": "stdout",
     "output_type": "stream",
     "text": [
      "03-01-04-01-02-02-03.wav\n"
     ]
    },
    {
     "name": "stderr",
     "output_type": "stream",
     "text": [
      "<ipython-input-6-2161fc353d88>:20: FutureWarning: Pass y=[-3.0517578e-05  0.0000000e+00 -3.0517578e-05 ...  2.4414062e-04\n",
      "  2.4414062e-04  2.4414062e-04] as keyword args. From version 0.10 passing these as positional arguments will result in an error\n",
      "  mel = np.mean(librosa.feature.melspectrogram(X, sr=sample_rate).T,axis=0)\n",
      "<ipython-input-6-2161fc353d88>:20: FutureWarning: Pass y=[ 3.0517578e-05  0.0000000e+00  3.0517578e-05 ... -6.1035156e-05\n",
      "  0.0000000e+00 -6.1035156e-05] as keyword args. From version 0.10 passing these as positional arguments will result in an error\n",
      "  mel = np.mean(librosa.feature.melspectrogram(X, sr=sample_rate).T,axis=0)\n"
     ]
    },
    {
     "name": "stdout",
     "output_type": "stream",
     "text": [
      "03-01-04-02-01-01-03.wav\n",
      "03-01-04-02-01-02-03.wav\n"
     ]
    },
    {
     "name": "stderr",
     "output_type": "stream",
     "text": [
      "<ipython-input-6-2161fc353d88>:20: FutureWarning: Pass y=[-6.7138672e-04 -7.0190430e-04 -7.0190430e-04 ...  0.0000000e+00\n",
      "  6.1035156e-05  6.1035156e-05] as keyword args. From version 0.10 passing these as positional arguments will result in an error\n",
      "  mel = np.mean(librosa.feature.melspectrogram(X, sr=sample_rate).T,axis=0)\n"
     ]
    },
    {
     "name": "stdout",
     "output_type": "stream",
     "text": [
      "03-01-04-02-02-01-03.wav\n"
     ]
    },
    {
     "name": "stderr",
     "output_type": "stream",
     "text": [
      "<ipython-input-6-2161fc353d88>:20: FutureWarning: Pass y=[ 0.0000000e+00  0.0000000e+00 -3.0517578e-05 ... -1.0894775e-02\n",
      " -9.8571777e-03 -1.3732910e-03] as keyword args. From version 0.10 passing these as positional arguments will result in an error\n",
      "  mel = np.mean(librosa.feature.melspectrogram(X, sr=sample_rate).T,axis=0)\n"
     ]
    },
    {
     "name": "stdout",
     "output_type": "stream",
     "text": [
      "03-01-04-02-02-02-03.wav\n"
     ]
    },
    {
     "name": "stderr",
     "output_type": "stream",
     "text": [
      "<ipython-input-6-2161fc353d88>:20: FutureWarning: Pass y=[0.         0.         0.         ... 0.00247192 0.00244141 0.00244141] as keyword args. From version 0.10 passing these as positional arguments will result in an error\n",
      "  mel = np.mean(librosa.feature.melspectrogram(X, sr=sample_rate).T,axis=0)\n"
     ]
    },
    {
     "name": "stdout",
     "output_type": "stream",
     "text": [
      "03-01-05-01-01-01-03.wav\n",
      "03-01-05-01-01-02-03.wav"
     ]
    },
    {
     "name": "stderr",
     "output_type": "stream",
     "text": [
      "<ipython-input-6-2161fc353d88>:20: FutureWarning: Pass y=[-9.1552734e-05 -1.5258789e-04  0.0000000e+00 ...  1.2207031e-04\n",
      "  1.2207031e-04  1.5258789e-04] as keyword args. From version 0.10 passing these as positional arguments will result in an error\n",
      "  mel = np.mean(librosa.feature.melspectrogram(X, sr=sample_rate).T,axis=0)\n"
     ]
    },
    {
     "name": "stdout",
     "output_type": "stream",
     "text": [
      "\n",
      "03-01-05-01-02-01-03.wav\n"
     ]
    },
    {
     "name": "stderr",
     "output_type": "stream",
     "text": [
      "<ipython-input-6-2161fc353d88>:20: FutureWarning: Pass y=[0.0000000e+00 0.0000000e+00 0.0000000e+00 ... 3.0517578e-05 1.5258789e-04\n",
      " 2.1362305e-04] as keyword args. From version 0.10 passing these as positional arguments will result in an error\n",
      "  mel = np.mean(librosa.feature.melspectrogram(X, sr=sample_rate).T,axis=0)\n"
     ]
    },
    {
     "name": "stdout",
     "output_type": "stream",
     "text": [
      "03-01-05-01-02-02-03.wav\n",
      "03-01-05-02-01-01-03.wav"
     ]
    },
    {
     "name": "stderr",
     "output_type": "stream",
     "text": [
      "<ipython-input-6-2161fc353d88>:20: FutureWarning: Pass y=[-9.1552734e-05 -9.1552734e-05 -6.1035156e-05 ... -6.0729980e-03\n",
      " -6.0729980e-03 -6.0729980e-03] as keyword args. From version 0.10 passing these as positional arguments will result in an error\n",
      "  mel = np.mean(librosa.feature.melspectrogram(X, sr=sample_rate).T,axis=0)\n"
     ]
    },
    {
     "name": "stdout",
     "output_type": "stream",
     "text": [
      "\n"
     ]
    },
    {
     "name": "stderr",
     "output_type": "stream",
     "text": [
      "<ipython-input-6-2161fc353d88>:20: FutureWarning: Pass y=[-0.00021362 -0.00027466  0.00012207 ... -0.00015259 -0.00015259\n",
      " -0.00021362] as keyword args. From version 0.10 passing these as positional arguments will result in an error\n",
      "  mel = np.mean(librosa.feature.melspectrogram(X, sr=sample_rate).T,axis=0)\n",
      "<ipython-input-6-2161fc353d88>:20: FutureWarning: Pass y=[ 0.00067139  0.00057983  0.00045776 ... -0.00180054 -0.0022583\n",
      " -0.00146484] as keyword args. From version 0.10 passing these as positional arguments will result in an error\n",
      "  mel = np.mean(librosa.feature.melspectrogram(X, sr=sample_rate).T,axis=0)\n"
     ]
    },
    {
     "name": "stdout",
     "output_type": "stream",
     "text": [
      "03-01-05-02-01-02-03.wav\n",
      "03-01-05-02-02-01-03.wav\n"
     ]
    },
    {
     "name": "stderr",
     "output_type": "stream",
     "text": [
      "<ipython-input-6-2161fc353d88>:20: FutureWarning: Pass y=[9.1552734e-05 0.0000000e+00 1.8310547e-04 ... 1.8310547e-04 9.1552734e-05\n",
      " 9.1552734e-05] as keyword args. From version 0.10 passing these as positional arguments will result in an error\n",
      "  mel = np.mean(librosa.feature.melspectrogram(X, sr=sample_rate).T,axis=0)\n",
      "<ipython-input-6-2161fc353d88>:20: FutureWarning: Pass y=[0.0000000e+00 3.0517578e-05 3.0517578e-05 ... 7.3242188e-04 7.6293945e-04\n",
      " 1.0986328e-03] as keyword args. From version 0.10 passing these as positional arguments will result in an error\n",
      "  mel = np.mean(librosa.feature.melspectrogram(X, sr=sample_rate).T,axis=0)\n"
     ]
    },
    {
     "name": "stdout",
     "output_type": "stream",
     "text": [
      "03-01-05-02-02-02-03.wav\n",
      "03-01-06-01-01-01-03.wav\n",
      "03-01-06-01-01-02-03.wav\n",
      "03-01-06-01-02-01-03.wav\n",
      "03-01-06-01-02-02-03.wav\n",
      "03-01-06-02-01-01-03.wav\n",
      "03-01-06-02-01-02-03.wav\n",
      "03-01-06-02-02-01-03.wav\n",
      "03-01-06-02-02-02-03.wav\n",
      "03-01-07-01-01-01-03.wav\n",
      "03-01-07-01-01-02-03.wav\n",
      "03-01-07-01-02-01-03.wav\n",
      "03-01-07-01-02-02-03.wav\n",
      "03-01-07-02-01-01-03.wav\n",
      "03-01-07-02-01-02-03.wav\n",
      "03-01-07-02-02-01-03.wav\n",
      "03-01-07-02-02-02-03.wav\n",
      "03-01-08-01-01-01-03.wav\n",
      "03-01-08-01-01-02-03.wav\n",
      "03-01-08-01-02-01-03.wav\n",
      "03-01-08-01-02-02-03.wav\n",
      "03-01-08-02-01-01-03.wav\n",
      "03-01-08-02-01-02-03.wav\n",
      "03-01-08-02-02-01-03.wav\n",
      "03-01-08-02-02-02-03.wav\n",
      "03-01-01-01-01-01-04.wav\n",
      "03-01-01-01-01-02-04.wav\n",
      "03-01-01-01-02-01-04.wav\n",
      "03-01-01-01-02-02-04.wav\n",
      "03-01-02-01-01-01-04.wav\n",
      "03-01-02-01-01-02-04.wav\n",
      "03-01-02-01-02-01-04.wav\n",
      "03-01-02-01-02-02-04.wav\n",
      "03-01-02-02-01-01-04.wav\n",
      "03-01-02-02-01-02-04.wav\n",
      "03-01-02-02-02-01-04.wav\n",
      "03-01-02-02-02-02-04.wav\n",
      "03-01-03-01-01-01-04.wav\n",
      "03-01-03-01-01-02-04.wav\n",
      "03-01-03-01-02-01-04.wav\n",
      "03-01-03-01-02-02-04.wav\n",
      "03-01-03-02-01-01-04.wav\n"
     ]
    },
    {
     "name": "stderr",
     "output_type": "stream",
     "text": [
      "<ipython-input-6-2161fc353d88>:20: FutureWarning: Pass y=[ 0.0000000e+00  0.0000000e+00  0.0000000e+00 ...  0.0000000e+00\n",
      " -3.0517578e-05  0.0000000e+00] as keyword args. From version 0.10 passing these as positional arguments will result in an error\n",
      "  mel = np.mean(librosa.feature.melspectrogram(X, sr=sample_rate).T,axis=0)\n"
     ]
    },
    {
     "name": "stdout",
     "output_type": "stream",
     "text": [
      "03-01-03-02-01-02-04.wav\n",
      "03-01-03-02-02-01-04.wav\n",
      "03-01-03-02-02-02-04.wav\n",
      "03-01-04-01-01-01-04.wav\n",
      "03-01-04-01-01-02-04.wav\n",
      "03-01-04-01-02-01-04.wav\n"
     ]
    },
    {
     "name": "stderr",
     "output_type": "stream",
     "text": [
      "<ipython-input-6-2161fc353d88>:20: FutureWarning: Pass y=[0.0000000e+00 0.0000000e+00 0.0000000e+00 ... 3.0517578e-05 3.0517578e-05\n",
      " 0.0000000e+00] as keyword args. From version 0.10 passing these as positional arguments will result in an error\n",
      "  mel = np.mean(librosa.feature.melspectrogram(X, sr=sample_rate).T,axis=0)\n"
     ]
    },
    {
     "name": "stdout",
     "output_type": "stream",
     "text": [
      "03-01-04-01-02-02-04.wav\n",
      "03-01-04-02-01-01-04.wav\n",
      "03-01-04-02-01-02-04.wav\n",
      "03-01-04-02-02-01-04.wav\n"
     ]
    },
    {
     "name": "stderr",
     "output_type": "stream",
     "text": [
      "<ipython-input-6-2161fc353d88>:20: FutureWarning: Pass y=[-0.00012207 -0.00012207 -0.00012207 ...  0.          0.\n",
      "  0.        ] as keyword args. From version 0.10 passing these as positional arguments will result in an error\n",
      "  mel = np.mean(librosa.feature.melspectrogram(X, sr=sample_rate).T,axis=0)\n"
     ]
    },
    {
     "name": "stdout",
     "output_type": "stream",
     "text": [
      "03-01-04-02-02-02-04.wav\n",
      "03-01-05-01-01-01-04.wav\n",
      "03-01-05-01-01-02-04.wav\n",
      "03-01-05-01-02-01-04.wav\n",
      "03-01-05-01-02-02-04.wav\n"
     ]
    },
    {
     "name": "stderr",
     "output_type": "stream",
     "text": [
      "<ipython-input-6-2161fc353d88>:20: FutureWarning: Pass y=[3.0517578e-05 3.0517578e-05 6.1035156e-05 ... 0.0000000e+00 0.0000000e+00\n",
      " 0.0000000e+00] as keyword args. From version 0.10 passing these as positional arguments will result in an error\n",
      "  mel = np.mean(librosa.feature.melspectrogram(X, sr=sample_rate).T,axis=0)\n"
     ]
    },
    {
     "name": "stdout",
     "output_type": "stream",
     "text": [
      "03-01-05-02-01-01-04.wav\n",
      "03-01-05-02-01-02-04.wav\n"
     ]
    },
    {
     "name": "stderr",
     "output_type": "stream",
     "text": [
      "<ipython-input-6-2161fc353d88>:20: FutureWarning: Pass y=[0.0000000e+00 0.0000000e+00 0.0000000e+00 ... 3.0517578e-05 6.1035156e-05\n",
      " 6.1035156e-05] as keyword args. From version 0.10 passing these as positional arguments will result in an error\n",
      "  mel = np.mean(librosa.feature.melspectrogram(X, sr=sample_rate).T,axis=0)\n"
     ]
    },
    {
     "name": "stdout",
     "output_type": "stream",
     "text": [
      "03-01-05-02-02-01-04.wav\n",
      "03-01-05-02-02-02-04.wav\n",
      "03-01-06-01-01-01-04.wav\n",
      "03-01-06-01-01-02-04.wav\n",
      "03-01-06-01-02-01-04.wav\n",
      "03-01-06-01-02-02-04.wav\n",
      "03-01-06-02-01-01-04.wav\n",
      "03-01-06-02-01-02-04.wav\n",
      "03-01-06-02-02-01-04.wav\n",
      "03-01-06-02-02-02-04.wav\n",
      "03-01-07-01-01-01-04.wav\n",
      "03-01-07-01-01-02-04.wav\n",
      "03-01-07-01-02-01-04.wav\n",
      "03-01-07-01-02-02-04.wav\n",
      "03-01-07-02-01-01-04.wav\n",
      "03-01-07-02-01-02-04.wav\n",
      "03-01-07-02-02-01-04.wav\n",
      "03-01-07-02-02-02-04.wav\n",
      "03-01-08-01-01-01-04.wav\n",
      "03-01-08-01-01-02-04.wav\n",
      "03-01-08-01-02-01-04.wav\n",
      "03-01-08-01-02-02-04.wav\n",
      "03-01-08-02-01-01-04.wav\n",
      "03-01-08-02-01-02-04.wav\n",
      "03-01-08-02-02-01-04.wav\n",
      "03-01-08-02-02-02-04.wav\n",
      "03-01-01-01-01-01-05.wav\n",
      "03-01-01-01-01-02-05.wav\n"
     ]
    },
    {
     "name": "stderr",
     "output_type": "stream",
     "text": [
      "<ipython-input-6-2161fc353d88>:20: FutureWarning: Pass y=[ 0.0000000e+00  0.0000000e+00  0.0000000e+00 ... -6.1035156e-05\n",
      " -6.1035156e-05 -6.1035156e-05] as keyword args. From version 0.10 passing these as positional arguments will result in an error\n",
      "  mel = np.mean(librosa.feature.melspectrogram(X, sr=sample_rate).T,axis=0)\n",
      "<ipython-input-6-2161fc353d88>:20: FutureWarning: Pass y=[-6.1035156e-05 -9.1552734e-05 -6.1035156e-05 ...  0.0000000e+00\n",
      "  0.0000000e+00  0.0000000e+00] as keyword args. From version 0.10 passing these as positional arguments will result in an error\n",
      "  mel = np.mean(librosa.feature.melspectrogram(X, sr=sample_rate).T,axis=0)\n"
     ]
    },
    {
     "name": "stdout",
     "output_type": "stream",
     "text": [
      "03-01-01-01-02-01-05.wav\n",
      "03-01-01-01-02-02-05.wav\n"
     ]
    },
    {
     "name": "stderr",
     "output_type": "stream",
     "text": [
      "<ipython-input-6-2161fc353d88>:20: FutureWarning: Pass y=[ 6.1035156e-05  6.1035156e-05  3.0517578e-05 ... -6.1035156e-05\n",
      " -6.1035156e-05 -9.1552734e-05] as keyword args. From version 0.10 passing these as positional arguments will result in an error\n",
      "  mel = np.mean(librosa.feature.melspectrogram(X, sr=sample_rate).T,axis=0)\n"
     ]
    },
    {
     "name": "stdout",
     "output_type": "stream",
     "text": [
      "03-01-02-01-01-01-05.wav\n",
      "03-01-02-01-01-02-05.wav\n",
      "03-01-02-01-02-01-05.wav\n",
      "03-01-02-01-02-02-05.wav\n",
      "03-01-02-02-01-01-05.wav\n",
      "03-01-02-02-01-02-05.wav\n",
      "03-01-02-02-02-01-05.wav\n",
      "03-01-02-02-02-02-05.wav\n",
      "03-01-03-01-01-01-05.wav\n",
      "03-01-03-01-01-02-05.wav\n",
      "03-01-03-01-02-01-05.wav\n",
      "03-01-03-01-02-02-05.wav\n"
     ]
    },
    {
     "name": "stderr",
     "output_type": "stream",
     "text": [
      "<ipython-input-6-2161fc353d88>:20: FutureWarning: Pass y=[ 0.0000000e+00  0.0000000e+00  0.0000000e+00 ... -3.0517578e-05\n",
      " -3.0517578e-05 -3.0517578e-05] as keyword args. From version 0.10 passing these as positional arguments will result in an error\n",
      "  mel = np.mean(librosa.feature.melspectrogram(X, sr=sample_rate).T,axis=0)\n"
     ]
    },
    {
     "name": "stdout",
     "output_type": "stream",
     "text": [
      "03-01-03-02-01-01-05.wav\n",
      "03-01-03-02-01-02-05.wav\n",
      "03-01-03-02-02-01-05.wav\n"
     ]
    },
    {
     "name": "stderr",
     "output_type": "stream",
     "text": [
      "<ipython-input-6-2161fc353d88>:20: FutureWarning: Pass y=[0.0000000e+00 0.0000000e+00 0.0000000e+00 ... 9.1552734e-05 9.1552734e-05\n",
      " 9.1552734e-05] as keyword args. From version 0.10 passing these as positional arguments will result in an error\n",
      "  mel = np.mean(librosa.feature.melspectrogram(X, sr=sample_rate).T,axis=0)\n",
      "<ipython-input-6-2161fc353d88>:20: FutureWarning: Pass y=[-1.5258789e-04 -1.5258789e-04 -1.5258789e-04 ...  3.0517578e-05\n",
      "  0.0000000e+00  0.0000000e+00] as keyword args. From version 0.10 passing these as positional arguments will result in an error\n",
      "  mel = np.mean(librosa.feature.melspectrogram(X, sr=sample_rate).T,axis=0)\n",
      "<ipython-input-6-2161fc353d88>:20: FutureWarning: Pass y=[ 0.0000000e+00 -6.1035156e-05 -6.1035156e-05 ...  6.1035156e-05\n",
      "  3.0517578e-05  6.1035156e-05] as keyword args. From version 0.10 passing these as positional arguments will result in an error\n",
      "  mel = np.mean(librosa.feature.melspectrogram(X, sr=sample_rate).T,axis=0)\n"
     ]
    },
    {
     "name": "stdout",
     "output_type": "stream",
     "text": [
      "03-01-03-02-02-02-05.wav\n",
      "03-01-04-01-01-01-05.wav\n"
     ]
    },
    {
     "name": "stderr",
     "output_type": "stream",
     "text": [
      "<ipython-input-6-2161fc353d88>:20: FutureWarning: Pass y=[3.0517578e-05 0.0000000e+00 0.0000000e+00 ... 6.1035156e-05 3.0517578e-05\n",
      " 9.1552734e-05] as keyword args. From version 0.10 passing these as positional arguments will result in an error\n",
      "  mel = np.mean(librosa.feature.melspectrogram(X, sr=sample_rate).T,axis=0)\n",
      "<ipython-input-6-2161fc353d88>:20: FutureWarning: Pass y=[-3.0517578e-05 -3.0517578e-05 -3.0517578e-05 ...  0.0000000e+00\n",
      "  0.0000000e+00  0.0000000e+00] as keyword args. From version 0.10 passing these as positional arguments will result in an error\n",
      "  mel = np.mean(librosa.feature.melspectrogram(X, sr=sample_rate).T,axis=0)\n"
     ]
    },
    {
     "name": "stdout",
     "output_type": "stream",
     "text": [
      "03-01-04-01-01-02-05.wav\n",
      "03-01-04-01-02-01-05.wav\n",
      "03-01-04-01-02-02-05.wav\n"
     ]
    },
    {
     "name": "stderr",
     "output_type": "stream",
     "text": [
      "<ipython-input-6-2161fc353d88>:20: FutureWarning: Pass y=[6.1035156e-05 9.1552734e-05 6.1035156e-05 ... 0.0000000e+00 3.0517578e-05\n",
      " 3.0517578e-05] as keyword args. From version 0.10 passing these as positional arguments will result in an error\n",
      "  mel = np.mean(librosa.feature.melspectrogram(X, sr=sample_rate).T,axis=0)\n",
      "<ipython-input-6-2161fc353d88>:20: FutureWarning: Pass y=[-3.0517578e-05 -3.0517578e-05 -3.0517578e-05 ... -3.0517578e-05\n",
      " -3.0517578e-05  0.0000000e+00] as keyword args. From version 0.10 passing these as positional arguments will result in an error\n",
      "  mel = np.mean(librosa.feature.melspectrogram(X, sr=sample_rate).T,axis=0)\n"
     ]
    },
    {
     "name": "stdout",
     "output_type": "stream",
     "text": [
      "03-01-04-02-01-01-05.wav\n",
      "03-01-04-02-01-02-05.wav\n",
      "03-01-04-02-02-01-05.wav\n",
      "03-01-04-02-02-02-05.wav\n"
     ]
    },
    {
     "name": "stderr",
     "output_type": "stream",
     "text": [
      "<ipython-input-6-2161fc353d88>:20: FutureWarning: Pass y=[0.00057983 0.00054932 0.00057983 ... 0.         0.         0.        ] as keyword args. From version 0.10 passing these as positional arguments will result in an error\n",
      "  mel = np.mean(librosa.feature.melspectrogram(X, sr=sample_rate).T,axis=0)\n"
     ]
    },
    {
     "name": "stdout",
     "output_type": "stream",
     "text": [
      "03-01-05-01-01-01-05.wav\n",
      "03-01-05-01-01-02-05.wav\n"
     ]
    },
    {
     "name": "stderr",
     "output_type": "stream",
     "text": [
      "<ipython-input-6-2161fc353d88>:20: FutureWarning: Pass y=[-6.1035156e-05 -6.1035156e-05 -3.0517578e-05 ... -3.0517578e-05\n",
      " -3.0517578e-05 -6.1035156e-05] as keyword args. From version 0.10 passing these as positional arguments will result in an error\n",
      "  mel = np.mean(librosa.feature.melspectrogram(X, sr=sample_rate).T,axis=0)\n"
     ]
    },
    {
     "name": "stdout",
     "output_type": "stream",
     "text": [
      "03-01-05-01-02-01-05.wav\n",
      "03-01-05-01-02-02-05.wav\n"
     ]
    },
    {
     "name": "stderr",
     "output_type": "stream",
     "text": [
      "<ipython-input-6-2161fc353d88>:20: FutureWarning: Pass y=[0.0000000e+00 0.0000000e+00 3.0517578e-05 ... 0.0000000e+00 0.0000000e+00\n",
      " 0.0000000e+00] as keyword args. From version 0.10 passing these as positional arguments will result in an error\n",
      "  mel = np.mean(librosa.feature.melspectrogram(X, sr=sample_rate).T,axis=0)\n"
     ]
    },
    {
     "name": "stdout",
     "output_type": "stream",
     "text": [
      "03-01-05-02-01-01-05.wav\n",
      "03-01-05-02-01-02-05.wav\n"
     ]
    },
    {
     "name": "stderr",
     "output_type": "stream",
     "text": [
      "<ipython-input-6-2161fc353d88>:20: FutureWarning: Pass y=[6.1035156e-05 3.0517578e-05 3.0517578e-05 ... 0.0000000e+00 0.0000000e+00\n",
      " 0.0000000e+00] as keyword args. From version 0.10 passing these as positional arguments will result in an error\n",
      "  mel = np.mean(librosa.feature.melspectrogram(X, sr=sample_rate).T,axis=0)\n",
      "<ipython-input-6-2161fc353d88>:20: FutureWarning: Pass y=[-9.1552734e-05 -6.1035156e-05 -6.1035156e-05 ...  3.9672852e-04\n",
      "  4.2724609e-04  4.2724609e-04] as keyword args. From version 0.10 passing these as positional arguments will result in an error\n",
      "  mel = np.mean(librosa.feature.melspectrogram(X, sr=sample_rate).T,axis=0)\n"
     ]
    },
    {
     "name": "stdout",
     "output_type": "stream",
     "text": [
      "03-01-05-02-02-01-05.wav\n",
      "03-01-05-02-02-02-05.wav\n"
     ]
    },
    {
     "name": "stderr",
     "output_type": "stream",
     "text": [
      "<ipython-input-6-2161fc353d88>:20: FutureWarning: Pass y=[ 0.0000000e+00  0.0000000e+00  0.0000000e+00 ...  0.0000000e+00\n",
      " -3.0517578e-05 -3.0517578e-05] as keyword args. From version 0.10 passing these as positional arguments will result in an error\n",
      "  mel = np.mean(librosa.feature.melspectrogram(X, sr=sample_rate).T,axis=0)\n"
     ]
    },
    {
     "name": "stdout",
     "output_type": "stream",
     "text": [
      "03-01-06-01-01-01-05.wav\n",
      "03-01-06-01-01-02-05.wav\n",
      "03-01-06-01-02-01-05.wav\n",
      "03-01-06-01-02-02-05.wav\n",
      "03-01-06-02-01-01-05.wav\n",
      "03-01-06-02-01-02-05.wav\n",
      "03-01-06-02-02-01-05.wav\n",
      "03-01-06-02-02-02-05.wav\n",
      "03-01-07-01-01-01-05.wav\n",
      "03-01-07-01-01-02-05.wav\n",
      "03-01-07-01-02-01-05.wav\n",
      "03-01-07-01-02-02-05.wav\n",
      "03-01-07-02-01-01-05.wav\n",
      "03-01-07-02-01-02-05.wav\n",
      "03-01-07-02-02-01-05.wav\n",
      "03-01-07-02-02-02-05.wav\n",
      "03-01-08-01-01-01-05.wav\n",
      "03-01-08-01-01-02-05.wav\n",
      "03-01-08-01-02-01-05.wav\n",
      "03-01-08-01-02-02-05.wav\n",
      "03-01-08-02-01-01-05.wav\n",
      "03-01-08-02-01-02-05.wav\n",
      "03-01-08-02-02-01-05.wav\n",
      "03-01-08-02-02-02-05.wav\n",
      "03-01-01-01-01-01-06.wav\n",
      "03-01-01-01-01-02-06.wav\n",
      "03-01-01-01-02-01-06.wav\n",
      "03-01-01-01-02-02-06.wav\n",
      "03-01-02-01-01-01-06.wav\n",
      "03-01-02-01-01-02-06.wav\n",
      "03-01-02-01-02-01-06.wav\n",
      "03-01-02-01-02-02-06.wav\n",
      "03-01-02-02-01-01-06.wav\n",
      "03-01-02-02-01-02-06.wav\n",
      "03-01-02-02-02-01-06.wav\n",
      "03-01-02-02-02-02-06.wav\n",
      "03-01-03-01-01-01-06.wav\n",
      "03-01-03-01-01-02-06.wav\n",
      "03-01-03-01-02-01-06.wav\n",
      "03-01-03-01-02-02-06.wav\n",
      "03-01-03-02-01-01-06.wav\n"
     ]
    },
    {
     "name": "stderr",
     "output_type": "stream",
     "text": [
      "<ipython-input-6-2161fc353d88>:20: FutureWarning: Pass y=[ 6.1035156e-05  6.1035156e-05  3.0517578e-05 ... -6.1035156e-05\n",
      " -3.0517578e-05 -3.0517578e-05] as keyword args. From version 0.10 passing these as positional arguments will result in an error\n",
      "  mel = np.mean(librosa.feature.melspectrogram(X, sr=sample_rate).T,axis=0)\n",
      "<ipython-input-6-2161fc353d88>:20: FutureWarning: Pass y=[ 0.0000000e+00  0.0000000e+00 -3.0517578e-05 ...  1.5258789e-04\n",
      "  2.1362305e-04  1.5258789e-04] as keyword args. From version 0.10 passing these as positional arguments will result in an error\n",
      "  mel = np.mean(librosa.feature.melspectrogram(X, sr=sample_rate).T,axis=0)\n"
     ]
    },
    {
     "name": "stdout",
     "output_type": "stream",
     "text": [
      "03-01-03-02-01-02-06.wav\n",
      "03-01-03-02-02-01-06.wav"
     ]
    },
    {
     "name": "stderr",
     "output_type": "stream",
     "text": [
      "<ipython-input-6-2161fc353d88>:20: FutureWarning: Pass y=[ 0.0000000e+00  0.0000000e+00  0.0000000e+00 ...  0.0000000e+00\n",
      "  0.0000000e+00 -3.0517578e-05] as keyword args. From version 0.10 passing these as positional arguments will result in an error\n",
      "  mel = np.mean(librosa.feature.melspectrogram(X, sr=sample_rate).T,axis=0)\n"
     ]
    },
    {
     "name": "stdout",
     "output_type": "stream",
     "text": [
      "\n",
      "03-01-03-02-02-02-06.wav\n"
     ]
    },
    {
     "name": "stderr",
     "output_type": "stream",
     "text": [
      "<ipython-input-6-2161fc353d88>:20: FutureWarning: Pass y=[3.0517578e-05 3.0517578e-05 6.1035156e-05 ... 6.4086914e-04 5.1879883e-04\n",
      " 5.4931641e-04] as keyword args. From version 0.10 passing these as positional arguments will result in an error\n",
      "  mel = np.mean(librosa.feature.melspectrogram(X, sr=sample_rate).T,axis=0)\n"
     ]
    },
    {
     "name": "stdout",
     "output_type": "stream",
     "text": [
      "03-01-04-01-01-01-06.wav\n",
      "03-01-04-01-01-02-06.wav\n",
      "03-01-04-01-02-01-06.wav\n",
      "03-01-04-01-02-02-06.wav\n",
      "03-01-04-02-01-01-06.wav\n",
      "03-01-04-02-01-02-06.wav\n",
      "03-01-04-02-02-01-06.wav\n"
     ]
    },
    {
     "name": "stderr",
     "output_type": "stream",
     "text": [
      "<ipython-input-6-2161fc353d88>:20: FutureWarning: Pass y=[ 2.4414062e-04  2.4414062e-04  2.1362305e-04 ...  0.0000000e+00\n",
      " -3.0517578e-05  0.0000000e+00] as keyword args. From version 0.10 passing these as positional arguments will result in an error\n",
      "  mel = np.mean(librosa.feature.melspectrogram(X, sr=sample_rate).T,axis=0)\n"
     ]
    },
    {
     "name": "stdout",
     "output_type": "stream",
     "text": [
      "03-01-04-02-02-02-06.wav\n"
     ]
    },
    {
     "name": "stderr",
     "output_type": "stream",
     "text": [
      "<ipython-input-6-2161fc353d88>:20: FutureWarning: Pass y=[3.0517578e-05 0.0000000e+00 3.0517578e-05 ... 0.0000000e+00 0.0000000e+00\n",
      " 3.0517578e-05] as keyword args. From version 0.10 passing these as positional arguments will result in an error\n",
      "  mel = np.mean(librosa.feature.melspectrogram(X, sr=sample_rate).T,axis=0)\n"
     ]
    },
    {
     "name": "stdout",
     "output_type": "stream",
     "text": [
      "03-01-05-01-01-01-06.wav\n",
      "03-01-05-01-01-02-06.wav\n",
      "03-01-05-01-02-01-06.wav\n"
     ]
    },
    {
     "name": "stderr",
     "output_type": "stream",
     "text": [
      "<ipython-input-6-2161fc353d88>:20: FutureWarning: Pass y=[0.         0.         0.         ... 0.00018311 0.00015259 0.00018311] as keyword args. From version 0.10 passing these as positional arguments will result in an error\n",
      "  mel = np.mean(librosa.feature.melspectrogram(X, sr=sample_rate).T,axis=0)\n"
     ]
    },
    {
     "name": "stdout",
     "output_type": "stream",
     "text": [
      "03-01-05-01-02-02-06.wav\n",
      "03-01-05-02-01-01-06.wav\n",
      "03-01-05-02-01-02-06.wav\n"
     ]
    },
    {
     "name": "stderr",
     "output_type": "stream",
     "text": [
      "<ipython-input-6-2161fc353d88>:20: FutureWarning: Pass y=[ 1.0681152e-03  8.2397461e-04  5.4931641e-04 ...  0.0000000e+00\n",
      " -3.0517578e-05  0.0000000e+00] as keyword args. From version 0.10 passing these as positional arguments will result in an error\n",
      "  mel = np.mean(librosa.feature.melspectrogram(X, sr=sample_rate).T,axis=0)\n",
      "<ipython-input-6-2161fc353d88>:20: FutureWarning: Pass y=[ 0.0000000e+00 -3.0517578e-05  0.0000000e+00 ...  0.0000000e+00\n",
      " -3.0517578e-05 -3.0517578e-05] as keyword args. From version 0.10 passing these as positional arguments will result in an error\n",
      "  mel = np.mean(librosa.feature.melspectrogram(X, sr=sample_rate).T,axis=0)\n"
     ]
    },
    {
     "name": "stdout",
     "output_type": "stream",
     "text": [
      "03-01-05-02-02-01-06.wav\n"
     ]
    },
    {
     "name": "stderr",
     "output_type": "stream",
     "text": [
      "<ipython-input-6-2161fc353d88>:20: FutureWarning: Pass y=[1.8310547e-04 6.1035156e-05 0.0000000e+00 ... 0.0000000e+00 0.0000000e+00\n",
      " 0.0000000e+00] as keyword args. From version 0.10 passing these as positional arguments will result in an error\n",
      "  mel = np.mean(librosa.feature.melspectrogram(X, sr=sample_rate).T,axis=0)\n"
     ]
    },
    {
     "name": "stdout",
     "output_type": "stream",
     "text": [
      "03-01-05-02-02-02-06.wav\n",
      "03-01-06-01-01-01-06.wav\n",
      "03-01-06-01-01-02-06.wav\n",
      "03-01-06-01-02-01-06.wav\n",
      "03-01-06-01-02-02-06.wav\n"
     ]
    },
    {
     "name": "stderr",
     "output_type": "stream",
     "text": [
      "<ipython-input-6-2161fc353d88>:20: FutureWarning: Pass y=[ 6.1035156e-05 -6.1035156e-05 -6.1035156e-05 ...  0.0000000e+00\n",
      "  0.0000000e+00  3.0517578e-05] as keyword args. From version 0.10 passing these as positional arguments will result in an error\n",
      "  mel = np.mean(librosa.feature.melspectrogram(X, sr=sample_rate).T,axis=0)\n"
     ]
    },
    {
     "name": "stdout",
     "output_type": "stream",
     "text": [
      "03-01-06-02-01-01-06.wav\n",
      "03-01-06-02-01-02-06.wav\n",
      "03-01-06-02-02-01-06.wav\n",
      "03-01-06-02-02-02-06.wav\n",
      "03-01-07-01-01-01-06.wav\n",
      "03-01-07-01-01-02-06.wav\n",
      "03-01-07-01-02-01-06.wav\n",
      "03-01-07-01-02-02-06.wav\n",
      "03-01-07-02-01-01-06.wav\n",
      "03-01-07-02-01-02-06.wav\n",
      "03-01-07-02-02-01-06.wav\n",
      "03-01-07-02-02-02-06.wav\n",
      "03-01-08-01-01-01-06.wav\n",
      "03-01-08-01-01-02-06.wav\n",
      "03-01-08-01-02-01-06.wav\n",
      "03-01-08-01-02-02-06.wav\n",
      "03-01-08-02-01-01-06.wav\n",
      "03-01-08-02-01-02-06.wav\n",
      "03-01-08-02-02-01-06.wav\n",
      "03-01-08-02-02-02-06.wav\n",
      "03-01-01-01-01-01-07.wav\n",
      "03-01-01-01-01-02-07.wav\n"
     ]
    },
    {
     "name": "stderr",
     "output_type": "stream",
     "text": [
      "<ipython-input-6-2161fc353d88>:20: FutureWarning: Pass y=[ 0.         -0.00021362 -0.00042725 ... -0.00024414 -0.00027466\n",
      " -0.00024414] as keyword args. From version 0.10 passing these as positional arguments will result in an error\n",
      "  mel = np.mean(librosa.feature.melspectrogram(X, sr=sample_rate).T,axis=0)\n"
     ]
    },
    {
     "name": "stdout",
     "output_type": "stream",
     "text": [
      "03-01-01-01-02-01-07.wav\n"
     ]
    },
    {
     "name": "stderr",
     "output_type": "stream",
     "text": [
      "<ipython-input-6-2161fc353d88>:20: FutureWarning: Pass y=[ 0.0000000e+00 -1.2207031e-04 -1.2207031e-04 ...  3.0517578e-05\n",
      "  3.0517578e-05  0.0000000e+00] as keyword args. From version 0.10 passing these as positional arguments will result in an error\n",
      "  mel = np.mean(librosa.feature.melspectrogram(X, sr=sample_rate).T,axis=0)\n",
      "<ipython-input-6-2161fc353d88>:20: FutureWarning: Pass y=[ 6.1035156e-05  9.1552734e-05  3.0517578e-05 ... -6.1035156e-05\n",
      "  0.0000000e+00 -3.0517578e-05] as keyword args. From version 0.10 passing these as positional arguments will result in an error\n",
      "  mel = np.mean(librosa.feature.melspectrogram(X, sr=sample_rate).T,axis=0)\n"
     ]
    },
    {
     "name": "stdout",
     "output_type": "stream",
     "text": [
      "03-01-01-01-02-02-07.wav\n",
      "03-01-02-01-01-01-07.wav\n",
      "03-01-02-01-01-02-07.wav\n",
      "03-01-02-01-02-01-07.wav\n",
      "03-01-02-01-02-02-07.wav\n",
      "03-01-02-02-01-01-07.wav\n",
      "03-01-02-02-01-02-07.wav\n",
      "03-01-02-02-02-01-07.wav\n",
      "03-01-02-02-02-02-07.wav\n",
      "03-01-03-01-01-01-07.wav\n",
      "03-01-03-01-01-02-07.wav\n",
      "03-01-03-01-02-01-07.wav\n"
     ]
    },
    {
     "name": "stderr",
     "output_type": "stream",
     "text": [
      "<ipython-input-6-2161fc353d88>:20: FutureWarning: Pass y=[0.0000000e+00 0.0000000e+00 0.0000000e+00 ... 9.1552734e-05 6.1035156e-05\n",
      " 6.1035156e-05] as keyword args. From version 0.10 passing these as positional arguments will result in an error\n",
      "  mel = np.mean(librosa.feature.melspectrogram(X, sr=sample_rate).T,axis=0)\n",
      "<ipython-input-6-2161fc353d88>:20: FutureWarning: Pass y=[-6.1035156e-05 -6.1035156e-05 -3.0517578e-05 ...  3.0517578e-04\n",
      "  3.0517578e-04  3.0517578e-04] as keyword args. From version 0.10 passing these as positional arguments will result in an error\n",
      "  mel = np.mean(librosa.feature.melspectrogram(X, sr=sample_rate).T,axis=0)\n"
     ]
    },
    {
     "name": "stdout",
     "output_type": "stream",
     "text": [
      "03-01-03-01-02-02-07.wav\n",
      "03-01-03-02-01-01-07.wav\n"
     ]
    },
    {
     "name": "stderr",
     "output_type": "stream",
     "text": [
      "<ipython-input-6-2161fc353d88>:20: FutureWarning: Pass y=[ 3.0517578e-05  0.0000000e+00 -3.0517578e-05 ...  6.1035156e-05\n",
      "  6.1035156e-05  1.5258789e-04] as keyword args. From version 0.10 passing these as positional arguments will result in an error\n",
      "  mel = np.mean(librosa.feature.melspectrogram(X, sr=sample_rate).T,axis=0)\n"
     ]
    },
    {
     "name": "stdout",
     "output_type": "stream",
     "text": [
      "03-01-03-02-01-02-07.wav\n"
     ]
    },
    {
     "name": "stderr",
     "output_type": "stream",
     "text": [
      "<ipython-input-6-2161fc353d88>:20: FutureWarning: Pass y=[0.0000000e+00 3.9672852e-04 6.4086914e-04 ... 3.0517578e-05 0.0000000e+00\n",
      " 0.0000000e+00] as keyword args. From version 0.10 passing these as positional arguments will result in an error\n",
      "  mel = np.mean(librosa.feature.melspectrogram(X, sr=sample_rate).T,axis=0)\n",
      "<ipython-input-6-2161fc353d88>:20: FutureWarning: Pass y=[-6.1035156e-05 -6.1035156e-05 -3.0517578e-05 ... -4.5776367e-04\n",
      " -4.2724609e-04 -3.9672852e-04] as keyword args. From version 0.10 passing these as positional arguments will result in an error\n",
      "  mel = np.mean(librosa.feature.melspectrogram(X, sr=sample_rate).T,axis=0)\n"
     ]
    },
    {
     "name": "stdout",
     "output_type": "stream",
     "text": [
      "03-01-03-02-02-01-07.wav\n",
      "03-01-03-02-02-02-07.wav\n"
     ]
    },
    {
     "name": "stderr",
     "output_type": "stream",
     "text": [
      "<ipython-input-6-2161fc353d88>:20: FutureWarning: Pass y=[0.0000000e+00 6.1035156e-05 2.1362305e-04 ... 1.8310547e-04 1.5258789e-04\n",
      " 1.5258789e-04] as keyword args. From version 0.10 passing these as positional arguments will result in an error\n",
      "  mel = np.mean(librosa.feature.melspectrogram(X, sr=sample_rate).T,axis=0)\n"
     ]
    },
    {
     "name": "stdout",
     "output_type": "stream",
     "text": [
      "03-01-04-01-01-01-07.wav\n",
      "03-01-04-01-01-02-07.wav\n",
      "03-01-04-01-02-01-07.wav\n",
      "03-01-04-01-02-02-07.wav\n"
     ]
    },
    {
     "name": "stderr",
     "output_type": "stream",
     "text": [
      "<ipython-input-6-2161fc353d88>:20: FutureWarning: Pass y=[3.0517578e-05 6.1035156e-05 3.0517578e-05 ... 3.0517578e-05 0.0000000e+00\n",
      " 0.0000000e+00] as keyword args. From version 0.10 passing these as positional arguments will result in an error\n",
      "  mel = np.mean(librosa.feature.melspectrogram(X, sr=sample_rate).T,axis=0)\n",
      "<ipython-input-6-2161fc353d88>:20: FutureWarning: Pass y=[ 0.0000000e+00  0.0000000e+00 -9.1552734e-05 ...  0.0000000e+00\n",
      " -3.0517578e-05 -3.0517578e-05] as keyword args. From version 0.10 passing these as positional arguments will result in an error\n",
      "  mel = np.mean(librosa.feature.melspectrogram(X, sr=sample_rate).T,axis=0)\n"
     ]
    },
    {
     "name": "stdout",
     "output_type": "stream",
     "text": [
      "03-01-04-02-01-01-07.wav\n"
     ]
    },
    {
     "name": "stderr",
     "output_type": "stream",
     "text": [
      "<ipython-input-6-2161fc353d88>:20: FutureWarning: Pass y=[-9.1552734e-05 -9.1552734e-05 -3.0517578e-05 ...  1.0681152e-03\n",
      "  1.1291504e-03  1.0375977e-03] as keyword args. From version 0.10 passing these as positional arguments will result in an error\n",
      "  mel = np.mean(librosa.feature.melspectrogram(X, sr=sample_rate).T,axis=0)\n"
     ]
    },
    {
     "name": "stdout",
     "output_type": "stream",
     "text": [
      "03-01-04-02-01-02-07.wav\n",
      "03-01-04-02-02-01-07.wav\n"
     ]
    },
    {
     "name": "stderr",
     "output_type": "stream",
     "text": [
      "<ipython-input-6-2161fc353d88>:20: FutureWarning: Pass y=[ 0.00030518  0.0005188   0.00036621 ... -0.00384521 -0.00387573\n",
      " -0.00393677] as keyword args. From version 0.10 passing these as positional arguments will result in an error\n",
      "  mel = np.mean(librosa.feature.melspectrogram(X, sr=sample_rate).T,axis=0)\n"
     ]
    },
    {
     "name": "stdout",
     "output_type": "stream",
     "text": [
      "03-01-04-02-02-02-07.wav\n",
      "03-01-05-01-01-01-07.wav\n"
     ]
    },
    {
     "name": "stderr",
     "output_type": "stream",
     "text": [
      "<ipython-input-6-2161fc353d88>:20: FutureWarning: Pass y=[ 0.0000000e+00  3.0517578e-05  3.0517578e-05 ... -8.2397461e-04\n",
      " -7.9345703e-04 -8.2397461e-04] as keyword args. From version 0.10 passing these as positional arguments will result in an error\n",
      "  mel = np.mean(librosa.feature.melspectrogram(X, sr=sample_rate).T,axis=0)\n"
     ]
    },
    {
     "name": "stdout",
     "output_type": "stream",
     "text": [
      "03-01-05-01-01-02-07.wav\n"
     ]
    },
    {
     "name": "stderr",
     "output_type": "stream",
     "text": [
      "<ipython-input-6-2161fc353d88>:20: FutureWarning: Pass y=[ 6.1035156e-05  6.1035156e-05  9.1552734e-05 ... -2.1667480e-03\n",
      " -2.1667480e-03 -2.1972656e-03] as keyword args. From version 0.10 passing these as positional arguments will result in an error\n",
      "  mel = np.mean(librosa.feature.melspectrogram(X, sr=sample_rate).T,axis=0)\n"
     ]
    },
    {
     "name": "stdout",
     "output_type": "stream",
     "text": [
      "03-01-05-01-02-01-07.wav\n",
      "03-01-05-01-02-02-07.wav\n",
      "03-01-05-02-01-01-07.wav\n",
      "03-01-05-02-01-02-07.wav\n"
     ]
    },
    {
     "name": "stderr",
     "output_type": "stream",
     "text": [
      "<ipython-input-6-2161fc353d88>:20: FutureWarning: Pass y=[-0.00061035 -0.00064087 -0.00061035 ...  0.00231934  0.00228882\n",
      "  0.0022583 ] as keyword args. From version 0.10 passing these as positional arguments will result in an error\n",
      "  mel = np.mean(librosa.feature.melspectrogram(X, sr=sample_rate).T,axis=0)\n",
      "<ipython-input-6-2161fc353d88>:20: FutureWarning: Pass y=[ 0.00012207  0.00012207  0.00012207 ... -0.00210571 -0.00201416\n",
      " -0.00201416] as keyword args. From version 0.10 passing these as positional arguments will result in an error\n",
      "  mel = np.mean(librosa.feature.melspectrogram(X, sr=sample_rate).T,axis=0)\n"
     ]
    },
    {
     "name": "stdout",
     "output_type": "stream",
     "text": [
      "03-01-05-02-02-01-07.wav\n",
      "03-01-05-02-02-02-07.wav\n"
     ]
    },
    {
     "name": "stderr",
     "output_type": "stream",
     "text": [
      "<ipython-input-6-2161fc353d88>:20: FutureWarning: Pass y=[-6.1035156e-05 -6.1035156e-05 -6.1035156e-05 ...  0.0000000e+00\n",
      "  3.0517578e-05  0.0000000e+00] as keyword args. From version 0.10 passing these as positional arguments will result in an error\n",
      "  mel = np.mean(librosa.feature.melspectrogram(X, sr=sample_rate).T,axis=0)\n",
      "<ipython-input-6-2161fc353d88>:20: FutureWarning: Pass y=[ 3.0517578e-05  3.0517578e-05  3.0517578e-05 ... -3.6621094e-04\n",
      " -3.0517578e-04 -3.0517578e-04] as keyword args. From version 0.10 passing these as positional arguments will result in an error\n",
      "  mel = np.mean(librosa.feature.melspectrogram(X, sr=sample_rate).T,axis=0)\n",
      "<ipython-input-6-2161fc353d88>:20: FutureWarning: Pass y=[-0.00012207 -0.00018311 -0.00015259 ...  0.          0.\n",
      "  0.        ] as keyword args. From version 0.10 passing these as positional arguments will result in an error\n",
      "  mel = np.mean(librosa.feature.melspectrogram(X, sr=sample_rate).T,axis=0)\n"
     ]
    },
    {
     "name": "stdout",
     "output_type": "stream",
     "text": [
      "03-01-06-01-01-01-07.wav\n",
      "03-01-06-01-01-02-07.wav\n",
      "03-01-06-01-02-01-07.wav\n",
      "03-01-06-01-02-02-07.wav\n",
      "03-01-06-02-01-01-07.wav\n",
      "03-01-06-02-01-02-07.wav\n",
      "03-01-06-02-02-01-07.wav\n",
      "03-01-06-02-02-02-07.wav\n",
      "03-01-07-01-01-01-07.wav\n",
      "03-01-07-01-01-02-07.wav\n",
      "03-01-07-01-02-01-07.wav\n",
      "03-01-07-01-02-02-07.wav\n",
      "03-01-07-02-01-01-07.wav\n",
      "03-01-07-02-01-02-07.wav\n",
      "03-01-07-02-02-01-07.wav\n",
      "03-01-07-02-02-02-07.wav\n",
      "03-01-08-01-01-01-07.wav\n",
      "03-01-08-01-01-02-07.wav\n",
      "03-01-08-01-02-01-07.wav\n",
      "03-01-08-01-02-02-07.wav\n",
      "03-01-08-02-01-01-07.wav\n",
      "03-01-08-02-01-02-07.wav\n",
      "03-01-08-02-02-01-07.wav\n",
      "03-01-08-02-02-02-07.wav\n",
      "03-01-01-01-01-01-08.wav\n",
      "03-01-01-01-01-02-08.wav\n"
     ]
    },
    {
     "name": "stderr",
     "output_type": "stream",
     "text": [
      "<ipython-input-6-2161fc353d88>:20: FutureWarning: Pass y=[1.2207031e-04 9.1552734e-05 9.1552734e-05 ... 0.0000000e+00 0.0000000e+00\n",
      " 0.0000000e+00] as keyword args. From version 0.10 passing these as positional arguments will result in an error\n",
      "  mel = np.mean(librosa.feature.melspectrogram(X, sr=sample_rate).T,axis=0)\n"
     ]
    },
    {
     "name": "stdout",
     "output_type": "stream",
     "text": [
      "03-01-01-01-02-01-08.wav\n",
      "03-01-01-01-02-02-08.wav\n"
     ]
    },
    {
     "name": "stderr",
     "output_type": "stream",
     "text": [
      "<ipython-input-6-2161fc353d88>:20: FutureWarning: Pass y=[0.00018311 0.00018311 0.00021362 ... 0.         0.         0.        ] as keyword args. From version 0.10 passing these as positional arguments will result in an error\n",
      "  mel = np.mean(librosa.feature.melspectrogram(X, sr=sample_rate).T,axis=0)\n",
      "<ipython-input-6-2161fc353d88>:20: FutureWarning: Pass y=[6.1035156e-05 6.1035156e-05 6.1035156e-05 ... 6.1035156e-05 6.1035156e-05\n",
      " 6.1035156e-05] as keyword args. From version 0.10 passing these as positional arguments will result in an error\n",
      "  mel = np.mean(librosa.feature.melspectrogram(X, sr=sample_rate).T,axis=0)\n"
     ]
    },
    {
     "name": "stdout",
     "output_type": "stream",
     "text": [
      "03-01-02-01-01-01-08.wav\n",
      "03-01-02-01-01-02-08.wav\n",
      "03-01-02-01-02-01-08.wav\n",
      "03-01-02-01-02-02-08.wav\n",
      "03-01-02-02-01-01-08.wav\n",
      "03-01-02-02-01-02-08.wav\n",
      "03-01-02-02-02-01-08.wav\n",
      "03-01-02-02-02-02-08.wav\n",
      "03-01-03-01-01-01-08.wav\n",
      "03-01-03-01-01-02-08.wav\n",
      "03-01-03-01-02-01-08.wav\n",
      "03-01-03-01-02-02-08.wav\n"
     ]
    },
    {
     "name": "stderr",
     "output_type": "stream",
     "text": [
      "<ipython-input-6-2161fc353d88>:20: FutureWarning: Pass y=[ 3.0517578e-05  6.1035156e-05  6.1035156e-05 ... -1.5258789e-04\n",
      " -1.2207031e-04 -1.5258789e-04] as keyword args. From version 0.10 passing these as positional arguments will result in an error\n",
      "  mel = np.mean(librosa.feature.melspectrogram(X, sr=sample_rate).T,axis=0)\n"
     ]
    },
    {
     "name": "stdout",
     "output_type": "stream",
     "text": [
      "03-01-03-02-01-01-08.wav\n",
      "03-01-03-02-01-02-08.wav\n"
     ]
    },
    {
     "name": "stderr",
     "output_type": "stream",
     "text": [
      "<ipython-input-6-2161fc353d88>:20: FutureWarning: Pass y=[-9.1552734e-05 -9.1552734e-05 -6.1035156e-05 ...  0.0000000e+00\n",
      " -6.1035156e-05 -6.1035156e-05] as keyword args. From version 0.10 passing these as positional arguments will result in an error\n",
      "  mel = np.mean(librosa.feature.melspectrogram(X, sr=sample_rate).T,axis=0)\n",
      "<ipython-input-6-2161fc353d88>:20: FutureWarning: Pass y=[ 6.1035156e-05  6.1035156e-05  6.1035156e-05 ... -3.0517578e-05\n",
      " -3.0517578e-05  0.0000000e+00] as keyword args. From version 0.10 passing these as positional arguments will result in an error\n",
      "  mel = np.mean(librosa.feature.melspectrogram(X, sr=sample_rate).T,axis=0)\n"
     ]
    },
    {
     "name": "stdout",
     "output_type": "stream",
     "text": [
      "03-01-03-02-02-01-08.wav\n"
     ]
    },
    {
     "name": "stderr",
     "output_type": "stream",
     "text": [
      "<ipython-input-6-2161fc353d88>:20: FutureWarning: Pass y=[ 9.1552734e-05  9.1552734e-05  6.1035156e-05 ... -3.6621094e-04\n",
      " -3.6621094e-04 -3.6621094e-04] as keyword args. From version 0.10 passing these as positional arguments will result in an error\n",
      "  mel = np.mean(librosa.feature.melspectrogram(X, sr=sample_rate).T,axis=0)\n"
     ]
    },
    {
     "name": "stdout",
     "output_type": "stream",
     "text": [
      "03-01-03-02-02-02-08.wav\n",
      "03-01-04-01-01-01-08.wav\n"
     ]
    },
    {
     "name": "stderr",
     "output_type": "stream",
     "text": [
      "<ipython-input-6-2161fc353d88>:20: FutureWarning: Pass y=[-6.1035156e-05 -3.0517578e-05 -6.1035156e-05 ... -1.2207031e-04\n",
      " -1.2207031e-04 -1.5258789e-04] as keyword args. From version 0.10 passing these as positional arguments will result in an error\n",
      "  mel = np.mean(librosa.feature.melspectrogram(X, sr=sample_rate).T,axis=0)\n",
      "<ipython-input-6-2161fc353d88>:20: FutureWarning: Pass y=[2.1362305e-04 2.4414062e-04 2.7465820e-04 ... 9.1552734e-05 9.1552734e-05\n",
      " 9.1552734e-05] as keyword args. From version 0.10 passing these as positional arguments will result in an error\n",
      "  mel = np.mean(librosa.feature.melspectrogram(X, sr=sample_rate).T,axis=0)\n"
     ]
    },
    {
     "name": "stdout",
     "output_type": "stream",
     "text": [
      "03-01-04-01-01-02-08.wav\n",
      "03-01-04-01-02-01-08.wav\n"
     ]
    },
    {
     "name": "stderr",
     "output_type": "stream",
     "text": [
      "<ipython-input-6-2161fc353d88>:20: FutureWarning: Pass y=[0.0000000e+00 0.0000000e+00 0.0000000e+00 ... 6.1035156e-05 6.1035156e-05\n",
      " 6.1035156e-05] as keyword args. From version 0.10 passing these as positional arguments will result in an error\n",
      "  mel = np.mean(librosa.feature.melspectrogram(X, sr=sample_rate).T,axis=0)\n",
      "<ipython-input-6-2161fc353d88>:20: FutureWarning: Pass y=[ 0.0000000e+00  0.0000000e+00  0.0000000e+00 ... -9.1552734e-05\n",
      " -1.2207031e-04 -9.1552734e-05] as keyword args. From version 0.10 passing these as positional arguments will result in an error\n",
      "  mel = np.mean(librosa.feature.melspectrogram(X, sr=sample_rate).T,axis=0)\n"
     ]
    },
    {
     "name": "stdout",
     "output_type": "stream",
     "text": [
      "03-01-04-01-02-02-08.wav\n"
     ]
    },
    {
     "name": "stderr",
     "output_type": "stream",
     "text": [
      "<ipython-input-6-2161fc353d88>:20: FutureWarning: Pass y=[0.00012207 0.00012207 0.00015259 ... 0.00018311 0.00018311 0.00018311] as keyword args. From version 0.10 passing these as positional arguments will result in an error\n",
      "  mel = np.mean(librosa.feature.melspectrogram(X, sr=sample_rate).T,axis=0)\n",
      "<ipython-input-6-2161fc353d88>:20: FutureWarning: Pass y=[ 2.1362305e-04  1.8310547e-04  2.1362305e-04 ...  0.0000000e+00\n",
      " -6.1035156e-05 -1.2207031e-04] as keyword args. From version 0.10 passing these as positional arguments will result in an error\n",
      "  mel = np.mean(librosa.feature.melspectrogram(X, sr=sample_rate).T,axis=0)\n"
     ]
    },
    {
     "name": "stdout",
     "output_type": "stream",
     "text": [
      "03-01-04-02-01-01-08.wav\n",
      "03-01-04-02-01-02-08.wav\n"
     ]
    },
    {
     "name": "stderr",
     "output_type": "stream",
     "text": [
      "<ipython-input-6-2161fc353d88>:20: FutureWarning: Pass y=[0.         0.         0.         ... 0.00076294 0.00079346 0.00079346] as keyword args. From version 0.10 passing these as positional arguments will result in an error\n",
      "  mel = np.mean(librosa.feature.melspectrogram(X, sr=sample_rate).T,axis=0)\n"
     ]
    },
    {
     "name": "stdout",
     "output_type": "stream",
     "text": [
      "03-01-04-02-02-01-08.wav\n"
     ]
    },
    {
     "name": "stderr",
     "output_type": "stream",
     "text": [
      "<ipython-input-6-2161fc353d88>:20: FutureWarning: Pass y=[0.0000000e+00 0.0000000e+00 0.0000000e+00 ... 6.1035156e-05 6.1035156e-05\n",
      " 9.1552734e-05] as keyword args. From version 0.10 passing these as positional arguments will result in an error\n",
      "  mel = np.mean(librosa.feature.melspectrogram(X, sr=sample_rate).T,axis=0)\n"
     ]
    },
    {
     "name": "stdout",
     "output_type": "stream",
     "text": [
      "03-01-04-02-02-02-08.wav\n",
      "03-01-05-01-01-01-08.wav"
     ]
    },
    {
     "name": "stderr",
     "output_type": "stream",
     "text": [
      "<ipython-input-6-2161fc353d88>:20: FutureWarning: Pass y=[0.         0.         0.         ... 0.00231934 0.00228882 0.00222778] as keyword args. From version 0.10 passing these as positional arguments will result in an error\n",
      "  mel = np.mean(librosa.feature.melspectrogram(X, sr=sample_rate).T,axis=0)\n"
     ]
    },
    {
     "name": "stdout",
     "output_type": "stream",
     "text": [
      "\n"
     ]
    },
    {
     "name": "stderr",
     "output_type": "stream",
     "text": [
      "<ipython-input-6-2161fc353d88>:20: FutureWarning: Pass y=[-6.1035156e-05 -6.1035156e-05 -6.1035156e-05 ...  2.1362305e-04\n",
      "  4.2724609e-04  5.7983398e-04] as keyword args. From version 0.10 passing these as positional arguments will result in an error\n",
      "  mel = np.mean(librosa.feature.melspectrogram(X, sr=sample_rate).T,axis=0)\n"
     ]
    },
    {
     "name": "stdout",
     "output_type": "stream",
     "text": [
      "03-01-05-01-01-02-08.wav\n",
      "03-01-05-01-02-01-08.wav"
     ]
    },
    {
     "name": "stderr",
     "output_type": "stream",
     "text": [
      "<ipython-input-6-2161fc353d88>:20: FutureWarning: Pass y=[ 0.0000000e+00  0.0000000e+00 -3.0517578e-05 ... -2.6245117e-03\n",
      " -2.1667480e-03 -2.3803711e-03] as keyword args. From version 0.10 passing these as positional arguments will result in an error\n",
      "  mel = np.mean(librosa.feature.melspectrogram(X, sr=sample_rate).T,axis=0)\n",
      "<ipython-input-6-2161fc353d88>:20: FutureWarning: Pass y=[-9.1552734e-05 -9.1552734e-05 -9.1552734e-05 ...  1.8310547e-04\n",
      "  2.1362305e-04  1.8310547e-04] as keyword args. From version 0.10 passing these as positional arguments will result in an error\n",
      "  mel = np.mean(librosa.feature.melspectrogram(X, sr=sample_rate).T,axis=0)\n"
     ]
    },
    {
     "name": "stdout",
     "output_type": "stream",
     "text": [
      "\n",
      "03-01-05-01-02-02-08.wav\n"
     ]
    },
    {
     "name": "stderr",
     "output_type": "stream",
     "text": [
      "<ipython-input-6-2161fc353d88>:20: FutureWarning: Pass y=[-0.00018311 -0.00018311 -0.00021362 ...  0.00021362  0.00021362\n",
      "  0.00012207] as keyword args. From version 0.10 passing these as positional arguments will result in an error\n",
      "  mel = np.mean(librosa.feature.melspectrogram(X, sr=sample_rate).T,axis=0)\n",
      "<ipython-input-6-2161fc353d88>:20: FutureWarning: Pass y=[ 0.00018311  0.00018311  0.00015259 ... -0.00015259 -0.00015259\n",
      " -0.00018311] as keyword args. From version 0.10 passing these as positional arguments will result in an error\n",
      "  mel = np.mean(librosa.feature.melspectrogram(X, sr=sample_rate).T,axis=0)\n"
     ]
    },
    {
     "name": "stdout",
     "output_type": "stream",
     "text": [
      "03-01-05-02-01-01-08.wav\n",
      "03-01-05-02-01-02-08.wav"
     ]
    },
    {
     "name": "stderr",
     "output_type": "stream",
     "text": [
      "<ipython-input-6-2161fc353d88>:20: FutureWarning: Pass y=[0.0000000e+00 0.0000000e+00 0.0000000e+00 ... 3.0517578e-05 3.0517578e-05\n",
      " 3.0517578e-05] as keyword args. From version 0.10 passing these as positional arguments will result in an error\n",
      "  mel = np.mean(librosa.feature.melspectrogram(X, sr=sample_rate).T,axis=0)\n"
     ]
    },
    {
     "name": "stdout",
     "output_type": "stream",
     "text": [
      "\n",
      "03-01-05-02-02-01-08.wav\n"
     ]
    },
    {
     "name": "stderr",
     "output_type": "stream",
     "text": [
      "<ipython-input-6-2161fc353d88>:20: FutureWarning: Pass y=[1.5258789e-04 9.1552734e-05 1.2207031e-04 ... 0.0000000e+00 0.0000000e+00\n",
      " 0.0000000e+00] as keyword args. From version 0.10 passing these as positional arguments will result in an error\n",
      "  mel = np.mean(librosa.feature.melspectrogram(X, sr=sample_rate).T,axis=0)\n"
     ]
    },
    {
     "name": "stdout",
     "output_type": "stream",
     "text": [
      "03-01-05-02-02-02-08.wav\n",
      "03-01-06-01-01-01-08.wav\n",
      "03-01-06-01-01-02-08.wav\n",
      "03-01-06-01-02-01-08.wav\n",
      "03-01-06-01-02-02-08.wav\n",
      "03-01-06-02-01-01-08.wav\n",
      "03-01-06-02-01-02-08.wav\n",
      "03-01-06-02-02-01-08.wav\n",
      "03-01-06-02-02-02-08.wav\n",
      "03-01-07-01-01-01-08.wav\n",
      "03-01-07-01-01-02-08.wav\n",
      "03-01-07-01-02-01-08.wav\n",
      "03-01-07-01-02-02-08.wav\n",
      "03-01-07-02-01-01-08.wav\n",
      "03-01-07-02-01-02-08.wav\n",
      "03-01-07-02-02-01-08.wav\n"
     ]
    },
    {
     "name": "stderr",
     "output_type": "stream",
     "text": [
      "<ipython-input-6-2161fc353d88>:20: FutureWarning: Pass y=[1.8310547e-04 1.5258789e-04 2.1362305e-04 ... 3.0517578e-05 3.0517578e-05\n",
      " 3.0517578e-05] as keyword args. From version 0.10 passing these as positional arguments will result in an error\n",
      "  mel = np.mean(librosa.feature.melspectrogram(X, sr=sample_rate).T,axis=0)\n",
      "<ipython-input-6-2161fc353d88>:20: FutureWarning: Pass y=[ 8.8500977e-04  8.5449219e-04  8.5449219e-04 ... -6.1035156e-05\n",
      " -3.0517578e-05 -3.0517578e-05] as keyword args. From version 0.10 passing these as positional arguments will result in an error\n",
      "  mel = np.mean(librosa.feature.melspectrogram(X, sr=sample_rate).T,axis=0)\n"
     ]
    },
    {
     "name": "stdout",
     "output_type": "stream",
     "text": [
      "03-01-07-02-02-02-08.wav\n",
      "03-01-08-01-01-01-08.wav\n",
      "03-01-08-01-01-02-08.wav\n",
      "03-01-08-01-02-01-08.wav\n",
      "03-01-08-01-02-02-08.wav\n",
      "03-01-08-02-01-01-08.wav\n",
      "03-01-08-02-01-02-08.wav\n",
      "03-01-08-02-02-01-08.wav\n",
      "03-01-08-02-02-02-08.wav\n",
      "03-01-01-01-01-01-09.wav\n",
      "03-01-01-01-01-02-09.wav\n",
      "03-01-01-01-02-01-09.wav\n",
      "03-01-01-01-02-02-09.wav\n",
      "03-01-02-01-01-01-09.wav\n",
      "03-01-02-01-01-02-09.wav\n",
      "03-01-02-01-02-01-09.wav\n",
      "03-01-02-01-02-02-09.wav\n",
      "03-01-02-02-01-01-09.wav\n",
      "03-01-02-02-01-02-09.wav\n",
      "03-01-02-02-02-01-09.wav\n",
      "03-01-02-02-02-02-09.wav\n",
      "03-01-03-01-01-01-09.wav\n",
      "03-01-03-01-01-02-09.wav\n"
     ]
    },
    {
     "name": "stderr",
     "output_type": "stream",
     "text": [
      "<ipython-input-6-2161fc353d88>:20: FutureWarning: Pass y=[ 9.1552734e-05  1.2207031e-04  9.1552734e-05 ... -3.0517578e-05\n",
      "  0.0000000e+00  0.0000000e+00] as keyword args. From version 0.10 passing these as positional arguments will result in an error\n",
      "  mel = np.mean(librosa.feature.melspectrogram(X, sr=sample_rate).T,axis=0)\n"
     ]
    },
    {
     "name": "stdout",
     "output_type": "stream",
     "text": [
      "03-01-03-01-02-01-09.wav\n",
      "03-01-03-01-02-02-09.wav\n",
      "03-01-03-02-01-01-09.wav\n",
      "03-01-03-02-01-02-09.wav\n"
     ]
    },
    {
     "name": "stderr",
     "output_type": "stream",
     "text": [
      "<ipython-input-6-2161fc353d88>:20: FutureWarning: Pass y=[0.00067139 0.0007019  0.00067139 ... 0.         0.         0.        ] as keyword args. From version 0.10 passing these as positional arguments will result in an error\n",
      "  mel = np.mean(librosa.feature.melspectrogram(X, sr=sample_rate).T,axis=0)\n",
      "<ipython-input-6-2161fc353d88>:20: FutureWarning: Pass y=[-6.1035156e-05 -6.1035156e-05 -6.1035156e-05 ... -9.1552734e-05\n",
      " -6.1035156e-05 -9.1552734e-05] as keyword args. From version 0.10 passing these as positional arguments will result in an error\n",
      "  mel = np.mean(librosa.feature.melspectrogram(X, sr=sample_rate).T,axis=0)\n",
      "<ipython-input-6-2161fc353d88>:20: FutureWarning: Pass y=[ 0.0000000e+00  0.0000000e+00  0.0000000e+00 ... -6.1035156e-05\n",
      " -6.1035156e-05 -9.1552734e-05] as keyword args. From version 0.10 passing these as positional arguments will result in an error\n",
      "  mel = np.mean(librosa.feature.melspectrogram(X, sr=sample_rate).T,axis=0)\n"
     ]
    },
    {
     "name": "stdout",
     "output_type": "stream",
     "text": [
      "03-01-03-02-02-01-09.wav\n",
      "03-01-03-02-02-02-09.wav\n"
     ]
    },
    {
     "name": "stderr",
     "output_type": "stream",
     "text": [
      "<ipython-input-6-2161fc353d88>:20: FutureWarning: Pass y=[-1.2207031e-04 -3.0517578e-05  0.0000000e+00 ... -9.1552734e-05\n",
      "  0.0000000e+00 -1.8310547e-04] as keyword args. From version 0.10 passing these as positional arguments will result in an error\n",
      "  mel = np.mean(librosa.feature.melspectrogram(X, sr=sample_rate).T,axis=0)\n"
     ]
    },
    {
     "name": "stdout",
     "output_type": "stream",
     "text": [
      "03-01-04-01-01-01-09.wav\n",
      "03-01-04-01-01-02-09.wav\n",
      "03-01-04-01-02-01-09.wav\n"
     ]
    },
    {
     "name": "stderr",
     "output_type": "stream",
     "text": [
      "<ipython-input-6-2161fc353d88>:20: FutureWarning: Pass y=[ 0.0000000e+00  0.0000000e+00 -3.0517578e-05 ... -3.0517578e-05\n",
      "  0.0000000e+00  0.0000000e+00] as keyword args. From version 0.10 passing these as positional arguments will result in an error\n",
      "  mel = np.mean(librosa.feature.melspectrogram(X, sr=sample_rate).T,axis=0)\n",
      "<ipython-input-6-2161fc353d88>:20: FutureWarning: Pass y=[ 0.0000000e+00  0.0000000e+00  0.0000000e+00 ... -6.1035156e-05\n",
      " -6.1035156e-05 -3.0517578e-05] as keyword args. From version 0.10 passing these as positional arguments will result in an error\n",
      "  mel = np.mean(librosa.feature.melspectrogram(X, sr=sample_rate).T,axis=0)\n"
     ]
    },
    {
     "name": "stdout",
     "output_type": "stream",
     "text": [
      "03-01-04-01-02-02-09.wav\n",
      "03-01-04-02-01-01-09.wav\n",
      "03-01-04-02-01-02-09.wav\n"
     ]
    },
    {
     "name": "stderr",
     "output_type": "stream",
     "text": [
      "<ipython-input-6-2161fc353d88>:20: FutureWarning: Pass y=[-3.0517578e-05  0.0000000e+00  0.0000000e+00 ...  0.0000000e+00\n",
      "  3.0517578e-05  0.0000000e+00] as keyword args. From version 0.10 passing these as positional arguments will result in an error\n",
      "  mel = np.mean(librosa.feature.melspectrogram(X, sr=sample_rate).T,axis=0)\n"
     ]
    },
    {
     "name": "stdout",
     "output_type": "stream",
     "text": [
      "03-01-04-02-02-01-09.wav\n",
      "03-01-04-02-02-02-09.wav\n",
      "03-01-05-01-01-01-09.wav\n",
      "03-01-05-01-01-02-09.wav\n"
     ]
    },
    {
     "name": "stderr",
     "output_type": "stream",
     "text": [
      "<ipython-input-6-2161fc353d88>:20: FutureWarning: Pass y=[0.0000000e+00 0.0000000e+00 0.0000000e+00 ... 3.0517578e-05 3.0517578e-05\n",
      " 6.1035156e-05] as keyword args. From version 0.10 passing these as positional arguments will result in an error\n",
      "  mel = np.mean(librosa.feature.melspectrogram(X, sr=sample_rate).T,axis=0)\n"
     ]
    },
    {
     "name": "stdout",
     "output_type": "stream",
     "text": [
      "03-01-05-01-02-01-09.wav\n",
      "03-01-05-01-02-02-09.wav\n"
     ]
    },
    {
     "name": "stderr",
     "output_type": "stream",
     "text": [
      "<ipython-input-6-2161fc353d88>:20: FutureWarning: Pass y=[ 0.          0.          0.         ... -0.00012207 -0.00012207\n",
      " -0.00018311] as keyword args. From version 0.10 passing these as positional arguments will result in an error\n",
      "  mel = np.mean(librosa.feature.melspectrogram(X, sr=sample_rate).T,axis=0)\n",
      "<ipython-input-6-2161fc353d88>:20: FutureWarning: Pass y=[ 3.0517578e-05  0.0000000e+00  3.0517578e-05 ... -2.4414062e-04\n",
      " -3.3569336e-04 -1.8310547e-04] as keyword args. From version 0.10 passing these as positional arguments will result in an error\n",
      "  mel = np.mean(librosa.feature.melspectrogram(X, sr=sample_rate).T,axis=0)\n"
     ]
    },
    {
     "name": "stdout",
     "output_type": "stream",
     "text": [
      "03-01-05-02-01-01-09.wav\n",
      "03-01-05-02-01-02-09.wav\n"
     ]
    },
    {
     "name": "stderr",
     "output_type": "stream",
     "text": [
      "<ipython-input-6-2161fc353d88>:20: FutureWarning: Pass y=[ 3.0517578e-05  3.0517578e-05  0.0000000e+00 ... -2.4414062e-04\n",
      " -2.4414062e-04 -1.2207031e-04] as keyword args. From version 0.10 passing these as positional arguments will result in an error\n",
      "  mel = np.mean(librosa.feature.melspectrogram(X, sr=sample_rate).T,axis=0)\n",
      "<ipython-input-6-2161fc353d88>:20: FutureWarning: Pass y=[9.1552734e-05 9.1552734e-05 1.2207031e-04 ... 1.5258789e-04 1.5258789e-04\n",
      " 1.5258789e-04] as keyword args. From version 0.10 passing these as positional arguments will result in an error\n",
      "  mel = np.mean(librosa.feature.melspectrogram(X, sr=sample_rate).T,axis=0)\n"
     ]
    },
    {
     "name": "stdout",
     "output_type": "stream",
     "text": [
      "03-01-05-02-02-01-09.wav\n"
     ]
    },
    {
     "name": "stderr",
     "output_type": "stream",
     "text": [
      "<ipython-input-6-2161fc353d88>:20: FutureWarning: Pass y=[ 0.00018311  0.00033569  0.00042725 ... -0.00027466 -0.00033569\n",
      " -0.00036621] as keyword args. From version 0.10 passing these as positional arguments will result in an error\n",
      "  mel = np.mean(librosa.feature.melspectrogram(X, sr=sample_rate).T,axis=0)\n"
     ]
    },
    {
     "name": "stdout",
     "output_type": "stream",
     "text": [
      "03-01-05-02-02-02-09.wav\n",
      "03-01-06-01-01-01-09.wav"
     ]
    },
    {
     "name": "stderr",
     "output_type": "stream",
     "text": [
      "<ipython-input-6-2161fc353d88>:20: FutureWarning: Pass y=[6.1035156e-05 3.0517578e-05 6.1035156e-05 ... 3.0517578e-05 0.0000000e+00\n",
      " 3.0517578e-05] as keyword args. From version 0.10 passing these as positional arguments will result in an error\n",
      "  mel = np.mean(librosa.feature.melspectrogram(X, sr=sample_rate).T,axis=0)\n"
     ]
    },
    {
     "name": "stdout",
     "output_type": "stream",
     "text": [
      "\n",
      "03-01-06-01-01-02-09.wav\n",
      "03-01-06-01-02-01-09.wav\n",
      "03-01-06-01-02-02-09.wav\n",
      "03-01-06-02-01-01-09.wav\n",
      "03-01-06-02-01-02-09.wav\n",
      "03-01-06-02-02-01-09.wav\n",
      "03-01-06-02-02-02-09.wav\n",
      "03-01-07-01-01-01-09.wav\n",
      "03-01-07-01-01-02-09.wav\n",
      "03-01-07-01-02-01-09.wav\n",
      "03-01-07-01-02-02-09.wav\n",
      "03-01-07-02-01-01-09.wav\n",
      "03-01-07-02-01-02-09.wav\n",
      "03-01-07-02-02-01-09.wav\n",
      "03-01-07-02-02-02-09.wav\n",
      "03-01-08-01-01-01-09.wav\n",
      "03-01-08-01-01-02-09.wav\n",
      "03-01-08-01-02-01-09.wav\n",
      "03-01-08-01-02-02-09.wav\n",
      "03-01-08-02-01-01-09.wav\n",
      "03-01-08-02-01-02-09.wav\n",
      "03-01-08-02-02-01-09.wav\n",
      "03-01-08-02-02-02-09.wav\n",
      "03-01-01-01-01-01-10.wav\n",
      "03-01-01-01-01-02-10.wav\n"
     ]
    },
    {
     "name": "stderr",
     "output_type": "stream",
     "text": [
      "<ipython-input-6-2161fc353d88>:20: FutureWarning: Pass y=[ 3.0517578e-05 -6.1035156e-05 -6.1035156e-05 ...  6.1035156e-05\n",
      "  9.1552734e-05  6.1035156e-05] as keyword args. From version 0.10 passing these as positional arguments will result in an error\n",
      "  mel = np.mean(librosa.feature.melspectrogram(X, sr=sample_rate).T,axis=0)\n",
      "<ipython-input-6-2161fc353d88>:20: FutureWarning: Pass y=[-6.1035156e-05 -3.0517578e-05 -6.1035156e-05 ... -6.1035156e-05\n",
      " -3.0517578e-05  0.0000000e+00] as keyword args. From version 0.10 passing these as positional arguments will result in an error\n",
      "  mel = np.mean(librosa.feature.melspectrogram(X, sr=sample_rate).T,axis=0)\n"
     ]
    },
    {
     "name": "stdout",
     "output_type": "stream",
     "text": [
      "03-01-01-01-02-01-10.wav\n"
     ]
    },
    {
     "name": "stderr",
     "output_type": "stream",
     "text": [
      "<ipython-input-6-2161fc353d88>:20: FutureWarning: Pass y=[ 9.1552734e-05  9.1552734e-05  1.2207031e-04 ... -3.0517578e-05\n",
      "  0.0000000e+00  0.0000000e+00] as keyword args. From version 0.10 passing these as positional arguments will result in an error\n",
      "  mel = np.mean(librosa.feature.melspectrogram(X, sr=sample_rate).T,axis=0)\n"
     ]
    },
    {
     "name": "stdout",
     "output_type": "stream",
     "text": [
      "03-01-01-01-02-02-10.wav\n",
      "03-01-02-01-01-01-10.wav\n",
      "03-01-02-01-01-02-10.wav\n",
      "03-01-02-01-02-01-10.wav\n",
      "03-01-02-01-02-02-10.wav\n",
      "03-01-02-02-01-01-10.wav\n",
      "03-01-02-02-01-02-10.wav\n",
      "03-01-02-02-02-01-10.wav\n",
      "03-01-02-02-02-02-10.wav\n",
      "03-01-03-01-01-01-10.wav\n",
      "03-01-03-01-01-02-10.wav\n",
      "03-01-03-01-02-01-10.wav\n"
     ]
    },
    {
     "name": "stderr",
     "output_type": "stream",
     "text": [
      "<ipython-input-6-2161fc353d88>:20: FutureWarning: Pass y=[ 3.0517578e-05  3.0517578e-05  0.0000000e+00 ... -6.1035156e-05\n",
      " -9.1552734e-05 -6.1035156e-05] as keyword args. From version 0.10 passing these as positional arguments will result in an error\n",
      "  mel = np.mean(librosa.feature.melspectrogram(X, sr=sample_rate).T,axis=0)\n",
      "<ipython-input-6-2161fc353d88>:20: FutureWarning: Pass y=[ 0.0000000e+00  3.0517578e-05  0.0000000e+00 ... -3.0517578e-05\n",
      "  0.0000000e+00  6.1035156e-05] as keyword args. From version 0.10 passing these as positional arguments will result in an error\n",
      "  mel = np.mean(librosa.feature.melspectrogram(X, sr=sample_rate).T,axis=0)\n"
     ]
    },
    {
     "name": "stdout",
     "output_type": "stream",
     "text": [
      "03-01-03-01-02-02-10.wav\n",
      "03-01-03-02-01-01-10.wav\n"
     ]
    },
    {
     "name": "stderr",
     "output_type": "stream",
     "text": [
      "<ipython-input-6-2161fc353d88>:20: FutureWarning: Pass y=[-3.0517578e-05  0.0000000e+00  0.0000000e+00 ...  6.1035156e-05\n",
      " -2.7465820e-04 -4.2724609e-04] as keyword args. From version 0.10 passing these as positional arguments will result in an error\n",
      "  mel = np.mean(librosa.feature.melspectrogram(X, sr=sample_rate).T,axis=0)\n",
      "<ipython-input-6-2161fc353d88>:20: FutureWarning: Pass y=[-3.3569336e-04 -1.5258789e-04  0.0000000e+00 ...  9.1552734e-05\n",
      "  1.2207031e-04  9.1552734e-05] as keyword args. From version 0.10 passing these as positional arguments will result in an error\n",
      "  mel = np.mean(librosa.feature.melspectrogram(X, sr=sample_rate).T,axis=0)\n"
     ]
    },
    {
     "name": "stdout",
     "output_type": "stream",
     "text": [
      "03-01-03-02-01-02-10.wav\n"
     ]
    },
    {
     "name": "stderr",
     "output_type": "stream",
     "text": [
      "<ipython-input-6-2161fc353d88>:20: FutureWarning: Pass y=[-6.1035156e-05 -6.1035156e-05 -3.0517578e-05 ... -3.0517578e-05\n",
      " -6.1035156e-05 -3.0517578e-05] as keyword args. From version 0.10 passing these as positional arguments will result in an error\n",
      "  mel = np.mean(librosa.feature.melspectrogram(X, sr=sample_rate).T,axis=0)\n"
     ]
    },
    {
     "name": "stdout",
     "output_type": "stream",
     "text": [
      "03-01-03-02-02-01-10.wav\n"
     ]
    },
    {
     "name": "stderr",
     "output_type": "stream",
     "text": [
      "<ipython-input-6-2161fc353d88>:20: FutureWarning: Pass y=[ 3.0517578e-05  3.0517578e-05  3.0517578e-05 ... -6.1035156e-05\n",
      " -6.1035156e-05  0.0000000e+00] as keyword args. From version 0.10 passing these as positional arguments will result in an error\n",
      "  mel = np.mean(librosa.feature.melspectrogram(X, sr=sample_rate).T,axis=0)\n"
     ]
    },
    {
     "name": "stdout",
     "output_type": "stream",
     "text": [
      "03-01-03-02-02-02-10.wav\n"
     ]
    },
    {
     "name": "stderr",
     "output_type": "stream",
     "text": [
      "<ipython-input-6-2161fc353d88>:20: FutureWarning: Pass y=[ 0.0000000e+00 -3.0517578e-05 -3.0517578e-05 ...  3.0517578e-05\n",
      "  3.0517578e-05  0.0000000e+00] as keyword args. From version 0.10 passing these as positional arguments will result in an error\n",
      "  mel = np.mean(librosa.feature.melspectrogram(X, sr=sample_rate).T,axis=0)\n",
      "<ipython-input-6-2161fc353d88>:20: FutureWarning: Pass y=[ 9.1552734e-05  9.1552734e-05  9.1552734e-05 ... -9.1552734e-05\n",
      " -1.5258789e-04 -1.5258789e-04] as keyword args. From version 0.10 passing these as positional arguments will result in an error\n",
      "  mel = np.mean(librosa.feature.melspectrogram(X, sr=sample_rate).T,axis=0)\n"
     ]
    },
    {
     "name": "stdout",
     "output_type": "stream",
     "text": [
      "03-01-04-01-01-01-10.wav\n",
      "03-01-04-01-01-02-10.wav\n"
     ]
    },
    {
     "name": "stderr",
     "output_type": "stream",
     "text": [
      "<ipython-input-6-2161fc353d88>:20: FutureWarning: Pass y=[ 9.7656250e-04  1.6479492e-03  1.2207031e-03 ... -6.1035156e-05\n",
      " -3.0517578e-05 -3.0517578e-05] as keyword args. From version 0.10 passing these as positional arguments will result in an error\n",
      "  mel = np.mean(librosa.feature.melspectrogram(X, sr=sample_rate).T,axis=0)\n",
      "<ipython-input-6-2161fc353d88>:20: FutureWarning: Pass y=[-6.1035156e-05 -9.1552734e-05 -3.0517578e-05 ...  3.0517578e-05\n",
      "  0.0000000e+00  3.0517578e-05] as keyword args. From version 0.10 passing these as positional arguments will result in an error\n",
      "  mel = np.mean(librosa.feature.melspectrogram(X, sr=sample_rate).T,axis=0)\n"
     ]
    },
    {
     "name": "stdout",
     "output_type": "stream",
     "text": [
      "03-01-04-01-02-01-10.wav\n",
      "03-01-04-01-02-02-10.wav\n"
     ]
    },
    {
     "name": "stderr",
     "output_type": "stream",
     "text": [
      "<ipython-input-6-2161fc353d88>:20: FutureWarning: Pass y=[ 0.0000000e+00  0.0000000e+00 -6.1035156e-05 ...  0.0000000e+00\n",
      "  0.0000000e+00  3.0517578e-05] as keyword args. From version 0.10 passing these as positional arguments will result in an error\n",
      "  mel = np.mean(librosa.feature.melspectrogram(X, sr=sample_rate).T,axis=0)\n"
     ]
    },
    {
     "name": "stdout",
     "output_type": "stream",
     "text": [
      "03-01-04-02-01-01-10.wav\n"
     ]
    },
    {
     "name": "stderr",
     "output_type": "stream",
     "text": [
      "<ipython-input-6-2161fc353d88>:20: FutureWarning: Pass y=[ 3.0517578e-05  0.0000000e+00 -3.0517578e-05 ...  0.0000000e+00\n",
      "  0.0000000e+00  3.0517578e-05] as keyword args. From version 0.10 passing these as positional arguments will result in an error\n",
      "  mel = np.mean(librosa.feature.melspectrogram(X, sr=sample_rate).T,axis=0)\n"
     ]
    },
    {
     "name": "stdout",
     "output_type": "stream",
     "text": [
      "03-01-04-02-01-02-10.wav\n",
      "03-01-04-02-02-01-10.wav\n"
     ]
    },
    {
     "name": "stderr",
     "output_type": "stream",
     "text": [
      "<ipython-input-6-2161fc353d88>:20: FutureWarning: Pass y=[0.0000000e+00 9.1552734e-05 3.0517578e-05 ... 6.1035156e-05 0.0000000e+00\n",
      " 3.0517578e-05] as keyword args. From version 0.10 passing these as positional arguments will result in an error\n",
      "  mel = np.mean(librosa.feature.melspectrogram(X, sr=sample_rate).T,axis=0)\n",
      "<ipython-input-6-2161fc353d88>:20: FutureWarning: Pass y=[3.0517578e-04 3.6621094e-04 3.0517578e-04 ... 3.0517578e-05 0.0000000e+00\n",
      " 3.0517578e-05] as keyword args. From version 0.10 passing these as positional arguments will result in an error\n",
      "  mel = np.mean(librosa.feature.melspectrogram(X, sr=sample_rate).T,axis=0)\n"
     ]
    },
    {
     "name": "stdout",
     "output_type": "stream",
     "text": [
      "03-01-04-02-02-02-10.wav\n",
      "03-01-05-01-01-01-10.wav\n"
     ]
    },
    {
     "name": "stderr",
     "output_type": "stream",
     "text": [
      "<ipython-input-6-2161fc353d88>:20: FutureWarning: Pass y=[ 0.0000000e+00  3.0517578e-05  3.0517578e-05 ... -6.1035156e-05\n",
      " -3.0517578e-05 -6.1035156e-05] as keyword args. From version 0.10 passing these as positional arguments will result in an error\n",
      "  mel = np.mean(librosa.feature.melspectrogram(X, sr=sample_rate).T,axis=0)\n",
      "<ipython-input-6-2161fc353d88>:20: FutureWarning: Pass y=[-3.0517578e-05 -2.1362305e-04  0.0000000e+00 ...  0.0000000e+00\n",
      "  0.0000000e+00  0.0000000e+00] as keyword args. From version 0.10 passing these as positional arguments will result in an error\n",
      "  mel = np.mean(librosa.feature.melspectrogram(X, sr=sample_rate).T,axis=0)\n"
     ]
    },
    {
     "name": "stdout",
     "output_type": "stream",
     "text": [
      "03-01-05-01-01-02-10.wav\n",
      "03-01-05-01-02-01-10.wav\n"
     ]
    },
    {
     "name": "stderr",
     "output_type": "stream",
     "text": [
      "<ipython-input-6-2161fc353d88>:20: FutureWarning: Pass y=[ 0.0000000e+00  0.0000000e+00 -3.0517578e-05 ...  3.0517578e-05\n",
      "  3.0517578e-05  3.0517578e-05] as keyword args. From version 0.10 passing these as positional arguments will result in an error\n",
      "  mel = np.mean(librosa.feature.melspectrogram(X, sr=sample_rate).T,axis=0)\n"
     ]
    },
    {
     "name": "stdout",
     "output_type": "stream",
     "text": [
      "03-01-05-01-02-02-10.wav\n",
      "03-01-05-02-01-01-10.wav"
     ]
    },
    {
     "name": "stderr",
     "output_type": "stream",
     "text": [
      "<ipython-input-6-2161fc353d88>:20: FutureWarning: Pass y=[3.9672852e-04 6.4086914e-04 6.1035156e-04 ... 6.1035156e-05 3.0517578e-05\n",
      " 3.0517578e-05] as keyword args. From version 0.10 passing these as positional arguments will result in an error\n",
      "  mel = np.mean(librosa.feature.melspectrogram(X, sr=sample_rate).T,axis=0)\n",
      "<ipython-input-6-2161fc353d88>:20: FutureWarning: Pass y=[-9.1552734e-05  3.0517578e-05  1.2207031e-04 ...  0.0000000e+00\n",
      "  0.0000000e+00  3.0517578e-05] as keyword args. From version 0.10 passing these as positional arguments will result in an error\n",
      "  mel = np.mean(librosa.feature.melspectrogram(X, sr=sample_rate).T,axis=0)\n"
     ]
    },
    {
     "name": "stdout",
     "output_type": "stream",
     "text": [
      "\n",
      "03-01-05-02-01-02-10.wav\n",
      "03-01-05-02-02-01-10.wav\n"
     ]
    },
    {
     "name": "stderr",
     "output_type": "stream",
     "text": [
      "<ipython-input-6-2161fc353d88>:20: FutureWarning: Pass y=[0.00015259 0.00015259 0.00015259 ... 0.         0.         0.        ] as keyword args. From version 0.10 passing these as positional arguments will result in an error\n",
      "  mel = np.mean(librosa.feature.melspectrogram(X, sr=sample_rate).T,axis=0)\n",
      "<ipython-input-6-2161fc353d88>:20: FutureWarning: Pass y=[-3.0517578e-05 -3.0517578e-05  0.0000000e+00 ...  0.0000000e+00\n",
      " -3.0517578e-05  0.0000000e+00] as keyword args. From version 0.10 passing these as positional arguments will result in an error\n",
      "  mel = np.mean(librosa.feature.melspectrogram(X, sr=sample_rate).T,axis=0)\n"
     ]
    },
    {
     "name": "stdout",
     "output_type": "stream",
     "text": [
      "03-01-05-02-02-02-10.wav\n"
     ]
    },
    {
     "name": "stderr",
     "output_type": "stream",
     "text": [
      "<ipython-input-6-2161fc353d88>:20: FutureWarning: Pass y=[-1.2207031e-04 -9.1552734e-05  0.0000000e+00 ... -3.0517578e-05\n",
      "  0.0000000e+00  9.1552734e-05] as keyword args. From version 0.10 passing these as positional arguments will result in an error\n",
      "  mel = np.mean(librosa.feature.melspectrogram(X, sr=sample_rate).T,axis=0)\n",
      "<ipython-input-6-2161fc353d88>:20: FutureWarning: Pass y=[0.0000000e+00 0.0000000e+00 0.0000000e+00 ... 3.0517578e-05 6.1035156e-05\n",
      " 3.0517578e-05] as keyword args. From version 0.10 passing these as positional arguments will result in an error\n",
      "  mel = np.mean(librosa.feature.melspectrogram(X, sr=sample_rate).T,axis=0)\n"
     ]
    },
    {
     "name": "stdout",
     "output_type": "stream",
     "text": [
      "03-01-06-01-01-01-10.wav\n",
      "03-01-06-01-01-02-10.wav\n",
      "03-01-06-01-02-01-10.wav\n",
      "03-01-06-01-02-02-10.wav\n",
      "03-01-06-02-01-01-10.wav\n",
      "03-01-06-02-01-02-10.wav\n",
      "03-01-06-02-02-01-10.wav\n",
      "03-01-06-02-02-02-10.wav\n",
      "03-01-07-01-01-01-10.wav\n",
      "03-01-07-01-01-02-10.wav\n",
      "03-01-07-01-02-01-10.wav\n",
      "03-01-07-01-02-02-10.wav\n",
      "03-01-07-02-01-01-10.wav\n",
      "03-01-07-02-01-02-10.wav\n",
      "03-01-07-02-02-01-10.wav\n",
      "03-01-07-02-02-02-10.wav\n",
      "03-01-08-01-01-01-10.wav\n",
      "03-01-08-01-01-02-10.wav\n",
      "03-01-08-01-02-01-10.wav\n",
      "03-01-08-01-02-02-10.wav\n",
      "03-01-08-02-01-01-10.wav\n",
      "03-01-08-02-01-02-10.wav\n",
      "03-01-08-02-02-01-10.wav\n",
      "03-01-08-02-02-02-10.wav\n",
      "03-01-01-01-01-01-11.wav\n",
      "03-01-01-01-01-02-11.wav\n",
      "03-01-01-01-02-01-11.wav\n",
      "03-01-01-01-02-02-11.wav\n"
     ]
    },
    {
     "name": "stderr",
     "output_type": "stream",
     "text": [
      "<ipython-input-6-2161fc353d88>:20: FutureWarning: Pass y=[-6.1035156e-05 -6.1035156e-05 -6.1035156e-05 ...  4.5776367e-04\n",
      "  4.5776367e-04  4.5776367e-04] as keyword args. From version 0.10 passing these as positional arguments will result in an error\n",
      "  mel = np.mean(librosa.feature.melspectrogram(X, sr=sample_rate).T,axis=0)\n",
      "<ipython-input-6-2161fc353d88>:20: FutureWarning: Pass y=[-9.1552734e-05 -9.1552734e-05 -6.1035156e-05 ... -6.1035156e-05\n",
      " -6.1035156e-05 -3.0517578e-05] as keyword args. From version 0.10 passing these as positional arguments will result in an error\n",
      "  mel = np.mean(librosa.feature.melspectrogram(X, sr=sample_rate).T,axis=0)\n"
     ]
    },
    {
     "name": "stdout",
     "output_type": "stream",
     "text": [
      "03-01-02-01-01-01-11.wav\n",
      "03-01-02-01-01-02-11.wav\n",
      "03-01-02-01-02-01-11.wav\n",
      "03-01-02-01-02-02-11.wav\n",
      "03-01-02-02-01-01-11.wav\n",
      "03-01-02-02-01-02-11.wav\n",
      "03-01-02-02-02-01-11.wav\n",
      "03-01-02-02-02-02-11.wav\n",
      "03-01-03-01-01-01-11.wav\n",
      "03-01-03-01-01-02-11.wav\n"
     ]
    },
    {
     "name": "stderr",
     "output_type": "stream",
     "text": [
      "<ipython-input-6-2161fc353d88>:20: FutureWarning: Pass y=[ 3.0517578e-05  0.0000000e+00  3.0517578e-05 ... -3.0517578e-05\n",
      " -6.1035156e-05 -3.0517578e-05] as keyword args. From version 0.10 passing these as positional arguments will result in an error\n",
      "  mel = np.mean(librosa.feature.melspectrogram(X, sr=sample_rate).T,axis=0)\n",
      "<ipython-input-6-2161fc353d88>:20: FutureWarning: Pass y=[3.0517578e-05 3.0517578e-05 6.1035156e-05 ... 3.0517578e-05 6.1035156e-05\n",
      " 6.1035156e-05] as keyword args. From version 0.10 passing these as positional arguments will result in an error\n",
      "  mel = np.mean(librosa.feature.melspectrogram(X, sr=sample_rate).T,axis=0)\n"
     ]
    },
    {
     "name": "stdout",
     "output_type": "stream",
     "text": [
      "03-01-03-01-02-01-11.wav\n",
      "03-01-03-01-02-02-11.wav\n",
      "03-01-03-02-01-01-11.wav\n"
     ]
    },
    {
     "name": "stderr",
     "output_type": "stream",
     "text": [
      "<ipython-input-6-2161fc353d88>:20: FutureWarning: Pass y=[0.0000000e+00 0.0000000e+00 0.0000000e+00 ... 9.1552734e-05 9.1552734e-05\n",
      " 1.2207031e-04] as keyword args. From version 0.10 passing these as positional arguments will result in an error\n",
      "  mel = np.mean(librosa.feature.melspectrogram(X, sr=sample_rate).T,axis=0)\n"
     ]
    },
    {
     "name": "stdout",
     "output_type": "stream",
     "text": [
      "03-01-03-02-01-02-11.wav\n",
      "03-01-03-02-02-01-11.wav"
     ]
    },
    {
     "name": "stderr",
     "output_type": "stream",
     "text": [
      "<ipython-input-6-2161fc353d88>:20: FutureWarning: Pass y=[ 0.0000000e+00  0.0000000e+00 -3.0517578e-05 ...  1.8310547e-04\n",
      "  1.2207031e-04  9.1552734e-05] as keyword args. From version 0.10 passing these as positional arguments will result in an error\n",
      "  mel = np.mean(librosa.feature.melspectrogram(X, sr=sample_rate).T,axis=0)\n",
      "<ipython-input-6-2161fc353d88>:20: FutureWarning: Pass y=[3.0517578e-05 0.0000000e+00 0.0000000e+00 ... 9.1552734e-05 1.2207031e-04\n",
      " 9.1552734e-05] as keyword args. From version 0.10 passing these as positional arguments will result in an error\n",
      "  mel = np.mean(librosa.feature.melspectrogram(X, sr=sample_rate).T,axis=0)\n"
     ]
    },
    {
     "name": "stdout",
     "output_type": "stream",
     "text": [
      "\n",
      "03-01-03-02-02-02-11.wav\n"
     ]
    },
    {
     "name": "stderr",
     "output_type": "stream",
     "text": [
      "<ipython-input-6-2161fc353d88>:20: FutureWarning: Pass y=[0.00012207 0.00012207 0.00012207 ... 0.00018311 0.00018311 0.00018311] as keyword args. From version 0.10 passing these as positional arguments will result in an error\n",
      "  mel = np.mean(librosa.feature.melspectrogram(X, sr=sample_rate).T,axis=0)\n",
      "<ipython-input-6-2161fc353d88>:20: FutureWarning: Pass y=[ 1.2207031e-04  1.5258789e-04  1.5258789e-04 ... -6.1035156e-05\n",
      " -9.1552734e-05 -9.1552734e-05] as keyword args. From version 0.10 passing these as positional arguments will result in an error\n",
      "  mel = np.mean(librosa.feature.melspectrogram(X, sr=sample_rate).T,axis=0)\n"
     ]
    },
    {
     "name": "stdout",
     "output_type": "stream",
     "text": [
      "03-01-04-01-01-01-11.wav\n",
      "03-01-04-01-01-02-11.wav\n",
      "03-01-04-01-02-01-11.wav\n",
      "03-01-04-01-02-02-11.wav\n"
     ]
    },
    {
     "name": "stderr",
     "output_type": "stream",
     "text": [
      "<ipython-input-6-2161fc353d88>:20: FutureWarning: Pass y=[-6.1035156e-05 -9.1552734e-05 -3.0517578e-05 ...  0.0000000e+00\n",
      "  0.0000000e+00  0.0000000e+00] as keyword args. From version 0.10 passing these as positional arguments will result in an error\n",
      "  mel = np.mean(librosa.feature.melspectrogram(X, sr=sample_rate).T,axis=0)\n",
      "<ipython-input-6-2161fc353d88>:20: FutureWarning: Pass y=[-3.0517578e-05 -3.0517578e-05 -6.1035156e-05 ...  0.0000000e+00\n",
      "  0.0000000e+00  3.0517578e-05] as keyword args. From version 0.10 passing these as positional arguments will result in an error\n",
      "  mel = np.mean(librosa.feature.melspectrogram(X, sr=sample_rate).T,axis=0)\n"
     ]
    },
    {
     "name": "stdout",
     "output_type": "stream",
     "text": [
      "03-01-04-02-01-01-11.wav\n",
      "03-01-04-02-01-02-11.wav\n",
      "03-01-04-02-02-01-11.wav\n",
      "03-01-04-02-02-02-11.wav\n"
     ]
    },
    {
     "name": "stderr",
     "output_type": "stream",
     "text": [
      "<ipython-input-6-2161fc353d88>:20: FutureWarning: Pass y=[ 3.0517578e-05  0.0000000e+00  3.0517578e-05 ... -9.1552734e-05\n",
      " -9.1552734e-05 -9.1552734e-05] as keyword args. From version 0.10 passing these as positional arguments will result in an error\n",
      "  mel = np.mean(librosa.feature.melspectrogram(X, sr=sample_rate).T,axis=0)\n"
     ]
    },
    {
     "name": "stdout",
     "output_type": "stream",
     "text": [
      "03-01-05-01-01-01-11.wav\n",
      "03-01-05-01-01-02-11.wav\n"
     ]
    },
    {
     "name": "stderr",
     "output_type": "stream",
     "text": [
      "<ipython-input-6-2161fc353d88>:20: FutureWarning: Pass y=[6.1035156e-05 6.1035156e-05 9.1552734e-05 ... 3.0517578e-05 3.0517578e-05\n",
      " 3.0517578e-05] as keyword args. From version 0.10 passing these as positional arguments will result in an error\n",
      "  mel = np.mean(librosa.feature.melspectrogram(X, sr=sample_rate).T,axis=0)\n",
      "<ipython-input-6-2161fc353d88>:20: FutureWarning: Pass y=[ 0.0000000e+00  3.0517578e-05  0.0000000e+00 ... -3.0517578e-05\n",
      " -3.0517578e-05  0.0000000e+00] as keyword args. From version 0.10 passing these as positional arguments will result in an error\n",
      "  mel = np.mean(librosa.feature.melspectrogram(X, sr=sample_rate).T,axis=0)\n"
     ]
    },
    {
     "name": "stdout",
     "output_type": "stream",
     "text": [
      "03-01-05-01-02-01-11.wav\n",
      "03-01-05-01-02-02-11.wav"
     ]
    },
    {
     "name": "stderr",
     "output_type": "stream",
     "text": [
      "<ipython-input-6-2161fc353d88>:20: FutureWarning: Pass y=[-1.5258789e-04 -1.2207031e-04 -1.5258789e-04 ...  9.1552734e-05\n",
      "  1.2207031e-04  9.1552734e-05] as keyword args. From version 0.10 passing these as positional arguments will result in an error\n",
      "  mel = np.mean(librosa.feature.melspectrogram(X, sr=sample_rate).T,axis=0)\n"
     ]
    },
    {
     "name": "stdout",
     "output_type": "stream",
     "text": [
      "\n",
      "03-01-05-02-01-01-11.wav\n"
     ]
    },
    {
     "name": "stderr",
     "output_type": "stream",
     "text": [
      "<ipython-input-6-2161fc353d88>:20: FutureWarning: Pass y=[-3.0517578e-05 -6.1035156e-05 -3.0517578e-05 ...  6.1035156e-05\n",
      "  3.0517578e-05  6.1035156e-05] as keyword args. From version 0.10 passing these as positional arguments will result in an error\n",
      "  mel = np.mean(librosa.feature.melspectrogram(X, sr=sample_rate).T,axis=0)\n"
     ]
    },
    {
     "name": "stdout",
     "output_type": "stream",
     "text": [
      "03-01-05-02-01-02-11.wav\n",
      "03-01-05-02-02-01-11.wav\n"
     ]
    },
    {
     "name": "stderr",
     "output_type": "stream",
     "text": [
      "<ipython-input-6-2161fc353d88>:20: FutureWarning: Pass y=[ 0.          0.          0.         ... -0.00027466 -0.00027466\n",
      " -0.00027466] as keyword args. From version 0.10 passing these as positional arguments will result in an error\n",
      "  mel = np.mean(librosa.feature.melspectrogram(X, sr=sample_rate).T,axis=0)\n",
      "<ipython-input-6-2161fc353d88>:20: FutureWarning: Pass y=[-6.1035156e-05 -1.2207031e-04 -1.5258789e-04 ... -9.1552734e-05\n",
      " -9.1552734e-05 -1.2207031e-04] as keyword args. From version 0.10 passing these as positional arguments will result in an error\n",
      "  mel = np.mean(librosa.feature.melspectrogram(X, sr=sample_rate).T,axis=0)\n"
     ]
    },
    {
     "name": "stdout",
     "output_type": "stream",
     "text": [
      "03-01-05-02-02-02-11.wav\n",
      "03-01-06-01-01-01-11.wav\n",
      "03-01-06-01-01-02-11.wav\n",
      "03-01-06-01-02-01-11.wav\n",
      "03-01-06-01-02-02-11.wav\n",
      "03-01-06-02-01-01-11.wav\n",
      "03-01-06-02-01-02-11.wav\n",
      "03-01-06-02-02-01-11.wav\n",
      "03-01-06-02-02-02-11.wav\n",
      "03-01-07-01-01-01-11.wav\n",
      "03-01-07-01-01-02-11.wav\n",
      "03-01-07-01-02-01-11.wav\n",
      "03-01-07-01-02-02-11.wav\n",
      "03-01-07-02-01-01-11.wav\n",
      "03-01-07-02-01-02-11.wav\n",
      "03-01-07-02-02-01-11.wav\n",
      "03-01-07-02-02-02-11.wav\n",
      "03-01-08-01-01-01-11.wav\n",
      "03-01-08-01-01-02-11.wav\n",
      "03-01-08-01-02-01-11.wav\n",
      "03-01-08-01-02-02-11.wav\n",
      "03-01-08-02-01-01-11.wav\n",
      "03-01-08-02-01-02-11.wav\n",
      "03-01-08-02-02-01-11.wav\n",
      "03-01-08-02-02-02-11.wav\n",
      "03-01-01-01-01-01-12.wav\n",
      "03-01-01-01-01-02-12.wav\n",
      "03-01-01-01-02-01-12.wav\n",
      "03-01-01-01-02-02-12.wav\n",
      "03-01-02-01-01-01-12.wav\n",
      "03-01-02-01-01-02-12.wav\n",
      "03-01-02-01-02-01-12.wav\n",
      "03-01-02-01-02-02-12.wav\n",
      "03-01-02-02-01-01-12.wav\n",
      "03-01-02-02-01-02-12.wav\n",
      "03-01-02-02-02-01-12.wav\n",
      "03-01-02-02-02-02-12.wav\n",
      "03-01-03-01-01-01-12.wav\n",
      "03-01-03-01-01-02-12.wav\n"
     ]
    },
    {
     "name": "stderr",
     "output_type": "stream",
     "text": [
      "<ipython-input-6-2161fc353d88>:20: FutureWarning: Pass y=[ 3.0517578e-05  0.0000000e+00  0.0000000e+00 ... -3.0517578e-05\n",
      "  0.0000000e+00  3.0517578e-05] as keyword args. From version 0.10 passing these as positional arguments will result in an error\n",
      "  mel = np.mean(librosa.feature.melspectrogram(X, sr=sample_rate).T,axis=0)\n"
     ]
    },
    {
     "name": "stdout",
     "output_type": "stream",
     "text": [
      "03-01-03-01-02-01-12.wav\n",
      "03-01-03-01-02-02-12.wav\n"
     ]
    },
    {
     "name": "stderr",
     "output_type": "stream",
     "text": [
      "<ipython-input-6-2161fc353d88>:20: FutureWarning: Pass y=[0.0000000e+00 0.0000000e+00 0.0000000e+00 ... 3.0517578e-05 3.0517578e-05\n",
      " 9.1552734e-05] as keyword args. From version 0.10 passing these as positional arguments will result in an error\n",
      "  mel = np.mean(librosa.feature.melspectrogram(X, sr=sample_rate).T,axis=0)\n",
      "<ipython-input-6-2161fc353d88>:20: FutureWarning: Pass y=[ 0.0000000e+00  0.0000000e+00 -3.0517578e-05 ...  3.0517578e-05\n",
      "  0.0000000e+00  6.1035156e-05] as keyword args. From version 0.10 passing these as positional arguments will result in an error\n",
      "  mel = np.mean(librosa.feature.melspectrogram(X, sr=sample_rate).T,axis=0)\n"
     ]
    },
    {
     "name": "stdout",
     "output_type": "stream",
     "text": [
      "03-01-03-02-01-01-12.wav\n",
      "03-01-03-02-01-02-12.wav\n"
     ]
    },
    {
     "name": "stderr",
     "output_type": "stream",
     "text": [
      "<ipython-input-6-2161fc353d88>:20: FutureWarning: Pass y=[ 0.          0.          0.         ... -0.00021362 -0.00024414\n",
      " -0.00027466] as keyword args. From version 0.10 passing these as positional arguments will result in an error\n",
      "  mel = np.mean(librosa.feature.melspectrogram(X, sr=sample_rate).T,axis=0)\n",
      "<ipython-input-6-2161fc353d88>:20: FutureWarning: Pass y=[ 0.0000000e+00  0.0000000e+00  0.0000000e+00 ... -3.0517578e-05\n",
      " -3.0517578e-05 -6.1035156e-05] as keyword args. From version 0.10 passing these as positional arguments will result in an error\n",
      "  mel = np.mean(librosa.feature.melspectrogram(X, sr=sample_rate).T,axis=0)\n"
     ]
    },
    {
     "name": "stdout",
     "output_type": "stream",
     "text": [
      "03-01-03-02-02-01-12.wav\n",
      "03-01-03-02-02-02-12.wav\n",
      "03-01-04-01-01-01-12.wav\n"
     ]
    },
    {
     "name": "stderr",
     "output_type": "stream",
     "text": [
      "<ipython-input-6-2161fc353d88>:20: FutureWarning: Pass y=[-3.0517578e-05 -3.0517578e-05  0.0000000e+00 ...  0.0000000e+00\n",
      "  0.0000000e+00  0.0000000e+00] as keyword args. From version 0.10 passing these as positional arguments will result in an error\n",
      "  mel = np.mean(librosa.feature.melspectrogram(X, sr=sample_rate).T,axis=0)\n",
      "<ipython-input-6-2161fc353d88>:20: FutureWarning: Pass y=[ 0.0000000e+00 -3.0517578e-05  0.0000000e+00 ... -3.0212402e-03\n",
      " -2.9907227e-03 -3.0212402e-03] as keyword args. From version 0.10 passing these as positional arguments will result in an error\n",
      "  mel = np.mean(librosa.feature.melspectrogram(X, sr=sample_rate).T,axis=0)\n"
     ]
    },
    {
     "name": "stdout",
     "output_type": "stream",
     "text": [
      "03-01-04-01-01-02-12.wav\n",
      "03-01-04-01-02-01-12.wav\n"
     ]
    },
    {
     "name": "stderr",
     "output_type": "stream",
     "text": [
      "<ipython-input-6-2161fc353d88>:20: FutureWarning: Pass y=[ 0.0000000e+00  0.0000000e+00  0.0000000e+00 ... -6.1035156e-05\n",
      "  0.0000000e+00  0.0000000e+00] as keyword args. From version 0.10 passing these as positional arguments will result in an error\n",
      "  mel = np.mean(librosa.feature.melspectrogram(X, sr=sample_rate).T,axis=0)\n"
     ]
    },
    {
     "name": "stdout",
     "output_type": "stream",
     "text": [
      "03-01-04-01-02-02-12.wav\n"
     ]
    },
    {
     "name": "stderr",
     "output_type": "stream",
     "text": [
      "<ipython-input-6-2161fc353d88>:20: FutureWarning: Pass y=[0.00012207 0.00015259 0.00015259 ... 0.         0.         0.        ] as keyword args. From version 0.10 passing these as positional arguments will result in an error\n",
      "  mel = np.mean(librosa.feature.melspectrogram(X, sr=sample_rate).T,axis=0)\n"
     ]
    },
    {
     "name": "stdout",
     "output_type": "stream",
     "text": [
      "03-01-04-02-01-01-12.wav\n"
     ]
    },
    {
     "name": "stderr",
     "output_type": "stream",
     "text": [
      "<ipython-input-6-2161fc353d88>:20: FutureWarning: Pass y=[0.00033569 0.00033569 0.00033569 ... 0.         0.         0.        ] as keyword args. From version 0.10 passing these as positional arguments will result in an error\n",
      "  mel = np.mean(librosa.feature.melspectrogram(X, sr=sample_rate).T,axis=0)\n",
      "<ipython-input-6-2161fc353d88>:20: FutureWarning: Pass y=[0.0000000e+00 0.0000000e+00 0.0000000e+00 ... 0.0000000e+00 6.1035156e-05\n",
      " 0.0000000e+00] as keyword args. From version 0.10 passing these as positional arguments will result in an error\n",
      "  mel = np.mean(librosa.feature.melspectrogram(X, sr=sample_rate).T,axis=0)\n"
     ]
    },
    {
     "name": "stdout",
     "output_type": "stream",
     "text": [
      "03-01-04-02-01-02-12.wav\n",
      "03-01-04-02-02-01-12.wav\n"
     ]
    },
    {
     "name": "stderr",
     "output_type": "stream",
     "text": [
      "<ipython-input-6-2161fc353d88>:20: FutureWarning: Pass y=[ 0.          0.          0.         ... -0.00161743 -0.00158691\n",
      " -0.0015564 ] as keyword args. From version 0.10 passing these as positional arguments will result in an error\n",
      "  mel = np.mean(librosa.feature.melspectrogram(X, sr=sample_rate).T,axis=0)\n"
     ]
    },
    {
     "name": "stdout",
     "output_type": "stream",
     "text": [
      "03-01-04-02-02-02-12.wav\n",
      "03-01-05-01-01-01-12.wav\n",
      "03-01-05-01-01-02-12.wav\n"
     ]
    },
    {
     "name": "stderr",
     "output_type": "stream",
     "text": [
      "<ipython-input-6-2161fc353d88>:20: FutureWarning: Pass y=[ 0.0000000e+00  0.0000000e+00  0.0000000e+00 ... -3.0517578e-05\n",
      " -6.1035156e-05 -6.1035156e-05] as keyword args. From version 0.10 passing these as positional arguments will result in an error\n",
      "  mel = np.mean(librosa.feature.melspectrogram(X, sr=sample_rate).T,axis=0)\n",
      "<ipython-input-6-2161fc353d88>:20: FutureWarning: Pass y=[ 0.0000000e+00  3.0517578e-05  3.0517578e-05 ... -6.1035156e-05\n",
      " -6.1035156e-05 -3.0517578e-05] as keyword args. From version 0.10 passing these as positional arguments will result in an error\n",
      "  mel = np.mean(librosa.feature.melspectrogram(X, sr=sample_rate).T,axis=0)\n"
     ]
    },
    {
     "name": "stdout",
     "output_type": "stream",
     "text": [
      "03-01-05-01-02-01-12.wav\n",
      "03-01-05-01-02-02-12.wav\n"
     ]
    },
    {
     "name": "stderr",
     "output_type": "stream",
     "text": [
      "<ipython-input-6-2161fc353d88>:20: FutureWarning: Pass y=[0.0000000e+00 0.0000000e+00 0.0000000e+00 ... 0.0000000e+00 3.0517578e-05\n",
      " 6.1035156e-05] as keyword args. From version 0.10 passing these as positional arguments will result in an error\n",
      "  mel = np.mean(librosa.feature.melspectrogram(X, sr=sample_rate).T,axis=0)\n"
     ]
    },
    {
     "name": "stdout",
     "output_type": "stream",
     "text": [
      "03-01-05-02-01-01-12.wav\n"
     ]
    },
    {
     "name": "stderr",
     "output_type": "stream",
     "text": [
      "<ipython-input-6-2161fc353d88>:20: FutureWarning: Pass y=[ 0.          0.          0.         ... -0.00149536 -0.00161743\n",
      " -0.00164795] as keyword args. From version 0.10 passing these as positional arguments will result in an error\n",
      "  mel = np.mean(librosa.feature.melspectrogram(X, sr=sample_rate).T,axis=0)\n"
     ]
    },
    {
     "name": "stdout",
     "output_type": "stream",
     "text": [
      "03-01-05-02-01-02-12.wav\n"
     ]
    },
    {
     "name": "stderr",
     "output_type": "stream",
     "text": [
      "<ipython-input-6-2161fc353d88>:20: FutureWarning: Pass y=[3.0517578e-05 0.0000000e+00 0.0000000e+00 ... 2.8076172e-03 2.7770996e-03\n",
      " 2.7770996e-03] as keyword args. From version 0.10 passing these as positional arguments will result in an error\n",
      "  mel = np.mean(librosa.feature.melspectrogram(X, sr=sample_rate).T,axis=0)\n"
     ]
    },
    {
     "name": "stdout",
     "output_type": "stream",
     "text": [
      "03-01-05-02-02-01-12.wav\n",
      "03-01-05-02-02-02-12.wav\n"
     ]
    },
    {
     "name": "stderr",
     "output_type": "stream",
     "text": [
      "<ipython-input-6-2161fc353d88>:20: FutureWarning: Pass y=[ 0.          0.          0.         ... -0.00024414 -0.00021362\n",
      " -0.00024414] as keyword args. From version 0.10 passing these as positional arguments will result in an error\n",
      "  mel = np.mean(librosa.feature.melspectrogram(X, sr=sample_rate).T,axis=0)\n",
      "<ipython-input-6-2161fc353d88>:20: FutureWarning: Pass y=[-3.0517578e-05 -3.0517578e-05 -3.0517578e-05 ... -6.1035156e-05\n",
      " -6.1035156e-05 -6.1035156e-05] as keyword args. From version 0.10 passing these as positional arguments will result in an error\n",
      "  mel = np.mean(librosa.feature.melspectrogram(X, sr=sample_rate).T,axis=0)\n"
     ]
    },
    {
     "name": "stdout",
     "output_type": "stream",
     "text": [
      "03-01-06-01-01-01-12.wav\n",
      "03-01-06-01-01-02-12.wav\n",
      "03-01-06-01-02-01-12.wav\n",
      "03-01-06-01-02-02-12.wav\n",
      "03-01-06-02-01-01-12.wav\n",
      "03-01-06-02-01-02-12.wav\n",
      "03-01-06-02-02-01-12.wav\n",
      "03-01-06-02-02-02-12.wav\n",
      "03-01-07-01-01-01-12.wav\n",
      "03-01-07-01-01-02-12.wav\n",
      "03-01-07-01-02-01-12.wav\n",
      "03-01-07-01-02-02-12.wav\n",
      "03-01-07-02-01-01-12.wav\n",
      "03-01-07-02-01-02-12.wav\n",
      "03-01-07-02-02-01-12.wav\n",
      "03-01-07-02-02-02-12.wav\n",
      "03-01-08-01-01-01-12.wav\n",
      "03-01-08-01-01-02-12.wav\n",
      "03-01-08-01-02-01-12.wav\n",
      "03-01-08-01-02-02-12.wav\n",
      "03-01-08-02-01-01-12.wav\n",
      "03-01-08-02-01-02-12.wav\n",
      "03-01-08-02-02-01-12.wav\n",
      "03-01-08-02-02-02-12.wav\n",
      "03-01-01-01-01-01-13.wav\n",
      "03-01-01-01-01-02-13.wav\n",
      "03-01-01-01-02-01-13.wav\n",
      "03-01-01-01-02-02-13.wav\n"
     ]
    },
    {
     "name": "stderr",
     "output_type": "stream",
     "text": [
      "<ipython-input-6-2161fc353d88>:20: FutureWarning: Pass y=[-3.0517578e-05  0.0000000e+00 -3.0517578e-05 ... -3.0517578e-05\n",
      "  0.0000000e+00  0.0000000e+00] as keyword args. From version 0.10 passing these as positional arguments will result in an error\n",
      "  mel = np.mean(librosa.feature.melspectrogram(X, sr=sample_rate).T,axis=0)\n"
     ]
    },
    {
     "name": "stdout",
     "output_type": "stream",
     "text": [
      "03-01-02-01-01-01-13.wav\n",
      "03-01-02-01-01-02-13.wav\n",
      "03-01-02-01-02-01-13.wav\n",
      "03-01-02-01-02-02-13.wav\n",
      "03-01-02-02-01-01-13.wav\n",
      "03-01-02-02-01-02-13.wav\n",
      "03-01-02-02-02-01-13.wav\n",
      "03-01-02-02-02-02-13.wav\n",
      "03-01-03-01-01-01-13.wav\n"
     ]
    },
    {
     "name": "stderr",
     "output_type": "stream",
     "text": [
      "<ipython-input-6-2161fc353d88>:20: FutureWarning: Pass y=[3.0517578e-05 0.0000000e+00 3.0517578e-05 ... 0.0000000e+00 0.0000000e+00\n",
      " 0.0000000e+00] as keyword args. From version 0.10 passing these as positional arguments will result in an error\n",
      "  mel = np.mean(librosa.feature.melspectrogram(X, sr=sample_rate).T,axis=0)\n"
     ]
    },
    {
     "name": "stdout",
     "output_type": "stream",
     "text": [
      "03-01-03-01-01-02-13.wav\n",
      "03-01-03-01-02-01-13.wav\n",
      "03-01-03-01-02-02-13.wav\n"
     ]
    },
    {
     "name": "stderr",
     "output_type": "stream",
     "text": [
      "<ipython-input-6-2161fc353d88>:20: FutureWarning: Pass y=[ 0.0000000e+00  0.0000000e+00  0.0000000e+00 ... -3.0517578e-05\n",
      " -3.0517578e-05  0.0000000e+00] as keyword args. From version 0.10 passing these as positional arguments will result in an error\n",
      "  mel = np.mean(librosa.feature.melspectrogram(X, sr=sample_rate).T,axis=0)\n"
     ]
    },
    {
     "name": "stdout",
     "output_type": "stream",
     "text": [
      "03-01-03-02-01-01-13.wav\n",
      "03-01-03-02-01-02-13.wav\n"
     ]
    },
    {
     "name": "stderr",
     "output_type": "stream",
     "text": [
      "<ipython-input-6-2161fc353d88>:20: FutureWarning: Pass y=[ 6.1035156e-05  6.1035156e-05  6.1035156e-05 ... -6.1035156e-05\n",
      " -6.1035156e-05 -9.1552734e-05] as keyword args. From version 0.10 passing these as positional arguments will result in an error\n",
      "  mel = np.mean(librosa.feature.melspectrogram(X, sr=sample_rate).T,axis=0)\n"
     ]
    },
    {
     "name": "stdout",
     "output_type": "stream",
     "text": [
      "03-01-03-02-02-01-13.wav\n",
      "03-01-03-02-02-02-13.wav\n",
      "03-01-04-01-01-01-13.wav\n",
      "03-01-04-01-01-02-13.wav\n",
      "03-01-04-01-02-01-13.wav\n"
     ]
    },
    {
     "name": "stderr",
     "output_type": "stream",
     "text": [
      "<ipython-input-6-2161fc353d88>:20: FutureWarning: Pass y=[3.0517578e-05 3.0517578e-05 6.1035156e-05 ... 3.0517578e-05 3.0517578e-05\n",
      " 3.0517578e-05] as keyword args. From version 0.10 passing these as positional arguments will result in an error\n",
      "  mel = np.mean(librosa.feature.melspectrogram(X, sr=sample_rate).T,axis=0)\n"
     ]
    },
    {
     "name": "stdout",
     "output_type": "stream",
     "text": [
      "03-01-04-01-02-02-13.wav\n",
      "03-01-04-02-01-01-13.wav\n",
      "03-01-04-02-01-02-13.wav\n"
     ]
    },
    {
     "name": "stderr",
     "output_type": "stream",
     "text": [
      "<ipython-input-6-2161fc353d88>:20: FutureWarning: Pass y=[-3.0517578e-05 -3.0517578e-05 -3.0517578e-05 ... -3.0517578e-05\n",
      " -3.0517578e-05 -3.0517578e-05] as keyword args. From version 0.10 passing these as positional arguments will result in an error\n",
      "  mel = np.mean(librosa.feature.melspectrogram(X, sr=sample_rate).T,axis=0)\n"
     ]
    },
    {
     "name": "stdout",
     "output_type": "stream",
     "text": [
      "03-01-04-02-02-01-13.wav\n",
      "03-01-04-02-02-02-13.wav\n",
      "03-01-05-01-01-01-13.wav\n",
      "03-01-05-01-01-02-13.wav\n",
      "03-01-05-01-02-01-13.wav\n",
      "03-01-05-01-02-02-13.wav\n",
      "03-01-05-02-01-01-13.wav\n",
      "03-01-05-02-01-02-13.wav\n",
      "03-01-05-02-02-01-13.wav\n",
      "03-01-05-02-02-02-13.wav\n"
     ]
    },
    {
     "name": "stderr",
     "output_type": "stream",
     "text": [
      "<ipython-input-6-2161fc353d88>:20: FutureWarning: Pass y=[ 0.0000000e+00 -3.0517578e-05  0.0000000e+00 ... -8.2397461e-04\n",
      " -8.2397461e-04 -7.9345703e-04] as keyword args. From version 0.10 passing these as positional arguments will result in an error\n",
      "  mel = np.mean(librosa.feature.melspectrogram(X, sr=sample_rate).T,axis=0)\n",
      "<ipython-input-6-2161fc353d88>:20: FutureWarning: Pass y=[0.         0.         0.         ... 0.00018311 0.00015259 0.00015259] as keyword args. From version 0.10 passing these as positional arguments will result in an error\n",
      "  mel = np.mean(librosa.feature.melspectrogram(X, sr=sample_rate).T,axis=0)\n"
     ]
    },
    {
     "name": "stdout",
     "output_type": "stream",
     "text": [
      "03-01-06-01-01-01-13.wav\n",
      "03-01-06-01-01-02-13.wav\n",
      "03-01-06-01-02-01-13.wav\n",
      "03-01-06-01-02-02-13.wav\n",
      "03-01-06-02-01-01-13.wav\n",
      "03-01-06-02-01-02-13.wav\n",
      "03-01-06-02-02-01-13.wav\n",
      "03-01-06-02-02-02-13.wav\n",
      "03-01-07-01-01-01-13.wav\n",
      "03-01-07-01-01-02-13.wav\n",
      "03-01-07-01-02-01-13.wav\n",
      "03-01-07-01-02-02-13.wav\n",
      "03-01-07-02-01-01-13.wav\n",
      "03-01-07-02-01-02-13.wav\n",
      "03-01-07-02-02-01-13.wav\n",
      "03-01-07-02-02-02-13.wav\n",
      "03-01-08-01-01-01-13.wav\n",
      "03-01-08-01-01-02-13.wav\n",
      "03-01-08-01-02-01-13.wav\n",
      "03-01-08-01-02-02-13.wav\n",
      "03-01-08-02-01-01-13.wav\n",
      "03-01-08-02-01-02-13.wav\n",
      "03-01-08-02-02-01-13.wav\n",
      "03-01-08-02-02-02-13.wav\n",
      "03-01-01-01-01-01-14.wav\n",
      "03-01-01-01-01-02-14.wav\n",
      "03-01-01-01-02-01-14.wav\n",
      "03-01-01-01-02-02-14.wav\n",
      "03-01-02-01-01-01-14.wav\n",
      "03-01-02-01-01-02-14.wav\n",
      "03-01-02-01-02-01-14.wav\n",
      "03-01-02-01-02-02-14.wav\n",
      "03-01-02-02-01-01-14.wav\n",
      "03-01-02-02-01-02-14.wav\n",
      "03-01-02-02-02-01-14.wav\n",
      "03-01-02-02-02-02-14.wav\n",
      "03-01-03-01-01-01-14.wav\n",
      "03-01-03-01-01-02-14.wav\n"
     ]
    },
    {
     "name": "stderr",
     "output_type": "stream",
     "text": [
      "<ipython-input-6-2161fc353d88>:20: FutureWarning: Pass y=[ 3.0517578e-05  3.0517578e-05  0.0000000e+00 ...  0.0000000e+00\n",
      "  0.0000000e+00 -3.0517578e-05] as keyword args. From version 0.10 passing these as positional arguments will result in an error\n",
      "  mel = np.mean(librosa.feature.melspectrogram(X, sr=sample_rate).T,axis=0)\n"
     ]
    },
    {
     "name": "stdout",
     "output_type": "stream",
     "text": [
      "03-01-03-01-02-01-14.wav\n",
      "03-01-03-01-02-02-14.wav\n",
      "03-01-03-02-01-01-14.wav\n",
      "03-01-03-02-01-02-14.wav\n",
      "03-01-03-02-02-01-14.wav\n",
      "03-01-03-02-02-02-14.wav\n",
      "03-01-04-01-01-01-14.wav\n",
      "03-01-04-01-01-02-14.wav\n",
      "03-01-04-01-02-01-14.wav\n",
      "03-01-04-01-02-02-14.wav\n",
      "03-01-04-02-01-01-14.wav\n",
      "03-01-04-02-01-02-14.wav\n",
      "03-01-04-02-02-01-14.wav\n",
      "03-01-04-02-02-02-14.wav\n",
      "03-01-05-01-01-01-14.wav\n",
      "03-01-05-01-01-02-14.wav\n",
      "03-01-05-01-02-01-14.wav\n",
      "03-01-05-01-02-02-14.wav\n",
      "03-01-05-02-01-01-14.wav\n",
      "03-01-05-02-01-02-14.wav\n",
      "03-01-05-02-02-01-14.wav\n",
      "03-01-05-02-02-02-14.wav\n"
     ]
    },
    {
     "name": "stderr",
     "output_type": "stream",
     "text": [
      "<ipython-input-6-2161fc353d88>:20: FutureWarning: Pass y=[ 0.0000000e+00  0.0000000e+00  0.0000000e+00 ...  0.0000000e+00\n",
      " -6.1035156e-05  0.0000000e+00] as keyword args. From version 0.10 passing these as positional arguments will result in an error\n",
      "  mel = np.mean(librosa.feature.melspectrogram(X, sr=sample_rate).T,axis=0)\n"
     ]
    },
    {
     "name": "stdout",
     "output_type": "stream",
     "text": [
      "03-01-06-01-01-01-14.wav\n",
      "03-01-06-01-01-02-14.wav\n",
      "03-01-06-01-02-01-14.wav\n",
      "03-01-06-01-02-02-14.wav\n",
      "03-01-06-02-01-01-14.wav\n",
      "03-01-06-02-01-02-14.wav\n",
      "03-01-06-02-02-01-14.wav\n",
      "03-01-06-02-02-02-14.wav\n",
      "03-01-07-01-01-01-14.wav\n",
      "03-01-07-01-01-02-14.wav\n",
      "03-01-07-01-02-01-14.wav\n",
      "03-01-07-01-02-02-14.wav\n",
      "03-01-07-02-01-01-14.wav\n",
      "03-01-07-02-01-02-14.wav\n",
      "03-01-07-02-02-01-14.wav\n",
      "03-01-07-02-02-02-14.wav\n",
      "03-01-08-01-01-01-14.wav\n",
      "03-01-08-01-01-02-14.wav\n",
      "03-01-08-01-02-01-14.wav\n",
      "03-01-08-01-02-02-14.wav\n",
      "03-01-08-02-01-01-14.wav\n",
      "03-01-08-02-01-02-14.wav\n",
      "03-01-08-02-02-01-14.wav\n",
      "03-01-08-02-02-02-14.wav\n",
      "03-01-01-01-01-01-15.wav\n",
      "03-01-01-01-01-02-15.wav\n"
     ]
    },
    {
     "name": "stderr",
     "output_type": "stream",
     "text": [
      "<ipython-input-6-2161fc353d88>:20: FutureWarning: Pass y=[ 0.0000000e+00 -3.0517578e-05  0.0000000e+00 ...  0.0000000e+00\n",
      "  0.0000000e+00  0.0000000e+00] as keyword args. From version 0.10 passing these as positional arguments will result in an error\n",
      "  mel = np.mean(librosa.feature.melspectrogram(X, sr=sample_rate).T,axis=0)\n"
     ]
    },
    {
     "name": "stdout",
     "output_type": "stream",
     "text": [
      "03-01-01-01-02-01-15.wav\n",
      "03-01-01-01-02-02-15.wav\n",
      "03-01-02-01-01-01-15.wav\n",
      "03-01-02-01-01-02-15.wav\n",
      "03-01-02-01-02-01-15.wav\n",
      "03-01-02-01-02-02-15.wav\n",
      "03-01-02-02-01-01-15.wav\n",
      "03-01-02-02-01-02-15.wav\n",
      "03-01-02-02-02-01-15.wav\n",
      "03-01-02-02-02-02-15.wav\n",
      "03-01-03-01-01-01-15.wav\n",
      "03-01-03-01-01-02-15.wav\n"
     ]
    },
    {
     "name": "stderr",
     "output_type": "stream",
     "text": [
      "<ipython-input-6-2161fc353d88>:20: FutureWarning: Pass y=[3.0517578e-05 3.0517578e-05 3.0517578e-05 ... 1.2207031e-04 9.1552734e-05\n",
      " 9.1552734e-05] as keyword args. From version 0.10 passing these as positional arguments will result in an error\n",
      "  mel = np.mean(librosa.feature.melspectrogram(X, sr=sample_rate).T,axis=0)\n",
      "<ipython-input-6-2161fc353d88>:20: FutureWarning: Pass y=[ 0.          0.          0.         ... -0.00210571 -0.0020752\n",
      " -0.0020752 ] as keyword args. From version 0.10 passing these as positional arguments will result in an error\n",
      "  mel = np.mean(librosa.feature.melspectrogram(X, sr=sample_rate).T,axis=0)\n"
     ]
    },
    {
     "name": "stdout",
     "output_type": "stream",
     "text": [
      "03-01-03-01-02-01-15.wav\n"
     ]
    },
    {
     "name": "stderr",
     "output_type": "stream",
     "text": [
      "<ipython-input-6-2161fc353d88>:20: FutureWarning: Pass y=[-6.1035156e-05 -3.0517578e-05 -3.0517578e-05 ... -9.1552734e-05\n",
      " -6.1035156e-05 -6.1035156e-05] as keyword args. From version 0.10 passing these as positional arguments will result in an error\n",
      "  mel = np.mean(librosa.feature.melspectrogram(X, sr=sample_rate).T,axis=0)\n"
     ]
    },
    {
     "name": "stdout",
     "output_type": "stream",
     "text": [
      "03-01-03-01-02-02-15.wav\n",
      "03-01-03-02-01-01-15.wav\n"
     ]
    },
    {
     "name": "stderr",
     "output_type": "stream",
     "text": [
      "<ipython-input-6-2161fc353d88>:20: FutureWarning: Pass y=[-6.1035156e-05 -3.0517578e-05 -6.1035156e-05 ...  0.0000000e+00\n",
      "  0.0000000e+00  0.0000000e+00] as keyword args. From version 0.10 passing these as positional arguments will result in an error\n",
      "  mel = np.mean(librosa.feature.melspectrogram(X, sr=sample_rate).T,axis=0)\n",
      "<ipython-input-6-2161fc353d88>:20: FutureWarning: Pass y=[0.0000000e+00 0.0000000e+00 0.0000000e+00 ... 9.1552734e-05 1.2207031e-04\n",
      " 9.1552734e-05] as keyword args. From version 0.10 passing these as positional arguments will result in an error\n",
      "  mel = np.mean(librosa.feature.melspectrogram(X, sr=sample_rate).T,axis=0)\n"
     ]
    },
    {
     "name": "stdout",
     "output_type": "stream",
     "text": [
      "03-01-03-02-01-02-15.wav\n",
      "03-01-03-02-02-01-15.wav"
     ]
    },
    {
     "name": "stderr",
     "output_type": "stream",
     "text": [
      "<ipython-input-6-2161fc353d88>:20: FutureWarning: Pass y=[-6.1035156e-05  0.0000000e+00 -3.0517578e-05 ...  3.0517578e-05\n",
      "  3.0517578e-05  6.1035156e-05] as keyword args. From version 0.10 passing these as positional arguments will result in an error\n",
      "  mel = np.mean(librosa.feature.melspectrogram(X, sr=sample_rate).T,axis=0)\n"
     ]
    },
    {
     "name": "stdout",
     "output_type": "stream",
     "text": [
      "\n",
      "03-01-03-02-02-02-15.wav\n"
     ]
    },
    {
     "name": "stderr",
     "output_type": "stream",
     "text": [
      "<ipython-input-6-2161fc353d88>:20: FutureWarning: Pass y=[6.1035156e-05 3.0517578e-05 3.0517578e-05 ... 1.8310547e-04 1.8310547e-04\n",
      " 1.5258789e-04] as keyword args. From version 0.10 passing these as positional arguments will result in an error\n",
      "  mel = np.mean(librosa.feature.melspectrogram(X, sr=sample_rate).T,axis=0)\n"
     ]
    },
    {
     "name": "stdout",
     "output_type": "stream",
     "text": [
      "03-01-04-01-01-01-15.wav\n",
      "03-01-04-01-01-02-15.wav\n"
     ]
    },
    {
     "name": "stderr",
     "output_type": "stream",
     "text": [
      "<ipython-input-6-2161fc353d88>:20: FutureWarning: Pass y=[-1.5258789e-04 -1.5258789e-04 -1.5258789e-04 ...  9.1552734e-05\n",
      "  9.1552734e-05  9.1552734e-05] as keyword args. From version 0.10 passing these as positional arguments will result in an error\n",
      "  mel = np.mean(librosa.feature.melspectrogram(X, sr=sample_rate).T,axis=0)\n"
     ]
    },
    {
     "name": "stdout",
     "output_type": "stream",
     "text": [
      "03-01-04-01-02-01-15.wav\n"
     ]
    },
    {
     "name": "stderr",
     "output_type": "stream",
     "text": [
      "<ipython-input-6-2161fc353d88>:20: FutureWarning: Pass y=[-3.0517578e-05 -3.0517578e-05 -3.0517578e-05 ...  1.8310547e-04\n",
      "  2.1362305e-04  2.1362305e-04] as keyword args. From version 0.10 passing these as positional arguments will result in an error\n",
      "  mel = np.mean(librosa.feature.melspectrogram(X, sr=sample_rate).T,axis=0)\n"
     ]
    },
    {
     "name": "stdout",
     "output_type": "stream",
     "text": [
      "03-01-04-01-02-02-15.wav\n"
     ]
    },
    {
     "name": "stderr",
     "output_type": "stream",
     "text": [
      "<ipython-input-6-2161fc353d88>:20: FutureWarning: Pass y=[1.2207031e-04 1.2207031e-04 9.1552734e-05 ... 0.0000000e+00 0.0000000e+00\n",
      " 0.0000000e+00] as keyword args. From version 0.10 passing these as positional arguments will result in an error\n",
      "  mel = np.mean(librosa.feature.melspectrogram(X, sr=sample_rate).T,axis=0)\n"
     ]
    },
    {
     "name": "stdout",
     "output_type": "stream",
     "text": [
      "03-01-04-02-01-01-15.wav\n"
     ]
    },
    {
     "name": "stderr",
     "output_type": "stream",
     "text": [
      "<ipython-input-6-2161fc353d88>:20: FutureWarning: Pass y=[-6.1035156e-05 -6.1035156e-05 -6.1035156e-05 ...  0.0000000e+00\n",
      "  0.0000000e+00  0.0000000e+00] as keyword args. From version 0.10 passing these as positional arguments will result in an error\n",
      "  mel = np.mean(librosa.feature.melspectrogram(X, sr=sample_rate).T,axis=0)\n"
     ]
    },
    {
     "name": "stdout",
     "output_type": "stream",
     "text": [
      "03-01-04-02-01-02-15.wav\n"
     ]
    },
    {
     "name": "stderr",
     "output_type": "stream",
     "text": [
      "<ipython-input-6-2161fc353d88>:20: FutureWarning: Pass y=[0.         0.         0.         ... 0.00042725 0.00042725 0.00042725] as keyword args. From version 0.10 passing these as positional arguments will result in an error\n",
      "  mel = np.mean(librosa.feature.melspectrogram(X, sr=sample_rate).T,axis=0)\n",
      "<ipython-input-6-2161fc353d88>:20: FutureWarning: Pass y=[-1.2207031e-04 -9.1552734e-05 -1.2207031e-04 ... -9.1552734e-05\n",
      " -9.1552734e-05 -9.1552734e-05] as keyword args. From version 0.10 passing these as positional arguments will result in an error\n",
      "  mel = np.mean(librosa.feature.melspectrogram(X, sr=sample_rate).T,axis=0)\n"
     ]
    },
    {
     "name": "stdout",
     "output_type": "stream",
     "text": [
      "03-01-04-02-02-01-15.wav\n",
      "03-01-04-02-02-02-15.wav\n"
     ]
    },
    {
     "name": "stderr",
     "output_type": "stream",
     "text": [
      "<ipython-input-6-2161fc353d88>:20: FutureWarning: Pass y=[0.         0.         0.         ... 0.00140381 0.00143433 0.00137329] as keyword args. From version 0.10 passing these as positional arguments will result in an error\n",
      "  mel = np.mean(librosa.feature.melspectrogram(X, sr=sample_rate).T,axis=0)\n"
     ]
    },
    {
     "name": "stdout",
     "output_type": "stream",
     "text": [
      "03-01-05-01-01-01-15.wav\n"
     ]
    },
    {
     "name": "stderr",
     "output_type": "stream",
     "text": [
      "<ipython-input-6-2161fc353d88>:20: FutureWarning: Pass y=[ 1.2207031e-04  6.1035156e-05  6.1035156e-05 ... -3.0517578e-05\n",
      "  0.0000000e+00 -3.0517578e-05] as keyword args. From version 0.10 passing these as positional arguments will result in an error\n",
      "  mel = np.mean(librosa.feature.melspectrogram(X, sr=sample_rate).T,axis=0)\n"
     ]
    },
    {
     "name": "stdout",
     "output_type": "stream",
     "text": [
      "03-01-05-01-01-02-15.wav\n"
     ]
    },
    {
     "name": "stderr",
     "output_type": "stream",
     "text": [
      "<ipython-input-6-2161fc353d88>:20: FutureWarning: Pass y=[ 0.0000000e+00  0.0000000e+00  0.0000000e+00 ... -9.1552734e-05\n",
      " -6.1035156e-05 -3.0517578e-05] as keyword args. From version 0.10 passing these as positional arguments will result in an error\n",
      "  mel = np.mean(librosa.feature.melspectrogram(X, sr=sample_rate).T,axis=0)\n"
     ]
    },
    {
     "name": "stdout",
     "output_type": "stream",
     "text": [
      "03-01-05-01-02-01-15.wav\n",
      "03-01-05-01-02-02-15.wav\n",
      "03-01-05-02-01-01-15.wav\n",
      "03-01-05-02-01-02-15.wav\n",
      "03-01-05-02-02-01-15.wav"
     ]
    },
    {
     "name": "stderr",
     "output_type": "stream",
     "text": [
      "<ipython-input-6-2161fc353d88>:20: FutureWarning: Pass y=[ 3.0517578e-05  3.0517578e-05  0.0000000e+00 ... -9.1552734e-05\n",
      " -6.1035156e-05 -9.1552734e-05] as keyword args. From version 0.10 passing these as positional arguments will result in an error\n",
      "  mel = np.mean(librosa.feature.melspectrogram(X, sr=sample_rate).T,axis=0)\n"
     ]
    },
    {
     "name": "stdout",
     "output_type": "stream",
     "text": [
      "\n"
     ]
    },
    {
     "name": "stderr",
     "output_type": "stream",
     "text": [
      "<ipython-input-6-2161fc353d88>:20: FutureWarning: Pass y=[ 0.          0.          0.         ... -0.00012207 -0.00012207\n",
      " -0.00012207] as keyword args. From version 0.10 passing these as positional arguments will result in an error\n",
      "  mel = np.mean(librosa.feature.melspectrogram(X, sr=sample_rate).T,axis=0)\n"
     ]
    },
    {
     "name": "stdout",
     "output_type": "stream",
     "text": [
      "03-01-05-02-02-02-15.wav\n"
     ]
    },
    {
     "name": "stderr",
     "output_type": "stream",
     "text": [
      "<ipython-input-6-2161fc353d88>:20: FutureWarning: Pass y=[-6.1035156e-05 -6.1035156e-05 -3.0517578e-05 ...  9.1552734e-05\n",
      "  9.1552734e-05  9.1552734e-05] as keyword args. From version 0.10 passing these as positional arguments will result in an error\n",
      "  mel = np.mean(librosa.feature.melspectrogram(X, sr=sample_rate).T,axis=0)\n"
     ]
    },
    {
     "name": "stdout",
     "output_type": "stream",
     "text": [
      "03-01-06-01-01-01-15.wav\n",
      "03-01-06-01-01-02-15.wav\n",
      "03-01-06-01-02-01-15.wav\n",
      "03-01-06-01-02-02-15.wav\n",
      "03-01-06-02-01-01-15.wav\n",
      "03-01-06-02-01-02-15.wav\n",
      "03-01-06-02-02-01-15.wav\n",
      "03-01-06-02-02-02-15.wav\n",
      "03-01-07-01-01-01-15.wav\n",
      "03-01-07-01-01-02-15.wav\n",
      "03-01-07-01-02-01-15.wav\n",
      "03-01-07-01-02-02-15.wav\n",
      "03-01-07-02-01-01-15.wav\n",
      "03-01-07-02-01-02-15.wav\n",
      "03-01-07-02-02-01-15.wav\n",
      "03-01-07-02-02-02-15.wav\n",
      "03-01-08-01-01-01-15.wav\n",
      "03-01-08-01-01-02-15.wav\n",
      "03-01-08-01-02-01-15.wav\n",
      "03-01-08-01-02-02-15.wav\n",
      "03-01-08-02-01-01-15.wav\n",
      "03-01-08-02-01-02-15.wav\n",
      "03-01-08-02-02-01-15.wav\n",
      "03-01-08-02-02-02-15.wav\n",
      "03-01-01-01-01-01-16.wav\n",
      "03-01-01-01-01-02-16.wav\n",
      "03-01-01-01-02-01-16.wav\n",
      "03-01-01-01-02-02-16.wav\n",
      "03-01-02-01-01-01-16.wav\n",
      "03-01-02-01-01-02-16.wav\n",
      "03-01-02-01-02-01-16.wav\n",
      "03-01-02-01-02-02-16.wav\n",
      "03-01-02-02-01-01-16.wav\n",
      "03-01-02-02-01-02-16.wav\n",
      "03-01-02-02-02-01-16.wav\n",
      "03-01-02-02-02-02-16.wav\n",
      "03-01-03-01-01-01-16.wav\n",
      "03-01-03-01-01-02-16.wav\n",
      "03-01-03-01-02-01-16.wav\n",
      "03-01-03-01-02-02-16.wav\n",
      "03-01-03-02-01-01-16.wav\n",
      "03-01-03-02-01-02-16.wav\n",
      "03-01-03-02-02-01-16.wav\n",
      "03-01-03-02-02-02-16.wav\n",
      "03-01-04-01-01-01-16.wav\n",
      "03-01-04-01-01-02-16.wav\n",
      "03-01-04-01-02-01-16.wav\n",
      "03-01-04-01-02-02-16.wav\n",
      "03-01-04-02-01-01-16.wav\n",
      "03-01-04-02-01-02-16.wav\n",
      "03-01-04-02-02-01-16.wav\n"
     ]
    },
    {
     "name": "stderr",
     "output_type": "stream",
     "text": [
      "<ipython-input-6-2161fc353d88>:20: FutureWarning: Pass y=[ 0.0000000e+00 -3.0517578e-05 -3.0517578e-05 ...  0.0000000e+00\n",
      "  0.0000000e+00  0.0000000e+00] as keyword args. From version 0.10 passing these as positional arguments will result in an error\n",
      "  mel = np.mean(librosa.feature.melspectrogram(X, sr=sample_rate).T,axis=0)\n"
     ]
    },
    {
     "name": "stdout",
     "output_type": "stream",
     "text": [
      "03-01-04-02-02-02-16.wav\n",
      "03-01-05-01-01-01-16.wav\n",
      "03-01-05-01-01-02-16.wav\n"
     ]
    },
    {
     "name": "stderr",
     "output_type": "stream",
     "text": [
      "<ipython-input-6-2161fc353d88>:20: FutureWarning: Pass y=[6.1035156e-05 3.0517578e-05 0.0000000e+00 ... 0.0000000e+00 3.0517578e-05\n",
      " 0.0000000e+00] as keyword args. From version 0.10 passing these as positional arguments will result in an error\n",
      "  mel = np.mean(librosa.feature.melspectrogram(X, sr=sample_rate).T,axis=0)\n"
     ]
    },
    {
     "name": "stdout",
     "output_type": "stream",
     "text": [
      "03-01-05-01-02-01-16.wav\n"
     ]
    },
    {
     "name": "stderr",
     "output_type": "stream",
     "text": [
      "<ipython-input-6-2161fc353d88>:20: FutureWarning: Pass y=[ 0.0000000e+00  0.0000000e+00  0.0000000e+00 ... -3.0517578e-05\n",
      " -6.1035156e-05 -3.0517578e-05] as keyword args. From version 0.10 passing these as positional arguments will result in an error\n",
      "  mel = np.mean(librosa.feature.melspectrogram(X, sr=sample_rate).T,axis=0)\n"
     ]
    },
    {
     "name": "stdout",
     "output_type": "stream",
     "text": [
      "03-01-05-01-02-02-16.wav\n"
     ]
    },
    {
     "name": "stderr",
     "output_type": "stream",
     "text": [
      "<ipython-input-6-2161fc353d88>:20: FutureWarning: Pass y=[0.0000000e+00 0.0000000e+00 0.0000000e+00 ... 0.0000000e+00 6.1035156e-05\n",
      " 9.1552734e-05] as keyword args. From version 0.10 passing these as positional arguments will result in an error\n",
      "  mel = np.mean(librosa.feature.melspectrogram(X, sr=sample_rate).T,axis=0)\n"
     ]
    },
    {
     "name": "stdout",
     "output_type": "stream",
     "text": [
      "03-01-05-02-01-01-16.wav\n",
      "03-01-05-02-01-02-16.wav\n",
      "03-01-05-02-02-01-16.wav\n",
      "03-01-05-02-02-02-16.wav\n"
     ]
    },
    {
     "name": "stderr",
     "output_type": "stream",
     "text": [
      "<ipython-input-6-2161fc353d88>:20: FutureWarning: Pass y=[ 0.0000000e+00  0.0000000e+00  0.0000000e+00 ...  0.0000000e+00\n",
      "  0.0000000e+00 -6.1035156e-05] as keyword args. From version 0.10 passing these as positional arguments will result in an error\n",
      "  mel = np.mean(librosa.feature.melspectrogram(X, sr=sample_rate).T,axis=0)\n"
     ]
    },
    {
     "name": "stdout",
     "output_type": "stream",
     "text": [
      "03-01-06-01-01-01-16.wav\n",
      "03-01-06-01-01-02-16.wav\n",
      "03-01-06-01-02-01-16.wav\n",
      "03-01-06-01-02-02-16.wav\n",
      "03-01-06-02-01-01-16.wav\n",
      "03-01-06-02-01-02-16.wav\n",
      "03-01-06-02-02-01-16.wav\n",
      "03-01-06-02-02-02-16.wav\n",
      "03-01-07-01-01-01-16.wav\n",
      "03-01-07-01-01-02-16.wav\n",
      "03-01-07-01-02-01-16.wav\n",
      "03-01-07-01-02-02-16.wav\n",
      "03-01-07-02-01-01-16.wav\n",
      "03-01-07-02-01-02-16.wav\n",
      "03-01-07-02-02-01-16.wav\n",
      "03-01-07-02-02-02-16.wav\n",
      "03-01-08-01-01-01-16.wav\n",
      "03-01-08-01-01-02-16.wav\n",
      "03-01-08-01-02-01-16.wav\n",
      "03-01-08-01-02-02-16.wav\n",
      "03-01-08-02-01-01-16.wav\n",
      "03-01-08-02-01-02-16.wav\n",
      "03-01-08-02-02-01-16.wav\n",
      "03-01-08-02-02-02-16.wav\n",
      "03-01-01-01-01-01-17.wav\n"
     ]
    },
    {
     "name": "stderr",
     "output_type": "stream",
     "text": [
      "<ipython-input-6-2161fc353d88>:20: FutureWarning: Pass y=[ 3.0517578e-04  3.0517578e-04  3.0517578e-04 ... -9.1552734e-05\n",
      " -1.2207031e-04 -1.2207031e-04] as keyword args. From version 0.10 passing these as positional arguments will result in an error\n",
      "  mel = np.mean(librosa.feature.melspectrogram(X, sr=sample_rate).T,axis=0)\n",
      "<ipython-input-6-2161fc353d88>:20: FutureWarning: Pass y=[ 9.1552734e-05  9.1552734e-05  9.1552734e-05 ... -3.0517578e-05\n",
      "  0.0000000e+00  0.0000000e+00] as keyword args. From version 0.10 passing these as positional arguments will result in an error\n",
      "  mel = np.mean(librosa.feature.melspectrogram(X, sr=sample_rate).T,axis=0)\n"
     ]
    },
    {
     "name": "stdout",
     "output_type": "stream",
     "text": [
      "03-01-01-01-01-02-17.wav\n",
      "03-01-01-01-02-01-17.wav\n"
     ]
    },
    {
     "name": "stderr",
     "output_type": "stream",
     "text": [
      "<ipython-input-6-2161fc353d88>:20: FutureWarning: Pass y=[ 3.0517578e-05  3.0517578e-05  3.0517578e-05 ... -9.1552734e-05\n",
      " -6.1035156e-05 -6.1035156e-05] as keyword args. From version 0.10 passing these as positional arguments will result in an error\n",
      "  mel = np.mean(librosa.feature.melspectrogram(X, sr=sample_rate).T,axis=0)\n",
      "<ipython-input-6-2161fc353d88>:20: FutureWarning: Pass y=[-9.1552734e-05 -6.1035156e-05 -3.0517578e-05 ...  0.0000000e+00\n",
      "  0.0000000e+00  0.0000000e+00] as keyword args. From version 0.10 passing these as positional arguments will result in an error\n",
      "  mel = np.mean(librosa.feature.melspectrogram(X, sr=sample_rate).T,axis=0)\n"
     ]
    },
    {
     "name": "stdout",
     "output_type": "stream",
     "text": [
      "03-01-01-01-02-02-17.wav\n",
      "03-01-02-01-01-01-17.wav\n",
      "03-01-02-01-01-02-17.wav\n",
      "03-01-02-01-02-01-17.wav\n",
      "03-01-02-01-02-02-17.wav\n",
      "03-01-02-02-01-01-17.wav\n",
      "03-01-02-02-01-02-17.wav\n",
      "03-01-02-02-02-01-17.wav\n",
      "03-01-02-02-02-02-17.wav\n",
      "03-01-03-01-01-01-17.wav\n"
     ]
    },
    {
     "name": "stderr",
     "output_type": "stream",
     "text": [
      "<ipython-input-6-2161fc353d88>:20: FutureWarning: Pass y=[ 3.0517578e-05  6.1035156e-05  6.1035156e-05 ... -6.1035156e-05\n",
      " -6.1035156e-05 -9.1552734e-05] as keyword args. From version 0.10 passing these as positional arguments will result in an error\n",
      "  mel = np.mean(librosa.feature.melspectrogram(X, sr=sample_rate).T,axis=0)\n",
      "<ipython-input-6-2161fc353d88>:20: FutureWarning: Pass y=[-0.00021362 -0.00018311 -0.00015259 ... -0.00012207 -0.00012207\n",
      " -0.00012207] as keyword args. From version 0.10 passing these as positional arguments will result in an error\n",
      "  mel = np.mean(librosa.feature.melspectrogram(X, sr=sample_rate).T,axis=0)\n"
     ]
    },
    {
     "name": "stdout",
     "output_type": "stream",
     "text": [
      "03-01-03-01-01-02-17.wav\n",
      "03-01-03-01-02-01-17.wav\n"
     ]
    },
    {
     "name": "stderr",
     "output_type": "stream",
     "text": [
      "<ipython-input-6-2161fc353d88>:20: FutureWarning: Pass y=[6.1035156e-05 6.1035156e-05 6.1035156e-05 ... 0.0000000e+00 0.0000000e+00\n",
      " 0.0000000e+00] as keyword args. From version 0.10 passing these as positional arguments will result in an error\n",
      "  mel = np.mean(librosa.feature.melspectrogram(X, sr=sample_rate).T,axis=0)\n",
      "<ipython-input-6-2161fc353d88>:20: FutureWarning: Pass y=[1.5258789e-04 1.5258789e-04 2.1362305e-04 ... 9.1552734e-05 9.1552734e-05\n",
      " 9.1552734e-05] as keyword args. From version 0.10 passing these as positional arguments will result in an error\n",
      "  mel = np.mean(librosa.feature.melspectrogram(X, sr=sample_rate).T,axis=0)\n"
     ]
    },
    {
     "name": "stdout",
     "output_type": "stream",
     "text": [
      "03-01-03-01-02-02-17.wav\n",
      "03-01-03-02-01-01-17.wav\n"
     ]
    },
    {
     "name": "stderr",
     "output_type": "stream",
     "text": [
      "<ipython-input-6-2161fc353d88>:20: FutureWarning: Pass y=[0.00012207 0.00012207 0.00012207 ... 0.         0.         0.        ] as keyword args. From version 0.10 passing these as positional arguments will result in an error\n",
      "  mel = np.mean(librosa.feature.melspectrogram(X, sr=sample_rate).T,axis=0)\n",
      "<ipython-input-6-2161fc353d88>:20: FutureWarning: Pass y=[-3.3569336e-04 -3.6621094e-04 -2.1362305e-04 ...  1.2207031e-04\n",
      "  9.1552734e-05  1.2207031e-04] as keyword args. From version 0.10 passing these as positional arguments will result in an error\n",
      "  mel = np.mean(librosa.feature.melspectrogram(X, sr=sample_rate).T,axis=0)\n"
     ]
    },
    {
     "name": "stdout",
     "output_type": "stream",
     "text": [
      "03-01-03-02-01-02-17.wav\n",
      "03-01-03-02-02-01-17.wav\n"
     ]
    },
    {
     "name": "stderr",
     "output_type": "stream",
     "text": [
      "<ipython-input-6-2161fc353d88>:20: FutureWarning: Pass y=[6.1035156e-05 9.1552734e-05 1.2207031e-04 ... 0.0000000e+00 0.0000000e+00\n",
      " 0.0000000e+00] as keyword args. From version 0.10 passing these as positional arguments will result in an error\n",
      "  mel = np.mean(librosa.feature.melspectrogram(X, sr=sample_rate).T,axis=0)\n",
      "<ipython-input-6-2161fc353d88>:20: FutureWarning: Pass y=[ 1.2207031e-04  1.8310547e-04  2.1362305e-04 ... -3.0517578e-05\n",
      " -3.0517578e-05 -3.0517578e-05] as keyword args. From version 0.10 passing these as positional arguments will result in an error\n",
      "  mel = np.mean(librosa.feature.melspectrogram(X, sr=sample_rate).T,axis=0)\n"
     ]
    },
    {
     "name": "stdout",
     "output_type": "stream",
     "text": [
      "03-01-03-02-02-02-17.wav\n",
      "03-01-04-01-01-01-17.wav\n"
     ]
    },
    {
     "name": "stderr",
     "output_type": "stream",
     "text": [
      "<ipython-input-6-2161fc353d88>:20: FutureWarning: Pass y=[3.0517578e-05 3.0517578e-05 3.0517578e-05 ... 1.2207031e-04 1.5258789e-04\n",
      " 1.5258789e-04] as keyword args. From version 0.10 passing these as positional arguments will result in an error\n",
      "  mel = np.mean(librosa.feature.melspectrogram(X, sr=sample_rate).T,axis=0)\n",
      "<ipython-input-6-2161fc353d88>:20: FutureWarning: Pass y=[-0.00012207 -0.00015259 -0.00015259 ...  0.          0.\n",
      "  0.        ] as keyword args. From version 0.10 passing these as positional arguments will result in an error\n",
      "  mel = np.mean(librosa.feature.melspectrogram(X, sr=sample_rate).T,axis=0)\n"
     ]
    },
    {
     "name": "stdout",
     "output_type": "stream",
     "text": [
      "03-01-04-01-01-02-17.wav\n",
      "03-01-04-01-02-01-17.wav\n"
     ]
    },
    {
     "name": "stderr",
     "output_type": "stream",
     "text": [
      "<ipython-input-6-2161fc353d88>:20: FutureWarning: Pass y=[0.0000000e+00 3.0517578e-05 1.2207031e-04 ... 3.0517578e-05 6.1035156e-05\n",
      " 6.1035156e-05] as keyword args. From version 0.10 passing these as positional arguments will result in an error\n",
      "  mel = np.mean(librosa.feature.melspectrogram(X, sr=sample_rate).T,axis=0)\n",
      "<ipython-input-6-2161fc353d88>:20: FutureWarning: Pass y=[0.         0.         0.         ... 0.00018311 0.00018311 0.00015259] as keyword args. From version 0.10 passing these as positional arguments will result in an error\n",
      "  mel = np.mean(librosa.feature.melspectrogram(X, sr=sample_rate).T,axis=0)\n"
     ]
    },
    {
     "name": "stdout",
     "output_type": "stream",
     "text": [
      "03-01-04-01-02-02-17.wav\n",
      "03-01-04-02-01-01-17.wav\n"
     ]
    },
    {
     "name": "stderr",
     "output_type": "stream",
     "text": [
      "<ipython-input-6-2161fc353d88>:20: FutureWarning: Pass y=[1.8310547e-04 1.5258789e-04 1.8310547e-04 ... 0.0000000e+00 6.1035156e-05\n",
      " 1.2207031e-04] as keyword args. From version 0.10 passing these as positional arguments will result in an error\n",
      "  mel = np.mean(librosa.feature.melspectrogram(X, sr=sample_rate).T,axis=0)\n",
      "<ipython-input-6-2161fc353d88>:20: FutureWarning: Pass y=[-6.1035156e-05 -3.0517578e-05 -3.0517578e-05 ... -9.1552734e-05\n",
      " -9.1552734e-05 -9.1552734e-05] as keyword args. From version 0.10 passing these as positional arguments will result in an error\n",
      "  mel = np.mean(librosa.feature.melspectrogram(X, sr=sample_rate).T,axis=0)\n"
     ]
    },
    {
     "name": "stdout",
     "output_type": "stream",
     "text": [
      "03-01-04-02-01-02-17.wav\n",
      "03-01-04-02-02-01-17.wav\n"
     ]
    },
    {
     "name": "stderr",
     "output_type": "stream",
     "text": [
      "<ipython-input-6-2161fc353d88>:20: FutureWarning: Pass y=[-6.1035156e-05 -6.1035156e-05 -9.1552734e-05 ...  3.0517578e-05\n",
      "  0.0000000e+00  0.0000000e+00] as keyword args. From version 0.10 passing these as positional arguments will result in an error\n",
      "  mel = np.mean(librosa.feature.melspectrogram(X, sr=sample_rate).T,axis=0)\n",
      "<ipython-input-6-2161fc353d88>:20: FutureWarning: Pass y=[-2.7465820e-04 -2.7465820e-04 -3.3569336e-04 ...  9.1552734e-05\n",
      "  3.0517578e-05  6.1035156e-05] as keyword args. From version 0.10 passing these as positional arguments will result in an error\n",
      "  mel = np.mean(librosa.feature.melspectrogram(X, sr=sample_rate).T,axis=0)\n"
     ]
    },
    {
     "name": "stdout",
     "output_type": "stream",
     "text": [
      "03-01-04-02-02-02-17.wav\n",
      "03-01-05-01-01-01-17.wav\n"
     ]
    },
    {
     "name": "stderr",
     "output_type": "stream",
     "text": [
      "<ipython-input-6-2161fc353d88>:20: FutureWarning: Pass y=[-6.1035156e-05 -6.1035156e-05 -9.1552734e-05 ... -1.2207031e-04\n",
      " -1.5258789e-04 -1.2207031e-04] as keyword args. From version 0.10 passing these as positional arguments will result in an error\n",
      "  mel = np.mean(librosa.feature.melspectrogram(X, sr=sample_rate).T,axis=0)\n",
      "<ipython-input-6-2161fc353d88>:20: FutureWarning: Pass y=[ 0.0000000e+00 -3.0517578e-05 -3.0517578e-05 ...  0.0000000e+00\n",
      " -3.0517578e-05 -9.1552734e-05] as keyword args. From version 0.10 passing these as positional arguments will result in an error\n",
      "  mel = np.mean(librosa.feature.melspectrogram(X, sr=sample_rate).T,axis=0)\n",
      "<ipython-input-6-2161fc353d88>:20: FutureWarning: Pass y=[-3.0517578e-05 -6.1035156e-05 -6.1035156e-05 ...  0.0000000e+00\n",
      "  0.0000000e+00 -3.0517578e-05] as keyword args. From version 0.10 passing these as positional arguments will result in an error\n",
      "  mel = np.mean(librosa.feature.melspectrogram(X, sr=sample_rate).T,axis=0)\n"
     ]
    },
    {
     "name": "stdout",
     "output_type": "stream",
     "text": [
      "03-01-05-01-01-02-17.wav\n",
      "03-01-05-01-02-01-17.wav\n"
     ]
    },
    {
     "name": "stderr",
     "output_type": "stream",
     "text": [
      "<ipython-input-6-2161fc353d88>:20: FutureWarning: Pass y=[1.5258789e-04 1.2207031e-04 6.1035156e-05 ... 0.0000000e+00 0.0000000e+00\n",
      " 0.0000000e+00] as keyword args. From version 0.10 passing these as positional arguments will result in an error\n",
      "  mel = np.mean(librosa.feature.melspectrogram(X, sr=sample_rate).T,axis=0)\n",
      "<ipython-input-6-2161fc353d88>:20: FutureWarning: Pass y=[ 0.0000000e+00 -1.2207031e-04 -6.1035156e-05 ...  0.0000000e+00\n",
      "  0.0000000e+00  0.0000000e+00] as keyword args. From version 0.10 passing these as positional arguments will result in an error\n",
      "  mel = np.mean(librosa.feature.melspectrogram(X, sr=sample_rate).T,axis=0)\n"
     ]
    },
    {
     "name": "stdout",
     "output_type": "stream",
     "text": [
      "03-01-05-01-02-02-17.wav\n",
      "03-01-05-02-01-01-17.wav\n"
     ]
    },
    {
     "name": "stderr",
     "output_type": "stream",
     "text": [
      "<ipython-input-6-2161fc353d88>:20: FutureWarning: Pass y=[ 0.         -0.00021362 -0.00015259 ...  0.          0.\n",
      "  0.        ] as keyword args. From version 0.10 passing these as positional arguments will result in an error\n",
      "  mel = np.mean(librosa.feature.melspectrogram(X, sr=sample_rate).T,axis=0)\n"
     ]
    },
    {
     "name": "stdout",
     "output_type": "stream",
     "text": [
      "03-01-05-02-01-02-17.wav\n",
      "03-01-05-02-02-01-17.wav\n"
     ]
    },
    {
     "name": "stderr",
     "output_type": "stream",
     "text": [
      "<ipython-input-6-2161fc353d88>:20: FutureWarning: Pass y=[0.00015259 0.00021362 0.00018311 ... 0.         0.         0.        ] as keyword args. From version 0.10 passing these as positional arguments will result in an error\n",
      "  mel = np.mean(librosa.feature.melspectrogram(X, sr=sample_rate).T,axis=0)\n",
      "<ipython-input-6-2161fc353d88>:20: FutureWarning: Pass y=[-2.1362305e-04 -2.4414062e-04 -1.8310547e-04 ...  0.0000000e+00\n",
      " -3.0517578e-05 -3.0517578e-05] as keyword args. From version 0.10 passing these as positional arguments will result in an error\n",
      "  mel = np.mean(librosa.feature.melspectrogram(X, sr=sample_rate).T,axis=0)\n"
     ]
    },
    {
     "name": "stdout",
     "output_type": "stream",
     "text": [
      "03-01-05-02-02-02-17.wav\n",
      "03-01-06-01-01-01-17.wav\n",
      "03-01-06-01-01-02-17.wav\n",
      "03-01-06-01-02-01-17.wav\n",
      "03-01-06-01-02-02-17.wav\n",
      "03-01-06-02-01-01-17.wav\n",
      "03-01-06-02-01-02-17.wav\n",
      "03-01-06-02-02-01-17.wav\n",
      "03-01-06-02-02-02-17.wav\n",
      "03-01-07-01-01-01-17.wav\n",
      "03-01-07-01-01-02-17.wav\n",
      "03-01-07-01-02-01-17.wav\n",
      "03-01-07-01-02-02-17.wav\n",
      "03-01-07-02-01-01-17.wav\n",
      "03-01-07-02-01-02-17.wav\n",
      "03-01-07-02-02-01-17.wav\n",
      "03-01-07-02-02-02-17.wav\n",
      "03-01-08-01-01-01-17.wav\n",
      "03-01-08-01-01-02-17.wav\n",
      "03-01-08-01-02-01-17.wav\n",
      "03-01-08-01-02-02-17.wav\n",
      "03-01-08-02-01-01-17.wav\n",
      "03-01-08-02-01-02-17.wav\n",
      "03-01-08-02-02-01-17.wav\n",
      "03-01-08-02-02-02-17.wav\n",
      "03-01-01-01-01-01-18.wav\n",
      "03-01-01-01-01-02-18.wav\n",
      "03-01-01-01-02-01-18.wav\n",
      "03-01-01-01-02-02-18.wav\n",
      "03-01-02-01-01-01-18.wav\n",
      "03-01-02-01-01-02-18.wav\n",
      "03-01-02-01-02-01-18.wav\n",
      "03-01-02-01-02-02-18.wav\n",
      "03-01-02-02-01-01-18.wav\n",
      "03-01-02-02-01-02-18.wav\n",
      "03-01-02-02-02-01-18.wav\n",
      "03-01-02-02-02-02-18.wav\n",
      "03-01-03-01-01-01-18.wav\n",
      "03-01-03-01-01-02-18.wav\n",
      "03-01-03-01-02-01-18.wav\n",
      "03-01-03-01-02-02-18.wav\n",
      "03-01-03-02-01-01-18.wav\n",
      "03-01-03-02-01-02-18.wav\n",
      "03-01-03-02-02-01-18.wav\n",
      "03-01-03-02-02-02-18.wav\n",
      "03-01-04-01-01-01-18.wav\n",
      "03-01-04-01-01-02-18.wav\n",
      "03-01-04-01-02-01-18.wav\n",
      "03-01-04-01-02-02-18.wav\n",
      "03-01-04-02-01-01-18.wav\n",
      "03-01-04-02-01-02-18.wav\n",
      "03-01-04-02-02-01-18.wav\n",
      "03-01-04-02-02-02-18.wav\n",
      "03-01-05-01-01-01-18.wav\n",
      "03-01-05-01-01-02-18.wav\n",
      "03-01-05-01-02-01-18.wav\n",
      "03-01-05-01-02-02-18.wav\n",
      "03-01-05-02-01-01-18.wav\n",
      "03-01-05-02-01-02-18.wav\n",
      "03-01-05-02-02-01-18.wav\n",
      "03-01-05-02-02-02-18.wav\n",
      "03-01-06-01-01-01-18.wav\n",
      "03-01-06-01-01-02-18.wav\n",
      "03-01-06-01-02-01-18.wav\n",
      "03-01-06-01-02-02-18.wav\n",
      "03-01-06-02-01-01-18.wav\n",
      "03-01-06-02-01-02-18.wav\n",
      "03-01-06-02-02-01-18.wav\n",
      "03-01-06-02-02-02-18.wav\n",
      "03-01-07-01-01-01-18.wav\n",
      "03-01-07-01-01-02-18.wav\n",
      "03-01-07-01-02-01-18.wav\n",
      "03-01-07-01-02-02-18.wav\n",
      "03-01-07-02-01-01-18.wav\n",
      "03-01-07-02-01-02-18.wav\n",
      "03-01-07-02-02-01-18.wav\n",
      "03-01-07-02-02-02-18.wav\n",
      "03-01-08-01-01-01-18.wav\n",
      "03-01-08-01-01-02-18.wav\n",
      "03-01-08-01-02-01-18.wav\n",
      "03-01-08-01-02-02-18.wav\n",
      "03-01-08-02-01-01-18.wav\n",
      "03-01-08-02-01-02-18.wav\n",
      "03-01-08-02-02-01-18.wav\n",
      "03-01-08-02-02-02-18.wav\n",
      "03-01-01-01-01-01-19.wav\n",
      "03-01-01-01-01-02-19.wav\n",
      "03-01-01-01-02-01-19.wav\n"
     ]
    },
    {
     "name": "stderr",
     "output_type": "stream",
     "text": [
      "<ipython-input-6-2161fc353d88>:20: FutureWarning: Pass y=[ 0.          0.          0.         ... -0.00027466 -0.00027466\n",
      " -0.00030518] as keyword args. From version 0.10 passing these as positional arguments will result in an error\n",
      "  mel = np.mean(librosa.feature.melspectrogram(X, sr=sample_rate).T,axis=0)\n",
      "<ipython-input-6-2161fc353d88>:20: FutureWarning: Pass y=[-0.00018311 -0.00018311 -0.00018311 ...  0.          0.\n",
      "  0.        ] as keyword args. From version 0.10 passing these as positional arguments will result in an error\n",
      "  mel = np.mean(librosa.feature.melspectrogram(X, sr=sample_rate).T,axis=0)\n"
     ]
    },
    {
     "name": "stdout",
     "output_type": "stream",
     "text": [
      "03-01-01-01-02-02-19.wav\n",
      "03-01-02-01-01-01-19.wav"
     ]
    },
    {
     "name": "stderr",
     "output_type": "stream",
     "text": [
      "<ipython-input-6-2161fc353d88>:20: FutureWarning: Pass y=[ 1.5258789e-04  9.1552734e-05  1.5258789e-04 ... -3.0517578e-05\n",
      " -3.0517578e-05 -3.0517578e-05] as keyword args. From version 0.10 passing these as positional arguments will result in an error\n",
      "  mel = np.mean(librosa.feature.melspectrogram(X, sr=sample_rate).T,axis=0)\n",
      "<ipython-input-6-2161fc353d88>:20: FutureWarning: Pass y=[0.         0.         0.         ... 0.00308228 0.00311279 0.00308228] as keyword args. From version 0.10 passing these as positional arguments will result in an error\n",
      "  mel = np.mean(librosa.feature.melspectrogram(X, sr=sample_rate).T,axis=0)\n"
     ]
    },
    {
     "name": "stdout",
     "output_type": "stream",
     "text": [
      "\n",
      "03-01-02-01-01-02-19.wav\n",
      "03-01-02-01-02-01-19.wav\n",
      "03-01-02-01-02-02-19.wav\n",
      "03-01-02-02-01-01-19.wav\n",
      "03-01-02-02-01-02-19.wav\n",
      "03-01-02-02-02-01-19.wav\n",
      "03-01-02-02-02-02-19.wav\n",
      "03-01-03-01-01-01-19.wav\n",
      "03-01-03-01-01-02-19.wav\n",
      "03-01-03-01-02-01-19.wav\n"
     ]
    },
    {
     "name": "stderr",
     "output_type": "stream",
     "text": [
      "<ipython-input-6-2161fc353d88>:20: FutureWarning: Pass y=[3.0517578e-05 6.1035156e-05 3.0517578e-05 ... 6.1035156e-05 6.1035156e-05\n",
      " 9.1552734e-05] as keyword args. From version 0.10 passing these as positional arguments will result in an error\n",
      "  mel = np.mean(librosa.feature.melspectrogram(X, sr=sample_rate).T,axis=0)\n",
      "<ipython-input-6-2161fc353d88>:20: FutureWarning: Pass y=[-0.00012207 -0.00012207 -0.00012207 ...  0.00012207  0.00012207\n",
      "  0.00012207] as keyword args. From version 0.10 passing these as positional arguments will result in an error\n",
      "  mel = np.mean(librosa.feature.melspectrogram(X, sr=sample_rate).T,axis=0)\n"
     ]
    },
    {
     "name": "stdout",
     "output_type": "stream",
     "text": [
      "03-01-03-01-02-02-19.wav\n",
      "03-01-03-02-01-01-19.wav\n",
      "03-01-03-02-01-02-19.wav\n",
      "03-01-03-02-02-01-19.wav\n"
     ]
    },
    {
     "name": "stderr",
     "output_type": "stream",
     "text": [
      "<ipython-input-6-2161fc353d88>:20: FutureWarning: Pass y=[ 0.00036621  0.00036621  0.00042725 ... -0.00021362 -0.00021362\n",
      " -0.00024414] as keyword args. From version 0.10 passing these as positional arguments will result in an error\n",
      "  mel = np.mean(librosa.feature.melspectrogram(X, sr=sample_rate).T,axis=0)\n",
      "<ipython-input-6-2161fc353d88>:20: FutureWarning: Pass y=[0.00064087 0.00067139 0.0007019  ... 0.00039673 0.00393677 0.0067749 ] as keyword args. From version 0.10 passing these as positional arguments will result in an error\n",
      "  mel = np.mean(librosa.feature.melspectrogram(X, sr=sample_rate).T,axis=0)\n"
     ]
    },
    {
     "name": "stdout",
     "output_type": "stream",
     "text": [
      "03-01-03-02-02-02-19.wav\n"
     ]
    },
    {
     "name": "stderr",
     "output_type": "stream",
     "text": [
      "<ipython-input-6-2161fc353d88>:20: FutureWarning: Pass y=[-1.2207031e-04 -1.2207031e-04 -1.2207031e-04 ...  6.1035156e-05\n",
      "  6.1035156e-05  3.0517578e-05] as keyword args. From version 0.10 passing these as positional arguments will result in an error\n",
      "  mel = np.mean(librosa.feature.melspectrogram(X, sr=sample_rate).T,axis=0)\n"
     ]
    },
    {
     "name": "stdout",
     "output_type": "stream",
     "text": [
      "03-01-04-01-01-01-19.wav\n",
      "03-01-04-01-01-02-19.wav\n",
      "03-01-04-01-02-01-19.wav\n",
      "03-01-04-01-02-02-19.wav\n"
     ]
    },
    {
     "name": "stderr",
     "output_type": "stream",
     "text": [
      "<ipython-input-6-2161fc353d88>:20: FutureWarning: Pass y=[ 1.2207031e-04  1.2207031e-04  1.2207031e-04 ...  0.0000000e+00\n",
      " -3.0517578e-05  0.0000000e+00] as keyword args. From version 0.10 passing these as positional arguments will result in an error\n",
      "  mel = np.mean(librosa.feature.melspectrogram(X, sr=sample_rate).T,axis=0)\n"
     ]
    },
    {
     "name": "stdout",
     "output_type": "stream",
     "text": [
      "03-01-04-02-01-01-19.wav\n"
     ]
    },
    {
     "name": "stderr",
     "output_type": "stream",
     "text": [
      "<ipython-input-6-2161fc353d88>:20: FutureWarning: Pass y=[ 0.0000000e+00  0.0000000e+00 -3.0517578e-05 ... -1.2512207e-03\n",
      " -1.2512207e-03 -1.2512207e-03] as keyword args. From version 0.10 passing these as positional arguments will result in an error\n",
      "  mel = np.mean(librosa.feature.melspectrogram(X, sr=sample_rate).T,axis=0)\n"
     ]
    },
    {
     "name": "stdout",
     "output_type": "stream",
     "text": [
      "03-01-04-02-01-02-19.wav\n"
     ]
    },
    {
     "name": "stderr",
     "output_type": "stream",
     "text": [
      "<ipython-input-6-2161fc353d88>:20: FutureWarning: Pass y=[-0.0022583  -0.0022583  -0.00228882 ...  0.          0.\n",
      "  0.        ] as keyword args. From version 0.10 passing these as positional arguments will result in an error\n",
      "  mel = np.mean(librosa.feature.melspectrogram(X, sr=sample_rate).T,axis=0)\n"
     ]
    },
    {
     "name": "stdout",
     "output_type": "stream",
     "text": [
      "03-01-04-02-02-01-19.wav\n",
      "03-01-04-02-02-02-19.wav\n"
     ]
    },
    {
     "name": "stderr",
     "output_type": "stream",
     "text": [
      "<ipython-input-6-2161fc353d88>:20: FutureWarning: Pass y=[ 6.1035156e-05  3.0517578e-05  3.0517578e-05 ... -6.1035156e-05\n",
      " -6.1035156e-05 -6.1035156e-05] as keyword args. From version 0.10 passing these as positional arguments will result in an error\n",
      "  mel = np.mean(librosa.feature.melspectrogram(X, sr=sample_rate).T,axis=0)\n",
      "<ipython-input-6-2161fc353d88>:20: FutureWarning: Pass y=[-0.00054932 -0.00045776 -0.00039673 ... -0.00024414 -0.00021362\n",
      " -0.00021362] as keyword args. From version 0.10 passing these as positional arguments will result in an error\n",
      "  mel = np.mean(librosa.feature.melspectrogram(X, sr=sample_rate).T,axis=0)\n"
     ]
    },
    {
     "name": "stdout",
     "output_type": "stream",
     "text": [
      "03-01-05-01-01-01-19.wav\n",
      "03-01-05-01-01-02-19.wav\n"
     ]
    },
    {
     "name": "stderr",
     "output_type": "stream",
     "text": [
      "<ipython-input-6-2161fc353d88>:20: FutureWarning: Pass y=[-9.1552734e-05 -1.2207031e-04 -1.2207031e-04 ...  3.9672852e-04\n",
      "  3.9672852e-04  3.6621094e-04] as keyword args. From version 0.10 passing these as positional arguments will result in an error\n",
      "  mel = np.mean(librosa.feature.melspectrogram(X, sr=sample_rate).T,axis=0)\n"
     ]
    },
    {
     "name": "stdout",
     "output_type": "stream",
     "text": [
      "03-01-05-01-02-01-19.wav\n",
      "03-01-05-01-02-02-19.wav\n"
     ]
    },
    {
     "name": "stderr",
     "output_type": "stream",
     "text": [
      "<ipython-input-6-2161fc353d88>:20: FutureWarning: Pass y=[-2.8686523e-03 -2.8381348e-03 -2.8686523e-03 ...  0.0000000e+00\n",
      "  3.0517578e-05  0.0000000e+00] as keyword args. From version 0.10 passing these as positional arguments will result in an error\n",
      "  mel = np.mean(librosa.feature.melspectrogram(X, sr=sample_rate).T,axis=0)\n"
     ]
    },
    {
     "name": "stdout",
     "output_type": "stream",
     "text": [
      "03-01-05-02-01-01-19.wav\n",
      "03-01-05-02-01-02-19.wav\n"
     ]
    },
    {
     "name": "stderr",
     "output_type": "stream",
     "text": [
      "<ipython-input-6-2161fc353d88>:20: FutureWarning: Pass y=[ 0.0000000e+00  0.0000000e+00  0.0000000e+00 ... -1.2207031e-04\n",
      " -6.1035156e-05 -1.2207031e-04] as keyword args. From version 0.10 passing these as positional arguments will result in an error\n",
      "  mel = np.mean(librosa.feature.melspectrogram(X, sr=sample_rate).T,axis=0)\n"
     ]
    },
    {
     "name": "stdout",
     "output_type": "stream",
     "text": [
      "03-01-05-02-02-01-19.wav\n"
     ]
    },
    {
     "name": "stderr",
     "output_type": "stream",
     "text": [
      "<ipython-input-6-2161fc353d88>:20: FutureWarning: Pass y=[-9.1552734e-05  2.4414062e-04  0.0000000e+00 ...  0.0000000e+00\n",
      "  0.0000000e+00  0.0000000e+00] as keyword args. From version 0.10 passing these as positional arguments will result in an error\n",
      "  mel = np.mean(librosa.feature.melspectrogram(X, sr=sample_rate).T,axis=0)\n"
     ]
    },
    {
     "name": "stdout",
     "output_type": "stream",
     "text": [
      "03-01-05-02-02-02-19.wav\n",
      "03-01-06-01-01-01-19.wav\n",
      "03-01-06-01-01-02-19.wav\n",
      "03-01-06-01-02-01-19.wav\n",
      "03-01-06-01-02-02-19.wav\n",
      "03-01-06-02-01-01-19.wav\n",
      "03-01-06-02-01-02-19.wav\n",
      "03-01-06-02-02-01-19.wav\n",
      "03-01-06-02-02-02-19.wav\n",
      "03-01-07-01-01-01-19.wav\n",
      "03-01-07-01-01-02-19.wav\n",
      "03-01-07-01-02-01-19.wav\n",
      "03-01-07-01-02-02-19.wav\n",
      "03-01-07-02-01-01-19.wav\n",
      "03-01-07-02-01-02-19.wav\n",
      "03-01-07-02-02-01-19.wav\n",
      "03-01-07-02-02-02-19.wav\n",
      "03-01-08-01-01-01-19.wav\n",
      "03-01-08-01-01-02-19.wav\n",
      "03-01-08-01-02-01-19.wav\n",
      "03-01-08-01-02-02-19.wav\n",
      "03-01-08-02-01-01-19.wav\n",
      "03-01-08-02-01-02-19.wav\n",
      "03-01-08-02-02-01-19.wav\n",
      "03-01-08-02-02-02-19.wav\n",
      "03-01-01-01-01-01-20.wav\n",
      "03-01-01-01-01-02-20.wav\n",
      "03-01-01-01-02-01-20.wav\n",
      "03-01-01-01-02-02-20.wav\n",
      "03-01-02-01-01-01-20.wav\n",
      "03-01-02-01-01-02-20.wav\n",
      "03-01-02-01-02-01-20.wav\n",
      "03-01-02-01-02-02-20.wav\n",
      "03-01-02-02-01-01-20.wav\n",
      "03-01-02-02-01-02-20.wav\n",
      "03-01-02-02-02-01-20.wav\n",
      "03-01-02-02-02-02-20.wav\n",
      "03-01-03-01-01-01-20.wav\n",
      "03-01-03-01-01-02-20.wav\n",
      "03-01-03-01-02-01-20.wav\n"
     ]
    },
    {
     "name": "stderr",
     "output_type": "stream",
     "text": [
      "C:\\Users\\Avimo\\AppData\\Roaming\\Python\\Python38\\site-packages\\librosa\\util\\decorators.py:88: UserWarning: n_fft=2048 is too small for input signal of length=2\n",
      "  return f(*args, **kwargs)\n"
     ]
    },
    {
     "name": "stdout",
     "output_type": "stream",
     "text": [
      "[+] Number of training samples: 403\n",
      "[+] Number of testing samples: 135\n"
     ]
    }
   ],
   "source": [
    "X_train, X_test, y_train, y_test = load_data(test_size=0.25)\n",
    "\n",
    "print(\"[+] Number of training samples:\", X_train.shape[0])\n",
    "# number of samples in testing data\n",
    "print(\"[+] Number of testing samples:\", X_test.shape[0])"
   ]
  },
  {
   "cell_type": "code",
   "execution_count": 15,
   "metadata": {
    "id": "GO3OzGWt22Sq"
   },
   "outputs": [],
   "source": [
    "import numpy as np\n",
    "X_train = np.asarray(X_train)\n",
    "y_train= np.asarray(y_train)\n",
    "X_test=np.array(X_test)\n",
    "y_test=np.array(y_test)"
   ]
  },
  {
   "cell_type": "code",
   "execution_count": 16,
   "metadata": {
    "colab": {
     "base_uri": "https://localhost:8080/",
     "height": 34
    },
    "id": "p_HrHWFo3KFH",
    "outputId": "af800f38-dd0d-4cfa-f9eb-c0dee1d90791"
   },
   "outputs": [
    {
     "data": {
      "text/plain": [
       "((403, 180), (403,), (135, 180), (135,))"
      ]
     },
     "execution_count": 16,
     "metadata": {},
     "output_type": "execute_result"
    }
   ],
   "source": [
    "X_train.shape,y_train.shape,X_test.shape,y_test.shape"
   ]
  },
  {
   "cell_type": "code",
   "execution_count": 17,
   "metadata": {
    "id": "cuGn3O113iVS"
   },
   "outputs": [],
   "source": [
    "x_traincnn = np.expand_dims(X_train, axis=2)\n",
    "x_testcnn = np.expand_dims(X_test, axis=2)"
   ]
  },
  {
   "cell_type": "code",
   "execution_count": 18,
   "metadata": {
    "colab": {
     "base_uri": "https://localhost:8080/",
     "height": 34
    },
    "id": "HmqNzFs85Ck6",
    "outputId": "18ef3b9d-a617-4aa4-9667-b52712b79d3f"
   },
   "outputs": [
    {
     "data": {
      "text/plain": [
       "((403, 180, 1), (135, 180, 1))"
      ]
     },
     "execution_count": 18,
     "metadata": {},
     "output_type": "execute_result"
    }
   ],
   "source": [
    "x_traincnn.shape,x_testcnn.shape"
   ]
  },
  {
   "cell_type": "code",
   "execution_count": 13,
   "metadata": {},
   "outputs": [],
   "source": [
    "import keras\n",
    "import numpy as np\n",
    "import matplotlib.pyplot as plt\n",
    "import tensorflow as tf\n",
    "from keras.preprocessing import sequence\n",
    "from tensorflow.keras.models import Sequential\n",
    "from keras.layers import Dense, Embedding\n",
    "from keras.layers import Input, Flatten, Dropout, Activation\n",
    "from keras.layers import Conv1D, MaxPooling1D\n",
    "from keras.models import Model\n",
    "from keras.callbacks import ModelCheckpoint\n",
    "from tensorflow.keras.utils import to_categorical\n",
    "from tensorflow.keras import optimizers\n"
   ]
  },
  {
   "cell_type": "markdown",
   "metadata": {},
   "source": [
    "Model 1: 3 layers | All Relu Activation Function"
   ]
  },
  {
   "cell_type": "code",
   "execution_count": 81,
   "metadata": {
    "id": "jhBOW8Rk5VKt"
   },
   "outputs": [],
   "source": [
    "\n",
    "\n",
    "model = Sequential()\n",
    "\n",
    "model.add(Conv1D(128, 5,padding='same',input_shape=(180,1)))        #1\n",
    "model.add(Activation('relu'))\n",
    "model.add(Dropout(0.1))\n",
    "model.add(MaxPooling1D(pool_size=(8)))\n",
    "\n",
    "\n",
    "\n",
    "model.add(Conv1D(128, 5,padding='same',))                           #2\n",
    "model.add(Activation('relu'))\n",
    "model.add(Dropout(0.1))\n",
    "\n",
    "\n",
    "model.add(Conv1D(128, 5,padding='same',))                           #3\n",
    "model.add(Activation('relu'))\n",
    "model.add(Dropout(0.1))\n",
    "\n",
    "model.add(Flatten())\n",
    "model.add(Dense(8))                                                 #4\n",
    "model.add(Activation('relu'))\n",
    "opt =optimizers.RMSprop(learning_rate=0.00005, rho=0.9, epsilon=None, decay=0.0)"
   ]
  },
  {
   "cell_type": "code",
   "execution_count": 82,
   "metadata": {
    "colab": {
     "base_uri": "https://localhost:8080/",
     "height": 493
    },
    "id": "q5nm0kqP5hV1",
    "outputId": "4cbea3dc-c70e-4613-e05a-07cc5fd246af"
   },
   "outputs": [
    {
     "name": "stdout",
     "output_type": "stream",
     "text": [
      "Model: \"sequential_9\"\n",
      "_________________________________________________________________\n",
      " Layer (type)                Output Shape              Param #   \n",
      "=================================================================\n",
      " conv1d_24 (Conv1D)          (None, 180, 128)          768       \n",
      "                                                                 \n",
      " activation_33 (Activation)  (None, 180, 128)          0         \n",
      "                                                                 \n",
      " dropout_24 (Dropout)        (None, 180, 128)          0         \n",
      "                                                                 \n",
      " max_pooling1d_14 (MaxPoolin  (None, 22, 128)          0         \n",
      " g1D)                                                            \n",
      "                                                                 \n",
      " conv1d_25 (Conv1D)          (None, 22, 128)           82048     \n",
      "                                                                 \n",
      " activation_34 (Activation)  (None, 22, 128)           0         \n",
      "                                                                 \n",
      " dropout_25 (Dropout)        (None, 22, 128)           0         \n",
      "                                                                 \n",
      " conv1d_26 (Conv1D)          (None, 22, 128)           82048     \n",
      "                                                                 \n",
      " activation_35 (Activation)  (None, 22, 128)           0         \n",
      "                                                                 \n",
      " dropout_26 (Dropout)        (None, 22, 128)           0         \n",
      "                                                                 \n",
      " flatten_9 (Flatten)         (None, 2816)              0         \n",
      "                                                                 \n",
      " dense_9 (Dense)             (None, 8)                 22536     \n",
      "                                                                 \n",
      " activation_36 (Activation)  (None, 8)                 0         \n",
      "                                                                 \n",
      "=================================================================\n",
      "Total params: 187,400\n",
      "Trainable params: 187,400\n",
      "Non-trainable params: 0\n",
      "_________________________________________________________________\n"
     ]
    }
   ],
   "source": [
    "model.summary()"
   ]
  },
  {
   "cell_type": "code",
   "execution_count": 83,
   "metadata": {
    "colab": {
     "base_uri": "https://localhost:8080/",
     "height": 105
    },
    "id": "S-fAEnOR5nvH",
    "outputId": "4fc146d4-b84b-42d0-bed9-85beaab3226b"
   },
   "outputs": [],
   "source": [
    "model.compile(loss='sparse_categorical_crossentropy',\n",
    "              optimizer=opt,\n",
    "              metrics=['accuracy'])"
   ]
  },
  {
   "cell_type": "code",
   "execution_count": 84,
   "metadata": {
    "colab": {
     "base_uri": "https://localhost:8080/",
     "height": 1000
    },
    "id": "K6opFz235tL0",
    "outputId": "b509e32f-8d14-477c-d8a1-35e919a159d7"
   },
   "outputs": [
    {
     "name": "stdout",
     "output_type": "stream",
     "text": [
      "Epoch 1/100\n",
      "21/21 [==============================] - 3s 58ms/step - loss: 7.5397 - accuracy: 0.2357 - val_loss: 5.2650 - val_accuracy: 0.3111\n",
      "Epoch 2/100\n",
      "21/21 [==============================] - 1s 47ms/step - loss: 6.8672 - accuracy: 0.2779 - val_loss: 6.7356 - val_accuracy: 0.2963\n",
      "Epoch 3/100\n",
      "21/21 [==============================] - 1s 43ms/step - loss: 7.3113 - accuracy: 0.3275 - val_loss: 7.9761 - val_accuracy: 0.3333\n",
      "Epoch 4/100\n",
      "21/21 [==============================] - 1s 33ms/step - loss: 7.3027 - accuracy: 0.3052 - val_loss: 7.9677 - val_accuracy: 0.2963\n",
      "Epoch 5/100\n",
      "21/21 [==============================] - 1s 33ms/step - loss: 7.6223 - accuracy: 0.3127 - val_loss: 7.9761 - val_accuracy: 0.2815\n",
      "Epoch 6/100\n",
      "21/21 [==============================] - 1s 34ms/step - loss: 7.5399 - accuracy: 0.3151 - val_loss: 7.9761 - val_accuracy: 0.3556\n",
      "Epoch 7/100\n",
      "21/21 [==============================] - 1s 34ms/step - loss: 7.4889 - accuracy: 0.3127 - val_loss: 7.9761 - val_accuracy: 0.3111\n",
      "Epoch 8/100\n",
      "21/21 [==============================] - 1s 35ms/step - loss: 7.5649 - accuracy: 0.2754 - val_loss: 7.9742 - val_accuracy: 0.3111\n",
      "Epoch 9/100\n",
      "21/21 [==============================] - 1s 39ms/step - loss: 7.6027 - accuracy: 0.2630 - val_loss: 7.9598 - val_accuracy: 0.3111\n",
      "Epoch 10/100\n",
      "21/21 [==============================] - 1s 40ms/step - loss: 7.5319 - accuracy: 0.2978 - val_loss: 7.9755 - val_accuracy: 0.3111\n",
      "Epoch 11/100\n",
      "21/21 [==============================] - 1s 39ms/step - loss: 7.7693 - accuracy: 0.2730 - val_loss: 7.9523 - val_accuracy: 0.3111\n",
      "Epoch 12/100\n",
      "21/21 [==============================] - 1s 36ms/step - loss: 7.6322 - accuracy: 0.2854 - val_loss: 7.9587 - val_accuracy: 0.3111\n",
      "Epoch 13/100\n",
      "21/21 [==============================] - 1s 32ms/step - loss: 7.6610 - accuracy: 0.2878 - val_loss: 7.9501 - val_accuracy: 0.3111\n",
      "Epoch 14/100\n",
      "21/21 [==============================] - 1s 37ms/step - loss: 8.1550 - accuracy: 0.2779 - val_loss: 7.9578 - val_accuracy: 0.3111\n",
      "Epoch 15/100\n",
      "21/21 [==============================] - 1s 37ms/step - loss: 7.5172 - accuracy: 0.2903 - val_loss: 7.9568 - val_accuracy: 0.3111\n",
      "Epoch 16/100\n",
      "21/21 [==============================] - 1s 38ms/step - loss: 7.6997 - accuracy: 0.2680 - val_loss: 7.9563 - val_accuracy: 0.3111\n",
      "Epoch 17/100\n",
      "21/21 [==============================] - 1s 35ms/step - loss: 7.6058 - accuracy: 0.2779 - val_loss: 7.9607 - val_accuracy: 0.3111\n",
      "Epoch 18/100\n",
      "21/21 [==============================] - 1s 38ms/step - loss: 7.5233 - accuracy: 0.2854 - val_loss: 7.9642 - val_accuracy: 0.3630\n",
      "Epoch 19/100\n",
      "21/21 [==============================] - 1s 36ms/step - loss: 7.7603 - accuracy: 0.2928 - val_loss: 7.9441 - val_accuracy: 0.3111\n",
      "Epoch 20/100\n",
      "21/21 [==============================] - 1s 37ms/step - loss: 8.2125 - accuracy: 0.2829 - val_loss: 8.1113 - val_accuracy: 0.3111\n",
      "Epoch 21/100\n",
      "21/21 [==============================] - 1s 37ms/step - loss: 8.1747 - accuracy: 0.2804 - val_loss: 7.9536 - val_accuracy: 0.3111\n",
      "Epoch 22/100\n",
      "21/21 [==============================] - 1s 36ms/step - loss: 7.5608 - accuracy: 0.3027 - val_loss: 7.9590 - val_accuracy: 0.3407\n",
      "Epoch 23/100\n",
      "21/21 [==============================] - 1s 38ms/step - loss: 7.5147 - accuracy: 0.2829 - val_loss: 7.9478 - val_accuracy: 0.3111\n",
      "Epoch 24/100\n",
      "21/21 [==============================] - 1s 33ms/step - loss: 7.5550 - accuracy: 0.2903 - val_loss: 7.9531 - val_accuracy: 0.3111\n",
      "Epoch 25/100\n",
      "21/21 [==============================] - 1s 33ms/step - loss: 7.8990 - accuracy: 0.2779 - val_loss: 7.9451 - val_accuracy: 0.3111\n",
      "Epoch 26/100\n",
      "21/21 [==============================] - 1s 33ms/step - loss: 7.7839 - accuracy: 0.2829 - val_loss: 7.9402 - val_accuracy: 0.3111\n",
      "Epoch 27/100\n",
      "21/21 [==============================] - 1s 32ms/step - loss: 7.6213 - accuracy: 0.2804 - val_loss: 7.9402 - val_accuracy: 0.3111\n",
      "Epoch 28/100\n",
      "21/21 [==============================] - 1s 33ms/step - loss: 7.5829 - accuracy: 0.3052 - val_loss: 7.9388 - val_accuracy: 0.3111\n",
      "Epoch 29/100\n",
      "21/21 [==============================] - 1s 38ms/step - loss: 7.6545 - accuracy: 0.3201 - val_loss: 7.9534 - val_accuracy: 0.3111\n",
      "Epoch 30/100\n",
      "21/21 [==============================] - 1s 36ms/step - loss: 7.5543 - accuracy: 0.3648 - val_loss: 7.9508 - val_accuracy: 0.3333\n",
      "Epoch 31/100\n",
      "21/21 [==============================] - 1s 37ms/step - loss: 7.6248 - accuracy: 0.3077 - val_loss: 7.9502 - val_accuracy: 0.3333\n",
      "Epoch 32/100\n",
      "21/21 [==============================] - 1s 38ms/step - loss: 7.5862 - accuracy: 0.3251 - val_loss: 7.9388 - val_accuracy: 0.3111\n",
      "Epoch 33/100\n",
      "21/21 [==============================] - 1s 38ms/step - loss: 7.9591 - accuracy: 0.2680 - val_loss: 8.0270 - val_accuracy: 0.3111\n",
      "Epoch 34/100\n",
      "21/21 [==============================] - 1s 40ms/step - loss: 7.9732 - accuracy: 0.2705 - val_loss: 8.0442 - val_accuracy: 0.3111\n",
      "Epoch 35/100\n",
      "21/21 [==============================] - 1s 40ms/step - loss: 7.6886 - accuracy: 0.2804 - val_loss: 7.9402 - val_accuracy: 0.3630\n",
      "Epoch 36/100\n",
      "21/21 [==============================] - 1s 38ms/step - loss: 7.5444 - accuracy: 0.3127 - val_loss: 7.9408 - val_accuracy: 0.3630\n",
      "Epoch 37/100\n",
      "21/21 [==============================] - 1s 39ms/step - loss: 7.6526 - accuracy: 0.3325 - val_loss: 7.9398 - val_accuracy: 0.3556\n",
      "Epoch 38/100\n",
      "21/21 [==============================] - 1s 43ms/step - loss: 7.5792 - accuracy: 0.3027 - val_loss: 7.9402 - val_accuracy: 0.3333\n",
      "Epoch 39/100\n",
      "21/21 [==============================] - 1s 36ms/step - loss: 7.6910 - accuracy: 0.3102 - val_loss: 7.9398 - val_accuracy: 0.3630\n",
      "Epoch 40/100\n",
      "21/21 [==============================] - 1s 33ms/step - loss: 7.6081 - accuracy: 0.3027 - val_loss: 7.9392 - val_accuracy: 0.3630\n",
      "Epoch 41/100\n",
      "21/21 [==============================] - 1s 33ms/step - loss: 7.5770 - accuracy: 0.3400 - val_loss: 7.9402 - val_accuracy: 0.3333\n",
      "Epoch 42/100\n",
      "21/21 [==============================] - 1s 33ms/step - loss: 7.6481 - accuracy: 0.3201 - val_loss: 7.9390 - val_accuracy: 0.3630\n",
      "Epoch 43/100\n",
      "21/21 [==============================] - 1s 33ms/step - loss: 7.5781 - accuracy: 0.3027 - val_loss: 7.9402 - val_accuracy: 0.3333\n",
      "Epoch 44/100\n",
      "21/21 [==============================] - 1s 34ms/step - loss: 8.0399 - accuracy: 0.2978 - val_loss: 11.1036 - val_accuracy: 0.3111\n",
      "Epoch 45/100\n",
      "21/21 [==============================] - 1s 33ms/step - loss: 11.6834 - accuracy: 0.2730 - val_loss: 11.1036 - val_accuracy: 0.3111\n",
      "Epoch 46/100\n",
      "21/21 [==============================] - 1s 37ms/step - loss: 11.7186 - accuracy: 0.2730 - val_loss: 11.1036 - val_accuracy: 0.3111\n",
      "Epoch 47/100\n",
      "21/21 [==============================] - 1s 34ms/step - loss: 11.7195 - accuracy: 0.2730 - val_loss: 11.1036 - val_accuracy: 0.3111\n",
      "Epoch 48/100\n",
      "21/21 [==============================] - 1s 33ms/step - loss: 11.7186 - accuracy: 0.2730 - val_loss: 11.1036 - val_accuracy: 0.3111\n",
      "Epoch 49/100\n",
      "21/21 [==============================] - 1s 34ms/step - loss: 11.7186 - accuracy: 0.2730 - val_loss: 11.1036 - val_accuracy: 0.3111\n",
      "Epoch 50/100\n",
      "21/21 [==============================] - 1s 34ms/step - loss: 11.7193 - accuracy: 0.2730 - val_loss: 11.1036 - val_accuracy: 0.3111\n",
      "Epoch 51/100\n",
      "21/21 [==============================] - 1s 34ms/step - loss: 11.7186 - accuracy: 0.2730 - val_loss: 11.1036 - val_accuracy: 0.3111\n",
      "Epoch 52/100\n",
      "21/21 [==============================] - 1s 33ms/step - loss: 11.7186 - accuracy: 0.2730 - val_loss: 11.1036 - val_accuracy: 0.3111\n",
      "Epoch 53/100\n",
      "21/21 [==============================] - 1s 34ms/step - loss: 11.7186 - accuracy: 0.2730 - val_loss: 11.1036 - val_accuracy: 0.3111\n",
      "Epoch 54/100\n",
      "21/21 [==============================] - 1s 34ms/step - loss: 11.7186 - accuracy: 0.2730 - val_loss: 11.1036 - val_accuracy: 0.3111\n",
      "Epoch 55/100\n",
      "21/21 [==============================] - 1s 32ms/step - loss: 11.7186 - accuracy: 0.2730 - val_loss: 11.1036 - val_accuracy: 0.3111\n",
      "Epoch 56/100\n",
      "21/21 [==============================] - 1s 33ms/step - loss: 11.7186 - accuracy: 0.2730 - val_loss: 11.1036 - val_accuracy: 0.3111\n",
      "Epoch 57/100\n",
      "21/21 [==============================] - 1s 33ms/step - loss: 11.7186 - accuracy: 0.2730 - val_loss: 11.1036 - val_accuracy: 0.3111\n",
      "Epoch 58/100\n",
      "21/21 [==============================] - 1s 35ms/step - loss: 11.7186 - accuracy: 0.2730 - val_loss: 11.1036 - val_accuracy: 0.3111\n",
      "Epoch 59/100\n",
      "21/21 [==============================] - 1s 33ms/step - loss: 11.6832 - accuracy: 0.2754 - val_loss: 11.1036 - val_accuracy: 0.3111\n",
      "Epoch 60/100\n",
      "21/21 [==============================] - 1s 36ms/step - loss: 4.2613 - accuracy: 0.2581 - val_loss: 2.0794 - val_accuracy: 0.2370\n",
      "Epoch 61/100\n",
      "21/21 [==============================] - 1s 34ms/step - loss: 2.1315 - accuracy: 0.3027 - val_loss: 2.0794 - val_accuracy: 0.2370\n",
      "Epoch 62/100\n",
      "21/21 [==============================] - 1s 33ms/step - loss: 2.0794 - accuracy: 0.3027 - val_loss: 2.0794 - val_accuracy: 0.2370\n",
      "Epoch 63/100\n",
      "21/21 [==============================] - 1s 34ms/step - loss: 2.1107 - accuracy: 0.3002 - val_loss: 2.0794 - val_accuracy: 0.2370\n",
      "Epoch 64/100\n",
      "21/21 [==============================] - 1s 36ms/step - loss: 2.0794 - accuracy: 0.3027 - val_loss: 2.0794 - val_accuracy: 0.2370\n",
      "Epoch 65/100\n",
      "21/21 [==============================] - 1s 33ms/step - loss: 2.1339 - accuracy: 0.3002 - val_loss: 2.0794 - val_accuracy: 0.2370\n",
      "Epoch 66/100\n",
      "21/21 [==============================] - 1s 34ms/step - loss: 2.0794 - accuracy: 0.3027 - val_loss: 2.0794 - val_accuracy: 0.2370\n",
      "Epoch 67/100\n",
      "21/21 [==============================] - 1s 34ms/step - loss: 2.0794 - accuracy: 0.3027 - val_loss: 2.0794 - val_accuracy: 0.2370\n",
      "Epoch 68/100\n",
      "21/21 [==============================] - 1s 34ms/step - loss: 2.0794 - accuracy: 0.3027 - val_loss: 2.0794 - val_accuracy: 0.2370\n",
      "Epoch 69/100\n",
      "21/21 [==============================] - 1s 33ms/step - loss: 2.1127 - accuracy: 0.3027 - val_loss: 2.0794 - val_accuracy: 0.2370\n",
      "Epoch 70/100\n",
      "21/21 [==============================] - 1s 33ms/step - loss: 2.0794 - accuracy: 0.3027 - val_loss: 2.0794 - val_accuracy: 0.2370\n",
      "Epoch 71/100\n",
      "21/21 [==============================] - 1s 36ms/step - loss: 2.0794 - accuracy: 0.3027 - val_loss: 2.0794 - val_accuracy: 0.2370\n",
      "Epoch 72/100\n",
      "21/21 [==============================] - 1s 33ms/step - loss: 2.0794 - accuracy: 0.3027 - val_loss: 2.0794 - val_accuracy: 0.2370\n",
      "Epoch 73/100\n",
      "21/21 [==============================] - 1s 34ms/step - loss: 2.0794 - accuracy: 0.3027 - val_loss: 2.0794 - val_accuracy: 0.2370\n",
      "Epoch 74/100\n",
      "21/21 [==============================] - 1s 33ms/step - loss: 2.0794 - accuracy: 0.3027 - val_loss: 2.0794 - val_accuracy: 0.2370\n",
      "Epoch 75/100\n",
      "21/21 [==============================] - 1s 34ms/step - loss: 2.0794 - accuracy: 0.3027 - val_loss: 2.0794 - val_accuracy: 0.2370\n",
      "Epoch 76/100\n",
      "21/21 [==============================] - 1s 33ms/step - loss: 2.0794 - accuracy: 0.3027 - val_loss: 2.0794 - val_accuracy: 0.2370\n",
      "Epoch 77/100\n",
      "21/21 [==============================] - 1s 34ms/step - loss: 2.0794 - accuracy: 0.3027 - val_loss: 2.0794 - val_accuracy: 0.2370\n",
      "Epoch 78/100\n",
      "21/21 [==============================] - 1s 33ms/step - loss: 2.0794 - accuracy: 0.3027 - val_loss: 2.0794 - val_accuracy: 0.2370\n",
      "Epoch 79/100\n",
      "21/21 [==============================] - 1s 33ms/step - loss: 2.0794 - accuracy: 0.3027 - val_loss: 2.0794 - val_accuracy: 0.2370\n",
      "Epoch 80/100\n",
      "21/21 [==============================] - 1s 38ms/step - loss: 2.0794 - accuracy: 0.3027 - val_loss: 2.0794 - val_accuracy: 0.2370\n",
      "Epoch 81/100\n",
      "21/21 [==============================] - 1s 34ms/step - loss: 2.0794 - accuracy: 0.3027 - val_loss: 2.0794 - val_accuracy: 0.2370\n",
      "Epoch 82/100\n",
      "21/21 [==============================] - 1s 33ms/step - loss: 2.0794 - accuracy: 0.3027 - val_loss: 2.0794 - val_accuracy: 0.2370\n",
      "Epoch 83/100\n",
      "21/21 [==============================] - 1s 35ms/step - loss: 2.0794 - accuracy: 0.3027 - val_loss: 2.0794 - val_accuracy: 0.2370\n",
      "Epoch 84/100\n",
      "21/21 [==============================] - 1s 33ms/step - loss: 2.0794 - accuracy: 0.3027 - val_loss: 2.0794 - val_accuracy: 0.2370\n",
      "Epoch 85/100\n",
      "21/21 [==============================] - 1s 35ms/step - loss: 2.0794 - accuracy: 0.3027 - val_loss: 2.0794 - val_accuracy: 0.2370\n",
      "Epoch 86/100\n",
      "21/21 [==============================] - 1s 33ms/step - loss: 2.0794 - accuracy: 0.3027 - val_loss: 2.0794 - val_accuracy: 0.2370\n",
      "Epoch 87/100\n",
      "21/21 [==============================] - 1s 33ms/step - loss: 2.0794 - accuracy: 0.3027 - val_loss: 2.0794 - val_accuracy: 0.2370\n",
      "Epoch 88/100\n",
      "21/21 [==============================] - 1s 32ms/step - loss: 2.0794 - accuracy: 0.3027 - val_loss: 2.0794 - val_accuracy: 0.2370\n",
      "Epoch 89/100\n",
      "21/21 [==============================] - 1s 43ms/step - loss: 2.0794 - accuracy: 0.3027 - val_loss: 2.0794 - val_accuracy: 0.2370\n",
      "Epoch 90/100\n",
      "21/21 [==============================] - 1s 35ms/step - loss: 2.0794 - accuracy: 0.3027 - val_loss: 2.0794 - val_accuracy: 0.2370\n",
      "Epoch 91/100\n",
      "21/21 [==============================] - 1s 32ms/step - loss: 2.0794 - accuracy: 0.3027 - val_loss: 2.0794 - val_accuracy: 0.2370\n",
      "Epoch 92/100\n",
      "21/21 [==============================] - 1s 33ms/step - loss: 2.0794 - accuracy: 0.3027 - val_loss: 2.0794 - val_accuracy: 0.2370\n",
      "Epoch 93/100\n",
      "21/21 [==============================] - 1s 33ms/step - loss: 2.0794 - accuracy: 0.3027 - val_loss: 2.0794 - val_accuracy: 0.2370\n",
      "Epoch 94/100\n",
      "21/21 [==============================] - 1s 33ms/step - loss: 2.0794 - accuracy: 0.3027 - val_loss: 2.0794 - val_accuracy: 0.2370\n",
      "Epoch 95/100\n",
      "21/21 [==============================] - 1s 33ms/step - loss: 2.0794 - accuracy: 0.3027 - val_loss: 2.0794 - val_accuracy: 0.2370\n",
      "Epoch 96/100\n",
      "21/21 [==============================] - 1s 37ms/step - loss: 2.0794 - accuracy: 0.3027 - val_loss: 2.0794 - val_accuracy: 0.2370\n",
      "Epoch 97/100\n",
      "21/21 [==============================] - 1s 33ms/step - loss: 2.0794 - accuracy: 0.3027 - val_loss: 2.0794 - val_accuracy: 0.2370\n",
      "Epoch 98/100\n",
      "21/21 [==============================] - 1s 40ms/step - loss: 2.0794 - accuracy: 0.3027 - val_loss: 2.0794 - val_accuracy: 0.2370\n",
      "Epoch 99/100\n",
      "21/21 [==============================] - 1s 32ms/step - loss: 2.0794 - accuracy: 0.3027 - val_loss: 2.0794 - val_accuracy: 0.2370\n",
      "Epoch 100/100\n",
      "21/21 [==============================] - 1s 33ms/step - loss: 2.0794 - accuracy: 0.3027 - val_loss: 2.0794 - val_accuracy: 0.2370\n"
     ]
    }
   ],
   "source": [
    "cnnhistory=model.fit(x_traincnn, y_train, batch_size=20, epochs=100, validation_data=(x_testcnn, y_test))"
   ]
  },
  {
   "cell_type": "code",
   "execution_count": 85,
   "metadata": {},
   "outputs": [
    {
     "data": {
      "image/png": "[encoded data removed]",
      "text/plain": [
       "<Figure size 432x288 with 1 Axes>"
      ]
     },
     "metadata": {
      "needs_background": "light"
     },
     "output_type": "display_data"
    }
   ],
   "source": [
    "plt.plot(cnnhistory.history['loss'])\n",
    "plt.plot(cnnhistory.history['val_loss'])\n",
    "plt.title('model loss')\n",
    "plt.ylabel('loss')\n",
    "plt.xlabel('epoch')\n",
    "plt.legend(['train', 'test'], loc='upper left')\n",
    "plt.show()"
   ]
  },
  {
   "cell_type": "code",
   "execution_count": 86,
   "metadata": {
    "id": "NRBYh-bMHucX"
   },
   "outputs": [],
   "source": [
    "em=['happy','sad','neutral','angry']"
   ]
  },
  {
   "cell_type": "code",
   "execution_count": 87,
   "metadata": {
    "colab": {
     "base_uri": "https://localhost:8080/",
     "height": 51
    },
    "id": "GrrqoLzFAJDq",
    "outputId": "127a4973-55a9-4310-9df2-5d2ccef3f574"
   },
   "outputs": [
    {
     "name": "stdout",
     "output_type": "stream",
     "text": [
      "5/5 [==============================] - 0s 16ms/step - loss: 2.0794 - accuracy: 0.2370\n",
      "Restored model, accuracy: 23.70%\n"
     ]
    }
   ],
   "source": [
    "classes_x = model.predict(x_testcnn)\n",
    "predictions=np.argmax(classes_x,axis=1)\n",
    "\n",
    "loss, acc = model.evaluate(x_testcnn, y_test)\n",
    "print(\"Restored model, accuracy: {:5.2f}%\".format(100*acc))"
   ]
  },
  {
   "cell_type": "code",
   "execution_count": 88,
   "metadata": {},
   "outputs": [],
   "source": [
    "def print_confusion_matrix(confusion_matrix, class_names, figsize = (10,7), fontsize=14):\n",
    "\n",
    "    df_cm = pd.DataFrame(\n",
    "        confusion_matrix, index=class_names, columns=class_names, \n",
    "    )\n",
    "    fig = plt.figure(figsize=figsize)\n",
    "    try:\n",
    "        heatmap = sns.heatmap(df_cm, annot=True, fmt=\"d\")\n",
    "    except ValueError:\n",
    "        raise ValueError(\"Confusion matrix values must be integers.\")\n",
    "        \n",
    "    heatmap.yaxis.set_ticklabels(heatmap.yaxis.get_ticklabels(), rotation=0, ha='right', fontsize=fontsize)\n",
    "    heatmap.xaxis.set_ticklabels(heatmap.xaxis.get_ticklabels(), rotation=45, ha='right', fontsize=fontsize)\n",
    "    plt.ylabel('True label')\n",
    "    plt.xlabel('Predicted label')"
   ]
  },
  {
   "cell_type": "code",
   "execution_count": 89,
   "metadata": {
    "colab": {
     "base_uri": "https://localhost:8080/",
     "height": 272
    },
    "id": "lo2NA08o5jCJ",
    "outputId": "94f83a59-0d22-4501-93c5-e39f969fd4d5"
   },
   "outputs": [
    {
     "name": "stderr",
     "output_type": "stream",
     "text": [
      "c:\\users\\avimo\\appdata\\local\\programs\\python\\python38\\lib\\site-packages\\sklearn\\metrics\\_classification.py:1308: UndefinedMetricWarning: Precision and F-score are ill-defined and being set to 0.0 in labels with no predicted samples. Use `zero_division` parameter to control this behavior.\n",
      "  _warn_prf(average, modifier, msg_start, len(result))\n",
      "c:\\users\\avimo\\appdata\\local\\programs\\python\\python38\\lib\\site-packages\\sklearn\\metrics\\_classification.py:1308: UndefinedMetricWarning: Precision and F-score are ill-defined and being set to 0.0 in labels with no predicted samples. Use `zero_division` parameter to control this behavior.\n",
      "  _warn_prf(average, modifier, msg_start, len(result))\n",
      "c:\\users\\avimo\\appdata\\local\\programs\\python\\python38\\lib\\site-packages\\sklearn\\metrics\\_classification.py:1308: UndefinedMetricWarning: Precision and F-score are ill-defined and being set to 0.0 in labels with no predicted samples. Use `zero_division` parameter to control this behavior.\n",
      "  _warn_prf(average, modifier, msg_start, len(result))\n"
     ]
    },
    {
     "name": "stdout",
     "output_type": "stream",
     "text": [
      "              precision    recall  f1-score   support\n",
      "\n",
      "         0.0       0.24      1.00      0.38        32\n",
      "         1.0       0.00      0.00      0.00        35\n",
      "         3.0       0.00      0.00      0.00        26\n",
      "         4.0       0.00      0.00      0.00        42\n",
      "\n",
      "    accuracy                           0.24       135\n",
      "   macro avg       0.06      0.25      0.10       135\n",
      "weighted avg       0.06      0.24      0.09       135\n",
      "\n"
     ]
    },
    {
     "data": {
      "image/png": "[encoded data removed]",
      "text/plain": [
       "<Figure size 720x504 with 2 Axes>"
      ]
     },
     "metadata": {
      "needs_background": "light"
     },
     "output_type": "display_data"
    }
   ],
   "source": [
    "from sklearn.metrics import classification_report \n",
    "from sklearn.metrics import confusion_matrix \n",
    "\n",
    "classes_x = model.predict(x_testcnn)\n",
    "predictions=np.argmax(classes_x,axis=1)\n",
    "#predictions = model.predict_classes(x_testcnn)\n",
    "print(classification_report(y_test,predictions))\n",
    "print_confusion_matrix(confusion_matrix(y_test,predictions),em)"
   ]
  },
  {
   "cell_type": "code",
   "execution_count": 90,
   "metadata": {
    "colab": {
     "base_uri": "https://localhost:8080/",
     "height": 34
    },
    "id": "kVanJ86-FhwS",
    "outputId": "c8194727-9ef5-4e72-d1e2-26c6100cdb74"
   },
   "outputs": [
    {
     "name": "stderr",
     "output_type": "stream",
     "text": [
      "<ipython-input-2-b0bf32e7cb3a>:31: FutureWarning: Pass y=[0.0000000e+00 0.0000000e+00 0.0000000e+00 ... 0.0000000e+00 0.0000000e+00\n",
      " 6.1035156e-05] as keyword args. From version 0.10 passing these as positional arguments will result in an error\n",
      "  mel = np.mean(librosa.feature.melspectrogram(X, sr=sample_rate).T,axis=0)\n"
     ]
    },
    {
     "name": "stdout",
     "output_type": "stream",
     "text": [
      "result : angry\n"
     ]
    }
   ],
   "source": [
    "filename = \"data/ravdess/Actor_02/03-01-01-01-02-01-02.wav\"\n",
    "    # record the file (start talking)\n",
    "    #record_to_file(filename)\n",
    "    # extract features and reshape it\n",
    "features = np.array(extract_feature(filename, mfcc=True, chroma=True, mel=True).reshape(1, -1))\n",
    "    # predict\n",
    "f=np.expand_dims(features,axis=2)\n",
    "classes_pred = model.predict(f)\n",
    "result=np.argmax(classes_pred,axis=1)\n",
    "\n",
    "#result = model.predict_classes(f)[0]\n",
    "    # show the result \n",
    "print(\"result :\",em[result[0]-1])"
   ]
  },
  {
   "cell_type": "markdown",
   "metadata": {
    "id": "K1vlkqDPlA8A"
   },
   "source": [
    "**Model 2: All Softmax** "
   ]
  },
  {
   "cell_type": "code",
   "execution_count": 91,
   "metadata": {
    "id": "TQR38pmCSaNU"
   },
   "outputs": [],
   "source": [
    "\n",
    "\n",
    "um = Sequential()\n",
    "\n",
    "um.add(Conv1D(128, 5,padding='same',input_shape=(180,1)))#1\n",
    "um.add(Activation('softmax'))\n",
    "um.add(Dropout(0.25))\n",
    "um.add(MaxPooling1D(pool_size=(8)))\n",
    "\n",
    "um.add(Conv1D(128, 5,padding='same',))                  #2\n",
    "um.add(Activation('softmax'))\n",
    "um.add(MaxPooling1D(pool_size=(8)))\n",
    "um.add(Dropout(0.25))\n",
    "\n",
    "um.add(Conv1D(128, 5,padding='same',))                  #3\n",
    "um.add(Activation('softmax'))\n",
    "um.add(Dropout(0.25))\n",
    "\n",
    "um.add(Flatten())\n",
    "um.add(Dense(8))                                        #4                      \n",
    "um.add(Activation('softmax'))\n",
    "opt =tf.keras.optimizers.RMSprop(learning_rate=0.00005,epsilon=None,rho=0.9,decay=0.0)\n",
    "\n"
   ]
  },
  {
   "cell_type": "code",
   "execution_count": 73,
   "metadata": {
    "colab": {
     "base_uri": "https://localhost:8080/",
     "height": 629
    },
    "id": "xfXWyKwKbNfB",
    "outputId": "af9f6e6f-aa1c-430d-c334-73dcc5606d39"
   },
   "outputs": [
    {
     "name": "stdout",
     "output_type": "stream",
     "text": [
      "Model: \"sequential_8\"\n",
      "_________________________________________________________________\n",
      " Layer (type)                Output Shape              Param #   \n",
      "=================================================================\n",
      " conv1d_21 (Conv1D)          (None, 180, 128)          768       \n",
      "                                                                 \n",
      " activation_29 (Activation)  (None, 180, 128)          0         \n",
      "                                                                 \n",
      " dropout_21 (Dropout)        (None, 180, 128)          0         \n",
      "                                                                 \n",
      " max_pooling1d_12 (MaxPoolin  (None, 22, 128)          0         \n",
      " g1D)                                                            \n",
      "                                                                 \n",
      " conv1d_22 (Conv1D)          (None, 22, 128)           82048     \n",
      "                                                                 \n",
      " activation_30 (Activation)  (None, 22, 128)           0         \n",
      "                                                                 \n",
      " max_pooling1d_13 (MaxPoolin  (None, 2, 128)           0         \n",
      " g1D)                                                            \n",
      "                                                                 \n",
      " dropout_22 (Dropout)        (None, 2, 128)            0         \n",
      "                                                                 \n",
      " conv1d_23 (Conv1D)          (None, 2, 128)            82048     \n",
      "                                                                 \n",
      " activation_31 (Activation)  (None, 2, 128)            0         \n",
      "                                                                 \n",
      " dropout_23 (Dropout)        (None, 2, 128)            0         \n",
      "                                                                 \n",
      " flatten_8 (Flatten)         (None, 256)               0         \n",
      "                                                                 \n",
      " dense_8 (Dense)             (None, 8)                 2056      \n",
      "                                                                 \n",
      " activation_32 (Activation)  (None, 8)                 0         \n",
      "                                                                 \n",
      "=================================================================\n",
      "Total params: 166,920\n",
      "Trainable params: 166,920\n",
      "Non-trainable params: 0\n",
      "_________________________________________________________________\n"
     ]
    }
   ],
   "source": [
    "um.summary()"
   ]
  },
  {
   "cell_type": "code",
   "execution_count": 78,
   "metadata": {
    "id": "oBIGulu3bSaj"
   },
   "outputs": [],
   "source": [
    "um.compile(loss='sparse_categorical_crossentropy',\n",
    "              optimizer=opt,\n",
    "              metrics=['accuracy'])"
   ]
  },
  {
   "cell_type": "code",
   "execution_count": 79,
   "metadata": {
    "colab": {
     "base_uri": "https://localhost:8080/",
     "height": 1000
    },
    "id": "0XiAWqd1bg5M",
    "outputId": "7c46bbcc-c4b1-425d-f06d-5f516ac6a531"
   },
   "outputs": [
    {
     "name": "stdout",
     "output_type": "stream",
     "text": [
      "Epoch 1/100\n",
      "21/21 [==============================] - 3s 56ms/step - loss: 2.0747 - accuracy: 0.0596 - val_loss: 2.0745 - val_accuracy: 0.0000e+00\n",
      "Epoch 2/100\n",
      "21/21 [==============================] - 1s 46ms/step - loss: 2.0715 - accuracy: 0.1365 - val_loss: 2.0717 - val_accuracy: 0.0000e+00\n",
      "Epoch 3/100\n",
      "21/21 [==============================] - 1s 60ms/step - loss: 2.0689 - accuracy: 0.2109 - val_loss: 2.0690 - val_accuracy: 0.3111\n",
      "Epoch 4/100\n",
      "21/21 [==============================] - 1s 36ms/step - loss: 2.0655 - accuracy: 0.2854 - val_loss: 2.0664 - val_accuracy: 0.3111\n",
      "Epoch 5/100\n",
      "21/21 [==============================] - 1s 39ms/step - loss: 2.0632 - accuracy: 0.2878 - val_loss: 2.0637 - val_accuracy: 0.3111\n",
      "Epoch 6/100\n",
      "21/21 [==============================] - 1s 31ms/step - loss: 2.0601 - accuracy: 0.2779 - val_loss: 2.0610 - val_accuracy: 0.3111\n",
      "Epoch 7/100\n",
      "21/21 [==============================] - 1s 36ms/step - loss: 2.0573 - accuracy: 0.3052 - val_loss: 2.0583 - val_accuracy: 0.3111\n",
      "Epoch 8/100\n",
      "21/21 [==============================] - 1s 33ms/step - loss: 2.0548 - accuracy: 0.2878 - val_loss: 2.0555 - val_accuracy: 0.3111\n",
      "Epoch 9/100\n",
      "21/21 [==============================] - 1s 39ms/step - loss: 2.0519 - accuracy: 0.2630 - val_loss: 2.0529 - val_accuracy: 0.3111\n",
      "Epoch 10/100\n",
      "21/21 [==============================] - 1s 30ms/step - loss: 2.0486 - accuracy: 0.3127 - val_loss: 2.0502 - val_accuracy: 0.3111\n",
      "Epoch 11/100\n",
      "21/21 [==============================] - 1s 42ms/step - loss: 2.0458 - accuracy: 0.3127 - val_loss: 2.0475 - val_accuracy: 0.3111\n",
      "Epoch 12/100\n",
      "21/21 [==============================] - 1s 30ms/step - loss: 2.0430 - accuracy: 0.3176 - val_loss: 2.0449 - val_accuracy: 0.3111\n",
      "Epoch 13/100\n",
      "21/21 [==============================] - 1s 36ms/step - loss: 2.0398 - accuracy: 0.2903 - val_loss: 2.0422 - val_accuracy: 0.3111\n",
      "Epoch 14/100\n",
      "21/21 [==============================] - 1s 42ms/step - loss: 2.0374 - accuracy: 0.3275 - val_loss: 2.0396 - val_accuracy: 0.3111\n",
      "Epoch 15/100\n",
      "21/21 [==============================] - 1s 30ms/step - loss: 2.0349 - accuracy: 0.3300 - val_loss: 2.0370 - val_accuracy: 0.3111\n",
      "Epoch 16/100\n",
      "21/21 [==============================] - 1s 33ms/step - loss: 2.0321 - accuracy: 0.3474 - val_loss: 2.0343 - val_accuracy: 0.3111\n",
      "Epoch 17/100\n",
      "21/21 [==============================] - 1s 33ms/step - loss: 2.0296 - accuracy: 0.2928 - val_loss: 2.0317 - val_accuracy: 0.3111\n",
      "Epoch 18/100\n",
      "21/21 [==============================] - 1s 42ms/step - loss: 2.0262 - accuracy: 0.3201 - val_loss: 2.0291 - val_accuracy: 0.3111\n",
      "Epoch 19/100\n",
      "21/21 [==============================] - 1s 45ms/step - loss: 2.0236 - accuracy: 0.3325 - val_loss: 2.0266 - val_accuracy: 0.3111\n",
      "Epoch 20/100\n",
      "21/21 [==============================] - 1s 39ms/step - loss: 2.0213 - accuracy: 0.2556 - val_loss: 2.0240 - val_accuracy: 0.3111\n",
      "Epoch 21/100\n",
      "21/21 [==============================] - 1s 35ms/step - loss: 2.0184 - accuracy: 0.3573 - val_loss: 2.0214 - val_accuracy: 0.2370\n",
      "Epoch 22/100\n",
      "21/21 [==============================] - 1s 34ms/step - loss: 2.0160 - accuracy: 0.2953 - val_loss: 2.0188 - val_accuracy: 0.3111\n",
      "Epoch 23/100\n",
      "21/21 [==============================] - 1s 33ms/step - loss: 2.0135 - accuracy: 0.2382 - val_loss: 2.0163 - val_accuracy: 0.2370\n",
      "Epoch 24/100\n",
      "21/21 [==============================] - 1s 31ms/step - loss: 2.0102 - accuracy: 0.2953 - val_loss: 2.0137 - val_accuracy: 0.2370\n",
      "Epoch 25/100\n",
      "21/21 [==============================] - 1s 33ms/step - loss: 2.0072 - accuracy: 0.3102 - val_loss: 2.0112 - val_accuracy: 0.2370\n",
      "Epoch 26/100\n",
      "21/21 [==============================] - 1s 30ms/step - loss: 2.0055 - accuracy: 0.2705 - val_loss: 2.0086 - val_accuracy: 0.2370\n",
      "Epoch 27/100\n",
      "21/21 [==============================] - 1s 30ms/step - loss: 2.0020 - accuracy: 0.3052 - val_loss: 2.0061 - val_accuracy: 0.2370\n",
      "Epoch 28/100\n",
      "21/21 [==============================] - 1s 37ms/step - loss: 1.9990 - accuracy: 0.3027 - val_loss: 2.0037 - val_accuracy: 0.2370\n",
      "Epoch 29/100\n",
      "21/21 [==============================] - 1s 35ms/step - loss: 1.9961 - accuracy: 0.3002 - val_loss: 2.0011 - val_accuracy: 0.2370\n",
      "Epoch 30/100\n",
      "21/21 [==============================] - 1s 40ms/step - loss: 1.9943 - accuracy: 0.2655 - val_loss: 1.9986 - val_accuracy: 0.2370\n",
      "Epoch 31/100\n",
      "21/21 [==============================] - 1s 31ms/step - loss: 1.9919 - accuracy: 0.2829 - val_loss: 1.9961 - val_accuracy: 0.2370\n",
      "Epoch 32/100\n",
      "21/21 [==============================] - 1s 30ms/step - loss: 1.9888 - accuracy: 0.3027 - val_loss: 1.9937 - val_accuracy: 0.2370\n",
      "Epoch 33/100\n",
      "21/21 [==============================] - 1s 32ms/step - loss: 1.9867 - accuracy: 0.2854 - val_loss: 1.9913 - val_accuracy: 0.2370\n",
      "Epoch 34/100\n",
      "21/21 [==============================] - 1s 38ms/step - loss: 1.9840 - accuracy: 0.2903 - val_loss: 1.9889 - val_accuracy: 0.2370\n",
      "Epoch 35/100\n",
      "21/21 [==============================] - 1s 34ms/step - loss: 1.9809 - accuracy: 0.3027 - val_loss: 1.9864 - val_accuracy: 0.2370\n",
      "Epoch 36/100\n",
      "21/21 [==============================] - 1s 68ms/step - loss: 1.9786 - accuracy: 0.3002 - val_loss: 1.9839 - val_accuracy: 0.2370\n",
      "Epoch 37/100\n",
      "21/21 [==============================] - 1s 35ms/step - loss: 1.9760 - accuracy: 0.2680 - val_loss: 1.9814 - val_accuracy: 0.2370\n",
      "Epoch 38/100\n",
      "21/21 [==============================] - 1s 37ms/step - loss: 1.9733 - accuracy: 0.3002 - val_loss: 1.9790 - val_accuracy: 0.2370\n",
      "Epoch 39/100\n",
      "21/21 [==============================] - 1s 33ms/step - loss: 1.9708 - accuracy: 0.2903 - val_loss: 1.9766 - val_accuracy: 0.2370\n",
      "Epoch 40/100\n",
      "21/21 [==============================] - 1s 32ms/step - loss: 1.9685 - accuracy: 0.2779 - val_loss: 1.9742 - val_accuracy: 0.2370\n",
      "Epoch 41/100\n",
      "21/21 [==============================] - 1s 36ms/step - loss: 1.9657 - accuracy: 0.2754 - val_loss: 1.9718 - val_accuracy: 0.2370\n",
      "Epoch 42/100\n",
      "21/21 [==============================] - 1s 43ms/step - loss: 1.9636 - accuracy: 0.2705 - val_loss: 1.9694 - val_accuracy: 0.2370\n",
      "Epoch 43/100\n",
      "21/21 [==============================] - 1s 42ms/step - loss: 1.9610 - accuracy: 0.2804 - val_loss: 1.9670 - val_accuracy: 0.2370\n",
      "Epoch 44/100\n",
      "21/21 [==============================] - 1s 39ms/step - loss: 1.9576 - accuracy: 0.3027 - val_loss: 1.9646 - val_accuracy: 0.2370\n",
      "Epoch 45/100\n",
      "21/21 [==============================] - 1s 37ms/step - loss: 1.9556 - accuracy: 0.3251 - val_loss: 1.9622 - val_accuracy: 0.2370\n",
      "Epoch 46/100\n",
      "21/21 [==============================] - 1s 32ms/step - loss: 1.9531 - accuracy: 0.2680 - val_loss: 1.9599 - val_accuracy: 0.2370\n",
      "Epoch 47/100\n",
      "21/21 [==============================] - 1s 38ms/step - loss: 1.9508 - accuracy: 0.2903 - val_loss: 1.9575 - val_accuracy: 0.2370\n",
      "Epoch 48/100\n",
      "21/21 [==============================] - 1s 33ms/step - loss: 1.9477 - accuracy: 0.3102 - val_loss: 1.9552 - val_accuracy: 0.2370\n",
      "Epoch 49/100\n",
      "21/21 [==============================] - 1s 32ms/step - loss: 1.9460 - accuracy: 0.2878 - val_loss: 1.9528 - val_accuracy: 0.2370\n",
      "Epoch 50/100\n",
      "21/21 [==============================] - 1s 35ms/step - loss: 1.9437 - accuracy: 0.3176 - val_loss: 1.9505 - val_accuracy: 0.2370\n",
      "Epoch 51/100\n",
      "21/21 [==============================] - 1s 35ms/step - loss: 1.9407 - accuracy: 0.2878 - val_loss: 1.9481 - val_accuracy: 0.2370\n",
      "Epoch 52/100\n",
      "21/21 [==============================] - 1s 34ms/step - loss: 1.9380 - accuracy: 0.2754 - val_loss: 1.9458 - val_accuracy: 0.2370\n",
      "Epoch 53/100\n",
      "21/21 [==============================] - 1s 28ms/step - loss: 1.9355 - accuracy: 0.2878 - val_loss: 1.9435 - val_accuracy: 0.2370\n",
      "Epoch 54/100\n",
      "21/21 [==============================] - 1s 32ms/step - loss: 1.9334 - accuracy: 0.2730 - val_loss: 1.9413 - val_accuracy: 0.2370\n",
      "Epoch 55/100\n",
      "21/21 [==============================] - 1s 31ms/step - loss: 1.9312 - accuracy: 0.2655 - val_loss: 1.9390 - val_accuracy: 0.2370\n",
      "Epoch 56/100\n",
      "21/21 [==============================] - 1s 33ms/step - loss: 1.9279 - accuracy: 0.2978 - val_loss: 1.9367 - val_accuracy: 0.2370\n",
      "Epoch 57/100\n",
      "21/21 [==============================] - 1s 34ms/step - loss: 1.9255 - accuracy: 0.2928 - val_loss: 1.9344 - val_accuracy: 0.2370\n",
      "Epoch 58/100\n",
      "21/21 [==============================] - 1s 32ms/step - loss: 1.9233 - accuracy: 0.2928 - val_loss: 1.9321 - val_accuracy: 0.2370\n",
      "Epoch 59/100\n",
      "21/21 [==============================] - 1s 31ms/step - loss: 1.9214 - accuracy: 0.3027 - val_loss: 1.9298 - val_accuracy: 0.2370\n",
      "Epoch 60/100\n",
      "21/21 [==============================] - 1s 34ms/step - loss: 1.9181 - accuracy: 0.3027 - val_loss: 1.9276 - val_accuracy: 0.2370\n",
      "Epoch 61/100\n",
      "21/21 [==============================] - 1s 41ms/step - loss: 1.9164 - accuracy: 0.3002 - val_loss: 1.9254 - val_accuracy: 0.2370\n",
      "Epoch 62/100\n",
      "21/21 [==============================] - 1s 32ms/step - loss: 1.9146 - accuracy: 0.2754 - val_loss: 1.9232 - val_accuracy: 0.2370\n",
      "Epoch 63/100\n",
      "21/21 [==============================] - 1s 32ms/step - loss: 1.9112 - accuracy: 0.3127 - val_loss: 1.9209 - val_accuracy: 0.2370\n",
      "Epoch 64/100\n",
      "21/21 [==============================] - 1s 31ms/step - loss: 1.9094 - accuracy: 0.3201 - val_loss: 1.9188 - val_accuracy: 0.2370\n",
      "Epoch 65/100\n",
      "21/21 [==============================] - 1s 32ms/step - loss: 1.9065 - accuracy: 0.3002 - val_loss: 1.9167 - val_accuracy: 0.2370\n",
      "Epoch 66/100\n",
      "21/21 [==============================] - 1s 31ms/step - loss: 1.9051 - accuracy: 0.3002 - val_loss: 1.9144 - val_accuracy: 0.2370\n",
      "Epoch 67/100\n",
      "21/21 [==============================] - 1s 31ms/step - loss: 1.9022 - accuracy: 0.3251 - val_loss: 1.9122 - val_accuracy: 0.2370\n",
      "Epoch 68/100\n",
      "21/21 [==============================] - 1s 33ms/step - loss: 1.8999 - accuracy: 0.2978 - val_loss: 1.9099 - val_accuracy: 0.2370\n",
      "Epoch 69/100\n",
      "21/21 [==============================] - 1s 32ms/step - loss: 1.8973 - accuracy: 0.2928 - val_loss: 1.9077 - val_accuracy: 0.2370\n",
      "Epoch 70/100\n",
      "21/21 [==============================] - 1s 31ms/step - loss: 1.8950 - accuracy: 0.3002 - val_loss: 1.9056 - val_accuracy: 0.2370\n",
      "Epoch 71/100\n",
      "21/21 [==============================] - 1s 31ms/step - loss: 1.8931 - accuracy: 0.2854 - val_loss: 1.9034 - val_accuracy: 0.2370\n",
      "Epoch 72/100\n",
      "21/21 [==============================] - 1s 31ms/step - loss: 1.8909 - accuracy: 0.2854 - val_loss: 1.9012 - val_accuracy: 0.2370\n",
      "Epoch 73/100\n",
      "21/21 [==============================] - 1s 31ms/step - loss: 1.8884 - accuracy: 0.2854 - val_loss: 1.8991 - val_accuracy: 0.2370\n",
      "Epoch 74/100\n",
      "21/21 [==============================] - 1s 31ms/step - loss: 1.8861 - accuracy: 0.3027 - val_loss: 1.8970 - val_accuracy: 0.2370\n",
      "Epoch 75/100\n",
      "21/21 [==============================] - 1s 33ms/step - loss: 1.8833 - accuracy: 0.3127 - val_loss: 1.8949 - val_accuracy: 0.2370\n",
      "Epoch 76/100\n",
      "21/21 [==============================] - 1s 32ms/step - loss: 1.8814 - accuracy: 0.2878 - val_loss: 1.8928 - val_accuracy: 0.2370\n",
      "Epoch 77/100\n",
      "21/21 [==============================] - 1s 32ms/step - loss: 1.8795 - accuracy: 0.2680 - val_loss: 1.8907 - val_accuracy: 0.2370\n",
      "Epoch 78/100\n",
      "21/21 [==============================] - 1s 32ms/step - loss: 1.8765 - accuracy: 0.3027 - val_loss: 1.8886 - val_accuracy: 0.2370\n",
      "Epoch 79/100\n",
      "21/21 [==============================] - 1s 31ms/step - loss: 1.8753 - accuracy: 0.2953 - val_loss: 1.8867 - val_accuracy: 0.2370\n",
      "Epoch 80/100\n",
      "21/21 [==============================] - 1s 31ms/step - loss: 1.8723 - accuracy: 0.3151 - val_loss: 1.8847 - val_accuracy: 0.2370\n",
      "Epoch 81/100\n",
      "21/21 [==============================] - 1s 35ms/step - loss: 1.8711 - accuracy: 0.2804 - val_loss: 1.8826 - val_accuracy: 0.2370\n",
      "Epoch 82/100\n",
      "21/21 [==============================] - 1s 31ms/step - loss: 1.8681 - accuracy: 0.3102 - val_loss: 1.8805 - val_accuracy: 0.2370\n",
      "Epoch 83/100\n",
      "21/21 [==============================] - 1s 33ms/step - loss: 1.8654 - accuracy: 0.2978 - val_loss: 1.8784 - val_accuracy: 0.2370\n",
      "Epoch 84/100\n",
      "21/21 [==============================] - 1s 38ms/step - loss: 1.8626 - accuracy: 0.2903 - val_loss: 1.8763 - val_accuracy: 0.2370\n",
      "Epoch 85/100\n",
      "21/21 [==============================] - 1s 34ms/step - loss: 1.8610 - accuracy: 0.2953 - val_loss: 1.8742 - val_accuracy: 0.2370\n",
      "Epoch 86/100\n",
      "21/21 [==============================] - 1s 31ms/step - loss: 1.8586 - accuracy: 0.3002 - val_loss: 1.8722 - val_accuracy: 0.2370\n",
      "Epoch 87/100\n",
      "21/21 [==============================] - 1s 32ms/step - loss: 1.8572 - accuracy: 0.3201 - val_loss: 1.8702 - val_accuracy: 0.2370\n",
      "Epoch 88/100\n",
      "21/21 [==============================] - 1s 41ms/step - loss: 1.8550 - accuracy: 0.2903 - val_loss: 1.8681 - val_accuracy: 0.2370\n",
      "Epoch 89/100\n",
      "21/21 [==============================] - 1s 32ms/step - loss: 1.8531 - accuracy: 0.2878 - val_loss: 1.8661 - val_accuracy: 0.2370\n",
      "Epoch 90/100\n",
      "21/21 [==============================] - 1s 38ms/step - loss: 1.8504 - accuracy: 0.2903 - val_loss: 1.8640 - val_accuracy: 0.2370\n",
      "Epoch 91/100\n",
      "21/21 [==============================] - 1s 38ms/step - loss: 1.8481 - accuracy: 0.2928 - val_loss: 1.8620 - val_accuracy: 0.2370\n",
      "Epoch 92/100\n",
      "21/21 [==============================] - 1s 33ms/step - loss: 1.8460 - accuracy: 0.3077 - val_loss: 1.8600 - val_accuracy: 0.2370\n",
      "Epoch 93/100\n",
      "21/21 [==============================] - 1s 36ms/step - loss: 1.8434 - accuracy: 0.2878 - val_loss: 1.8580 - val_accuracy: 0.2370\n",
      "Epoch 94/100\n",
      "21/21 [==============================] - 1s 37ms/step - loss: 1.8420 - accuracy: 0.2903 - val_loss: 1.8560 - val_accuracy: 0.2370\n",
      "Epoch 95/100\n",
      "21/21 [==============================] - 3s 148ms/step - loss: 1.8393 - accuracy: 0.3077 - val_loss: 1.8541 - val_accuracy: 0.2370\n",
      "Epoch 96/100\n",
      "21/21 [==============================] - 1s 36ms/step - loss: 1.8375 - accuracy: 0.3176 - val_loss: 1.8521 - val_accuracy: 0.2370\n",
      "Epoch 97/100\n",
      "21/21 [==============================] - 1s 33ms/step - loss: 1.8355 - accuracy: 0.3077 - val_loss: 1.8501 - val_accuracy: 0.2370\n",
      "Epoch 98/100\n",
      "21/21 [==============================] - 1s 32ms/step - loss: 1.8335 - accuracy: 0.3102 - val_loss: 1.8481 - val_accuracy: 0.2370\n",
      "Epoch 99/100\n",
      "21/21 [==============================] - 1s 34ms/step - loss: 1.8309 - accuracy: 0.3102 - val_loss: 1.8462 - val_accuracy: 0.2370\n",
      "Epoch 100/100\n",
      "21/21 [==============================] - 1s 34ms/step - loss: 1.8290 - accuracy: 0.3077 - val_loss: 1.8442 - val_accuracy: 0.2370\n"
     ]
    }
   ],
   "source": [
    "umhistory=um.fit(x_traincnn, y_train, batch_size=20, epochs=100, validation_data=(x_testcnn, y_test))"
   ]
  },
  {
   "cell_type": "code",
   "execution_count": 80,
   "metadata": {},
   "outputs": [
    {
     "name": "stdout",
     "output_type": "stream",
     "text": [
      "5/5 [==============================] - 0s 12ms/step - loss: 1.8442 - accuracy: 0.2370\n",
      "Restored model, accuracy: 23.70%\n"
     ]
    }
   ],
   "source": [
    "\n",
    "loss, acc = um.evaluate(x_testcnn, y_test)\n",
    "print(\"Restored model, accuracy: {:5.2f}%\".format(100*acc))"
   ]
  },
  {
   "cell_type": "code",
   "execution_count": 120,
   "metadata": {
    "colab": {
     "base_uri": "https://localhost:8080/",
     "height": 51
    },
    "id": "yUtQ8Bwjhcmw",
    "outputId": "e2fb5814-290f-47fe-b4e3-7dbaec5c432d"
   },
   "outputs": [
    {
     "data": {
      "image/png": "[encoded data removed]",
      "text/plain": [
       "<Figure size 432x288 with 1 Axes>"
      ]
     },
     "metadata": {
      "needs_background": "light"
     },
     "output_type": "display_data"
    }
   ],
   "source": [
    "plt.plot(umhistory.history['loss'])\n",
    "plt.plot(umhistory.history['val_loss'])\n",
    "plt.title('model loss')\n",
    "plt.ylabel('loss')\n",
    "plt.xlabel('epoch')\n",
    "plt.legend(['train', 'test'], loc='upper left')\n",
    "plt.show()"
   ]
  },
  {
   "cell_type": "code",
   "execution_count": 92,
   "metadata": {
    "colab": {
     "base_uri": "https://localhost:8080/",
     "height": 272
    },
    "id": "uqfstoLD8fPK",
    "outputId": "3aae48f5-6013-491a-d5bb-f9e637759a14"
   },
   "outputs": [
    {
     "name": "stdout",
     "output_type": "stream",
     "text": [
      "              precision    recall  f1-score   support\n",
      "\n",
      "         0.0       0.24      1.00      0.38        32\n",
      "         1.0       0.00      0.00      0.00        35\n",
      "         3.0       0.00      0.00      0.00        26\n",
      "         4.0       0.00      0.00      0.00        42\n",
      "\n",
      "    accuracy                           0.24       135\n",
      "   macro avg       0.06      0.25      0.10       135\n",
      "weighted avg       0.06      0.24      0.09       135\n",
      "\n",
      "[[32  0  0  0]\n",
      " [35  0  0  0]\n",
      " [26  0  0  0]\n",
      " [42  0  0  0]]\n"
     ]
    },
    {
     "name": "stderr",
     "output_type": "stream",
     "text": [
      "c:\\users\\avimo\\appdata\\local\\programs\\python\\python38\\lib\\site-packages\\sklearn\\metrics\\_classification.py:1308: UndefinedMetricWarning: Precision and F-score are ill-defined and being set to 0.0 in labels with no predicted samples. Use `zero_division` parameter to control this behavior.\n",
      "  _warn_prf(average, modifier, msg_start, len(result))\n",
      "c:\\users\\avimo\\appdata\\local\\programs\\python\\python38\\lib\\site-packages\\sklearn\\metrics\\_classification.py:1308: UndefinedMetricWarning: Precision and F-score are ill-defined and being set to 0.0 in labels with no predicted samples. Use `zero_division` parameter to control this behavior.\n",
      "  _warn_prf(average, modifier, msg_start, len(result))\n",
      "c:\\users\\avimo\\appdata\\local\\programs\\python\\python38\\lib\\site-packages\\sklearn\\metrics\\_classification.py:1308: UndefinedMetricWarning: Precision and F-score are ill-defined and being set to 0.0 in labels with no predicted samples. Use `zero_division` parameter to control this behavior.\n",
      "  _warn_prf(average, modifier, msg_start, len(result))\n"
     ]
    }
   ],
   "source": [
    "from sklearn.metrics import classification_report \n",
    "from sklearn.metrics import confusion_matrix \n",
    "classes_pa = model.predict(x_testcnn)\n",
    "prediction=np.argmax(classes_pa,axis=1)\n",
    "#prediction = um.predict_classes(x_testcnn)\n",
    "print(classification_report(y_test,prediction))\n",
    "print(confusion_matrix(y_test,prediction))"
   ]
  },
  {
   "cell_type": "markdown",
   "metadata": {
    "id": "vxQBQ5p-lRIx"
   },
   "source": [
    "**Model 3: All Sigmoid**"
   ]
  },
  {
   "cell_type": "code",
   "execution_count": 96,
   "metadata": {
    "id": "XgOckwmclKd5"
   },
   "outputs": [],
   "source": [
    "import keras\n",
    "import numpy as np\n",
    "import matplotlib.pyplot as plt\n",
    "import tensorflow as tf\n",
    "\n",
    "\n",
    "tm = Sequential()\n",
    "\n",
    "tm.add(Conv1D(128, 5,padding='same',input_shape=(180,1)))#1\n",
    "tm.add(Activation('sigmoid'))\n",
    "tm.add(Dropout(0.1))\n",
    "tm.add(MaxPooling1D(pool_size=(8)))\n",
    "\n",
    "tm.add(Conv1D(128, 5,padding='same',))                  #2\n",
    "tm.add(Activation('sigmoid'))\n",
    "tm.add(MaxPooling1D(pool_size=(8)))\n",
    "tm.add(Dropout(0.1))\n",
    "\n",
    "tm.add(Conv1D(128, 5,padding='same',))                  #3\n",
    "tm.add(Activation('sigmoid'))\n",
    "tm.add(Dropout(0.1))\n",
    "\n",
    "tm.add(Flatten())\n",
    "tm.add(Dense(8))                                        #4                      \n",
    "tm.add(Activation('sigmoid'))\n",
    "opt = tf.keras.optimizers.RMSprop(learning_rate=0.00005,epsilon=None,rho=0.9,decay=0.0)\n",
    "\n"
   ]
  },
  {
   "cell_type": "code",
   "execution_count": 97,
   "metadata": {
    "colab": {
     "base_uri": "https://localhost:8080/",
     "height": 629
    },
    "id": "LL9SeCMYlPxJ",
    "outputId": "118d1977-d08d-48b3-cc30-eb8074e17886"
   },
   "outputs": [
    {
     "name": "stdout",
     "output_type": "stream",
     "text": [
      "Model: \"sequential_13\"\n",
      "_________________________________________________________________\n",
      " Layer (type)                Output Shape              Param #   \n",
      "=================================================================\n",
      " conv1d_34 (Conv1D)          (None, 180, 128)          768       \n",
      "                                                                 \n",
      " activation_46 (Activation)  (None, 180, 128)          0         \n",
      "                                                                 \n",
      " dropout_33 (Dropout)        (None, 180, 128)          0         \n",
      "                                                                 \n",
      " max_pooling1d_19 (MaxPoolin  (None, 22, 128)          0         \n",
      " g1D)                                                            \n",
      "                                                                 \n",
      " conv1d_35 (Conv1D)          (None, 22, 128)           82048     \n",
      "                                                                 \n",
      " activation_47 (Activation)  (None, 22, 128)           0         \n",
      "                                                                 \n",
      " max_pooling1d_20 (MaxPoolin  (None, 2, 128)           0         \n",
      " g1D)                                                            \n",
      "                                                                 \n",
      " dropout_34 (Dropout)        (None, 2, 128)            0         \n",
      "                                                                 \n",
      " conv1d_36 (Conv1D)          (None, 2, 128)            82048     \n",
      "                                                                 \n",
      " activation_48 (Activation)  (None, 2, 128)            0         \n",
      "                                                                 \n",
      " dropout_35 (Dropout)        (None, 2, 128)            0         \n",
      "                                                                 \n",
      " flatten_12 (Flatten)        (None, 256)               0         \n",
      "                                                                 \n",
      " dense_12 (Dense)            (None, 8)                 2056      \n",
      "                                                                 \n",
      " activation_49 (Activation)  (None, 8)                 0         \n",
      "                                                                 \n",
      "=================================================================\n",
      "Total params: 166,920\n",
      "Trainable params: 166,920\n",
      "Non-trainable params: 0\n",
      "_________________________________________________________________\n"
     ]
    }
   ],
   "source": [
    "tm.summary()"
   ]
  },
  {
   "cell_type": "code",
   "execution_count": 98,
   "metadata": {
    "id": "ZB5d_vcQlatK"
   },
   "outputs": [],
   "source": [
    "tm.compile(loss='sparse_categorical_crossentropy',\n",
    "              optimizer=opt,\n",
    "              metrics=['accuracy'])"
   ]
  },
  {
   "cell_type": "code",
   "execution_count": 99,
   "metadata": {
    "colab": {
     "base_uri": "https://localhost:8080/",
     "height": 1000
    },
    "id": "PYiVg5RPliiB",
    "outputId": "8d2df54b-144c-46a3-cc8a-43081c1dc35d"
   },
   "outputs": [
    {
     "name": "stdout",
     "output_type": "stream",
     "text": [
      "Epoch 1/100\n",
      "21/21 [==============================] - 3s 46ms/step - loss: 1.8588 - accuracy: 0.2333 - val_loss: 1.6968 - val_accuracy: 0.2370\n",
      "Epoch 2/100\n",
      "21/21 [==============================] - 1s 28ms/step - loss: 1.6556 - accuracy: 0.2804 - val_loss: 1.5683 - val_accuracy: 0.2370\n",
      "Epoch 3/100\n",
      "21/21 [==============================] - 1s 28ms/step - loss: 1.5546 - accuracy: 0.2680 - val_loss: 1.5084 - val_accuracy: 0.2370\n",
      "Epoch 4/100\n",
      "21/21 [==============================] - 1s 28ms/step - loss: 1.4651 - accuracy: 0.3275 - val_loss: 1.4673 - val_accuracy: 0.3111\n",
      "Epoch 5/100\n",
      "21/21 [==============================] - 1s 31ms/step - loss: 1.4272 - accuracy: 0.3052 - val_loss: 1.4592 - val_accuracy: 0.2370\n",
      "Epoch 6/100\n",
      "21/21 [==============================] - 1s 28ms/step - loss: 1.4262 - accuracy: 0.2928 - val_loss: 1.4423 - val_accuracy: 0.2148\n",
      "Epoch 7/100\n",
      "21/21 [==============================] - 1s 32ms/step - loss: 1.4028 - accuracy: 0.2928 - val_loss: 1.4308 - val_accuracy: 0.2593\n",
      "Epoch 8/100\n",
      "21/21 [==============================] - 1s 31ms/step - loss: 1.4152 - accuracy: 0.2630 - val_loss: 1.4338 - val_accuracy: 0.2370\n",
      "Epoch 9/100\n",
      "21/21 [==============================] - 1s 42ms/step - loss: 1.4090 - accuracy: 0.2655 - val_loss: 1.4257 - val_accuracy: 0.2370\n",
      "Epoch 10/100\n",
      "21/21 [==============================] - 1s 29ms/step - loss: 1.4060 - accuracy: 0.2655 - val_loss: 1.4162 - val_accuracy: 0.2370\n",
      "Epoch 11/100\n",
      "21/21 [==============================] - 1s 30ms/step - loss: 1.4126 - accuracy: 0.2705 - val_loss: 1.4167 - val_accuracy: 0.2370\n",
      "Epoch 12/100\n",
      "21/21 [==============================] - 1s 35ms/step - loss: 1.3856 - accuracy: 0.3400 - val_loss: 1.4038 - val_accuracy: 0.2222\n",
      "Epoch 13/100\n",
      "21/21 [==============================] - 1s 36ms/step - loss: 1.4015 - accuracy: 0.2605 - val_loss: 1.4121 - val_accuracy: 0.2370\n",
      "Epoch 14/100\n",
      "21/21 [==============================] - 1s 33ms/step - loss: 1.3560 - accuracy: 0.3201 - val_loss: 1.4067 - val_accuracy: 0.2370\n",
      "Epoch 15/100\n",
      "21/21 [==============================] - 1s 34ms/step - loss: 1.3791 - accuracy: 0.2754 - val_loss: 1.4025 - val_accuracy: 0.3037\n",
      "Epoch 16/100\n",
      "21/21 [==============================] - 1s 35ms/step - loss: 1.3534 - accuracy: 0.2953 - val_loss: 1.4045 - val_accuracy: 0.2370\n",
      "Epoch 17/100\n",
      "21/21 [==============================] - 1s 33ms/step - loss: 1.3803 - accuracy: 0.2829 - val_loss: 1.4006 - val_accuracy: 0.2370\n",
      "Epoch 18/100\n",
      "21/21 [==============================] - 1s 30ms/step - loss: 1.3641 - accuracy: 0.3027 - val_loss: 1.4047 - val_accuracy: 0.2370\n",
      "Epoch 19/100\n",
      "21/21 [==============================] - 1s 34ms/step - loss: 1.3865 - accuracy: 0.2705 - val_loss: 1.3920 - val_accuracy: 0.3111\n",
      "Epoch 20/100\n",
      "21/21 [==============================] - 1s 36ms/step - loss: 1.3610 - accuracy: 0.3102 - val_loss: 1.3967 - val_accuracy: 0.2593\n",
      "Epoch 21/100\n",
      "21/21 [==============================] - 1s 29ms/step - loss: 1.3738 - accuracy: 0.2506 - val_loss: 1.3971 - val_accuracy: 0.2370\n",
      "Epoch 22/100\n",
      "21/21 [==============================] - 1s 29ms/step - loss: 1.3520 - accuracy: 0.3226 - val_loss: 1.3948 - val_accuracy: 0.2370\n",
      "Epoch 23/100\n",
      "21/21 [==============================] - 1s 33ms/step - loss: 1.3678 - accuracy: 0.2705 - val_loss: 1.4035 - val_accuracy: 0.2370\n",
      "Epoch 24/100\n",
      "21/21 [==============================] - 1s 36ms/step - loss: 1.3467 - accuracy: 0.3027 - val_loss: 1.3972 - val_accuracy: 0.2370\n",
      "Epoch 25/100\n",
      "21/21 [==============================] - 1s 36ms/step - loss: 1.3762 - accuracy: 0.3052 - val_loss: 1.3925 - val_accuracy: 0.2370\n",
      "Epoch 26/100\n",
      "21/21 [==============================] - 1s 35ms/step - loss: 1.3615 - accuracy: 0.2928 - val_loss: 1.3996 - val_accuracy: 0.2370\n",
      "Epoch 27/100\n",
      "21/21 [==============================] - 1s 30ms/step - loss: 1.3490 - accuracy: 0.3251 - val_loss: 1.4014 - val_accuracy: 0.2370\n",
      "Epoch 28/100\n",
      "21/21 [==============================] - 1s 33ms/step - loss: 1.3679 - accuracy: 0.3052 - val_loss: 1.3900 - val_accuracy: 0.3556\n",
      "Epoch 29/100\n",
      "21/21 [==============================] - 1s 31ms/step - loss: 1.3755 - accuracy: 0.2630 - val_loss: 1.3874 - val_accuracy: 0.3111\n",
      "Epoch 30/100\n",
      "21/21 [==============================] - 1s 30ms/step - loss: 1.3601 - accuracy: 0.2605 - val_loss: 1.3903 - val_accuracy: 0.2370\n",
      "Epoch 31/100\n",
      "21/21 [==============================] - 1s 29ms/step - loss: 1.3499 - accuracy: 0.3027 - val_loss: 1.3856 - val_accuracy: 0.2593\n",
      "Epoch 32/100\n",
      "21/21 [==============================] - 1s 29ms/step - loss: 1.3635 - accuracy: 0.2953 - val_loss: 1.3835 - val_accuracy: 0.2370\n",
      "Epoch 33/100\n",
      "21/21 [==============================] - 1s 30ms/step - loss: 1.3601 - accuracy: 0.3102 - val_loss: 1.3905 - val_accuracy: 0.2370\n",
      "Epoch 34/100\n",
      "21/21 [==============================] - 1s 29ms/step - loss: 1.3628 - accuracy: 0.2754 - val_loss: 1.3839 - val_accuracy: 0.3111\n",
      "Epoch 35/100\n",
      "21/21 [==============================] - 1s 28ms/step - loss: 1.3649 - accuracy: 0.3226 - val_loss: 1.3825 - val_accuracy: 0.3556\n",
      "Epoch 36/100\n",
      "21/21 [==============================] - 1s 34ms/step - loss: 1.3501 - accuracy: 0.3127 - val_loss: 1.3915 - val_accuracy: 0.2370\n",
      "Epoch 37/100\n",
      "21/21 [==============================] - 1s 27ms/step - loss: 1.3750 - accuracy: 0.2481 - val_loss: 1.3821 - val_accuracy: 0.3556\n",
      "Epoch 38/100\n",
      "21/21 [==============================] - 1s 28ms/step - loss: 1.3690 - accuracy: 0.2878 - val_loss: 1.3877 - val_accuracy: 0.3037\n",
      "Epoch 39/100\n",
      "21/21 [==============================] - 1s 29ms/step - loss: 1.3631 - accuracy: 0.3002 - val_loss: 1.3852 - val_accuracy: 0.2370\n",
      "Epoch 40/100\n",
      "21/21 [==============================] - 1s 30ms/step - loss: 1.3707 - accuracy: 0.3102 - val_loss: 1.3916 - val_accuracy: 0.2370\n",
      "Epoch 41/100\n",
      "21/21 [==============================] - 1s 28ms/step - loss: 1.3672 - accuracy: 0.2928 - val_loss: 1.3859 - val_accuracy: 0.3111\n",
      "Epoch 42/100\n",
      "21/21 [==============================] - 1s 28ms/step - loss: 1.3514 - accuracy: 0.3002 - val_loss: 1.3908 - val_accuracy: 0.2370\n",
      "Epoch 43/100\n",
      "21/21 [==============================] - 1s 27ms/step - loss: 1.3678 - accuracy: 0.2953 - val_loss: 1.3917 - val_accuracy: 0.2370\n",
      "Epoch 44/100\n",
      "21/21 [==============================] - 1s 26ms/step - loss: 1.3551 - accuracy: 0.3027 - val_loss: 1.3839 - val_accuracy: 0.3037\n",
      "Epoch 45/100\n",
      "21/21 [==============================] - 1s 27ms/step - loss: 1.3410 - accuracy: 0.3127 - val_loss: 1.3899 - val_accuracy: 0.2370\n",
      "Epoch 46/100\n",
      "21/21 [==============================] - 1s 27ms/step - loss: 1.3560 - accuracy: 0.3300 - val_loss: 1.3810 - val_accuracy: 0.3926\n",
      "Epoch 47/100\n",
      "21/21 [==============================] - 1s 27ms/step - loss: 1.3558 - accuracy: 0.2928 - val_loss: 1.3897 - val_accuracy: 0.2370\n",
      "Epoch 48/100\n",
      "21/21 [==============================] - 1s 30ms/step - loss: 1.3562 - accuracy: 0.2804 - val_loss: 1.3823 - val_accuracy: 0.3630\n",
      "Epoch 49/100\n",
      "21/21 [==============================] - 1s 26ms/step - loss: 1.3471 - accuracy: 0.3400 - val_loss: 1.3799 - val_accuracy: 0.3333\n",
      "Epoch 50/100\n",
      "21/21 [==============================] - 1s 27ms/step - loss: 1.3552 - accuracy: 0.2903 - val_loss: 1.3810 - val_accuracy: 0.3185\n",
      "Epoch 51/100\n",
      "21/21 [==============================] - 1s 29ms/step - loss: 1.3423 - accuracy: 0.3176 - val_loss: 1.3733 - val_accuracy: 0.3852\n",
      "Epoch 52/100\n",
      "21/21 [==============================] - 1s 27ms/step - loss: 1.3393 - accuracy: 0.3375 - val_loss: 1.3807 - val_accuracy: 0.2370\n",
      "Epoch 53/100\n",
      "21/21 [==============================] - 1s 29ms/step - loss: 1.3387 - accuracy: 0.3350 - val_loss: 1.3759 - val_accuracy: 0.3259\n",
      "Epoch 54/100\n",
      "21/21 [==============================] - 1s 32ms/step - loss: 1.3555 - accuracy: 0.2829 - val_loss: 1.3785 - val_accuracy: 0.3259\n",
      "Epoch 55/100\n",
      "21/21 [==============================] - 1s 27ms/step - loss: 1.3543 - accuracy: 0.3002 - val_loss: 1.3761 - val_accuracy: 0.2963\n",
      "Epoch 56/100\n",
      "21/21 [==============================] - 1s 34ms/step - loss: 1.3378 - accuracy: 0.3623 - val_loss: 1.3695 - val_accuracy: 0.4593\n",
      "Epoch 57/100\n",
      "21/21 [==============================] - 1s 27ms/step - loss: 1.3442 - accuracy: 0.3127 - val_loss: 1.3680 - val_accuracy: 0.4074\n",
      "Epoch 58/100\n",
      "21/21 [==============================] - 1s 26ms/step - loss: 1.3461 - accuracy: 0.3077 - val_loss: 1.3717 - val_accuracy: 0.3926\n",
      "Epoch 59/100\n",
      "21/21 [==============================] - 1s 26ms/step - loss: 1.3616 - accuracy: 0.2928 - val_loss: 1.3683 - val_accuracy: 0.3630\n",
      "Epoch 60/100\n",
      "21/21 [==============================] - 1s 26ms/step - loss: 1.3481 - accuracy: 0.3102 - val_loss: 1.3721 - val_accuracy: 0.3259\n",
      "Epoch 61/100\n",
      "21/21 [==============================] - 1s 26ms/step - loss: 1.3408 - accuracy: 0.3325 - val_loss: 1.3678 - val_accuracy: 0.4444\n",
      "Epoch 62/100\n",
      "21/21 [==============================] - 1s 26ms/step - loss: 1.3291 - accuracy: 0.3251 - val_loss: 1.3680 - val_accuracy: 0.3926\n",
      "Epoch 63/100\n",
      "21/21 [==============================] - 1s 33ms/step - loss: 1.3511 - accuracy: 0.3002 - val_loss: 1.3653 - val_accuracy: 0.4370\n",
      "Epoch 64/100\n",
      "21/21 [==============================] - 1s 34ms/step - loss: 1.3234 - accuracy: 0.3251 - val_loss: 1.3645 - val_accuracy: 0.3407\n",
      "Epoch 65/100\n",
      "21/21 [==============================] - 1s 31ms/step - loss: 1.3488 - accuracy: 0.3251 - val_loss: 1.3718 - val_accuracy: 0.3333\n",
      "Epoch 66/100\n",
      "21/21 [==============================] - 1s 32ms/step - loss: 1.3569 - accuracy: 0.3002 - val_loss: 1.3710 - val_accuracy: 0.3259\n",
      "Epoch 67/100\n",
      "21/21 [==============================] - 1s 27ms/step - loss: 1.3556 - accuracy: 0.2878 - val_loss: 1.3704 - val_accuracy: 0.3259\n",
      "Epoch 68/100\n",
      "21/21 [==============================] - 1s 27ms/step - loss: 1.3546 - accuracy: 0.3151 - val_loss: 1.3564 - val_accuracy: 0.3852\n",
      "Epoch 69/100\n",
      "21/21 [==============================] - 1s 28ms/step - loss: 1.3397 - accuracy: 0.3226 - val_loss: 1.3657 - val_accuracy: 0.3259\n",
      "Epoch 70/100\n",
      "21/21 [==============================] - 1s 41ms/step - loss: 1.3325 - accuracy: 0.3251 - val_loss: 1.3675 - val_accuracy: 0.3333\n",
      "Epoch 71/100\n",
      "21/21 [==============================] - 1s 39ms/step - loss: 1.3436 - accuracy: 0.3449 - val_loss: 1.3599 - val_accuracy: 0.3704\n",
      "Epoch 72/100\n",
      "21/21 [==============================] - 1s 37ms/step - loss: 1.3397 - accuracy: 0.3102 - val_loss: 1.3619 - val_accuracy: 0.3926\n",
      "Epoch 73/100\n",
      "21/21 [==============================] - 1s 37ms/step - loss: 1.3190 - accuracy: 0.3449 - val_loss: 1.3686 - val_accuracy: 0.3259\n",
      "Epoch 74/100\n",
      "21/21 [==============================] - 1s 29ms/step - loss: 1.3247 - accuracy: 0.3325 - val_loss: 1.3527 - val_accuracy: 0.4148\n",
      "Epoch 75/100\n",
      "21/21 [==============================] - 1s 27ms/step - loss: 1.3200 - accuracy: 0.3772 - val_loss: 1.3558 - val_accuracy: 0.3926\n",
      "Epoch 76/100\n",
      "21/21 [==============================] - 1s 27ms/step - loss: 1.3230 - accuracy: 0.3697 - val_loss: 1.3532 - val_accuracy: 0.4074\n",
      "Epoch 77/100\n",
      "21/21 [==============================] - 1s 32ms/step - loss: 1.3286 - accuracy: 0.3151 - val_loss: 1.3565 - val_accuracy: 0.3926\n",
      "Epoch 78/100\n",
      "21/21 [==============================] - 1s 29ms/step - loss: 1.3224 - accuracy: 0.3573 - val_loss: 1.3606 - val_accuracy: 0.3259\n",
      "Epoch 79/100\n",
      "21/21 [==============================] - 1s 33ms/step - loss: 1.3277 - accuracy: 0.3548 - val_loss: 1.3546 - val_accuracy: 0.3259\n",
      "Epoch 80/100\n",
      "21/21 [==============================] - 1s 35ms/step - loss: 1.3228 - accuracy: 0.3400 - val_loss: 1.3559 - val_accuracy: 0.3259\n",
      "Epoch 81/100\n",
      "21/21 [==============================] - 1s 35ms/step - loss: 1.3376 - accuracy: 0.3300 - val_loss: 1.3537 - val_accuracy: 0.3333\n",
      "Epoch 82/100\n",
      "21/21 [==============================] - 1s 32ms/step - loss: 1.3276 - accuracy: 0.3474 - val_loss: 1.3542 - val_accuracy: 0.3333\n",
      "Epoch 83/100\n",
      "21/21 [==============================] - 1s 29ms/step - loss: 1.3193 - accuracy: 0.3672 - val_loss: 1.3495 - val_accuracy: 0.3778\n",
      "Epoch 84/100\n",
      "21/21 [==============================] - 1s 32ms/step - loss: 1.3245 - accuracy: 0.3375 - val_loss: 1.3478 - val_accuracy: 0.3333\n",
      "Epoch 85/100\n",
      "21/21 [==============================] - 1s 34ms/step - loss: 1.2981 - accuracy: 0.3871 - val_loss: 1.3407 - val_accuracy: 0.4000\n",
      "Epoch 86/100\n",
      "21/21 [==============================] - 1s 30ms/step - loss: 1.3129 - accuracy: 0.3623 - val_loss: 1.3410 - val_accuracy: 0.4000\n",
      "Epoch 87/100\n",
      "21/21 [==============================] - 1s 29ms/step - loss: 1.3179 - accuracy: 0.3424 - val_loss: 1.3330 - val_accuracy: 0.4222\n",
      "Epoch 88/100\n",
      "21/21 [==============================] - 1s 39ms/step - loss: 1.3143 - accuracy: 0.3821 - val_loss: 1.3417 - val_accuracy: 0.3630\n",
      "Epoch 89/100\n",
      "21/21 [==============================] - 1s 32ms/step - loss: 1.3084 - accuracy: 0.3499 - val_loss: 1.3322 - val_accuracy: 0.4148\n",
      "Epoch 90/100\n",
      "21/21 [==============================] - 1s 31ms/step - loss: 1.3178 - accuracy: 0.3772 - val_loss: 1.3339 - val_accuracy: 0.4222\n",
      "Epoch 91/100\n",
      "21/21 [==============================] - 1s 34ms/step - loss: 1.3118 - accuracy: 0.3548 - val_loss: 1.3358 - val_accuracy: 0.3556\n",
      "Epoch 92/100\n",
      "21/21 [==============================] - 1s 34ms/step - loss: 1.3131 - accuracy: 0.3499 - val_loss: 1.3418 - val_accuracy: 0.3259\n",
      "Epoch 93/100\n",
      "21/21 [==============================] - 1s 28ms/step - loss: 1.3107 - accuracy: 0.3672 - val_loss: 1.3346 - val_accuracy: 0.4148\n",
      "Epoch 94/100\n",
      "21/21 [==============================] - 1s 27ms/step - loss: 1.2931 - accuracy: 0.3970 - val_loss: 1.3245 - val_accuracy: 0.4074\n",
      "Epoch 95/100\n",
      "21/21 [==============================] - 1s 27ms/step - loss: 1.3069 - accuracy: 0.4020 - val_loss: 1.3378 - val_accuracy: 0.3259\n",
      "Epoch 96/100\n",
      "21/21 [==============================] - 1s 28ms/step - loss: 1.2867 - accuracy: 0.3672 - val_loss: 1.3258 - val_accuracy: 0.4000\n",
      "Epoch 97/100\n",
      "21/21 [==============================] - 1s 28ms/step - loss: 1.3083 - accuracy: 0.3623 - val_loss: 1.3159 - val_accuracy: 0.4222\n",
      "Epoch 98/100\n",
      "21/21 [==============================] - 1s 35ms/step - loss: 1.2850 - accuracy: 0.4069 - val_loss: 1.3167 - val_accuracy: 0.3556\n",
      "Epoch 99/100\n",
      "21/21 [==============================] - 1s 33ms/step - loss: 1.2976 - accuracy: 0.3896 - val_loss: 1.3218 - val_accuracy: 0.3630\n",
      "Epoch 100/100\n",
      "21/21 [==============================] - 1s 32ms/step - loss: 1.3076 - accuracy: 0.3598 - val_loss: 1.3163 - val_accuracy: 0.4296\n"
     ]
    }
   ],
   "source": [
    "tmhistory=tm.fit(x_traincnn, y_train, batch_size=20, epochs=100, validation_data=(x_testcnn, y_test))"
   ]
  },
  {
   "cell_type": "code",
   "execution_count": 100,
   "metadata": {
    "colab": {
     "base_uri": "https://localhost:8080/",
     "height": 51
    },
    "id": "TbbY3j68lmVR",
    "outputId": "8f8c3fb1-96eb-4d10-a01e-2540498e314a"
   },
   "outputs": [
    {
     "name": "stdout",
     "output_type": "stream",
     "text": [
      "5/5 [==============================] - 0s 16ms/step - loss: 1.3163 - accuracy: 0.4296\n",
      "Restored model, accuracy: 42.96%\n"
     ]
    }
   ],
   "source": [
    "loss, acc = tm.evaluate(x_testcnn, y_test)\n",
    "print(\"Restored model, accuracy: {:5.2f}%\".format(100*acc))"
   ]
  },
  {
   "cell_type": "code",
   "execution_count": 50,
   "metadata": {
    "colab": {
     "base_uri": "https://localhost:8080/",
     "height": 272
    },
    "id": "0mL8z3EQ9jZT",
    "outputId": "5f8aac19-5f3e-4f9b-c14d-6a170e76ff83"
   },
   "outputs": [
    {
     "name": "stdout",
     "output_type": "stream",
     "text": [
      "              precision    recall  f1-score   support\n",
      "\n",
      "         0.0       0.50      0.69      0.58        32\n",
      "         1.0       0.73      0.23      0.35        35\n",
      "         3.0       0.45      0.92      0.61        26\n",
      "         4.0       0.96      0.62      0.75        42\n",
      "\n",
      "    accuracy                           0.59       135\n",
      "   macro avg       0.66      0.61      0.57       135\n",
      "weighted avg       0.69      0.59      0.58       135\n",
      "\n",
      "[[22  1  8  1]\n",
      " [10  8 17  0]\n",
      " [ 0  2 24  0]\n",
      " [12  0  4 26]]\n"
     ]
    }
   ],
   "source": [
    "from sklearn.metrics import classification_report \n",
    "from sklearn.metrics import confusion_matrix \n",
    "classes_tp = model.predict(x_testcnn)\n",
    "predict=np.argmax(classes_tp,axis=1)\n",
    "#predict = tm.predict_classes(x_testcnn)\n",
    "print(classification_report(y_test,predict))\n",
    "print(confusion_matrix(y_test,predict))"
   ]
  },
  {
   "cell_type": "code",
   "execution_count": 121,
   "metadata": {},
   "outputs": [
    {
     "data": {
      "image/png": "[encoded data removed]",
      "text/plain": [
       "<Figure size 432x288 with 1 Axes>"
      ]
     },
     "metadata": {
      "needs_background": "light"
     },
     "output_type": "display_data"
    }
   ],
   "source": [
    "plt.plot(tmhistory.history['loss'])\n",
    "plt.plot(tmhistory.history['val_loss'])\n",
    "plt.title('model loss')\n",
    "plt.ylabel('loss')\n",
    "plt.xlabel('epoch')\n",
    "plt.legend(['train', 'test'], loc='upper left')\n",
    "plt.show()"
   ]
  },
  {
   "cell_type": "markdown",
   "metadata": {
    "id": "Abdy_mt4nABa"
   },
   "source": [
    "**Model 4: 3 Sigmoids and 1 Relu for flattening layer**"
   ]
  },
  {
   "cell_type": "code",
   "execution_count": 103,
   "metadata": {
    "id": "V43ptFvXm-bj"
   },
   "outputs": [],
   "source": [
    "\n",
    "\n",
    "sm = Sequential()\n",
    "\n",
    "sm.add(Conv1D(128, 5,padding='same',input_shape=(180,1)))#1\n",
    "sm.add(Activation('sigmoid'))\n",
    "sm.add(Dropout(0.1))\n",
    "sm.add(MaxPooling1D(pool_size=(8)))\n",
    "\n",
    "\n",
    "sm.add(Conv1D(128, 5,padding='same',))                  #3\n",
    "sm.add(Activation('sigmoid'))\n",
    "sm.add(Dropout(0.1))\n",
    "\n",
    "sm.add(Conv1D(128, 5,padding='same',))                  #4\n",
    "sm.add(Activation('sigmoid'))\n",
    "sm.add(Dropout(0.1))\n",
    "\n",
    "sm.add(Flatten())\n",
    "sm.add(Dense(8))                                        #5                     \n",
    "sm.add(Activation('relu'))\n",
    "opt = tf.keras.optimizers.RMSprop(lr=0.00005,epsilon=None,rho=0.9,decay=0.0)\n"
   ]
  },
  {
   "cell_type": "code",
   "execution_count": 104,
   "metadata": {
    "colab": {
     "base_uri": "https://localhost:8080/",
     "height": 731
    },
    "id": "YKvLhSPPnG6C",
    "outputId": "dd72e5cf-e6e4-4c84-a7bb-d0e5e0820b44"
   },
   "outputs": [
    {
     "name": "stdout",
     "output_type": "stream",
     "text": [
      "Model: \"sequential_16\"\n",
      "_________________________________________________________________\n",
      " Layer (type)                Output Shape              Param #   \n",
      "=================================================================\n",
      " conv1d_44 (Conv1D)          (None, 180, 128)          768       \n",
      "                                                                 \n",
      " activation_59 (Activation)  (None, 180, 128)          0         \n",
      "                                                                 \n",
      " dropout_43 (Dropout)        (None, 180, 128)          0         \n",
      "                                                                 \n",
      " max_pooling1d_24 (MaxPoolin  (None, 22, 128)          0         \n",
      " g1D)                                                            \n",
      "                                                                 \n",
      " conv1d_45 (Conv1D)          (None, 22, 128)           82048     \n",
      "                                                                 \n",
      " activation_60 (Activation)  (None, 22, 128)           0         \n",
      "                                                                 \n",
      " dropout_44 (Dropout)        (None, 22, 128)           0         \n",
      "                                                                 \n",
      " conv1d_46 (Conv1D)          (None, 22, 128)           82048     \n",
      "                                                                 \n",
      " activation_61 (Activation)  (None, 22, 128)           0         \n",
      "                                                                 \n",
      " dropout_45 (Dropout)        (None, 22, 128)           0         \n",
      "                                                                 \n",
      " flatten_15 (Flatten)        (None, 2816)              0         \n",
      "                                                                 \n",
      " dense_15 (Dense)            (None, 8)                 22536     \n",
      "                                                                 \n",
      " activation_62 (Activation)  (None, 8)                 0         \n",
      "                                                                 \n",
      "=================================================================\n",
      "Total params: 187,400\n",
      "Trainable params: 187,400\n",
      "Non-trainable params: 0\n",
      "_________________________________________________________________\n"
     ]
    }
   ],
   "source": [
    "sm.summary()"
   ]
  },
  {
   "cell_type": "code",
   "execution_count": 105,
   "metadata": {
    "id": "mPJIfLcGnH0x"
   },
   "outputs": [],
   "source": [
    "sm.compile(loss='sparse_categorical_crossentropy',\n",
    "              optimizer=opt,\n",
    "              metrics=['accuracy'])"
   ]
  },
  {
   "cell_type": "code",
   "execution_count": 106,
   "metadata": {
    "colab": {
     "base_uri": "https://localhost:8080/",
     "height": 1000
    },
    "id": "K51eTwPjnIGJ",
    "outputId": "82569664-abb9-4322-8290-f724a128949b"
   },
   "outputs": [
    {
     "name": "stdout",
     "output_type": "stream",
     "text": [
      "Epoch 1/100\n",
      "21/21 [==============================] - 3s 51ms/step - loss: 6.4003 - accuracy: 0.2184 - val_loss: 5.2449 - val_accuracy: 0.2370\n",
      "Epoch 2/100\n",
      "21/21 [==============================] - 1s 33ms/step - loss: 5.8656 - accuracy: 0.2878 - val_loss: 5.1816 - val_accuracy: 0.2370\n",
      "Epoch 3/100\n",
      "21/21 [==============================] - 1s 33ms/step - loss: 5.7166 - accuracy: 0.2208 - val_loss: 5.1453 - val_accuracy: 0.2444\n",
      "Epoch 4/100\n",
      "21/21 [==============================] - 1s 40ms/step - loss: 5.8411 - accuracy: 0.2630 - val_loss: 7.6206 - val_accuracy: 0.3111\n",
      "Epoch 5/100\n",
      "21/21 [==============================] - 1s 40ms/step - loss: 7.4400 - accuracy: 0.3052 - val_loss: 7.2391 - val_accuracy: 0.3111\n",
      "Epoch 6/100\n",
      "21/21 [==============================] - 1s 39ms/step - loss: 3.8578 - accuracy: 0.2928 - val_loss: 2.0794 - val_accuracy: 0.2370\n",
      "Epoch 7/100\n",
      "21/21 [==============================] - 1s 34ms/step - loss: 2.5454 - accuracy: 0.2978 - val_loss: 2.0794 - val_accuracy: 0.2370\n",
      "Epoch 8/100\n",
      "21/21 [==============================] - 1s 41ms/step - loss: 2.2900 - accuracy: 0.3052 - val_loss: 2.0794 - val_accuracy: 0.2370\n",
      "Epoch 9/100\n",
      "21/21 [==============================] - 1s 40ms/step - loss: 2.1900 - accuracy: 0.3027 - val_loss: 2.0794 - val_accuracy: 0.2370\n",
      "Epoch 10/100\n",
      "21/21 [==============================] - 1s 39ms/step - loss: 2.1665 - accuracy: 0.3002 - val_loss: 2.0794 - val_accuracy: 0.2370\n",
      "Epoch 11/100\n",
      "21/21 [==============================] - 1s 36ms/step - loss: 2.1288 - accuracy: 0.3027 - val_loss: 2.0794 - val_accuracy: 0.2370\n",
      "Epoch 12/100\n",
      "21/21 [==============================] - 1s 36ms/step - loss: 2.1104 - accuracy: 0.3002 - val_loss: 2.0794 - val_accuracy: 0.2370\n",
      "Epoch 13/100\n",
      "21/21 [==============================] - 1s 35ms/step - loss: 2.1064 - accuracy: 0.3027 - val_loss: 2.0794 - val_accuracy: 0.2370\n",
      "Epoch 14/100\n",
      "21/21 [==============================] - 1s 35ms/step - loss: 2.0794 - accuracy: 0.3027 - val_loss: 2.0794 - val_accuracy: 0.2370\n",
      "Epoch 15/100\n",
      "21/21 [==============================] - 1s 40ms/step - loss: 2.0794 - accuracy: 0.3027 - val_loss: 2.0794 - val_accuracy: 0.2370\n",
      "Epoch 16/100\n",
      "21/21 [==============================] - 1s 42ms/step - loss: 2.0794 - accuracy: 0.3027 - val_loss: 2.0794 - val_accuracy: 0.2370\n",
      "Epoch 17/100\n",
      "21/21 [==============================] - 1s 38ms/step - loss: 2.0743 - accuracy: 0.3052 - val_loss: 2.0794 - val_accuracy: 0.2370\n",
      "Epoch 18/100\n",
      "21/21 [==============================] - 1s 39ms/step - loss: 2.0794 - accuracy: 0.3027 - val_loss: 2.0794 - val_accuracy: 0.2370\n",
      "Epoch 19/100\n",
      "21/21 [==============================] - 1s 34ms/step - loss: 2.0794 - accuracy: 0.3027 - val_loss: 2.0794 - val_accuracy: 0.2370\n",
      "Epoch 20/100\n",
      "21/21 [==============================] - 1s 35ms/step - loss: 2.0794 - accuracy: 0.3027 - val_loss: 2.0794 - val_accuracy: 0.2370\n",
      "Epoch 21/100\n",
      "21/21 [==============================] - 1s 36ms/step - loss: 2.0794 - accuracy: 0.3027 - val_loss: 2.0794 - val_accuracy: 0.2370\n",
      "Epoch 22/100\n",
      "21/21 [==============================] - 1s 38ms/step - loss: 2.0794 - accuracy: 0.3027 - val_loss: 2.0794 - val_accuracy: 0.2370\n",
      "Epoch 23/100\n",
      "21/21 [==============================] - 1s 38ms/step - loss: 2.0794 - accuracy: 0.3027 - val_loss: 2.0794 - val_accuracy: 0.2370\n",
      "Epoch 24/100\n",
      "21/21 [==============================] - 1s 35ms/step - loss: 2.0794 - accuracy: 0.3027 - val_loss: 2.0794 - val_accuracy: 0.2370\n",
      "Epoch 25/100\n",
      "21/21 [==============================] - 1s 35ms/step - loss: 2.0794 - accuracy: 0.3027 - val_loss: 2.0794 - val_accuracy: 0.2370\n",
      "Epoch 26/100\n",
      "21/21 [==============================] - 1s 35ms/step - loss: 2.0794 - accuracy: 0.3027 - val_loss: 2.0794 - val_accuracy: 0.2370\n",
      "Epoch 27/100\n",
      "21/21 [==============================] - 1s 40ms/step - loss: 2.0794 - accuracy: 0.3027 - val_loss: 2.0794 - val_accuracy: 0.2370\n",
      "Epoch 28/100\n",
      "21/21 [==============================] - 1s 44ms/step - loss: 2.0794 - accuracy: 0.3027 - val_loss: 2.0794 - val_accuracy: 0.2370\n",
      "Epoch 29/100\n",
      "21/21 [==============================] - 1s 35ms/step - loss: 2.0794 - accuracy: 0.3027 - val_loss: 2.0794 - val_accuracy: 0.2370\n",
      "Epoch 30/100\n",
      "21/21 [==============================] - 1s 35ms/step - loss: 2.1091 - accuracy: 0.3002 - val_loss: 2.0794 - val_accuracy: 0.2370\n",
      "Epoch 31/100\n",
      "21/21 [==============================] - 1s 37ms/step - loss: 2.1087 - accuracy: 0.3027 - val_loss: 2.0794 - val_accuracy: 0.2370\n",
      "Epoch 32/100\n",
      "21/21 [==============================] - 1s 40ms/step - loss: 2.0794 - accuracy: 0.3027 - val_loss: 2.0794 - val_accuracy: 0.2370\n",
      "Epoch 33/100\n",
      "21/21 [==============================] - 1s 40ms/step - loss: 2.0794 - accuracy: 0.3027 - val_loss: 2.0794 - val_accuracy: 0.2370\n",
      "Epoch 34/100\n",
      "21/21 [==============================] - 1s 37ms/step - loss: 2.0794 - accuracy: 0.3027 - val_loss: 2.0794 - val_accuracy: 0.2370\n",
      "Epoch 35/100\n",
      "21/21 [==============================] - 1s 33ms/step - loss: 2.0794 - accuracy: 0.3027 - val_loss: 2.0794 - val_accuracy: 0.2370\n",
      "Epoch 36/100\n",
      "21/21 [==============================] - 1s 35ms/step - loss: 2.0794 - accuracy: 0.3027 - val_loss: 2.0794 - val_accuracy: 0.2370\n",
      "Epoch 37/100\n",
      "21/21 [==============================] - 1s 35ms/step - loss: 2.0794 - accuracy: 0.3027 - val_loss: 2.0794 - val_accuracy: 0.2370\n",
      "Epoch 38/100\n",
      "21/21 [==============================] - 1s 34ms/step - loss: 2.0794 - accuracy: 0.3027 - val_loss: 2.0794 - val_accuracy: 0.2370\n",
      "Epoch 39/100\n",
      "21/21 [==============================] - 1s 32ms/step - loss: 2.0794 - accuracy: 0.3027 - val_loss: 2.0794 - val_accuracy: 0.2370\n",
      "Epoch 40/100\n",
      "21/21 [==============================] - 1s 34ms/step - loss: 2.0794 - accuracy: 0.3027 - val_loss: 2.0794 - val_accuracy: 0.2370\n",
      "Epoch 41/100\n",
      "21/21 [==============================] - 1s 41ms/step - loss: 2.0794 - accuracy: 0.3027 - val_loss: 2.0794 - val_accuracy: 0.2370\n",
      "Epoch 42/100\n",
      "21/21 [==============================] - 1s 35ms/step - loss: 2.0794 - accuracy: 0.3027 - val_loss: 2.0794 - val_accuracy: 0.2370\n",
      "Epoch 43/100\n",
      "21/21 [==============================] - 1s 34ms/step - loss: 2.0794 - accuracy: 0.3027 - val_loss: 2.0794 - val_accuracy: 0.2370\n",
      "Epoch 44/100\n",
      "21/21 [==============================] - 1s 34ms/step - loss: 2.0794 - accuracy: 0.3027 - val_loss: 2.0794 - val_accuracy: 0.2370\n",
      "Epoch 45/100\n",
      "21/21 [==============================] - 1s 33ms/step - loss: 2.0794 - accuracy: 0.3027 - val_loss: 2.0794 - val_accuracy: 0.2370\n",
      "Epoch 46/100\n",
      "21/21 [==============================] - 1s 34ms/step - loss: 2.0794 - accuracy: 0.3027 - val_loss: 2.0794 - val_accuracy: 0.2370\n",
      "Epoch 47/100\n",
      "21/21 [==============================] - 1s 34ms/step - loss: 2.0794 - accuracy: 0.3027 - val_loss: 2.0794 - val_accuracy: 0.2370\n",
      "Epoch 48/100\n",
      "21/21 [==============================] - 1s 33ms/step - loss: 2.0794 - accuracy: 0.3027 - val_loss: 2.0794 - val_accuracy: 0.2370\n",
      "Epoch 49/100\n",
      "21/21 [==============================] - 1s 45ms/step - loss: 2.0794 - accuracy: 0.3027 - val_loss: 2.0794 - val_accuracy: 0.2370\n",
      "Epoch 50/100\n",
      "21/21 [==============================] - 1s 33ms/step - loss: 2.0794 - accuracy: 0.3027 - val_loss: 2.0794 - val_accuracy: 0.2370\n",
      "Epoch 51/100\n",
      "21/21 [==============================] - 1s 34ms/step - loss: 2.0794 - accuracy: 0.3027 - val_loss: 2.0794 - val_accuracy: 0.2370\n",
      "Epoch 52/100\n",
      "21/21 [==============================] - 1s 33ms/step - loss: 2.0794 - accuracy: 0.3027 - val_loss: 2.0794 - val_accuracy: 0.2370\n",
      "Epoch 53/100\n",
      "21/21 [==============================] - 1s 40ms/step - loss: 2.0794 - accuracy: 0.3027 - val_loss: 2.0794 - val_accuracy: 0.2370\n",
      "Epoch 54/100\n",
      "21/21 [==============================] - 1s 40ms/step - loss: 2.0794 - accuracy: 0.3027 - val_loss: 2.0794 - val_accuracy: 0.2370\n",
      "Epoch 55/100\n",
      "21/21 [==============================] - 1s 33ms/step - loss: 2.0794 - accuracy: 0.3027 - val_loss: 2.0794 - val_accuracy: 0.2370\n",
      "Epoch 56/100\n",
      "21/21 [==============================] - 1s 33ms/step - loss: 2.0794 - accuracy: 0.3027 - val_loss: 2.0794 - val_accuracy: 0.2370\n",
      "Epoch 57/100\n",
      "21/21 [==============================] - 1s 31ms/step - loss: 2.0794 - accuracy: 0.3027 - val_loss: 2.0794 - val_accuracy: 0.2370\n",
      "Epoch 58/100\n",
      "21/21 [==============================] - 1s 32ms/step - loss: 2.0794 - accuracy: 0.3027 - val_loss: 2.0794 - val_accuracy: 0.2370\n",
      "Epoch 59/100\n",
      "21/21 [==============================] - 1s 47ms/step - loss: 2.1041 - accuracy: 0.3027 - val_loss: 2.0794 - val_accuracy: 0.2370\n",
      "Epoch 60/100\n",
      "21/21 [==============================] - 1s 42ms/step - loss: 2.0794 - accuracy: 0.3027 - val_loss: 2.0794 - val_accuracy: 0.2370\n",
      "Epoch 61/100\n",
      "21/21 [==============================] - 1s 34ms/step - loss: 2.0794 - accuracy: 0.3027 - val_loss: 2.0794 - val_accuracy: 0.2370\n",
      "Epoch 62/100\n",
      "21/21 [==============================] - 1s 35ms/step - loss: 2.0794 - accuracy: 0.3027 - val_loss: 2.0794 - val_accuracy: 0.2370\n",
      "Epoch 63/100\n",
      "21/21 [==============================] - 1s 34ms/step - loss: 2.0794 - accuracy: 0.3027 - val_loss: 2.0794 - val_accuracy: 0.2370\n",
      "Epoch 64/100\n",
      "21/21 [==============================] - 1s 38ms/step - loss: 2.0794 - accuracy: 0.3027 - val_loss: 2.0794 - val_accuracy: 0.2370\n",
      "Epoch 65/100\n",
      "21/21 [==============================] - 1s 36ms/step - loss: 2.0794 - accuracy: 0.3027 - val_loss: 2.0794 - val_accuracy: 0.2370\n",
      "Epoch 66/100\n",
      "21/21 [==============================] - 1s 33ms/step - loss: 2.0794 - accuracy: 0.3027 - val_loss: 2.0794 - val_accuracy: 0.2370\n",
      "Epoch 67/100\n",
      "21/21 [==============================] - 1s 36ms/step - loss: 2.0794 - accuracy: 0.3027 - val_loss: 2.0794 - val_accuracy: 0.2370\n",
      "Epoch 68/100\n",
      "21/21 [==============================] - 1s 35ms/step - loss: 2.0794 - accuracy: 0.3027 - val_loss: 2.0794 - val_accuracy: 0.2370\n",
      "Epoch 69/100\n",
      "21/21 [==============================] - 1s 36ms/step - loss: 2.0794 - accuracy: 0.3027 - val_loss: 2.0794 - val_accuracy: 0.2370\n",
      "Epoch 70/100\n",
      "21/21 [==============================] - 1s 39ms/step - loss: 2.0794 - accuracy: 0.3027 - val_loss: 2.0794 - val_accuracy: 0.2370\n",
      "Epoch 71/100\n",
      "21/21 [==============================] - 1s 37ms/step - loss: 2.0794 - accuracy: 0.3027 - val_loss: 2.0794 - val_accuracy: 0.2370\n",
      "Epoch 72/100\n",
      "21/21 [==============================] - 1s 36ms/step - loss: 2.0794 - accuracy: 0.3027 - val_loss: 2.0794 - val_accuracy: 0.2370\n",
      "Epoch 73/100\n",
      "21/21 [==============================] - 1s 35ms/step - loss: 2.0794 - accuracy: 0.3027 - val_loss: 2.0794 - val_accuracy: 0.2370\n",
      "Epoch 74/100\n",
      "21/21 [==============================] - 1s 33ms/step - loss: 2.0794 - accuracy: 0.3027 - val_loss: 2.0794 - val_accuracy: 0.2370\n",
      "Epoch 75/100\n",
      "21/21 [==============================] - 1s 37ms/step - loss: 2.0794 - accuracy: 0.3027 - val_loss: 2.0794 - val_accuracy: 0.2370\n",
      "Epoch 76/100\n",
      "21/21 [==============================] - 1s 37ms/step - loss: 2.0794 - accuracy: 0.3027 - val_loss: 2.0794 - val_accuracy: 0.2370\n",
      "Epoch 77/100\n",
      "21/21 [==============================] - 1s 40ms/step - loss: 2.0794 - accuracy: 0.3027 - val_loss: 2.0794 - val_accuracy: 0.2370\n",
      "Epoch 78/100\n",
      "21/21 [==============================] - 1s 38ms/step - loss: 2.0794 - accuracy: 0.3027 - val_loss: 2.0794 - val_accuracy: 0.2370\n",
      "Epoch 79/100\n",
      "21/21 [==============================] - 1s 35ms/step - loss: 2.0794 - accuracy: 0.3027 - val_loss: 2.0794 - val_accuracy: 0.2370\n",
      "Epoch 80/100\n",
      "21/21 [==============================] - 1s 32ms/step - loss: 2.0794 - accuracy: 0.3027 - val_loss: 2.0794 - val_accuracy: 0.2370\n",
      "Epoch 81/100\n",
      "21/21 [==============================] - 1s 34ms/step - loss: 2.0794 - accuracy: 0.3027 - val_loss: 2.0794 - val_accuracy: 0.2370\n",
      "Epoch 82/100\n",
      "21/21 [==============================] - 1s 35ms/step - loss: 2.0794 - accuracy: 0.3027 - val_loss: 2.0794 - val_accuracy: 0.2370\n",
      "Epoch 83/100\n",
      "21/21 [==============================] - 1s 36ms/step - loss: 2.0794 - accuracy: 0.3027 - val_loss: 2.0794 - val_accuracy: 0.2370\n",
      "Epoch 84/100\n",
      "21/21 [==============================] - 1s 36ms/step - loss: 2.0794 - accuracy: 0.3027 - val_loss: 2.0794 - val_accuracy: 0.2370\n",
      "Epoch 85/100\n",
      "21/21 [==============================] - 1s 41ms/step - loss: 2.0794 - accuracy: 0.3027 - val_loss: 2.0794 - val_accuracy: 0.2370\n",
      "Epoch 86/100\n",
      "21/21 [==============================] - 1s 35ms/step - loss: 2.0794 - accuracy: 0.3027 - val_loss: 2.0794 - val_accuracy: 0.2370\n",
      "Epoch 87/100\n",
      "21/21 [==============================] - 1s 34ms/step - loss: 2.0794 - accuracy: 0.3027 - val_loss: 2.0794 - val_accuracy: 0.2370\n",
      "Epoch 88/100\n",
      "21/21 [==============================] - 1s 34ms/step - loss: 2.0794 - accuracy: 0.3027 - val_loss: 2.0794 - val_accuracy: 0.2370\n",
      "Epoch 89/100\n",
      "21/21 [==============================] - 1s 35ms/step - loss: 2.0794 - accuracy: 0.3027 - val_loss: 2.0794 - val_accuracy: 0.2370\n",
      "Epoch 90/100\n",
      "21/21 [==============================] - 1s 36ms/step - loss: 2.0794 - accuracy: 0.3027 - val_loss: 2.0794 - val_accuracy: 0.2370\n",
      "Epoch 91/100\n",
      "21/21 [==============================] - 1s 35ms/step - loss: 2.0794 - accuracy: 0.3027 - val_loss: 2.0794 - val_accuracy: 0.2370\n",
      "Epoch 92/100\n",
      "21/21 [==============================] - 1s 34ms/step - loss: 2.0794 - accuracy: 0.3027 - val_loss: 2.0794 - val_accuracy: 0.2370\n",
      "Epoch 93/100\n",
      "21/21 [==============================] - 1s 53ms/step - loss: 2.0794 - accuracy: 0.3027 - val_loss: 2.0794 - val_accuracy: 0.2370\n",
      "Epoch 94/100\n",
      "21/21 [==============================] - 1s 40ms/step - loss: 2.0794 - accuracy: 0.3027 - val_loss: 2.0794 - val_accuracy: 0.2370\n",
      "Epoch 95/100\n",
      "21/21 [==============================] - 1s 35ms/step - loss: 2.0794 - accuracy: 0.3027 - val_loss: 2.0794 - val_accuracy: 0.2370\n",
      "Epoch 96/100\n",
      "21/21 [==============================] - 1s 48ms/step - loss: 2.0794 - accuracy: 0.3027 - val_loss: 2.0794 - val_accuracy: 0.2370\n",
      "Epoch 97/100\n",
      "21/21 [==============================] - 1s 38ms/step - loss: 2.0794 - accuracy: 0.3027 - val_loss: 2.0794 - val_accuracy: 0.2370\n",
      "Epoch 98/100\n",
      "21/21 [==============================] - 1s 33ms/step - loss: 2.0794 - accuracy: 0.3027 - val_loss: 2.0794 - val_accuracy: 0.2370\n",
      "Epoch 99/100\n",
      "21/21 [==============================] - 1s 34ms/step - loss: 2.0794 - accuracy: 0.3027 - val_loss: 2.0794 - val_accuracy: 0.2370\n",
      "Epoch 100/100\n",
      "21/21 [==============================] - 1s 38ms/step - loss: 2.0794 - accuracy: 0.3027 - val_loss: 2.0794 - val_accuracy: 0.2370\n"
     ]
    }
   ],
   "source": [
    "smhistory=sm.fit(x_traincnn, y_train, batch_size=20, epochs=100, validation_data=(x_testcnn, y_test))"
   ]
  },
  {
   "cell_type": "code",
   "execution_count": 107,
   "metadata": {
    "colab": {
     "base_uri": "https://localhost:8080/",
     "height": 272
    },
    "id": "wKQ7YEL693jZ",
    "outputId": "ac7ecf37-f015-4754-b759-e861bf7fd127"
   },
   "outputs": [
    {
     "name": "stdout",
     "output_type": "stream",
     "text": [
      "              precision    recall  f1-score   support\n",
      "\n",
      "         0.0       0.24      1.00      0.38        32\n",
      "         1.0       0.00      0.00      0.00        35\n",
      "         3.0       0.00      0.00      0.00        26\n",
      "         4.0       0.00      0.00      0.00        42\n",
      "\n",
      "    accuracy                           0.24       135\n",
      "   macro avg       0.06      0.25      0.10       135\n",
      "weighted avg       0.06      0.24      0.09       135\n",
      "\n",
      "[[32  0  0  0]\n",
      " [35  0  0  0]\n",
      " [26  0  0  0]\n",
      " [42  0  0  0]]\n"
     ]
    },
    {
     "name": "stderr",
     "output_type": "stream",
     "text": [
      "c:\\users\\avimo\\appdata\\local\\programs\\python\\python38\\lib\\site-packages\\sklearn\\metrics\\_classification.py:1308: UndefinedMetricWarning: Precision and F-score are ill-defined and being set to 0.0 in labels with no predicted samples. Use `zero_division` parameter to control this behavior.\n",
      "  _warn_prf(average, modifier, msg_start, len(result))\n",
      "c:\\users\\avimo\\appdata\\local\\programs\\python\\python38\\lib\\site-packages\\sklearn\\metrics\\_classification.py:1308: UndefinedMetricWarning: Precision and F-score are ill-defined and being set to 0.0 in labels with no predicted samples. Use `zero_division` parameter to control this behavior.\n",
      "  _warn_prf(average, modifier, msg_start, len(result))\n",
      "c:\\users\\avimo\\appdata\\local\\programs\\python\\python38\\lib\\site-packages\\sklearn\\metrics\\_classification.py:1308: UndefinedMetricWarning: Precision and F-score are ill-defined and being set to 0.0 in labels with no predicted samples. Use `zero_division` parameter to control this behavior.\n",
      "  _warn_prf(average, modifier, msg_start, len(result))\n"
     ]
    }
   ],
   "source": [
    "from sklearn.metrics import classification_report \n",
    "from sklearn.metrics import confusion_matrix \n",
    "classes_x = model.predict(x_testcnn)\n",
    "p=np.argmax(classes_x,axis=1)\n",
    "\n",
    "#p = sm.predict_classes(x_testcnn)\n",
    "print(classification_report(y_test,p))\n",
    "print(confusion_matrix(y_test,p))"
   ]
  },
  {
   "cell_type": "code",
   "execution_count": 108,
   "metadata": {
    "colab": {
     "base_uri": "https://localhost:8080/",
     "height": 51
    },
    "id": "LBS8v4sWnIjJ",
    "outputId": "34487bd9-7587-4805-a2e6-9f19e8e9e419"
   },
   "outputs": [
    {
     "name": "stdout",
     "output_type": "stream",
     "text": [
      "5/5 [==============================] - 0s 15ms/step - loss: 2.0794 - accuracy: 0.2370\n",
      "Restored model, accuracy: 23.70%\n"
     ]
    }
   ],
   "source": [
    "loss, acc = sm.evaluate(x_testcnn, y_test)\n",
    "print(\"Restored model, accuracy: {:5.2f}%\".format(100*acc))"
   ]
  },
  {
   "cell_type": "code",
   "execution_count": 122,
   "metadata": {},
   "outputs": [
    {
     "data": {
      "image/png": "[encoded data removed]",
      "text/plain": [
       "<Figure size 432x288 with 1 Axes>"
      ]
     },
     "metadata": {
      "needs_background": "light"
     },
     "output_type": "display_data"
    }
   ],
   "source": [
    "plt.plot(smhistory.history['loss'])\n",
    "plt.plot(smhistory.history['val_loss'])\n",
    "plt.title('model loss')\n",
    "plt.ylabel('loss')\n",
    "plt.xlabel('epoch')\n",
    "plt.legend(['train', 'test'], loc='upper left')\n",
    "plt.show()"
   ]
  },
  {
   "cell_type": "markdown",
   "metadata": {},
   "source": [
    "**Model 4: 2 relu and 2 softmax**"
   ]
  },
  {
   "cell_type": "code",
   "execution_count": 114,
   "metadata": {},
   "outputs": [],
   "source": [
    "\n",
    "\n",
    "sm4 = Sequential()\n",
    "\n",
    "sm4.add(Conv1D(128, 5,padding='same',input_shape=(180,1)))#1\n",
    "sm4.add(Activation('relu'))\n",
    "sm4.add(Dropout(0.1))\n",
    "sm4.add(MaxPooling1D(pool_size=(8)))\n",
    "\n",
    "\n",
    "sm4.add(Conv1D(128, 5,padding='same',))                  #3\n",
    "sm4.add(Activation('relu'))\n",
    "sm4.add(Dropout(0.1))\n",
    "\n",
    "sm4.add(Conv1D(128, 5,padding='same',))                  #4\n",
    "sm4.add(Activation('softmax'))\n",
    "sm4.add(Dropout(0.1))\n",
    "\n",
    "sm4.add(Flatten())\n",
    "sm4.add(Dense(8))                                        #5                     \n",
    "sm4.add(Activation('softmax'))\n",
    "opt = tf.keras.optimizers.RMSprop(learning_rate=0.00005,epsilon=None,rho=0.9,decay=0.0)\n"
   ]
  },
  {
   "cell_type": "code",
   "execution_count": 115,
   "metadata": {},
   "outputs": [
    {
     "name": "stdout",
     "output_type": "stream",
     "text": [
      "Model: \"sequential_19\"\n",
      "_________________________________________________________________\n",
      " Layer (type)                Output Shape              Param #   \n",
      "=================================================================\n",
      " conv1d_53 (Conv1D)          (None, 180, 128)          768       \n",
      "                                                                 \n",
      " activation_71 (Activation)  (None, 180, 128)          0         \n",
      "                                                                 \n",
      " dropout_52 (Dropout)        (None, 180, 128)          0         \n",
      "                                                                 \n",
      " max_pooling1d_27 (MaxPoolin  (None, 22, 128)          0         \n",
      " g1D)                                                            \n",
      "                                                                 \n",
      " conv1d_54 (Conv1D)          (None, 22, 128)           82048     \n",
      "                                                                 \n",
      " activation_72 (Activation)  (None, 22, 128)           0         \n",
      "                                                                 \n",
      " dropout_53 (Dropout)        (None, 22, 128)           0         \n",
      "                                                                 \n",
      " conv1d_55 (Conv1D)          (None, 22, 128)           82048     \n",
      "                                                                 \n",
      " activation_73 (Activation)  (None, 22, 128)           0         \n",
      "                                                                 \n",
      " dropout_54 (Dropout)        (None, 22, 128)           0         \n",
      "                                                                 \n",
      " flatten_18 (Flatten)        (None, 2816)              0         \n",
      "                                                                 \n",
      " dense_18 (Dense)            (None, 8)                 22536     \n",
      "                                                                 \n",
      " activation_74 (Activation)  (None, 8)                 0         \n",
      "                                                                 \n",
      "=================================================================\n",
      "Total params: 187,400\n",
      "Trainable params: 187,400\n",
      "Non-trainable params: 0\n",
      "_________________________________________________________________\n"
     ]
    }
   ],
   "source": [
    "sm4.summary()"
   ]
  },
  {
   "cell_type": "code",
   "execution_count": 116,
   "metadata": {},
   "outputs": [],
   "source": [
    "sm4.compile(loss='sparse_categorical_crossentropy',\n",
    "              optimizer=opt,\n",
    "              metrics=['accuracy'])"
   ]
  },
  {
   "cell_type": "code",
   "execution_count": 124,
   "metadata": {},
   "outputs": [
    {
     "name": "stdout",
     "output_type": "stream",
     "text": [
      "Epoch 1/100\n",
      "21/21 [==============================] - 1s 39ms/step - loss: 1.1958 - accuracy: 0.4888 - val_loss: 1.2219 - val_accuracy: 0.4519\n",
      "Epoch 2/100\n",
      "21/21 [==============================] - 1s 41ms/step - loss: 1.1907 - accuracy: 0.4988 - val_loss: 1.2193 - val_accuracy: 0.4519\n",
      "Epoch 3/100\n",
      "21/21 [==============================] - 1s 38ms/step - loss: 1.1858 - accuracy: 0.5037 - val_loss: 1.2148 - val_accuracy: 0.4519\n",
      "Epoch 4/100\n",
      "21/21 [==============================] - 1s 38ms/step - loss: 1.1860 - accuracy: 0.5012 - val_loss: 1.2107 - val_accuracy: 0.4519\n",
      "Epoch 5/100\n",
      "21/21 [==============================] - 1s 38ms/step - loss: 1.1847 - accuracy: 0.4988 - val_loss: 1.2078 - val_accuracy: 0.4815\n",
      "Epoch 6/100\n",
      "21/21 [==============================] - 1s 37ms/step - loss: 1.1808 - accuracy: 0.4988 - val_loss: 1.2055 - val_accuracy: 0.4519\n",
      "Epoch 7/100\n",
      "21/21 [==============================] - 1s 42ms/step - loss: 1.1772 - accuracy: 0.4888 - val_loss: 1.2023 - val_accuracy: 0.4741\n",
      "Epoch 8/100\n",
      "21/21 [==============================] - 1s 37ms/step - loss: 1.1764 - accuracy: 0.5012 - val_loss: 1.2002 - val_accuracy: 0.4593\n",
      "Epoch 9/100\n",
      "21/21 [==============================] - 1s 37ms/step - loss: 1.1697 - accuracy: 0.5037 - val_loss: 1.1984 - val_accuracy: 0.4815\n",
      "Epoch 10/100\n",
      "21/21 [==============================] - 1s 37ms/step - loss: 1.1699 - accuracy: 0.4988 - val_loss: 1.1950 - val_accuracy: 0.4741\n",
      "Epoch 11/100\n",
      "21/21 [==============================] - 2s 90ms/step - loss: 1.1664 - accuracy: 0.5062 - val_loss: 1.1941 - val_accuracy: 0.4667\n",
      "Epoch 12/100\n",
      "21/21 [==============================] - 1s 39ms/step - loss: 1.1632 - accuracy: 0.4988 - val_loss: 1.1897 - val_accuracy: 0.4815\n",
      "Epoch 13/100\n",
      "21/21 [==============================] - 1s 35ms/step - loss: 1.1593 - accuracy: 0.5062 - val_loss: 1.1885 - val_accuracy: 0.4815\n",
      "Epoch 14/100\n",
      "21/21 [==============================] - 1s 38ms/step - loss: 1.1606 - accuracy: 0.5087 - val_loss: 1.1846 - val_accuracy: 0.4815\n",
      "Epoch 15/100\n",
      "21/21 [==============================] - 1s 38ms/step - loss: 1.1575 - accuracy: 0.4988 - val_loss: 1.1811 - val_accuracy: 0.4815\n",
      "Epoch 16/100\n",
      "21/21 [==============================] - 1s 38ms/step - loss: 1.1565 - accuracy: 0.5062 - val_loss: 1.1788 - val_accuracy: 0.4815\n",
      "Epoch 17/100\n",
      "21/21 [==============================] - 1s 36ms/step - loss: 1.1521 - accuracy: 0.5186 - val_loss: 1.1778 - val_accuracy: 0.4815\n",
      "Epoch 18/100\n",
      "21/21 [==============================] - 1s 37ms/step - loss: 1.1464 - accuracy: 0.5087 - val_loss: 1.1753 - val_accuracy: 0.4815\n",
      "Epoch 19/100\n",
      "21/21 [==============================] - 1s 36ms/step - loss: 1.1450 - accuracy: 0.5211 - val_loss: 1.1710 - val_accuracy: 0.4815\n",
      "Epoch 20/100\n",
      "21/21 [==============================] - 1s 38ms/step - loss: 1.1435 - accuracy: 0.5136 - val_loss: 1.1677 - val_accuracy: 0.4815\n",
      "Epoch 21/100\n",
      "21/21 [==============================] - 1s 35ms/step - loss: 1.1413 - accuracy: 0.5087 - val_loss: 1.1668 - val_accuracy: 0.4815\n",
      "Epoch 22/100\n",
      "21/21 [==============================] - 1s 41ms/step - loss: 1.1429 - accuracy: 0.5112 - val_loss: 1.1628 - val_accuracy: 0.4815\n",
      "Epoch 23/100\n",
      "21/21 [==============================] - 1s 36ms/step - loss: 1.1361 - accuracy: 0.5112 - val_loss: 1.1614 - val_accuracy: 0.4815\n",
      "Epoch 24/100\n",
      "21/21 [==============================] - 1s 35ms/step - loss: 1.1293 - accuracy: 0.5136 - val_loss: 1.1591 - val_accuracy: 0.4815\n",
      "Epoch 25/100\n",
      "21/21 [==============================] - 1s 38ms/step - loss: 1.1309 - accuracy: 0.5087 - val_loss: 1.1559 - val_accuracy: 0.4815\n",
      "Epoch 26/100\n",
      "21/21 [==============================] - 1s 36ms/step - loss: 1.1330 - accuracy: 0.5062 - val_loss: 1.1544 - val_accuracy: 0.4815\n",
      "Epoch 27/100\n",
      "21/21 [==============================] - 1s 34ms/step - loss: 1.1239 - accuracy: 0.5087 - val_loss: 1.1523 - val_accuracy: 0.4815\n",
      "Epoch 28/100\n",
      "21/21 [==============================] - 1s 34ms/step - loss: 1.1268 - accuracy: 0.5236 - val_loss: 1.1496 - val_accuracy: 0.4815\n",
      "Epoch 29/100\n",
      "21/21 [==============================] - 1s 36ms/step - loss: 1.1202 - accuracy: 0.5136 - val_loss: 1.1477 - val_accuracy: 0.4815\n",
      "Epoch 30/100\n",
      "21/21 [==============================] - 1s 33ms/step - loss: 1.1199 - accuracy: 0.5161 - val_loss: 1.1445 - val_accuracy: 0.4815\n",
      "Epoch 31/100\n",
      "21/21 [==============================] - 1s 36ms/step - loss: 1.1188 - accuracy: 0.5161 - val_loss: 1.1428 - val_accuracy: 0.4815\n",
      "Epoch 32/100\n",
      "21/21 [==============================] - 1s 38ms/step - loss: 1.1178 - accuracy: 0.5087 - val_loss: 1.1415 - val_accuracy: 0.4815\n",
      "Epoch 33/100\n",
      "21/21 [==============================] - 1s 35ms/step - loss: 1.1148 - accuracy: 0.5161 - val_loss: 1.1399 - val_accuracy: 0.4815\n",
      "Epoch 34/100\n",
      "21/21 [==============================] - 1s 39ms/step - loss: 1.1065 - accuracy: 0.5285 - val_loss: 1.1377 - val_accuracy: 0.4815\n",
      "Epoch 35/100\n",
      "21/21 [==============================] - 1s 38ms/step - loss: 1.1135 - accuracy: 0.5037 - val_loss: 1.1338 - val_accuracy: 0.4815\n",
      "Epoch 36/100\n",
      "21/21 [==============================] - 1s 41ms/step - loss: 1.1091 - accuracy: 0.5161 - val_loss: 1.1323 - val_accuracy: 0.4815\n",
      "Epoch 37/100\n",
      "21/21 [==============================] - 1s 41ms/step - loss: 1.1069 - accuracy: 0.5161 - val_loss: 1.1288 - val_accuracy: 0.4815\n",
      "Epoch 38/100\n",
      "21/21 [==============================] - 1s 46ms/step - loss: 1.1082 - accuracy: 0.5186 - val_loss: 1.1271 - val_accuracy: 0.4815\n",
      "Epoch 39/100\n",
      "21/21 [==============================] - 1s 49ms/step - loss: 1.0993 - accuracy: 0.5310 - val_loss: 1.1251 - val_accuracy: 0.4815\n",
      "Epoch 40/100\n",
      "21/21 [==============================] - 1s 38ms/step - loss: 1.0980 - accuracy: 0.5261 - val_loss: 1.1225 - val_accuracy: 0.4815\n",
      "Epoch 41/100\n",
      "21/21 [==============================] - 1s 69ms/step - loss: 1.0969 - accuracy: 0.5161 - val_loss: 1.1201 - val_accuracy: 0.4815\n",
      "Epoch 42/100\n",
      "21/21 [==============================] - 1s 39ms/step - loss: 1.0979 - accuracy: 0.5136 - val_loss: 1.1194 - val_accuracy: 0.4815\n",
      "Epoch 43/100\n",
      "21/21 [==============================] - 1s 39ms/step - loss: 1.0904 - accuracy: 0.5236 - val_loss: 1.1176 - val_accuracy: 0.4815\n",
      "Epoch 44/100\n",
      "21/21 [==============================] - 1s 37ms/step - loss: 1.0903 - accuracy: 0.5211 - val_loss: 1.1172 - val_accuracy: 0.4815\n",
      "Epoch 45/100\n",
      "21/21 [==============================] - 1s 38ms/step - loss: 1.0882 - accuracy: 0.5186 - val_loss: 1.1154 - val_accuracy: 0.4815\n",
      "Epoch 46/100\n",
      "21/21 [==============================] - 1s 37ms/step - loss: 1.0876 - accuracy: 0.5335 - val_loss: 1.1140 - val_accuracy: 0.4815\n",
      "Epoch 47/100\n",
      "21/21 [==============================] - 1s 39ms/step - loss: 1.0840 - accuracy: 0.5285 - val_loss: 1.1105 - val_accuracy: 0.4815\n",
      "Epoch 48/100\n",
      "21/21 [==============================] - 1s 36ms/step - loss: 1.0802 - accuracy: 0.5310 - val_loss: 1.1109 - val_accuracy: 0.4815\n",
      "Epoch 49/100\n",
      "21/21 [==============================] - 1s 38ms/step - loss: 1.0803 - accuracy: 0.5335 - val_loss: 1.1078 - val_accuracy: 0.4815\n",
      "Epoch 50/100\n",
      "21/21 [==============================] - 1s 37ms/step - loss: 1.0772 - accuracy: 0.5409 - val_loss: 1.1058 - val_accuracy: 0.4815\n",
      "Epoch 51/100\n",
      "21/21 [==============================] - 1s 36ms/step - loss: 1.0824 - accuracy: 0.5310 - val_loss: 1.1025 - val_accuracy: 0.4815\n",
      "Epoch 52/100\n",
      "21/21 [==============================] - 1s 35ms/step - loss: 1.0765 - accuracy: 0.5161 - val_loss: 1.1022 - val_accuracy: 0.4815\n",
      "Epoch 53/100\n",
      "21/21 [==============================] - 1s 37ms/step - loss: 1.0763 - accuracy: 0.5285 - val_loss: 1.1012 - val_accuracy: 0.4815\n",
      "Epoch 54/100\n",
      "21/21 [==============================] - 1s 35ms/step - loss: 1.0705 - accuracy: 0.5385 - val_loss: 1.0995 - val_accuracy: 0.4815\n",
      "Epoch 55/100\n",
      "21/21 [==============================] - 1s 37ms/step - loss: 1.0781 - accuracy: 0.5385 - val_loss: 1.0980 - val_accuracy: 0.4815\n",
      "Epoch 56/100\n",
      "21/21 [==============================] - 1s 36ms/step - loss: 1.0692 - accuracy: 0.5285 - val_loss: 1.0969 - val_accuracy: 0.4815\n",
      "Epoch 57/100\n",
      "21/21 [==============================] - 1s 36ms/step - loss: 1.0725 - accuracy: 0.5385 - val_loss: 1.0966 - val_accuracy: 0.4815\n",
      "Epoch 58/100\n",
      "21/21 [==============================] - 1s 40ms/step - loss: 1.0702 - accuracy: 0.5261 - val_loss: 1.0930 - val_accuracy: 0.4815\n",
      "Epoch 59/100\n",
      "21/21 [==============================] - 1s 37ms/step - loss: 1.0667 - accuracy: 0.5285 - val_loss: 1.0913 - val_accuracy: 0.4815\n",
      "Epoch 60/100\n",
      "21/21 [==============================] - 1s 35ms/step - loss: 1.0707 - accuracy: 0.5261 - val_loss: 1.0904 - val_accuracy: 0.4815\n",
      "Epoch 61/100\n",
      "21/21 [==============================] - 1s 34ms/step - loss: 1.0616 - accuracy: 0.5360 - val_loss: 1.0891 - val_accuracy: 0.4815\n",
      "Epoch 62/100\n",
      "21/21 [==============================] - 1s 35ms/step - loss: 1.0639 - accuracy: 0.5261 - val_loss: 1.0884 - val_accuracy: 0.4815\n",
      "Epoch 63/100\n",
      "21/21 [==============================] - 1s 36ms/step - loss: 1.0561 - accuracy: 0.5360 - val_loss: 1.0846 - val_accuracy: 0.4815\n",
      "Epoch 64/100\n",
      "21/21 [==============================] - 1s 37ms/step - loss: 1.0591 - accuracy: 0.5285 - val_loss: 1.0834 - val_accuracy: 0.4815\n",
      "Epoch 65/100\n",
      "21/21 [==============================] - 1s 36ms/step - loss: 1.0582 - accuracy: 0.5360 - val_loss: 1.0835 - val_accuracy: 0.4815\n",
      "Epoch 66/100\n",
      "21/21 [==============================] - 1s 36ms/step - loss: 1.0519 - accuracy: 0.5360 - val_loss: 1.0814 - val_accuracy: 0.4815\n",
      "Epoch 67/100\n",
      "21/21 [==============================] - 1s 37ms/step - loss: 1.0543 - accuracy: 0.5335 - val_loss: 1.0809 - val_accuracy: 0.4815\n",
      "Epoch 68/100\n",
      "21/21 [==============================] - 1s 38ms/step - loss: 1.0533 - accuracy: 0.5409 - val_loss: 1.0809 - val_accuracy: 0.4815\n",
      "Epoch 69/100\n",
      "21/21 [==============================] - 1s 41ms/step - loss: 1.0505 - accuracy: 0.5385 - val_loss: 1.0769 - val_accuracy: 0.4815\n",
      "Epoch 70/100\n",
      "21/21 [==============================] - 1s 38ms/step - loss: 1.0484 - accuracy: 0.5385 - val_loss: 1.0765 - val_accuracy: 0.4815\n",
      "Epoch 71/100\n",
      "21/21 [==============================] - 1s 37ms/step - loss: 1.0505 - accuracy: 0.5335 - val_loss: 1.0761 - val_accuracy: 0.4815\n",
      "Epoch 72/100\n",
      "21/21 [==============================] - 1s 36ms/step - loss: 1.0426 - accuracy: 0.5360 - val_loss: 1.0746 - val_accuracy: 0.4815\n",
      "Epoch 73/100\n",
      "21/21 [==============================] - 1s 37ms/step - loss: 1.0400 - accuracy: 0.5409 - val_loss: 1.0731 - val_accuracy: 0.4815\n",
      "Epoch 74/100\n",
      "21/21 [==============================] - 1s 41ms/step - loss: 1.0403 - accuracy: 0.5360 - val_loss: 1.0732 - val_accuracy: 0.4815\n",
      "Epoch 75/100\n",
      "21/21 [==============================] - 1s 40ms/step - loss: 1.0428 - accuracy: 0.5409 - val_loss: 1.0705 - val_accuracy: 0.4815\n",
      "Epoch 76/100\n",
      "21/21 [==============================] - 1s 38ms/step - loss: 1.0395 - accuracy: 0.5484 - val_loss: 1.0691 - val_accuracy: 0.4815\n",
      "Epoch 77/100\n",
      "21/21 [==============================] - 1s 40ms/step - loss: 1.0388 - accuracy: 0.5409 - val_loss: 1.0671 - val_accuracy: 0.4815\n",
      "Epoch 78/100\n",
      "21/21 [==============================] - 1s 38ms/step - loss: 1.0315 - accuracy: 0.5409 - val_loss: 1.0657 - val_accuracy: 0.4815\n",
      "Epoch 79/100\n",
      "21/21 [==============================] - 1s 37ms/step - loss: 1.0383 - accuracy: 0.5360 - val_loss: 1.0671 - val_accuracy: 0.4815\n",
      "Epoch 80/100\n",
      "21/21 [==============================] - 1s 38ms/step - loss: 1.0353 - accuracy: 0.5409 - val_loss: 1.0634 - val_accuracy: 0.4815\n",
      "Epoch 81/100\n",
      "21/21 [==============================] - 1s 38ms/step - loss: 1.0383 - accuracy: 0.5335 - val_loss: 1.0639 - val_accuracy: 0.4815\n",
      "Epoch 82/100\n",
      "21/21 [==============================] - 1s 38ms/step - loss: 1.0317 - accuracy: 0.5409 - val_loss: 1.0636 - val_accuracy: 0.4815\n",
      "Epoch 83/100\n",
      "21/21 [==============================] - 1s 39ms/step - loss: 1.0311 - accuracy: 0.5385 - val_loss: 1.0635 - val_accuracy: 0.4815\n",
      "Epoch 84/100\n",
      "21/21 [==============================] - 1s 37ms/step - loss: 1.0312 - accuracy: 0.5385 - val_loss: 1.0622 - val_accuracy: 0.4815\n",
      "Epoch 85/100\n",
      "21/21 [==============================] - 1s 37ms/step - loss: 1.0306 - accuracy: 0.5409 - val_loss: 1.0592 - val_accuracy: 0.4815\n",
      "Epoch 86/100\n",
      "21/21 [==============================] - 1s 38ms/step - loss: 1.0239 - accuracy: 0.5459 - val_loss: 1.0602 - val_accuracy: 0.4815\n",
      "Epoch 87/100\n",
      "21/21 [==============================] - 1s 38ms/step - loss: 1.0287 - accuracy: 0.5409 - val_loss: 1.0559 - val_accuracy: 0.4815\n",
      "Epoch 88/100\n",
      "21/21 [==============================] - 1s 40ms/step - loss: 1.0252 - accuracy: 0.5459 - val_loss: 1.0544 - val_accuracy: 0.4815\n",
      "Epoch 89/100\n",
      "21/21 [==============================] - 1s 42ms/step - loss: 1.0268 - accuracy: 0.5385 - val_loss: 1.0541 - val_accuracy: 0.4815\n",
      "Epoch 90/100\n",
      "21/21 [==============================] - 1s 37ms/step - loss: 1.0237 - accuracy: 0.5434 - val_loss: 1.0518 - val_accuracy: 0.4815\n",
      "Epoch 91/100\n",
      "21/21 [==============================] - 1s 38ms/step - loss: 1.0222 - accuracy: 0.5409 - val_loss: 1.0518 - val_accuracy: 0.4815\n",
      "Epoch 92/100\n",
      "21/21 [==============================] - 1s 37ms/step - loss: 1.0249 - accuracy: 0.5434 - val_loss: 1.0503 - val_accuracy: 0.4815\n",
      "Epoch 93/100\n",
      "21/21 [==============================] - 1s 38ms/step - loss: 1.0228 - accuracy: 0.5459 - val_loss: 1.0477 - val_accuracy: 0.4815\n",
      "Epoch 94/100\n",
      "21/21 [==============================] - 1s 38ms/step - loss: 1.0179 - accuracy: 0.5558 - val_loss: 1.0486 - val_accuracy: 0.4815\n",
      "Epoch 95/100\n",
      "21/21 [==============================] - 1s 39ms/step - loss: 1.0156 - accuracy: 0.5509 - val_loss: 1.0476 - val_accuracy: 0.4815\n",
      "Epoch 96/100\n",
      "21/21 [==============================] - 1s 37ms/step - loss: 1.0174 - accuracy: 0.5385 - val_loss: 1.0477 - val_accuracy: 0.4815\n",
      "Epoch 97/100\n",
      "21/21 [==============================] - 1s 37ms/step - loss: 1.0217 - accuracy: 0.5558 - val_loss: 1.0510 - val_accuracy: 0.4889\n",
      "Epoch 98/100\n",
      "21/21 [==============================] - 1s 38ms/step - loss: 1.0128 - accuracy: 0.5385 - val_loss: 1.0480 - val_accuracy: 0.4815\n",
      "Epoch 99/100\n",
      "21/21 [==============================] - 1s 41ms/step - loss: 1.0141 - accuracy: 0.5385 - val_loss: 1.0463 - val_accuracy: 0.4815\n",
      "Epoch 100/100\n",
      "21/21 [==============================] - 1s 39ms/step - loss: 1.0119 - accuracy: 0.5509 - val_loss: 1.0441 - val_accuracy: 0.4815\n"
     ]
    }
   ],
   "source": [
    "sm4history=sm4.fit(x_traincnn, y_train, batch_size=20, epochs=100, validation_data=(x_testcnn, y_test))"
   ]
  },
  {
   "cell_type": "code",
   "execution_count": 125,
   "metadata": {},
   "outputs": [
    {
     "name": "stdout",
     "output_type": "stream",
     "text": [
      "5/5 [==============================] - 0s 14ms/step - loss: 1.0441 - accuracy: 0.4815\n",
      "Restored model, accuracy: 48.15%\n"
     ]
    }
   ],
   "source": [
    "loss, acc = sm4.evaluate(x_testcnn, y_test)\n",
    "print(\"Restored model, accuracy: {:5.2f}%\".format(100*acc))"
   ]
  },
  {
   "cell_type": "code",
   "execution_count": null,
   "metadata": {},
   "outputs": [],
   "source": [
    "plt.plot(sm4history.history['loss'])\n",
    "plt.plot(sm4history.history['val_loss'])\n",
    "plt.title('model loss')\n",
    "plt.ylabel('loss')\n",
    "plt.xlabel('epoch')\n",
    "plt.legend(['train', 'test'], loc='upper left')\n",
    "plt.show()"
   ]
  },
  {
   "cell_type": "markdown",
   "metadata": {},
   "source": [
    "**Model 4: 2 sigmoid and 2 softmax**"
   ]
  },
  {
   "cell_type": "code",
   "execution_count": 128,
   "metadata": {},
   "outputs": [
    {
     "name": "stdout",
     "output_type": "stream",
     "text": [
      "Model: \"sequential_20\"\n",
      "_________________________________________________________________\n",
      " Layer (type)                Output Shape              Param #   \n",
      "=================================================================\n",
      " conv1d_56 (Conv1D)          (None, 180, 128)          768       \n",
      "                                                                 \n",
      " dropout_55 (Dropout)        (None, 180, 128)          0         \n",
      "                                                                 \n",
      " max_pooling1d_28 (MaxPoolin  (None, 22, 128)          0         \n",
      " g1D)                                                            \n",
      "                                                                 \n",
      " conv1d_57 (Conv1D)          (None, 22, 128)           82048     \n",
      "                                                                 \n",
      " activation_76 (Activation)  (None, 22, 128)           0         \n",
      "                                                                 \n",
      " dropout_56 (Dropout)        (None, 22, 128)           0         \n",
      "                                                                 \n",
      " conv1d_58 (Conv1D)          (None, 22, 128)           82048     \n",
      "                                                                 \n",
      " activation_77 (Activation)  (None, 22, 128)           0         \n",
      "                                                                 \n",
      " dropout_57 (Dropout)        (None, 22, 128)           0         \n",
      "                                                                 \n",
      " flatten_19 (Flatten)        (None, 2816)              0         \n",
      "                                                                 \n",
      " dense_19 (Dense)            (None, 8)                 22536     \n",
      "                                                                 \n",
      " activation_78 (Activation)  (None, 8)                 0         \n",
      "                                                                 \n",
      "=================================================================\n",
      "Total params: 187,400\n",
      "Trainable params: 187,400\n",
      "Non-trainable params: 0\n",
      "_________________________________________________________________\n",
      "Epoch 1/100\n",
      "21/21 [==============================] - 1s 54ms/step - loss: 1.0190 - accuracy: 0.5509 - val_loss: 1.0422 - val_accuracy: 0.4815\n",
      "Epoch 2/100\n",
      "21/21 [==============================] - 1s 46ms/step - loss: 1.0081 - accuracy: 0.5409 - val_loss: 1.0431 - val_accuracy: 0.4815\n",
      "Epoch 3/100\n",
      "21/21 [==============================] - 1s 39ms/step - loss: 1.0107 - accuracy: 0.5484 - val_loss: 1.0415 - val_accuracy: 0.4815\n",
      "Epoch 4/100\n",
      "21/21 [==============================] - 1s 39ms/step - loss: 1.0058 - accuracy: 0.5583 - val_loss: 1.0394 - val_accuracy: 0.4815\n",
      "Epoch 5/100\n",
      "21/21 [==============================] - 1s 38ms/step - loss: 1.0057 - accuracy: 0.5459 - val_loss: 1.0404 - val_accuracy: 0.4815\n",
      "Epoch 6/100\n",
      "21/21 [==============================] - 1s 41ms/step - loss: 1.0065 - accuracy: 0.5459 - val_loss: 1.0404 - val_accuracy: 0.4815\n",
      "Epoch 7/100\n",
      "21/21 [==============================] - 1s 45ms/step - loss: 1.0057 - accuracy: 0.5533 - val_loss: 1.0388 - val_accuracy: 0.4815\n",
      "Epoch 8/100\n",
      "21/21 [==============================] - 1s 48ms/step - loss: 1.0077 - accuracy: 0.5583 - val_loss: 1.0382 - val_accuracy: 0.4815\n",
      "Epoch 9/100\n",
      "21/21 [==============================] - 1s 47ms/step - loss: 1.0055 - accuracy: 0.5533 - val_loss: 1.0361 - val_accuracy: 0.4815\n",
      "Epoch 10/100\n",
      "21/21 [==============================] - 1s 42ms/step - loss: 0.9992 - accuracy: 0.5633 - val_loss: 1.0355 - val_accuracy: 0.4815\n",
      "Epoch 11/100\n",
      "21/21 [==============================] - 1s 41ms/step - loss: 0.9953 - accuracy: 0.5484 - val_loss: 1.0381 - val_accuracy: 0.4889\n",
      "Epoch 12/100\n",
      "21/21 [==============================] - 1s 42ms/step - loss: 1.0001 - accuracy: 0.5434 - val_loss: 1.0370 - val_accuracy: 0.4815\n",
      "Epoch 13/100\n",
      "21/21 [==============================] - 1s 43ms/step - loss: 1.0010 - accuracy: 0.5608 - val_loss: 1.0363 - val_accuracy: 0.4889\n",
      "Epoch 14/100\n",
      "21/21 [==============================] - 1s 39ms/step - loss: 0.9969 - accuracy: 0.5459 - val_loss: 1.0327 - val_accuracy: 0.4815\n",
      "Epoch 15/100\n",
      "21/21 [==============================] - 1s 38ms/step - loss: 0.9933 - accuracy: 0.5608 - val_loss: 1.0318 - val_accuracy: 0.4815\n",
      "Epoch 16/100\n",
      "21/21 [==============================] - 1s 43ms/step - loss: 1.0026 - accuracy: 0.5583 - val_loss: 1.0304 - val_accuracy: 0.4889\n",
      "Epoch 17/100\n",
      "21/21 [==============================] - 1s 39ms/step - loss: 0.9923 - accuracy: 0.5583 - val_loss: 1.0343 - val_accuracy: 0.4963\n",
      "Epoch 18/100\n",
      "21/21 [==============================] - 1s 35ms/step - loss: 0.9913 - accuracy: 0.5558 - val_loss: 1.0302 - val_accuracy: 0.4889\n",
      "Epoch 19/100\n",
      "21/21 [==============================] - 1s 36ms/step - loss: 0.9920 - accuracy: 0.5509 - val_loss: 1.0315 - val_accuracy: 0.4889\n",
      "Epoch 20/100\n",
      "21/21 [==============================] - 1s 41ms/step - loss: 0.9897 - accuracy: 0.5583 - val_loss: 1.0270 - val_accuracy: 0.4815\n",
      "Epoch 21/100\n",
      "21/21 [==============================] - 1s 43ms/step - loss: 0.9898 - accuracy: 0.5658 - val_loss: 1.0266 - val_accuracy: 0.4889\n",
      "Epoch 22/100\n",
      "21/21 [==============================] - 1s 40ms/step - loss: 0.9877 - accuracy: 0.5558 - val_loss: 1.0302 - val_accuracy: 0.4963\n",
      "Epoch 23/100\n",
      "21/21 [==============================] - 1s 38ms/step - loss: 0.9915 - accuracy: 0.5608 - val_loss: 1.0283 - val_accuracy: 0.4889\n",
      "Epoch 24/100\n",
      "21/21 [==============================] - 1s 38ms/step - loss: 0.9855 - accuracy: 0.5633 - val_loss: 1.0257 - val_accuracy: 0.4889\n",
      "Epoch 25/100\n",
      "21/21 [==============================] - 1s 38ms/step - loss: 0.9861 - accuracy: 0.5509 - val_loss: 1.0286 - val_accuracy: 0.4889\n",
      "Epoch 26/100\n",
      "21/21 [==============================] - 1s 36ms/step - loss: 0.9894 - accuracy: 0.5682 - val_loss: 1.0258 - val_accuracy: 0.4889\n",
      "Epoch 27/100\n",
      "21/21 [==============================] - 1s 39ms/step - loss: 0.9877 - accuracy: 0.5509 - val_loss: 1.0248 - val_accuracy: 0.4815\n",
      "Epoch 28/100\n",
      "21/21 [==============================] - 1s 39ms/step - loss: 0.9828 - accuracy: 0.5633 - val_loss: 1.0232 - val_accuracy: 0.4815\n",
      "Epoch 29/100\n",
      "21/21 [==============================] - 1s 38ms/step - loss: 0.9864 - accuracy: 0.5533 - val_loss: 1.0223 - val_accuracy: 0.4889\n",
      "Epoch 30/100\n",
      "21/21 [==============================] - 1s 37ms/step - loss: 0.9781 - accuracy: 0.5707 - val_loss: 1.0246 - val_accuracy: 0.4889\n",
      "Epoch 31/100\n",
      "21/21 [==============================] - 1s 40ms/step - loss: 0.9849 - accuracy: 0.5583 - val_loss: 1.0230 - val_accuracy: 0.4815\n",
      "Epoch 32/100\n",
      "21/21 [==============================] - 1s 39ms/step - loss: 0.9865 - accuracy: 0.5409 - val_loss: 1.0223 - val_accuracy: 0.4815\n",
      "Epoch 33/100\n",
      "21/21 [==============================] - 1s 38ms/step - loss: 0.9849 - accuracy: 0.5583 - val_loss: 1.0260 - val_accuracy: 0.4815\n",
      "Epoch 34/100\n",
      "21/21 [==============================] - 1s 36ms/step - loss: 0.9803 - accuracy: 0.5633 - val_loss: 1.0200 - val_accuracy: 0.4815\n",
      "Epoch 35/100\n",
      "21/21 [==============================] - 1s 36ms/step - loss: 0.9793 - accuracy: 0.5583 - val_loss: 1.0251 - val_accuracy: 0.5111\n",
      "Epoch 36/100\n",
      "21/21 [==============================] - 1s 38ms/step - loss: 0.9838 - accuracy: 0.5633 - val_loss: 1.0228 - val_accuracy: 0.5037\n",
      "Epoch 37/100\n",
      "21/21 [==============================] - 1s 36ms/step - loss: 0.9744 - accuracy: 0.5509 - val_loss: 1.0186 - val_accuracy: 0.4815\n",
      "Epoch 38/100\n",
      "21/21 [==============================] - 1s 35ms/step - loss: 0.9751 - accuracy: 0.5583 - val_loss: 1.0184 - val_accuracy: 0.4889\n",
      "Epoch 39/100\n",
      "21/21 [==============================] - 1s 36ms/step - loss: 0.9823 - accuracy: 0.5608 - val_loss: 1.0158 - val_accuracy: 0.4815\n",
      "Epoch 40/100\n",
      "21/21 [==============================] - 1s 38ms/step - loss: 0.9753 - accuracy: 0.5583 - val_loss: 1.0201 - val_accuracy: 0.4963\n",
      "Epoch 41/100\n",
      "21/21 [==============================] - 1s 35ms/step - loss: 0.9734 - accuracy: 0.5633 - val_loss: 1.0174 - val_accuracy: 0.4889\n",
      "Epoch 42/100\n",
      "21/21 [==============================] - 1s 36ms/step - loss: 0.9684 - accuracy: 0.5583 - val_loss: 1.0166 - val_accuracy: 0.4889\n",
      "Epoch 43/100\n",
      "21/21 [==============================] - 1s 36ms/step - loss: 0.9724 - accuracy: 0.5608 - val_loss: 1.0164 - val_accuracy: 0.4889\n"
     ]
    },
    {
     "name": "stdout",
     "output_type": "stream",
     "text": [
      "Epoch 44/100\n",
      "21/21 [==============================] - 1s 34ms/step - loss: 0.9661 - accuracy: 0.5633 - val_loss: 1.0159 - val_accuracy: 0.4963\n",
      "Epoch 45/100\n",
      "21/21 [==============================] - 1s 35ms/step - loss: 0.9748 - accuracy: 0.5558 - val_loss: 1.0142 - val_accuracy: 0.4963\n",
      "Epoch 46/100\n",
      "21/21 [==============================] - 1s 35ms/step - loss: 0.9682 - accuracy: 0.5558 - val_loss: 1.0110 - val_accuracy: 0.4963\n",
      "Epoch 47/100\n",
      "21/21 [==============================] - 1s 36ms/step - loss: 0.9719 - accuracy: 0.5707 - val_loss: 1.0109 - val_accuracy: 0.4963\n",
      "Epoch 48/100\n",
      "21/21 [==============================] - 1s 36ms/step - loss: 0.9733 - accuracy: 0.5633 - val_loss: 1.0156 - val_accuracy: 0.5037\n",
      "Epoch 49/100\n",
      "21/21 [==============================] - 1s 36ms/step - loss: 0.9650 - accuracy: 0.5682 - val_loss: 1.0159 - val_accuracy: 0.5111\n",
      "Epoch 50/100\n",
      "21/21 [==============================] - 1s 37ms/step - loss: 0.9671 - accuracy: 0.5583 - val_loss: 1.0157 - val_accuracy: 0.5037\n",
      "Epoch 51/100\n",
      "21/21 [==============================] - 1s 36ms/step - loss: 0.9647 - accuracy: 0.5658 - val_loss: 1.0135 - val_accuracy: 0.5037\n",
      "Epoch 52/100\n",
      "21/21 [==============================] - 1s 36ms/step - loss: 0.9657 - accuracy: 0.5633 - val_loss: 1.0100 - val_accuracy: 0.4815\n",
      "Epoch 53/100\n",
      "21/21 [==============================] - 1s 36ms/step - loss: 0.9646 - accuracy: 0.5658 - val_loss: 1.0095 - val_accuracy: 0.4815\n",
      "Epoch 54/100\n",
      "21/21 [==============================] - 1s 35ms/step - loss: 0.9625 - accuracy: 0.5682 - val_loss: 1.0090 - val_accuracy: 0.4889\n",
      "Epoch 55/100\n",
      "21/21 [==============================] - 1s 35ms/step - loss: 0.9668 - accuracy: 0.5732 - val_loss: 1.0111 - val_accuracy: 0.5037\n",
      "Epoch 56/100\n",
      "21/21 [==============================] - 1s 37ms/step - loss: 0.9653 - accuracy: 0.5707 - val_loss: 1.0104 - val_accuracy: 0.5037\n",
      "Epoch 57/100\n",
      "21/21 [==============================] - 1s 36ms/step - loss: 0.9622 - accuracy: 0.5658 - val_loss: 1.0087 - val_accuracy: 0.5037\n",
      "Epoch 58/100\n",
      "21/21 [==============================] - 1s 36ms/step - loss: 0.9645 - accuracy: 0.5682 - val_loss: 1.0117 - val_accuracy: 0.5037\n",
      "Epoch 59/100\n",
      "21/21 [==============================] - 1s 36ms/step - loss: 0.9619 - accuracy: 0.5533 - val_loss: 1.0074 - val_accuracy: 0.5111\n",
      "Epoch 60/100\n",
      "21/21 [==============================] - 1s 36ms/step - loss: 0.9557 - accuracy: 0.5633 - val_loss: 1.0075 - val_accuracy: 0.5037\n",
      "Epoch 61/100\n",
      "21/21 [==============================] - 1s 39ms/step - loss: 0.9635 - accuracy: 0.5732 - val_loss: 1.0077 - val_accuracy: 0.5111\n",
      "Epoch 62/100\n",
      "21/21 [==============================] - 1s 34ms/step - loss: 0.9531 - accuracy: 0.5707 - val_loss: 1.0040 - val_accuracy: 0.5037\n",
      "Epoch 63/100\n",
      "21/21 [==============================] - 1s 36ms/step - loss: 0.9597 - accuracy: 0.5633 - val_loss: 1.0058 - val_accuracy: 0.5037\n",
      "Epoch 64/100\n",
      "21/21 [==============================] - 1s 36ms/step - loss: 0.9597 - accuracy: 0.5707 - val_loss: 1.0046 - val_accuracy: 0.4889\n",
      "Epoch 65/100\n",
      "21/21 [==============================] - 1s 37ms/step - loss: 0.9565 - accuracy: 0.5608 - val_loss: 1.0044 - val_accuracy: 0.5037\n",
      "Epoch 66/100\n",
      "21/21 [==============================] - 1s 36ms/step - loss: 0.9587 - accuracy: 0.5707 - val_loss: 1.0047 - val_accuracy: 0.4889\n",
      "Epoch 67/100\n",
      "21/21 [==============================] - 1s 36ms/step - loss: 0.9476 - accuracy: 0.5732 - val_loss: 1.0064 - val_accuracy: 0.5037\n",
      "Epoch 68/100\n",
      "21/21 [==============================] - 1s 38ms/step - loss: 0.9572 - accuracy: 0.5658 - val_loss: 1.0032 - val_accuracy: 0.5037\n",
      "Epoch 69/100\n",
      "21/21 [==============================] - 1s 37ms/step - loss: 0.9578 - accuracy: 0.5533 - val_loss: 1.0043 - val_accuracy: 0.5037\n",
      "Epoch 70/100\n",
      "21/21 [==============================] - 1s 39ms/step - loss: 0.9512 - accuracy: 0.5707 - val_loss: 1.0038 - val_accuracy: 0.4963\n",
      "Epoch 71/100\n",
      "21/21 [==============================] - 1s 39ms/step - loss: 0.9522 - accuracy: 0.5583 - val_loss: 1.0009 - val_accuracy: 0.5037\n",
      "Epoch 72/100\n",
      "21/21 [==============================] - 1s 38ms/step - loss: 0.9533 - accuracy: 0.5682 - val_loss: 1.0005 - val_accuracy: 0.5037\n",
      "Epoch 73/100\n",
      "21/21 [==============================] - 1s 37ms/step - loss: 0.9499 - accuracy: 0.5633 - val_loss: 0.9995 - val_accuracy: 0.5037\n",
      "Epoch 74/100\n",
      "21/21 [==============================] - 1s 35ms/step - loss: 0.9554 - accuracy: 0.5682 - val_loss: 1.0020 - val_accuracy: 0.5037\n",
      "Epoch 75/100\n",
      "21/21 [==============================] - 1s 36ms/step - loss: 0.9501 - accuracy: 0.5633 - val_loss: 0.9998 - val_accuracy: 0.5037\n",
      "Epoch 76/100\n",
      "21/21 [==============================] - 1s 38ms/step - loss: 0.9546 - accuracy: 0.5509 - val_loss: 1.0016 - val_accuracy: 0.5037\n",
      "Epoch 77/100\n",
      "21/21 [==============================] - 1s 36ms/step - loss: 0.9399 - accuracy: 0.5782 - val_loss: 1.0023 - val_accuracy: 0.5185\n",
      "Epoch 78/100\n",
      "21/21 [==============================] - 1s 37ms/step - loss: 0.9492 - accuracy: 0.5633 - val_loss: 1.0011 - val_accuracy: 0.5037\n",
      "Epoch 79/100\n",
      "21/21 [==============================] - 1s 37ms/step - loss: 0.9477 - accuracy: 0.5608 - val_loss: 1.0009 - val_accuracy: 0.5037\n",
      "Epoch 80/100\n",
      "21/21 [==============================] - 1s 35ms/step - loss: 0.9452 - accuracy: 0.5682 - val_loss: 1.0072 - val_accuracy: 0.5111\n",
      "Epoch 81/100\n",
      "21/21 [==============================] - 1s 36ms/step - loss: 0.9433 - accuracy: 0.5757 - val_loss: 1.0043 - val_accuracy: 0.5111\n",
      "Epoch 82/100\n",
      "21/21 [==============================] - 1s 37ms/step - loss: 0.9528 - accuracy: 0.5658 - val_loss: 0.9973 - val_accuracy: 0.4963\n",
      "Epoch 83/100\n",
      "21/21 [==============================] - 1s 36ms/step - loss: 0.9438 - accuracy: 0.5707 - val_loss: 0.9980 - val_accuracy: 0.5111\n",
      "Epoch 84/100\n",
      "21/21 [==============================] - 1s 35ms/step - loss: 0.9481 - accuracy: 0.5782 - val_loss: 1.0018 - val_accuracy: 0.5259\n",
      "Epoch 85/100\n",
      "21/21 [==============================] - 1s 36ms/step - loss: 0.9423 - accuracy: 0.5757 - val_loss: 0.9961 - val_accuracy: 0.4963\n",
      "Epoch 86/100\n",
      "21/21 [==============================] - 1s 36ms/step - loss: 0.9361 - accuracy: 0.5633 - val_loss: 0.9956 - val_accuracy: 0.5037\n",
      "Epoch 87/100\n",
      "21/21 [==============================] - 1s 36ms/step - loss: 0.9428 - accuracy: 0.5806 - val_loss: 0.9966 - val_accuracy: 0.5037\n",
      "Epoch 88/100\n",
      "21/21 [==============================] - 1s 35ms/step - loss: 0.9428 - accuracy: 0.5658 - val_loss: 0.9944 - val_accuracy: 0.4889\n",
      "Epoch 89/100\n",
      "21/21 [==============================] - 1s 36ms/step - loss: 0.9428 - accuracy: 0.5682 - val_loss: 0.9963 - val_accuracy: 0.4963\n",
      "Epoch 90/100\n",
      "21/21 [==============================] - 1s 36ms/step - loss: 0.9405 - accuracy: 0.5757 - val_loss: 0.9973 - val_accuracy: 0.4963\n",
      "Epoch 91/100\n",
      "21/21 [==============================] - 1s 36ms/step - loss: 0.9435 - accuracy: 0.5782 - val_loss: 0.9983 - val_accuracy: 0.5111\n",
      "Epoch 92/100\n",
      "21/21 [==============================] - 1s 35ms/step - loss: 0.9480 - accuracy: 0.5583 - val_loss: 0.9983 - val_accuracy: 0.5185\n",
      "Epoch 93/100\n",
      "21/21 [==============================] - 1s 36ms/step - loss: 0.9443 - accuracy: 0.5583 - val_loss: 0.9935 - val_accuracy: 0.4889\n",
      "Epoch 94/100\n",
      "21/21 [==============================] - 1s 36ms/step - loss: 0.9385 - accuracy: 0.5658 - val_loss: 0.9951 - val_accuracy: 0.4963\n",
      "Epoch 95/100\n",
      "21/21 [==============================] - 1s 37ms/step - loss: 0.9384 - accuracy: 0.5955 - val_loss: 0.9980 - val_accuracy: 0.5111\n",
      "Epoch 96/100\n",
      "21/21 [==============================] - 1s 37ms/step - loss: 0.9366 - accuracy: 0.5831 - val_loss: 0.9947 - val_accuracy: 0.5185\n",
      "Epoch 97/100\n",
      "21/21 [==============================] - 1s 39ms/step - loss: 0.9454 - accuracy: 0.5732 - val_loss: 0.9983 - val_accuracy: 0.5037\n",
      "Epoch 98/100\n",
      "21/21 [==============================] - 1s 42ms/step - loss: 0.9368 - accuracy: 0.5856 - val_loss: 0.9953 - val_accuracy: 0.5111\n",
      "Epoch 99/100\n",
      "21/21 [==============================] - 1s 38ms/step - loss: 0.9339 - accuracy: 0.5806 - val_loss: 0.9963 - val_accuracy: 0.5111\n",
      "Epoch 100/100\n",
      "21/21 [==============================] - 1s 40ms/step - loss: 0.9309 - accuracy: 0.5831 - val_loss: 0.9950 - val_accuracy: 0.5185\n"
     ]
    }
   ],
   "source": [
    "\n",
    "sm5 = Sequential()\n",
    "\n",
    "sm5.add(Conv1D(128, 5,padding='same',input_shape=(180,1)))#1\n",
    "sm4.add(Activation('sigmoid'))\n",
    "sm5.add(Dropout(0.1))\n",
    "sm5.add(MaxPooling1D(pool_size=(8)))\n",
    "\n",
    "\n",
    "sm5.add(Conv1D(128, 5,padding='same',))                  #2\n",
    "sm5.add(Activation('sigmoid'))\n",
    "sm5.add(Dropout(0.1))\n",
    "\n",
    "sm5.add(Conv1D(128, 5,padding='same',))                  #3\n",
    "sm5.add(Activation('relu'))\n",
    "sm5.add(Dropout(0.1))\n",
    "\n",
    "sm5.add(Flatten())\n",
    "sm5.add(Dense(8))                                        #4                    \n",
    "sm5.add(Activation('relu'))\n",
    "opt = tf.keras.optimizers.RMSprop(learning_rate=0.00005,epsilon=None,rho=0.9,decay=0.0)\n",
    "\n",
    "sm5.summary()\n",
    "\n",
    "\n",
    "sm5.compile(loss='sparse_categorical_crossentropy',\n",
    "              optimizer=opt,\n",
    "              metrics=['accuracy'])\n",
    "\n",
    "sm5history=sm4.fit(x_traincnn, y_train, batch_size=20, epochs=100, validation_data=(x_testcnn, y_test))"
   ]
  },
  {
   "cell_type": "code",
   "execution_count": 135,
   "metadata": {},
   "outputs": [
    {
     "name": "stdout",
     "output_type": "stream",
     "text": [
      "5/5 [==============================] - 0s 12ms/step - loss: 1.7281 - accuracy: 0.1926\n",
      "Restored model, accuracy: 19.26%\n"
     ]
    },
    {
     "data": {
      "image/png": "[encoded data removed]",
      "text/plain": [
       "<Figure size 432x288 with 1 Axes>"
      ]
     },
     "metadata": {
      "needs_background": "light"
     },
     "output_type": "display_data"
    }
   ],
   "source": [
    "loss, acc = sm5.evaluate(x_testcnn, y_test)\n",
    "print(\"Restored model, accuracy: {:5.2f}%\".format(100*acc))\n",
    "\n",
    "plt.plot(sm5history.history['loss'])\n",
    "plt.plot(sm5history.history['val_loss'])\n",
    "plt.title('model loss')\n",
    "plt.ylabel('loss')\n",
    "plt.xlabel('epoch')\n",
    "plt.legend(['train', 'test'], loc='upper left')\n",
    "plt.show()"
   ]
  },
  {
   "cell_type": "markdown",
   "metadata": {},
   "source": [
    "**Model 5: 2 softmax and 2 relu**\n"
   ]
  },
  {
   "cell_type": "code",
   "execution_count": 137,
   "metadata": {},
   "outputs": [
    {
     "name": "stdout",
     "output_type": "stream",
     "text": [
      "Model: \"sequential_22\"\n",
      "_________________________________________________________________\n",
      " Layer (type)                Output Shape              Param #   \n",
      "=================================================================\n",
      " conv1d_62 (Conv1D)          (None, 180, 128)          768       \n",
      "                                                                 \n",
      " dropout_61 (Dropout)        (None, 180, 128)          0         \n",
      "                                                                 \n",
      " max_pooling1d_30 (MaxPoolin  (None, 22, 128)          0         \n",
      " g1D)                                                            \n",
      "                                                                 \n",
      " conv1d_63 (Conv1D)          (None, 22, 128)           82048     \n",
      "                                                                 \n",
      " activation_84 (Activation)  (None, 22, 128)           0         \n",
      "                                                                 \n",
      " dropout_62 (Dropout)        (None, 22, 128)           0         \n",
      "                                                                 \n",
      " conv1d_64 (Conv1D)          (None, 22, 128)           82048     \n",
      "                                                                 \n",
      " activation_85 (Activation)  (None, 22, 128)           0         \n",
      "                                                                 \n",
      " dropout_63 (Dropout)        (None, 22, 128)           0         \n",
      "                                                                 \n",
      " flatten_21 (Flatten)        (None, 2816)              0         \n",
      "                                                                 \n",
      " dense_21 (Dense)            (None, 8)                 22536     \n",
      "                                                                 \n",
      " activation_86 (Activation)  (None, 8)                 0         \n",
      "                                                                 \n",
      "=================================================================\n",
      "Total params: 187,400\n",
      "Trainable params: 187,400\n",
      "Non-trainable params: 0\n",
      "_________________________________________________________________\n",
      "Epoch 1/100\n",
      "21/21 [==============================] - 3s 58ms/step - loss: 5.8195 - accuracy: 0.2060 - val_loss: 2.0794 - val_accuracy: 0.2370\n",
      "Epoch 2/100\n",
      "21/21 [==============================] - 1s 42ms/step - loss: 2.5900 - accuracy: 0.2854 - val_loss: 2.0794 - val_accuracy: 0.2370\n",
      "Epoch 3/100\n",
      "21/21 [==============================] - 1s 52ms/step - loss: 2.1926 - accuracy: 0.3002 - val_loss: 2.0794 - val_accuracy: 0.2370\n",
      "Epoch 4/100\n",
      "21/21 [==============================] - 1s 37ms/step - loss: 2.2296 - accuracy: 0.2903 - val_loss: 2.0794 - val_accuracy: 0.2370\n",
      "Epoch 5/100\n",
      "21/21 [==============================] - 1s 35ms/step - loss: 2.1107 - accuracy: 0.3027 - val_loss: 2.0794 - val_accuracy: 0.2370\n",
      "Epoch 6/100\n",
      "21/21 [==============================] - 1s 42ms/step - loss: 2.1381 - accuracy: 0.2953 - val_loss: 2.0794 - val_accuracy: 0.2370\n",
      "Epoch 7/100\n",
      "21/21 [==============================] - 1s 41ms/step - loss: 2.1456 - accuracy: 0.3027 - val_loss: 2.0794 - val_accuracy: 0.2370\n",
      "Epoch 8/100\n",
      "21/21 [==============================] - 1s 39ms/step - loss: 2.1159 - accuracy: 0.3027 - val_loss: 2.0794 - val_accuracy: 0.2370\n",
      "Epoch 9/100\n",
      "21/21 [==============================] - 1s 38ms/step - loss: 2.0976 - accuracy: 0.3027 - val_loss: 2.0794 - val_accuracy: 0.2370\n",
      "Epoch 10/100\n",
      "21/21 [==============================] - 1s 42ms/step - loss: 2.1658 - accuracy: 0.3027 - val_loss: 2.0794 - val_accuracy: 0.2370\n",
      "Epoch 11/100\n",
      "21/21 [==============================] - 1s 38ms/step - loss: 2.1014 - accuracy: 0.3027 - val_loss: 2.0794 - val_accuracy: 0.2370\n",
      "Epoch 12/100\n",
      "21/21 [==============================] - 1s 39ms/step - loss: 2.0794 - accuracy: 0.3027 - val_loss: 2.0794 - val_accuracy: 0.2370\n",
      "Epoch 13/100\n",
      "21/21 [==============================] - 1s 33ms/step - loss: 2.0794 - accuracy: 0.3027 - val_loss: 2.0794 - val_accuracy: 0.2370\n",
      "Epoch 14/100\n",
      "21/21 [==============================] - 1s 35ms/step - loss: 2.0794 - accuracy: 0.3027 - val_loss: 2.0794 - val_accuracy: 0.2370\n",
      "Epoch 15/100\n",
      "21/21 [==============================] - 1s 34ms/step - loss: 2.0794 - accuracy: 0.3027 - val_loss: 2.0794 - val_accuracy: 0.2370\n",
      "Epoch 16/100\n",
      "21/21 [==============================] - 1s 34ms/step - loss: 2.0794 - accuracy: 0.3027 - val_loss: 2.0794 - val_accuracy: 0.2370\n",
      "Epoch 17/100\n",
      "21/21 [==============================] - 1s 43ms/step - loss: 2.0794 - accuracy: 0.3027 - val_loss: 2.0794 - val_accuracy: 0.2370\n",
      "Epoch 18/100\n",
      "21/21 [==============================] - 1s 40ms/step - loss: 2.0794 - accuracy: 0.3027 - val_loss: 2.0794 - val_accuracy: 0.2370\n",
      "Epoch 19/100\n",
      "21/21 [==============================] - 1s 40ms/step - loss: 2.0794 - accuracy: 0.3027 - val_loss: 2.0794 - val_accuracy: 0.2370\n",
      "Epoch 20/100\n",
      "21/21 [==============================] - 1s 36ms/step - loss: 2.0794 - accuracy: 0.3027 - val_loss: 2.0794 - val_accuracy: 0.2370\n",
      "Epoch 21/100\n",
      "21/21 [==============================] - 1s 34ms/step - loss: 2.0794 - accuracy: 0.3027 - val_loss: 2.0794 - val_accuracy: 0.2370\n",
      "Epoch 22/100\n",
      "21/21 [==============================] - 1s 38ms/step - loss: 2.0991 - accuracy: 0.3027 - val_loss: 2.0794 - val_accuracy: 0.2370\n",
      "Epoch 23/100\n",
      "21/21 [==============================] - 1s 39ms/step - loss: 2.0794 - accuracy: 0.3027 - val_loss: 2.0794 - val_accuracy: 0.2370\n",
      "Epoch 24/100\n",
      "21/21 [==============================] - 1s 36ms/step - loss: 2.1005 - accuracy: 0.3027 - val_loss: 2.0794 - val_accuracy: 0.2370\n",
      "Epoch 25/100\n",
      "21/21 [==============================] - 1s 34ms/step - loss: 2.0794 - accuracy: 0.3027 - val_loss: 2.0794 - val_accuracy: 0.2370\n",
      "Epoch 26/100\n",
      "21/21 [==============================] - 1s 35ms/step - loss: 2.1020 - accuracy: 0.3027 - val_loss: 2.0794 - val_accuracy: 0.2370\n",
      "Epoch 27/100\n",
      "21/21 [==============================] - 1s 33ms/step - loss: 2.0794 - accuracy: 0.3027 - val_loss: 2.0794 - val_accuracy: 0.2370\n",
      "Epoch 28/100\n",
      "21/21 [==============================] - 1s 34ms/step - loss: 2.0794 - accuracy: 0.3027 - val_loss: 2.0794 - val_accuracy: 0.2370\n",
      "Epoch 29/100\n",
      "21/21 [==============================] - 1s 34ms/step - loss: 2.0794 - accuracy: 0.3027 - val_loss: 2.0794 - val_accuracy: 0.2370\n",
      "Epoch 30/100\n",
      "21/21 [==============================] - 1s 35ms/step - loss: 2.0794 - accuracy: 0.3027 - val_loss: 2.0794 - val_accuracy: 0.2370\n",
      "Epoch 31/100\n",
      "21/21 [==============================] - 1s 31ms/step - loss: 2.0999 - accuracy: 0.3027 - val_loss: 2.0794 - val_accuracy: 0.2370\n",
      "Epoch 32/100\n",
      "21/21 [==============================] - 1s 34ms/step - loss: 2.0794 - accuracy: 0.3027 - val_loss: 2.0794 - val_accuracy: 0.2370\n",
      "Epoch 33/100\n",
      "21/21 [==============================] - 1s 33ms/step - loss: 2.0794 - accuracy: 0.3027 - val_loss: 2.0794 - val_accuracy: 0.2370\n",
      "Epoch 34/100\n",
      "21/21 [==============================] - 1s 33ms/step - loss: 2.0794 - accuracy: 0.3027 - val_loss: 2.0794 - val_accuracy: 0.2370\n",
      "Epoch 35/100\n",
      "21/21 [==============================] - 1s 37ms/step - loss: 2.0794 - accuracy: 0.3027 - val_loss: 2.0794 - val_accuracy: 0.2370\n",
      "Epoch 36/100\n",
      "21/21 [==============================] - 1s 36ms/step - loss: 2.0794 - accuracy: 0.3027 - val_loss: 2.0794 - val_accuracy: 0.2370\n",
      "Epoch 37/100\n",
      "21/21 [==============================] - 1s 39ms/step - loss: 2.0794 - accuracy: 0.3027 - val_loss: 2.0794 - val_accuracy: 0.2370\n",
      "Epoch 38/100\n",
      "21/21 [==============================] - 1s 39ms/step - loss: 2.1002 - accuracy: 0.3002 - val_loss: 2.0794 - val_accuracy: 0.2370\n",
      "Epoch 39/100\n",
      "21/21 [==============================] - 1s 32ms/step - loss: 2.1031 - accuracy: 0.3002 - val_loss: 2.0794 - val_accuracy: 0.2370\n",
      "Epoch 40/100\n",
      "21/21 [==============================] - 1s 35ms/step - loss: 2.0794 - accuracy: 0.3027 - val_loss: 2.0794 - val_accuracy: 0.2370\n",
      "Epoch 41/100\n",
      "21/21 [==============================] - 1s 36ms/step - loss: 2.0794 - accuracy: 0.3027 - val_loss: 2.0794 - val_accuracy: 0.2370\n",
      "Epoch 42/100\n",
      "21/21 [==============================] - 1s 42ms/step - loss: 2.0794 - accuracy: 0.3027 - val_loss: 2.0794 - val_accuracy: 0.2370\n",
      "Epoch 43/100\n",
      "21/21 [==============================] - 1s 37ms/step - loss: 2.0794 - accuracy: 0.3027 - val_loss: 2.0794 - val_accuracy: 0.2370\n"
     ]
    },
    {
     "name": "stdout",
     "output_type": "stream",
     "text": [
      "Epoch 44/100\n",
      "21/21 [==============================] - 1s 38ms/step - loss: 2.0794 - accuracy: 0.3027 - val_loss: 2.0794 - val_accuracy: 0.2370\n",
      "Epoch 45/100\n",
      "21/21 [==============================] - 1s 37ms/step - loss: 2.0794 - accuracy: 0.3027 - val_loss: 2.0794 - val_accuracy: 0.2370\n",
      "Epoch 46/100\n",
      "21/21 [==============================] - 1s 33ms/step - loss: 2.0794 - accuracy: 0.3027 - val_loss: 2.0794 - val_accuracy: 0.2370\n",
      "Epoch 47/100\n",
      "21/21 [==============================] - 1s 34ms/step - loss: 2.0794 - accuracy: 0.3027 - val_loss: 2.0794 - val_accuracy: 0.2370\n",
      "Epoch 48/100\n",
      "21/21 [==============================] - 1s 33ms/step - loss: 2.0794 - accuracy: 0.3027 - val_loss: 2.0794 - val_accuracy: 0.2370\n",
      "Epoch 49/100\n",
      "21/21 [==============================] - 1s 40ms/step - loss: 2.0794 - accuracy: 0.3027 - val_loss: 2.0794 - val_accuracy: 0.2370\n",
      "Epoch 50/100\n",
      "21/21 [==============================] - 1s 41ms/step - loss: 2.0794 - accuracy: 0.3027 - val_loss: 2.0794 - val_accuracy: 0.2370\n",
      "Epoch 51/100\n",
      "21/21 [==============================] - 1s 36ms/step - loss: 2.0743 - accuracy: 0.3052 - val_loss: 2.0794 - val_accuracy: 0.2370\n",
      "Epoch 52/100\n",
      "21/21 [==============================] - 1s 35ms/step - loss: 2.1025 - accuracy: 0.3027 - val_loss: 2.0794 - val_accuracy: 0.2370\n",
      "Epoch 53/100\n",
      "21/21 [==============================] - 1s 36ms/step - loss: 2.0794 - accuracy: 0.3027 - val_loss: 2.0794 - val_accuracy: 0.2370\n",
      "Epoch 54/100\n",
      "21/21 [==============================] - 1s 42ms/step - loss: 2.0794 - accuracy: 0.3027 - val_loss: 2.0794 - val_accuracy: 0.2370\n",
      "Epoch 55/100\n",
      "21/21 [==============================] - 1s 38ms/step - loss: 2.0794 - accuracy: 0.3027 - val_loss: 2.0794 - val_accuracy: 0.2370\n",
      "Epoch 56/100\n",
      "21/21 [==============================] - 1s 38ms/step - loss: 2.0794 - accuracy: 0.3027 - val_loss: 2.0794 - val_accuracy: 0.2370\n",
      "Epoch 57/100\n",
      "21/21 [==============================] - 1s 39ms/step - loss: 2.0794 - accuracy: 0.3027 - val_loss: 2.0794 - val_accuracy: 0.2370\n",
      "Epoch 58/100\n",
      "21/21 [==============================] - 1s 41ms/step - loss: 2.0794 - accuracy: 0.3027 - val_loss: 2.0794 - val_accuracy: 0.2370\n",
      "Epoch 59/100\n",
      "21/21 [==============================] - 1s 32ms/step - loss: 2.0794 - accuracy: 0.3027 - val_loss: 2.0794 - val_accuracy: 0.2370\n",
      "Epoch 60/100\n",
      "21/21 [==============================] - 1s 32ms/step - loss: 2.0794 - accuracy: 0.3027 - val_loss: 2.0794 - val_accuracy: 0.2370\n",
      "Epoch 61/100\n",
      "21/21 [==============================] - 1s 35ms/step - loss: 2.0794 - accuracy: 0.3027 - val_loss: 2.0794 - val_accuracy: 0.2370\n",
      "Epoch 62/100\n",
      "21/21 [==============================] - 1s 39ms/step - loss: 2.0794 - accuracy: 0.3027 - val_loss: 2.0794 - val_accuracy: 0.2370\n",
      "Epoch 63/100\n",
      "21/21 [==============================] - 1s 31ms/step - loss: 2.0794 - accuracy: 0.3027 - val_loss: 2.0794 - val_accuracy: 0.2370\n",
      "Epoch 64/100\n",
      "21/21 [==============================] - 1s 44ms/step - loss: 2.0794 - accuracy: 0.3027 - val_loss: 2.0794 - val_accuracy: 0.2370\n",
      "Epoch 65/100\n",
      "21/21 [==============================] - 1s 41ms/step - loss: 2.0794 - accuracy: 0.3027 - val_loss: 2.0794 - val_accuracy: 0.2370\n",
      "Epoch 66/100\n",
      "21/21 [==============================] - 1s 35ms/step - loss: 2.0794 - accuracy: 0.3027 - val_loss: 2.0794 - val_accuracy: 0.2370\n",
      "Epoch 67/100\n",
      "21/21 [==============================] - 1s 34ms/step - loss: 2.0794 - accuracy: 0.3027 - val_loss: 2.0794 - val_accuracy: 0.2370\n",
      "Epoch 68/100\n",
      "21/21 [==============================] - 1s 40ms/step - loss: 2.0794 - accuracy: 0.3027 - val_loss: 2.0794 - val_accuracy: 0.2370\n",
      "Epoch 69/100\n",
      "21/21 [==============================] - 1s 33ms/step - loss: 2.0794 - accuracy: 0.3027 - val_loss: 2.0794 - val_accuracy: 0.2370\n",
      "Epoch 70/100\n",
      "21/21 [==============================] - 1s 37ms/step - loss: 2.0794 - accuracy: 0.3027 - val_loss: 2.0794 - val_accuracy: 0.2370\n",
      "Epoch 71/100\n",
      "21/21 [==============================] - 1s 31ms/step - loss: 2.0794 - accuracy: 0.3027 - val_loss: 2.0794 - val_accuracy: 0.2370\n",
      "Epoch 72/100\n",
      "21/21 [==============================] - 1s 30ms/step - loss: 2.0794 - accuracy: 0.3027 - val_loss: 2.0794 - val_accuracy: 0.2370\n",
      "Epoch 73/100\n",
      "21/21 [==============================] - 1s 33ms/step - loss: 2.0794 - accuracy: 0.3027 - val_loss: 2.0794 - val_accuracy: 0.2370\n",
      "Epoch 74/100\n",
      "21/21 [==============================] - 1s 40ms/step - loss: 2.0794 - accuracy: 0.3027 - val_loss: 2.0794 - val_accuracy: 0.2370\n",
      "Epoch 75/100\n",
      "21/21 [==============================] - 1s 37ms/step - loss: 2.0794 - accuracy: 0.3027 - val_loss: 2.0794 - val_accuracy: 0.2370\n",
      "Epoch 76/100\n",
      "21/21 [==============================] - 1s 44ms/step - loss: 2.0794 - accuracy: 0.3027 - val_loss: 2.0794 - val_accuracy: 0.2370\n",
      "Epoch 77/100\n",
      "21/21 [==============================] - 1s 37ms/step - loss: 2.0794 - accuracy: 0.3027 - val_loss: 2.0794 - val_accuracy: 0.2370\n",
      "Epoch 78/100\n",
      "21/21 [==============================] - 1s 37ms/step - loss: 2.0794 - accuracy: 0.3027 - val_loss: 2.0794 - val_accuracy: 0.2370\n",
      "Epoch 79/100\n",
      "21/21 [==============================] - 1s 36ms/step - loss: 2.0794 - accuracy: 0.3027 - val_loss: 2.0794 - val_accuracy: 0.2370\n",
      "Epoch 80/100\n",
      "21/21 [==============================] - 1s 31ms/step - loss: 2.0794 - accuracy: 0.3027 - val_loss: 2.0794 - val_accuracy: 0.2370\n",
      "Epoch 81/100\n",
      "21/21 [==============================] - 1s 31ms/step - loss: 2.1001 - accuracy: 0.3002 - val_loss: 2.0794 - val_accuracy: 0.2370\n",
      "Epoch 82/100\n",
      "21/21 [==============================] - 1s 38ms/step - loss: 2.0794 - accuracy: 0.3027 - val_loss: 2.0794 - val_accuracy: 0.2370\n",
      "Epoch 83/100\n",
      "21/21 [==============================] - 1s 42ms/step - loss: 2.0794 - accuracy: 0.3027 - val_loss: 2.0794 - val_accuracy: 0.2370\n",
      "Epoch 84/100\n",
      "21/21 [==============================] - 1s 41ms/step - loss: 2.0794 - accuracy: 0.3027 - val_loss: 2.0794 - val_accuracy: 0.2370\n",
      "Epoch 85/100\n",
      "21/21 [==============================] - 1s 35ms/step - loss: 2.0794 - accuracy: 0.3027 - val_loss: 2.0794 - val_accuracy: 0.2370\n",
      "Epoch 86/100\n",
      "21/21 [==============================] - 1s 40ms/step - loss: 2.0794 - accuracy: 0.3027 - val_loss: 2.0794 - val_accuracy: 0.2370\n",
      "Epoch 87/100\n",
      "21/21 [==============================] - 1s 37ms/step - loss: 2.0794 - accuracy: 0.3027 - val_loss: 2.0794 - val_accuracy: 0.2370\n",
      "Epoch 88/100\n",
      "21/21 [==============================] - 1s 37ms/step - loss: 2.0794 - accuracy: 0.3027 - val_loss: 2.0794 - val_accuracy: 0.2370\n",
      "Epoch 89/100\n",
      "21/21 [==============================] - 1s 39ms/step - loss: 2.0794 - accuracy: 0.3027 - val_loss: 2.0794 - val_accuracy: 0.2370\n",
      "Epoch 90/100\n",
      "21/21 [==============================] - 1s 30ms/step - loss: 2.0794 - accuracy: 0.3027 - val_loss: 2.0794 - val_accuracy: 0.2370\n",
      "Epoch 91/100\n",
      "21/21 [==============================] - 1s 40ms/step - loss: 2.0794 - accuracy: 0.3027 - val_loss: 2.0794 - val_accuracy: 0.2370\n",
      "Epoch 92/100\n",
      "21/21 [==============================] - 1s 39ms/step - loss: 2.0794 - accuracy: 0.3027 - val_loss: 2.0794 - val_accuracy: 0.2370\n",
      "Epoch 93/100\n",
      "21/21 [==============================] - 1s 38ms/step - loss: 2.0794 - accuracy: 0.3027 - val_loss: 2.0794 - val_accuracy: 0.2370\n",
      "Epoch 94/100\n",
      "21/21 [==============================] - 1s 36ms/step - loss: 2.0794 - accuracy: 0.3027 - val_loss: 2.0794 - val_accuracy: 0.2370\n",
      "Epoch 95/100\n",
      "21/21 [==============================] - 1s 36ms/step - loss: 2.0794 - accuracy: 0.3027 - val_loss: 2.0794 - val_accuracy: 0.2370\n",
      "Epoch 96/100\n",
      "21/21 [==============================] - 1s 31ms/step - loss: 2.0794 - accuracy: 0.3027 - val_loss: 2.0794 - val_accuracy: 0.2370\n",
      "Epoch 97/100\n",
      "21/21 [==============================] - 1s 35ms/step - loss: 2.0794 - accuracy: 0.3027 - val_loss: 2.0794 - val_accuracy: 0.2370\n",
      "Epoch 98/100\n",
      "21/21 [==============================] - 1s 36ms/step - loss: 2.0794 - accuracy: 0.3027 - val_loss: 2.0794 - val_accuracy: 0.2370\n",
      "Epoch 99/100\n",
      "21/21 [==============================] - 1s 37ms/step - loss: 2.0794 - accuracy: 0.3027 - val_loss: 2.0794 - val_accuracy: 0.2370\n",
      "Epoch 100/100\n",
      "21/21 [==============================] - 1s 34ms/step - loss: 2.0794 - accuracy: 0.3027 - val_loss: 2.0794 - val_accuracy: 0.2370\n"
     ]
    }
   ],
   "source": [
    "\n",
    "sm6 = Sequential()\n",
    "\n",
    "sm6.add(Conv1D(128, 5,padding='same',input_shape=(180,1)))#1\n",
    "sm4.add(Activation('softmax'))\n",
    "sm6.add(Dropout(0.1))\n",
    "sm6.add(MaxPooling1D(pool_size=(8)))\n",
    "\n",
    "\n",
    "sm6.add(Conv1D(128, 5,padding='same',))                  #2\n",
    "sm6.add(Activation('softmax'))\n",
    "sm6.add(Dropout(0.1))\n",
    "\n",
    "sm6.add(Conv1D(128, 5,padding='same',))                  #3\n",
    "sm6.add(Activation('relu'))\n",
    "sm6.add(Dropout(0.1))\n",
    "\n",
    "sm6.add(Flatten())\n",
    "sm6.add(Dense(8))                                        #4                    \n",
    "sm6.add(Activation('relu'))\n",
    "opt = tf.keras.optimizers.RMSprop(learning_rate=0.00005,epsilon=None,rho=0.9,decay=0.0)\n",
    "\n",
    "sm6.summary()\n",
    "\n",
    "\n",
    "sm6.compile(loss='sparse_categorical_crossentropy',\n",
    "              optimizer=opt,\n",
    "              metrics=['accuracy'])\n",
    "\n",
    "sm6history=sm6.fit(x_traincnn, y_train, batch_size=20, epochs=100, validation_data=(x_testcnn, y_test))"
   ]
  },
  {
   "cell_type": "code",
   "execution_count": 142,
   "metadata": {},
   "outputs": [
    {
     "name": "stdout",
     "output_type": "stream",
     "text": [
      "5/5 [==============================] - 0s 10ms/step - loss: 2.0794 - accuracy: 0.2370\n",
      "Restored model, accuracy: 23.70%\n"
     ]
    },
    {
     "data": {
      "image/png": "[encoded data removed]",
      "text/plain": [
       "<Figure size 432x288 with 1 Axes>"
      ]
     },
     "metadata": {
      "needs_background": "light"
     },
     "output_type": "display_data"
    }
   ],
   "source": [
    "loss, acc = sm6.evaluate(x_testcnn, y_test)\n",
    "print(\"Restored model, accuracy: {:5.2f}%\".format(100*acc))\n",
    "\n",
    "plt.plot(sm6history.history['loss'])\n",
    "plt.plot(sm6history.history['val_loss'])\n",
    "plt.title('model loss')\n",
    "plt.ylabel('loss')\n",
    "plt.xlabel('epoch')\n",
    "plt.legend(['train', 'test'], loc='upper left')\n",
    "plt.show()"
   ]
  },
  {
   "cell_type": "markdown",
   "metadata": {},
   "source": [
    "**Model 5: 2 softmax and 2 relu**\n",
    "\n"
   ]
  },
  {
   "cell_type": "code",
   "execution_count": 29,
   "metadata": {},
   "outputs": [
    {
     "name": "stdout",
     "output_type": "stream",
     "text": [
      "Model: \"sequential_3\"\n",
      "_________________________________________________________________\n",
      " Layer (type)                Output Shape              Param #   \n",
      "=================================================================\n",
      " conv1d_5 (Conv1D)           (None, 180, 128)          768       \n",
      "                                                                 \n",
      " activation (Activation)     (None, 180, 128)          0         \n",
      "                                                                 \n",
      " dropout_2 (Dropout)         (None, 180, 128)          0         \n",
      "                                                                 \n",
      " max_pooling1d_4 (MaxPooling  (None, 22, 128)          0         \n",
      " 1D)                                                             \n",
      "                                                                 \n",
      " conv1d_6 (Conv1D)           (None, 22, 128)           82048     \n",
      "                                                                 \n",
      " activation_1 (Activation)   (None, 22, 128)           0         \n",
      "                                                                 \n",
      " dropout_3 (Dropout)         (None, 22, 128)           0         \n",
      "                                                                 \n",
      " conv1d_7 (Conv1D)           (None, 22, 128)           82048     \n",
      "                                                                 \n",
      " activation_2 (Activation)   (None, 22, 128)           0         \n",
      "                                                                 \n",
      " dropout_4 (Dropout)         (None, 22, 128)           0         \n",
      "                                                                 \n",
      " flatten_1 (Flatten)         (None, 2816)              0         \n",
      "                                                                 \n",
      " dense_2 (Dense)             (None, 8)                 22536     \n",
      "                                                                 \n",
      " activation_3 (Activation)   (None, 8)                 0         \n",
      "                                                                 \n",
      "=================================================================\n",
      "Total params: 187,400\n",
      "Trainable params: 187,400\n",
      "Non-trainable params: 0\n",
      "_________________________________________________________________\n",
      "Epoch 1/100\n",
      "21/21 [==============================] - 5s 65ms/step - loss: 2.5313 - accuracy: 0.2605 - val_loss: 1.2823 - val_accuracy: 0.3259\n",
      "Epoch 2/100\n",
      "21/21 [==============================] - 1s 38ms/step - loss: 1.3810 - accuracy: 0.3499 - val_loss: 1.2586 - val_accuracy: 0.3111\n",
      "Epoch 3/100\n",
      "21/21 [==============================] - 1s 39ms/step - loss: 1.2356 - accuracy: 0.4020 - val_loss: 1.2048 - val_accuracy: 0.4148\n",
      "Epoch 4/100\n",
      "21/21 [==============================] - 1s 47ms/step - loss: 1.2258 - accuracy: 0.4318 - val_loss: 1.1814 - val_accuracy: 0.4222\n",
      "Epoch 5/100\n",
      "21/21 [==============================] - 1s 33ms/step - loss: 1.1584 - accuracy: 0.4417 - val_loss: 1.1422 - val_accuracy: 0.4519\n",
      "Epoch 6/100\n",
      "21/21 [==============================] - 1s 33ms/step - loss: 1.2024 - accuracy: 0.4243 - val_loss: 1.1169 - val_accuracy: 0.5259\n",
      "Epoch 7/100\n",
      "21/21 [==============================] - 1s 37ms/step - loss: 1.1858 - accuracy: 0.4566 - val_loss: 1.1021 - val_accuracy: 0.4444\n",
      "Epoch 8/100\n",
      "21/21 [==============================] - 1s 33ms/step - loss: 1.2763 - accuracy: 0.4367 - val_loss: 1.1114 - val_accuracy: 0.4370\n",
      "Epoch 9/100\n",
      "21/21 [==============================] - 1s 32ms/step - loss: 1.1587 - accuracy: 0.4814 - val_loss: 1.1751 - val_accuracy: 0.4889\n",
      "Epoch 10/100\n",
      "21/21 [==============================] - 1s 34ms/step - loss: 1.2876 - accuracy: 0.4888 - val_loss: 1.1155 - val_accuracy: 0.4148\n",
      "Epoch 11/100\n",
      "21/21 [==============================] - 1s 37ms/step - loss: 1.1855 - accuracy: 0.5087 - val_loss: 1.0596 - val_accuracy: 0.4815\n",
      "Epoch 12/100\n",
      "21/21 [==============================] - 1s 35ms/step - loss: 1.2312 - accuracy: 0.5136 - val_loss: 1.1337 - val_accuracy: 0.4963\n",
      "Epoch 13/100\n",
      "21/21 [==============================] - 1s 36ms/step - loss: 1.1978 - accuracy: 0.5186 - val_loss: 1.0704 - val_accuracy: 0.4889\n",
      "Epoch 14/100\n",
      "21/21 [==============================] - 1s 38ms/step - loss: 1.2055 - accuracy: 0.4764 - val_loss: 1.0707 - val_accuracy: 0.5037\n",
      "Epoch 15/100\n",
      "21/21 [==============================] - 1s 37ms/step - loss: 1.2333 - accuracy: 0.5484 - val_loss: 1.1265 - val_accuracy: 0.4741\n",
      "Epoch 16/100\n",
      "21/21 [==============================] - 1s 34ms/step - loss: 1.2339 - accuracy: 0.5409 - val_loss: 1.0547 - val_accuracy: 0.5037\n",
      "Epoch 17/100\n",
      "21/21 [==============================] - 1s 39ms/step - loss: 1.1078 - accuracy: 0.5335 - val_loss: 1.1131 - val_accuracy: 0.5259\n",
      "Epoch 18/100\n",
      "21/21 [==============================] - 1s 36ms/step - loss: 1.0781 - accuracy: 0.5310 - val_loss: 1.2286 - val_accuracy: 0.4519\n",
      "Epoch 19/100\n",
      "21/21 [==============================] - 1s 35ms/step - loss: 1.2745 - accuracy: 0.5236 - val_loss: 1.1635 - val_accuracy: 0.4889\n",
      "Epoch 20/100\n",
      "21/21 [==============================] - 1s 32ms/step - loss: 1.0992 - accuracy: 0.5509 - val_loss: 1.0242 - val_accuracy: 0.4889\n",
      "Epoch 21/100\n",
      "21/21 [==============================] - 1s 34ms/step - loss: 1.1426 - accuracy: 0.5161 - val_loss: 1.1924 - val_accuracy: 0.5185\n",
      "Epoch 22/100\n",
      "21/21 [==============================] - 1s 33ms/step - loss: 1.1718 - accuracy: 0.5062 - val_loss: 1.0529 - val_accuracy: 0.5259\n",
      "Epoch 23/100\n",
      "21/21 [==============================] - 1s 33ms/step - loss: 1.0609 - accuracy: 0.5509 - val_loss: 1.0208 - val_accuracy: 0.5185\n",
      "Epoch 24/100\n",
      "21/21 [==============================] - 1s 33ms/step - loss: 1.1491 - accuracy: 0.5459 - val_loss: 1.0896 - val_accuracy: 0.5407\n",
      "Epoch 25/100\n",
      "21/21 [==============================] - 1s 39ms/step - loss: 1.1057 - accuracy: 0.5211 - val_loss: 1.0092 - val_accuracy: 0.5259\n",
      "Epoch 26/100\n",
      "21/21 [==============================] - 1s 32ms/step - loss: 1.2688 - accuracy: 0.5335 - val_loss: 1.2738 - val_accuracy: 0.5185\n",
      "Epoch 27/100\n",
      "21/21 [==============================] - 1s 40ms/step - loss: 1.2281 - accuracy: 0.5633 - val_loss: 1.1115 - val_accuracy: 0.5111\n",
      "Epoch 28/100\n",
      "21/21 [==============================] - 1s 35ms/step - loss: 1.1011 - accuracy: 0.5633 - val_loss: 1.4768 - val_accuracy: 0.5037\n",
      "Epoch 29/100\n",
      "21/21 [==============================] - 1s 35ms/step - loss: 2.3442 - accuracy: 0.5087 - val_loss: 2.8794 - val_accuracy: 0.3852\n",
      "Epoch 30/100\n",
      "21/21 [==============================] - 1s 33ms/step - loss: 3.4502 - accuracy: 0.4417 - val_loss: 2.6151 - val_accuracy: 0.4148\n",
      "Epoch 31/100\n",
      "21/21 [==============================] - 1s 33ms/step - loss: 2.9655 - accuracy: 0.4566 - val_loss: 2.5188 - val_accuracy: 0.4000\n",
      "Epoch 32/100\n",
      "21/21 [==============================] - 1s 33ms/step - loss: 2.7380 - accuracy: 0.4541 - val_loss: 2.3403 - val_accuracy: 0.3407\n",
      "Epoch 33/100\n",
      "21/21 [==============================] - 1s 33ms/step - loss: 2.3830 - accuracy: 0.4640 - val_loss: 2.5821 - val_accuracy: 0.3481\n",
      "Epoch 34/100\n",
      "21/21 [==============================] - 1s 33ms/step - loss: 2.5103 - accuracy: 0.4615 - val_loss: 2.2305 - val_accuracy: 0.3556\n",
      "Epoch 35/100\n",
      "21/21 [==============================] - 1s 31ms/step - loss: 2.5135 - accuracy: 0.4367 - val_loss: 2.2777 - val_accuracy: 0.3556\n",
      "Epoch 36/100\n",
      "21/21 [==============================] - 1s 31ms/step - loss: 2.4389 - accuracy: 0.4342 - val_loss: 2.2786 - val_accuracy: 0.3481\n",
      "Epoch 37/100\n",
      "21/21 [==============================] - 1s 33ms/step - loss: 2.4350 - accuracy: 0.4243 - val_loss: 2.3475 - val_accuracy: 0.3556\n",
      "Epoch 38/100\n",
      "21/21 [==============================] - 1s 32ms/step - loss: 2.3720 - accuracy: 0.4591 - val_loss: 2.3032 - val_accuracy: 0.3926\n",
      "Epoch 39/100\n",
      "21/21 [==============================] - 1s 40ms/step - loss: 2.5359 - accuracy: 0.4169 - val_loss: 2.2175 - val_accuracy: 0.3630\n",
      "Epoch 40/100\n",
      "21/21 [==============================] - 1s 32ms/step - loss: 2.9811 - accuracy: 0.3449 - val_loss: 2.7721 - val_accuracy: 0.3407\n",
      "Epoch 41/100\n",
      "21/21 [==============================] - 1s 34ms/step - loss: 2.7018 - accuracy: 0.3623 - val_loss: 2.3847 - val_accuracy: 0.2889\n",
      "Epoch 42/100\n",
      "21/21 [==============================] - 1s 33ms/step - loss: 2.2927 - accuracy: 0.3350 - val_loss: 2.2605 - val_accuracy: 0.2519\n"
     ]
    },
    {
     "name": "stdout",
     "output_type": "stream",
     "text": [
      "Epoch 43/100\n",
      "21/21 [==============================] - 1s 31ms/step - loss: 2.2616 - accuracy: 0.3226 - val_loss: 2.1380 - val_accuracy: 0.2370\n",
      "Epoch 44/100\n",
      "21/21 [==============================] - 1s 38ms/step - loss: 2.1401 - accuracy: 0.3102 - val_loss: 2.0794 - val_accuracy: 0.2370\n",
      "Epoch 45/100\n",
      "21/21 [==============================] - 1s 38ms/step - loss: 2.0860 - accuracy: 0.3151 - val_loss: 2.0794 - val_accuracy: 0.2370\n",
      "Epoch 46/100\n",
      "21/21 [==============================] - 1s 60ms/step - loss: 2.0691 - accuracy: 0.3077 - val_loss: 2.0794 - val_accuracy: 0.2370\n",
      "Epoch 47/100\n",
      "21/21 [==============================] - 1s 37ms/step - loss: 2.1233 - accuracy: 0.3002 - val_loss: 2.0794 - val_accuracy: 0.2370\n",
      "Epoch 48/100\n",
      "21/21 [==============================] - 1s 51ms/step - loss: 2.0743 - accuracy: 0.3052 - val_loss: 2.0794 - val_accuracy: 0.2370\n",
      "Epoch 49/100\n",
      "21/21 [==============================] - 1s 42ms/step - loss: 2.0691 - accuracy: 0.3077 - val_loss: 2.0794 - val_accuracy: 0.2370\n",
      "Epoch 50/100\n",
      "21/21 [==============================] - 1s 41ms/step - loss: 2.0794 - accuracy: 0.3027 - val_loss: 2.0794 - val_accuracy: 0.2370\n",
      "Epoch 51/100\n",
      "21/21 [==============================] - 1s 39ms/step - loss: 2.0794 - accuracy: 0.3027 - val_loss: 2.0794 - val_accuracy: 0.2370\n",
      "Epoch 52/100\n",
      "21/21 [==============================] - 1s 48ms/step - loss: 2.0794 - accuracy: 0.3027 - val_loss: 2.0794 - val_accuracy: 0.2370\n",
      "Epoch 53/100\n",
      "21/21 [==============================] - 1s 38ms/step - loss: 2.0794 - accuracy: 0.3027 - val_loss: 2.0794 - val_accuracy: 0.2370\n",
      "Epoch 54/100\n",
      "21/21 [==============================] - 1s 42ms/step - loss: 2.0794 - accuracy: 0.3027 - val_loss: 2.0794 - val_accuracy: 0.2370\n",
      "Epoch 55/100\n",
      "21/21 [==============================] - 1s 60ms/step - loss: 2.0794 - accuracy: 0.3027 - val_loss: 2.0794 - val_accuracy: 0.2370\n",
      "Epoch 56/100\n",
      "21/21 [==============================] - 1s 59ms/step - loss: 2.0993 - accuracy: 0.3052 - val_loss: 2.0794 - val_accuracy: 0.2370\n",
      "Epoch 57/100\n",
      "21/21 [==============================] - 1s 59ms/step - loss: 2.1055 - accuracy: 0.3027 - val_loss: 2.0794 - val_accuracy: 0.2370\n",
      "Epoch 58/100\n",
      "21/21 [==============================] - 1s 59ms/step - loss: 2.0794 - accuracy: 0.3027 - val_loss: 2.0794 - val_accuracy: 0.2370\n",
      "Epoch 59/100\n",
      "21/21 [==============================] - 1s 59ms/step - loss: 2.0794 - accuracy: 0.3027 - val_loss: 2.0794 - val_accuracy: 0.2370\n",
      "Epoch 60/100\n",
      "21/21 [==============================] - 1s 59ms/step - loss: 2.0794 - accuracy: 0.3027 - val_loss: 2.0794 - val_accuracy: 0.2370\n",
      "Epoch 61/100\n",
      "21/21 [==============================] - 1s 39ms/step - loss: 2.0794 - accuracy: 0.3027 - val_loss: 2.0794 - val_accuracy: 0.2370\n",
      "Epoch 62/100\n",
      "21/21 [==============================] - 1s 31ms/step - loss: 2.0794 - accuracy: 0.3027 - val_loss: 2.0794 - val_accuracy: 0.2370\n",
      "Epoch 63/100\n",
      "21/21 [==============================] - 1s 38ms/step - loss: 2.0794 - accuracy: 0.3027 - val_loss: 2.0794 - val_accuracy: 0.2370\n",
      "Epoch 64/100\n",
      "21/21 [==============================] - 1s 45ms/step - loss: 2.0794 - accuracy: 0.3027 - val_loss: 2.0794 - val_accuracy: 0.2370\n",
      "Epoch 65/100\n",
      "21/21 [==============================] - 1s 46ms/step - loss: 2.0794 - accuracy: 0.3027 - val_loss: 2.0794 - val_accuracy: 0.2370\n",
      "Epoch 66/100\n",
      "21/21 [==============================] - 1s 31ms/step - loss: 2.0794 - accuracy: 0.3027 - val_loss: 2.0794 - val_accuracy: 0.2370\n",
      "Epoch 67/100\n",
      "21/21 [==============================] - 1s 38ms/step - loss: 2.0794 - accuracy: 0.3027 - val_loss: 2.0794 - val_accuracy: 0.2370\n",
      "Epoch 68/100\n",
      "21/21 [==============================] - 1s 38ms/step - loss: 2.0794 - accuracy: 0.3027 - val_loss: 2.0794 - val_accuracy: 0.2370\n",
      "Epoch 69/100\n",
      "21/21 [==============================] - 1s 35ms/step - loss: 2.0794 - accuracy: 0.3027 - val_loss: 2.0794 - val_accuracy: 0.2370\n",
      "Epoch 70/100\n",
      "21/21 [==============================] - 1s 50ms/step - loss: 2.0794 - accuracy: 0.3027 - val_loss: 2.0794 - val_accuracy: 0.2370\n",
      "Epoch 71/100\n",
      "21/21 [==============================] - 1s 43ms/step - loss: 2.0794 - accuracy: 0.3027 - val_loss: 2.0794 - val_accuracy: 0.2370\n",
      "Epoch 72/100\n",
      "21/21 [==============================] - 1s 31ms/step - loss: 2.0794 - accuracy: 0.3027 - val_loss: 2.0794 - val_accuracy: 0.2370\n",
      "Epoch 73/100\n",
      "21/21 [==============================] - 1s 31ms/step - loss: 2.0794 - accuracy: 0.3027 - val_loss: 2.0794 - val_accuracy: 0.2370\n",
      "Epoch 74/100\n",
      "21/21 [==============================] - 1s 40ms/step - loss: 2.0794 - accuracy: 0.3027 - val_loss: 2.0794 - val_accuracy: 0.2370\n",
      "Epoch 75/100\n",
      "21/21 [==============================] - 1s 31ms/step - loss: 2.0794 - accuracy: 0.3027 - val_loss: 2.0794 - val_accuracy: 0.2370\n",
      "Epoch 76/100\n",
      "21/21 [==============================] - 1s 36ms/step - loss: 2.0794 - accuracy: 0.3027 - val_loss: 2.0794 - val_accuracy: 0.2370\n",
      "Epoch 77/100\n",
      "21/21 [==============================] - 1s 32ms/step - loss: 2.0794 - accuracy: 0.3027 - val_loss: 2.0794 - val_accuracy: 0.2370\n",
      "Epoch 78/100\n",
      "21/21 [==============================] - 1s 32ms/step - loss: 2.0794 - accuracy: 0.3027 - val_loss: 2.0794 - val_accuracy: 0.2370\n",
      "Epoch 79/100\n",
      "21/21 [==============================] - 1s 32ms/step - loss: 2.0939 - accuracy: 0.3027 - val_loss: 2.0794 - val_accuracy: 0.2370\n",
      "Epoch 80/100\n",
      "21/21 [==============================] - 1s 32ms/step - loss: 2.0794 - accuracy: 0.3027 - val_loss: 2.0794 - val_accuracy: 0.2370\n",
      "Epoch 81/100\n",
      "21/21 [==============================] - 1s 38ms/step - loss: 2.0794 - accuracy: 0.3027 - val_loss: 2.0794 - val_accuracy: 0.2370\n",
      "Epoch 82/100\n",
      "21/21 [==============================] - 1s 39ms/step - loss: 2.0794 - accuracy: 0.3027 - val_loss: 2.0794 - val_accuracy: 0.2370\n",
      "Epoch 83/100\n",
      "21/21 [==============================] - 1s 40ms/step - loss: 2.0794 - accuracy: 0.3027 - val_loss: 2.0794 - val_accuracy: 0.2370\n",
      "Epoch 84/100\n",
      "21/21 [==============================] - 1s 59ms/step - loss: 2.0794 - accuracy: 0.3027 - val_loss: 2.0794 - val_accuracy: 0.2370\n",
      "Epoch 85/100\n",
      "21/21 [==============================] - 1s 37ms/step - loss: 2.0794 - accuracy: 0.3027 - val_loss: 2.0794 - val_accuracy: 0.2370\n",
      "Epoch 86/100\n",
      "21/21 [==============================] - 1s 33ms/step - loss: 2.0794 - accuracy: 0.3027 - val_loss: 2.0794 - val_accuracy: 0.2370\n",
      "Epoch 87/100\n",
      "21/21 [==============================] - 1s 38ms/step - loss: 2.0794 - accuracy: 0.3027 - val_loss: 2.0794 - val_accuracy: 0.2370\n",
      "Epoch 88/100\n",
      "21/21 [==============================] - 1s 32ms/step - loss: 2.0794 - accuracy: 0.3027 - val_loss: 2.0794 - val_accuracy: 0.2370\n",
      "Epoch 89/100\n",
      "21/21 [==============================] - 1s 31ms/step - loss: 2.0794 - accuracy: 0.3027 - val_loss: 2.0794 - val_accuracy: 0.2370\n",
      "Epoch 90/100\n",
      "21/21 [==============================] - 1s 35ms/step - loss: 2.0794 - accuracy: 0.3027 - val_loss: 2.0794 - val_accuracy: 0.2370\n",
      "Epoch 91/100\n",
      "21/21 [==============================] - 1s 32ms/step - loss: 2.0794 - accuracy: 0.3027 - val_loss: 2.0794 - val_accuracy: 0.2370\n",
      "Epoch 92/100\n",
      "21/21 [==============================] - 1s 34ms/step - loss: 2.0794 - accuracy: 0.3027 - val_loss: 2.0794 - val_accuracy: 0.2370\n",
      "Epoch 93/100\n",
      "21/21 [==============================] - 1s 47ms/step - loss: 2.0794 - accuracy: 0.3027 - val_loss: 2.0794 - val_accuracy: 0.2370\n",
      "Epoch 94/100\n",
      "21/21 [==============================] - 1s 40ms/step - loss: 2.0794 - accuracy: 0.3027 - val_loss: 2.0794 - val_accuracy: 0.2370\n",
      "Epoch 95/100\n",
      "21/21 [==============================] - 1s 31ms/step - loss: 2.0794 - accuracy: 0.3027 - val_loss: 2.0794 - val_accuracy: 0.2370\n",
      "Epoch 96/100\n",
      "21/21 [==============================] - 1s 41ms/step - loss: 2.0794 - accuracy: 0.3027 - val_loss: 2.0794 - val_accuracy: 0.2370\n",
      "Epoch 97/100\n",
      "21/21 [==============================] - 1s 40ms/step - loss: 2.0794 - accuracy: 0.3027 - val_loss: 2.0794 - val_accuracy: 0.2370\n",
      "Epoch 98/100\n",
      "21/21 [==============================] - 1s 32ms/step - loss: 2.0794 - accuracy: 0.3027 - val_loss: 2.0794 - val_accuracy: 0.2370\n",
      "Epoch 99/100\n",
      "21/21 [==============================] - 1s 37ms/step - loss: 2.0794 - accuracy: 0.3027 - val_loss: 2.0794 - val_accuracy: 0.2370\n",
      "Epoch 100/100\n"
     ]
    },
    {
     "name": "stdout",
     "output_type": "stream",
     "text": [
      "21/21 [==============================] - 1s 33ms/step - loss: 2.0794 - accuracy: 0.3027 - val_loss: 2.0794 - val_accuracy: 0.2370\n"
     ]
    }
   ],
   "source": [
    "\n",
    "sm7 = Sequential()\n",
    "\n",
    "sm7.add(Conv1D(128, 5,padding='same',input_shape=(180,1)))#1\n",
    "sm7.add(Activation('tanh'))\n",
    "sm7.add(Dropout(0.1))\n",
    "sm7.add(MaxPooling1D(pool_size=(8)))\n",
    "\n",
    "\n",
    "sm7.add(Conv1D(128, 5,padding='same',))                  #2\n",
    "sm7.add(Activation('tanh'))\n",
    "sm7.add(Dropout(0.1))\n",
    "\n",
    "sm7.add(Conv1D(128, 5,padding='same',))                  #3\n",
    "sm7.add(Activation('relu'))\n",
    "sm7.add(Dropout(0.1))\n",
    "\n",
    "sm7.add(Flatten())\n",
    "sm7.add(Dense(8))                                        #4                    \n",
    "sm7.add(Activation('relu'))\n",
    "opt = tf.keras.optimizers.RMSprop(learning_rate=0.00005,epsilon=None,rho=0.9,decay=0.0)\n",
    "\n",
    "sm7.summary()\n",
    "\n",
    "\n",
    "sm7.compile(loss='sparse_categorical_crossentropy',\n",
    "              optimizer=opt,\n",
    "              metrics=['accuracy'])\n",
    "\n",
    "sm7history=sm7.fit(x_traincnn, y_train, batch_size=20, epochs=100, validation_data=(x_testcnn, y_test))"
   ]
  },
  {
   "cell_type": "code",
   "execution_count": 31,
   "metadata": {},
   "outputs": [
    {
     "name": "stdout",
     "output_type": "stream",
     "text": [
      "5/5 [==============================] - 0s 13ms/step - loss: 2.0794 - accuracy: 0.2370\n",
      "Restored model, accuracy: 23.70%\n"
     ]
    },
    {
     "data": {
      "image/png": "[encoded data removed]",
      "text/plain": [
       "<Figure size 432x288 with 1 Axes>"
      ]
     },
     "metadata": {
      "needs_background": "light"
     },
     "output_type": "display_data"
    }
   ],
   "source": [
    "loss, acc = sm7.evaluate(x_testcnn, y_test)\n",
    "print(\"Restored model, accuracy: {:5.2f}%\".format(100*acc))\n",
    "\n",
    "plt.plot(sm7history.history['loss'])\n",
    "plt.plot(sm7history.history['val_loss'])\n",
    "plt.title('model loss')\n",
    "plt.ylabel('loss')\n",
    "plt.xlabel('epoch')\n",
    "plt.legend(['train', 'test'], loc='upper left')\n",
    "plt.show()"
   ]
  }
 ],
 "metadata": {
  "accelerator": "GPU",
  "colab": {
   "collapsed_sections": [],
   "name": "CNN_SpeechEmotion.ipynb",
   "provenance": [],
   "toc_visible": true
  },
  "kernelspec": {
   "display_name": "Python 3",
   "language": "python",
   "name": "python3"
  },
  "language_info": {
   "codemirror_mode": {
    "name": "ipython",
    "version": 3
   },
   "file_extension": ".py",
   "mimetype": "text/x-python",
   "name": "python",
   "nbconvert_exporter": "python",
   "pygments_lexer": "ipython3",
   "version": "3.8.5"
  }
 },
 "nbformat": 4,
 "nbformat_minor": 1
}
