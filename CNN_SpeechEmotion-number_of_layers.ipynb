{
 "cells": [
  {
   "cell_type": "markdown",
   "metadata": {
    "colab": {
     "base_uri": "https://localhost:8080/",
     "height": 122
    },
    "id": "R0MsJIWgXut8",
    "outputId": "a5e2830e-6c9c-48ba-e358-0f221aac5554"
   },
   "source": [
    "Audio File pre-processing and converting to images"
   ]
  },
  {
   "cell_type": "code",
   "execution_count": 1,
   "metadata": {
    "id": "6rSku0_cX3dB"
   },
   "outputs": [],
   "source": [
    "import soundfile\n",
    "import numpy as np\n",
    "import librosa\n",
    "import glob\n",
    "import os\n",
    "from sklearn.model_selection import train_test_split\n",
    "import pandas as pd\n",
    "import seaborn as sns\n",
    "# all emotions on RAVDESS dataset\n",
    "int2emotion = {\n",
    "    \"01\": \"neutral\",\n",
    "    \"02\": \"calm\",\n",
    "    \"03\": \"happy\",\n",
    "    \"04\": \"sad\",\n",
    "    \"05\": \"angry\",\n",
    "    \"06\": \"fearful\",\n",
    "    \"07\": \"disgust\",\n",
    "    \"08\": \"surprised\"\n",
    "}\n",
    "\n",
    "# we allow only these emotions\n",
    "AVAILABLE_EMOTIONS = {\n",
    "    \"angry\",\n",
    "    \"sad\",\n",
    "    \"neutral\",\n",
    "    \"happy\"\n",
    "}\n"
   ]
  },
  {
   "cell_type": "code",
   "execution_count": null,
   "metadata": {},
   "outputs": [],
   "source": []
  },
  {
   "cell_type": "code",
   "execution_count": 2,
   "metadata": {
    "id": "KWJ9phRhUDrM"
   },
   "outputs": [],
   "source": [
    "def extract_feature(file_name, **kwargs):\n",
    "    mfcc = kwargs.get(\"mfcc\")\n",
    "    chroma = kwargs.get(\"chroma\")\n",
    "    mel = kwargs.get(\"mel\")\n",
    "    contrast = kwargs.get(\"contrast\")\n",
    "    tonnetz = kwargs.get(\"tonnetz\")\n",
    "    with soundfile.SoundFile(file_name) as sound_file:\n",
    "        X = sound_file.read(dtype=\"float32\")\n",
    "        sample_rate = sound_file.samplerate\n",
    "        if chroma or contrast:\n",
    "            stft = np.abs(librosa.stft(X))\n",
    "        result = np.array([])\n",
    "        if mfcc:\n",
    "            mfccs = np.mean(librosa.feature.mfcc(y=X, sr=sample_rate, n_mfcc=40).T, axis=0)\n",
    "            result = np.hstack((result, mfccs))\n",
    "        if chroma:\n",
    "            chroma = np.mean(librosa.feature.chroma_stft(S=stft, sr=sample_rate).T,axis=0)\n",
    "            result = np.hstack((result, chroma))\n",
    "        if mel:\n",
    "            mel = np.mean(librosa.feature.melspectrogram(X, sr=sample_rate).T,axis=0)\n",
    "            result = np.hstack((result, mel))\n",
    "        if contrast:\n",
    "            contrast = np.mean(librosa.feature.spectral_contrast(S=stft, sr=sample_rate).T,axis=0)\n",
    "            result = np.hstack((result, contrast))\n",
    "        if tonnetz:\n",
    "            tonnetz = np.mean(librosa.feature.tonnetz(y=librosa.effects.harmonic(X), sr=sample_rate).T,axis=0)\n",
    "            result = np.hstack((result, tonnetz))\n",
    "    return result"
   ]
  },
  {
   "cell_type": "code",
   "execution_count": 3,
   "metadata": {
    "id": "NI3q89z5YLVq"
   },
   "outputs": [],
   "source": [
    "def load_data(test_size=0.2):\n",
    "    X, y = [], []\n",
    "    try :\n",
    "      for file in glob.glob(\"data/ravdess/Actor_*/*.wav\"):\n",
    "          # get the base name of the audio file\n",
    "          basename = os.path.basename(file)\n",
    "          print(basename)\n",
    "          # get the emotion label\n",
    "          emotion = int2emotion[basename.split(\"-\")[2]]\n",
    "          # we allow only AVAILABLE_EMOTIONS we set\n",
    "          if emotion not in AVAILABLE_EMOTIONS:\n",
    "              continue\n",
    "          # extract speech features\n",
    "          features = extract_feature(file, mfcc=True, chroma=True, mel=True)\n",
    "          # add to data\n",
    "          X.append(features)\n",
    "          l={'happy':0.0,'sad':1.0,'neutral':3.0,'angry':4.0}\n",
    "          y.append(l[emotion])\n",
    "    except :\n",
    "         pass\n",
    "    # split the data to training and testing and return it\n",
    "    return train_test_split(np.array(X), y, test_size=test_size, random_state=7)"
   ]
  },
  {
   "cell_type": "code",
   "execution_count": 4,
   "metadata": {
    "colab": {
     "base_uri": "https://localhost:8080/",
     "height": 1000
    },
    "id": "p7USodbIYQli",
    "outputId": "7fd11920-7a3e-405e-a828-3f7d50aa97ed"
   },
   "outputs": [
    {
     "name": "stdout",
     "output_type": "stream",
     "text": [
      "03-01-01-01-01-01-01.wav\n",
      "03-01-01-01-01-02-01.wav\n"
     ]
    },
    {
     "name": "stderr",
     "output_type": "stream",
     "text": [
      "<ipython-input-2-2161fc353d88>:20: FutureWarning: Pass y=[0. 0. 0. ... 0. 0. 0.] as keyword args. From version 0.10 passing these as positional arguments will result in an error\n",
      "  mel = np.mean(librosa.feature.melspectrogram(X, sr=sample_rate).T,axis=0)\n",
      "<ipython-input-2-2161fc353d88>:20: FutureWarning: Pass y=[ 0.0000000e+00  0.0000000e+00 -3.0517578e-05 ...  0.0000000e+00\n",
      "  0.0000000e+00  0.0000000e+00] as keyword args. From version 0.10 passing these as positional arguments will result in an error\n",
      "  mel = np.mean(librosa.feature.melspectrogram(X, sr=sample_rate).T,axis=0)\n"
     ]
    },
    {
     "name": "stdout",
     "output_type": "stream",
     "text": [
      "03-01-01-01-02-01-01.wav\n",
      "03-01-01-01-02-02-01.wav\n"
     ]
    },
    {
     "name": "stderr",
     "output_type": "stream",
     "text": [
      "<ipython-input-2-2161fc353d88>:20: FutureWarning: Pass y=[ 3.0517578e-05  3.0517578e-05  0.0000000e+00 ... -3.0517578e-05\n",
      "  0.0000000e+00 -3.0517578e-05] as keyword args. From version 0.10 passing these as positional arguments will result in an error\n",
      "  mel = np.mean(librosa.feature.melspectrogram(X, sr=sample_rate).T,axis=0)\n",
      "<ipython-input-2-2161fc353d88>:20: FutureWarning: Pass y=[3.0517578e-05 3.0517578e-05 3.0517578e-05 ... 0.0000000e+00 0.0000000e+00\n",
      " 0.0000000e+00] as keyword args. From version 0.10 passing these as positional arguments will result in an error\n",
      "  mel = np.mean(librosa.feature.melspectrogram(X, sr=sample_rate).T,axis=0)\n"
     ]
    },
    {
     "name": "stdout",
     "output_type": "stream",
     "text": [
      "03-01-02-01-01-01-01.wav\n",
      "03-01-02-01-01-02-01.wav\n",
      "03-01-02-01-02-01-01.wav\n",
      "03-01-02-01-02-02-01.wav\n",
      "03-01-02-02-01-01-01.wav\n",
      "03-01-02-02-01-02-01.wav\n",
      "03-01-02-02-02-01-01.wav\n",
      "03-01-02-02-02-02-01.wav\n",
      "03-01-03-01-01-01-01.wav\n",
      "03-01-03-01-01-02-01.wav\n",
      "03-01-03-01-02-01-01.wav\n",
      "03-01-03-01-02-02-01.wav\n"
     ]
    },
    {
     "name": "stderr",
     "output_type": "stream",
     "text": [
      "<ipython-input-2-2161fc353d88>:20: FutureWarning: Pass y=[0.0000000e+00 3.0517578e-05 0.0000000e+00 ... 0.0000000e+00 0.0000000e+00\n",
      " 0.0000000e+00] as keyword args. From version 0.10 passing these as positional arguments will result in an error\n",
      "  mel = np.mean(librosa.feature.melspectrogram(X, sr=sample_rate).T,axis=0)\n"
     ]
    },
    {
     "name": "stdout",
     "output_type": "stream",
     "text": [
      "03-01-03-02-01-01-01.wav\n",
      "03-01-03-02-01-02-01.wav\n",
      "03-01-03-02-02-01-01.wav\n",
      "03-01-03-02-02-02-01.wav\n",
      "03-01-04-01-01-01-01.wav\n",
      "03-01-04-01-01-02-01.wav\n"
     ]
    },
    {
     "name": "stderr",
     "output_type": "stream",
     "text": [
      "<ipython-input-2-2161fc353d88>:20: FutureWarning: Pass y=[-3.0517578e-05  0.0000000e+00  0.0000000e+00 ...  0.0000000e+00\n",
      "  0.0000000e+00  0.0000000e+00] as keyword args. From version 0.10 passing these as positional arguments will result in an error\n",
      "  mel = np.mean(librosa.feature.melspectrogram(X, sr=sample_rate).T,axis=0)\n"
     ]
    },
    {
     "name": "stdout",
     "output_type": "stream",
     "text": [
      "03-01-04-01-02-01-01.wav\n",
      "03-01-04-01-02-02-01.wav\n",
      "03-01-04-02-01-01-01.wav\n",
      "03-01-04-02-01-02-01.wav\n",
      "03-01-04-02-02-01-01.wav\n",
      "03-01-04-02-02-02-01.wav\n",
      "03-01-05-01-01-01-01.wav\n",
      "03-01-05-01-01-02-01.wav\n"
     ]
    },
    {
     "name": "stderr",
     "output_type": "stream",
     "text": [
      "<ipython-input-2-2161fc353d88>:20: FutureWarning: Pass y=[3.0517578e-05 0.0000000e+00 0.0000000e+00 ... 0.0000000e+00 0.0000000e+00\n",
      " 0.0000000e+00] as keyword args. From version 0.10 passing these as positional arguments will result in an error\n",
      "  mel = np.mean(librosa.feature.melspectrogram(X, sr=sample_rate).T,axis=0)\n"
     ]
    },
    {
     "name": "stdout",
     "output_type": "stream",
     "text": [
      "03-01-05-01-02-01-01.wav\n",
      "03-01-05-01-02-02-01.wav\n",
      "03-01-05-02-01-01-01.wav\n",
      "03-01-05-02-01-02-01.wav\n"
     ]
    },
    {
     "name": "stderr",
     "output_type": "stream",
     "text": [
      "<ipython-input-2-2161fc353d88>:20: FutureWarning: Pass y=[-0.00082397 -0.0005188  -0.00054932 ...  0.          0.\n",
      "  0.        ] as keyword args. From version 0.10 passing these as positional arguments will result in an error\n",
      "  mel = np.mean(librosa.feature.melspectrogram(X, sr=sample_rate).T,axis=0)\n",
      "<ipython-input-2-2161fc353d88>:20: FutureWarning: Pass y=[-0.00067139  0.00253296  0.00317383 ...  0.          0.\n",
      "  0.        ] as keyword args. From version 0.10 passing these as positional arguments will result in an error\n",
      "  mel = np.mean(librosa.feature.melspectrogram(X, sr=sample_rate).T,axis=0)\n"
     ]
    },
    {
     "name": "stdout",
     "output_type": "stream",
     "text": [
      "03-01-05-02-02-01-01.wav\n",
      "03-01-05-02-02-02-01.wav"
     ]
    },
    {
     "name": "stderr",
     "output_type": "stream",
     "text": [
      "<ipython-input-2-2161fc353d88>:20: FutureWarning: Pass y=[ 4.2724609e-04  6.1035156e-04  1.3427734e-03 ... -2.4414062e-04\n",
      " -2.7465820e-04  6.1035156e-05] as keyword args. From version 0.10 passing these as positional arguments will result in an error\n",
      "  mel = np.mean(librosa.feature.melspectrogram(X, sr=sample_rate).T,axis=0)\n",
      "<ipython-input-2-2161fc353d88>:20: FutureWarning: Pass y=[0.00036621 0.00033569 0.00027466 ... 0.0005188  0.00057983 0.00076294] as keyword args. From version 0.10 passing these as positional arguments will result in an error\n",
      "  mel = np.mean(librosa.feature.melspectrogram(X, sr=sample_rate).T,axis=0)\n"
     ]
    },
    {
     "name": "stdout",
     "output_type": "stream",
     "text": [
      "\n",
      "03-01-06-01-01-01-01.wav\n",
      "03-01-06-01-01-02-01.wav\n",
      "03-01-06-01-02-01-01.wav\n",
      "03-01-06-01-02-02-01.wav\n",
      "03-01-06-02-01-01-01.wav\n",
      "03-01-06-02-01-02-01.wav\n",
      "03-01-06-02-02-01-01.wav\n",
      "03-01-06-02-02-02-01.wav\n",
      "03-01-07-01-01-01-01.wav\n",
      "03-01-07-01-01-02-01.wav\n",
      "03-01-07-01-02-01-01.wav\n",
      "03-01-07-01-02-02-01.wav\n",
      "03-01-07-02-01-01-01.wav\n",
      "03-01-07-02-01-02-01.wav\n",
      "03-01-07-02-02-01-01.wav\n",
      "03-01-07-02-02-02-01.wav\n",
      "03-01-08-01-01-01-01.wav\n",
      "03-01-08-01-01-02-01.wav\n",
      "03-01-08-01-02-01-01.wav\n",
      "03-01-08-01-02-02-01.wav\n",
      "03-01-08-02-01-01-01.wav\n",
      "03-01-08-02-01-02-01.wav\n",
      "03-01-08-02-02-01-01.wav\n",
      "03-01-08-02-02-02-01.wav\n",
      "03-01-01-01-01-01-02.wav\n",
      "03-01-01-01-01-02-02.wav\n",
      "03-01-01-01-02-01-02.wav\n"
     ]
    },
    {
     "name": "stderr",
     "output_type": "stream",
     "text": [
      "<ipython-input-2-2161fc353d88>:20: FutureWarning: Pass y=[0.0000000e+00 0.0000000e+00 0.0000000e+00 ... 0.0000000e+00 0.0000000e+00\n",
      " 6.1035156e-05] as keyword args. From version 0.10 passing these as positional arguments will result in an error\n",
      "  mel = np.mean(librosa.feature.melspectrogram(X, sr=sample_rate).T,axis=0)\n"
     ]
    },
    {
     "name": "stdout",
     "output_type": "stream",
     "text": [
      "03-01-01-01-02-02-02.wav\n",
      "03-01-02-01-01-01-02.wav\n",
      "03-01-02-01-01-02-02.wav\n",
      "03-01-02-01-02-01-02.wav\n",
      "03-01-02-01-02-02-02.wav\n",
      "03-01-02-02-01-01-02.wav\n",
      "03-01-02-02-01-02-02.wav\n",
      "03-01-02-02-02-01-02.wav\n",
      "03-01-02-02-02-02-02.wav\n",
      "03-01-03-01-01-01-02.wav\n",
      "03-01-03-01-01-02-02.wav\n",
      "03-01-03-01-02-01-02.wav\n",
      "03-01-03-01-02-02-02.wav\n",
      "03-01-03-02-01-01-02.wav\n",
      "03-01-03-02-01-02-02.wav"
     ]
    },
    {
     "name": "stderr",
     "output_type": "stream",
     "text": [
      "<ipython-input-2-2161fc353d88>:20: FutureWarning: Pass y=[0.0000000e+00 0.0000000e+00 0.0000000e+00 ... 3.0517578e-05 0.0000000e+00\n",
      " 0.0000000e+00] as keyword args. From version 0.10 passing these as positional arguments will result in an error\n",
      "  mel = np.mean(librosa.feature.melspectrogram(X, sr=sample_rate).T,axis=0)\n"
     ]
    },
    {
     "name": "stdout",
     "output_type": "stream",
     "text": [
      "\n",
      "03-01-03-02-02-01-02.wav\n"
     ]
    },
    {
     "name": "stderr",
     "output_type": "stream",
     "text": [
      "<ipython-input-2-2161fc353d88>:20: FutureWarning: Pass y=[ 0.0000000e+00  0.0000000e+00  0.0000000e+00 ... -3.0517578e-05\n",
      "  0.0000000e+00  0.0000000e+00] as keyword args. From version 0.10 passing these as positional arguments will result in an error\n",
      "  mel = np.mean(librosa.feature.melspectrogram(X, sr=sample_rate).T,axis=0)\n"
     ]
    },
    {
     "name": "stdout",
     "output_type": "stream",
     "text": [
      "03-01-03-02-02-02-02.wav\n",
      "03-01-04-01-01-01-02.wav\n",
      "03-01-04-01-01-02-02.wav\n",
      "03-01-04-01-02-01-02.wav\n",
      "03-01-04-01-02-02-02.wav\n"
     ]
    },
    {
     "name": "stderr",
     "output_type": "stream",
     "text": [
      "<ipython-input-2-2161fc353d88>:20: FutureWarning: Pass y=[0.0000000e+00 0.0000000e+00 0.0000000e+00 ... 0.0000000e+00 3.0517578e-05\n",
      " 3.0517578e-05] as keyword args. From version 0.10 passing these as positional arguments will result in an error\n",
      "  mel = np.mean(librosa.feature.melspectrogram(X, sr=sample_rate).T,axis=0)\n"
     ]
    },
    {
     "name": "stdout",
     "output_type": "stream",
     "text": [
      "03-01-04-02-01-01-02.wav\n",
      "03-01-04-02-01-02-02.wav\n",
      "03-01-04-02-02-01-02.wav\n",
      "03-01-04-02-02-02-02.wav\n",
      "03-01-05-01-01-01-02.wav\n",
      "03-01-05-01-01-02-02.wav\n"
     ]
    },
    {
     "name": "stderr",
     "output_type": "stream",
     "text": [
      "<ipython-input-2-2161fc353d88>:20: FutureWarning: Pass y=[0.0000000e+00 0.0000000e+00 0.0000000e+00 ... 0.0000000e+00 0.0000000e+00\n",
      " 3.0517578e-05] as keyword args. From version 0.10 passing these as positional arguments will result in an error\n",
      "  mel = np.mean(librosa.feature.melspectrogram(X, sr=sample_rate).T,axis=0)\n"
     ]
    },
    {
     "name": "stdout",
     "output_type": "stream",
     "text": [
      "03-01-05-01-02-01-02.wav\n",
      "03-01-05-01-02-02-02.wav\n",
      "03-01-05-02-01-01-02.wav\n",
      "03-01-05-02-01-02-02.wav\n",
      "03-01-05-02-02-01-02.wav\n",
      "03-01-05-02-02-02-02.wav\n"
     ]
    },
    {
     "name": "stderr",
     "output_type": "stream",
     "text": [
      "<ipython-input-2-2161fc353d88>:20: FutureWarning: Pass y=[0.0000000e+00 0.0000000e+00 0.0000000e+00 ... 0.0000000e+00 3.0517578e-05\n",
      " 0.0000000e+00] as keyword args. From version 0.10 passing these as positional arguments will result in an error\n",
      "  mel = np.mean(librosa.feature.melspectrogram(X, sr=sample_rate).T,axis=0)\n",
      "<ipython-input-2-2161fc353d88>:20: FutureWarning: Pass y=[-3.0517578e-05  0.0000000e+00 -3.0517578e-05 ...  0.0000000e+00\n",
      "  0.0000000e+00  0.0000000e+00] as keyword args. From version 0.10 passing these as positional arguments will result in an error\n",
      "  mel = np.mean(librosa.feature.melspectrogram(X, sr=sample_rate).T,axis=0)\n"
     ]
    },
    {
     "name": "stdout",
     "output_type": "stream",
     "text": [
      "03-01-06-01-01-01-02.wav\n",
      "03-01-06-01-01-02-02.wav\n",
      "03-01-06-01-02-01-02.wav\n",
      "03-01-06-01-02-02-02.wav\n",
      "03-01-06-02-01-01-02.wav\n",
      "03-01-06-02-01-02-02.wav\n",
      "03-01-06-02-02-01-02.wav\n",
      "03-01-06-02-02-02-02.wav\n",
      "03-01-07-01-01-01-02.wav\n",
      "03-01-07-01-01-02-02.wav\n",
      "03-01-07-01-02-01-02.wav\n",
      "03-01-07-01-02-02-02.wav\n",
      "03-01-07-02-01-01-02.wav\n",
      "03-01-07-02-01-02-02.wav\n",
      "03-01-07-02-02-01-02.wav\n",
      "03-01-07-02-02-02-02.wav\n",
      "03-01-08-01-01-01-02.wav\n",
      "03-01-08-01-01-02-02.wav\n",
      "03-01-08-01-02-01-02.wav\n",
      "03-01-08-01-02-02-02.wav\n",
      "03-01-08-02-01-01-02.wav\n",
      "03-01-08-02-01-02-02.wav\n",
      "03-01-08-02-02-01-02.wav\n",
      "03-01-08-02-02-02-02.wav\n",
      "03-01-01-01-01-01-03.wav\n",
      "03-01-01-01-01-02-03.wav"
     ]
    },
    {
     "name": "stderr",
     "output_type": "stream",
     "text": [
      "<ipython-input-2-2161fc353d88>:20: FutureWarning: Pass y=[ 0.0000000e+00 -3.0517578e-05 -3.0517578e-05 ... -3.0517578e-05\n",
      "  0.0000000e+00  0.0000000e+00] as keyword args. From version 0.10 passing these as positional arguments will result in an error\n",
      "  mel = np.mean(librosa.feature.melspectrogram(X, sr=sample_rate).T,axis=0)\n"
     ]
    },
    {
     "name": "stdout",
     "output_type": "stream",
     "text": [
      "\n",
      "03-01-01-01-02-01-03.wav\n",
      "03-01-01-01-02-02-03.wav\n",
      "03-01-02-01-01-01-03.wav\n",
      "03-01-02-01-01-02-03.wav\n",
      "03-01-02-01-02-01-03.wav\n",
      "03-01-02-01-02-02-03.wav\n",
      "03-01-02-02-01-01-03.wav\n",
      "03-01-02-02-01-02-03.wav\n",
      "03-01-02-02-02-01-03.wav\n",
      "03-01-02-02-02-02-03.wav\n",
      "03-01-03-01-01-01-03.wav\n"
     ]
    },
    {
     "name": "stderr",
     "output_type": "stream",
     "text": [
      "<ipython-input-2-2161fc353d88>:20: FutureWarning: Pass y=[0.         0.         0.00018311 ... 0.         0.         0.        ] as keyword args. From version 0.10 passing these as positional arguments will result in an error\n",
      "  mel = np.mean(librosa.feature.melspectrogram(X, sr=sample_rate).T,axis=0)\n",
      "<ipython-input-2-2161fc353d88>:20: FutureWarning: Pass y=[3.0517578e-05 9.1552734e-05 6.1035156e-05 ... 0.0000000e+00 0.0000000e+00\n",
      " 0.0000000e+00] as keyword args. From version 0.10 passing these as positional arguments will result in an error\n",
      "  mel = np.mean(librosa.feature.melspectrogram(X, sr=sample_rate).T,axis=0)\n"
     ]
    },
    {
     "name": "stdout",
     "output_type": "stream",
     "text": [
      "03-01-03-01-01-02-03.wav\n",
      "03-01-03-01-02-01-03.wav\n"
     ]
    },
    {
     "name": "stderr",
     "output_type": "stream",
     "text": [
      "<ipython-input-2-2161fc353d88>:20: FutureWarning: Pass y=[ 4.5776367e-04  6.7138672e-04  6.1035156e-05 ... -3.0517578e-05\n",
      " -3.0517578e-05 -3.0517578e-05] as keyword args. From version 0.10 passing these as positional arguments will result in an error\n",
      "  mel = np.mean(librosa.feature.melspectrogram(X, sr=sample_rate).T,axis=0)\n",
      "<ipython-input-2-2161fc353d88>:20: FutureWarning: Pass y=[0.0000000e+00 0.0000000e+00 0.0000000e+00 ... 6.1035156e-05 6.1035156e-05\n",
      " 0.0000000e+00] as keyword args. From version 0.10 passing these as positional arguments will result in an error\n",
      "  mel = np.mean(librosa.feature.melspectrogram(X, sr=sample_rate).T,axis=0)\n"
     ]
    },
    {
     "name": "stdout",
     "output_type": "stream",
     "text": [
      "03-01-03-01-02-02-03.wav\n",
      "03-01-03-02-01-01-03.wav\n"
     ]
    },
    {
     "name": "stderr",
     "output_type": "stream",
     "text": [
      "<ipython-input-2-2161fc353d88>:20: FutureWarning: Pass y=[3.0517578e-05 0.0000000e+00 0.0000000e+00 ... 0.0000000e+00 0.0000000e+00\n",
      " 3.0517578e-05] as keyword args. From version 0.10 passing these as positional arguments will result in an error\n",
      "  mel = np.mean(librosa.feature.melspectrogram(X, sr=sample_rate).T,axis=0)\n"
     ]
    },
    {
     "name": "stdout",
     "output_type": "stream",
     "text": [
      "03-01-03-02-01-02-03.wav\n"
     ]
    },
    {
     "name": "stderr",
     "output_type": "stream",
     "text": [
      "<ipython-input-2-2161fc353d88>:20: FutureWarning: Pass y=[2.1362305e-04 1.5258789e-04 6.1035156e-05 ... 0.0000000e+00 3.0517578e-05\n",
      " 0.0000000e+00] as keyword args. From version 0.10 passing these as positional arguments will result in an error\n",
      "  mel = np.mean(librosa.feature.melspectrogram(X, sr=sample_rate).T,axis=0)\n",
      "<ipython-input-2-2161fc353d88>:20: FutureWarning: Pass y=[-0.00027466 -0.00024414 -0.00027466 ... -0.00018311 -0.00024414\n",
      " -0.00018311] as keyword args. From version 0.10 passing these as positional arguments will result in an error\n",
      "  mel = np.mean(librosa.feature.melspectrogram(X, sr=sample_rate).T,axis=0)\n"
     ]
    },
    {
     "name": "stdout",
     "output_type": "stream",
     "text": [
      "03-01-03-02-02-01-03.wav\n",
      "03-01-03-02-02-02-03.wav\n"
     ]
    },
    {
     "name": "stderr",
     "output_type": "stream",
     "text": [
      "<ipython-input-2-2161fc353d88>:20: FutureWarning: Pass y=[ 0.0007019  -0.00015259 -0.00100708 ...  0.00033569  0.00036621\n",
      "  0.00036621] as keyword args. From version 0.10 passing these as positional arguments will result in an error\n",
      "  mel = np.mean(librosa.feature.melspectrogram(X, sr=sample_rate).T,axis=0)\n",
      "<ipython-input-2-2161fc353d88>:20: FutureWarning: Pass y=[ 0.          0.          0.         ... -0.00015259 -0.00018311\n",
      " -0.00012207] as keyword args. From version 0.10 passing these as positional arguments will result in an error\n",
      "  mel = np.mean(librosa.feature.melspectrogram(X, sr=sample_rate).T,axis=0)\n"
     ]
    },
    {
     "name": "stdout",
     "output_type": "stream",
     "text": [
      "03-01-04-01-01-01-03.wav\n",
      "03-01-04-01-01-02-03.wav"
     ]
    },
    {
     "name": "stderr",
     "output_type": "stream",
     "text": [
      "<ipython-input-2-2161fc353d88>:20: FutureWarning: Pass y=[0.0000000e+00 0.0000000e+00 0.0000000e+00 ... 6.1035156e-05 3.0517578e-05\n",
      " 3.0517578e-05] as keyword args. From version 0.10 passing these as positional arguments will result in an error\n",
      "  mel = np.mean(librosa.feature.melspectrogram(X, sr=sample_rate).T,axis=0)\n"
     ]
    },
    {
     "name": "stdout",
     "output_type": "stream",
     "text": [
      "\n",
      "03-01-04-01-02-01-03.wav\n"
     ]
    },
    {
     "name": "stderr",
     "output_type": "stream",
     "text": [
      "<ipython-input-2-2161fc353d88>:20: FutureWarning: Pass y=[ 0.          0.          0.         ... -0.00036621 -0.00033569\n",
      " -0.00033569] as keyword args. From version 0.10 passing these as positional arguments will result in an error\n",
      "  mel = np.mean(librosa.feature.melspectrogram(X, sr=sample_rate).T,axis=0)\n",
      "<ipython-input-2-2161fc353d88>:20: FutureWarning: Pass y=[-3.0517578e-05  0.0000000e+00 -3.0517578e-05 ...  2.4414062e-04\n",
      "  2.4414062e-04  2.4414062e-04] as keyword args. From version 0.10 passing these as positional arguments will result in an error\n",
      "  mel = np.mean(librosa.feature.melspectrogram(X, sr=sample_rate).T,axis=0)\n"
     ]
    },
    {
     "name": "stdout",
     "output_type": "stream",
     "text": [
      "03-01-04-01-02-02-03.wav\n",
      "03-01-04-02-01-01-03.wav\n"
     ]
    },
    {
     "name": "stderr",
     "output_type": "stream",
     "text": [
      "<ipython-input-2-2161fc353d88>:20: FutureWarning: Pass y=[ 3.0517578e-05  0.0000000e+00  3.0517578e-05 ... -6.1035156e-05\n",
      "  0.0000000e+00 -6.1035156e-05] as keyword args. From version 0.10 passing these as positional arguments will result in an error\n",
      "  mel = np.mean(librosa.feature.melspectrogram(X, sr=sample_rate).T,axis=0)\n"
     ]
    },
    {
     "name": "stdout",
     "output_type": "stream",
     "text": [
      "03-01-04-02-01-02-03.wav\n",
      "03-01-04-02-02-01-03.wav\n"
     ]
    },
    {
     "name": "stderr",
     "output_type": "stream",
     "text": [
      "<ipython-input-2-2161fc353d88>:20: FutureWarning: Pass y=[-6.7138672e-04 -7.0190430e-04 -7.0190430e-04 ...  0.0000000e+00\n",
      "  6.1035156e-05  6.1035156e-05] as keyword args. From version 0.10 passing these as positional arguments will result in an error\n",
      "  mel = np.mean(librosa.feature.melspectrogram(X, sr=sample_rate).T,axis=0)\n",
      "<ipython-input-2-2161fc353d88>:20: FutureWarning: Pass y=[ 0.0000000e+00  0.0000000e+00 -3.0517578e-05 ... -1.0894775e-02\n",
      " -9.8571777e-03 -1.3732910e-03] as keyword args. From version 0.10 passing these as positional arguments will result in an error\n",
      "  mel = np.mean(librosa.feature.melspectrogram(X, sr=sample_rate).T,axis=0)\n",
      "<ipython-input-2-2161fc353d88>:20: FutureWarning: Pass y=[0.         0.         0.         ... 0.00247192 0.00244141 0.00244141] as keyword args. From version 0.10 passing these as positional arguments will result in an error\n",
      "  mel = np.mean(librosa.feature.melspectrogram(X, sr=sample_rate).T,axis=0)\n"
     ]
    },
    {
     "name": "stdout",
     "output_type": "stream",
     "text": [
      "03-01-04-02-02-02-03.wav\n",
      "03-01-05-01-01-01-03.wav\n"
     ]
    },
    {
     "name": "stderr",
     "output_type": "stream",
     "text": [
      "<ipython-input-2-2161fc353d88>:20: FutureWarning: Pass y=[-9.1552734e-05 -1.5258789e-04  0.0000000e+00 ...  1.2207031e-04\n",
      "  1.2207031e-04  1.5258789e-04] as keyword args. From version 0.10 passing these as positional arguments will result in an error\n",
      "  mel = np.mean(librosa.feature.melspectrogram(X, sr=sample_rate).T,axis=0)\n"
     ]
    },
    {
     "name": "stdout",
     "output_type": "stream",
     "text": [
      "03-01-05-01-01-02-03.wav\n",
      "03-01-05-01-02-01-03.wav\n",
      "03-01-05-01-02-02-03.wav\n"
     ]
    },
    {
     "name": "stderr",
     "output_type": "stream",
     "text": [
      "<ipython-input-2-2161fc353d88>:20: FutureWarning: Pass y=[0.0000000e+00 0.0000000e+00 0.0000000e+00 ... 3.0517578e-05 1.5258789e-04\n",
      " 2.1362305e-04] as keyword args. From version 0.10 passing these as positional arguments will result in an error\n",
      "  mel = np.mean(librosa.feature.melspectrogram(X, sr=sample_rate).T,axis=0)\n",
      "<ipython-input-2-2161fc353d88>:20: FutureWarning: Pass y=[-9.1552734e-05 -9.1552734e-05 -6.1035156e-05 ... -6.0729980e-03\n",
      " -6.0729980e-03 -6.0729980e-03] as keyword args. From version 0.10 passing these as positional arguments will result in an error\n",
      "  mel = np.mean(librosa.feature.melspectrogram(X, sr=sample_rate).T,axis=0)\n"
     ]
    },
    {
     "name": "stdout",
     "output_type": "stream",
     "text": [
      "03-01-05-02-01-01-03.wav\n",
      "03-01-05-02-01-02-03.wav"
     ]
    },
    {
     "name": "stderr",
     "output_type": "stream",
     "text": [
      "<ipython-input-2-2161fc353d88>:20: FutureWarning: Pass y=[-0.00021362 -0.00027466  0.00012207 ... -0.00015259 -0.00015259\n",
      " -0.00021362] as keyword args. From version 0.10 passing these as positional arguments will result in an error\n",
      "  mel = np.mean(librosa.feature.melspectrogram(X, sr=sample_rate).T,axis=0)\n",
      "<ipython-input-2-2161fc353d88>:20: FutureWarning: Pass y=[ 0.00067139  0.00057983  0.00045776 ... -0.00180054 -0.0022583\n",
      " -0.00146484] as keyword args. From version 0.10 passing these as positional arguments will result in an error\n",
      "  mel = np.mean(librosa.feature.melspectrogram(X, sr=sample_rate).T,axis=0)\n"
     ]
    },
    {
     "name": "stdout",
     "output_type": "stream",
     "text": [
      "\n",
      "03-01-05-02-02-01-03.wav\n"
     ]
    },
    {
     "name": "stderr",
     "output_type": "stream",
     "text": [
      "<ipython-input-2-2161fc353d88>:20: FutureWarning: Pass y=[9.1552734e-05 0.0000000e+00 1.8310547e-04 ... 1.8310547e-04 9.1552734e-05\n",
      " 9.1552734e-05] as keyword args. From version 0.10 passing these as positional arguments will result in an error\n",
      "  mel = np.mean(librosa.feature.melspectrogram(X, sr=sample_rate).T,axis=0)\n",
      "<ipython-input-2-2161fc353d88>:20: FutureWarning: Pass y=[0.0000000e+00 3.0517578e-05 3.0517578e-05 ... 7.3242188e-04 7.6293945e-04\n",
      " 1.0986328e-03] as keyword args. From version 0.10 passing these as positional arguments will result in an error\n",
      "  mel = np.mean(librosa.feature.melspectrogram(X, sr=sample_rate).T,axis=0)\n"
     ]
    },
    {
     "name": "stdout",
     "output_type": "stream",
     "text": [
      "03-01-05-02-02-02-03.wav\n",
      "03-01-06-01-01-01-03.wav\n",
      "03-01-06-01-01-02-03.wav\n",
      "03-01-06-01-02-01-03.wav\n",
      "03-01-06-01-02-02-03.wav\n",
      "03-01-06-02-01-01-03.wav\n",
      "03-01-06-02-01-02-03.wav\n",
      "03-01-06-02-02-01-03.wav\n",
      "03-01-06-02-02-02-03.wav\n",
      "03-01-07-01-01-01-03.wav\n",
      "03-01-07-01-01-02-03.wav\n",
      "03-01-07-01-02-01-03.wav\n",
      "03-01-07-01-02-02-03.wav\n",
      "03-01-07-02-01-01-03.wav\n",
      "03-01-07-02-01-02-03.wav\n",
      "03-01-07-02-02-01-03.wav\n",
      "03-01-07-02-02-02-03.wav\n",
      "03-01-08-01-01-01-03.wav\n",
      "03-01-08-01-01-02-03.wav\n",
      "03-01-08-01-02-01-03.wav\n",
      "03-01-08-01-02-02-03.wav\n",
      "03-01-08-02-01-01-03.wav\n",
      "03-01-08-02-01-02-03.wav\n",
      "03-01-08-02-02-01-03.wav\n",
      "03-01-08-02-02-02-03.wav\n",
      "03-01-01-01-01-01-04.wav\n",
      "03-01-01-01-01-02-04.wav\n",
      "03-01-01-01-02-01-04.wav\n",
      "03-01-01-01-02-02-04.wav\n",
      "03-01-02-01-01-01-04.wav\n",
      "03-01-02-01-01-02-04.wav\n",
      "03-01-02-01-02-01-04.wav\n",
      "03-01-02-01-02-02-04.wav\n",
      "03-01-02-02-01-01-04.wav\n",
      "03-01-02-02-01-02-04.wav\n",
      "03-01-02-02-02-01-04.wav\n",
      "03-01-02-02-02-02-04.wav\n",
      "03-01-03-01-01-01-04.wav\n",
      "03-01-03-01-01-02-04.wav\n",
      "03-01-03-01-02-01-04.wav\n",
      "03-01-03-01-02-02-04.wav\n",
      "03-01-03-02-01-01-04.wav\n",
      "03-01-03-02-01-02-04.wav\n"
     ]
    },
    {
     "name": "stderr",
     "output_type": "stream",
     "text": [
      "<ipython-input-2-2161fc353d88>:20: FutureWarning: Pass y=[ 0.0000000e+00  0.0000000e+00  0.0000000e+00 ...  0.0000000e+00\n",
      " -3.0517578e-05  0.0000000e+00] as keyword args. From version 0.10 passing these as positional arguments will result in an error\n",
      "  mel = np.mean(librosa.feature.melspectrogram(X, sr=sample_rate).T,axis=0)\n"
     ]
    },
    {
     "name": "stdout",
     "output_type": "stream",
     "text": [
      "03-01-03-02-02-01-04.wav\n",
      "03-01-03-02-02-02-04.wav\n",
      "03-01-04-01-01-01-04.wav\n",
      "03-01-04-01-01-02-04.wav\n"
     ]
    },
    {
     "name": "stderr",
     "output_type": "stream",
     "text": [
      "<ipython-input-2-2161fc353d88>:20: FutureWarning: Pass y=[0.0000000e+00 0.0000000e+00 0.0000000e+00 ... 3.0517578e-05 3.0517578e-05\n",
      " 0.0000000e+00] as keyword args. From version 0.10 passing these as positional arguments will result in an error\n",
      "  mel = np.mean(librosa.feature.melspectrogram(X, sr=sample_rate).T,axis=0)\n"
     ]
    },
    {
     "name": "stdout",
     "output_type": "stream",
     "text": [
      "03-01-04-01-02-01-04.wav\n",
      "03-01-04-01-02-02-04.wav\n",
      "03-01-04-02-01-01-04.wav\n",
      "03-01-04-02-01-02-04.wav\n"
     ]
    },
    {
     "name": "stderr",
     "output_type": "stream",
     "text": [
      "<ipython-input-2-2161fc353d88>:20: FutureWarning: Pass y=[-0.00012207 -0.00012207 -0.00012207 ...  0.          0.\n",
      "  0.        ] as keyword args. From version 0.10 passing these as positional arguments will result in an error\n",
      "  mel = np.mean(librosa.feature.melspectrogram(X, sr=sample_rate).T,axis=0)\n"
     ]
    },
    {
     "name": "stdout",
     "output_type": "stream",
     "text": [
      "03-01-04-02-02-01-04.wav\n",
      "03-01-04-02-02-02-04.wav\n",
      "03-01-05-01-01-01-04.wav\n",
      "03-01-05-01-01-02-04.wav\n",
      "03-01-05-01-02-01-04.wav\n",
      "03-01-05-01-02-02-04.wav\n",
      "03-01-05-02-01-01-04.wav\n"
     ]
    },
    {
     "name": "stderr",
     "output_type": "stream",
     "text": [
      "<ipython-input-2-2161fc353d88>:20: FutureWarning: Pass y=[3.0517578e-05 3.0517578e-05 6.1035156e-05 ... 0.0000000e+00 0.0000000e+00\n",
      " 0.0000000e+00] as keyword args. From version 0.10 passing these as positional arguments will result in an error\n",
      "  mel = np.mean(librosa.feature.melspectrogram(X, sr=sample_rate).T,axis=0)\n"
     ]
    },
    {
     "name": "stdout",
     "output_type": "stream",
     "text": [
      "03-01-05-02-01-02-04.wav\n",
      "03-01-05-02-02-01-04.wav\n"
     ]
    },
    {
     "name": "stderr",
     "output_type": "stream",
     "text": [
      "<ipython-input-2-2161fc353d88>:20: FutureWarning: Pass y=[0.0000000e+00 0.0000000e+00 0.0000000e+00 ... 3.0517578e-05 6.1035156e-05\n",
      " 6.1035156e-05] as keyword args. From version 0.10 passing these as positional arguments will result in an error\n",
      "  mel = np.mean(librosa.feature.melspectrogram(X, sr=sample_rate).T,axis=0)\n"
     ]
    },
    {
     "name": "stdout",
     "output_type": "stream",
     "text": [
      "03-01-05-02-02-02-04.wav\n",
      "03-01-06-01-01-01-04.wav\n",
      "03-01-06-01-01-02-04.wav\n",
      "03-01-06-01-02-01-04.wav\n",
      "03-01-06-01-02-02-04.wav\n",
      "03-01-06-02-01-01-04.wav\n",
      "03-01-06-02-01-02-04.wav\n",
      "03-01-06-02-02-01-04.wav\n",
      "03-01-06-02-02-02-04.wav\n",
      "03-01-07-01-01-01-04.wav\n",
      "03-01-07-01-01-02-04.wav\n",
      "03-01-07-01-02-01-04.wav\n",
      "03-01-07-01-02-02-04.wav\n",
      "03-01-07-02-01-01-04.wav\n",
      "03-01-07-02-01-02-04.wav\n",
      "03-01-07-02-02-01-04.wav\n",
      "03-01-07-02-02-02-04.wav\n",
      "03-01-08-01-01-01-04.wav\n",
      "03-01-08-01-01-02-04.wav\n",
      "03-01-08-01-02-01-04.wav\n",
      "03-01-08-01-02-02-04.wav\n",
      "03-01-08-02-01-01-04.wav\n",
      "03-01-08-02-01-02-04.wav\n",
      "03-01-08-02-02-01-04.wav\n",
      "03-01-08-02-02-02-04.wav\n",
      "03-01-01-01-01-01-05.wav\n",
      "03-01-01-01-01-02-05.wav\n",
      "03-01-01-01-02-01-05.wav\n"
     ]
    },
    {
     "name": "stderr",
     "output_type": "stream",
     "text": [
      "<ipython-input-2-2161fc353d88>:20: FutureWarning: Pass y=[ 0.0000000e+00  0.0000000e+00  0.0000000e+00 ... -6.1035156e-05\n",
      " -6.1035156e-05 -6.1035156e-05] as keyword args. From version 0.10 passing these as positional arguments will result in an error\n",
      "  mel = np.mean(librosa.feature.melspectrogram(X, sr=sample_rate).T,axis=0)\n",
      "<ipython-input-2-2161fc353d88>:20: FutureWarning: Pass y=[-6.1035156e-05 -9.1552734e-05 -6.1035156e-05 ...  0.0000000e+00\n",
      "  0.0000000e+00  0.0000000e+00] as keyword args. From version 0.10 passing these as positional arguments will result in an error\n",
      "  mel = np.mean(librosa.feature.melspectrogram(X, sr=sample_rate).T,axis=0)\n"
     ]
    },
    {
     "name": "stdout",
     "output_type": "stream",
     "text": [
      "03-01-01-01-02-02-05.wav\n",
      "03-01-02-01-01-01-05.wav\n",
      "03-01-02-01-01-02-05.wav\n",
      "03-01-02-01-02-01-05.wav\n",
      "03-01-02-01-02-02-05.wav\n",
      "03-01-02-02-01-01-05.wav\n",
      "03-01-02-02-01-02-05.wav\n",
      "03-01-02-02-02-01-05.wav\n",
      "03-01-02-02-02-02-05.wav\n",
      "03-01-03-01-01-01-05.wav\n"
     ]
    },
    {
     "name": "stderr",
     "output_type": "stream",
     "text": [
      "<ipython-input-2-2161fc353d88>:20: FutureWarning: Pass y=[ 6.1035156e-05  6.1035156e-05  3.0517578e-05 ... -6.1035156e-05\n",
      " -6.1035156e-05 -9.1552734e-05] as keyword args. From version 0.10 passing these as positional arguments will result in an error\n",
      "  mel = np.mean(librosa.feature.melspectrogram(X, sr=sample_rate).T,axis=0)\n"
     ]
    },
    {
     "name": "stdout",
     "output_type": "stream",
     "text": [
      "03-01-03-01-01-02-05.wav\n",
      "03-01-03-01-02-01-05.wav\n",
      "03-01-03-01-02-02-05.wav\n",
      "03-01-03-02-01-01-05.wav\n"
     ]
    },
    {
     "name": "stderr",
     "output_type": "stream",
     "text": [
      "<ipython-input-2-2161fc353d88>:20: FutureWarning: Pass y=[ 0.0000000e+00  0.0000000e+00  0.0000000e+00 ... -3.0517578e-05\n",
      " -3.0517578e-05 -3.0517578e-05] as keyword args. From version 0.10 passing these as positional arguments will result in an error\n",
      "  mel = np.mean(librosa.feature.melspectrogram(X, sr=sample_rate).T,axis=0)\n"
     ]
    },
    {
     "name": "stdout",
     "output_type": "stream",
     "text": [
      "03-01-03-02-01-02-05.wav\n",
      "03-01-03-02-02-01-05.wav\n"
     ]
    },
    {
     "name": "stderr",
     "output_type": "stream",
     "text": [
      "<ipython-input-2-2161fc353d88>:20: FutureWarning: Pass y=[0.0000000e+00 0.0000000e+00 0.0000000e+00 ... 9.1552734e-05 9.1552734e-05\n",
      " 9.1552734e-05] as keyword args. From version 0.10 passing these as positional arguments will result in an error\n",
      "  mel = np.mean(librosa.feature.melspectrogram(X, sr=sample_rate).T,axis=0)\n",
      "<ipython-input-2-2161fc353d88>:20: FutureWarning: Pass y=[-1.5258789e-04 -1.5258789e-04 -1.5258789e-04 ...  3.0517578e-05\n",
      "  0.0000000e+00  0.0000000e+00] as keyword args. From version 0.10 passing these as positional arguments will result in an error\n",
      "  mel = np.mean(librosa.feature.melspectrogram(X, sr=sample_rate).T,axis=0)\n"
     ]
    },
    {
     "name": "stdout",
     "output_type": "stream",
     "text": [
      "03-01-03-02-02-02-05.wav\n",
      "03-01-04-01-01-01-05.wav\n"
     ]
    },
    {
     "name": "stderr",
     "output_type": "stream",
     "text": [
      "<ipython-input-2-2161fc353d88>:20: FutureWarning: Pass y=[ 0.0000000e+00 -6.1035156e-05 -6.1035156e-05 ...  6.1035156e-05\n",
      "  3.0517578e-05  6.1035156e-05] as keyword args. From version 0.10 passing these as positional arguments will result in an error\n",
      "  mel = np.mean(librosa.feature.melspectrogram(X, sr=sample_rate).T,axis=0)\n",
      "<ipython-input-2-2161fc353d88>:20: FutureWarning: Pass y=[3.0517578e-05 0.0000000e+00 0.0000000e+00 ... 6.1035156e-05 3.0517578e-05\n",
      " 9.1552734e-05] as keyword args. From version 0.10 passing these as positional arguments will result in an error\n",
      "  mel = np.mean(librosa.feature.melspectrogram(X, sr=sample_rate).T,axis=0)\n"
     ]
    },
    {
     "name": "stdout",
     "output_type": "stream",
     "text": [
      "03-01-04-01-01-02-05.wav\n",
      "03-01-04-01-02-01-05.wav\n"
     ]
    },
    {
     "name": "stderr",
     "output_type": "stream",
     "text": [
      "<ipython-input-2-2161fc353d88>:20: FutureWarning: Pass y=[-3.0517578e-05 -3.0517578e-05 -3.0517578e-05 ...  0.0000000e+00\n",
      "  0.0000000e+00  0.0000000e+00] as keyword args. From version 0.10 passing these as positional arguments will result in an error\n",
      "  mel = np.mean(librosa.feature.melspectrogram(X, sr=sample_rate).T,axis=0)\n"
     ]
    },
    {
     "name": "stdout",
     "output_type": "stream",
     "text": [
      "03-01-04-01-02-02-05.wav\n",
      "03-01-04-02-01-01-05.wav\n"
     ]
    },
    {
     "name": "stderr",
     "output_type": "stream",
     "text": [
      "<ipython-input-2-2161fc353d88>:20: FutureWarning: Pass y=[6.1035156e-05 9.1552734e-05 6.1035156e-05 ... 0.0000000e+00 3.0517578e-05\n",
      " 3.0517578e-05] as keyword args. From version 0.10 passing these as positional arguments will result in an error\n",
      "  mel = np.mean(librosa.feature.melspectrogram(X, sr=sample_rate).T,axis=0)\n",
      "<ipython-input-2-2161fc353d88>:20: FutureWarning: Pass y=[-3.0517578e-05 -3.0517578e-05 -3.0517578e-05 ... -3.0517578e-05\n",
      " -3.0517578e-05  0.0000000e+00] as keyword args. From version 0.10 passing these as positional arguments will result in an error\n",
      "  mel = np.mean(librosa.feature.melspectrogram(X, sr=sample_rate).T,axis=0)\n"
     ]
    },
    {
     "name": "stdout",
     "output_type": "stream",
     "text": [
      "03-01-04-02-01-02-05.wav\n",
      "03-01-04-02-02-01-05.wav\n"
     ]
    },
    {
     "name": "stderr",
     "output_type": "stream",
     "text": [
      "<ipython-input-2-2161fc353d88>:20: FutureWarning: Pass y=[0.00057983 0.00054932 0.00057983 ... 0.         0.         0.        ] as keyword args. From version 0.10 passing these as positional arguments will result in an error\n",
      "  mel = np.mean(librosa.feature.melspectrogram(X, sr=sample_rate).T,axis=0)\n"
     ]
    },
    {
     "name": "stdout",
     "output_type": "stream",
     "text": [
      "03-01-04-02-02-02-05.wav\n",
      "03-01-05-01-01-01-05.wav\n"
     ]
    },
    {
     "name": "stderr",
     "output_type": "stream",
     "text": [
      "<ipython-input-2-2161fc353d88>:20: FutureWarning: Pass y=[-6.1035156e-05 -6.1035156e-05 -3.0517578e-05 ... -3.0517578e-05\n",
      " -3.0517578e-05 -6.1035156e-05] as keyword args. From version 0.10 passing these as positional arguments will result in an error\n",
      "  mel = np.mean(librosa.feature.melspectrogram(X, sr=sample_rate).T,axis=0)\n"
     ]
    },
    {
     "name": "stdout",
     "output_type": "stream",
     "text": [
      "03-01-05-01-01-02-05.wav\n",
      "03-01-05-01-02-01-05.wav\n"
     ]
    },
    {
     "name": "stderr",
     "output_type": "stream",
     "text": [
      "<ipython-input-2-2161fc353d88>:20: FutureWarning: Pass y=[0.0000000e+00 0.0000000e+00 3.0517578e-05 ... 0.0000000e+00 0.0000000e+00\n",
      " 0.0000000e+00] as keyword args. From version 0.10 passing these as positional arguments will result in an error\n",
      "  mel = np.mean(librosa.feature.melspectrogram(X, sr=sample_rate).T,axis=0)\n"
     ]
    },
    {
     "name": "stdout",
     "output_type": "stream",
     "text": [
      "03-01-05-01-02-02-05.wav\n",
      "03-01-05-02-01-01-05.wav\n",
      "03-01-05-02-01-02-05.wav"
     ]
    },
    {
     "name": "stderr",
     "output_type": "stream",
     "text": [
      "<ipython-input-2-2161fc353d88>:20: FutureWarning: Pass y=[6.1035156e-05 3.0517578e-05 3.0517578e-05 ... 0.0000000e+00 0.0000000e+00\n",
      " 0.0000000e+00] as keyword args. From version 0.10 passing these as positional arguments will result in an error\n",
      "  mel = np.mean(librosa.feature.melspectrogram(X, sr=sample_rate).T,axis=0)\n",
      "<ipython-input-2-2161fc353d88>:20: FutureWarning: Pass y=[-9.1552734e-05 -6.1035156e-05 -6.1035156e-05 ...  3.9672852e-04\n",
      "  4.2724609e-04  4.2724609e-04] as keyword args. From version 0.10 passing these as positional arguments will result in an error\n",
      "  mel = np.mean(librosa.feature.melspectrogram(X, sr=sample_rate).T,axis=0)\n"
     ]
    },
    {
     "name": "stdout",
     "output_type": "stream",
     "text": [
      "\n",
      "03-01-05-02-02-01-05.wav\n"
     ]
    },
    {
     "name": "stderr",
     "output_type": "stream",
     "text": [
      "<ipython-input-2-2161fc353d88>:20: FutureWarning: Pass y=[ 0.0000000e+00  0.0000000e+00  0.0000000e+00 ...  0.0000000e+00\n",
      " -3.0517578e-05 -3.0517578e-05] as keyword args. From version 0.10 passing these as positional arguments will result in an error\n",
      "  mel = np.mean(librosa.feature.melspectrogram(X, sr=sample_rate).T,axis=0)\n"
     ]
    },
    {
     "name": "stdout",
     "output_type": "stream",
     "text": [
      "03-01-05-02-02-02-05.wav\n",
      "03-01-06-01-01-01-05.wav\n",
      "03-01-06-01-01-02-05.wav\n",
      "03-01-06-01-02-01-05.wav\n",
      "03-01-06-01-02-02-05.wav\n",
      "03-01-06-02-01-01-05.wav\n",
      "03-01-06-02-01-02-05.wav\n",
      "03-01-06-02-02-01-05.wav\n",
      "03-01-06-02-02-02-05.wav\n",
      "03-01-07-01-01-01-05.wav\n",
      "03-01-07-01-01-02-05.wav\n",
      "03-01-07-01-02-01-05.wav\n",
      "03-01-07-01-02-02-05.wav\n",
      "03-01-07-02-01-01-05.wav\n",
      "03-01-07-02-01-02-05.wav\n",
      "03-01-07-02-02-01-05.wav\n",
      "03-01-07-02-02-02-05.wav\n",
      "03-01-08-01-01-01-05.wav\n",
      "03-01-08-01-01-02-05.wav\n",
      "03-01-08-01-02-01-05.wav\n",
      "03-01-08-01-02-02-05.wav\n",
      "03-01-08-02-01-01-05.wav\n",
      "03-01-08-02-01-02-05.wav\n",
      "03-01-08-02-02-01-05.wav\n",
      "03-01-08-02-02-02-05.wav\n",
      "03-01-01-01-01-01-06.wav\n",
      "03-01-01-01-01-02-06.wav\n",
      "03-01-01-01-02-01-06.wav\n",
      "03-01-01-01-02-02-06.wav\n",
      "03-01-02-01-01-01-06.wav\n",
      "03-01-02-01-01-02-06.wav\n",
      "03-01-02-01-02-01-06.wav\n",
      "03-01-02-01-02-02-06.wav\n",
      "03-01-02-02-01-01-06.wav\n",
      "03-01-02-02-01-02-06.wav\n",
      "03-01-02-02-02-01-06.wav\n",
      "03-01-02-02-02-02-06.wav\n",
      "03-01-03-01-01-01-06.wav\n",
      "03-01-03-01-01-02-06.wav\n",
      "03-01-03-01-02-01-06.wav\n",
      "03-01-03-01-02-02-06.wav\n"
     ]
    },
    {
     "name": "stderr",
     "output_type": "stream",
     "text": [
      "<ipython-input-2-2161fc353d88>:20: FutureWarning: Pass y=[ 6.1035156e-05  6.1035156e-05  3.0517578e-05 ... -6.1035156e-05\n",
      " -3.0517578e-05 -3.0517578e-05] as keyword args. From version 0.10 passing these as positional arguments will result in an error\n",
      "  mel = np.mean(librosa.feature.melspectrogram(X, sr=sample_rate).T,axis=0)\n",
      "<ipython-input-2-2161fc353d88>:20: FutureWarning: Pass y=[ 0.0000000e+00  0.0000000e+00 -3.0517578e-05 ...  1.5258789e-04\n",
      "  2.1362305e-04  1.5258789e-04] as keyword args. From version 0.10 passing these as positional arguments will result in an error\n",
      "  mel = np.mean(librosa.feature.melspectrogram(X, sr=sample_rate).T,axis=0)\n"
     ]
    },
    {
     "name": "stdout",
     "output_type": "stream",
     "text": [
      "03-01-03-02-01-01-06.wav\n",
      "03-01-03-02-01-02-06.wav\n"
     ]
    },
    {
     "name": "stderr",
     "output_type": "stream",
     "text": [
      "<ipython-input-2-2161fc353d88>:20: FutureWarning: Pass y=[ 0.0000000e+00  0.0000000e+00  0.0000000e+00 ...  0.0000000e+00\n",
      "  0.0000000e+00 -3.0517578e-05] as keyword args. From version 0.10 passing these as positional arguments will result in an error\n",
      "  mel = np.mean(librosa.feature.melspectrogram(X, sr=sample_rate).T,axis=0)\n"
     ]
    },
    {
     "name": "stdout",
     "output_type": "stream",
     "text": [
      "03-01-03-02-02-01-06.wav\n",
      "03-01-03-02-02-02-06.wav\n"
     ]
    },
    {
     "name": "stderr",
     "output_type": "stream",
     "text": [
      "<ipython-input-2-2161fc353d88>:20: FutureWarning: Pass y=[3.0517578e-05 3.0517578e-05 6.1035156e-05 ... 6.4086914e-04 5.1879883e-04\n",
      " 5.4931641e-04] as keyword args. From version 0.10 passing these as positional arguments will result in an error\n",
      "  mel = np.mean(librosa.feature.melspectrogram(X, sr=sample_rate).T,axis=0)\n"
     ]
    },
    {
     "name": "stdout",
     "output_type": "stream",
     "text": [
      "03-01-04-01-01-01-06.wav\n",
      "03-01-04-01-01-02-06.wav\n",
      "03-01-04-01-02-01-06.wav\n",
      "03-01-04-01-02-02-06.wav\n",
      "03-01-04-02-01-01-06.wav\n",
      "03-01-04-02-01-02-06.wav\n",
      "03-01-04-02-02-01-06.wav\n"
     ]
    },
    {
     "name": "stderr",
     "output_type": "stream",
     "text": [
      "<ipython-input-2-2161fc353d88>:20: FutureWarning: Pass y=[ 2.4414062e-04  2.4414062e-04  2.1362305e-04 ...  0.0000000e+00\n",
      " -3.0517578e-05  0.0000000e+00] as keyword args. From version 0.10 passing these as positional arguments will result in an error\n",
      "  mel = np.mean(librosa.feature.melspectrogram(X, sr=sample_rate).T,axis=0)\n"
     ]
    },
    {
     "name": "stdout",
     "output_type": "stream",
     "text": [
      "03-01-04-02-02-02-06.wav\n",
      "03-01-05-01-01-01-06.wav\n"
     ]
    },
    {
     "name": "stderr",
     "output_type": "stream",
     "text": [
      "<ipython-input-2-2161fc353d88>:20: FutureWarning: Pass y=[3.0517578e-05 0.0000000e+00 3.0517578e-05 ... 0.0000000e+00 0.0000000e+00\n",
      " 3.0517578e-05] as keyword args. From version 0.10 passing these as positional arguments will result in an error\n",
      "  mel = np.mean(librosa.feature.melspectrogram(X, sr=sample_rate).T,axis=0)\n"
     ]
    },
    {
     "name": "stdout",
     "output_type": "stream",
     "text": [
      "03-01-05-01-01-02-06.wav\n",
      "03-01-05-01-02-01-06.wav\n"
     ]
    },
    {
     "name": "stderr",
     "output_type": "stream",
     "text": [
      "<ipython-input-2-2161fc353d88>:20: FutureWarning: Pass y=[0.         0.         0.         ... 0.00018311 0.00015259 0.00018311] as keyword args. From version 0.10 passing these as positional arguments will result in an error\n",
      "  mel = np.mean(librosa.feature.melspectrogram(X, sr=sample_rate).T,axis=0)\n"
     ]
    },
    {
     "name": "stdout",
     "output_type": "stream",
     "text": [
      "03-01-05-01-02-02-06.wav\n",
      "03-01-05-02-01-01-06.wav\n",
      "03-01-05-02-01-02-06.wav\n",
      "03-01-05-02-02-01-06.wav"
     ]
    },
    {
     "name": "stderr",
     "output_type": "stream",
     "text": [
      "<ipython-input-2-2161fc353d88>:20: FutureWarning: Pass y=[ 1.0681152e-03  8.2397461e-04  5.4931641e-04 ...  0.0000000e+00\n",
      " -3.0517578e-05  0.0000000e+00] as keyword args. From version 0.10 passing these as positional arguments will result in an error\n",
      "  mel = np.mean(librosa.feature.melspectrogram(X, sr=sample_rate).T,axis=0)\n"
     ]
    },
    {
     "name": "stdout",
     "output_type": "stream",
     "text": [
      "\n"
     ]
    },
    {
     "name": "stderr",
     "output_type": "stream",
     "text": [
      "<ipython-input-2-2161fc353d88>:20: FutureWarning: Pass y=[ 0.0000000e+00 -3.0517578e-05  0.0000000e+00 ...  0.0000000e+00\n",
      " -3.0517578e-05 -3.0517578e-05] as keyword args. From version 0.10 passing these as positional arguments will result in an error\n",
      "  mel = np.mean(librosa.feature.melspectrogram(X, sr=sample_rate).T,axis=0)\n"
     ]
    },
    {
     "name": "stdout",
     "output_type": "stream",
     "text": [
      "03-01-05-02-02-02-06.wav\n",
      "03-01-06-01-01-01-06.wav"
     ]
    },
    {
     "name": "stderr",
     "output_type": "stream",
     "text": [
      "<ipython-input-2-2161fc353d88>:20: FutureWarning: Pass y=[1.8310547e-04 6.1035156e-05 0.0000000e+00 ... 0.0000000e+00 0.0000000e+00\n",
      " 0.0000000e+00] as keyword args. From version 0.10 passing these as positional arguments will result in an error\n",
      "  mel = np.mean(librosa.feature.melspectrogram(X, sr=sample_rate).T,axis=0)\n",
      "<ipython-input-2-2161fc353d88>:20: FutureWarning: Pass y=[ 6.1035156e-05 -6.1035156e-05 -6.1035156e-05 ...  0.0000000e+00\n",
      "  0.0000000e+00  3.0517578e-05] as keyword args. From version 0.10 passing these as positional arguments will result in an error\n",
      "  mel = np.mean(librosa.feature.melspectrogram(X, sr=sample_rate).T,axis=0)\n"
     ]
    },
    {
     "name": "stdout",
     "output_type": "stream",
     "text": [
      "\n",
      "03-01-06-01-01-02-06.wav\n",
      "03-01-06-01-02-01-06.wav\n",
      "03-01-06-01-02-02-06.wav\n",
      "03-01-06-02-01-01-06.wav\n",
      "03-01-06-02-01-02-06.wav\n",
      "03-01-06-02-02-01-06.wav\n",
      "03-01-06-02-02-02-06.wav\n",
      "03-01-07-01-01-01-06.wav\n",
      "03-01-07-01-01-02-06.wav\n",
      "03-01-07-01-02-01-06.wav\n",
      "03-01-07-01-02-02-06.wav\n",
      "03-01-07-02-01-01-06.wav\n",
      "03-01-07-02-01-02-06.wav\n",
      "03-01-07-02-02-01-06.wav\n",
      "03-01-07-02-02-02-06.wav\n",
      "03-01-08-01-01-01-06.wav\n",
      "03-01-08-01-01-02-06.wav\n",
      "03-01-08-01-02-01-06.wav\n",
      "03-01-08-01-02-02-06.wav\n",
      "03-01-08-02-01-01-06.wav\n",
      "03-01-08-02-01-02-06.wav\n",
      "03-01-08-02-02-01-06.wav\n",
      "03-01-08-02-02-02-06.wav\n",
      "03-01-01-01-01-01-07.wav\n",
      "03-01-01-01-01-02-07.wav\n"
     ]
    },
    {
     "name": "stderr",
     "output_type": "stream",
     "text": [
      "<ipython-input-2-2161fc353d88>:20: FutureWarning: Pass y=[ 0.         -0.00021362 -0.00042725 ... -0.00024414 -0.00027466\n",
      " -0.00024414] as keyword args. From version 0.10 passing these as positional arguments will result in an error\n",
      "  mel = np.mean(librosa.feature.melspectrogram(X, sr=sample_rate).T,axis=0)\n",
      "<ipython-input-2-2161fc353d88>:20: FutureWarning: Pass y=[ 0.0000000e+00 -1.2207031e-04 -1.2207031e-04 ...  3.0517578e-05\n",
      "  3.0517578e-05  0.0000000e+00] as keyword args. From version 0.10 passing these as positional arguments will result in an error\n",
      "  mel = np.mean(librosa.feature.melspectrogram(X, sr=sample_rate).T,axis=0)\n"
     ]
    },
    {
     "name": "stdout",
     "output_type": "stream",
     "text": [
      "03-01-01-01-02-01-07.wav\n",
      "03-01-01-01-02-02-07.wav\n"
     ]
    },
    {
     "name": "stderr",
     "output_type": "stream",
     "text": [
      "<ipython-input-2-2161fc353d88>:20: FutureWarning: Pass y=[ 6.1035156e-05  9.1552734e-05  3.0517578e-05 ... -6.1035156e-05\n",
      "  0.0000000e+00 -3.0517578e-05] as keyword args. From version 0.10 passing these as positional arguments will result in an error\n",
      "  mel = np.mean(librosa.feature.melspectrogram(X, sr=sample_rate).T,axis=0)\n"
     ]
    },
    {
     "name": "stdout",
     "output_type": "stream",
     "text": [
      "03-01-02-01-01-01-07.wav\n",
      "03-01-02-01-01-02-07.wav\n",
      "03-01-02-01-02-01-07.wav\n",
      "03-01-02-01-02-02-07.wav\n",
      "03-01-02-02-01-01-07.wav\n",
      "03-01-02-02-01-02-07.wav\n",
      "03-01-02-02-02-01-07.wav\n",
      "03-01-02-02-02-02-07.wav\n",
      "03-01-03-01-01-01-07.wav\n",
      "03-01-03-01-01-02-07.wav\n",
      "03-01-03-01-02-01-07.wav\n"
     ]
    },
    {
     "name": "stderr",
     "output_type": "stream",
     "text": [
      "<ipython-input-2-2161fc353d88>:20: FutureWarning: Pass y=[0.0000000e+00 0.0000000e+00 0.0000000e+00 ... 9.1552734e-05 6.1035156e-05\n",
      " 6.1035156e-05] as keyword args. From version 0.10 passing these as positional arguments will result in an error\n",
      "  mel = np.mean(librosa.feature.melspectrogram(X, sr=sample_rate).T,axis=0)\n",
      "<ipython-input-2-2161fc353d88>:20: FutureWarning: Pass y=[-6.1035156e-05 -6.1035156e-05 -3.0517578e-05 ...  3.0517578e-04\n",
      "  3.0517578e-04  3.0517578e-04] as keyword args. From version 0.10 passing these as positional arguments will result in an error\n",
      "  mel = np.mean(librosa.feature.melspectrogram(X, sr=sample_rate).T,axis=0)\n"
     ]
    },
    {
     "name": "stdout",
     "output_type": "stream",
     "text": [
      "03-01-03-01-02-02-07.wav\n",
      "03-01-03-02-01-01-07.wav\n"
     ]
    },
    {
     "name": "stderr",
     "output_type": "stream",
     "text": [
      "<ipython-input-2-2161fc353d88>:20: FutureWarning: Pass y=[ 3.0517578e-05  0.0000000e+00 -3.0517578e-05 ...  6.1035156e-05\n",
      "  6.1035156e-05  1.5258789e-04] as keyword args. From version 0.10 passing these as positional arguments will result in an error\n",
      "  mel = np.mean(librosa.feature.melspectrogram(X, sr=sample_rate).T,axis=0)\n",
      "<ipython-input-2-2161fc353d88>:20: FutureWarning: Pass y=[0.0000000e+00 3.9672852e-04 6.4086914e-04 ... 3.0517578e-05 0.0000000e+00\n",
      " 0.0000000e+00] as keyword args. From version 0.10 passing these as positional arguments will result in an error\n",
      "  mel = np.mean(librosa.feature.melspectrogram(X, sr=sample_rate).T,axis=0)\n"
     ]
    },
    {
     "name": "stdout",
     "output_type": "stream",
     "text": [
      "03-01-03-02-01-02-07.wav\n",
      "03-01-03-02-02-01-07.wav\n"
     ]
    },
    {
     "name": "stderr",
     "output_type": "stream",
     "text": [
      "<ipython-input-2-2161fc353d88>:20: FutureWarning: Pass y=[-6.1035156e-05 -6.1035156e-05 -3.0517578e-05 ... -4.5776367e-04\n",
      " -4.2724609e-04 -3.9672852e-04] as keyword args. From version 0.10 passing these as positional arguments will result in an error\n",
      "  mel = np.mean(librosa.feature.melspectrogram(X, sr=sample_rate).T,axis=0)\n"
     ]
    },
    {
     "name": "stdout",
     "output_type": "stream",
     "text": [
      "03-01-03-02-02-02-07.wav\n",
      "03-01-04-01-01-01-07.wav"
     ]
    },
    {
     "name": "stderr",
     "output_type": "stream",
     "text": [
      "<ipython-input-2-2161fc353d88>:20: FutureWarning: Pass y=[0.0000000e+00 6.1035156e-05 2.1362305e-04 ... 1.8310547e-04 1.5258789e-04\n",
      " 1.5258789e-04] as keyword args. From version 0.10 passing these as positional arguments will result in an error\n",
      "  mel = np.mean(librosa.feature.melspectrogram(X, sr=sample_rate).T,axis=0)\n"
     ]
    },
    {
     "name": "stdout",
     "output_type": "stream",
     "text": [
      "\n",
      "03-01-04-01-01-02-07.wav\n",
      "03-01-04-01-02-01-07.wav\n",
      "03-01-04-01-02-02-07.wav\n"
     ]
    },
    {
     "name": "stderr",
     "output_type": "stream",
     "text": [
      "<ipython-input-2-2161fc353d88>:20: FutureWarning: Pass y=[3.0517578e-05 6.1035156e-05 3.0517578e-05 ... 3.0517578e-05 0.0000000e+00\n",
      " 0.0000000e+00] as keyword args. From version 0.10 passing these as positional arguments will result in an error\n",
      "  mel = np.mean(librosa.feature.melspectrogram(X, sr=sample_rate).T,axis=0)\n",
      "<ipython-input-2-2161fc353d88>:20: FutureWarning: Pass y=[ 0.0000000e+00  0.0000000e+00 -9.1552734e-05 ...  0.0000000e+00\n",
      " -3.0517578e-05 -3.0517578e-05] as keyword args. From version 0.10 passing these as positional arguments will result in an error\n",
      "  mel = np.mean(librosa.feature.melspectrogram(X, sr=sample_rate).T,axis=0)\n"
     ]
    },
    {
     "name": "stdout",
     "output_type": "stream",
     "text": [
      "03-01-04-02-01-01-07.wav\n",
      "03-01-04-02-01-02-07.wav\n"
     ]
    },
    {
     "name": "stderr",
     "output_type": "stream",
     "text": [
      "<ipython-input-2-2161fc353d88>:20: FutureWarning: Pass y=[-9.1552734e-05 -9.1552734e-05 -3.0517578e-05 ...  1.0681152e-03\n",
      "  1.1291504e-03  1.0375977e-03] as keyword args. From version 0.10 passing these as positional arguments will result in an error\n",
      "  mel = np.mean(librosa.feature.melspectrogram(X, sr=sample_rate).T,axis=0)\n"
     ]
    },
    {
     "name": "stdout",
     "output_type": "stream",
     "text": [
      "03-01-04-02-02-01-07.wav\n"
     ]
    },
    {
     "name": "stderr",
     "output_type": "stream",
     "text": [
      "<ipython-input-2-2161fc353d88>:20: FutureWarning: Pass y=[ 0.00030518  0.0005188   0.00036621 ... -0.00384521 -0.00387573\n",
      " -0.00393677] as keyword args. From version 0.10 passing these as positional arguments will result in an error\n",
      "  mel = np.mean(librosa.feature.melspectrogram(X, sr=sample_rate).T,axis=0)\n"
     ]
    },
    {
     "name": "stdout",
     "output_type": "stream",
     "text": [
      "03-01-04-02-02-02-07.wav\n",
      "03-01-05-01-01-01-07.wav\n"
     ]
    },
    {
     "name": "stderr",
     "output_type": "stream",
     "text": [
      "<ipython-input-2-2161fc353d88>:20: FutureWarning: Pass y=[ 0.0000000e+00  3.0517578e-05  3.0517578e-05 ... -8.2397461e-04\n",
      " -7.9345703e-04 -8.2397461e-04] as keyword args. From version 0.10 passing these as positional arguments will result in an error\n",
      "  mel = np.mean(librosa.feature.melspectrogram(X, sr=sample_rate).T,axis=0)\n",
      "<ipython-input-2-2161fc353d88>:20: FutureWarning: Pass y=[ 6.1035156e-05  6.1035156e-05  9.1552734e-05 ... -2.1667480e-03\n",
      " -2.1667480e-03 -2.1972656e-03] as keyword args. From version 0.10 passing these as positional arguments will result in an error\n",
      "  mel = np.mean(librosa.feature.melspectrogram(X, sr=sample_rate).T,axis=0)\n"
     ]
    },
    {
     "name": "stdout",
     "output_type": "stream",
     "text": [
      "03-01-05-01-01-02-07.wav\n",
      "03-01-05-01-02-01-07.wav\n",
      "03-01-05-01-02-02-07.wav\n",
      "03-01-05-02-01-01-07.wav\n",
      "03-01-05-02-01-02-07.wav\n"
     ]
    },
    {
     "name": "stderr",
     "output_type": "stream",
     "text": [
      "<ipython-input-2-2161fc353d88>:20: FutureWarning: Pass y=[-0.00061035 -0.00064087 -0.00061035 ...  0.00231934  0.00228882\n",
      "  0.0022583 ] as keyword args. From version 0.10 passing these as positional arguments will result in an error\n",
      "  mel = np.mean(librosa.feature.melspectrogram(X, sr=sample_rate).T,axis=0)\n",
      "<ipython-input-2-2161fc353d88>:20: FutureWarning: Pass y=[ 0.00012207  0.00012207  0.00012207 ... -0.00210571 -0.00201416\n",
      " -0.00201416] as keyword args. From version 0.10 passing these as positional arguments will result in an error\n",
      "  mel = np.mean(librosa.feature.melspectrogram(X, sr=sample_rate).T,axis=0)\n"
     ]
    },
    {
     "name": "stdout",
     "output_type": "stream",
     "text": [
      "03-01-05-02-02-01-07.wav\n",
      "03-01-05-02-02-02-07.wav\n"
     ]
    },
    {
     "name": "stderr",
     "output_type": "stream",
     "text": [
      "<ipython-input-2-2161fc353d88>:20: FutureWarning: Pass y=[-6.1035156e-05 -6.1035156e-05 -6.1035156e-05 ...  0.0000000e+00\n",
      "  3.0517578e-05  0.0000000e+00] as keyword args. From version 0.10 passing these as positional arguments will result in an error\n",
      "  mel = np.mean(librosa.feature.melspectrogram(X, sr=sample_rate).T,axis=0)\n",
      "<ipython-input-2-2161fc353d88>:20: FutureWarning: Pass y=[ 3.0517578e-05  3.0517578e-05  3.0517578e-05 ... -3.6621094e-04\n",
      " -3.0517578e-04 -3.0517578e-04] as keyword args. From version 0.10 passing these as positional arguments will result in an error\n",
      "  mel = np.mean(librosa.feature.melspectrogram(X, sr=sample_rate).T,axis=0)\n",
      "<ipython-input-2-2161fc353d88>:20: FutureWarning: Pass y=[-0.00012207 -0.00018311 -0.00015259 ...  0.          0.\n",
      "  0.        ] as keyword args. From version 0.10 passing these as positional arguments will result in an error\n",
      "  mel = np.mean(librosa.feature.melspectrogram(X, sr=sample_rate).T,axis=0)\n"
     ]
    },
    {
     "name": "stdout",
     "output_type": "stream",
     "text": [
      "03-01-06-01-01-01-07.wav\n",
      "03-01-06-01-01-02-07.wav\n",
      "03-01-06-01-02-01-07.wav\n",
      "03-01-06-01-02-02-07.wav\n",
      "03-01-06-02-01-01-07.wav\n",
      "03-01-06-02-01-02-07.wav\n",
      "03-01-06-02-02-01-07.wav\n",
      "03-01-06-02-02-02-07.wav\n",
      "03-01-07-01-01-01-07.wav\n",
      "03-01-07-01-01-02-07.wav\n",
      "03-01-07-01-02-01-07.wav\n",
      "03-01-07-01-02-02-07.wav\n",
      "03-01-07-02-01-01-07.wav\n",
      "03-01-07-02-01-02-07.wav\n",
      "03-01-07-02-02-01-07.wav\n",
      "03-01-07-02-02-02-07.wav\n",
      "03-01-08-01-01-01-07.wav\n",
      "03-01-08-01-01-02-07.wav\n",
      "03-01-08-01-02-01-07.wav\n",
      "03-01-08-01-02-02-07.wav\n",
      "03-01-08-02-01-01-07.wav\n",
      "03-01-08-02-01-02-07.wav\n",
      "03-01-08-02-02-01-07.wav\n",
      "03-01-08-02-02-02-07.wav\n",
      "03-01-01-01-01-01-08.wav\n",
      "03-01-01-01-01-02-08.wav\n"
     ]
    },
    {
     "name": "stderr",
     "output_type": "stream",
     "text": [
      "<ipython-input-2-2161fc353d88>:20: FutureWarning: Pass y=[1.2207031e-04 9.1552734e-05 9.1552734e-05 ... 0.0000000e+00 0.0000000e+00\n",
      " 0.0000000e+00] as keyword args. From version 0.10 passing these as positional arguments will result in an error\n",
      "  mel = np.mean(librosa.feature.melspectrogram(X, sr=sample_rate).T,axis=0)\n"
     ]
    },
    {
     "name": "stdout",
     "output_type": "stream",
     "text": [
      "03-01-01-01-02-01-08.wav\n",
      "03-01-01-01-02-02-08.wav\n"
     ]
    },
    {
     "name": "stderr",
     "output_type": "stream",
     "text": [
      "<ipython-input-2-2161fc353d88>:20: FutureWarning: Pass y=[0.00018311 0.00018311 0.00021362 ... 0.         0.         0.        ] as keyword args. From version 0.10 passing these as positional arguments will result in an error\n",
      "  mel = np.mean(librosa.feature.melspectrogram(X, sr=sample_rate).T,axis=0)\n",
      "<ipython-input-2-2161fc353d88>:20: FutureWarning: Pass y=[6.1035156e-05 6.1035156e-05 6.1035156e-05 ... 6.1035156e-05 6.1035156e-05\n",
      " 6.1035156e-05] as keyword args. From version 0.10 passing these as positional arguments will result in an error\n",
      "  mel = np.mean(librosa.feature.melspectrogram(X, sr=sample_rate).T,axis=0)\n"
     ]
    },
    {
     "name": "stdout",
     "output_type": "stream",
     "text": [
      "03-01-02-01-01-01-08.wav\n",
      "03-01-02-01-01-02-08.wav\n",
      "03-01-02-01-02-01-08.wav\n",
      "03-01-02-01-02-02-08.wav\n",
      "03-01-02-02-01-01-08.wav\n",
      "03-01-02-02-01-02-08.wav\n",
      "03-01-02-02-02-01-08.wav\n",
      "03-01-02-02-02-02-08.wav\n",
      "03-01-03-01-01-01-08.wav\n",
      "03-01-03-01-01-02-08.wav\n",
      "03-01-03-01-02-01-08.wav\n",
      "03-01-03-01-02-02-08.wav\n"
     ]
    },
    {
     "name": "stderr",
     "output_type": "stream",
     "text": [
      "<ipython-input-2-2161fc353d88>:20: FutureWarning: Pass y=[ 3.0517578e-05  6.1035156e-05  6.1035156e-05 ... -1.5258789e-04\n",
      " -1.2207031e-04 -1.5258789e-04] as keyword args. From version 0.10 passing these as positional arguments will result in an error\n",
      "  mel = np.mean(librosa.feature.melspectrogram(X, sr=sample_rate).T,axis=0)\n"
     ]
    },
    {
     "name": "stdout",
     "output_type": "stream",
     "text": [
      "03-01-03-02-01-01-08.wav\n",
      "03-01-03-02-01-02-08.wav\n"
     ]
    },
    {
     "name": "stderr",
     "output_type": "stream",
     "text": [
      "<ipython-input-2-2161fc353d88>:20: FutureWarning: Pass y=[-9.1552734e-05 -9.1552734e-05 -6.1035156e-05 ...  0.0000000e+00\n",
      " -6.1035156e-05 -6.1035156e-05] as keyword args. From version 0.10 passing these as positional arguments will result in an error\n",
      "  mel = np.mean(librosa.feature.melspectrogram(X, sr=sample_rate).T,axis=0)\n",
      "<ipython-input-2-2161fc353d88>:20: FutureWarning: Pass y=[ 6.1035156e-05  6.1035156e-05  6.1035156e-05 ... -3.0517578e-05\n",
      " -3.0517578e-05  0.0000000e+00] as keyword args. From version 0.10 passing these as positional arguments will result in an error\n",
      "  mel = np.mean(librosa.feature.melspectrogram(X, sr=sample_rate).T,axis=0)\n"
     ]
    },
    {
     "name": "stdout",
     "output_type": "stream",
     "text": [
      "03-01-03-02-02-01-08.wav\n",
      "03-01-03-02-02-02-08.wav\n"
     ]
    },
    {
     "name": "stderr",
     "output_type": "stream",
     "text": [
      "<ipython-input-2-2161fc353d88>:20: FutureWarning: Pass y=[ 9.1552734e-05  9.1552734e-05  6.1035156e-05 ... -3.6621094e-04\n",
      " -3.6621094e-04 -3.6621094e-04] as keyword args. From version 0.10 passing these as positional arguments will result in an error\n",
      "  mel = np.mean(librosa.feature.melspectrogram(X, sr=sample_rate).T,axis=0)\n",
      "<ipython-input-2-2161fc353d88>:20: FutureWarning: Pass y=[-6.1035156e-05 -3.0517578e-05 -6.1035156e-05 ... -1.2207031e-04\n",
      " -1.2207031e-04 -1.5258789e-04] as keyword args. From version 0.10 passing these as positional arguments will result in an error\n",
      "  mel = np.mean(librosa.feature.melspectrogram(X, sr=sample_rate).T,axis=0)\n"
     ]
    },
    {
     "name": "stdout",
     "output_type": "stream",
     "text": [
      "03-01-04-01-01-01-08.wav\n",
      "03-01-04-01-01-02-08.wav\n"
     ]
    },
    {
     "name": "stderr",
     "output_type": "stream",
     "text": [
      "<ipython-input-2-2161fc353d88>:20: FutureWarning: Pass y=[2.1362305e-04 2.4414062e-04 2.7465820e-04 ... 9.1552734e-05 9.1552734e-05\n",
      " 9.1552734e-05] as keyword args. From version 0.10 passing these as positional arguments will result in an error\n",
      "  mel = np.mean(librosa.feature.melspectrogram(X, sr=sample_rate).T,axis=0)\n",
      "<ipython-input-2-2161fc353d88>:20: FutureWarning: Pass y=[0.0000000e+00 0.0000000e+00 0.0000000e+00 ... 6.1035156e-05 6.1035156e-05\n",
      " 6.1035156e-05] as keyword args. From version 0.10 passing these as positional arguments will result in an error\n",
      "  mel = np.mean(librosa.feature.melspectrogram(X, sr=sample_rate).T,axis=0)\n"
     ]
    },
    {
     "name": "stdout",
     "output_type": "stream",
     "text": [
      "03-01-04-01-02-01-08.wav\n",
      "03-01-04-01-02-02-08.wav\n"
     ]
    },
    {
     "name": "stderr",
     "output_type": "stream",
     "text": [
      "<ipython-input-2-2161fc353d88>:20: FutureWarning: Pass y=[ 0.0000000e+00  0.0000000e+00  0.0000000e+00 ... -9.1552734e-05\n",
      " -1.2207031e-04 -9.1552734e-05] as keyword args. From version 0.10 passing these as positional arguments will result in an error\n",
      "  mel = np.mean(librosa.feature.melspectrogram(X, sr=sample_rate).T,axis=0)\n",
      "<ipython-input-2-2161fc353d88>:20: FutureWarning: Pass y=[0.00012207 0.00012207 0.00015259 ... 0.00018311 0.00018311 0.00018311] as keyword args. From version 0.10 passing these as positional arguments will result in an error\n",
      "  mel = np.mean(librosa.feature.melspectrogram(X, sr=sample_rate).T,axis=0)\n"
     ]
    },
    {
     "name": "stdout",
     "output_type": "stream",
     "text": [
      "03-01-04-02-01-01-08.wav\n",
      "03-01-04-02-01-02-08.wav\n"
     ]
    },
    {
     "name": "stderr",
     "output_type": "stream",
     "text": [
      "<ipython-input-2-2161fc353d88>:20: FutureWarning: Pass y=[ 2.1362305e-04  1.8310547e-04  2.1362305e-04 ...  0.0000000e+00\n",
      " -6.1035156e-05 -1.2207031e-04] as keyword args. From version 0.10 passing these as positional arguments will result in an error\n",
      "  mel = np.mean(librosa.feature.melspectrogram(X, sr=sample_rate).T,axis=0)\n",
      "<ipython-input-2-2161fc353d88>:20: FutureWarning: Pass y=[0.         0.         0.         ... 0.00076294 0.00079346 0.00079346] as keyword args. From version 0.10 passing these as positional arguments will result in an error\n",
      "  mel = np.mean(librosa.feature.melspectrogram(X, sr=sample_rate).T,axis=0)\n"
     ]
    },
    {
     "name": "stdout",
     "output_type": "stream",
     "text": [
      "03-01-04-02-02-01-08.wav\n",
      "03-01-04-02-02-02-08.wav\n"
     ]
    },
    {
     "name": "stderr",
     "output_type": "stream",
     "text": [
      "<ipython-input-2-2161fc353d88>:20: FutureWarning: Pass y=[0.0000000e+00 0.0000000e+00 0.0000000e+00 ... 6.1035156e-05 6.1035156e-05\n",
      " 9.1552734e-05] as keyword args. From version 0.10 passing these as positional arguments will result in an error\n",
      "  mel = np.mean(librosa.feature.melspectrogram(X, sr=sample_rate).T,axis=0)\n",
      "<ipython-input-2-2161fc353d88>:20: FutureWarning: Pass y=[0.         0.         0.         ... 0.00231934 0.00228882 0.00222778] as keyword args. From version 0.10 passing these as positional arguments will result in an error\n",
      "  mel = np.mean(librosa.feature.melspectrogram(X, sr=sample_rate).T,axis=0)\n"
     ]
    },
    {
     "name": "stdout",
     "output_type": "stream",
     "text": [
      "03-01-05-01-01-01-08.wav\n",
      "03-01-05-01-01-02-08.wav\n"
     ]
    },
    {
     "name": "stderr",
     "output_type": "stream",
     "text": [
      "<ipython-input-2-2161fc353d88>:20: FutureWarning: Pass y=[-6.1035156e-05 -6.1035156e-05 -6.1035156e-05 ...  2.1362305e-04\n",
      "  4.2724609e-04  5.7983398e-04] as keyword args. From version 0.10 passing these as positional arguments will result in an error\n",
      "  mel = np.mean(librosa.feature.melspectrogram(X, sr=sample_rate).T,axis=0)\n",
      "<ipython-input-2-2161fc353d88>:20: FutureWarning: Pass y=[ 0.0000000e+00  0.0000000e+00 -3.0517578e-05 ... -2.6245117e-03\n",
      " -2.1667480e-03 -2.3803711e-03] as keyword args. From version 0.10 passing these as positional arguments will result in an error\n",
      "  mel = np.mean(librosa.feature.melspectrogram(X, sr=sample_rate).T,axis=0)\n"
     ]
    },
    {
     "name": "stdout",
     "output_type": "stream",
     "text": [
      "03-01-05-01-02-01-08.wav\n",
      "03-01-05-01-02-02-08.wav\n"
     ]
    },
    {
     "name": "stderr",
     "output_type": "stream",
     "text": [
      "<ipython-input-2-2161fc353d88>:20: FutureWarning: Pass y=[-9.1552734e-05 -9.1552734e-05 -9.1552734e-05 ...  1.8310547e-04\n",
      "  2.1362305e-04  1.8310547e-04] as keyword args. From version 0.10 passing these as positional arguments will result in an error\n",
      "  mel = np.mean(librosa.feature.melspectrogram(X, sr=sample_rate).T,axis=0)\n",
      "<ipython-input-2-2161fc353d88>:20: FutureWarning: Pass y=[-0.00018311 -0.00018311 -0.00021362 ...  0.00021362  0.00021362\n",
      "  0.00012207] as keyword args. From version 0.10 passing these as positional arguments will result in an error\n",
      "  mel = np.mean(librosa.feature.melspectrogram(X, sr=sample_rate).T,axis=0)\n"
     ]
    },
    {
     "name": "stdout",
     "output_type": "stream",
     "text": [
      "03-01-05-02-01-01-08.wav\n",
      "03-01-05-02-01-02-08.wav\n"
     ]
    },
    {
     "name": "stderr",
     "output_type": "stream",
     "text": [
      "<ipython-input-2-2161fc353d88>:20: FutureWarning: Pass y=[ 0.00018311  0.00018311  0.00015259 ... -0.00015259 -0.00015259\n",
      " -0.00018311] as keyword args. From version 0.10 passing these as positional arguments will result in an error\n",
      "  mel = np.mean(librosa.feature.melspectrogram(X, sr=sample_rate).T,axis=0)\n",
      "<ipython-input-2-2161fc353d88>:20: FutureWarning: Pass y=[0.0000000e+00 0.0000000e+00 0.0000000e+00 ... 3.0517578e-05 3.0517578e-05\n",
      " 3.0517578e-05] as keyword args. From version 0.10 passing these as positional arguments will result in an error\n",
      "  mel = np.mean(librosa.feature.melspectrogram(X, sr=sample_rate).T,axis=0)\n",
      "<ipython-input-2-2161fc353d88>:20: FutureWarning: Pass y=[1.5258789e-04 9.1552734e-05 1.2207031e-04 ... 0.0000000e+00 0.0000000e+00\n",
      " 0.0000000e+00] as keyword args. From version 0.10 passing these as positional arguments will result in an error\n",
      "  mel = np.mean(librosa.feature.melspectrogram(X, sr=sample_rate).T,axis=0)\n"
     ]
    },
    {
     "name": "stdout",
     "output_type": "stream",
     "text": [
      "03-01-05-02-02-01-08.wav\n",
      "03-01-05-02-02-02-08.wav\n"
     ]
    },
    {
     "name": "stderr",
     "output_type": "stream",
     "text": [
      "<ipython-input-2-2161fc353d88>:20: FutureWarning: Pass y=[1.8310547e-04 1.5258789e-04 2.1362305e-04 ... 3.0517578e-05 3.0517578e-05\n",
      " 3.0517578e-05] as keyword args. From version 0.10 passing these as positional arguments will result in an error\n",
      "  mel = np.mean(librosa.feature.melspectrogram(X, sr=sample_rate).T,axis=0)\n",
      "<ipython-input-2-2161fc353d88>:20: FutureWarning: Pass y=[ 8.8500977e-04  8.5449219e-04  8.5449219e-04 ... -6.1035156e-05\n",
      " -3.0517578e-05 -3.0517578e-05] as keyword args. From version 0.10 passing these as positional arguments will result in an error\n",
      "  mel = np.mean(librosa.feature.melspectrogram(X, sr=sample_rate).T,axis=0)\n"
     ]
    },
    {
     "name": "stdout",
     "output_type": "stream",
     "text": [
      "03-01-06-01-01-01-08.wav\n",
      "03-01-06-01-01-02-08.wav\n",
      "03-01-06-01-02-01-08.wav\n",
      "03-01-06-01-02-02-08.wav\n",
      "03-01-06-02-01-01-08.wav\n",
      "03-01-06-02-01-02-08.wav\n",
      "03-01-06-02-02-01-08.wav\n",
      "03-01-06-02-02-02-08.wav\n",
      "03-01-07-01-01-01-08.wav\n",
      "03-01-07-01-01-02-08.wav\n",
      "03-01-07-01-02-01-08.wav\n",
      "03-01-07-01-02-02-08.wav\n",
      "03-01-07-02-01-01-08.wav\n",
      "03-01-07-02-01-02-08.wav\n",
      "03-01-07-02-02-01-08.wav\n",
      "03-01-07-02-02-02-08.wav\n",
      "03-01-08-01-01-01-08.wav\n",
      "03-01-08-01-01-02-08.wav\n",
      "03-01-08-01-02-01-08.wav\n",
      "03-01-08-01-02-02-08.wav\n",
      "03-01-08-02-01-01-08.wav\n",
      "03-01-08-02-01-02-08.wav\n",
      "03-01-08-02-02-01-08.wav\n",
      "03-01-08-02-02-02-08.wav\n",
      "03-01-01-01-01-01-09.wav\n",
      "03-01-01-01-01-02-09.wav\n",
      "03-01-01-01-02-01-09.wav\n",
      "03-01-01-01-02-02-09.wav\n",
      "03-01-02-01-01-01-09.wav\n",
      "03-01-02-01-01-02-09.wav\n",
      "03-01-02-01-02-01-09.wav\n",
      "03-01-02-01-02-02-09.wav\n",
      "03-01-02-02-01-01-09.wav\n",
      "03-01-02-02-01-02-09.wav\n",
      "03-01-02-02-02-01-09.wav\n",
      "03-01-02-02-02-02-09.wav\n",
      "03-01-03-01-01-01-09.wav\n",
      "03-01-03-01-01-02-09.wav\n"
     ]
    },
    {
     "name": "stderr",
     "output_type": "stream",
     "text": [
      "<ipython-input-2-2161fc353d88>:20: FutureWarning: Pass y=[ 9.1552734e-05  1.2207031e-04  9.1552734e-05 ... -3.0517578e-05\n",
      "  0.0000000e+00  0.0000000e+00] as keyword args. From version 0.10 passing these as positional arguments will result in an error\n",
      "  mel = np.mean(librosa.feature.melspectrogram(X, sr=sample_rate).T,axis=0)\n"
     ]
    },
    {
     "name": "stdout",
     "output_type": "stream",
     "text": [
      "03-01-03-01-02-01-09.wav\n",
      "03-01-03-01-02-02-09.wav\n",
      "03-01-03-02-01-01-09.wav\n"
     ]
    },
    {
     "name": "stderr",
     "output_type": "stream",
     "text": [
      "<ipython-input-2-2161fc353d88>:20: FutureWarning: Pass y=[0.00067139 0.0007019  0.00067139 ... 0.         0.         0.        ] as keyword args. From version 0.10 passing these as positional arguments will result in an error\n",
      "  mel = np.mean(librosa.feature.melspectrogram(X, sr=sample_rate).T,axis=0)\n"
     ]
    },
    {
     "name": "stdout",
     "output_type": "stream",
     "text": [
      "03-01-03-02-01-02-09.wav\n"
     ]
    },
    {
     "name": "stderr",
     "output_type": "stream",
     "text": [
      "<ipython-input-2-2161fc353d88>:20: FutureWarning: Pass y=[-6.1035156e-05 -6.1035156e-05 -6.1035156e-05 ... -9.1552734e-05\n",
      " -6.1035156e-05 -9.1552734e-05] as keyword args. From version 0.10 passing these as positional arguments will result in an error\n",
      "  mel = np.mean(librosa.feature.melspectrogram(X, sr=sample_rate).T,axis=0)\n",
      "<ipython-input-2-2161fc353d88>:20: FutureWarning: Pass y=[ 0.0000000e+00  0.0000000e+00  0.0000000e+00 ... -6.1035156e-05\n",
      " -6.1035156e-05 -9.1552734e-05] as keyword args. From version 0.10 passing these as positional arguments will result in an error\n",
      "  mel = np.mean(librosa.feature.melspectrogram(X, sr=sample_rate).T,axis=0)\n"
     ]
    },
    {
     "name": "stdout",
     "output_type": "stream",
     "text": [
      "03-01-03-02-02-01-09.wav\n",
      "03-01-03-02-02-02-09.wav\n",
      "03-01-04-01-01-01-09.wav\n"
     ]
    },
    {
     "name": "stderr",
     "output_type": "stream",
     "text": [
      "<ipython-input-2-2161fc353d88>:20: FutureWarning: Pass y=[-1.2207031e-04 -3.0517578e-05  0.0000000e+00 ... -9.1552734e-05\n",
      "  0.0000000e+00 -1.8310547e-04] as keyword args. From version 0.10 passing these as positional arguments will result in an error\n",
      "  mel = np.mean(librosa.feature.melspectrogram(X, sr=sample_rate).T,axis=0)\n"
     ]
    },
    {
     "name": "stdout",
     "output_type": "stream",
     "text": [
      "03-01-04-01-01-02-09.wav\n",
      "03-01-04-01-02-01-09.wav\n",
      "03-01-04-01-02-02-09.wav\n"
     ]
    },
    {
     "name": "stderr",
     "output_type": "stream",
     "text": [
      "<ipython-input-2-2161fc353d88>:20: FutureWarning: Pass y=[ 0.0000000e+00  0.0000000e+00 -3.0517578e-05 ... -3.0517578e-05\n",
      "  0.0000000e+00  0.0000000e+00] as keyword args. From version 0.10 passing these as positional arguments will result in an error\n",
      "  mel = np.mean(librosa.feature.melspectrogram(X, sr=sample_rate).T,axis=0)\n",
      "<ipython-input-2-2161fc353d88>:20: FutureWarning: Pass y=[ 0.0000000e+00  0.0000000e+00  0.0000000e+00 ... -6.1035156e-05\n",
      " -6.1035156e-05 -3.0517578e-05] as keyword args. From version 0.10 passing these as positional arguments will result in an error\n",
      "  mel = np.mean(librosa.feature.melspectrogram(X, sr=sample_rate).T,axis=0)\n"
     ]
    },
    {
     "name": "stdout",
     "output_type": "stream",
     "text": [
      "03-01-04-02-01-01-09.wav\n",
      "03-01-04-02-01-02-09.wav\n"
     ]
    },
    {
     "name": "stderr",
     "output_type": "stream",
     "text": [
      "<ipython-input-2-2161fc353d88>:20: FutureWarning: Pass y=[-3.0517578e-05  0.0000000e+00  0.0000000e+00 ...  0.0000000e+00\n",
      "  3.0517578e-05  0.0000000e+00] as keyword args. From version 0.10 passing these as positional arguments will result in an error\n",
      "  mel = np.mean(librosa.feature.melspectrogram(X, sr=sample_rate).T,axis=0)\n"
     ]
    },
    {
     "name": "stdout",
     "output_type": "stream",
     "text": [
      "03-01-04-02-02-01-09.wav\n",
      "03-01-04-02-02-02-09.wav\n",
      "03-01-05-01-01-01-09.wav\n"
     ]
    },
    {
     "name": "stderr",
     "output_type": "stream",
     "text": [
      "<ipython-input-2-2161fc353d88>:20: FutureWarning: Pass y=[0.0000000e+00 0.0000000e+00 0.0000000e+00 ... 3.0517578e-05 3.0517578e-05\n",
      " 6.1035156e-05] as keyword args. From version 0.10 passing these as positional arguments will result in an error\n",
      "  mel = np.mean(librosa.feature.melspectrogram(X, sr=sample_rate).T,axis=0)\n"
     ]
    },
    {
     "name": "stdout",
     "output_type": "stream",
     "text": [
      "03-01-05-01-01-02-09.wav\n",
      "03-01-05-01-02-01-09.wav\n",
      "03-01-05-01-02-02-09.wav\n",
      "03-01-05-02-01-01-09.wav"
     ]
    },
    {
     "name": "stderr",
     "output_type": "stream",
     "text": [
      "<ipython-input-2-2161fc353d88>:20: FutureWarning: Pass y=[ 0.          0.          0.         ... -0.00012207 -0.00012207\n",
      " -0.00018311] as keyword args. From version 0.10 passing these as positional arguments will result in an error\n",
      "  mel = np.mean(librosa.feature.melspectrogram(X, sr=sample_rate).T,axis=0)\n",
      "<ipython-input-2-2161fc353d88>:20: FutureWarning: Pass y=[ 3.0517578e-05  0.0000000e+00  3.0517578e-05 ... -2.4414062e-04\n",
      " -3.3569336e-04 -1.8310547e-04] as keyword args. From version 0.10 passing these as positional arguments will result in an error\n",
      "  mel = np.mean(librosa.feature.melspectrogram(X, sr=sample_rate).T,axis=0)\n"
     ]
    },
    {
     "name": "stdout",
     "output_type": "stream",
     "text": [
      "\n",
      "03-01-05-02-01-02-09.wav\n"
     ]
    },
    {
     "name": "stderr",
     "output_type": "stream",
     "text": [
      "<ipython-input-2-2161fc353d88>:20: FutureWarning: Pass y=[ 3.0517578e-05  3.0517578e-05  0.0000000e+00 ... -2.4414062e-04\n",
      " -2.4414062e-04 -1.2207031e-04] as keyword args. From version 0.10 passing these as positional arguments will result in an error\n",
      "  mel = np.mean(librosa.feature.melspectrogram(X, sr=sample_rate).T,axis=0)\n",
      "<ipython-input-2-2161fc353d88>:20: FutureWarning: Pass y=[9.1552734e-05 9.1552734e-05 1.2207031e-04 ... 1.5258789e-04 1.5258789e-04\n",
      " 1.5258789e-04] as keyword args. From version 0.10 passing these as positional arguments will result in an error\n",
      "  mel = np.mean(librosa.feature.melspectrogram(X, sr=sample_rate).T,axis=0)\n"
     ]
    },
    {
     "name": "stdout",
     "output_type": "stream",
     "text": [
      "03-01-05-02-02-01-09.wav\n",
      "03-01-05-02-02-02-09.wav"
     ]
    },
    {
     "name": "stderr",
     "output_type": "stream",
     "text": [
      "<ipython-input-2-2161fc353d88>:20: FutureWarning: Pass y=[ 0.00018311  0.00033569  0.00042725 ... -0.00027466 -0.00033569\n",
      " -0.00036621] as keyword args. From version 0.10 passing these as positional arguments will result in an error\n",
      "  mel = np.mean(librosa.feature.melspectrogram(X, sr=sample_rate).T,axis=0)\n"
     ]
    },
    {
     "name": "stdout",
     "output_type": "stream",
     "text": [
      "\n",
      "03-01-06-01-01-01-09.wav\n",
      "03-01-06-01-01-02-09.wav\n",
      "03-01-06-01-02-01-09.wav\n",
      "03-01-06-01-02-02-09.wav\n",
      "03-01-06-02-01-01-09.wav\n",
      "03-01-06-02-01-02-09.wav\n",
      "03-01-06-02-02-01-09.wav\n",
      "03-01-06-02-02-02-09.wav\n",
      "03-01-07-01-01-01-09.wav\n",
      "03-01-07-01-01-02-09.wav\n",
      "03-01-07-01-02-01-09.wav\n",
      "03-01-07-01-02-02-09.wav\n",
      "03-01-07-02-01-01-09.wav\n",
      "03-01-07-02-01-02-09.wav\n",
      "03-01-07-02-02-01-09.wav\n",
      "03-01-07-02-02-02-09.wav\n",
      "03-01-08-01-01-01-09.wav\n",
      "03-01-08-01-01-02-09.wav\n",
      "03-01-08-01-02-01-09.wav\n",
      "03-01-08-01-02-02-09.wav\n",
      "03-01-08-02-01-01-09.wav\n",
      "03-01-08-02-01-02-09.wav\n",
      "03-01-08-02-02-01-09.wav\n",
      "03-01-08-02-02-02-09.wav\n",
      "03-01-01-01-01-01-10.wav\n"
     ]
    },
    {
     "name": "stderr",
     "output_type": "stream",
     "text": [
      "<ipython-input-2-2161fc353d88>:20: FutureWarning: Pass y=[6.1035156e-05 3.0517578e-05 6.1035156e-05 ... 3.0517578e-05 0.0000000e+00\n",
      " 3.0517578e-05] as keyword args. From version 0.10 passing these as positional arguments will result in an error\n",
      "  mel = np.mean(librosa.feature.melspectrogram(X, sr=sample_rate).T,axis=0)\n",
      "<ipython-input-2-2161fc353d88>:20: FutureWarning: Pass y=[ 3.0517578e-05 -6.1035156e-05 -6.1035156e-05 ...  6.1035156e-05\n",
      "  9.1552734e-05  6.1035156e-05] as keyword args. From version 0.10 passing these as positional arguments will result in an error\n",
      "  mel = np.mean(librosa.feature.melspectrogram(X, sr=sample_rate).T,axis=0)\n"
     ]
    },
    {
     "name": "stdout",
     "output_type": "stream",
     "text": [
      "03-01-01-01-01-02-10.wav\n",
      "03-01-01-01-02-01-10.wav\n"
     ]
    },
    {
     "name": "stderr",
     "output_type": "stream",
     "text": [
      "<ipython-input-2-2161fc353d88>:20: FutureWarning: Pass y=[-6.1035156e-05 -3.0517578e-05 -6.1035156e-05 ... -6.1035156e-05\n",
      " -3.0517578e-05  0.0000000e+00] as keyword args. From version 0.10 passing these as positional arguments will result in an error\n",
      "  mel = np.mean(librosa.feature.melspectrogram(X, sr=sample_rate).T,axis=0)\n",
      "<ipython-input-2-2161fc353d88>:20: FutureWarning: Pass y=[ 9.1552734e-05  9.1552734e-05  1.2207031e-04 ... -3.0517578e-05\n",
      "  0.0000000e+00  0.0000000e+00] as keyword args. From version 0.10 passing these as positional arguments will result in an error\n",
      "  mel = np.mean(librosa.feature.melspectrogram(X, sr=sample_rate).T,axis=0)\n"
     ]
    },
    {
     "name": "stdout",
     "output_type": "stream",
     "text": [
      "03-01-01-01-02-02-10.wav\n",
      "03-01-02-01-01-01-10.wav\n",
      "03-01-02-01-01-02-10.wav\n",
      "03-01-02-01-02-01-10.wav\n",
      "03-01-02-01-02-02-10.wav\n",
      "03-01-02-02-01-01-10.wav\n",
      "03-01-02-02-01-02-10.wav\n",
      "03-01-02-02-02-01-10.wav\n",
      "03-01-02-02-02-02-10.wav\n",
      "03-01-03-01-01-01-10.wav\n",
      "03-01-03-01-01-02-10.wav\n",
      "03-01-03-01-02-01-10.wav\n"
     ]
    },
    {
     "name": "stderr",
     "output_type": "stream",
     "text": [
      "<ipython-input-2-2161fc353d88>:20: FutureWarning: Pass y=[ 3.0517578e-05  3.0517578e-05  0.0000000e+00 ... -6.1035156e-05\n",
      " -9.1552734e-05 -6.1035156e-05] as keyword args. From version 0.10 passing these as positional arguments will result in an error\n",
      "  mel = np.mean(librosa.feature.melspectrogram(X, sr=sample_rate).T,axis=0)\n",
      "<ipython-input-2-2161fc353d88>:20: FutureWarning: Pass y=[ 0.0000000e+00  3.0517578e-05  0.0000000e+00 ... -3.0517578e-05\n",
      "  0.0000000e+00  6.1035156e-05] as keyword args. From version 0.10 passing these as positional arguments will result in an error\n",
      "  mel = np.mean(librosa.feature.melspectrogram(X, sr=sample_rate).T,axis=0)\n"
     ]
    },
    {
     "name": "stdout",
     "output_type": "stream",
     "text": [
      "03-01-03-01-02-02-10.wav\n",
      "03-01-03-02-01-01-10.wav\n"
     ]
    },
    {
     "name": "stderr",
     "output_type": "stream",
     "text": [
      "<ipython-input-2-2161fc353d88>:20: FutureWarning: Pass y=[-3.0517578e-05  0.0000000e+00  0.0000000e+00 ...  6.1035156e-05\n",
      " -2.7465820e-04 -4.2724609e-04] as keyword args. From version 0.10 passing these as positional arguments will result in an error\n",
      "  mel = np.mean(librosa.feature.melspectrogram(X, sr=sample_rate).T,axis=0)\n",
      "<ipython-input-2-2161fc353d88>:20: FutureWarning: Pass y=[-3.3569336e-04 -1.5258789e-04  0.0000000e+00 ...  9.1552734e-05\n",
      "  1.2207031e-04  9.1552734e-05] as keyword args. From version 0.10 passing these as positional arguments will result in an error\n",
      "  mel = np.mean(librosa.feature.melspectrogram(X, sr=sample_rate).T,axis=0)\n"
     ]
    },
    {
     "name": "stdout",
     "output_type": "stream",
     "text": [
      "03-01-03-02-01-02-10.wav\n",
      "03-01-03-02-02-01-10.wav\n"
     ]
    },
    {
     "name": "stderr",
     "output_type": "stream",
     "text": [
      "<ipython-input-2-2161fc353d88>:20: FutureWarning: Pass y=[-6.1035156e-05 -6.1035156e-05 -3.0517578e-05 ... -3.0517578e-05\n",
      " -6.1035156e-05 -3.0517578e-05] as keyword args. From version 0.10 passing these as positional arguments will result in an error\n",
      "  mel = np.mean(librosa.feature.melspectrogram(X, sr=sample_rate).T,axis=0)\n",
      "<ipython-input-2-2161fc353d88>:20: FutureWarning: Pass y=[ 3.0517578e-05  3.0517578e-05  3.0517578e-05 ... -6.1035156e-05\n",
      " -6.1035156e-05  0.0000000e+00] as keyword args. From version 0.10 passing these as positional arguments will result in an error\n",
      "  mel = np.mean(librosa.feature.melspectrogram(X, sr=sample_rate).T,axis=0)\n",
      "<ipython-input-2-2161fc353d88>:20: FutureWarning: Pass y=[ 0.0000000e+00 -3.0517578e-05 -3.0517578e-05 ...  3.0517578e-05\n",
      "  3.0517578e-05  0.0000000e+00] as keyword args. From version 0.10 passing these as positional arguments will result in an error\n",
      "  mel = np.mean(librosa.feature.melspectrogram(X, sr=sample_rate).T,axis=0)\n"
     ]
    },
    {
     "name": "stdout",
     "output_type": "stream",
     "text": [
      "03-01-03-02-02-02-10.wav\n",
      "03-01-04-01-01-01-10.wav"
     ]
    },
    {
     "name": "stderr",
     "output_type": "stream",
     "text": [
      "<ipython-input-2-2161fc353d88>:20: FutureWarning: Pass y=[ 9.1552734e-05  9.1552734e-05  9.1552734e-05 ... -9.1552734e-05\n",
      " -1.5258789e-04 -1.5258789e-04] as keyword args. From version 0.10 passing these as positional arguments will result in an error\n",
      "  mel = np.mean(librosa.feature.melspectrogram(X, sr=sample_rate).T,axis=0)\n"
     ]
    },
    {
     "name": "stdout",
     "output_type": "stream",
     "text": [
      "\n",
      "03-01-04-01-01-02-10.wav\n"
     ]
    },
    {
     "name": "stderr",
     "output_type": "stream",
     "text": [
      "<ipython-input-2-2161fc353d88>:20: FutureWarning: Pass y=[ 9.7656250e-04  1.6479492e-03  1.2207031e-03 ... -6.1035156e-05\n",
      " -3.0517578e-05 -3.0517578e-05] as keyword args. From version 0.10 passing these as positional arguments will result in an error\n",
      "  mel = np.mean(librosa.feature.melspectrogram(X, sr=sample_rate).T,axis=0)\n",
      "<ipython-input-2-2161fc353d88>:20: FutureWarning: Pass y=[-6.1035156e-05 -9.1552734e-05 -3.0517578e-05 ...  3.0517578e-05\n",
      "  0.0000000e+00  3.0517578e-05] as keyword args. From version 0.10 passing these as positional arguments will result in an error\n",
      "  mel = np.mean(librosa.feature.melspectrogram(X, sr=sample_rate).T,axis=0)\n"
     ]
    },
    {
     "name": "stdout",
     "output_type": "stream",
     "text": [
      "03-01-04-01-02-01-10.wav\n",
      "03-01-04-01-02-02-10.wav\n"
     ]
    },
    {
     "name": "stderr",
     "output_type": "stream",
     "text": [
      "<ipython-input-2-2161fc353d88>:20: FutureWarning: Pass y=[ 0.0000000e+00  0.0000000e+00 -6.1035156e-05 ...  0.0000000e+00\n",
      "  0.0000000e+00  3.0517578e-05] as keyword args. From version 0.10 passing these as positional arguments will result in an error\n",
      "  mel = np.mean(librosa.feature.melspectrogram(X, sr=sample_rate).T,axis=0)\n",
      "<ipython-input-2-2161fc353d88>:20: FutureWarning: Pass y=[ 3.0517578e-05  0.0000000e+00 -3.0517578e-05 ...  0.0000000e+00\n",
      "  0.0000000e+00  3.0517578e-05] as keyword args. From version 0.10 passing these as positional arguments will result in an error\n",
      "  mel = np.mean(librosa.feature.melspectrogram(X, sr=sample_rate).T,axis=0)\n"
     ]
    },
    {
     "name": "stdout",
     "output_type": "stream",
     "text": [
      "03-01-04-02-01-01-10.wav\n",
      "03-01-04-02-01-02-10.wav\n",
      "03-01-04-02-02-01-10.wav\n"
     ]
    },
    {
     "name": "stderr",
     "output_type": "stream",
     "text": [
      "<ipython-input-2-2161fc353d88>:20: FutureWarning: Pass y=[0.0000000e+00 9.1552734e-05 3.0517578e-05 ... 6.1035156e-05 0.0000000e+00\n",
      " 3.0517578e-05] as keyword args. From version 0.10 passing these as positional arguments will result in an error\n",
      "  mel = np.mean(librosa.feature.melspectrogram(X, sr=sample_rate).T,axis=0)\n",
      "<ipython-input-2-2161fc353d88>:20: FutureWarning: Pass y=[3.0517578e-04 3.6621094e-04 3.0517578e-04 ... 3.0517578e-05 0.0000000e+00\n",
      " 3.0517578e-05] as keyword args. From version 0.10 passing these as positional arguments will result in an error\n",
      "  mel = np.mean(librosa.feature.melspectrogram(X, sr=sample_rate).T,axis=0)\n"
     ]
    },
    {
     "name": "stdout",
     "output_type": "stream",
     "text": [
      "03-01-04-02-02-02-10.wav\n",
      "03-01-05-01-01-01-10.wav\n"
     ]
    },
    {
     "name": "stderr",
     "output_type": "stream",
     "text": [
      "<ipython-input-2-2161fc353d88>:20: FutureWarning: Pass y=[ 0.0000000e+00  3.0517578e-05  3.0517578e-05 ... -6.1035156e-05\n",
      " -3.0517578e-05 -6.1035156e-05] as keyword args. From version 0.10 passing these as positional arguments will result in an error\n",
      "  mel = np.mean(librosa.feature.melspectrogram(X, sr=sample_rate).T,axis=0)\n",
      "<ipython-input-2-2161fc353d88>:20: FutureWarning: Pass y=[-3.0517578e-05 -2.1362305e-04  0.0000000e+00 ...  0.0000000e+00\n",
      "  0.0000000e+00  0.0000000e+00] as keyword args. From version 0.10 passing these as positional arguments will result in an error\n",
      "  mel = np.mean(librosa.feature.melspectrogram(X, sr=sample_rate).T,axis=0)\n"
     ]
    },
    {
     "name": "stdout",
     "output_type": "stream",
     "text": [
      "03-01-05-01-01-02-10.wav\n",
      "03-01-05-01-02-01-10.wav\n"
     ]
    },
    {
     "name": "stderr",
     "output_type": "stream",
     "text": [
      "<ipython-input-2-2161fc353d88>:20: FutureWarning: Pass y=[ 0.0000000e+00  0.0000000e+00 -3.0517578e-05 ...  3.0517578e-05\n",
      "  3.0517578e-05  3.0517578e-05] as keyword args. From version 0.10 passing these as positional arguments will result in an error\n",
      "  mel = np.mean(librosa.feature.melspectrogram(X, sr=sample_rate).T,axis=0)\n",
      "<ipython-input-2-2161fc353d88>:20: FutureWarning: Pass y=[3.9672852e-04 6.4086914e-04 6.1035156e-04 ... 6.1035156e-05 3.0517578e-05\n",
      " 3.0517578e-05] as keyword args. From version 0.10 passing these as positional arguments will result in an error\n",
      "  mel = np.mean(librosa.feature.melspectrogram(X, sr=sample_rate).T,axis=0)\n"
     ]
    },
    {
     "name": "stdout",
     "output_type": "stream",
     "text": [
      "03-01-05-01-02-02-10.wav\n",
      "03-01-05-02-01-01-10.wav\n",
      "03-01-05-02-01-02-10.wav\n"
     ]
    },
    {
     "name": "stderr",
     "output_type": "stream",
     "text": [
      "<ipython-input-2-2161fc353d88>:20: FutureWarning: Pass y=[-9.1552734e-05  3.0517578e-05  1.2207031e-04 ...  0.0000000e+00\n",
      "  0.0000000e+00  3.0517578e-05] as keyword args. From version 0.10 passing these as positional arguments will result in an error\n",
      "  mel = np.mean(librosa.feature.melspectrogram(X, sr=sample_rate).T,axis=0)\n",
      "<ipython-input-2-2161fc353d88>:20: FutureWarning: Pass y=[0.00015259 0.00015259 0.00015259 ... 0.         0.         0.        ] as keyword args. From version 0.10 passing these as positional arguments will result in an error\n",
      "  mel = np.mean(librosa.feature.melspectrogram(X, sr=sample_rate).T,axis=0)\n"
     ]
    },
    {
     "name": "stdout",
     "output_type": "stream",
     "text": [
      "03-01-05-02-02-01-10.wav\n",
      "03-01-05-02-02-02-10.wav\n"
     ]
    },
    {
     "name": "stderr",
     "output_type": "stream",
     "text": [
      "<ipython-input-2-2161fc353d88>:20: FutureWarning: Pass y=[-3.0517578e-05 -3.0517578e-05  0.0000000e+00 ...  0.0000000e+00\n",
      " -3.0517578e-05  0.0000000e+00] as keyword args. From version 0.10 passing these as positional arguments will result in an error\n",
      "  mel = np.mean(librosa.feature.melspectrogram(X, sr=sample_rate).T,axis=0)\n",
      "<ipython-input-2-2161fc353d88>:20: FutureWarning: Pass y=[-1.2207031e-04 -9.1552734e-05  0.0000000e+00 ... -3.0517578e-05\n",
      "  0.0000000e+00  9.1552734e-05] as keyword args. From version 0.10 passing these as positional arguments will result in an error\n",
      "  mel = np.mean(librosa.feature.melspectrogram(X, sr=sample_rate).T,axis=0)\n",
      "<ipython-input-2-2161fc353d88>:20: FutureWarning: Pass y=[0.0000000e+00 0.0000000e+00 0.0000000e+00 ... 3.0517578e-05 6.1035156e-05\n",
      " 3.0517578e-05] as keyword args. From version 0.10 passing these as positional arguments will result in an error\n",
      "  mel = np.mean(librosa.feature.melspectrogram(X, sr=sample_rate).T,axis=0)\n"
     ]
    },
    {
     "name": "stdout",
     "output_type": "stream",
     "text": [
      "03-01-06-01-01-01-10.wav\n",
      "03-01-06-01-01-02-10.wav\n",
      "03-01-06-01-02-01-10.wav\n",
      "03-01-06-01-02-02-10.wav\n",
      "03-01-06-02-01-01-10.wav\n",
      "03-01-06-02-01-02-10.wav\n",
      "03-01-06-02-02-01-10.wav\n",
      "03-01-06-02-02-02-10.wav\n",
      "03-01-07-01-01-01-10.wav\n",
      "03-01-07-01-01-02-10.wav\n",
      "03-01-07-01-02-01-10.wav\n",
      "03-01-07-01-02-02-10.wav\n",
      "03-01-07-02-01-01-10.wav\n",
      "03-01-07-02-01-02-10.wav\n",
      "03-01-07-02-02-01-10.wav\n",
      "03-01-07-02-02-02-10.wav\n",
      "03-01-08-01-01-01-10.wav\n",
      "03-01-08-01-01-02-10.wav\n",
      "03-01-08-01-02-01-10.wav\n",
      "03-01-08-01-02-02-10.wav\n",
      "03-01-08-02-01-01-10.wav\n",
      "03-01-08-02-01-02-10.wav\n",
      "03-01-08-02-02-01-10.wav\n",
      "03-01-08-02-02-02-10.wav\n",
      "03-01-01-01-01-01-11.wav\n",
      "03-01-01-01-01-02-11.wav\n",
      "03-01-01-01-02-01-11.wav\n",
      "03-01-01-01-02-02-11.wav\n",
      "03-01-02-01-01-01-11.wav\n",
      "03-01-02-01-01-02-11.wav\n",
      "03-01-02-01-02-01-11.wav\n",
      "03-01-02-01-02-02-11.wav\n",
      "03-01-02-02-01-01-11.wav\n",
      "03-01-02-02-01-02-11.wav\n",
      "03-01-02-02-02-01-11.wav\n",
      "03-01-02-02-02-02-11.wav\n",
      "03-01-03-01-01-01-11.wav\n"
     ]
    },
    {
     "name": "stderr",
     "output_type": "stream",
     "text": [
      "<ipython-input-2-2161fc353d88>:20: FutureWarning: Pass y=[-6.1035156e-05 -6.1035156e-05 -6.1035156e-05 ...  4.5776367e-04\n",
      "  4.5776367e-04  4.5776367e-04] as keyword args. From version 0.10 passing these as positional arguments will result in an error\n",
      "  mel = np.mean(librosa.feature.melspectrogram(X, sr=sample_rate).T,axis=0)\n",
      "<ipython-input-2-2161fc353d88>:20: FutureWarning: Pass y=[-9.1552734e-05 -9.1552734e-05 -6.1035156e-05 ... -6.1035156e-05\n",
      " -6.1035156e-05 -3.0517578e-05] as keyword args. From version 0.10 passing these as positional arguments will result in an error\n",
      "  mel = np.mean(librosa.feature.melspectrogram(X, sr=sample_rate).T,axis=0)\n",
      "<ipython-input-2-2161fc353d88>:20: FutureWarning: Pass y=[ 3.0517578e-05  0.0000000e+00  3.0517578e-05 ... -3.0517578e-05\n",
      " -6.1035156e-05 -3.0517578e-05] as keyword args. From version 0.10 passing these as positional arguments will result in an error\n",
      "  mel = np.mean(librosa.feature.melspectrogram(X, sr=sample_rate).T,axis=0)\n"
     ]
    },
    {
     "name": "stdout",
     "output_type": "stream",
     "text": [
      "03-01-03-01-01-02-11.wav\n",
      "03-01-03-01-02-01-11.wav\n"
     ]
    },
    {
     "name": "stderr",
     "output_type": "stream",
     "text": [
      "<ipython-input-2-2161fc353d88>:20: FutureWarning: Pass y=[3.0517578e-05 3.0517578e-05 6.1035156e-05 ... 3.0517578e-05 6.1035156e-05\n",
      " 6.1035156e-05] as keyword args. From version 0.10 passing these as positional arguments will result in an error\n",
      "  mel = np.mean(librosa.feature.melspectrogram(X, sr=sample_rate).T,axis=0)\n"
     ]
    },
    {
     "name": "stdout",
     "output_type": "stream",
     "text": [
      "03-01-03-01-02-02-11.wav\n",
      "03-01-03-02-01-01-11.wav\n",
      "03-01-03-02-01-02-11.wav\n"
     ]
    },
    {
     "name": "stderr",
     "output_type": "stream",
     "text": [
      "<ipython-input-2-2161fc353d88>:20: FutureWarning: Pass y=[0.0000000e+00 0.0000000e+00 0.0000000e+00 ... 9.1552734e-05 9.1552734e-05\n",
      " 1.2207031e-04] as keyword args. From version 0.10 passing these as positional arguments will result in an error\n",
      "  mel = np.mean(librosa.feature.melspectrogram(X, sr=sample_rate).T,axis=0)\n",
      "<ipython-input-2-2161fc353d88>:20: FutureWarning: Pass y=[ 0.0000000e+00  0.0000000e+00 -3.0517578e-05 ...  1.8310547e-04\n",
      "  1.2207031e-04  9.1552734e-05] as keyword args. From version 0.10 passing these as positional arguments will result in an error\n",
      "  mel = np.mean(librosa.feature.melspectrogram(X, sr=sample_rate).T,axis=0)\n"
     ]
    },
    {
     "name": "stdout",
     "output_type": "stream",
     "text": [
      "03-01-03-02-02-01-11.wav\n",
      "03-01-03-02-02-02-11.wav\n"
     ]
    },
    {
     "name": "stderr",
     "output_type": "stream",
     "text": [
      "<ipython-input-2-2161fc353d88>:20: FutureWarning: Pass y=[3.0517578e-05 0.0000000e+00 0.0000000e+00 ... 9.1552734e-05 1.2207031e-04\n",
      " 9.1552734e-05] as keyword args. From version 0.10 passing these as positional arguments will result in an error\n",
      "  mel = np.mean(librosa.feature.melspectrogram(X, sr=sample_rate).T,axis=0)\n",
      "<ipython-input-2-2161fc353d88>:20: FutureWarning: Pass y=[0.00012207 0.00012207 0.00012207 ... 0.00018311 0.00018311 0.00018311] as keyword args. From version 0.10 passing these as positional arguments will result in an error\n",
      "  mel = np.mean(librosa.feature.melspectrogram(X, sr=sample_rate).T,axis=0)\n"
     ]
    },
    {
     "name": "stdout",
     "output_type": "stream",
     "text": [
      "03-01-04-01-01-01-11.wav\n",
      "03-01-04-01-01-02-11.wav\n"
     ]
    },
    {
     "name": "stderr",
     "output_type": "stream",
     "text": [
      "<ipython-input-2-2161fc353d88>:20: FutureWarning: Pass y=[ 1.2207031e-04  1.5258789e-04  1.5258789e-04 ... -6.1035156e-05\n",
      " -9.1552734e-05 -9.1552734e-05] as keyword args. From version 0.10 passing these as positional arguments will result in an error\n",
      "  mel = np.mean(librosa.feature.melspectrogram(X, sr=sample_rate).T,axis=0)\n"
     ]
    },
    {
     "name": "stdout",
     "output_type": "stream",
     "text": [
      "03-01-04-01-02-01-11.wav\n",
      "03-01-04-01-02-02-11.wav\n"
     ]
    },
    {
     "name": "stderr",
     "output_type": "stream",
     "text": [
      "<ipython-input-2-2161fc353d88>:20: FutureWarning: Pass y=[-6.1035156e-05 -9.1552734e-05 -3.0517578e-05 ...  0.0000000e+00\n",
      "  0.0000000e+00  0.0000000e+00] as keyword args. From version 0.10 passing these as positional arguments will result in an error\n",
      "  mel = np.mean(librosa.feature.melspectrogram(X, sr=sample_rate).T,axis=0)\n",
      "<ipython-input-2-2161fc353d88>:20: FutureWarning: Pass y=[-3.0517578e-05 -3.0517578e-05 -6.1035156e-05 ...  0.0000000e+00\n",
      "  0.0000000e+00  3.0517578e-05] as keyword args. From version 0.10 passing these as positional arguments will result in an error\n",
      "  mel = np.mean(librosa.feature.melspectrogram(X, sr=sample_rate).T,axis=0)\n"
     ]
    },
    {
     "name": "stdout",
     "output_type": "stream",
     "text": [
      "03-01-04-02-01-01-11.wav\n",
      "03-01-04-02-01-02-11.wav\n",
      "03-01-04-02-02-01-11.wav\n",
      "03-01-04-02-02-02-11.wav\n"
     ]
    },
    {
     "name": "stderr",
     "output_type": "stream",
     "text": [
      "<ipython-input-2-2161fc353d88>:20: FutureWarning: Pass y=[ 3.0517578e-05  0.0000000e+00  3.0517578e-05 ... -9.1552734e-05\n",
      " -9.1552734e-05 -9.1552734e-05] as keyword args. From version 0.10 passing these as positional arguments will result in an error\n",
      "  mel = np.mean(librosa.feature.melspectrogram(X, sr=sample_rate).T,axis=0)\n"
     ]
    },
    {
     "name": "stdout",
     "output_type": "stream",
     "text": [
      "03-01-05-01-01-01-11.wav\n",
      "03-01-05-01-01-02-11.wav\n"
     ]
    },
    {
     "name": "stderr",
     "output_type": "stream",
     "text": [
      "<ipython-input-2-2161fc353d88>:20: FutureWarning: Pass y=[6.1035156e-05 6.1035156e-05 9.1552734e-05 ... 3.0517578e-05 3.0517578e-05\n",
      " 3.0517578e-05] as keyword args. From version 0.10 passing these as positional arguments will result in an error\n",
      "  mel = np.mean(librosa.feature.melspectrogram(X, sr=sample_rate).T,axis=0)\n",
      "<ipython-input-2-2161fc353d88>:20: FutureWarning: Pass y=[ 0.0000000e+00  3.0517578e-05  0.0000000e+00 ... -3.0517578e-05\n",
      " -3.0517578e-05  0.0000000e+00] as keyword args. From version 0.10 passing these as positional arguments will result in an error\n",
      "  mel = np.mean(librosa.feature.melspectrogram(X, sr=sample_rate).T,axis=0)\n"
     ]
    },
    {
     "name": "stdout",
     "output_type": "stream",
     "text": [
      "03-01-05-01-02-01-11.wav\n",
      "03-01-05-01-02-02-11.wav\n"
     ]
    },
    {
     "name": "stderr",
     "output_type": "stream",
     "text": [
      "<ipython-input-2-2161fc353d88>:20: FutureWarning: Pass y=[-1.5258789e-04 -1.2207031e-04 -1.5258789e-04 ...  9.1552734e-05\n",
      "  1.2207031e-04  9.1552734e-05] as keyword args. From version 0.10 passing these as positional arguments will result in an error\n",
      "  mel = np.mean(librosa.feature.melspectrogram(X, sr=sample_rate).T,axis=0)\n"
     ]
    },
    {
     "name": "stdout",
     "output_type": "stream",
     "text": [
      "03-01-05-02-01-01-11.wav\n",
      "03-01-05-02-01-02-11.wav"
     ]
    },
    {
     "name": "stderr",
     "output_type": "stream",
     "text": [
      "<ipython-input-2-2161fc353d88>:20: FutureWarning: Pass y=[-3.0517578e-05 -6.1035156e-05 -3.0517578e-05 ...  6.1035156e-05\n",
      "  3.0517578e-05  6.1035156e-05] as keyword args. From version 0.10 passing these as positional arguments will result in an error\n",
      "  mel = np.mean(librosa.feature.melspectrogram(X, sr=sample_rate).T,axis=0)\n"
     ]
    },
    {
     "name": "stdout",
     "output_type": "stream",
     "text": [
      "\n",
      "03-01-05-02-02-01-11.wav\n"
     ]
    },
    {
     "name": "stderr",
     "output_type": "stream",
     "text": [
      "<ipython-input-2-2161fc353d88>:20: FutureWarning: Pass y=[ 0.          0.          0.         ... -0.00027466 -0.00027466\n",
      " -0.00027466] as keyword args. From version 0.10 passing these as positional arguments will result in an error\n",
      "  mel = np.mean(librosa.feature.melspectrogram(X, sr=sample_rate).T,axis=0)\n",
      "<ipython-input-2-2161fc353d88>:20: FutureWarning: Pass y=[-6.1035156e-05 -1.2207031e-04 -1.5258789e-04 ... -9.1552734e-05\n",
      " -9.1552734e-05 -1.2207031e-04] as keyword args. From version 0.10 passing these as positional arguments will result in an error\n",
      "  mel = np.mean(librosa.feature.melspectrogram(X, sr=sample_rate).T,axis=0)\n"
     ]
    },
    {
     "name": "stdout",
     "output_type": "stream",
     "text": [
      "03-01-05-02-02-02-11.wav\n",
      "03-01-06-01-01-01-11.wav\n",
      "03-01-06-01-01-02-11.wav\n",
      "03-01-06-01-02-01-11.wav\n",
      "03-01-06-01-02-02-11.wav\n",
      "03-01-06-02-01-01-11.wav\n",
      "03-01-06-02-01-02-11.wav\n",
      "03-01-06-02-02-01-11.wav\n",
      "03-01-06-02-02-02-11.wav\n",
      "03-01-07-01-01-01-11.wav\n",
      "03-01-07-01-01-02-11.wav\n",
      "03-01-07-01-02-01-11.wav\n",
      "03-01-07-01-02-02-11.wav\n",
      "03-01-07-02-01-01-11.wav\n",
      "03-01-07-02-01-02-11.wav\n",
      "03-01-07-02-02-01-11.wav\n",
      "03-01-07-02-02-02-11.wav\n",
      "03-01-08-01-01-01-11.wav\n",
      "03-01-08-01-01-02-11.wav\n",
      "03-01-08-01-02-01-11.wav\n",
      "03-01-08-01-02-02-11.wav\n",
      "03-01-08-02-01-01-11.wav\n",
      "03-01-08-02-01-02-11.wav\n",
      "03-01-08-02-02-01-11.wav\n",
      "03-01-08-02-02-02-11.wav\n",
      "03-01-01-01-01-01-12.wav\n",
      "03-01-01-01-01-02-12.wav\n",
      "03-01-01-01-02-01-12.wav\n",
      "03-01-01-01-02-02-12.wav\n",
      "03-01-02-01-01-01-12.wav\n",
      "03-01-02-01-01-02-12.wav\n",
      "03-01-02-01-02-01-12.wav\n",
      "03-01-02-01-02-02-12.wav\n",
      "03-01-02-02-01-01-12.wav\n",
      "03-01-02-02-01-02-12.wav\n",
      "03-01-02-02-02-01-12.wav\n",
      "03-01-02-02-02-02-12.wav\n",
      "03-01-03-01-01-01-12.wav\n",
      "03-01-03-01-01-02-12.wav\n"
     ]
    },
    {
     "name": "stderr",
     "output_type": "stream",
     "text": [
      "<ipython-input-2-2161fc353d88>:20: FutureWarning: Pass y=[ 3.0517578e-05  0.0000000e+00  0.0000000e+00 ... -3.0517578e-05\n",
      "  0.0000000e+00  3.0517578e-05] as keyword args. From version 0.10 passing these as positional arguments will result in an error\n",
      "  mel = np.mean(librosa.feature.melspectrogram(X, sr=sample_rate).T,axis=0)\n"
     ]
    },
    {
     "name": "stdout",
     "output_type": "stream",
     "text": [
      "03-01-03-01-02-01-12.wav\n",
      "03-01-03-01-02-02-12.wav\n"
     ]
    },
    {
     "name": "stderr",
     "output_type": "stream",
     "text": [
      "<ipython-input-2-2161fc353d88>:20: FutureWarning: Pass y=[0.0000000e+00 0.0000000e+00 0.0000000e+00 ... 3.0517578e-05 3.0517578e-05\n",
      " 9.1552734e-05] as keyword args. From version 0.10 passing these as positional arguments will result in an error\n",
      "  mel = np.mean(librosa.feature.melspectrogram(X, sr=sample_rate).T,axis=0)\n",
      "<ipython-input-2-2161fc353d88>:20: FutureWarning: Pass y=[ 0.0000000e+00  0.0000000e+00 -3.0517578e-05 ...  3.0517578e-05\n",
      "  0.0000000e+00  6.1035156e-05] as keyword args. From version 0.10 passing these as positional arguments will result in an error\n",
      "  mel = np.mean(librosa.feature.melspectrogram(X, sr=sample_rate).T,axis=0)\n"
     ]
    },
    {
     "name": "stdout",
     "output_type": "stream",
     "text": [
      "03-01-03-02-01-01-12.wav\n",
      "03-01-03-02-01-02-12.wav\n"
     ]
    },
    {
     "name": "stderr",
     "output_type": "stream",
     "text": [
      "<ipython-input-2-2161fc353d88>:20: FutureWarning: Pass y=[ 0.          0.          0.         ... -0.00021362 -0.00024414\n",
      " -0.00027466] as keyword args. From version 0.10 passing these as positional arguments will result in an error\n",
      "  mel = np.mean(librosa.feature.melspectrogram(X, sr=sample_rate).T,axis=0)\n",
      "<ipython-input-2-2161fc353d88>:20: FutureWarning: Pass y=[ 0.0000000e+00  0.0000000e+00  0.0000000e+00 ... -3.0517578e-05\n",
      " -3.0517578e-05 -6.1035156e-05] as keyword args. From version 0.10 passing these as positional arguments will result in an error\n",
      "  mel = np.mean(librosa.feature.melspectrogram(X, sr=sample_rate).T,axis=0)\n"
     ]
    },
    {
     "name": "stdout",
     "output_type": "stream",
     "text": [
      "03-01-03-02-02-01-12.wav\n",
      "03-01-03-02-02-02-12.wav\n",
      "03-01-04-01-01-01-12.wav\n"
     ]
    },
    {
     "name": "stderr",
     "output_type": "stream",
     "text": [
      "<ipython-input-2-2161fc353d88>:20: FutureWarning: Pass y=[-3.0517578e-05 -3.0517578e-05  0.0000000e+00 ...  0.0000000e+00\n",
      "  0.0000000e+00  0.0000000e+00] as keyword args. From version 0.10 passing these as positional arguments will result in an error\n",
      "  mel = np.mean(librosa.feature.melspectrogram(X, sr=sample_rate).T,axis=0)\n"
     ]
    },
    {
     "name": "stdout",
     "output_type": "stream",
     "text": [
      "03-01-04-01-01-02-12.wav\n",
      "03-01-04-01-02-01-12.wav\n"
     ]
    },
    {
     "name": "stderr",
     "output_type": "stream",
     "text": [
      "<ipython-input-2-2161fc353d88>:20: FutureWarning: Pass y=[ 0.0000000e+00 -3.0517578e-05  0.0000000e+00 ... -3.0212402e-03\n",
      " -2.9907227e-03 -3.0212402e-03] as keyword args. From version 0.10 passing these as positional arguments will result in an error\n",
      "  mel = np.mean(librosa.feature.melspectrogram(X, sr=sample_rate).T,axis=0)\n",
      "<ipython-input-2-2161fc353d88>:20: FutureWarning: Pass y=[ 0.0000000e+00  0.0000000e+00  0.0000000e+00 ... -6.1035156e-05\n",
      "  0.0000000e+00  0.0000000e+00] as keyword args. From version 0.10 passing these as positional arguments will result in an error\n",
      "  mel = np.mean(librosa.feature.melspectrogram(X, sr=sample_rate).T,axis=0)\n",
      "<ipython-input-2-2161fc353d88>:20: FutureWarning: Pass y=[0.00012207 0.00015259 0.00015259 ... 0.         0.         0.        ] as keyword args. From version 0.10 passing these as positional arguments will result in an error\n",
      "  mel = np.mean(librosa.feature.melspectrogram(X, sr=sample_rate).T,axis=0)\n"
     ]
    },
    {
     "name": "stdout",
     "output_type": "stream",
     "text": [
      "03-01-04-01-02-02-12.wav\n",
      "03-01-04-02-01-01-12.wav\n"
     ]
    },
    {
     "name": "stderr",
     "output_type": "stream",
     "text": [
      "<ipython-input-2-2161fc353d88>:20: FutureWarning: Pass y=[0.00033569 0.00033569 0.00033569 ... 0.         0.         0.        ] as keyword args. From version 0.10 passing these as positional arguments will result in an error\n",
      "  mel = np.mean(librosa.feature.melspectrogram(X, sr=sample_rate).T,axis=0)\n",
      "<ipython-input-2-2161fc353d88>:20: FutureWarning: Pass y=[0.0000000e+00 0.0000000e+00 0.0000000e+00 ... 0.0000000e+00 6.1035156e-05\n",
      " 0.0000000e+00] as keyword args. From version 0.10 passing these as positional arguments will result in an error\n",
      "  mel = np.mean(librosa.feature.melspectrogram(X, sr=sample_rate).T,axis=0)\n"
     ]
    },
    {
     "name": "stdout",
     "output_type": "stream",
     "text": [
      "03-01-04-02-01-02-12.wav\n",
      "03-01-04-02-02-01-12.wav\n"
     ]
    },
    {
     "name": "stderr",
     "output_type": "stream",
     "text": [
      "<ipython-input-2-2161fc353d88>:20: FutureWarning: Pass y=[ 0.          0.          0.         ... -0.00161743 -0.00158691\n",
      " -0.0015564 ] as keyword args. From version 0.10 passing these as positional arguments will result in an error\n",
      "  mel = np.mean(librosa.feature.melspectrogram(X, sr=sample_rate).T,axis=0)\n"
     ]
    },
    {
     "name": "stdout",
     "output_type": "stream",
     "text": [
      "03-01-04-02-02-02-12.wav\n",
      "03-01-05-01-01-01-12.wav\n",
      "03-01-05-01-01-02-12.wav\n"
     ]
    },
    {
     "name": "stderr",
     "output_type": "stream",
     "text": [
      "<ipython-input-2-2161fc353d88>:20: FutureWarning: Pass y=[ 0.0000000e+00  0.0000000e+00  0.0000000e+00 ... -3.0517578e-05\n",
      " -6.1035156e-05 -6.1035156e-05] as keyword args. From version 0.10 passing these as positional arguments will result in an error\n",
      "  mel = np.mean(librosa.feature.melspectrogram(X, sr=sample_rate).T,axis=0)\n",
      "<ipython-input-2-2161fc353d88>:20: FutureWarning: Pass y=[ 0.0000000e+00  3.0517578e-05  3.0517578e-05 ... -6.1035156e-05\n",
      " -6.1035156e-05 -3.0517578e-05] as keyword args. From version 0.10 passing these as positional arguments will result in an error\n",
      "  mel = np.mean(librosa.feature.melspectrogram(X, sr=sample_rate).T,axis=0)\n"
     ]
    },
    {
     "name": "stdout",
     "output_type": "stream",
     "text": [
      "03-01-05-01-02-01-12.wav\n",
      "03-01-05-01-02-02-12.wav\n"
     ]
    },
    {
     "name": "stderr",
     "output_type": "stream",
     "text": [
      "<ipython-input-2-2161fc353d88>:20: FutureWarning: Pass y=[0.0000000e+00 0.0000000e+00 0.0000000e+00 ... 0.0000000e+00 3.0517578e-05\n",
      " 6.1035156e-05] as keyword args. From version 0.10 passing these as positional arguments will result in an error\n",
      "  mel = np.mean(librosa.feature.melspectrogram(X, sr=sample_rate).T,axis=0)\n",
      "<ipython-input-2-2161fc353d88>:20: FutureWarning: Pass y=[ 0.          0.          0.         ... -0.00149536 -0.00161743\n",
      " -0.00164795] as keyword args. From version 0.10 passing these as positional arguments will result in an error\n",
      "  mel = np.mean(librosa.feature.melspectrogram(X, sr=sample_rate).T,axis=0)\n"
     ]
    },
    {
     "name": "stdout",
     "output_type": "stream",
     "text": [
      "03-01-05-02-01-01-12.wav\n",
      "03-01-05-02-01-02-12.wav\n"
     ]
    },
    {
     "name": "stderr",
     "output_type": "stream",
     "text": [
      "<ipython-input-2-2161fc353d88>:20: FutureWarning: Pass y=[3.0517578e-05 0.0000000e+00 0.0000000e+00 ... 2.8076172e-03 2.7770996e-03\n",
      " 2.7770996e-03] as keyword args. From version 0.10 passing these as positional arguments will result in an error\n",
      "  mel = np.mean(librosa.feature.melspectrogram(X, sr=sample_rate).T,axis=0)\n"
     ]
    },
    {
     "name": "stdout",
     "output_type": "stream",
     "text": [
      "03-01-05-02-02-01-12.wav\n",
      "03-01-05-02-02-02-12.wav\n"
     ]
    },
    {
     "name": "stderr",
     "output_type": "stream",
     "text": [
      "<ipython-input-2-2161fc353d88>:20: FutureWarning: Pass y=[ 0.          0.          0.         ... -0.00024414 -0.00021362\n",
      " -0.00024414] as keyword args. From version 0.10 passing these as positional arguments will result in an error\n",
      "  mel = np.mean(librosa.feature.melspectrogram(X, sr=sample_rate).T,axis=0)\n",
      "<ipython-input-2-2161fc353d88>:20: FutureWarning: Pass y=[-3.0517578e-05 -3.0517578e-05 -3.0517578e-05 ... -6.1035156e-05\n",
      " -6.1035156e-05 -6.1035156e-05] as keyword args. From version 0.10 passing these as positional arguments will result in an error\n",
      "  mel = np.mean(librosa.feature.melspectrogram(X, sr=sample_rate).T,axis=0)\n"
     ]
    },
    {
     "name": "stdout",
     "output_type": "stream",
     "text": [
      "03-01-06-01-01-01-12.wav\n",
      "03-01-06-01-01-02-12.wav\n",
      "03-01-06-01-02-01-12.wav\n",
      "03-01-06-01-02-02-12.wav\n",
      "03-01-06-02-01-01-12.wav\n",
      "03-01-06-02-01-02-12.wav\n",
      "03-01-06-02-02-01-12.wav\n",
      "03-01-06-02-02-02-12.wav\n",
      "03-01-07-01-01-01-12.wav\n",
      "03-01-07-01-01-02-12.wav\n",
      "03-01-07-01-02-01-12.wav\n",
      "03-01-07-01-02-02-12.wav\n",
      "03-01-07-02-01-01-12.wav\n",
      "03-01-07-02-01-02-12.wav\n",
      "03-01-07-02-02-01-12.wav\n",
      "03-01-07-02-02-02-12.wav\n",
      "03-01-08-01-01-01-12.wav\n",
      "03-01-08-01-01-02-12.wav\n",
      "03-01-08-01-02-01-12.wav\n",
      "03-01-08-01-02-02-12.wav\n",
      "03-01-08-02-01-01-12.wav\n",
      "03-01-08-02-01-02-12.wav\n",
      "03-01-08-02-02-01-12.wav\n",
      "03-01-08-02-02-02-12.wav\n",
      "03-01-01-01-01-01-13.wav\n",
      "03-01-01-01-01-02-13.wav\n",
      "03-01-01-01-02-01-13.wav\n",
      "03-01-01-01-02-02-13.wav\n"
     ]
    },
    {
     "name": "stderr",
     "output_type": "stream",
     "text": [
      "<ipython-input-2-2161fc353d88>:20: FutureWarning: Pass y=[-3.0517578e-05  0.0000000e+00 -3.0517578e-05 ... -3.0517578e-05\n",
      "  0.0000000e+00  0.0000000e+00] as keyword args. From version 0.10 passing these as positional arguments will result in an error\n",
      "  mel = np.mean(librosa.feature.melspectrogram(X, sr=sample_rate).T,axis=0)\n",
      "<ipython-input-2-2161fc353d88>:20: FutureWarning: Pass y=[3.0517578e-05 0.0000000e+00 3.0517578e-05 ... 0.0000000e+00 0.0000000e+00\n",
      " 0.0000000e+00] as keyword args. From version 0.10 passing these as positional arguments will result in an error\n",
      "  mel = np.mean(librosa.feature.melspectrogram(X, sr=sample_rate).T,axis=0)\n"
     ]
    },
    {
     "name": "stdout",
     "output_type": "stream",
     "text": [
      "03-01-02-01-01-01-13.wav\n",
      "03-01-02-01-01-02-13.wav\n",
      "03-01-02-01-02-01-13.wav\n",
      "03-01-02-01-02-02-13.wav\n",
      "03-01-02-02-01-01-13.wav\n",
      "03-01-02-02-01-02-13.wav\n",
      "03-01-02-02-02-01-13.wav\n",
      "03-01-02-02-02-02-13.wav\n",
      "03-01-03-01-01-01-13.wav\n",
      "03-01-03-01-01-02-13.wav\n",
      "03-01-03-01-02-01-13.wav\n",
      "03-01-03-01-02-02-13.wav\n"
     ]
    },
    {
     "name": "stderr",
     "output_type": "stream",
     "text": [
      "<ipython-input-2-2161fc353d88>:20: FutureWarning: Pass y=[ 0.0000000e+00  0.0000000e+00  0.0000000e+00 ... -3.0517578e-05\n",
      " -3.0517578e-05  0.0000000e+00] as keyword args. From version 0.10 passing these as positional arguments will result in an error\n",
      "  mel = np.mean(librosa.feature.melspectrogram(X, sr=sample_rate).T,axis=0)\n"
     ]
    },
    {
     "name": "stdout",
     "output_type": "stream",
     "text": [
      "03-01-03-02-01-01-13.wav\n",
      "03-01-03-02-01-02-13.wav\n"
     ]
    },
    {
     "name": "stderr",
     "output_type": "stream",
     "text": [
      "<ipython-input-2-2161fc353d88>:20: FutureWarning: Pass y=[ 6.1035156e-05  6.1035156e-05  6.1035156e-05 ... -6.1035156e-05\n",
      " -6.1035156e-05 -9.1552734e-05] as keyword args. From version 0.10 passing these as positional arguments will result in an error\n",
      "  mel = np.mean(librosa.feature.melspectrogram(X, sr=sample_rate).T,axis=0)\n"
     ]
    },
    {
     "name": "stdout",
     "output_type": "stream",
     "text": [
      "03-01-03-02-02-01-13.wav\n",
      "03-01-03-02-02-02-13.wav\n",
      "03-01-04-01-01-01-13.wav\n",
      "03-01-04-01-01-02-13.wav\n",
      "03-01-04-01-02-01-13.wav\n",
      "03-01-04-01-02-02-13.wav\n"
     ]
    },
    {
     "name": "stderr",
     "output_type": "stream",
     "text": [
      "<ipython-input-2-2161fc353d88>:20: FutureWarning: Pass y=[3.0517578e-05 3.0517578e-05 6.1035156e-05 ... 3.0517578e-05 3.0517578e-05\n",
      " 3.0517578e-05] as keyword args. From version 0.10 passing these as positional arguments will result in an error\n",
      "  mel = np.mean(librosa.feature.melspectrogram(X, sr=sample_rate).T,axis=0)\n"
     ]
    },
    {
     "name": "stdout",
     "output_type": "stream",
     "text": [
      "03-01-04-02-01-01-13.wav\n",
      "03-01-04-02-01-02-13.wav\n"
     ]
    },
    {
     "name": "stderr",
     "output_type": "stream",
     "text": [
      "<ipython-input-2-2161fc353d88>:20: FutureWarning: Pass y=[-3.0517578e-05 -3.0517578e-05 -3.0517578e-05 ... -3.0517578e-05\n",
      " -3.0517578e-05 -3.0517578e-05] as keyword args. From version 0.10 passing these as positional arguments will result in an error\n",
      "  mel = np.mean(librosa.feature.melspectrogram(X, sr=sample_rate).T,axis=0)\n"
     ]
    },
    {
     "name": "stdout",
     "output_type": "stream",
     "text": [
      "03-01-04-02-02-01-13.wav\n",
      "03-01-04-02-02-02-13.wav\n",
      "03-01-05-01-01-01-13.wav\n",
      "03-01-05-01-01-02-13.wav\n",
      "03-01-05-01-02-01-13.wav\n",
      "03-01-05-01-02-02-13.wav\n",
      "03-01-05-02-01-01-13.wav\n",
      "03-01-05-02-01-02-13.wav\n",
      "03-01-05-02-02-01-13.wav\n",
      "03-01-05-02-02-02-13.wav\n"
     ]
    },
    {
     "name": "stderr",
     "output_type": "stream",
     "text": [
      "<ipython-input-2-2161fc353d88>:20: FutureWarning: Pass y=[ 0.0000000e+00 -3.0517578e-05  0.0000000e+00 ... -8.2397461e-04\n",
      " -8.2397461e-04 -7.9345703e-04] as keyword args. From version 0.10 passing these as positional arguments will result in an error\n",
      "  mel = np.mean(librosa.feature.melspectrogram(X, sr=sample_rate).T,axis=0)\n",
      "<ipython-input-2-2161fc353d88>:20: FutureWarning: Pass y=[0.         0.         0.         ... 0.00018311 0.00015259 0.00015259] as keyword args. From version 0.10 passing these as positional arguments will result in an error\n",
      "  mel = np.mean(librosa.feature.melspectrogram(X, sr=sample_rate).T,axis=0)\n"
     ]
    },
    {
     "name": "stdout",
     "output_type": "stream",
     "text": [
      "03-01-06-01-01-01-13.wav\n",
      "03-01-06-01-01-02-13.wav\n",
      "03-01-06-01-02-01-13.wav\n",
      "03-01-06-01-02-02-13.wav\n",
      "03-01-06-02-01-01-13.wav\n",
      "03-01-06-02-01-02-13.wav\n",
      "03-01-06-02-02-01-13.wav\n",
      "03-01-06-02-02-02-13.wav\n",
      "03-01-07-01-01-01-13.wav\n",
      "03-01-07-01-01-02-13.wav\n",
      "03-01-07-01-02-01-13.wav\n",
      "03-01-07-01-02-02-13.wav\n",
      "03-01-07-02-01-01-13.wav\n",
      "03-01-07-02-01-02-13.wav\n",
      "03-01-07-02-02-01-13.wav\n",
      "03-01-07-02-02-02-13.wav\n",
      "03-01-08-01-01-01-13.wav\n",
      "03-01-08-01-01-02-13.wav\n",
      "03-01-08-01-02-01-13.wav\n",
      "03-01-08-01-02-02-13.wav\n",
      "03-01-08-02-01-01-13.wav\n",
      "03-01-08-02-01-02-13.wav\n",
      "03-01-08-02-02-01-13.wav\n",
      "03-01-08-02-02-02-13.wav\n",
      "03-01-01-01-01-01-14.wav\n",
      "03-01-01-01-01-02-14.wav\n",
      "03-01-01-01-02-01-14.wav\n",
      "03-01-01-01-02-02-14.wav\n",
      "03-01-02-01-01-01-14.wav\n",
      "03-01-02-01-01-02-14.wav\n",
      "03-01-02-01-02-01-14.wav\n",
      "03-01-02-01-02-02-14.wav\n",
      "03-01-02-02-01-01-14.wav\n",
      "03-01-02-02-01-02-14.wav\n",
      "03-01-02-02-02-01-14.wav\n",
      "03-01-02-02-02-02-14.wav\n",
      "03-01-03-01-01-01-14.wav\n",
      "03-01-03-01-01-02-14.wav\n"
     ]
    },
    {
     "name": "stderr",
     "output_type": "stream",
     "text": [
      "<ipython-input-2-2161fc353d88>:20: FutureWarning: Pass y=[ 3.0517578e-05  3.0517578e-05  0.0000000e+00 ...  0.0000000e+00\n",
      "  0.0000000e+00 -3.0517578e-05] as keyword args. From version 0.10 passing these as positional arguments will result in an error\n",
      "  mel = np.mean(librosa.feature.melspectrogram(X, sr=sample_rate).T,axis=0)\n"
     ]
    },
    {
     "name": "stdout",
     "output_type": "stream",
     "text": [
      "03-01-03-01-02-01-14.wav\n",
      "03-01-03-01-02-02-14.wav\n",
      "03-01-03-02-01-01-14.wav\n",
      "03-01-03-02-01-02-14.wav\n",
      "03-01-03-02-02-01-14.wav\n",
      "03-01-03-02-02-02-14.wav\n",
      "03-01-04-01-01-01-14.wav\n",
      "03-01-04-01-01-02-14.wav\n",
      "03-01-04-01-02-01-14.wav\n",
      "03-01-04-01-02-02-14.wav\n",
      "03-01-04-02-01-01-14.wav\n",
      "03-01-04-02-01-02-14.wav\n",
      "03-01-04-02-02-01-14.wav\n",
      "03-01-04-02-02-02-14.wav\n",
      "03-01-05-01-01-01-14.wav\n",
      "03-01-05-01-01-02-14.wav\n",
      "03-01-05-01-02-01-14.wav\n",
      "03-01-05-01-02-02-14.wav\n",
      "03-01-05-02-01-01-14.wav\n",
      "03-01-05-02-01-02-14.wav\n",
      "03-01-05-02-02-01-14.wav\n",
      "03-01-05-02-02-02-14.wav\n",
      "03-01-06-01-01-01-14.wav\n",
      "03-01-06-01-01-02-14.wav\n",
      "03-01-06-01-02-01-14.wav\n",
      "03-01-06-01-02-02-14.wav\n",
      "03-01-06-02-01-01-14.wav\n",
      "03-01-06-02-01-02-14.wav\n",
      "03-01-06-02-02-01-14.wav\n",
      "03-01-06-02-02-02-14.wav\n",
      "03-01-07-01-01-01-14.wav\n",
      "03-01-07-01-01-02-14.wav\n",
      "03-01-07-01-02-01-14.wav\n",
      "03-01-07-01-02-02-14.wav\n",
      "03-01-07-02-01-01-14.wav\n",
      "03-01-07-02-01-02-14.wav\n",
      "03-01-07-02-02-01-14.wav\n",
      "03-01-07-02-02-02-14.wav\n",
      "03-01-08-01-01-01-14.wav\n",
      "03-01-08-01-01-02-14.wav\n",
      "03-01-08-01-02-01-14.wav\n",
      "03-01-08-01-02-02-14.wav\n",
      "03-01-08-02-01-01-14.wav\n",
      "03-01-08-02-01-02-14.wav\n",
      "03-01-08-02-02-01-14.wav\n",
      "03-01-08-02-02-02-14.wav\n",
      "03-01-01-01-01-01-15.wav\n"
     ]
    },
    {
     "name": "stderr",
     "output_type": "stream",
     "text": [
      "<ipython-input-2-2161fc353d88>:20: FutureWarning: Pass y=[ 0.0000000e+00  0.0000000e+00  0.0000000e+00 ...  0.0000000e+00\n",
      " -6.1035156e-05  0.0000000e+00] as keyword args. From version 0.10 passing these as positional arguments will result in an error\n",
      "  mel = np.mean(librosa.feature.melspectrogram(X, sr=sample_rate).T,axis=0)\n"
     ]
    },
    {
     "name": "stdout",
     "output_type": "stream",
     "text": [
      "03-01-01-01-01-02-15.wav\n",
      "03-01-01-01-02-01-15.wav\n"
     ]
    },
    {
     "name": "stderr",
     "output_type": "stream",
     "text": [
      "<ipython-input-2-2161fc353d88>:20: FutureWarning: Pass y=[ 0.0000000e+00 -3.0517578e-05  0.0000000e+00 ...  0.0000000e+00\n",
      "  0.0000000e+00  0.0000000e+00] as keyword args. From version 0.10 passing these as positional arguments will result in an error\n",
      "  mel = np.mean(librosa.feature.melspectrogram(X, sr=sample_rate).T,axis=0)\n"
     ]
    },
    {
     "name": "stdout",
     "output_type": "stream",
     "text": [
      "03-01-01-01-02-02-15.wav\n",
      "03-01-02-01-01-01-15.wav\n",
      "03-01-02-01-01-02-15.wav\n",
      "03-01-02-01-02-01-15.wav\n",
      "03-01-02-01-02-02-15.wav\n",
      "03-01-02-02-01-01-15.wav\n",
      "03-01-02-02-01-02-15.wav\n",
      "03-01-02-02-02-01-15.wav\n",
      "03-01-02-02-02-02-15.wav\n",
      "03-01-03-01-01-01-15.wav\n"
     ]
    },
    {
     "name": "stderr",
     "output_type": "stream",
     "text": [
      "<ipython-input-2-2161fc353d88>:20: FutureWarning: Pass y=[3.0517578e-05 3.0517578e-05 3.0517578e-05 ... 1.2207031e-04 9.1552734e-05\n",
      " 9.1552734e-05] as keyword args. From version 0.10 passing these as positional arguments will result in an error\n",
      "  mel = np.mean(librosa.feature.melspectrogram(X, sr=sample_rate).T,axis=0)\n",
      "<ipython-input-2-2161fc353d88>:20: FutureWarning: Pass y=[ 0.          0.          0.         ... -0.00210571 -0.0020752\n",
      " -0.0020752 ] as keyword args. From version 0.10 passing these as positional arguments will result in an error\n",
      "  mel = np.mean(librosa.feature.melspectrogram(X, sr=sample_rate).T,axis=0)\n"
     ]
    },
    {
     "name": "stdout",
     "output_type": "stream",
     "text": [
      "03-01-03-01-01-02-15.wav\n",
      "03-01-03-01-02-01-15.wav\n"
     ]
    },
    {
     "name": "stderr",
     "output_type": "stream",
     "text": [
      "<ipython-input-2-2161fc353d88>:20: FutureWarning: Pass y=[-6.1035156e-05 -3.0517578e-05 -3.0517578e-05 ... -9.1552734e-05\n",
      " -6.1035156e-05 -6.1035156e-05] as keyword args. From version 0.10 passing these as positional arguments will result in an error\n",
      "  mel = np.mean(librosa.feature.melspectrogram(X, sr=sample_rate).T,axis=0)\n"
     ]
    },
    {
     "name": "stdout",
     "output_type": "stream",
     "text": [
      "03-01-03-01-02-02-15.wav\n",
      "03-01-03-02-01-01-15.wav\n"
     ]
    },
    {
     "name": "stderr",
     "output_type": "stream",
     "text": [
      "<ipython-input-2-2161fc353d88>:20: FutureWarning: Pass y=[-6.1035156e-05 -3.0517578e-05 -6.1035156e-05 ...  0.0000000e+00\n",
      "  0.0000000e+00  0.0000000e+00] as keyword args. From version 0.10 passing these as positional arguments will result in an error\n",
      "  mel = np.mean(librosa.feature.melspectrogram(X, sr=sample_rate).T,axis=0)\n"
     ]
    },
    {
     "name": "stdout",
     "output_type": "stream",
     "text": [
      "03-01-03-02-01-02-15.wav\n"
     ]
    },
    {
     "name": "stderr",
     "output_type": "stream",
     "text": [
      "<ipython-input-2-2161fc353d88>:20: FutureWarning: Pass y=[0.0000000e+00 0.0000000e+00 0.0000000e+00 ... 9.1552734e-05 1.2207031e-04\n",
      " 9.1552734e-05] as keyword args. From version 0.10 passing these as positional arguments will result in an error\n",
      "  mel = np.mean(librosa.feature.melspectrogram(X, sr=sample_rate).T,axis=0)\n",
      "<ipython-input-2-2161fc353d88>:20: FutureWarning: Pass y=[-6.1035156e-05  0.0000000e+00 -3.0517578e-05 ...  3.0517578e-05\n",
      "  3.0517578e-05  6.1035156e-05] as keyword args. From version 0.10 passing these as positional arguments will result in an error\n",
      "  mel = np.mean(librosa.feature.melspectrogram(X, sr=sample_rate).T,axis=0)\n"
     ]
    },
    {
     "name": "stdout",
     "output_type": "stream",
     "text": [
      "03-01-03-02-02-01-15.wav\n"
     ]
    },
    {
     "name": "stderr",
     "output_type": "stream",
     "text": [
      "<ipython-input-2-2161fc353d88>:20: FutureWarning: Pass y=[6.1035156e-05 3.0517578e-05 3.0517578e-05 ... 1.8310547e-04 1.8310547e-04\n",
      " 1.5258789e-04] as keyword args. From version 0.10 passing these as positional arguments will result in an error\n",
      "  mel = np.mean(librosa.feature.melspectrogram(X, sr=sample_rate).T,axis=0)\n"
     ]
    },
    {
     "name": "stdout",
     "output_type": "stream",
     "text": [
      "03-01-03-02-02-02-15.wav\n",
      "03-01-04-01-01-01-15.wav\n",
      "03-01-04-01-01-02-15.wav\n",
      "03-01-04-01-02-01-15.wav\n"
     ]
    },
    {
     "name": "stderr",
     "output_type": "stream",
     "text": [
      "<ipython-input-2-2161fc353d88>:20: FutureWarning: Pass y=[-1.5258789e-04 -1.5258789e-04 -1.5258789e-04 ...  9.1552734e-05\n",
      "  9.1552734e-05  9.1552734e-05] as keyword args. From version 0.10 passing these as positional arguments will result in an error\n",
      "  mel = np.mean(librosa.feature.melspectrogram(X, sr=sample_rate).T,axis=0)\n",
      "<ipython-input-2-2161fc353d88>:20: FutureWarning: Pass y=[-3.0517578e-05 -3.0517578e-05 -3.0517578e-05 ...  1.8310547e-04\n",
      "  2.1362305e-04  2.1362305e-04] as keyword args. From version 0.10 passing these as positional arguments will result in an error\n",
      "  mel = np.mean(librosa.feature.melspectrogram(X, sr=sample_rate).T,axis=0)\n"
     ]
    },
    {
     "name": "stdout",
     "output_type": "stream",
     "text": [
      "03-01-04-01-02-02-15.wav\n",
      "03-01-04-02-01-01-15.wav\n"
     ]
    },
    {
     "name": "stderr",
     "output_type": "stream",
     "text": [
      "<ipython-input-2-2161fc353d88>:20: FutureWarning: Pass y=[1.2207031e-04 1.2207031e-04 9.1552734e-05 ... 0.0000000e+00 0.0000000e+00\n",
      " 0.0000000e+00] as keyword args. From version 0.10 passing these as positional arguments will result in an error\n",
      "  mel = np.mean(librosa.feature.melspectrogram(X, sr=sample_rate).T,axis=0)\n",
      "<ipython-input-2-2161fc353d88>:20: FutureWarning: Pass y=[-6.1035156e-05 -6.1035156e-05 -6.1035156e-05 ...  0.0000000e+00\n",
      "  0.0000000e+00  0.0000000e+00] as keyword args. From version 0.10 passing these as positional arguments will result in an error\n",
      "  mel = np.mean(librosa.feature.melspectrogram(X, sr=sample_rate).T,axis=0)\n"
     ]
    },
    {
     "name": "stdout",
     "output_type": "stream",
     "text": [
      "03-01-04-02-01-02-15.wav\n",
      "03-01-04-02-02-01-15.wav"
     ]
    },
    {
     "name": "stderr",
     "output_type": "stream",
     "text": [
      "<ipython-input-2-2161fc353d88>:20: FutureWarning: Pass y=[0.         0.         0.         ... 0.00042725 0.00042725 0.00042725] as keyword args. From version 0.10 passing these as positional arguments will result in an error\n",
      "  mel = np.mean(librosa.feature.melspectrogram(X, sr=sample_rate).T,axis=0)\n",
      "<ipython-input-2-2161fc353d88>:20: FutureWarning: Pass y=[-1.2207031e-04 -9.1552734e-05 -1.2207031e-04 ... -9.1552734e-05\n",
      " -9.1552734e-05 -9.1552734e-05] as keyword args. From version 0.10 passing these as positional arguments will result in an error\n",
      "  mel = np.mean(librosa.feature.melspectrogram(X, sr=sample_rate).T,axis=0)\n"
     ]
    },
    {
     "name": "stdout",
     "output_type": "stream",
     "text": [
      "\n",
      "03-01-04-02-02-02-15.wav\n"
     ]
    },
    {
     "name": "stderr",
     "output_type": "stream",
     "text": [
      "<ipython-input-2-2161fc353d88>:20: FutureWarning: Pass y=[0.         0.         0.         ... 0.00140381 0.00143433 0.00137329] as keyword args. From version 0.10 passing these as positional arguments will result in an error\n",
      "  mel = np.mean(librosa.feature.melspectrogram(X, sr=sample_rate).T,axis=0)\n"
     ]
    },
    {
     "name": "stdout",
     "output_type": "stream",
     "text": [
      "03-01-05-01-01-01-15.wav\n",
      "03-01-05-01-01-02-15.wav"
     ]
    },
    {
     "name": "stderr",
     "output_type": "stream",
     "text": [
      "<ipython-input-2-2161fc353d88>:20: FutureWarning: Pass y=[ 1.2207031e-04  6.1035156e-05  6.1035156e-05 ... -3.0517578e-05\n",
      "  0.0000000e+00 -3.0517578e-05] as keyword args. From version 0.10 passing these as positional arguments will result in an error\n",
      "  mel = np.mean(librosa.feature.melspectrogram(X, sr=sample_rate).T,axis=0)\n",
      "<ipython-input-2-2161fc353d88>:20: FutureWarning: Pass y=[ 0.0000000e+00  0.0000000e+00  0.0000000e+00 ... -9.1552734e-05\n",
      " -6.1035156e-05 -3.0517578e-05] as keyword args. From version 0.10 passing these as positional arguments will result in an error\n",
      "  mel = np.mean(librosa.feature.melspectrogram(X, sr=sample_rate).T,axis=0)\n"
     ]
    },
    {
     "name": "stdout",
     "output_type": "stream",
     "text": [
      "\n",
      "03-01-05-01-02-01-15.wav\n",
      "03-01-05-01-02-02-15.wav\n",
      "03-01-05-02-01-01-15.wav\n",
      "03-01-05-02-01-02-15.wav\n"
     ]
    },
    {
     "name": "stderr",
     "output_type": "stream",
     "text": [
      "<ipython-input-2-2161fc353d88>:20: FutureWarning: Pass y=[ 3.0517578e-05  3.0517578e-05  0.0000000e+00 ... -9.1552734e-05\n",
      " -6.1035156e-05 -9.1552734e-05] as keyword args. From version 0.10 passing these as positional arguments will result in an error\n",
      "  mel = np.mean(librosa.feature.melspectrogram(X, sr=sample_rate).T,axis=0)\n",
      "<ipython-input-2-2161fc353d88>:20: FutureWarning: Pass y=[ 0.          0.          0.         ... -0.00012207 -0.00012207\n",
      " -0.00012207] as keyword args. From version 0.10 passing these as positional arguments will result in an error\n",
      "  mel = np.mean(librosa.feature.melspectrogram(X, sr=sample_rate).T,axis=0)\n"
     ]
    },
    {
     "name": "stdout",
     "output_type": "stream",
     "text": [
      "03-01-05-02-02-01-15.wav\n",
      "03-01-05-02-02-02-15.wav\n"
     ]
    },
    {
     "name": "stderr",
     "output_type": "stream",
     "text": [
      "<ipython-input-2-2161fc353d88>:20: FutureWarning: Pass y=[-6.1035156e-05 -6.1035156e-05 -3.0517578e-05 ...  9.1552734e-05\n",
      "  9.1552734e-05  9.1552734e-05] as keyword args. From version 0.10 passing these as positional arguments will result in an error\n",
      "  mel = np.mean(librosa.feature.melspectrogram(X, sr=sample_rate).T,axis=0)\n"
     ]
    },
    {
     "name": "stdout",
     "output_type": "stream",
     "text": [
      "03-01-06-01-01-01-15.wav\n",
      "03-01-06-01-01-02-15.wav\n",
      "03-01-06-01-02-01-15.wav\n",
      "03-01-06-01-02-02-15.wav\n",
      "03-01-06-02-01-01-15.wav\n",
      "03-01-06-02-01-02-15.wav\n",
      "03-01-06-02-02-01-15.wav\n",
      "03-01-06-02-02-02-15.wav\n",
      "03-01-07-01-01-01-15.wav\n",
      "03-01-07-01-01-02-15.wav\n",
      "03-01-07-01-02-01-15.wav\n",
      "03-01-07-01-02-02-15.wav\n",
      "03-01-07-02-01-01-15.wav\n",
      "03-01-07-02-01-02-15.wav\n",
      "03-01-07-02-02-01-15.wav\n",
      "03-01-07-02-02-02-15.wav\n",
      "03-01-08-01-01-01-15.wav\n",
      "03-01-08-01-01-02-15.wav\n",
      "03-01-08-01-02-01-15.wav\n",
      "03-01-08-01-02-02-15.wav\n",
      "03-01-08-02-01-01-15.wav\n",
      "03-01-08-02-01-02-15.wav\n",
      "03-01-08-02-02-01-15.wav\n",
      "03-01-08-02-02-02-15.wav\n",
      "03-01-01-01-01-01-16.wav\n",
      "03-01-01-01-01-02-16.wav\n",
      "03-01-01-01-02-01-16.wav\n",
      "03-01-01-01-02-02-16.wav\n",
      "03-01-02-01-01-01-16.wav\n",
      "03-01-02-01-01-02-16.wav\n",
      "03-01-02-01-02-01-16.wav\n",
      "03-01-02-01-02-02-16.wav\n",
      "03-01-02-02-01-01-16.wav\n",
      "03-01-02-02-01-02-16.wav\n",
      "03-01-02-02-02-01-16.wav\n",
      "03-01-02-02-02-02-16.wav\n",
      "03-01-03-01-01-01-16.wav\n",
      "03-01-03-01-01-02-16.wav\n",
      "03-01-03-01-02-01-16.wav\n",
      "03-01-03-01-02-02-16.wav\n",
      "03-01-03-02-01-01-16.wav\n",
      "03-01-03-02-01-02-16.wav\n",
      "03-01-03-02-02-01-16.wav\n",
      "03-01-03-02-02-02-16.wav\n",
      "03-01-04-01-01-01-16.wav\n",
      "03-01-04-01-01-02-16.wav\n",
      "03-01-04-01-02-01-16.wav\n",
      "03-01-04-01-02-02-16.wav\n",
      "03-01-04-02-01-01-16.wav\n",
      "03-01-04-02-01-02-16.wav\n",
      "03-01-04-02-02-01-16.wav\n",
      "03-01-04-02-02-02-16.wav\n"
     ]
    },
    {
     "name": "stderr",
     "output_type": "stream",
     "text": [
      "<ipython-input-2-2161fc353d88>:20: FutureWarning: Pass y=[ 0.0000000e+00 -3.0517578e-05 -3.0517578e-05 ...  0.0000000e+00\n",
      "  0.0000000e+00  0.0000000e+00] as keyword args. From version 0.10 passing these as positional arguments will result in an error\n",
      "  mel = np.mean(librosa.feature.melspectrogram(X, sr=sample_rate).T,axis=0)\n"
     ]
    },
    {
     "name": "stdout",
     "output_type": "stream",
     "text": [
      "03-01-05-01-01-01-16.wav\n",
      "03-01-05-01-01-02-16.wav\n"
     ]
    },
    {
     "name": "stderr",
     "output_type": "stream",
     "text": [
      "<ipython-input-2-2161fc353d88>:20: FutureWarning: Pass y=[6.1035156e-05 3.0517578e-05 0.0000000e+00 ... 0.0000000e+00 3.0517578e-05\n",
      " 0.0000000e+00] as keyword args. From version 0.10 passing these as positional arguments will result in an error\n",
      "  mel = np.mean(librosa.feature.melspectrogram(X, sr=sample_rate).T,axis=0)\n",
      "<ipython-input-2-2161fc353d88>:20: FutureWarning: Pass y=[ 0.0000000e+00  0.0000000e+00  0.0000000e+00 ... -3.0517578e-05\n",
      " -6.1035156e-05 -3.0517578e-05] as keyword args. From version 0.10 passing these as positional arguments will result in an error\n",
      "  mel = np.mean(librosa.feature.melspectrogram(X, sr=sample_rate).T,axis=0)\n"
     ]
    },
    {
     "name": "stdout",
     "output_type": "stream",
     "text": [
      "03-01-05-01-02-01-16.wav\n",
      "03-01-05-01-02-02-16.wav\n"
     ]
    },
    {
     "name": "stderr",
     "output_type": "stream",
     "text": [
      "<ipython-input-2-2161fc353d88>:20: FutureWarning: Pass y=[0.0000000e+00 0.0000000e+00 0.0000000e+00 ... 0.0000000e+00 6.1035156e-05\n",
      " 9.1552734e-05] as keyword args. From version 0.10 passing these as positional arguments will result in an error\n",
      "  mel = np.mean(librosa.feature.melspectrogram(X, sr=sample_rate).T,axis=0)\n"
     ]
    },
    {
     "name": "stdout",
     "output_type": "stream",
     "text": [
      "03-01-05-02-01-01-16.wav\n",
      "03-01-05-02-01-02-16.wav\n",
      "03-01-05-02-02-01-16.wav\n",
      "03-01-05-02-02-02-16.wav\n"
     ]
    },
    {
     "name": "stderr",
     "output_type": "stream",
     "text": [
      "<ipython-input-2-2161fc353d88>:20: FutureWarning: Pass y=[ 0.0000000e+00  0.0000000e+00  0.0000000e+00 ...  0.0000000e+00\n",
      "  0.0000000e+00 -6.1035156e-05] as keyword args. From version 0.10 passing these as positional arguments will result in an error\n",
      "  mel = np.mean(librosa.feature.melspectrogram(X, sr=sample_rate).T,axis=0)\n"
     ]
    },
    {
     "name": "stdout",
     "output_type": "stream",
     "text": [
      "03-01-06-01-01-01-16.wav\n",
      "03-01-06-01-01-02-16.wav\n",
      "03-01-06-01-02-01-16.wav\n",
      "03-01-06-01-02-02-16.wav\n",
      "03-01-06-02-01-01-16.wav\n",
      "03-01-06-02-01-02-16.wav\n",
      "03-01-06-02-02-01-16.wav\n",
      "03-01-06-02-02-02-16.wav\n",
      "03-01-07-01-01-01-16.wav\n",
      "03-01-07-01-01-02-16.wav\n",
      "03-01-07-01-02-01-16.wav\n",
      "03-01-07-01-02-02-16.wav\n",
      "03-01-07-02-01-01-16.wav\n",
      "03-01-07-02-01-02-16.wav\n",
      "03-01-07-02-02-01-16.wav\n",
      "03-01-07-02-02-02-16.wav\n",
      "03-01-08-01-01-01-16.wav\n",
      "03-01-08-01-01-02-16.wav\n",
      "03-01-08-01-02-01-16.wav\n",
      "03-01-08-01-02-02-16.wav\n",
      "03-01-08-02-01-01-16.wav\n",
      "03-01-08-02-01-02-16.wav\n",
      "03-01-08-02-02-01-16.wav\n",
      "03-01-08-02-02-02-16.wav\n",
      "03-01-01-01-01-01-17.wav\n"
     ]
    },
    {
     "name": "stderr",
     "output_type": "stream",
     "text": [
      "<ipython-input-2-2161fc353d88>:20: FutureWarning: Pass y=[ 3.0517578e-04  3.0517578e-04  3.0517578e-04 ... -9.1552734e-05\n",
      " -1.2207031e-04 -1.2207031e-04] as keyword args. From version 0.10 passing these as positional arguments will result in an error\n",
      "  mel = np.mean(librosa.feature.melspectrogram(X, sr=sample_rate).T,axis=0)\n"
     ]
    },
    {
     "name": "stdout",
     "output_type": "stream",
     "text": [
      "03-01-01-01-01-02-17.wav\n",
      "03-01-01-01-02-01-17.wav"
     ]
    },
    {
     "name": "stderr",
     "output_type": "stream",
     "text": [
      "<ipython-input-2-2161fc353d88>:20: FutureWarning: Pass y=[ 9.1552734e-05  9.1552734e-05  9.1552734e-05 ... -3.0517578e-05\n",
      "  0.0000000e+00  0.0000000e+00] as keyword args. From version 0.10 passing these as positional arguments will result in an error\n",
      "  mel = np.mean(librosa.feature.melspectrogram(X, sr=sample_rate).T,axis=0)\n",
      "<ipython-input-2-2161fc353d88>:20: FutureWarning: Pass y=[ 3.0517578e-05  3.0517578e-05  3.0517578e-05 ... -9.1552734e-05\n",
      " -6.1035156e-05 -6.1035156e-05] as keyword args. From version 0.10 passing these as positional arguments will result in an error\n",
      "  mel = np.mean(librosa.feature.melspectrogram(X, sr=sample_rate).T,axis=0)\n"
     ]
    },
    {
     "name": "stdout",
     "output_type": "stream",
     "text": [
      "\n",
      "03-01-01-01-02-02-17.wav\n"
     ]
    },
    {
     "name": "stderr",
     "output_type": "stream",
     "text": [
      "<ipython-input-2-2161fc353d88>:20: FutureWarning: Pass y=[-9.1552734e-05 -6.1035156e-05 -3.0517578e-05 ...  0.0000000e+00\n",
      "  0.0000000e+00  0.0000000e+00] as keyword args. From version 0.10 passing these as positional arguments will result in an error\n",
      "  mel = np.mean(librosa.feature.melspectrogram(X, sr=sample_rate).T,axis=0)\n",
      "<ipython-input-2-2161fc353d88>:20: FutureWarning: Pass y=[ 3.0517578e-05  6.1035156e-05  6.1035156e-05 ... -6.1035156e-05\n",
      " -6.1035156e-05 -9.1552734e-05] as keyword args. From version 0.10 passing these as positional arguments will result in an error\n",
      "  mel = np.mean(librosa.feature.melspectrogram(X, sr=sample_rate).T,axis=0)\n"
     ]
    },
    {
     "name": "stdout",
     "output_type": "stream",
     "text": [
      "03-01-02-01-01-01-17.wav\n",
      "03-01-02-01-01-02-17.wav\n",
      "03-01-02-01-02-01-17.wav\n",
      "03-01-02-01-02-02-17.wav\n",
      "03-01-02-02-01-01-17.wav\n",
      "03-01-02-02-01-02-17.wav\n",
      "03-01-02-02-02-01-17.wav\n",
      "03-01-02-02-02-02-17.wav\n",
      "03-01-03-01-01-01-17.wav\n",
      "03-01-03-01-01-02-17.wav\n"
     ]
    },
    {
     "name": "stderr",
     "output_type": "stream",
     "text": [
      "<ipython-input-2-2161fc353d88>:20: FutureWarning: Pass y=[-0.00021362 -0.00018311 -0.00015259 ... -0.00012207 -0.00012207\n",
      " -0.00012207] as keyword args. From version 0.10 passing these as positional arguments will result in an error\n",
      "  mel = np.mean(librosa.feature.melspectrogram(X, sr=sample_rate).T,axis=0)\n",
      "<ipython-input-2-2161fc353d88>:20: FutureWarning: Pass y=[6.1035156e-05 6.1035156e-05 6.1035156e-05 ... 0.0000000e+00 0.0000000e+00\n",
      " 0.0000000e+00] as keyword args. From version 0.10 passing these as positional arguments will result in an error\n",
      "  mel = np.mean(librosa.feature.melspectrogram(X, sr=sample_rate).T,axis=0)\n"
     ]
    },
    {
     "name": "stdout",
     "output_type": "stream",
     "text": [
      "03-01-03-01-02-01-17.wav\n",
      "03-01-03-01-02-02-17.wav\n"
     ]
    },
    {
     "name": "stderr",
     "output_type": "stream",
     "text": [
      "<ipython-input-2-2161fc353d88>:20: FutureWarning: Pass y=[1.5258789e-04 1.5258789e-04 2.1362305e-04 ... 9.1552734e-05 9.1552734e-05\n",
      " 9.1552734e-05] as keyword args. From version 0.10 passing these as positional arguments will result in an error\n",
      "  mel = np.mean(librosa.feature.melspectrogram(X, sr=sample_rate).T,axis=0)\n",
      "<ipython-input-2-2161fc353d88>:20: FutureWarning: Pass y=[0.00012207 0.00012207 0.00012207 ... 0.         0.         0.        ] as keyword args. From version 0.10 passing these as positional arguments will result in an error\n",
      "  mel = np.mean(librosa.feature.melspectrogram(X, sr=sample_rate).T,axis=0)\n"
     ]
    },
    {
     "name": "stdout",
     "output_type": "stream",
     "text": [
      "03-01-03-02-01-01-17.wav\n",
      "03-01-03-02-01-02-17.wav\n"
     ]
    },
    {
     "name": "stderr",
     "output_type": "stream",
     "text": [
      "<ipython-input-2-2161fc353d88>:20: FutureWarning: Pass y=[-3.3569336e-04 -3.6621094e-04 -2.1362305e-04 ...  1.2207031e-04\n",
      "  9.1552734e-05  1.2207031e-04] as keyword args. From version 0.10 passing these as positional arguments will result in an error\n",
      "  mel = np.mean(librosa.feature.melspectrogram(X, sr=sample_rate).T,axis=0)\n",
      "<ipython-input-2-2161fc353d88>:20: FutureWarning: Pass y=[6.1035156e-05 9.1552734e-05 1.2207031e-04 ... 0.0000000e+00 0.0000000e+00\n",
      " 0.0000000e+00] as keyword args. From version 0.10 passing these as positional arguments will result in an error\n",
      "  mel = np.mean(librosa.feature.melspectrogram(X, sr=sample_rate).T,axis=0)\n"
     ]
    },
    {
     "name": "stdout",
     "output_type": "stream",
     "text": [
      "03-01-03-02-02-01-17.wav\n",
      "03-01-03-02-02-02-17.wav\n"
     ]
    },
    {
     "name": "stderr",
     "output_type": "stream",
     "text": [
      "<ipython-input-2-2161fc353d88>:20: FutureWarning: Pass y=[ 1.2207031e-04  1.8310547e-04  2.1362305e-04 ... -3.0517578e-05\n",
      " -3.0517578e-05 -3.0517578e-05] as keyword args. From version 0.10 passing these as positional arguments will result in an error\n",
      "  mel = np.mean(librosa.feature.melspectrogram(X, sr=sample_rate).T,axis=0)\n",
      "<ipython-input-2-2161fc353d88>:20: FutureWarning: Pass y=[3.0517578e-05 3.0517578e-05 3.0517578e-05 ... 1.2207031e-04 1.5258789e-04\n",
      " 1.5258789e-04] as keyword args. From version 0.10 passing these as positional arguments will result in an error\n",
      "  mel = np.mean(librosa.feature.melspectrogram(X, sr=sample_rate).T,axis=0)\n"
     ]
    },
    {
     "name": "stdout",
     "output_type": "stream",
     "text": [
      "03-01-04-01-01-01-17.wav\n",
      "03-01-04-01-01-02-17.wav\n"
     ]
    },
    {
     "name": "stderr",
     "output_type": "stream",
     "text": [
      "<ipython-input-2-2161fc353d88>:20: FutureWarning: Pass y=[-0.00012207 -0.00015259 -0.00015259 ...  0.          0.\n",
      "  0.        ] as keyword args. From version 0.10 passing these as positional arguments will result in an error\n",
      "  mel = np.mean(librosa.feature.melspectrogram(X, sr=sample_rate).T,axis=0)\n",
      "<ipython-input-2-2161fc353d88>:20: FutureWarning: Pass y=[0.0000000e+00 3.0517578e-05 1.2207031e-04 ... 3.0517578e-05 6.1035156e-05\n",
      " 6.1035156e-05] as keyword args. From version 0.10 passing these as positional arguments will result in an error\n",
      "  mel = np.mean(librosa.feature.melspectrogram(X, sr=sample_rate).T,axis=0)\n"
     ]
    },
    {
     "name": "stdout",
     "output_type": "stream",
     "text": [
      "03-01-04-01-02-01-17.wav\n",
      "03-01-04-01-02-02-17.wav\n"
     ]
    },
    {
     "name": "stderr",
     "output_type": "stream",
     "text": [
      "<ipython-input-2-2161fc353d88>:20: FutureWarning: Pass y=[0.         0.         0.         ... 0.00018311 0.00018311 0.00015259] as keyword args. From version 0.10 passing these as positional arguments will result in an error\n",
      "  mel = np.mean(librosa.feature.melspectrogram(X, sr=sample_rate).T,axis=0)\n",
      "<ipython-input-2-2161fc353d88>:20: FutureWarning: Pass y=[1.8310547e-04 1.5258789e-04 1.8310547e-04 ... 0.0000000e+00 6.1035156e-05\n",
      " 1.2207031e-04] as keyword args. From version 0.10 passing these as positional arguments will result in an error\n",
      "  mel = np.mean(librosa.feature.melspectrogram(X, sr=sample_rate).T,axis=0)\n"
     ]
    },
    {
     "name": "stdout",
     "output_type": "stream",
     "text": [
      "03-01-04-02-01-01-17.wav\n",
      "03-01-04-02-01-02-17.wav\n"
     ]
    },
    {
     "name": "stderr",
     "output_type": "stream",
     "text": [
      "<ipython-input-2-2161fc353d88>:20: FutureWarning: Pass y=[-6.1035156e-05 -3.0517578e-05 -3.0517578e-05 ... -9.1552734e-05\n",
      " -9.1552734e-05 -9.1552734e-05] as keyword args. From version 0.10 passing these as positional arguments will result in an error\n",
      "  mel = np.mean(librosa.feature.melspectrogram(X, sr=sample_rate).T,axis=0)\n",
      "<ipython-input-2-2161fc353d88>:20: FutureWarning: Pass y=[-6.1035156e-05 -6.1035156e-05 -9.1552734e-05 ...  3.0517578e-05\n",
      "  0.0000000e+00  0.0000000e+00] as keyword args. From version 0.10 passing these as positional arguments will result in an error\n",
      "  mel = np.mean(librosa.feature.melspectrogram(X, sr=sample_rate).T,axis=0)\n"
     ]
    },
    {
     "name": "stdout",
     "output_type": "stream",
     "text": [
      "03-01-04-02-02-01-17.wav\n",
      "03-01-04-02-02-02-17.wav\n"
     ]
    },
    {
     "name": "stderr",
     "output_type": "stream",
     "text": [
      "<ipython-input-2-2161fc353d88>:20: FutureWarning: Pass y=[-2.7465820e-04 -2.7465820e-04 -3.3569336e-04 ...  9.1552734e-05\n",
      "  3.0517578e-05  6.1035156e-05] as keyword args. From version 0.10 passing these as positional arguments will result in an error\n",
      "  mel = np.mean(librosa.feature.melspectrogram(X, sr=sample_rate).T,axis=0)\n",
      "<ipython-input-2-2161fc353d88>:20: FutureWarning: Pass y=[-6.1035156e-05 -6.1035156e-05 -9.1552734e-05 ... -1.2207031e-04\n",
      " -1.5258789e-04 -1.2207031e-04] as keyword args. From version 0.10 passing these as positional arguments will result in an error\n",
      "  mel = np.mean(librosa.feature.melspectrogram(X, sr=sample_rate).T,axis=0)\n"
     ]
    },
    {
     "name": "stdout",
     "output_type": "stream",
     "text": [
      "03-01-05-01-01-01-17.wav\n",
      "03-01-05-01-01-02-17.wav\n"
     ]
    },
    {
     "name": "stderr",
     "output_type": "stream",
     "text": [
      "<ipython-input-2-2161fc353d88>:20: FutureWarning: Pass y=[ 0.0000000e+00 -3.0517578e-05 -3.0517578e-05 ...  0.0000000e+00\n",
      " -3.0517578e-05 -9.1552734e-05] as keyword args. From version 0.10 passing these as positional arguments will result in an error\n",
      "  mel = np.mean(librosa.feature.melspectrogram(X, sr=sample_rate).T,axis=0)\n",
      "<ipython-input-2-2161fc353d88>:20: FutureWarning: Pass y=[-3.0517578e-05 -6.1035156e-05 -6.1035156e-05 ...  0.0000000e+00\n",
      "  0.0000000e+00 -3.0517578e-05] as keyword args. From version 0.10 passing these as positional arguments will result in an error\n",
      "  mel = np.mean(librosa.feature.melspectrogram(X, sr=sample_rate).T,axis=0)\n"
     ]
    },
    {
     "name": "stdout",
     "output_type": "stream",
     "text": [
      "03-01-05-01-02-01-17.wav\n",
      "03-01-05-01-02-02-17.wav\n"
     ]
    },
    {
     "name": "stderr",
     "output_type": "stream",
     "text": [
      "<ipython-input-2-2161fc353d88>:20: FutureWarning: Pass y=[1.5258789e-04 1.2207031e-04 6.1035156e-05 ... 0.0000000e+00 0.0000000e+00\n",
      " 0.0000000e+00] as keyword args. From version 0.10 passing these as positional arguments will result in an error\n",
      "  mel = np.mean(librosa.feature.melspectrogram(X, sr=sample_rate).T,axis=0)\n",
      "<ipython-input-2-2161fc353d88>:20: FutureWarning: Pass y=[ 0.0000000e+00 -1.2207031e-04 -6.1035156e-05 ...  0.0000000e+00\n",
      "  0.0000000e+00  0.0000000e+00] as keyword args. From version 0.10 passing these as positional arguments will result in an error\n",
      "  mel = np.mean(librosa.feature.melspectrogram(X, sr=sample_rate).T,axis=0)\n"
     ]
    },
    {
     "name": "stdout",
     "output_type": "stream",
     "text": [
      "03-01-05-02-01-01-17.wav\n",
      "03-01-05-02-01-02-17.wav\n"
     ]
    },
    {
     "name": "stderr",
     "output_type": "stream",
     "text": [
      "<ipython-input-2-2161fc353d88>:20: FutureWarning: Pass y=[ 0.         -0.00021362 -0.00015259 ...  0.          0.\n",
      "  0.        ] as keyword args. From version 0.10 passing these as positional arguments will result in an error\n",
      "  mel = np.mean(librosa.feature.melspectrogram(X, sr=sample_rate).T,axis=0)\n",
      "<ipython-input-2-2161fc353d88>:20: FutureWarning: Pass y=[0.00015259 0.00021362 0.00018311 ... 0.         0.         0.        ] as keyword args. From version 0.10 passing these as positional arguments will result in an error\n",
      "  mel = np.mean(librosa.feature.melspectrogram(X, sr=sample_rate).T,axis=0)\n"
     ]
    },
    {
     "name": "stdout",
     "output_type": "stream",
     "text": [
      "03-01-05-02-02-01-17.wav\n",
      "03-01-05-02-02-02-17.wav\n"
     ]
    },
    {
     "name": "stderr",
     "output_type": "stream",
     "text": [
      "<ipython-input-2-2161fc353d88>:20: FutureWarning: Pass y=[-2.1362305e-04 -2.4414062e-04 -1.8310547e-04 ...  0.0000000e+00\n",
      " -3.0517578e-05 -3.0517578e-05] as keyword args. From version 0.10 passing these as positional arguments will result in an error\n",
      "  mel = np.mean(librosa.feature.melspectrogram(X, sr=sample_rate).T,axis=0)\n"
     ]
    },
    {
     "name": "stdout",
     "output_type": "stream",
     "text": [
      "03-01-06-01-01-01-17.wav\n",
      "03-01-06-01-01-02-17.wav\n",
      "03-01-06-01-02-01-17.wav\n",
      "03-01-06-01-02-02-17.wav\n",
      "03-01-06-02-01-01-17.wav\n",
      "03-01-06-02-01-02-17.wav\n",
      "03-01-06-02-02-01-17.wav\n",
      "03-01-06-02-02-02-17.wav\n",
      "03-01-07-01-01-01-17.wav\n",
      "03-01-07-01-01-02-17.wav\n",
      "03-01-07-01-02-01-17.wav\n",
      "03-01-07-01-02-02-17.wav\n",
      "03-01-07-02-01-01-17.wav\n",
      "03-01-07-02-01-02-17.wav\n",
      "03-01-07-02-02-01-17.wav\n",
      "03-01-07-02-02-02-17.wav\n",
      "03-01-08-01-01-01-17.wav\n",
      "03-01-08-01-01-02-17.wav\n",
      "03-01-08-01-02-01-17.wav\n",
      "03-01-08-01-02-02-17.wav\n",
      "03-01-08-02-01-01-17.wav\n",
      "03-01-08-02-01-02-17.wav\n",
      "03-01-08-02-02-01-17.wav\n",
      "03-01-08-02-02-02-17.wav\n",
      "03-01-01-01-01-01-18.wav\n",
      "03-01-01-01-01-02-18.wav\n",
      "03-01-01-01-02-01-18.wav\n",
      "03-01-01-01-02-02-18.wav\n",
      "03-01-02-01-01-01-18.wav\n",
      "03-01-02-01-01-02-18.wav\n",
      "03-01-02-01-02-01-18.wav\n",
      "03-01-02-01-02-02-18.wav\n",
      "03-01-02-02-01-01-18.wav\n",
      "03-01-02-02-01-02-18.wav\n",
      "03-01-02-02-02-01-18.wav\n",
      "03-01-02-02-02-02-18.wav\n",
      "03-01-03-01-01-01-18.wav\n",
      "03-01-03-01-01-02-18.wav\n",
      "03-01-03-01-02-01-18.wav\n",
      "03-01-03-01-02-02-18.wav\n",
      "03-01-03-02-01-01-18.wav\n",
      "03-01-03-02-01-02-18.wav\n",
      "03-01-03-02-02-01-18.wav\n",
      "03-01-03-02-02-02-18.wav\n",
      "03-01-04-01-01-01-18.wav\n",
      "03-01-04-01-01-02-18.wav\n",
      "03-01-04-01-02-01-18.wav\n",
      "03-01-04-01-02-02-18.wav\n",
      "03-01-04-02-01-01-18.wav\n",
      "03-01-04-02-01-02-18.wav\n",
      "03-01-04-02-02-01-18.wav\n",
      "03-01-04-02-02-02-18.wav\n",
      "03-01-05-01-01-01-18.wav\n",
      "03-01-05-01-01-02-18.wav\n",
      "03-01-05-01-02-01-18.wav\n",
      "03-01-05-01-02-02-18.wav\n",
      "03-01-05-02-01-01-18.wav\n",
      "03-01-05-02-01-02-18.wav\n",
      "03-01-05-02-02-01-18.wav\n",
      "03-01-05-02-02-02-18.wav\n",
      "03-01-06-01-01-01-18.wav\n",
      "03-01-06-01-01-02-18.wav\n",
      "03-01-06-01-02-01-18.wav\n",
      "03-01-06-01-02-02-18.wav\n",
      "03-01-06-02-01-01-18.wav\n",
      "03-01-06-02-01-02-18.wav\n",
      "03-01-06-02-02-01-18.wav\n",
      "03-01-06-02-02-02-18.wav\n",
      "03-01-07-01-01-01-18.wav\n",
      "03-01-07-01-01-02-18.wav\n",
      "03-01-07-01-02-01-18.wav\n",
      "03-01-07-01-02-02-18.wav\n",
      "03-01-07-02-01-01-18.wav\n",
      "03-01-07-02-01-02-18.wav\n",
      "03-01-07-02-02-01-18.wav\n",
      "03-01-07-02-02-02-18.wav\n",
      "03-01-08-01-01-01-18.wav\n",
      "03-01-08-01-01-02-18.wav\n",
      "03-01-08-01-02-01-18.wav\n",
      "03-01-08-01-02-02-18.wav\n",
      "03-01-08-02-01-01-18.wav\n",
      "03-01-08-02-01-02-18.wav\n",
      "03-01-08-02-02-01-18.wav\n",
      "03-01-08-02-02-02-18.wav\n",
      "03-01-01-01-01-01-19.wav\n",
      "03-01-01-01-01-02-19.wav\n"
     ]
    },
    {
     "name": "stderr",
     "output_type": "stream",
     "text": [
      "<ipython-input-2-2161fc353d88>:20: FutureWarning: Pass y=[ 0.          0.          0.         ... -0.00027466 -0.00027466\n",
      " -0.00030518] as keyword args. From version 0.10 passing these as positional arguments will result in an error\n",
      "  mel = np.mean(librosa.feature.melspectrogram(X, sr=sample_rate).T,axis=0)\n",
      "<ipython-input-2-2161fc353d88>:20: FutureWarning: Pass y=[-0.00018311 -0.00018311 -0.00018311 ...  0.          0.\n",
      "  0.        ] as keyword args. From version 0.10 passing these as positional arguments will result in an error\n",
      "  mel = np.mean(librosa.feature.melspectrogram(X, sr=sample_rate).T,axis=0)\n"
     ]
    },
    {
     "name": "stdout",
     "output_type": "stream",
     "text": [
      "03-01-01-01-02-01-19.wav\n",
      "03-01-01-01-02-02-19.wav\n"
     ]
    },
    {
     "name": "stderr",
     "output_type": "stream",
     "text": [
      "<ipython-input-2-2161fc353d88>:20: FutureWarning: Pass y=[ 1.5258789e-04  9.1552734e-05  1.5258789e-04 ... -3.0517578e-05\n",
      " -3.0517578e-05 -3.0517578e-05] as keyword args. From version 0.10 passing these as positional arguments will result in an error\n",
      "  mel = np.mean(librosa.feature.melspectrogram(X, sr=sample_rate).T,axis=0)\n",
      "<ipython-input-2-2161fc353d88>:20: FutureWarning: Pass y=[0.         0.         0.         ... 0.00308228 0.00311279 0.00308228] as keyword args. From version 0.10 passing these as positional arguments will result in an error\n",
      "  mel = np.mean(librosa.feature.melspectrogram(X, sr=sample_rate).T,axis=0)\n"
     ]
    },
    {
     "name": "stdout",
     "output_type": "stream",
     "text": [
      "03-01-02-01-01-01-19.wav\n",
      "03-01-02-01-01-02-19.wav\n",
      "03-01-02-01-02-01-19.wav\n",
      "03-01-02-01-02-02-19.wav\n",
      "03-01-02-02-01-01-19.wav\n",
      "03-01-02-02-01-02-19.wav\n",
      "03-01-02-02-02-01-19.wav\n",
      "03-01-02-02-02-02-19.wav\n",
      "03-01-03-01-01-01-19.wav\n",
      "03-01-03-01-01-02-19.wav\n",
      "03-01-03-01-02-01-19.wav\n",
      "03-01-03-01-02-02-19.wav\n"
     ]
    },
    {
     "name": "stderr",
     "output_type": "stream",
     "text": [
      "<ipython-input-2-2161fc353d88>:20: FutureWarning: Pass y=[3.0517578e-05 6.1035156e-05 3.0517578e-05 ... 6.1035156e-05 6.1035156e-05\n",
      " 9.1552734e-05] as keyword args. From version 0.10 passing these as positional arguments will result in an error\n",
      "  mel = np.mean(librosa.feature.melspectrogram(X, sr=sample_rate).T,axis=0)\n",
      "<ipython-input-2-2161fc353d88>:20: FutureWarning: Pass y=[-0.00012207 -0.00012207 -0.00012207 ...  0.00012207  0.00012207\n",
      "  0.00012207] as keyword args. From version 0.10 passing these as positional arguments will result in an error\n",
      "  mel = np.mean(librosa.feature.melspectrogram(X, sr=sample_rate).T,axis=0)\n"
     ]
    },
    {
     "name": "stdout",
     "output_type": "stream",
     "text": [
      "03-01-03-02-01-01-19.wav\n",
      "03-01-03-02-01-02-19.wav\n"
     ]
    },
    {
     "name": "stderr",
     "output_type": "stream",
     "text": [
      "<ipython-input-2-2161fc353d88>:20: FutureWarning: Pass y=[ 0.00036621  0.00036621  0.00042725 ... -0.00021362 -0.00021362\n",
      " -0.00024414] as keyword args. From version 0.10 passing these as positional arguments will result in an error\n",
      "  mel = np.mean(librosa.feature.melspectrogram(X, sr=sample_rate).T,axis=0)\n",
      "<ipython-input-2-2161fc353d88>:20: FutureWarning: Pass y=[0.00064087 0.00067139 0.0007019  ... 0.00039673 0.00393677 0.0067749 ] as keyword args. From version 0.10 passing these as positional arguments will result in an error\n",
      "  mel = np.mean(librosa.feature.melspectrogram(X, sr=sample_rate).T,axis=0)\n"
     ]
    },
    {
     "name": "stdout",
     "output_type": "stream",
     "text": [
      "03-01-03-02-02-01-19.wav\n",
      "03-01-03-02-02-02-19.wav\n"
     ]
    },
    {
     "name": "stderr",
     "output_type": "stream",
     "text": [
      "<ipython-input-2-2161fc353d88>:20: FutureWarning: Pass y=[-1.2207031e-04 -1.2207031e-04 -1.2207031e-04 ...  6.1035156e-05\n",
      "  6.1035156e-05  3.0517578e-05] as keyword args. From version 0.10 passing these as positional arguments will result in an error\n",
      "  mel = np.mean(librosa.feature.melspectrogram(X, sr=sample_rate).T,axis=0)\n"
     ]
    },
    {
     "name": "stdout",
     "output_type": "stream",
     "text": [
      "03-01-04-01-01-01-19.wav\n",
      "03-01-04-01-01-02-19.wav\n",
      "03-01-04-01-02-01-19.wav\n",
      "03-01-04-01-02-02-19.wav\n"
     ]
    },
    {
     "name": "stderr",
     "output_type": "stream",
     "text": [
      "<ipython-input-2-2161fc353d88>:20: FutureWarning: Pass y=[ 1.2207031e-04  1.2207031e-04  1.2207031e-04 ...  0.0000000e+00\n",
      " -3.0517578e-05  0.0000000e+00] as keyword args. From version 0.10 passing these as positional arguments will result in an error\n",
      "  mel = np.mean(librosa.feature.melspectrogram(X, sr=sample_rate).T,axis=0)\n"
     ]
    },
    {
     "name": "stdout",
     "output_type": "stream",
     "text": [
      "03-01-04-02-01-01-19.wav\n",
      "03-01-04-02-01-02-19.wav\n"
     ]
    },
    {
     "name": "stderr",
     "output_type": "stream",
     "text": [
      "<ipython-input-2-2161fc353d88>:20: FutureWarning: Pass y=[ 0.0000000e+00  0.0000000e+00 -3.0517578e-05 ... -1.2512207e-03\n",
      " -1.2512207e-03 -1.2512207e-03] as keyword args. From version 0.10 passing these as positional arguments will result in an error\n",
      "  mel = np.mean(librosa.feature.melspectrogram(X, sr=sample_rate).T,axis=0)\n",
      "<ipython-input-2-2161fc353d88>:20: FutureWarning: Pass y=[-0.0022583  -0.0022583  -0.00228882 ...  0.          0.\n",
      "  0.        ] as keyword args. From version 0.10 passing these as positional arguments will result in an error\n",
      "  mel = np.mean(librosa.feature.melspectrogram(X, sr=sample_rate).T,axis=0)\n"
     ]
    },
    {
     "name": "stdout",
     "output_type": "stream",
     "text": [
      "03-01-04-02-02-01-19.wav\n",
      "03-01-04-02-02-02-19.wav\n"
     ]
    },
    {
     "name": "stderr",
     "output_type": "stream",
     "text": [
      "<ipython-input-2-2161fc353d88>:20: FutureWarning: Pass y=[ 6.1035156e-05  3.0517578e-05  3.0517578e-05 ... -6.1035156e-05\n",
      " -6.1035156e-05 -6.1035156e-05] as keyword args. From version 0.10 passing these as positional arguments will result in an error\n",
      "  mel = np.mean(librosa.feature.melspectrogram(X, sr=sample_rate).T,axis=0)\n",
      "<ipython-input-2-2161fc353d88>:20: FutureWarning: Pass y=[-0.00054932 -0.00045776 -0.00039673 ... -0.00024414 -0.00021362\n",
      " -0.00021362] as keyword args. From version 0.10 passing these as positional arguments will result in an error\n",
      "  mel = np.mean(librosa.feature.melspectrogram(X, sr=sample_rate).T,axis=0)\n"
     ]
    },
    {
     "name": "stdout",
     "output_type": "stream",
     "text": [
      "03-01-05-01-01-01-19.wav\n",
      "03-01-05-01-01-02-19.wav\n"
     ]
    },
    {
     "name": "stderr",
     "output_type": "stream",
     "text": [
      "<ipython-input-2-2161fc353d88>:20: FutureWarning: Pass y=[-9.1552734e-05 -1.2207031e-04 -1.2207031e-04 ...  3.9672852e-04\n",
      "  3.9672852e-04  3.6621094e-04] as keyword args. From version 0.10 passing these as positional arguments will result in an error\n",
      "  mel = np.mean(librosa.feature.melspectrogram(X, sr=sample_rate).T,axis=0)\n"
     ]
    },
    {
     "name": "stdout",
     "output_type": "stream",
     "text": [
      "03-01-05-01-02-01-19.wav\n",
      "03-01-05-01-02-02-19.wav\n"
     ]
    },
    {
     "name": "stderr",
     "output_type": "stream",
     "text": [
      "<ipython-input-2-2161fc353d88>:20: FutureWarning: Pass y=[-2.8686523e-03 -2.8381348e-03 -2.8686523e-03 ...  0.0000000e+00\n",
      "  3.0517578e-05  0.0000000e+00] as keyword args. From version 0.10 passing these as positional arguments will result in an error\n",
      "  mel = np.mean(librosa.feature.melspectrogram(X, sr=sample_rate).T,axis=0)\n"
     ]
    },
    {
     "name": "stdout",
     "output_type": "stream",
     "text": [
      "03-01-05-02-01-01-19.wav\n",
      "03-01-05-02-01-02-19.wav\n"
     ]
    },
    {
     "name": "stderr",
     "output_type": "stream",
     "text": [
      "<ipython-input-2-2161fc353d88>:20: FutureWarning: Pass y=[ 0.0000000e+00  0.0000000e+00  0.0000000e+00 ... -1.2207031e-04\n",
      " -6.1035156e-05 -1.2207031e-04] as keyword args. From version 0.10 passing these as positional arguments will result in an error\n",
      "  mel = np.mean(librosa.feature.melspectrogram(X, sr=sample_rate).T,axis=0)\n",
      "<ipython-input-2-2161fc353d88>:20: FutureWarning: Pass y=[-9.1552734e-05  2.4414062e-04  0.0000000e+00 ...  0.0000000e+00\n",
      "  0.0000000e+00  0.0000000e+00] as keyword args. From version 0.10 passing these as positional arguments will result in an error\n",
      "  mel = np.mean(librosa.feature.melspectrogram(X, sr=sample_rate).T,axis=0)\n"
     ]
    },
    {
     "name": "stdout",
     "output_type": "stream",
     "text": [
      "03-01-05-02-02-01-19.wav\n",
      "03-01-05-02-02-02-19.wav\n",
      "03-01-06-01-01-01-19.wav\n",
      "03-01-06-01-01-02-19.wav\n",
      "03-01-06-01-02-01-19.wav\n",
      "03-01-06-01-02-02-19.wav\n",
      "03-01-06-02-01-01-19.wav\n",
      "03-01-06-02-01-02-19.wav\n",
      "03-01-06-02-02-01-19.wav\n",
      "03-01-06-02-02-02-19.wav\n",
      "03-01-07-01-01-01-19.wav\n",
      "03-01-07-01-01-02-19.wav\n",
      "03-01-07-01-02-01-19.wav\n",
      "03-01-07-01-02-02-19.wav\n",
      "03-01-07-02-01-01-19.wav\n",
      "03-01-07-02-01-02-19.wav\n",
      "03-01-07-02-02-01-19.wav\n",
      "03-01-07-02-02-02-19.wav\n",
      "03-01-08-01-01-01-19.wav\n",
      "03-01-08-01-01-02-19.wav\n",
      "03-01-08-01-02-01-19.wav\n",
      "03-01-08-01-02-02-19.wav\n",
      "03-01-08-02-01-01-19.wav\n",
      "03-01-08-02-01-02-19.wav\n",
      "03-01-08-02-02-01-19.wav\n",
      "03-01-08-02-02-02-19.wav\n",
      "03-01-01-01-01-01-20.wav\n",
      "03-01-01-01-01-02-20.wav\n",
      "03-01-01-01-02-01-20.wav\n",
      "03-01-01-01-02-02-20.wav\n",
      "03-01-02-01-01-01-20.wav\n",
      "03-01-02-01-01-02-20.wav\n",
      "03-01-02-01-02-01-20.wav\n",
      "03-01-02-01-02-02-20.wav\n",
      "03-01-02-02-01-01-20.wav\n",
      "03-01-02-02-01-02-20.wav\n",
      "03-01-02-02-02-01-20.wav\n",
      "03-01-02-02-02-02-20.wav\n",
      "03-01-03-01-01-01-20.wav\n",
      "03-01-03-01-01-02-20.wav\n",
      "03-01-03-01-02-01-20.wav\n"
     ]
    },
    {
     "name": "stderr",
     "output_type": "stream",
     "text": [
      "C:\\Users\\Avimo\\AppData\\Roaming\\Python\\Python38\\site-packages\\librosa\\util\\decorators.py:88: UserWarning: n_fft=2048 is too small for input signal of length=2\n",
      "  return f(*args, **kwargs)\n"
     ]
    },
    {
     "name": "stdout",
     "output_type": "stream",
     "text": [
      "[+] Number of training samples: 403\n",
      "[+] Number of testing samples: 135\n"
     ]
    }
   ],
   "source": [
    "X_train, X_test, y_train, y_test = load_data(test_size=0.25)\n",
    "\n",
    "print(\"[+] Number of training samples:\", X_train.shape[0])\n",
    "# number of samples in testing data\n",
    "print(\"[+] Number of testing samples:\", X_test.shape[0])"
   ]
  },
  {
   "cell_type": "code",
   "execution_count": 7,
   "metadata": {
    "id": "GO3OzGWt22Sq"
   },
   "outputs": [],
   "source": [
    "import numpy as np\n",
    "X_train = np.asarray(X_train)\n",
    "y_train= np.asarray(y_train)\n",
    "X_test=np.array(X_test)\n",
    "y_test=np.array(y_test)"
   ]
  },
  {
   "cell_type": "code",
   "execution_count": 8,
   "metadata": {
    "colab": {
     "base_uri": "https://localhost:8080/",
     "height": 34
    },
    "id": "p_HrHWFo3KFH",
    "outputId": "af800f38-dd0d-4cfa-f9eb-c0dee1d90791"
   },
   "outputs": [
    {
     "data": {
      "text/plain": [
       "((403, 180), (403,), (135, 180), (135,))"
      ]
     },
     "execution_count": 8,
     "metadata": {},
     "output_type": "execute_result"
    }
   ],
   "source": [
    "X_train.shape,y_train.shape,X_test.shape,y_test.shape"
   ]
  },
  {
   "cell_type": "code",
   "execution_count": 9,
   "metadata": {
    "id": "cuGn3O113iVS"
   },
   "outputs": [],
   "source": [
    "x_traincnn = np.expand_dims(X_train, axis=2)\n",
    "x_testcnn = np.expand_dims(X_test, axis=2)"
   ]
  },
  {
   "cell_type": "code",
   "execution_count": 10,
   "metadata": {
    "colab": {
     "base_uri": "https://localhost:8080/",
     "height": 34
    },
    "id": "HmqNzFs85Ck6",
    "outputId": "18ef3b9d-a617-4aa4-9667-b52712b79d3f"
   },
   "outputs": [
    {
     "data": {
      "text/plain": [
       "((403, 180, 1), (135, 180, 1))"
      ]
     },
     "execution_count": 10,
     "metadata": {},
     "output_type": "execute_result"
    }
   ],
   "source": [
    "x_traincnn.shape,x_testcnn.shape"
   ]
  },
  {
   "cell_type": "code",
   "execution_count": 11,
   "metadata": {},
   "outputs": [],
   "source": [
    "import keras\n",
    "import numpy as np\n",
    "import matplotlib.pyplot as plt\n",
    "import tensorflow as tf\n",
    "from keras.preprocessing import sequence\n",
    "from tensorflow.keras.models import Sequential\n",
    "from keras.layers import Dense, Embedding\n",
    "from keras.layers import Input, Flatten, Dropout, Activation\n",
    "from keras.layers import Conv1D, MaxPooling1D\n",
    "from keras.models import Model\n",
    "from keras.callbacks import ModelCheckpoint\n",
    "from tensorflow.keras.utils import to_categorical\n",
    "from tensorflow.keras import optimizers\n"
   ]
  },
  {
   "cell_type": "markdown",
   "metadata": {},
   "source": [
    "Model 1: Relu - Softmax"
   ]
  },
  {
   "cell_type": "code",
   "execution_count": 35,
   "metadata": {
    "id": "jhBOW8Rk5VKt"
   },
   "outputs": [],
   "source": [
    "\n",
    "\n",
    "model = Sequential()\n",
    "\n",
    "model.add(Conv1D(128, 5,padding='same',input_shape=(180,1)))        #1\n",
    "model.add(Activation('relu'))\n",
    "model.add(Dropout(0.1))\n",
    "model.add(MaxPooling1D(pool_size=(8)))\n",
    "\n",
    "\n",
    "model.add(Flatten())\n",
    "model.add(Dense(8))                                                 #2\n",
    "model.add(Activation('softmax'))\n",
    "opt =optimizers.RMSprop(learning_rate=0.00005, rho=0.9, epsilon=None, decay=0.0)"
   ]
  },
  {
   "cell_type": "code",
   "execution_count": 14,
   "metadata": {
    "colab": {
     "base_uri": "https://localhost:8080/",
     "height": 493
    },
    "id": "q5nm0kqP5hV1",
    "outputId": "4cbea3dc-c70e-4613-e05a-07cc5fd246af"
   },
   "outputs": [
    {
     "name": "stdout",
     "output_type": "stream",
     "text": [
      "Model: \"sequential\"\n",
      "_________________________________________________________________\n",
      " Layer (type)                Output Shape              Param #   \n",
      "=================================================================\n",
      " conv1d (Conv1D)             (None, 180, 128)          768       \n",
      "                                                                 \n",
      " activation (Activation)     (None, 180, 128)          0         \n",
      "                                                                 \n",
      " dropout (Dropout)           (None, 180, 128)          0         \n",
      "                                                                 \n",
      " max_pooling1d (MaxPooling1D  (None, 22, 128)          0         \n",
      " )                                                               \n",
      "                                                                 \n",
      " flatten (Flatten)           (None, 2816)              0         \n",
      "                                                                 \n",
      " dense (Dense)               (None, 8)                 22536     \n",
      "                                                                 \n",
      " activation_1 (Activation)   (None, 8)                 0         \n",
      "                                                                 \n",
      "=================================================================\n",
      "Total params: 23,304\n",
      "Trainable params: 23,304\n",
      "Non-trainable params: 0\n",
      "_________________________________________________________________\n"
     ]
    }
   ],
   "source": [
    "model.summary()"
   ]
  },
  {
   "cell_type": "code",
   "execution_count": 36,
   "metadata": {
    "colab": {
     "base_uri": "https://localhost:8080/",
     "height": 105
    },
    "id": "S-fAEnOR5nvH",
    "outputId": "4fc146d4-b84b-42d0-bed9-85beaab3226b"
   },
   "outputs": [],
   "source": [
    "model.compile(loss='sparse_categorical_crossentropy',\n",
    "              optimizer=opt,\n",
    "              metrics=['accuracy'])"
   ]
  },
  {
   "cell_type": "code",
   "execution_count": 37,
   "metadata": {
    "colab": {
     "base_uri": "https://localhost:8080/",
     "height": 1000
    },
    "id": "K6opFz235tL0",
    "outputId": "b509e32f-8d14-477c-d8a1-35e919a159d7"
   },
   "outputs": [
    {
     "name": "stdout",
     "output_type": "stream",
     "text": [
      "Epoch 1/100\n",
      "21/21 [==============================] - 2s 32ms/step - loss: 8.9117 - accuracy: 0.1489 - val_loss: 3.0687 - val_accuracy: 0.2519\n",
      "Epoch 2/100\n",
      "21/21 [==============================] - 0s 19ms/step - loss: 3.7197 - accuracy: 0.2481 - val_loss: 1.4106 - val_accuracy: 0.3259\n",
      "Epoch 3/100\n",
      "21/21 [==============================] - 0s 19ms/step - loss: 3.0379 - accuracy: 0.2978 - val_loss: 1.3536 - val_accuracy: 0.2963\n",
      "Epoch 4/100\n",
      "21/21 [==============================] - 1s 30ms/step - loss: 3.0801 - accuracy: 0.2556 - val_loss: 1.5136 - val_accuracy: 0.3704\n",
      "Epoch 5/100\n",
      "21/21 [==============================] - 1s 26ms/step - loss: 3.0045 - accuracy: 0.2730 - val_loss: 1.7926 - val_accuracy: 0.3481\n",
      "Epoch 6/100\n",
      "21/21 [==============================] - 0s 23ms/step - loss: 2.9280 - accuracy: 0.3350 - val_loss: 1.8328 - val_accuracy: 0.3481\n",
      "Epoch 7/100\n",
      "21/21 [==============================] - 0s 19ms/step - loss: 3.0811 - accuracy: 0.2655 - val_loss: 1.2953 - val_accuracy: 0.3778\n",
      "Epoch 8/100\n",
      "21/21 [==============================] - 1s 30ms/step - loss: 2.7360 - accuracy: 0.3375 - val_loss: 1.6838 - val_accuracy: 0.3630\n",
      "Epoch 9/100\n",
      "21/21 [==============================] - 0s 19ms/step - loss: 2.8814 - accuracy: 0.3300 - val_loss: 1.4368 - val_accuracy: 0.3852\n",
      "Epoch 10/100\n",
      "21/21 [==============================] - 0s 23ms/step - loss: 2.6092 - accuracy: 0.3176 - val_loss: 1.4797 - val_accuracy: 0.3704\n",
      "Epoch 11/100\n",
      "21/21 [==============================] - 0s 23ms/step - loss: 2.5840 - accuracy: 0.2878 - val_loss: 1.3877 - val_accuracy: 0.3852\n",
      "Epoch 12/100\n",
      "21/21 [==============================] - 0s 19ms/step - loss: 2.5099 - accuracy: 0.3424 - val_loss: 1.3601 - val_accuracy: 0.3778\n",
      "Epoch 13/100\n",
      "21/21 [==============================] - 0s 23ms/step - loss: 2.5572 - accuracy: 0.3474 - val_loss: 1.4258 - val_accuracy: 0.4074\n",
      "Epoch 14/100\n",
      "21/21 [==============================] - 1s 35ms/step - loss: 2.5634 - accuracy: 0.3524 - val_loss: 1.4342 - val_accuracy: 0.3778\n",
      "Epoch 15/100\n",
      "21/21 [==============================] - 1s 35ms/step - loss: 2.4812 - accuracy: 0.3325 - val_loss: 1.3957 - val_accuracy: 0.3926\n",
      "Epoch 16/100\n",
      "21/21 [==============================] - 1s 26ms/step - loss: 2.5475 - accuracy: 0.3648 - val_loss: 1.4708 - val_accuracy: 0.3852\n",
      "Epoch 17/100\n",
      "21/21 [==============================] - 0s 20ms/step - loss: 2.3393 - accuracy: 0.3598 - val_loss: 1.9987 - val_accuracy: 0.3852\n",
      "Epoch 18/100\n",
      "21/21 [==============================] - 0s 19ms/step - loss: 2.3988 - accuracy: 0.3772 - val_loss: 1.4717 - val_accuracy: 0.4074\n",
      "Epoch 19/100\n",
      "21/21 [==============================] - 0s 19ms/step - loss: 2.4080 - accuracy: 0.3697 - val_loss: 1.5195 - val_accuracy: 0.4370\n",
      "Epoch 20/100\n",
      "21/21 [==============================] - 0s 19ms/step - loss: 2.3421 - accuracy: 0.4020 - val_loss: 1.3176 - val_accuracy: 0.4074\n",
      "Epoch 21/100\n",
      "21/21 [==============================] - 0s 22ms/step - loss: 2.4460 - accuracy: 0.3524 - val_loss: 1.1589 - val_accuracy: 0.4444\n",
      "Epoch 22/100\n",
      "21/21 [==============================] - 0s 19ms/step - loss: 2.4599 - accuracy: 0.3424 - val_loss: 1.3283 - val_accuracy: 0.4296\n",
      "Epoch 23/100\n",
      "21/21 [==============================] - 1s 35ms/step - loss: 2.1667 - accuracy: 0.4045 - val_loss: 1.2302 - val_accuracy: 0.4074\n",
      "Epoch 24/100\n",
      "21/21 [==============================] - 1s 34ms/step - loss: 2.4058 - accuracy: 0.3375 - val_loss: 1.3530 - val_accuracy: 0.4074\n",
      "Epoch 25/100\n",
      "21/21 [==============================] - 1s 25ms/step - loss: 2.2116 - accuracy: 0.3598 - val_loss: 1.1153 - val_accuracy: 0.4667\n",
      "Epoch 26/100\n",
      "21/21 [==============================] - 0s 21ms/step - loss: 2.2300 - accuracy: 0.4094 - val_loss: 1.1267 - val_accuracy: 0.4074\n",
      "Epoch 27/100\n",
      "21/21 [==============================] - 0s 22ms/step - loss: 2.4371 - accuracy: 0.3350 - val_loss: 1.5167 - val_accuracy: 0.4370\n",
      "Epoch 28/100\n",
      "21/21 [==============================] - 0s 22ms/step - loss: 2.2381 - accuracy: 0.3524 - val_loss: 1.2579 - val_accuracy: 0.4370\n",
      "Epoch 29/100\n",
      "21/21 [==============================] - 0s 22ms/step - loss: 2.0278 - accuracy: 0.4144 - val_loss: 1.5442 - val_accuracy: 0.4074\n",
      "Epoch 30/100\n",
      "21/21 [==============================] - 0s 23ms/step - loss: 2.2481 - accuracy: 0.3697 - val_loss: 1.0307 - val_accuracy: 0.4741\n",
      "Epoch 31/100\n",
      "21/21 [==============================] - 1s 31ms/step - loss: 2.1841 - accuracy: 0.3896 - val_loss: 1.3964 - val_accuracy: 0.4370\n",
      "Epoch 32/100\n",
      "21/21 [==============================] - 1s 25ms/step - loss: 2.1477 - accuracy: 0.4045 - val_loss: 1.5901 - val_accuracy: 0.4222\n",
      "Epoch 33/100\n",
      "21/21 [==============================] - 0s 19ms/step - loss: 2.0765 - accuracy: 0.3995 - val_loss: 1.0766 - val_accuracy: 0.4963\n",
      "Epoch 34/100\n",
      "21/21 [==============================] - 1s 31ms/step - loss: 1.9905 - accuracy: 0.3921 - val_loss: 1.1549 - val_accuracy: 0.4593\n",
      "Epoch 35/100\n",
      "21/21 [==============================] - 1s 32ms/step - loss: 1.8855 - accuracy: 0.4516 - val_loss: 1.0625 - val_accuracy: 0.4370\n",
      "Epoch 36/100\n",
      "21/21 [==============================] - 1s 28ms/step - loss: 1.9128 - accuracy: 0.4243 - val_loss: 1.1684 - val_accuracy: 0.4889\n",
      "Epoch 37/100\n",
      "21/21 [==============================] - 0s 21ms/step - loss: 2.0201 - accuracy: 0.3821 - val_loss: 1.0515 - val_accuracy: 0.4667\n",
      "Epoch 38/100\n",
      "21/21 [==============================] - 0s 22ms/step - loss: 2.0381 - accuracy: 0.4094 - val_loss: 1.3683 - val_accuracy: 0.4444\n",
      "Epoch 39/100\n",
      "21/21 [==============================] - 0s 22ms/step - loss: 2.0826 - accuracy: 0.4194 - val_loss: 1.1933 - val_accuracy: 0.4444\n",
      "Epoch 40/100\n",
      "21/21 [==============================] - 0s 22ms/step - loss: 1.9516 - accuracy: 0.4194 - val_loss: 1.4823 - val_accuracy: 0.4370\n",
      "Epoch 41/100\n",
      "21/21 [==============================] - 1s 25ms/step - loss: 2.1232 - accuracy: 0.3970 - val_loss: 1.0523 - val_accuracy: 0.4667\n",
      "Epoch 42/100\n",
      "21/21 [==============================] - 1s 29ms/step - loss: 1.8365 - accuracy: 0.4144 - val_loss: 1.1585 - val_accuracy: 0.4815\n",
      "Epoch 43/100\n",
      "21/21 [==============================] - 1s 25ms/step - loss: 1.8848 - accuracy: 0.4541 - val_loss: 1.1490 - val_accuracy: 0.4593\n",
      "Epoch 44/100\n",
      "21/21 [==============================] - 0s 22ms/step - loss: 1.9816 - accuracy: 0.3747 - val_loss: 1.0550 - val_accuracy: 0.4889\n",
      "Epoch 45/100\n",
      "21/21 [==============================] - 0s 22ms/step - loss: 1.7652 - accuracy: 0.4367 - val_loss: 1.2003 - val_accuracy: 0.4222\n",
      "Epoch 46/100\n",
      "21/21 [==============================] - 1s 28ms/step - loss: 1.8885 - accuracy: 0.4318 - val_loss: 1.4387 - val_accuracy: 0.4296\n",
      "Epoch 47/100\n",
      "21/21 [==============================] - 0s 20ms/step - loss: 1.8902 - accuracy: 0.4293 - val_loss: 1.4176 - val_accuracy: 0.4296\n",
      "Epoch 48/100\n",
      "21/21 [==============================] - 1s 30ms/step - loss: 1.7351 - accuracy: 0.4566 - val_loss: 1.2546 - val_accuracy: 0.4444\n",
      "Epoch 49/100\n",
      "21/21 [==============================] - 0s 19ms/step - loss: 1.8525 - accuracy: 0.4342 - val_loss: 1.1699 - val_accuracy: 0.4667\n",
      "Epoch 50/100\n",
      "21/21 [==============================] - 1s 32ms/step - loss: 1.9271 - accuracy: 0.4268 - val_loss: 1.4074 - val_accuracy: 0.4444\n",
      "Epoch 51/100\n",
      "21/21 [==============================] - 1s 32ms/step - loss: 1.8936 - accuracy: 0.3970 - val_loss: 1.1412 - val_accuracy: 0.4296\n",
      "Epoch 52/100\n",
      "21/21 [==============================] - 0s 20ms/step - loss: 1.8429 - accuracy: 0.4367 - val_loss: 1.2069 - val_accuracy: 0.4296\n",
      "Epoch 53/100\n",
      "21/21 [==============================] - 1s 24ms/step - loss: 1.7406 - accuracy: 0.4615 - val_loss: 1.0956 - val_accuracy: 0.4593\n",
      "Epoch 54/100\n",
      "21/21 [==============================] - 0s 18ms/step - loss: 1.7582 - accuracy: 0.4243 - val_loss: 1.0023 - val_accuracy: 0.5333\n",
      "Epoch 55/100\n",
      "21/21 [==============================] - 0s 21ms/step - loss: 1.6832 - accuracy: 0.4442 - val_loss: 1.2514 - val_accuracy: 0.4222\n",
      "Epoch 56/100\n",
      "21/21 [==============================] - 0s 19ms/step - loss: 1.7479 - accuracy: 0.4293 - val_loss: 1.1939 - val_accuracy: 0.4444\n",
      "Epoch 57/100\n",
      "21/21 [==============================] - 0s 21ms/step - loss: 1.6527 - accuracy: 0.4615 - val_loss: 1.0100 - val_accuracy: 0.4815\n",
      "Epoch 58/100\n"
     ]
    },
    {
     "name": "stdout",
     "output_type": "stream",
     "text": [
      "21/21 [==============================] - 0s 18ms/step - loss: 1.7561 - accuracy: 0.4392 - val_loss: 1.1668 - val_accuracy: 0.5037\n",
      "Epoch 59/100\n",
      "21/21 [==============================] - 0s 22ms/step - loss: 1.7863 - accuracy: 0.4144 - val_loss: 1.1501 - val_accuracy: 0.4296\n",
      "Epoch 60/100\n",
      "21/21 [==============================] - 0s 22ms/step - loss: 1.6150 - accuracy: 0.4516 - val_loss: 1.1412 - val_accuracy: 0.4889\n",
      "Epoch 61/100\n",
      "21/21 [==============================] - 0s 22ms/step - loss: 1.5639 - accuracy: 0.4615 - val_loss: 1.1139 - val_accuracy: 0.4593\n",
      "Epoch 62/100\n",
      "21/21 [==============================] - 1s 34ms/step - loss: 1.6715 - accuracy: 0.4516 - val_loss: 1.1261 - val_accuracy: 0.4296\n",
      "Epoch 63/100\n",
      "21/21 [==============================] - 1s 27ms/step - loss: 1.6452 - accuracy: 0.4268 - val_loss: 1.0090 - val_accuracy: 0.4741\n",
      "Epoch 64/100\n",
      "21/21 [==============================] - 0s 20ms/step - loss: 1.8186 - accuracy: 0.4268 - val_loss: 1.2443 - val_accuracy: 0.4519\n",
      "Epoch 65/100\n",
      "21/21 [==============================] - 0s 19ms/step - loss: 1.6104 - accuracy: 0.4442 - val_loss: 1.1845 - val_accuracy: 0.4815\n",
      "Epoch 66/100\n",
      "21/21 [==============================] - 0s 20ms/step - loss: 1.6725 - accuracy: 0.4268 - val_loss: 1.1039 - val_accuracy: 0.4593\n",
      "Epoch 67/100\n",
      "21/21 [==============================] - 1s 34ms/step - loss: 1.6598 - accuracy: 0.4491 - val_loss: 1.0845 - val_accuracy: 0.4519\n",
      "Epoch 68/100\n",
      "21/21 [==============================] - 1s 34ms/step - loss: 1.7544 - accuracy: 0.4615 - val_loss: 1.3739 - val_accuracy: 0.4370\n",
      "Epoch 69/100\n",
      "21/21 [==============================] - 1s 29ms/step - loss: 1.5509 - accuracy: 0.4665 - val_loss: 1.2827 - val_accuracy: 0.4370\n",
      "Epoch 70/100\n",
      "21/21 [==============================] - 1s 27ms/step - loss: 1.6479 - accuracy: 0.4665 - val_loss: 1.3384 - val_accuracy: 0.4444\n",
      "Epoch 71/100\n",
      "21/21 [==============================] - 0s 21ms/step - loss: 1.5586 - accuracy: 0.4541 - val_loss: 1.0853 - val_accuracy: 0.4593\n",
      "Epoch 72/100\n",
      "21/21 [==============================] - 0s 21ms/step - loss: 1.5530 - accuracy: 0.4516 - val_loss: 0.9787 - val_accuracy: 0.4815\n",
      "Epoch 73/100\n",
      "21/21 [==============================] - 0s 21ms/step - loss: 1.6038 - accuracy: 0.4665 - val_loss: 1.4227 - val_accuracy: 0.4519\n",
      "Epoch 74/100\n",
      "21/21 [==============================] - 1s 31ms/step - loss: 1.6668 - accuracy: 0.4640 - val_loss: 1.0585 - val_accuracy: 0.5111\n",
      "Epoch 75/100\n",
      "21/21 [==============================] - 1s 32ms/step - loss: 1.5542 - accuracy: 0.4839 - val_loss: 1.2470 - val_accuracy: 0.4815\n",
      "Epoch 76/100\n",
      "21/21 [==============================] - 1s 25ms/step - loss: 1.5122 - accuracy: 0.4417 - val_loss: 1.2118 - val_accuracy: 0.4444\n",
      "Epoch 77/100\n",
      "21/21 [==============================] - 0s 19ms/step - loss: 1.4860 - accuracy: 0.5211 - val_loss: 1.1046 - val_accuracy: 0.4889\n",
      "Epoch 78/100\n",
      "21/21 [==============================] - 0s 18ms/step - loss: 1.5497 - accuracy: 0.4318 - val_loss: 1.1921 - val_accuracy: 0.4815\n",
      "Epoch 79/100\n",
      "21/21 [==============================] - 0s 19ms/step - loss: 1.5507 - accuracy: 0.4640 - val_loss: 0.9890 - val_accuracy: 0.4741\n",
      "Epoch 80/100\n",
      "21/21 [==============================] - 1s 31ms/step - loss: 1.4638 - accuracy: 0.4864 - val_loss: 1.0693 - val_accuracy: 0.4519\n",
      "Epoch 81/100\n",
      "21/21 [==============================] - 0s 22ms/step - loss: 1.4386 - accuracy: 0.4690 - val_loss: 1.1795 - val_accuracy: 0.5037\n",
      "Epoch 82/100\n",
      "21/21 [==============================] - 0s 21ms/step - loss: 1.4426 - accuracy: 0.4764 - val_loss: 0.9322 - val_accuracy: 0.5037\n",
      "Epoch 83/100\n",
      "21/21 [==============================] - 0s 22ms/step - loss: 1.4812 - accuracy: 0.4516 - val_loss: 1.0893 - val_accuracy: 0.4963\n",
      "Epoch 84/100\n",
      "21/21 [==============================] - 0s 21ms/step - loss: 1.4797 - accuracy: 0.4541 - val_loss: 0.9995 - val_accuracy: 0.5556\n",
      "Epoch 85/100\n",
      "21/21 [==============================] - 1s 32ms/step - loss: 1.5145 - accuracy: 0.4268 - val_loss: 1.0713 - val_accuracy: 0.4741\n",
      "Epoch 86/100\n",
      "21/21 [==============================] - 1s 34ms/step - loss: 1.3979 - accuracy: 0.4913 - val_loss: 0.9722 - val_accuracy: 0.5333\n",
      "Epoch 87/100\n",
      "21/21 [==============================] - 0s 22ms/step - loss: 1.4006 - accuracy: 0.4615 - val_loss: 0.9588 - val_accuracy: 0.4815\n",
      "Epoch 88/100\n",
      "21/21 [==============================] - 0s 20ms/step - loss: 1.3713 - accuracy: 0.4839 - val_loss: 1.1057 - val_accuracy: 0.4593\n",
      "Epoch 89/100\n",
      "21/21 [==============================] - 0s 21ms/step - loss: 1.3688 - accuracy: 0.4963 - val_loss: 0.9149 - val_accuracy: 0.5630\n",
      "Epoch 90/100\n",
      "21/21 [==============================] - 0s 22ms/step - loss: 1.3686 - accuracy: 0.4839 - val_loss: 0.9138 - val_accuracy: 0.5778\n",
      "Epoch 91/100\n",
      "21/21 [==============================] - 0s 19ms/step - loss: 1.4069 - accuracy: 0.5012 - val_loss: 0.9483 - val_accuracy: 0.4889\n",
      "Epoch 92/100\n",
      "21/21 [==============================] - 0s 18ms/step - loss: 1.4086 - accuracy: 0.4963 - val_loss: 1.2022 - val_accuracy: 0.4667\n",
      "Epoch 93/100\n",
      "21/21 [==============================] - 1s 31ms/step - loss: 1.3491 - accuracy: 0.4739 - val_loss: 1.2647 - val_accuracy: 0.4593\n",
      "Epoch 94/100\n",
      "21/21 [==============================] - 1s 31ms/step - loss: 1.3813 - accuracy: 0.4888 - val_loss: 1.1836 - val_accuracy: 0.5111\n",
      "Epoch 95/100\n",
      "21/21 [==============================] - 0s 23ms/step - loss: 1.4322 - accuracy: 0.4541 - val_loss: 1.0657 - val_accuracy: 0.4815\n",
      "Epoch 96/100\n",
      "21/21 [==============================] - 1s 27ms/step - loss: 1.2982 - accuracy: 0.4938 - val_loss: 1.0773 - val_accuracy: 0.4741\n",
      "Epoch 97/100\n",
      "21/21 [==============================] - 1s 26ms/step - loss: 1.3280 - accuracy: 0.5087 - val_loss: 1.4435 - val_accuracy: 0.4444\n",
      "Epoch 98/100\n",
      "21/21 [==============================] - 1s 30ms/step - loss: 1.3923 - accuracy: 0.4814 - val_loss: 0.9576 - val_accuracy: 0.5259\n",
      "Epoch 99/100\n",
      "21/21 [==============================] - 1s 34ms/step - loss: 1.2715 - accuracy: 0.4864 - val_loss: 0.9764 - val_accuracy: 0.5111\n",
      "Epoch 100/100\n",
      "21/21 [==============================] - 1s 32ms/step - loss: 1.4223 - accuracy: 0.4764 - val_loss: 0.9140 - val_accuracy: 0.5630\n"
     ]
    }
   ],
   "source": [
    "cnnhistory=model.fit(x_traincnn, y_train, batch_size=20, epochs=100, validation_data=(x_testcnn, y_test))"
   ]
  },
  {
   "cell_type": "code",
   "execution_count": 38,
   "metadata": {},
   "outputs": [
    {
     "data": {
      "image/png": "[encoded data removed]",
      "text/plain": [
       "<Figure size 432x288 with 1 Axes>"
      ]
     },
     "metadata": {
      "needs_background": "light"
     },
     "output_type": "display_data"
    }
   ],
   "source": [
    "plt.plot(cnnhistory.history['loss'])\n",
    "plt.plot(cnnhistory.history['val_loss'])\n",
    "plt.title('model loss')\n",
    "plt.ylabel('loss')\n",
    "plt.xlabel('epoch')\n",
    "plt.legend(['train', 'test'], loc='upper left')\n",
    "plt.show()"
   ]
  },
  {
   "cell_type": "code",
   "execution_count": 39,
   "metadata": {
    "id": "NRBYh-bMHucX"
   },
   "outputs": [],
   "source": [
    "em=['happy','sad','neutral','angry']"
   ]
  },
  {
   "cell_type": "code",
   "execution_count": 40,
   "metadata": {
    "colab": {
     "base_uri": "https://localhost:8080/",
     "height": 51
    },
    "id": "GrrqoLzFAJDq",
    "outputId": "127a4973-55a9-4310-9df2-5d2ccef3f574"
   },
   "outputs": [
    {
     "name": "stdout",
     "output_type": "stream",
     "text": [
      "5/5 [==============================] - 0s 4ms/step - loss: 0.9140 - accuracy: 0.5630\n",
      "Restored model, accuracy: 56.30%\n"
     ]
    }
   ],
   "source": [
    "classes_x = model.predict(x_testcnn)\n",
    "predictions=np.argmax(classes_x,axis=1)\n",
    "\n",
    "loss, acc = model.evaluate(x_testcnn, y_test)\n",
    "print(\"Restored model, accuracy: {:5.2f}%\".format(100*acc))"
   ]
  },
  {
   "cell_type": "code",
   "execution_count": 41,
   "metadata": {},
   "outputs": [],
   "source": [
    "def print_confusion_matrix(confusion_matrix, class_names, figsize = (10,7), fontsize=14):\n",
    "\n",
    "    df_cm = pd.DataFrame(\n",
    "        confusion_matrix, index=class_names, columns=class_names, \n",
    "    )\n",
    "    fig = plt.figure(figsize=figsize)\n",
    "    try:\n",
    "        heatmap = sns.heatmap(df_cm, annot=True, fmt=\"d\")\n",
    "    except ValueError:\n",
    "        raise ValueError(\"Confusion matrix values must be integers.\")\n",
    "        \n",
    "    heatmap.yaxis.set_ticklabels(heatmap.yaxis.get_ticklabels(), rotation=0, ha='right', fontsize=fontsize)\n",
    "    heatmap.xaxis.set_ticklabels(heatmap.xaxis.get_ticklabels(), rotation=45, ha='right', fontsize=fontsize)\n",
    "    plt.ylabel('True label')\n",
    "    plt.xlabel('Predicted label')"
   ]
  },
  {
   "cell_type": "code",
   "execution_count": 42,
   "metadata": {
    "colab": {
     "base_uri": "https://localhost:8080/",
     "height": 272
    },
    "id": "lo2NA08o5jCJ",
    "outputId": "94f83a59-0d22-4501-93c5-e39f969fd4d5"
   },
   "outputs": [
    {
     "name": "stdout",
     "output_type": "stream",
     "text": [
      "              precision    recall  f1-score   support\n",
      "\n",
      "         0.0       0.45      0.72      0.55        32\n",
      "         1.0       0.54      0.43      0.48        35\n",
      "         3.0       0.51      0.69      0.59        26\n",
      "         4.0       0.95      0.48      0.63        42\n",
      "\n",
      "    accuracy                           0.56       135\n",
      "   macro avg       0.61      0.58      0.56       135\n",
      "weighted avg       0.64      0.56      0.57       135\n",
      "\n"
     ]
    },
    {
     "data": {
      "image/png": "[encoded data removed]",
      "text/plain": [
       "<Figure size 720x504 with 2 Axes>"
      ]
     },
     "metadata": {
      "needs_background": "light"
     },
     "output_type": "display_data"
    }
   ],
   "source": [
    "from sklearn.metrics import classification_report \n",
    "from sklearn.metrics import confusion_matrix \n",
    "\n",
    "classes_x = model.predict(x_testcnn)\n",
    "predictions=np.argmax(classes_x,axis=1)\n",
    "#predictions = model.predict_classes(x_testcnn)\n",
    "print(classification_report(y_test,predictions))\n",
    "print_confusion_matrix(confusion_matrix(y_test,predictions),em)"
   ]
  },
  {
   "cell_type": "code",
   "execution_count": 22,
   "metadata": {
    "colab": {
     "base_uri": "https://localhost:8080/",
     "height": 34
    },
    "id": "kVanJ86-FhwS",
    "outputId": "c8194727-9ef5-4e72-d1e2-26c6100cdb74"
   },
   "outputs": [
    {
     "name": "stdout",
     "output_type": "stream",
     "text": [
      "result : neutral\n"
     ]
    },
    {
     "name": "stderr",
     "output_type": "stream",
     "text": [
      "<ipython-input-2-2161fc353d88>:20: FutureWarning: Pass y=[0.0000000e+00 0.0000000e+00 0.0000000e+00 ... 0.0000000e+00 0.0000000e+00\n",
      " 6.1035156e-05] as keyword args. From version 0.10 passing these as positional arguments will result in an error\n",
      "  mel = np.mean(librosa.feature.melspectrogram(X, sr=sample_rate).T,axis=0)\n"
     ]
    }
   ],
   "source": [
    "filename = \"data/ravdess/Actor_02/03-01-01-01-02-01-02.wav\"\n",
    "    # record the file (start talking)\n",
    "    #record_to_file(filename)\n",
    "    # extract features and reshape it\n",
    "features = np.array(extract_feature(filename, mfcc=True, chroma=True, mel=True).reshape(1, -1))\n",
    "    # predict\n",
    "f=np.expand_dims(features,axis=2)\n",
    "classes_pred = model.predict(f)\n",
    "result=np.argmax(classes_pred,axis=1)\n",
    "\n",
    "#result = model.predict_classes(f)[0]\n",
    "    # show the result \n",
    "print(\"result :\",em[result[0]-1])"
   ]
  },
  {
   "cell_type": "markdown",
   "metadata": {
    "id": "K1vlkqDPlA8A"
   },
   "source": [
    "**Model 2: Relu Relu Softmax** "
   ]
  },
  {
   "cell_type": "code",
   "execution_count": 43,
   "metadata": {
    "id": "TQR38pmCSaNU"
   },
   "outputs": [],
   "source": [
    "\n",
    "\n",
    "um = Sequential()\n",
    "\n",
    "um.add(Conv1D(128, 5,padding='same',input_shape=(180,1)))#1\n",
    "um.add(Activation('relu'))\n",
    "um.add(MaxPooling1D(pool_size=(8)))\n",
    "um.add(Dropout(0.25))\n",
    "\n",
    "\n",
    "um.add(Conv1D(128, 5,padding='same',))                  #2\n",
    "um.add(Activation('relu'))\n",
    "um.add(MaxPooling1D(pool_size=(8)))\n",
    "um.add(Dropout(0.25))\n",
    "\n",
    "\n",
    "um.add(Flatten())\n",
    "um.add(Dense(8))                                        #4                      \n",
    "um.add(Activation('softmax'))\n",
    "opt =tf.keras.optimizers.RMSprop(learning_rate=0.00005,epsilon=None,rho=0.9,decay=0.0)\n",
    "\n"
   ]
  },
  {
   "cell_type": "code",
   "execution_count": 44,
   "metadata": {
    "colab": {
     "base_uri": "https://localhost:8080/",
     "height": 629
    },
    "id": "xfXWyKwKbNfB",
    "outputId": "af9f6e6f-aa1c-430d-c334-73dcc5606d39"
   },
   "outputs": [
    {
     "name": "stdout",
     "output_type": "stream",
     "text": [
      "Model: \"sequential_4\"\n",
      "_________________________________________________________________\n",
      " Layer (type)                Output Shape              Param #   \n",
      "=================================================================\n",
      " conv1d_7 (Conv1D)           (None, 180, 128)          768       \n",
      "                                                                 \n",
      " activation_11 (Activation)  (None, 180, 128)          0         \n",
      "                                                                 \n",
      " max_pooling1d_6 (MaxPooling  (None, 22, 128)          0         \n",
      " 1D)                                                             \n",
      "                                                                 \n",
      " dropout_7 (Dropout)         (None, 22, 128)           0         \n",
      "                                                                 \n",
      " conv1d_8 (Conv1D)           (None, 22, 128)           82048     \n",
      "                                                                 \n",
      " activation_12 (Activation)  (None, 22, 128)           0         \n",
      "                                                                 \n",
      " max_pooling1d_7 (MaxPooling  (None, 2, 128)           0         \n",
      " 1D)                                                             \n",
      "                                                                 \n",
      " dropout_8 (Dropout)         (None, 2, 128)            0         \n",
      "                                                                 \n",
      " flatten_4 (Flatten)         (None, 256)               0         \n",
      "                                                                 \n",
      " dense_4 (Dense)             (None, 8)                 2056      \n",
      "                                                                 \n",
      " activation_13 (Activation)  (None, 8)                 0         \n",
      "                                                                 \n",
      "=================================================================\n",
      "Total params: 84,872\n",
      "Trainable params: 84,872\n",
      "Non-trainable params: 0\n",
      "_________________________________________________________________\n"
     ]
    }
   ],
   "source": [
    "um.summary()"
   ]
  },
  {
   "cell_type": "code",
   "execution_count": 45,
   "metadata": {
    "id": "oBIGulu3bSaj"
   },
   "outputs": [],
   "source": [
    "um.compile(loss='sparse_categorical_crossentropy',\n",
    "              optimizer=opt,\n",
    "              metrics=['accuracy'])"
   ]
  },
  {
   "cell_type": "code",
   "execution_count": 46,
   "metadata": {
    "colab": {
     "base_uri": "https://localhost:8080/",
     "height": 1000
    },
    "id": "0XiAWqd1bg5M",
    "outputId": "7c46bbcc-c4b1-425d-f06d-5f516ac6a531"
   },
   "outputs": [
    {
     "name": "stdout",
     "output_type": "stream",
     "text": [
      "Epoch 1/100\n",
      "21/21 [==============================] - 2s 33ms/step - loss: 20.2544 - accuracy: 0.1985 - val_loss: 3.5211 - val_accuracy: 0.2667\n",
      "Epoch 2/100\n",
      "21/21 [==============================] - 0s 17ms/step - loss: 13.7075 - accuracy: 0.2357 - val_loss: 5.1984 - val_accuracy: 0.2667\n",
      "Epoch 3/100\n",
      "21/21 [==============================] - 1s 32ms/step - loss: 12.9976 - accuracy: 0.2630 - val_loss: 4.3328 - val_accuracy: 0.2963\n",
      "Epoch 4/100\n",
      "21/21 [==============================] - 1s 33ms/step - loss: 13.4034 - accuracy: 0.2655 - val_loss: 3.6891 - val_accuracy: 0.3111\n",
      "Epoch 5/100\n",
      "21/21 [==============================] - 1s 32ms/step - loss: 11.5994 - accuracy: 0.2705 - val_loss: 2.2979 - val_accuracy: 0.3333\n",
      "Epoch 6/100\n",
      "21/21 [==============================] - 1s 33ms/step - loss: 11.4664 - accuracy: 0.2630 - val_loss: 5.2827 - val_accuracy: 0.3111\n",
      "Epoch 7/100\n",
      "21/21 [==============================] - 1s 35ms/step - loss: 11.8121 - accuracy: 0.2754 - val_loss: 4.0204 - val_accuracy: 0.3259\n",
      "Epoch 8/100\n",
      "21/21 [==============================] - 0s 22ms/step - loss: 11.1434 - accuracy: 0.2953 - val_loss: 2.0995 - val_accuracy: 0.4074\n",
      "Epoch 9/100\n",
      "21/21 [==============================] - 0s 21ms/step - loss: 11.0254 - accuracy: 0.2829 - val_loss: 2.7737 - val_accuracy: 0.3630\n",
      "Epoch 10/100\n",
      "21/21 [==============================] - 0s 20ms/step - loss: 11.0028 - accuracy: 0.2630 - val_loss: 3.0510 - val_accuracy: 0.3630\n",
      "Epoch 11/100\n",
      "21/21 [==============================] - 0s 20ms/step - loss: 11.7303 - accuracy: 0.2630 - val_loss: 2.2462 - val_accuracy: 0.3556\n",
      "Epoch 12/100\n",
      "21/21 [==============================] - 0s 22ms/step - loss: 10.5413 - accuracy: 0.2481 - val_loss: 3.2823 - val_accuracy: 0.3704\n",
      "Epoch 13/100\n",
      "21/21 [==============================] - 1s 28ms/step - loss: 9.9412 - accuracy: 0.2556 - val_loss: 2.4495 - val_accuracy: 0.4000\n",
      "Epoch 14/100\n",
      "21/21 [==============================] - 0s 19ms/step - loss: 9.7204 - accuracy: 0.2854 - val_loss: 1.3279 - val_accuracy: 0.4444\n",
      "Epoch 15/100\n",
      "21/21 [==============================] - 0s 23ms/step - loss: 9.4195 - accuracy: 0.3102 - val_loss: 2.1168 - val_accuracy: 0.3852\n",
      "Epoch 16/100\n",
      "21/21 [==============================] - 0s 18ms/step - loss: 8.2237 - accuracy: 0.3151 - val_loss: 2.4617 - val_accuracy: 0.3481\n",
      "Epoch 17/100\n",
      "21/21 [==============================] - 0s 20ms/step - loss: 8.5509 - accuracy: 0.3052 - val_loss: 2.2929 - val_accuracy: 0.4000\n",
      "Epoch 18/100\n",
      "21/21 [==============================] - 0s 20ms/step - loss: 8.3495 - accuracy: 0.2928 - val_loss: 1.9639 - val_accuracy: 0.4222\n",
      "Epoch 19/100\n",
      "21/21 [==============================] - 0s 20ms/step - loss: 8.5961 - accuracy: 0.2779 - val_loss: 2.3695 - val_accuracy: 0.3778\n",
      "Epoch 20/100\n",
      "21/21 [==============================] - 0s 18ms/step - loss: 7.1403 - accuracy: 0.3350 - val_loss: 3.4106 - val_accuracy: 0.3778\n",
      "Epoch 21/100\n",
      "21/21 [==============================] - 0s 18ms/step - loss: 7.5563 - accuracy: 0.3226 - val_loss: 1.4921 - val_accuracy: 0.4000\n",
      "Epoch 22/100\n",
      "21/21 [==============================] - 0s 22ms/step - loss: 6.9672 - accuracy: 0.3400 - val_loss: 1.9689 - val_accuracy: 0.3852\n",
      "Epoch 23/100\n",
      "21/21 [==============================] - 0s 18ms/step - loss: 7.3739 - accuracy: 0.3375 - val_loss: 1.3355 - val_accuracy: 0.3852\n",
      "Epoch 24/100\n",
      "21/21 [==============================] - 1s 26ms/step - loss: 6.8303 - accuracy: 0.3251 - val_loss: 1.6905 - val_accuracy: 0.4148\n",
      "Epoch 25/100\n",
      "21/21 [==============================] - 0s 19ms/step - loss: 6.6374 - accuracy: 0.3474 - val_loss: 1.4917 - val_accuracy: 0.4667\n",
      "Epoch 26/100\n",
      "21/21 [==============================] - 0s 19ms/step - loss: 6.4017 - accuracy: 0.3375 - val_loss: 1.7241 - val_accuracy: 0.4296\n",
      "Epoch 27/100\n",
      "21/21 [==============================] - 1s 27ms/step - loss: 6.5165 - accuracy: 0.2978 - val_loss: 1.4343 - val_accuracy: 0.4519\n",
      "Epoch 28/100\n",
      "21/21 [==============================] - 0s 23ms/step - loss: 6.3871 - accuracy: 0.3127 - val_loss: 1.4956 - val_accuracy: 0.4296\n",
      "Epoch 29/100\n",
      "21/21 [==============================] - 0s 21ms/step - loss: 5.7681 - accuracy: 0.3598 - val_loss: 1.6455 - val_accuracy: 0.3852\n",
      "Epoch 30/100\n",
      "21/21 [==============================] - 0s 19ms/step - loss: 5.4951 - accuracy: 0.3499 - val_loss: 1.9397 - val_accuracy: 0.3926\n",
      "Epoch 31/100\n",
      "21/21 [==============================] - 0s 21ms/step - loss: 5.6156 - accuracy: 0.3400 - val_loss: 1.7657 - val_accuracy: 0.4148\n",
      "Epoch 32/100\n",
      "21/21 [==============================] - 0s 22ms/step - loss: 5.4046 - accuracy: 0.3275 - val_loss: 1.3563 - val_accuracy: 0.4815\n",
      "Epoch 33/100\n",
      "21/21 [==============================] - 0s 22ms/step - loss: 5.8195 - accuracy: 0.3201 - val_loss: 1.7057 - val_accuracy: 0.4148\n",
      "Epoch 34/100\n",
      "21/21 [==============================] - 0s 18ms/step - loss: 5.3546 - accuracy: 0.3102 - val_loss: 1.6517 - val_accuracy: 0.4148\n",
      "Epoch 35/100\n",
      "21/21 [==============================] - 0s 19ms/step - loss: 5.1048 - accuracy: 0.3375 - val_loss: 1.3329 - val_accuracy: 0.4519\n",
      "Epoch 36/100\n",
      "21/21 [==============================] - 0s 17ms/step - loss: 5.0506 - accuracy: 0.3275 - val_loss: 1.6903 - val_accuracy: 0.4074\n",
      "Epoch 37/100\n",
      "21/21 [==============================] - 0s 18ms/step - loss: 4.9531 - accuracy: 0.3499 - val_loss: 1.3094 - val_accuracy: 0.4296\n",
      "Epoch 38/100\n",
      "21/21 [==============================] - 1s 28ms/step - loss: 4.8863 - accuracy: 0.3325 - val_loss: 1.3357 - val_accuracy: 0.4222\n",
      "Epoch 39/100\n",
      "21/21 [==============================] - 0s 17ms/step - loss: 4.2421 - accuracy: 0.3672 - val_loss: 1.8237 - val_accuracy: 0.4074\n",
      "Epoch 40/100\n",
      "21/21 [==============================] - 0s 22ms/step - loss: 4.5802 - accuracy: 0.3524 - val_loss: 1.8481 - val_accuracy: 0.4074\n",
      "Epoch 41/100\n",
      "21/21 [==============================] - 1s 28ms/step - loss: 4.5954 - accuracy: 0.3424 - val_loss: 1.5891 - val_accuracy: 0.4148\n",
      "Epoch 42/100\n",
      "21/21 [==============================] - 1s 29ms/step - loss: 4.1640 - accuracy: 0.3524 - val_loss: 1.7427 - val_accuracy: 0.4000\n",
      "Epoch 43/100\n",
      "21/21 [==============================] - 1s 29ms/step - loss: 3.9488 - accuracy: 0.3474 - val_loss: 1.5082 - val_accuracy: 0.4074\n",
      "Epoch 44/100\n",
      "21/21 [==============================] - 1s 29ms/step - loss: 4.1215 - accuracy: 0.3375 - val_loss: 1.4689 - val_accuracy: 0.4148\n",
      "Epoch 45/100\n",
      "21/21 [==============================] - 1s 29ms/step - loss: 3.7527 - accuracy: 0.3896 - val_loss: 1.4031 - val_accuracy: 0.4222\n",
      "Epoch 46/100\n",
      "21/21 [==============================] - 1s 26ms/step - loss: 3.5010 - accuracy: 0.3598 - val_loss: 1.4218 - val_accuracy: 0.4370\n",
      "Epoch 47/100\n",
      "21/21 [==============================] - 0s 20ms/step - loss: 4.0304 - accuracy: 0.3027 - val_loss: 1.4849 - val_accuracy: 0.4222\n",
      "Epoch 48/100\n",
      "21/21 [==============================] - 0s 21ms/step - loss: 3.5365 - accuracy: 0.3524 - val_loss: 1.4736 - val_accuracy: 0.4296\n",
      "Epoch 49/100\n",
      "21/21 [==============================] - 0s 20ms/step - loss: 3.6172 - accuracy: 0.3697 - val_loss: 1.3245 - val_accuracy: 0.4296\n",
      "Epoch 50/100\n",
      "21/21 [==============================] - 1s 28ms/step - loss: 3.3645 - accuracy: 0.3548 - val_loss: 1.4130 - val_accuracy: 0.4222\n",
      "Epoch 51/100\n",
      "21/21 [==============================] - 1s 25ms/step - loss: 3.0555 - accuracy: 0.3722 - val_loss: 1.3481 - val_accuracy: 0.4222\n",
      "Epoch 52/100\n",
      "21/21 [==============================] - 1s 24ms/step - loss: 3.5478 - accuracy: 0.3350 - val_loss: 1.2344 - val_accuracy: 0.4222\n",
      "Epoch 53/100\n",
      "21/21 [==============================] - 1s 26ms/step - loss: 2.9893 - accuracy: 0.3772 - val_loss: 1.2247 - val_accuracy: 0.4222\n",
      "Epoch 54/100\n",
      "21/21 [==============================] - 0s 23ms/step - loss: 2.7905 - accuracy: 0.3598 - val_loss: 1.2520 - val_accuracy: 0.4148\n",
      "Epoch 55/100\n",
      "21/21 [==============================] - 0s 23ms/step - loss: 3.1843 - accuracy: 0.3176 - val_loss: 1.2092 - val_accuracy: 0.4222\n",
      "Epoch 56/100\n",
      "21/21 [==============================] - 1s 27ms/step - loss: 2.9266 - accuracy: 0.3747 - val_loss: 1.2213 - val_accuracy: 0.4222\n",
      "Epoch 57/100\n",
      "21/21 [==============================] - 1s 27ms/step - loss: 2.5279 - accuracy: 0.3871 - val_loss: 1.1854 - val_accuracy: 0.4296\n",
      "Epoch 58/100\n"
     ]
    },
    {
     "name": "stdout",
     "output_type": "stream",
     "text": [
      "21/21 [==============================] - 0s 24ms/step - loss: 2.7048 - accuracy: 0.3722 - val_loss: 1.2657 - val_accuracy: 0.4222\n",
      "Epoch 59/100\n",
      "21/21 [==============================] - 1s 27ms/step - loss: 2.6538 - accuracy: 0.3474 - val_loss: 1.2349 - val_accuracy: 0.4148\n",
      "Epoch 60/100\n",
      "21/21 [==============================] - 0s 22ms/step - loss: 2.4643 - accuracy: 0.3747 - val_loss: 1.1661 - val_accuracy: 0.4222\n",
      "Epoch 61/100\n",
      "21/21 [==============================] - 0s 20ms/step - loss: 2.3481 - accuracy: 0.3747 - val_loss: 1.1526 - val_accuracy: 0.4296\n",
      "Epoch 62/100\n",
      "21/21 [==============================] - 1s 25ms/step - loss: 2.3050 - accuracy: 0.4169 - val_loss: 1.1703 - val_accuracy: 0.4222\n",
      "Epoch 63/100\n",
      "21/21 [==============================] - 1s 26ms/step - loss: 2.2484 - accuracy: 0.3995 - val_loss: 1.1693 - val_accuracy: 0.4222\n",
      "Epoch 64/100\n",
      "21/21 [==============================] - 1s 25ms/step - loss: 2.2557 - accuracy: 0.3772 - val_loss: 1.1837 - val_accuracy: 0.4296\n",
      "Epoch 65/100\n",
      "21/21 [==============================] - 0s 21ms/step - loss: 2.2779 - accuracy: 0.3821 - val_loss: 1.1802 - val_accuracy: 0.4296\n",
      "Epoch 66/100\n",
      "21/21 [==============================] - 0s 17ms/step - loss: 2.0396 - accuracy: 0.3846 - val_loss: 1.1825 - val_accuracy: 0.4222\n",
      "Epoch 67/100\n",
      "21/21 [==============================] - 0s 17ms/step - loss: 2.2589 - accuracy: 0.3623 - val_loss: 1.1921 - val_accuracy: 0.4148\n",
      "Epoch 68/100\n",
      "21/21 [==============================] - 1s 28ms/step - loss: 2.1821 - accuracy: 0.3772 - val_loss: 1.1658 - val_accuracy: 0.4148\n",
      "Epoch 69/100\n",
      "21/21 [==============================] - 1s 25ms/step - loss: 1.9143 - accuracy: 0.3573 - val_loss: 1.1697 - val_accuracy: 0.4222\n",
      "Epoch 70/100\n",
      "21/21 [==============================] - 0s 21ms/step - loss: 1.9280 - accuracy: 0.3921 - val_loss: 1.1772 - val_accuracy: 0.4222\n",
      "Epoch 71/100\n",
      "21/21 [==============================] - 0s 21ms/step - loss: 1.9178 - accuracy: 0.3524 - val_loss: 1.1817 - val_accuracy: 0.4148\n",
      "Epoch 72/100\n",
      "21/21 [==============================] - 0s 21ms/step - loss: 1.7884 - accuracy: 0.3945 - val_loss: 1.1893 - val_accuracy: 0.4222\n",
      "Epoch 73/100\n",
      "21/21 [==============================] - 1s 25ms/step - loss: 1.7650 - accuracy: 0.4318 - val_loss: 1.1839 - val_accuracy: 0.4148\n",
      "Epoch 74/100\n",
      "21/21 [==============================] - 0s 22ms/step - loss: 1.7357 - accuracy: 0.4020 - val_loss: 1.1837 - val_accuracy: 0.4148\n",
      "Epoch 75/100\n",
      "21/21 [==============================] - 0s 20ms/step - loss: 1.7896 - accuracy: 0.3722 - val_loss: 1.1850 - val_accuracy: 0.4296\n",
      "Epoch 76/100\n",
      "21/21 [==============================] - 1s 24ms/step - loss: 1.6475 - accuracy: 0.3871 - val_loss: 1.1858 - val_accuracy: 0.4222\n",
      "Epoch 77/100\n",
      "21/21 [==============================] - 0s 22ms/step - loss: 1.7249 - accuracy: 0.3797 - val_loss: 1.1830 - val_accuracy: 0.4148\n",
      "Epoch 78/100\n",
      "21/21 [==============================] - 1s 25ms/step - loss: 1.6013 - accuracy: 0.4069 - val_loss: 1.1775 - val_accuracy: 0.4222\n",
      "Epoch 79/100\n",
      "21/21 [==============================] - 0s 21ms/step - loss: 1.6367 - accuracy: 0.4094 - val_loss: 1.1774 - val_accuracy: 0.4296\n",
      "Epoch 80/100\n",
      "21/21 [==============================] - 0s 21ms/step - loss: 1.6893 - accuracy: 0.3846 - val_loss: 1.1789 - val_accuracy: 0.4222\n",
      "Epoch 81/100\n",
      "21/21 [==============================] - 0s 20ms/step - loss: 1.4954 - accuracy: 0.4194 - val_loss: 1.1671 - val_accuracy: 0.4370\n",
      "Epoch 82/100\n",
      "21/21 [==============================] - 0s 20ms/step - loss: 1.5229 - accuracy: 0.4045 - val_loss: 1.1665 - val_accuracy: 0.4370\n",
      "Epoch 83/100\n",
      "21/21 [==============================] - 1s 25ms/step - loss: 1.5428 - accuracy: 0.3697 - val_loss: 1.1690 - val_accuracy: 0.4444\n",
      "Epoch 84/100\n",
      "21/21 [==============================] - 0s 20ms/step - loss: 1.5646 - accuracy: 0.3921 - val_loss: 1.1684 - val_accuracy: 0.4370\n",
      "Epoch 85/100\n",
      "21/21 [==============================] - 0s 22ms/step - loss: 1.4983 - accuracy: 0.4094 - val_loss: 1.1665 - val_accuracy: 0.4296\n",
      "Epoch 86/100\n",
      "21/21 [==============================] - 0s 20ms/step - loss: 1.4943 - accuracy: 0.3846 - val_loss: 1.1632 - val_accuracy: 0.4296\n",
      "Epoch 87/100\n",
      "21/21 [==============================] - 0s 18ms/step - loss: 1.4310 - accuracy: 0.3995 - val_loss: 1.1660 - val_accuracy: 0.4296\n",
      "Epoch 88/100\n",
      "21/21 [==============================] - 1s 29ms/step - loss: 1.4357 - accuracy: 0.4318 - val_loss: 1.1708 - val_accuracy: 0.4444\n",
      "Epoch 89/100\n",
      "21/21 [==============================] - 1s 30ms/step - loss: 1.3849 - accuracy: 0.4218 - val_loss: 1.1686 - val_accuracy: 0.4667\n",
      "Epoch 90/100\n",
      "21/21 [==============================] - 1s 24ms/step - loss: 1.3961 - accuracy: 0.4293 - val_loss: 1.1717 - val_accuracy: 0.4667\n",
      "Epoch 91/100\n",
      "21/21 [==============================] - 0s 20ms/step - loss: 1.3811 - accuracy: 0.4094 - val_loss: 1.1642 - val_accuracy: 0.4741\n",
      "Epoch 92/100\n",
      "21/21 [==============================] - 1s 26ms/step - loss: 1.2805 - accuracy: 0.4169 - val_loss: 1.1653 - val_accuracy: 0.4741\n",
      "Epoch 93/100\n",
      "21/21 [==============================] - 1s 33ms/step - loss: 1.3643 - accuracy: 0.4119 - val_loss: 1.1613 - val_accuracy: 0.4741\n",
      "Epoch 94/100\n",
      "21/21 [==============================] - 1s 33ms/step - loss: 1.4015 - accuracy: 0.4194 - val_loss: 1.1546 - val_accuracy: 0.4667\n",
      "Epoch 95/100\n",
      "21/21 [==============================] - 1s 34ms/step - loss: 1.3263 - accuracy: 0.4367 - val_loss: 1.1506 - val_accuracy: 0.4519\n",
      "Epoch 96/100\n",
      "21/21 [==============================] - 1s 28ms/step - loss: 1.3307 - accuracy: 0.4491 - val_loss: 1.1568 - val_accuracy: 0.4741\n",
      "Epoch 97/100\n",
      "21/21 [==============================] - 0s 18ms/step - loss: 1.2680 - accuracy: 0.4268 - val_loss: 1.1573 - val_accuracy: 0.4741\n",
      "Epoch 98/100\n",
      "21/21 [==============================] - 0s 18ms/step - loss: 1.3305 - accuracy: 0.4342 - val_loss: 1.1568 - val_accuracy: 0.4741\n",
      "Epoch 99/100\n",
      "21/21 [==============================] - 1s 34ms/step - loss: 1.3870 - accuracy: 0.4094 - val_loss: 1.1576 - val_accuracy: 0.4667\n",
      "Epoch 100/100\n",
      "21/21 [==============================] - 1s 25ms/step - loss: 1.3389 - accuracy: 0.4045 - val_loss: 1.1574 - val_accuracy: 0.4741\n"
     ]
    }
   ],
   "source": [
    "umhistory=um.fit(x_traincnn, y_train, batch_size=20, epochs=100, validation_data=(x_testcnn, y_test))"
   ]
  },
  {
   "cell_type": "code",
   "execution_count": 47,
   "metadata": {},
   "outputs": [
    {
     "name": "stdout",
     "output_type": "stream",
     "text": [
      "5/5 [==============================] - 0s 6ms/step - loss: 1.1574 - accuracy: 0.4741\n",
      "Restored model, accuracy: 47.41%\n"
     ]
    }
   ],
   "source": [
    "\n",
    "loss, acc = um.evaluate(x_testcnn, y_test)\n",
    "print(\"Restored model, accuracy: {:5.2f}%\".format(100*acc))"
   ]
  },
  {
   "cell_type": "code",
   "execution_count": 62,
   "metadata": {
    "colab": {
     "base_uri": "https://localhost:8080/",
     "height": 51
    },
    "id": "yUtQ8Bwjhcmw",
    "outputId": "e2fb5814-290f-47fe-b4e3-7dbaec5c432d"
   },
   "outputs": [
    {
     "data": {
      "image/png": "[encoded data removed]",
      "text/plain": [
       "<Figure size 432x288 with 1 Axes>"
      ]
     },
     "metadata": {
      "needs_background": "light"
     },
     "output_type": "display_data"
    }
   ],
   "source": [
    "plt.plot(umhistory.history['loss'])\n",
    "plt.plot(umhistory.history['val_loss'])\n",
    "plt.title('model loss')\n",
    "plt.ylabel('loss')\n",
    "plt.xlabel('epoch')\n",
    "plt.legend(['train', 'test'], loc='upper left')\n",
    "plt.show()"
   ]
  },
  {
   "cell_type": "code",
   "execution_count": 50,
   "metadata": {
    "colab": {
     "base_uri": "https://localhost:8080/",
     "height": 272
    },
    "id": "uqfstoLD8fPK",
    "outputId": "3aae48f5-6013-491a-d5bb-f9e637759a14"
   },
   "outputs": [
    {
     "name": "stdout",
     "output_type": "stream",
     "text": [
      "              precision    recall  f1-score   support\n",
      "\n",
      "         0.0       0.45      0.72      0.55        32\n",
      "         1.0       0.54      0.43      0.48        35\n",
      "         3.0       0.51      0.69      0.59        26\n",
      "         4.0       0.95      0.48      0.63        42\n",
      "\n",
      "    accuracy                           0.56       135\n",
      "   macro avg       0.61      0.58      0.56       135\n",
      "weighted avg       0.64      0.56      0.57       135\n",
      "\n"
     ]
    },
    {
     "data": {
      "image/png": "[encoded data removed]",
      "text/plain": [
       "<Figure size 720x504 with 2 Axes>"
      ]
     },
     "metadata": {
      "needs_background": "light"
     },
     "output_type": "display_data"
    }
   ],
   "source": [
    "from sklearn.metrics import classification_report \n",
    "from sklearn.metrics import confusion_matrix \n",
    "classes_pa = model.predict(x_testcnn)\n",
    "prediction=np.argmax(classes_pa,axis=1)\n",
    "#prediction = um.predict_classes(x_testcnn)\n",
    "print(classification_report(y_test,prediction))\n",
    "print_confusion_matrix(confusion_matrix(y_test,predictions),em)"
   ]
  },
  {
   "cell_type": "markdown",
   "metadata": {
    "id": "vxQBQ5p-lRIx"
   },
   "source": [
    "**Model 3: Relu Relu Softmax**"
   ]
  },
  {
   "cell_type": "code",
   "execution_count": 57,
   "metadata": {
    "id": "XgOckwmclKd5"
   },
   "outputs": [],
   "source": [
    "import keras\n",
    "import numpy as np\n",
    "import matplotlib.pyplot as plt\n",
    "import tensorflow as tf\n",
    "\n",
    "\n",
    "tm = Sequential()\n",
    "\n",
    "tm.add(Conv1D(128, 5,padding='same',input_shape=(180,1)))#1\n",
    "tm.add(Activation('relu'))\n",
    "tm.add(Dropout(0.1))\n",
    "tm.add(MaxPooling1D(pool_size=(8)))\n",
    "\n",
    "tm.add(Conv1D(128, 5,padding='same',))                  #2\n",
    "tm.add(Activation('relu'))\n",
    "tm.add(MaxPooling1D(pool_size=(8)))\n",
    "tm.add(Dropout(0.1))\n",
    "\n",
    "tm.add(Conv1D(128, 5,padding='same',))                  #3\n",
    "tm.add(Activation('relu'))\n",
    "tm.add(Dropout(0.1))\n",
    "\n",
    "tm.add(Flatten())\n",
    "tm.add(Dense(8))                                        #4                      \n",
    "tm.add(Activation('softmax'))\n",
    "opt = tf.keras.optimizers.RMSprop(learning_rate=0.00005,epsilon=None,rho=0.9,decay=0.0)\n",
    "\n"
   ]
  },
  {
   "cell_type": "code",
   "execution_count": 58,
   "metadata": {
    "colab": {
     "base_uri": "https://localhost:8080/",
     "height": 629
    },
    "id": "LL9SeCMYlPxJ",
    "outputId": "118d1977-d08d-48b3-cc30-eb8074e17886"
   },
   "outputs": [
    {
     "name": "stdout",
     "output_type": "stream",
     "text": [
      "Model: \"sequential_7\"\n",
      "_________________________________________________________________\n",
      " Layer (type)                Output Shape              Param #   \n",
      "=================================================================\n",
      " conv1d_15 (Conv1D)          (None, 180, 128)          768       \n",
      "                                                                 \n",
      " activation_22 (Activation)  (None, 180, 128)          0         \n",
      "                                                                 \n",
      " dropout_15 (Dropout)        (None, 180, 128)          0         \n",
      "                                                                 \n",
      " max_pooling1d_12 (MaxPoolin  (None, 22, 128)          0         \n",
      " g1D)                                                            \n",
      "                                                                 \n",
      " conv1d_16 (Conv1D)          (None, 22, 128)           82048     \n",
      "                                                                 \n",
      " activation_23 (Activation)  (None, 22, 128)           0         \n",
      "                                                                 \n",
      " max_pooling1d_13 (MaxPoolin  (None, 2, 128)           0         \n",
      " g1D)                                                            \n",
      "                                                                 \n",
      " dropout_16 (Dropout)        (None, 2, 128)            0         \n",
      "                                                                 \n",
      " conv1d_17 (Conv1D)          (None, 2, 128)            82048     \n",
      "                                                                 \n",
      " activation_24 (Activation)  (None, 2, 128)            0         \n",
      "                                                                 \n",
      " dropout_17 (Dropout)        (None, 2, 128)            0         \n",
      "                                                                 \n",
      " flatten_7 (Flatten)         (None, 256)               0         \n",
      "                                                                 \n",
      " dense_7 (Dense)             (None, 8)                 2056      \n",
      "                                                                 \n",
      " activation_25 (Activation)  (None, 8)                 0         \n",
      "                                                                 \n",
      "=================================================================\n",
      "Total params: 166,920\n",
      "Trainable params: 166,920\n",
      "Non-trainable params: 0\n",
      "_________________________________________________________________\n"
     ]
    }
   ],
   "source": [
    "tm.summary()"
   ]
  },
  {
   "cell_type": "code",
   "execution_count": 59,
   "metadata": {
    "id": "ZB5d_vcQlatK"
   },
   "outputs": [],
   "source": [
    "tm.compile(loss='sparse_categorical_crossentropy',\n",
    "              optimizer=opt,\n",
    "              metrics=['accuracy'])"
   ]
  },
  {
   "cell_type": "code",
   "execution_count": 60,
   "metadata": {
    "colab": {
     "base_uri": "https://localhost:8080/",
     "height": 1000
    },
    "id": "PYiVg5RPliiB",
    "outputId": "8d2df54b-144c-46a3-cc8a-43081c1dc35d"
   },
   "outputs": [
    {
     "name": "stdout",
     "output_type": "stream",
     "text": [
      "Epoch 1/100\n",
      "21/21 [==============================] - 3s 49ms/step - loss: 4.7350 - accuracy: 0.2407 - val_loss: 1.6178 - val_accuracy: 0.3407\n",
      "Epoch 2/100\n",
      "21/21 [==============================] - 1s 26ms/step - loss: 3.9258 - accuracy: 0.2804 - val_loss: 2.4372 - val_accuracy: 0.3111\n",
      "Epoch 3/100\n",
      "21/21 [==============================] - 1s 34ms/step - loss: 3.5278 - accuracy: 0.3052 - val_loss: 1.4711 - val_accuracy: 0.3185\n",
      "Epoch 4/100\n",
      "21/21 [==============================] - 1s 29ms/step - loss: 3.1434 - accuracy: 0.3350 - val_loss: 1.4645 - val_accuracy: 0.3704\n",
      "Epoch 5/100\n",
      "21/21 [==============================] - 1s 34ms/step - loss: 3.1368 - accuracy: 0.3151 - val_loss: 1.5073 - val_accuracy: 0.3630\n",
      "Epoch 6/100\n",
      "21/21 [==============================] - 1s 42ms/step - loss: 2.9374 - accuracy: 0.2730 - val_loss: 2.2553 - val_accuracy: 0.3630\n",
      "Epoch 7/100\n",
      "21/21 [==============================] - 1s 29ms/step - loss: 2.7130 - accuracy: 0.3052 - val_loss: 1.5599 - val_accuracy: 0.3852\n",
      "Epoch 8/100\n",
      "21/21 [==============================] - 1s 31ms/step - loss: 2.5917 - accuracy: 0.3499 - val_loss: 1.8994 - val_accuracy: 0.3630\n",
      "Epoch 9/100\n",
      "21/21 [==============================] - 1s 25ms/step - loss: 2.6303 - accuracy: 0.3176 - val_loss: 1.3222 - val_accuracy: 0.4148\n",
      "Epoch 10/100\n",
      "21/21 [==============================] - 1s 28ms/step - loss: 2.3584 - accuracy: 0.3871 - val_loss: 1.5814 - val_accuracy: 0.4370\n",
      "Epoch 11/100\n",
      "21/21 [==============================] - 1s 27ms/step - loss: 2.3733 - accuracy: 0.3400 - val_loss: 1.4155 - val_accuracy: 0.3111\n",
      "Epoch 12/100\n",
      "21/21 [==============================] - 1s 38ms/step - loss: 2.3228 - accuracy: 0.3251 - val_loss: 1.3656 - val_accuracy: 0.3926\n",
      "Epoch 13/100\n",
      "21/21 [==============================] - 1s 27ms/step - loss: 1.9697 - accuracy: 0.3524 - val_loss: 1.2940 - val_accuracy: 0.4370\n",
      "Epoch 14/100\n",
      "21/21 [==============================] - 1s 31ms/step - loss: 1.9922 - accuracy: 0.3474 - val_loss: 1.4907 - val_accuracy: 0.4222\n",
      "Epoch 15/100\n",
      "21/21 [==============================] - 1s 31ms/step - loss: 2.1002 - accuracy: 0.3424 - val_loss: 1.1640 - val_accuracy: 0.4000\n",
      "Epoch 16/100\n",
      "21/21 [==============================] - 1s 34ms/step - loss: 1.9542 - accuracy: 0.3424 - val_loss: 1.2853 - val_accuracy: 0.3852\n",
      "Epoch 17/100\n",
      "21/21 [==============================] - 1s 32ms/step - loss: 1.8677 - accuracy: 0.3672 - val_loss: 1.2879 - val_accuracy: 0.3407\n",
      "Epoch 18/100\n",
      "21/21 [==============================] - 1s 27ms/step - loss: 1.8862 - accuracy: 0.3251 - val_loss: 1.1677 - val_accuracy: 0.4148\n",
      "Epoch 19/100\n",
      "21/21 [==============================] - 1s 33ms/step - loss: 1.6544 - accuracy: 0.3747 - val_loss: 1.2435 - val_accuracy: 0.4074\n",
      "Epoch 20/100\n",
      "21/21 [==============================] - 1s 32ms/step - loss: 1.5755 - accuracy: 0.3871 - val_loss: 1.1283 - val_accuracy: 0.5556\n",
      "Epoch 21/100\n",
      "21/21 [==============================] - 1s 29ms/step - loss: 1.6340 - accuracy: 0.3623 - val_loss: 1.1286 - val_accuracy: 0.4815\n",
      "Epoch 22/100\n",
      "21/21 [==============================] - 1s 31ms/step - loss: 1.5812 - accuracy: 0.3499 - val_loss: 1.2163 - val_accuracy: 0.4593\n",
      "Epoch 23/100\n",
      "21/21 [==============================] - 1s 29ms/step - loss: 1.6312 - accuracy: 0.4020 - val_loss: 1.1510 - val_accuracy: 0.4370\n",
      "Epoch 24/100\n",
      "21/21 [==============================] - 1s 29ms/step - loss: 1.5384 - accuracy: 0.3548 - val_loss: 1.1291 - val_accuracy: 0.4815\n",
      "Epoch 25/100\n",
      "21/21 [==============================] - 1s 30ms/step - loss: 1.6303 - accuracy: 0.3995 - val_loss: 1.2858 - val_accuracy: 0.3407\n",
      "Epoch 26/100\n",
      "21/21 [==============================] - 1s 29ms/step - loss: 1.4248 - accuracy: 0.4268 - val_loss: 1.1037 - val_accuracy: 0.5037\n",
      "Epoch 27/100\n",
      "21/21 [==============================] - 1s 28ms/step - loss: 1.4751 - accuracy: 0.3970 - val_loss: 1.1571 - val_accuracy: 0.4074\n",
      "Epoch 28/100\n",
      "21/21 [==============================] - 1s 26ms/step - loss: 1.4234 - accuracy: 0.4194 - val_loss: 1.1603 - val_accuracy: 0.4222\n",
      "Epoch 29/100\n",
      "21/21 [==============================] - 1s 36ms/step - loss: 1.4942 - accuracy: 0.3573 - val_loss: 1.1570 - val_accuracy: 0.4370\n",
      "Epoch 30/100\n",
      "21/21 [==============================] - 1s 30ms/step - loss: 1.4846 - accuracy: 0.3598 - val_loss: 1.2489 - val_accuracy: 0.4296\n",
      "Epoch 31/100\n",
      "21/21 [==============================] - 1s 31ms/step - loss: 1.4886 - accuracy: 0.3921 - val_loss: 1.1229 - val_accuracy: 0.4667\n",
      "Epoch 32/100\n",
      "21/21 [==============================] - 1s 30ms/step - loss: 1.4179 - accuracy: 0.3945 - val_loss: 1.1068 - val_accuracy: 0.4444\n",
      "Epoch 33/100\n",
      "21/21 [==============================] - 1s 28ms/step - loss: 1.3850 - accuracy: 0.3995 - val_loss: 1.1266 - val_accuracy: 0.4444\n",
      "Epoch 34/100\n",
      "21/21 [==============================] - 1s 30ms/step - loss: 1.3309 - accuracy: 0.4144 - val_loss: 1.1560 - val_accuracy: 0.4000\n",
      "Epoch 35/100\n",
      "21/21 [==============================] - 1s 28ms/step - loss: 1.3617 - accuracy: 0.4094 - val_loss: 1.1647 - val_accuracy: 0.4741\n",
      "Epoch 36/100\n",
      "21/21 [==============================] - 1s 28ms/step - loss: 1.2970 - accuracy: 0.4715 - val_loss: 1.2053 - val_accuracy: 0.4148\n",
      "Epoch 37/100\n",
      "21/21 [==============================] - 1s 25ms/step - loss: 1.3305 - accuracy: 0.4392 - val_loss: 1.1104 - val_accuracy: 0.4593\n",
      "Epoch 38/100\n",
      "21/21 [==============================] - 1s 37ms/step - loss: 1.3708 - accuracy: 0.3797 - val_loss: 1.1196 - val_accuracy: 0.4593\n",
      "Epoch 39/100\n",
      "21/21 [==============================] - 1s 31ms/step - loss: 1.3460 - accuracy: 0.4243 - val_loss: 1.1134 - val_accuracy: 0.4741\n",
      "Epoch 40/100\n",
      "21/21 [==============================] - 1s 31ms/step - loss: 1.3377 - accuracy: 0.3871 - val_loss: 1.1304 - val_accuracy: 0.4222\n",
      "Epoch 41/100\n",
      "21/21 [==============================] - 1s 32ms/step - loss: 1.3139 - accuracy: 0.4417 - val_loss: 1.1565 - val_accuracy: 0.4889\n",
      "Epoch 42/100\n",
      "21/21 [==============================] - 1s 29ms/step - loss: 1.2373 - accuracy: 0.4615 - val_loss: 1.1816 - val_accuracy: 0.4444\n",
      "Epoch 43/100\n",
      "21/21 [==============================] - 1s 30ms/step - loss: 1.2957 - accuracy: 0.3921 - val_loss: 1.1542 - val_accuracy: 0.4741\n",
      "Epoch 44/100\n",
      "21/21 [==============================] - 1s 30ms/step - loss: 1.2940 - accuracy: 0.4094 - val_loss: 1.1777 - val_accuracy: 0.3926\n",
      "Epoch 45/100\n",
      "21/21 [==============================] - 1s 32ms/step - loss: 1.2691 - accuracy: 0.4268 - val_loss: 1.1224 - val_accuracy: 0.4815\n",
      "Epoch 46/100\n",
      "21/21 [==============================] - 1s 32ms/step - loss: 1.2597 - accuracy: 0.4243 - val_loss: 1.1330 - val_accuracy: 0.4370\n",
      "Epoch 47/100\n",
      "21/21 [==============================] - 1s 29ms/step - loss: 1.2794 - accuracy: 0.4045 - val_loss: 1.1099 - val_accuracy: 0.4370\n",
      "Epoch 48/100\n",
      "21/21 [==============================] - 1s 31ms/step - loss: 1.1827 - accuracy: 0.4839 - val_loss: 1.0990 - val_accuracy: 0.4444\n",
      "Epoch 49/100\n",
      "21/21 [==============================] - 1s 31ms/step - loss: 1.2531 - accuracy: 0.4417 - val_loss: 1.1051 - val_accuracy: 0.4370\n",
      "Epoch 50/100\n",
      "21/21 [==============================] - 1s 31ms/step - loss: 1.2080 - accuracy: 0.4318 - val_loss: 1.0845 - val_accuracy: 0.4222\n",
      "Epoch 51/100\n",
      "21/21 [==============================] - 1s 30ms/step - loss: 1.2308 - accuracy: 0.4293 - val_loss: 1.1111 - val_accuracy: 0.4222\n",
      "Epoch 52/100\n",
      "21/21 [==============================] - 1s 33ms/step - loss: 1.2298 - accuracy: 0.4218 - val_loss: 1.0855 - val_accuracy: 0.5111\n",
      "Epoch 53/100\n",
      "21/21 [==============================] - 1s 31ms/step - loss: 1.2145 - accuracy: 0.4367 - val_loss: 1.1087 - val_accuracy: 0.4815\n",
      "Epoch 54/100\n",
      "21/21 [==============================] - 1s 31ms/step - loss: 1.2179 - accuracy: 0.4467 - val_loss: 1.0989 - val_accuracy: 0.4963\n",
      "Epoch 55/100\n",
      "21/21 [==============================] - 1s 31ms/step - loss: 1.2106 - accuracy: 0.4442 - val_loss: 1.0869 - val_accuracy: 0.4741\n",
      "Epoch 56/100\n",
      "21/21 [==============================] - 1s 28ms/step - loss: 1.2536 - accuracy: 0.4218 - val_loss: 1.0833 - val_accuracy: 0.5407\n",
      "Epoch 57/100\n",
      "21/21 [==============================] - 1s 26ms/step - loss: 1.2179 - accuracy: 0.4318 - val_loss: 1.0784 - val_accuracy: 0.4296\n",
      "Epoch 58/100\n"
     ]
    },
    {
     "name": "stdout",
     "output_type": "stream",
     "text": [
      "21/21 [==============================] - 1s 28ms/step - loss: 1.1880 - accuracy: 0.4789 - val_loss: 1.0859 - val_accuracy: 0.4593\n",
      "Epoch 59/100\n",
      "21/21 [==============================] - 1s 28ms/step - loss: 1.1870 - accuracy: 0.4591 - val_loss: 1.1033 - val_accuracy: 0.4889\n",
      "Epoch 60/100\n",
      "21/21 [==============================] - 1s 29ms/step - loss: 1.2077 - accuracy: 0.4392 - val_loss: 1.0903 - val_accuracy: 0.4889\n",
      "Epoch 61/100\n",
      "21/21 [==============================] - 1s 32ms/step - loss: 1.2158 - accuracy: 0.4243 - val_loss: 1.0975 - val_accuracy: 0.4889\n",
      "Epoch 62/100\n",
      "21/21 [==============================] - 1s 30ms/step - loss: 1.1907 - accuracy: 0.4665 - val_loss: 1.0828 - val_accuracy: 0.4444\n",
      "Epoch 63/100\n",
      "21/21 [==============================] - 1s 28ms/step - loss: 1.2195 - accuracy: 0.4566 - val_loss: 1.0923 - val_accuracy: 0.4963\n",
      "Epoch 64/100\n",
      "21/21 [==============================] - 1s 27ms/step - loss: 1.2199 - accuracy: 0.4342 - val_loss: 1.0829 - val_accuracy: 0.4889\n",
      "Epoch 65/100\n",
      "21/21 [==============================] - 1s 28ms/step - loss: 1.2052 - accuracy: 0.4045 - val_loss: 1.0735 - val_accuracy: 0.5630\n",
      "Epoch 66/100\n",
      "21/21 [==============================] - 1s 26ms/step - loss: 1.1812 - accuracy: 0.4814 - val_loss: 1.0956 - val_accuracy: 0.5259\n",
      "Epoch 67/100\n",
      "21/21 [==============================] - 1s 42ms/step - loss: 1.1635 - accuracy: 0.4615 - val_loss: 1.1185 - val_accuracy: 0.4741\n",
      "Epoch 68/100\n",
      "21/21 [==============================] - 1s 42ms/step - loss: 1.1914 - accuracy: 0.4516 - val_loss: 1.1016 - val_accuracy: 0.4963\n",
      "Epoch 69/100\n",
      "21/21 [==============================] - 1s 34ms/step - loss: 1.2369 - accuracy: 0.4367 - val_loss: 1.1122 - val_accuracy: 0.5185\n",
      "Epoch 70/100\n",
      "21/21 [==============================] - 1s 25ms/step - loss: 1.1913 - accuracy: 0.4739 - val_loss: 1.0950 - val_accuracy: 0.5333\n",
      "Epoch 71/100\n",
      "21/21 [==============================] - 1s 31ms/step - loss: 1.1678 - accuracy: 0.4615 - val_loss: 1.0923 - val_accuracy: 0.5185\n",
      "Epoch 72/100\n",
      "21/21 [==============================] - 1s 29ms/step - loss: 1.1884 - accuracy: 0.4094 - val_loss: 1.1451 - val_accuracy: 0.4296\n",
      "Epoch 73/100\n",
      "21/21 [==============================] - 1s 27ms/step - loss: 1.1851 - accuracy: 0.4665 - val_loss: 1.0972 - val_accuracy: 0.5037\n",
      "Epoch 74/100\n",
      "21/21 [==============================] - 1s 25ms/step - loss: 1.1689 - accuracy: 0.4764 - val_loss: 1.0780 - val_accuracy: 0.4741\n",
      "Epoch 75/100\n",
      "21/21 [==============================] - 1s 32ms/step - loss: 1.1580 - accuracy: 0.4864 - val_loss: 1.0619 - val_accuracy: 0.5407\n",
      "Epoch 76/100\n",
      "21/21 [==============================] - 1s 34ms/step - loss: 1.1829 - accuracy: 0.4566 - val_loss: 1.1052 - val_accuracy: 0.4889\n",
      "Epoch 77/100\n",
      "21/21 [==============================] - 1s 30ms/step - loss: 1.1730 - accuracy: 0.4318 - val_loss: 1.0675 - val_accuracy: 0.5185\n",
      "Epoch 78/100\n",
      "21/21 [==============================] - 1s 27ms/step - loss: 1.1702 - accuracy: 0.4516 - val_loss: 1.0552 - val_accuracy: 0.4593\n",
      "Epoch 79/100\n",
      "21/21 [==============================] - 1s 29ms/step - loss: 1.1319 - accuracy: 0.5037 - val_loss: 1.0521 - val_accuracy: 0.4444\n",
      "Epoch 80/100\n",
      "21/21 [==============================] - 1s 30ms/step - loss: 1.1262 - accuracy: 0.4839 - val_loss: 1.0875 - val_accuracy: 0.5185\n",
      "Epoch 81/100\n",
      "21/21 [==============================] - 1s 26ms/step - loss: 1.1729 - accuracy: 0.4516 - val_loss: 1.0544 - val_accuracy: 0.5111\n",
      "Epoch 82/100\n",
      "21/21 [==============================] - 1s 29ms/step - loss: 1.0967 - accuracy: 0.5161 - val_loss: 1.0647 - val_accuracy: 0.5111\n",
      "Epoch 83/100\n",
      "21/21 [==============================] - 1s 26ms/step - loss: 1.1243 - accuracy: 0.4789 - val_loss: 1.0779 - val_accuracy: 0.4815\n",
      "Epoch 84/100\n",
      "21/21 [==============================] - 1s 48ms/step - loss: 1.1106 - accuracy: 0.4963 - val_loss: 1.0890 - val_accuracy: 0.4889\n",
      "Epoch 85/100\n",
      "21/21 [==============================] - 1s 30ms/step - loss: 1.1414 - accuracy: 0.4864 - val_loss: 1.0826 - val_accuracy: 0.5111\n",
      "Epoch 86/100\n",
      "21/21 [==============================] - 1s 26ms/step - loss: 1.1308 - accuracy: 0.4715 - val_loss: 1.0723 - val_accuracy: 0.4889\n",
      "Epoch 87/100\n",
      "21/21 [==============================] - 1s 26ms/step - loss: 1.1623 - accuracy: 0.4591 - val_loss: 1.0239 - val_accuracy: 0.5111\n",
      "Epoch 88/100\n",
      "21/21 [==============================] - 1s 32ms/step - loss: 1.1194 - accuracy: 0.4566 - val_loss: 1.0396 - val_accuracy: 0.4741\n",
      "Epoch 89/100\n",
      "21/21 [==============================] - 1s 48ms/step - loss: 1.1231 - accuracy: 0.4988 - val_loss: 1.0284 - val_accuracy: 0.5185\n",
      "Epoch 90/100\n",
      "21/21 [==============================] - 1s 47ms/step - loss: 1.1303 - accuracy: 0.4690 - val_loss: 1.0590 - val_accuracy: 0.5111\n",
      "Epoch 91/100\n",
      "21/21 [==============================] - 1s 47ms/step - loss: 1.1382 - accuracy: 0.4665 - val_loss: 1.0528 - val_accuracy: 0.5407\n",
      "Epoch 92/100\n",
      "21/21 [==============================] - 1s 48ms/step - loss: 1.0929 - accuracy: 0.4988 - val_loss: 1.0472 - val_accuracy: 0.4444\n",
      "Epoch 93/100\n",
      "21/21 [==============================] - 1s 42ms/step - loss: 1.1299 - accuracy: 0.4913 - val_loss: 1.0343 - val_accuracy: 0.4889\n",
      "Epoch 94/100\n",
      "21/21 [==============================] - 1s 29ms/step - loss: 1.0978 - accuracy: 0.5037 - val_loss: 1.0123 - val_accuracy: 0.5333\n",
      "Epoch 95/100\n",
      "21/21 [==============================] - 1s 27ms/step - loss: 1.0743 - accuracy: 0.5087 - val_loss: 1.0469 - val_accuracy: 0.4667\n",
      "Epoch 96/100\n",
      "21/21 [==============================] - 1s 26ms/step - loss: 1.1074 - accuracy: 0.4938 - val_loss: 1.0747 - val_accuracy: 0.5037\n",
      "Epoch 97/100\n",
      "21/21 [==============================] - 1s 31ms/step - loss: 1.0995 - accuracy: 0.5062 - val_loss: 1.0550 - val_accuracy: 0.5407\n",
      "Epoch 98/100\n",
      "21/21 [==============================] - 1s 26ms/step - loss: 1.0701 - accuracy: 0.5136 - val_loss: 1.0151 - val_accuracy: 0.5037\n",
      "Epoch 99/100\n",
      "21/21 [==============================] - 1s 33ms/step - loss: 1.1323 - accuracy: 0.4615 - val_loss: 1.0385 - val_accuracy: 0.4963\n",
      "Epoch 100/100\n",
      "21/21 [==============================] - 1s 28ms/step - loss: 1.0859 - accuracy: 0.5012 - val_loss: 1.0213 - val_accuracy: 0.5407\n"
     ]
    }
   ],
   "source": [
    "tmhistory=tm.fit(x_traincnn, y_train, batch_size=20, epochs=100, validation_data=(x_testcnn, y_test))"
   ]
  },
  {
   "cell_type": "code",
   "execution_count": 61,
   "metadata": {
    "colab": {
     "base_uri": "https://localhost:8080/",
     "height": 51
    },
    "id": "TbbY3j68lmVR",
    "outputId": "8f8c3fb1-96eb-4d10-a01e-2540498e314a"
   },
   "outputs": [
    {
     "name": "stdout",
     "output_type": "stream",
     "text": [
      "5/5 [==============================] - 0s 12ms/step - loss: 1.0213 - accuracy: 0.5407\n",
      "Restored model, accuracy: 54.07%\n"
     ]
    }
   ],
   "source": [
    "loss, acc = tm.evaluate(x_testcnn, y_test)\n",
    "print(\"Restored model, accuracy: {:5.2f}%\".format(100*acc))"
   ]
  },
  {
   "cell_type": "code",
   "execution_count": 64,
   "metadata": {
    "colab": {
     "base_uri": "https://localhost:8080/",
     "height": 272
    },
    "id": "0mL8z3EQ9jZT",
    "outputId": "5f8aac19-5f3e-4f9b-c14d-6a170e76ff83"
   },
   "outputs": [
    {
     "name": "stdout",
     "output_type": "stream",
     "text": [
      "              precision    recall  f1-score   support\n",
      "\n",
      "         0.0       0.45      0.72      0.55        32\n",
      "         1.0       0.54      0.43      0.48        35\n",
      "         3.0       0.51      0.69      0.59        26\n",
      "         4.0       0.95      0.48      0.63        42\n",
      "\n",
      "    accuracy                           0.56       135\n",
      "   macro avg       0.61      0.58      0.56       135\n",
      "weighted avg       0.64      0.56      0.57       135\n",
      "\n"
     ]
    },
    {
     "data": {
      "image/png": "[encoded data removed]",
      "text/plain": [
       "<Figure size 720x504 with 2 Axes>"
      ]
     },
     "metadata": {
      "needs_background": "light"
     },
     "output_type": "display_data"
    }
   ],
   "source": [
    "from sklearn.metrics import classification_report \n",
    "from sklearn.metrics import confusion_matrix \n",
    "classes_tp = model.predict(x_testcnn)\n",
    "predict=np.argmax(classes_tp,axis=1)\n",
    "#predict = tm.predict_classes(x_testcnn)\n",
    "print(classification_report(y_test,predict))\n",
    "print_confusion_matrix(confusion_matrix(y_test,predict),em)"
   ]
  },
  {
   "cell_type": "code",
   "execution_count": 65,
   "metadata": {},
   "outputs": [
    {
     "data": {
      "image/png": "[encoded data removed]",
      "text/plain": [
       "<Figure size 432x288 with 1 Axes>"
      ]
     },
     "metadata": {
      "needs_background": "light"
     },
     "output_type": "display_data"
    }
   ],
   "source": [
    "plt.plot(tmhistory.history['loss'])\n",
    "plt.plot(tmhistory.history['val_loss'])\n",
    "plt.title('model loss')\n",
    "plt.ylabel('loss')\n",
    "plt.xlabel('epoch')\n",
    "plt.legend(['train', 'test'], loc='upper left')\n",
    "plt.show()"
   ]
  },
  {
   "cell_type": "markdown",
   "metadata": {
    "id": "Abdy_mt4nABa"
   },
   "source": [
    "**Model 4: 4 Relu and 1 Softmax for flattening layer**"
   ]
  },
  {
   "cell_type": "code",
   "execution_count": 67,
   "metadata": {
    "id": "V43ptFvXm-bj"
   },
   "outputs": [],
   "source": [
    "\n",
    "\n",
    "sm = Sequential()\n",
    "\n",
    "sm.add(Conv1D(128, 5,padding='same',input_shape=(180,1)))#1\n",
    "sm.add(Activation('relu'))\n",
    "sm.add(Dropout(0.1))\n",
    "sm.add(MaxPooling1D(pool_size=(8)))\n",
    "\n",
    "\n",
    "sm.add(Conv1D(128, 5,padding='same',))                  #3\n",
    "sm.add(Activation('relu'))\n",
    "sm.add(Dropout(0.1))\n",
    "\n",
    "sm.add(Conv1D(128, 5,padding='same',))                  #4\n",
    "sm.add(Activation('relu'))\n",
    "sm.add(Dropout(0.1))\n",
    "\n",
    "sm.add(Conv1D(128, 5,padding='same',))                  #4\n",
    "sm.add(Activation('relu'))\n",
    "sm.add(Dropout(0.1))\n",
    "\n",
    "sm.add(Flatten())\n",
    "sm.add(Dense(8))                                        #5                     \n",
    "sm.add(Activation('softmax'))\n",
    "opt = tf.keras.optimizers.RMSprop(learning_rate=0.00005,epsilon=None,rho=0.9,decay=0.0)\n"
   ]
  },
  {
   "cell_type": "code",
   "execution_count": 68,
   "metadata": {
    "colab": {
     "base_uri": "https://localhost:8080/",
     "height": 731
    },
    "id": "YKvLhSPPnG6C",
    "outputId": "dd72e5cf-e6e4-4c84-a7bb-d0e5e0820b44"
   },
   "outputs": [
    {
     "name": "stdout",
     "output_type": "stream",
     "text": [
      "Model: \"sequential_9\"\n",
      "_________________________________________________________________\n",
      " Layer (type)                Output Shape              Param #   \n",
      "=================================================================\n",
      " conv1d_22 (Conv1D)          (None, 180, 128)          768       \n",
      "                                                                 \n",
      " activation_31 (Activation)  (None, 180, 128)          0         \n",
      "                                                                 \n",
      " dropout_22 (Dropout)        (None, 180, 128)          0         \n",
      "                                                                 \n",
      " max_pooling1d_15 (MaxPoolin  (None, 22, 128)          0         \n",
      " g1D)                                                            \n",
      "                                                                 \n",
      " conv1d_23 (Conv1D)          (None, 22, 128)           82048     \n",
      "                                                                 \n",
      " activation_32 (Activation)  (None, 22, 128)           0         \n",
      "                                                                 \n",
      " dropout_23 (Dropout)        (None, 22, 128)           0         \n",
      "                                                                 \n",
      " conv1d_24 (Conv1D)          (None, 22, 128)           82048     \n",
      "                                                                 \n",
      " activation_33 (Activation)  (None, 22, 128)           0         \n",
      "                                                                 \n",
      " dropout_24 (Dropout)        (None, 22, 128)           0         \n",
      "                                                                 \n",
      " conv1d_25 (Conv1D)          (None, 22, 128)           82048     \n",
      "                                                                 \n",
      " activation_34 (Activation)  (None, 22, 128)           0         \n",
      "                                                                 \n",
      " dropout_25 (Dropout)        (None, 22, 128)           0         \n",
      "                                                                 \n",
      " flatten_9 (Flatten)         (None, 2816)              0         \n",
      "                                                                 \n",
      " dense_9 (Dense)             (None, 8)                 22536     \n",
      "                                                                 \n",
      " activation_35 (Activation)  (None, 8)                 0         \n",
      "                                                                 \n",
      "=================================================================\n",
      "Total params: 269,448\n",
      "Trainable params: 269,448\n",
      "Non-trainable params: 0\n",
      "_________________________________________________________________\n"
     ]
    }
   ],
   "source": [
    "sm.summary()"
   ]
  },
  {
   "cell_type": "code",
   "execution_count": 69,
   "metadata": {
    "id": "mPJIfLcGnH0x"
   },
   "outputs": [],
   "source": [
    "sm.compile(loss='sparse_categorical_crossentropy',\n",
    "              optimizer=opt,\n",
    "              metrics=['accuracy'])"
   ]
  },
  {
   "cell_type": "code",
   "execution_count": 70,
   "metadata": {
    "colab": {
     "base_uri": "https://localhost:8080/",
     "height": 1000
    },
    "id": "K51eTwPjnIGJ",
    "outputId": "82569664-abb9-4322-8290-f724a128949b"
   },
   "outputs": [
    {
     "name": "stdout",
     "output_type": "stream",
     "text": [
      "Epoch 1/100\n",
      "21/21 [==============================] - 3s 72ms/step - loss: 2.4760 - accuracy: 0.2457 - val_loss: 1.6947 - val_accuracy: 0.2444\n",
      "Epoch 2/100\n",
      "21/21 [==============================] - 1s 41ms/step - loss: 1.9280 - accuracy: 0.3052 - val_loss: 1.9570 - val_accuracy: 0.2963\n",
      "Epoch 3/100\n",
      "21/21 [==============================] - 1s 40ms/step - loss: 1.8367 - accuracy: 0.3077 - val_loss: 1.5019 - val_accuracy: 0.3111\n",
      "Epoch 4/100\n",
      "21/21 [==============================] - 1s 46ms/step - loss: 1.8008 - accuracy: 0.3275 - val_loss: 1.3865 - val_accuracy: 0.3111\n",
      "Epoch 5/100\n",
      "21/21 [==============================] - 1s 41ms/step - loss: 1.6712 - accuracy: 0.3176 - val_loss: 1.7206 - val_accuracy: 0.3556\n",
      "Epoch 6/100\n",
      "21/21 [==============================] - 1s 47ms/step - loss: 1.6700 - accuracy: 0.3474 - val_loss: 1.3077 - val_accuracy: 0.3556\n",
      "Epoch 7/100\n",
      "21/21 [==============================] - 1s 38ms/step - loss: 1.6139 - accuracy: 0.3573 - val_loss: 1.3056 - val_accuracy: 0.3704\n",
      "Epoch 8/100\n",
      "21/21 [==============================] - 1s 40ms/step - loss: 1.4742 - accuracy: 0.3598 - val_loss: 1.3314 - val_accuracy: 0.4222\n",
      "Epoch 9/100\n",
      "21/21 [==============================] - 1s 44ms/step - loss: 1.5026 - accuracy: 0.3871 - val_loss: 1.3259 - val_accuracy: 0.3852\n",
      "Epoch 10/100\n",
      "21/21 [==============================] - 1s 45ms/step - loss: 1.4150 - accuracy: 0.3871 - val_loss: 1.3851 - val_accuracy: 0.3704\n",
      "Epoch 11/100\n",
      "21/21 [==============================] - 1s 45ms/step - loss: 1.4345 - accuracy: 0.3970 - val_loss: 1.2757 - val_accuracy: 0.4000\n",
      "Epoch 12/100\n",
      "21/21 [==============================] - 1s 40ms/step - loss: 1.4009 - accuracy: 0.4194 - val_loss: 1.1808 - val_accuracy: 0.4815\n",
      "Epoch 13/100\n",
      "21/21 [==============================] - 1s 39ms/step - loss: 1.3594 - accuracy: 0.3995 - val_loss: 1.2022 - val_accuracy: 0.4444\n",
      "Epoch 14/100\n",
      "21/21 [==============================] - 1s 43ms/step - loss: 1.4035 - accuracy: 0.3797 - val_loss: 1.1613 - val_accuracy: 0.4444\n",
      "Epoch 15/100\n",
      "21/21 [==============================] - 1s 37ms/step - loss: 1.3262 - accuracy: 0.4069 - val_loss: 1.1604 - val_accuracy: 0.4667\n",
      "Epoch 16/100\n",
      "21/21 [==============================] - 1s 42ms/step - loss: 1.3374 - accuracy: 0.4218 - val_loss: 1.2058 - val_accuracy: 0.3630\n",
      "Epoch 17/100\n",
      "21/21 [==============================] - 1s 43ms/step - loss: 1.2985 - accuracy: 0.3598 - val_loss: 1.1415 - val_accuracy: 0.4741\n",
      "Epoch 18/100\n",
      "21/21 [==============================] - 1s 45ms/step - loss: 1.3006 - accuracy: 0.3871 - val_loss: 1.1404 - val_accuracy: 0.4444\n",
      "Epoch 19/100\n",
      "21/21 [==============================] - 1s 43ms/step - loss: 1.2999 - accuracy: 0.4020 - val_loss: 1.1532 - val_accuracy: 0.4222\n",
      "Epoch 20/100\n",
      "21/21 [==============================] - 1s 44ms/step - loss: 1.2737 - accuracy: 0.3871 - val_loss: 1.2121 - val_accuracy: 0.5037\n",
      "Epoch 21/100\n",
      "21/21 [==============================] - 1s 37ms/step - loss: 1.2579 - accuracy: 0.4293 - val_loss: 1.1715 - val_accuracy: 0.4222\n",
      "Epoch 22/100\n",
      "21/21 [==============================] - 1s 38ms/step - loss: 1.2721 - accuracy: 0.4119 - val_loss: 1.1535 - val_accuracy: 0.3926\n",
      "Epoch 23/100\n",
      "21/21 [==============================] - 1s 37ms/step - loss: 1.2142 - accuracy: 0.4467 - val_loss: 1.1338 - val_accuracy: 0.4963\n",
      "Epoch 24/100\n",
      "21/21 [==============================] - 1s 38ms/step - loss: 1.2203 - accuracy: 0.4243 - val_loss: 1.1674 - val_accuracy: 0.3778\n",
      "Epoch 25/100\n",
      "21/21 [==============================] - 1s 43ms/step - loss: 1.2201 - accuracy: 0.4342 - val_loss: 1.1608 - val_accuracy: 0.5111\n",
      "Epoch 26/100\n",
      "21/21 [==============================] - 1s 46ms/step - loss: 1.2304 - accuracy: 0.4318 - val_loss: 1.1678 - val_accuracy: 0.3704\n",
      "Epoch 27/100\n",
      "21/21 [==============================] - 1s 42ms/step - loss: 1.2769 - accuracy: 0.3697 - val_loss: 1.1419 - val_accuracy: 0.4519\n",
      "Epoch 28/100\n",
      "21/21 [==============================] - 1s 44ms/step - loss: 1.1437 - accuracy: 0.4739 - val_loss: 1.1033 - val_accuracy: 0.4296\n",
      "Epoch 29/100\n",
      "21/21 [==============================] - 1s 39ms/step - loss: 1.1722 - accuracy: 0.4467 - val_loss: 1.1109 - val_accuracy: 0.5111\n",
      "Epoch 30/100\n",
      "21/21 [==============================] - 1s 42ms/step - loss: 1.2042 - accuracy: 0.4194 - val_loss: 1.1047 - val_accuracy: 0.5556\n",
      "Epoch 31/100\n",
      "21/21 [==============================] - 1s 37ms/step - loss: 1.1773 - accuracy: 0.4243 - val_loss: 1.0859 - val_accuracy: 0.4815\n",
      "Epoch 32/100\n",
      "21/21 [==============================] - 1s 52ms/step - loss: 1.1625 - accuracy: 0.4516 - val_loss: 1.0901 - val_accuracy: 0.4667\n",
      "Epoch 33/100\n",
      "21/21 [==============================] - 1s 44ms/step - loss: 1.1628 - accuracy: 0.4640 - val_loss: 1.1150 - val_accuracy: 0.4370\n",
      "Epoch 34/100\n",
      "21/21 [==============================] - 1s 38ms/step - loss: 1.1536 - accuracy: 0.4665 - val_loss: 1.0802 - val_accuracy: 0.4815\n",
      "Epoch 35/100\n",
      "21/21 [==============================] - 1s 42ms/step - loss: 1.1742 - accuracy: 0.4541 - val_loss: 1.0887 - val_accuracy: 0.5333\n",
      "Epoch 36/100\n",
      "21/21 [==============================] - 1s 37ms/step - loss: 1.1414 - accuracy: 0.4864 - val_loss: 1.0704 - val_accuracy: 0.4741\n",
      "Epoch 37/100\n",
      "21/21 [==============================] - 1s 41ms/step - loss: 1.1190 - accuracy: 0.4913 - val_loss: 1.0734 - val_accuracy: 0.4741\n",
      "Epoch 38/100\n",
      "21/21 [==============================] - 1s 43ms/step - loss: 1.1352 - accuracy: 0.4566 - val_loss: 1.0929 - val_accuracy: 0.4296\n",
      "Epoch 39/100\n",
      "21/21 [==============================] - 1s 42ms/step - loss: 1.1441 - accuracy: 0.4764 - val_loss: 1.0783 - val_accuracy: 0.5333\n",
      "Epoch 40/100\n",
      "21/21 [==============================] - 1s 42ms/step - loss: 1.1223 - accuracy: 0.4963 - val_loss: 1.0646 - val_accuracy: 0.5259\n",
      "Epoch 41/100\n",
      "21/21 [==============================] - 1s 40ms/step - loss: 1.1277 - accuracy: 0.4864 - val_loss: 1.0494 - val_accuracy: 0.5704\n",
      "Epoch 42/100\n",
      "21/21 [==============================] - 1s 40ms/step - loss: 1.0988 - accuracy: 0.5161 - val_loss: 1.0493 - val_accuracy: 0.5556\n",
      "Epoch 43/100\n",
      "21/21 [==============================] - 1s 38ms/step - loss: 1.0884 - accuracy: 0.4938 - val_loss: 1.0658 - val_accuracy: 0.5185\n",
      "Epoch 44/100\n",
      "21/21 [==============================] - 1s 38ms/step - loss: 1.0972 - accuracy: 0.5161 - val_loss: 1.0811 - val_accuracy: 0.4741\n",
      "Epoch 45/100\n",
      "21/21 [==============================] - 1s 38ms/step - loss: 1.0945 - accuracy: 0.4864 - val_loss: 1.0296 - val_accuracy: 0.5185\n",
      "Epoch 46/100\n",
      "21/21 [==============================] - 1s 38ms/step - loss: 1.1163 - accuracy: 0.4764 - val_loss: 1.0677 - val_accuracy: 0.4741\n",
      "Epoch 47/100\n",
      "21/21 [==============================] - 1s 47ms/step - loss: 1.0804 - accuracy: 0.4864 - val_loss: 1.0644 - val_accuracy: 0.4370\n",
      "Epoch 48/100\n",
      "21/21 [==============================] - 1s 54ms/step - loss: 1.0892 - accuracy: 0.4665 - val_loss: 1.0307 - val_accuracy: 0.5037\n",
      "Epoch 49/100\n",
      "21/21 [==============================] - 1s 38ms/step - loss: 1.1003 - accuracy: 0.4963 - val_loss: 1.0408 - val_accuracy: 0.5630\n",
      "Epoch 50/100\n",
      "21/21 [==============================] - 1s 37ms/step - loss: 1.0765 - accuracy: 0.4988 - val_loss: 1.0785 - val_accuracy: 0.4593\n",
      "Epoch 51/100\n",
      "21/21 [==============================] - 1s 41ms/step - loss: 1.0736 - accuracy: 0.5112 - val_loss: 1.0298 - val_accuracy: 0.5259\n",
      "Epoch 52/100\n",
      "21/21 [==============================] - 1s 41ms/step - loss: 1.0920 - accuracy: 0.5037 - val_loss: 1.0090 - val_accuracy: 0.5630\n",
      "Epoch 53/100\n",
      "21/21 [==============================] - 1s 43ms/step - loss: 1.0656 - accuracy: 0.4864 - val_loss: 1.0178 - val_accuracy: 0.5926\n",
      "Epoch 54/100\n",
      "21/21 [==============================] - 1s 41ms/step - loss: 1.0840 - accuracy: 0.4665 - val_loss: 1.0074 - val_accuracy: 0.5407\n",
      "Epoch 55/100\n",
      "21/21 [==============================] - 1s 40ms/step - loss: 1.0938 - accuracy: 0.4963 - val_loss: 1.0158 - val_accuracy: 0.5111\n",
      "Epoch 56/100\n",
      "21/21 [==============================] - 1s 40ms/step - loss: 1.0686 - accuracy: 0.5037 - val_loss: 1.0295 - val_accuracy: 0.5852\n",
      "Epoch 57/100\n",
      "21/21 [==============================] - 1s 41ms/step - loss: 1.0488 - accuracy: 0.4988 - val_loss: 1.0333 - val_accuracy: 0.5630\n",
      "Epoch 58/100\n"
     ]
    },
    {
     "name": "stdout",
     "output_type": "stream",
     "text": [
      "21/21 [==============================] - 1s 38ms/step - loss: 1.0603 - accuracy: 0.4938 - val_loss: 1.0291 - val_accuracy: 0.5037\n",
      "Epoch 59/100\n",
      "21/21 [==============================] - 1s 38ms/step - loss: 1.0569 - accuracy: 0.5012 - val_loss: 1.0325 - val_accuracy: 0.5259\n",
      "Epoch 60/100\n",
      "21/21 [==============================] - 1s 38ms/step - loss: 1.0349 - accuracy: 0.5509 - val_loss: 1.0191 - val_accuracy: 0.5111\n",
      "Epoch 61/100\n",
      "21/21 [==============================] - 1s 71ms/step - loss: 1.0269 - accuracy: 0.5236 - val_loss: 1.0138 - val_accuracy: 0.5333\n",
      "Epoch 62/100\n",
      "21/21 [==============================] - 1s 71ms/step - loss: 1.0500 - accuracy: 0.5236 - val_loss: 1.0012 - val_accuracy: 0.5926\n",
      "Epoch 63/100\n",
      "21/21 [==============================] - 1s 71ms/step - loss: 1.0443 - accuracy: 0.5310 - val_loss: 1.0103 - val_accuracy: 0.6000\n",
      "Epoch 64/100\n",
      "21/21 [==============================] - 1s 70ms/step - loss: 1.0534 - accuracy: 0.5211 - val_loss: 1.0003 - val_accuracy: 0.6000\n",
      "Epoch 65/100\n",
      "21/21 [==============================] - 1s 37ms/step - loss: 1.0549 - accuracy: 0.4913 - val_loss: 1.0136 - val_accuracy: 0.4963\n",
      "Epoch 66/100\n",
      "21/21 [==============================] - 1s 38ms/step - loss: 1.0502 - accuracy: 0.4888 - val_loss: 0.9997 - val_accuracy: 0.5778\n",
      "Epoch 67/100\n",
      "21/21 [==============================] - 1s 63ms/step - loss: 1.0473 - accuracy: 0.5012 - val_loss: 1.0269 - val_accuracy: 0.5037\n",
      "Epoch 68/100\n",
      "21/21 [==============================] - 1s 52ms/step - loss: 1.0745 - accuracy: 0.5012 - val_loss: 1.0105 - val_accuracy: 0.5111\n",
      "Epoch 69/100\n",
      "21/21 [==============================] - 1s 53ms/step - loss: 1.0461 - accuracy: 0.5037 - val_loss: 0.9829 - val_accuracy: 0.5556\n",
      "Epoch 70/100\n",
      "21/21 [==============================] - 1s 60ms/step - loss: 1.0278 - accuracy: 0.5186 - val_loss: 0.9942 - val_accuracy: 0.4815\n",
      "Epoch 71/100\n",
      "21/21 [==============================] - 1s 57ms/step - loss: 1.0074 - accuracy: 0.5434 - val_loss: 0.9895 - val_accuracy: 0.6296\n",
      "Epoch 72/100\n",
      "21/21 [==============================] - 1s 48ms/step - loss: 1.0260 - accuracy: 0.5236 - val_loss: 0.9814 - val_accuracy: 0.6000\n",
      "Epoch 73/100\n",
      "21/21 [==============================] - 1s 43ms/step - loss: 1.0147 - accuracy: 0.5261 - val_loss: 0.9739 - val_accuracy: 0.6370\n",
      "Epoch 74/100\n",
      "21/21 [==============================] - 1s 45ms/step - loss: 1.0387 - accuracy: 0.5062 - val_loss: 0.9955 - val_accuracy: 0.5778\n",
      "Epoch 75/100\n",
      "21/21 [==============================] - 1s 39ms/step - loss: 1.0148 - accuracy: 0.5558 - val_loss: 1.0259 - val_accuracy: 0.4963\n",
      "Epoch 76/100\n",
      "21/21 [==============================] - 1s 40ms/step - loss: 1.0249 - accuracy: 0.5087 - val_loss: 0.9963 - val_accuracy: 0.5630\n",
      "Epoch 77/100\n",
      "21/21 [==============================] - 1s 37ms/step - loss: 1.0026 - accuracy: 0.5409 - val_loss: 1.0009 - val_accuracy: 0.5481\n",
      "Epoch 78/100\n",
      "21/21 [==============================] - 1s 41ms/step - loss: 1.0173 - accuracy: 0.5385 - val_loss: 0.9944 - val_accuracy: 0.5407\n",
      "Epoch 79/100\n",
      "21/21 [==============================] - 1s 38ms/step - loss: 0.9933 - accuracy: 0.5360 - val_loss: 1.0686 - val_accuracy: 0.3852\n",
      "Epoch 80/100\n",
      "21/21 [==============================] - 1s 47ms/step - loss: 1.0549 - accuracy: 0.4864 - val_loss: 1.0374 - val_accuracy: 0.4296\n",
      "Epoch 81/100\n",
      "21/21 [==============================] - 1s 41ms/step - loss: 1.0063 - accuracy: 0.5236 - val_loss: 0.9629 - val_accuracy: 0.5407\n",
      "Epoch 82/100\n",
      "21/21 [==============================] - 1s 36ms/step - loss: 1.0010 - accuracy: 0.5360 - val_loss: 0.9740 - val_accuracy: 0.5926\n",
      "Epoch 83/100\n",
      "21/21 [==============================] - 1s 35ms/step - loss: 0.9931 - accuracy: 0.5211 - val_loss: 0.9803 - val_accuracy: 0.5407\n",
      "Epoch 84/100\n",
      "21/21 [==============================] - 1s 38ms/step - loss: 1.0129 - accuracy: 0.5484 - val_loss: 1.0073 - val_accuracy: 0.4741\n",
      "Epoch 85/100\n",
      "21/21 [==============================] - 1s 37ms/step - loss: 1.0052 - accuracy: 0.5186 - val_loss: 1.0058 - val_accuracy: 0.5259\n",
      "Epoch 86/100\n",
      "21/21 [==============================] - 1s 35ms/step - loss: 0.9786 - accuracy: 0.5484 - val_loss: 0.9569 - val_accuracy: 0.5333\n",
      "Epoch 87/100\n",
      "21/21 [==============================] - 1s 44ms/step - loss: 1.0119 - accuracy: 0.5409 - val_loss: 0.9626 - val_accuracy: 0.4963\n",
      "Epoch 88/100\n",
      "21/21 [==============================] - 1s 47ms/step - loss: 0.9923 - accuracy: 0.5484 - val_loss: 0.9626 - val_accuracy: 0.5333\n",
      "Epoch 89/100\n",
      "21/21 [==============================] - 1s 44ms/step - loss: 0.9752 - accuracy: 0.5558 - val_loss: 0.9660 - val_accuracy: 0.5704\n",
      "Epoch 90/100\n",
      "21/21 [==============================] - 1s 38ms/step - loss: 0.9778 - accuracy: 0.5509 - val_loss: 0.9669 - val_accuracy: 0.5556\n",
      "Epoch 91/100\n",
      "21/21 [==============================] - 1s 35ms/step - loss: 0.9750 - accuracy: 0.5658 - val_loss: 1.0008 - val_accuracy: 0.5185\n",
      "Epoch 92/100\n",
      "21/21 [==============================] - 1s 35ms/step - loss: 0.9726 - accuracy: 0.5533 - val_loss: 0.9608 - val_accuracy: 0.5259\n",
      "Epoch 93/100\n",
      "21/21 [==============================] - 1s 45ms/step - loss: 0.9871 - accuracy: 0.5161 - val_loss: 1.0106 - val_accuracy: 0.4741\n",
      "Epoch 94/100\n",
      "21/21 [==============================] - 1s 39ms/step - loss: 0.9904 - accuracy: 0.5285 - val_loss: 0.9587 - val_accuracy: 0.5778\n",
      "Epoch 95/100\n",
      "21/21 [==============================] - 1s 45ms/step - loss: 0.9756 - accuracy: 0.5459 - val_loss: 0.9563 - val_accuracy: 0.5556\n",
      "Epoch 96/100\n",
      "21/21 [==============================] - 1s 38ms/step - loss: 0.9802 - accuracy: 0.5459 - val_loss: 0.9596 - val_accuracy: 0.5259\n",
      "Epoch 97/100\n",
      "21/21 [==============================] - 1s 45ms/step - loss: 0.9648 - accuracy: 0.5732 - val_loss: 0.9691 - val_accuracy: 0.5556\n",
      "Epoch 98/100\n",
      "21/21 [==============================] - 1s 41ms/step - loss: 0.9627 - accuracy: 0.5434 - val_loss: 0.9613 - val_accuracy: 0.5630\n",
      "Epoch 99/100\n",
      "21/21 [==============================] - 1s 42ms/step - loss: 0.9975 - accuracy: 0.5062 - val_loss: 0.9734 - val_accuracy: 0.5630\n",
      "Epoch 100/100\n",
      "21/21 [==============================] - 1s 43ms/step - loss: 0.9557 - accuracy: 0.5533 - val_loss: 0.9626 - val_accuracy: 0.5852\n"
     ]
    }
   ],
   "source": [
    "smhistory=sm.fit(x_traincnn, y_train, batch_size=20, epochs=100, validation_data=(x_testcnn, y_test))"
   ]
  },
  {
   "cell_type": "code",
   "execution_count": 71,
   "metadata": {
    "colab": {
     "base_uri": "https://localhost:8080/",
     "height": 272
    },
    "id": "wKQ7YEL693jZ",
    "outputId": "ac7ecf37-f015-4754-b759-e861bf7fd127"
   },
   "outputs": [
    {
     "name": "stdout",
     "output_type": "stream",
     "text": [
      "              precision    recall  f1-score   support\n",
      "\n",
      "         0.0       0.45      0.72      0.55        32\n",
      "         1.0       0.54      0.43      0.48        35\n",
      "         3.0       0.51      0.69      0.59        26\n",
      "         4.0       0.95      0.48      0.63        42\n",
      "\n",
      "    accuracy                           0.56       135\n",
      "   macro avg       0.61      0.58      0.56       135\n",
      "weighted avg       0.64      0.56      0.57       135\n",
      "\n"
     ]
    },
    {
     "data": {
      "image/png": "[encoded data removed]",
      "text/plain": [
       "<Figure size 720x504 with 2 Axes>"
      ]
     },
     "metadata": {
      "needs_background": "light"
     },
     "output_type": "display_data"
    }
   ],
   "source": [
    "from sklearn.metrics import classification_report \n",
    "from sklearn.metrics import confusion_matrix \n",
    "classes_x = model.predict(x_testcnn)\n",
    "p=np.argmax(classes_x,axis=1)\n",
    "\n",
    "#p = sm.predict_classes(x_testcnn)\n",
    "print(classification_report(y_test,p))\n",
    "print_confusion_matrix(confusion_matrix(y_test,p),em)"
   ]
  },
  {
   "cell_type": "code",
   "execution_count": 72,
   "metadata": {
    "colab": {
     "base_uri": "https://localhost:8080/",
     "height": 51
    },
    "id": "LBS8v4sWnIjJ",
    "outputId": "34487bd9-7587-4805-a2e6-9f19e8e9e419"
   },
   "outputs": [
    {
     "name": "stdout",
     "output_type": "stream",
     "text": [
      "5/5 [==============================] - 0s 12ms/step - loss: 0.9626 - accuracy: 0.5852\n",
      "Restored model, accuracy: 58.52%\n"
     ]
    }
   ],
   "source": [
    "loss, acc = sm.evaluate(x_testcnn, y_test)\n",
    "print(\"Restored model, accuracy: {:5.2f}%\".format(100*acc))"
   ]
  },
  {
   "cell_type": "code",
   "execution_count": 73,
   "metadata": {},
   "outputs": [
    {
     "data": {
      "image/png": "[encoded data removed]",
      "text/plain": [
       "<Figure size 432x288 with 1 Axes>"
      ]
     },
     "metadata": {
      "needs_background": "light"
     },
     "output_type": "display_data"
    }
   ],
   "source": [
    "plt.plot(smhistory.history['loss'])\n",
    "plt.plot(smhistory.history['val_loss'])\n",
    "plt.title('model loss')\n",
    "plt.ylabel('loss')\n",
    "plt.xlabel('epoch')\n",
    "plt.legend(['train', 'test'], loc='upper left')\n",
    "plt.show()"
   ]
  },
  {
   "cell_type": "markdown",
   "metadata": {},
   "source": [
    "**Model 4: 5 relu and 1 SOftmax **"
   ]
  },
  {
   "cell_type": "code",
   "execution_count": 75,
   "metadata": {},
   "outputs": [],
   "source": [
    "\n",
    "\n",
    "sm4 = Sequential()\n",
    "\n",
    "sm4.add(Conv1D(128, 5,padding='same',input_shape=(180,1)))#1\n",
    "sm4.add(Activation('relu'))\n",
    "sm4.add(Dropout(0.1))\n",
    "sm4.add(MaxPooling1D(pool_size=(8)))\n",
    "\n",
    "\n",
    "sm4.add(Conv1D(128, 5,padding='same',))                  #3\n",
    "sm4.add(Activation('relu'))\n",
    "sm4.add(Dropout(0.1))\n",
    "\n",
    "sm4.add(Conv1D(128, 5,padding='same',))                  #3\n",
    "sm4.add(Activation('relu'))\n",
    "sm4.add(Dropout(0.1))\n",
    "\n",
    "sm4.add(Conv1D(128, 5,padding='same',))                  #3\n",
    "sm4.add(Activation('relu'))\n",
    "sm4.add(Dropout(0.1))\n",
    "\n",
    "sm4.add(Conv1D(128, 5,padding='same',))                  #4\n",
    "sm4.add(Activation('softmax'))\n",
    "sm4.add(Dropout(0.1))\n",
    "\n",
    "sm4.add(Flatten())\n",
    "sm4.add(Dense(8))                                        #5                     \n",
    "sm4.add(Activation('softmax'))\n",
    "opt = tf.keras.optimizers.RMSprop(learning_rate=0.00005,epsilon=None,rho=0.9,decay=0.0)\n"
   ]
  },
  {
   "cell_type": "code",
   "execution_count": 76,
   "metadata": {},
   "outputs": [
    {
     "name": "stdout",
     "output_type": "stream",
     "text": [
      "Model: \"sequential_11\"\n",
      "_________________________________________________________________\n",
      " Layer (type)                Output Shape              Param #   \n",
      "=================================================================\n",
      " conv1d_30 (Conv1D)          (None, 180, 128)          768       \n",
      "                                                                 \n",
      " activation_41 (Activation)  (None, 180, 128)          0         \n",
      "                                                                 \n",
      " dropout_30 (Dropout)        (None, 180, 128)          0         \n",
      "                                                                 \n",
      " max_pooling1d_17 (MaxPoolin  (None, 22, 128)          0         \n",
      " g1D)                                                            \n",
      "                                                                 \n",
      " conv1d_31 (Conv1D)          (None, 22, 128)           82048     \n",
      "                                                                 \n",
      " activation_42 (Activation)  (None, 22, 128)           0         \n",
      "                                                                 \n",
      " dropout_31 (Dropout)        (None, 22, 128)           0         \n",
      "                                                                 \n",
      " conv1d_32 (Conv1D)          (None, 22, 128)           82048     \n",
      "                                                                 \n",
      " activation_43 (Activation)  (None, 22, 128)           0         \n",
      "                                                                 \n",
      " dropout_32 (Dropout)        (None, 22, 128)           0         \n",
      "                                                                 \n",
      " conv1d_33 (Conv1D)          (None, 22, 128)           82048     \n",
      "                                                                 \n",
      " activation_44 (Activation)  (None, 22, 128)           0         \n",
      "                                                                 \n",
      " dropout_33 (Dropout)        (None, 22, 128)           0         \n",
      "                                                                 \n",
      " conv1d_34 (Conv1D)          (None, 22, 128)           82048     \n",
      "                                                                 \n",
      " activation_45 (Activation)  (None, 22, 128)           0         \n",
      "                                                                 \n",
      " dropout_34 (Dropout)        (None, 22, 128)           0         \n",
      "                                                                 \n",
      " flatten_11 (Flatten)        (None, 2816)              0         \n",
      "                                                                 \n",
      " dense_11 (Dense)            (None, 8)                 22536     \n",
      "                                                                 \n",
      " activation_46 (Activation)  (None, 8)                 0         \n",
      "                                                                 \n",
      "=================================================================\n",
      "Total params: 351,496\n",
      "Trainable params: 351,496\n",
      "Non-trainable params: 0\n",
      "_________________________________________________________________\n"
     ]
    }
   ],
   "source": [
    "sm4.summary()"
   ]
  },
  {
   "cell_type": "code",
   "execution_count": 77,
   "metadata": {},
   "outputs": [],
   "source": [
    "sm4.compile(loss='sparse_categorical_crossentropy',\n",
    "              optimizer=opt,\n",
    "              metrics=['accuracy'])"
   ]
  },
  {
   "cell_type": "code",
   "execution_count": 78,
   "metadata": {},
   "outputs": [
    {
     "name": "stdout",
     "output_type": "stream",
     "text": [
      "Epoch 1/100\n",
      "21/21 [==============================] - 4s 74ms/step - loss: 2.0271 - accuracy: 0.2556 - val_loss: 1.9764 - val_accuracy: 0.3111\n",
      "Epoch 2/100\n",
      "21/21 [==============================] - 1s 42ms/step - loss: 1.9639 - accuracy: 0.2829 - val_loss: 1.9394 - val_accuracy: 0.3111\n",
      "Epoch 3/100\n",
      "21/21 [==============================] - 1s 53ms/step - loss: 1.9235 - accuracy: 0.2779 - val_loss: 1.9011 - val_accuracy: 0.3407\n",
      "Epoch 4/100\n",
      "21/21 [==============================] - 1s 50ms/step - loss: 1.8906 - accuracy: 0.3077 - val_loss: 1.8786 - val_accuracy: 0.3407\n",
      "Epoch 5/100\n",
      "21/21 [==============================] - 1s 42ms/step - loss: 1.8663 - accuracy: 0.3027 - val_loss: 1.8587 - val_accuracy: 0.2815\n",
      "Epoch 6/100\n",
      "21/21 [==============================] - 1s 44ms/step - loss: 1.8397 - accuracy: 0.3151 - val_loss: 1.8325 - val_accuracy: 0.3481\n",
      "Epoch 7/100\n",
      "21/21 [==============================] - 1s 42ms/step - loss: 1.8208 - accuracy: 0.3102 - val_loss: 1.8161 - val_accuracy: 0.3333\n",
      "Epoch 8/100\n",
      "21/21 [==============================] - 1s 53ms/step - loss: 1.8041 - accuracy: 0.3598 - val_loss: 1.7984 - val_accuracy: 0.3630\n",
      "Epoch 9/100\n",
      "21/21 [==============================] - 1s 48ms/step - loss: 1.7841 - accuracy: 0.3672 - val_loss: 1.7792 - val_accuracy: 0.3481\n",
      "Epoch 10/100\n",
      "21/21 [==============================] - 1s 57ms/step - loss: 1.7670 - accuracy: 0.3300 - val_loss: 1.7620 - val_accuracy: 0.3407\n",
      "Epoch 11/100\n",
      "21/21 [==============================] - 1s 60ms/step - loss: 1.7490 - accuracy: 0.3573 - val_loss: 1.7437 - val_accuracy: 0.3481\n",
      "Epoch 12/100\n",
      "21/21 [==============================] - 1s 48ms/step - loss: 1.7300 - accuracy: 0.3474 - val_loss: 1.7286 - val_accuracy: 0.3556\n",
      "Epoch 13/100\n",
      "21/21 [==============================] - 1s 46ms/step - loss: 1.7152 - accuracy: 0.3449 - val_loss: 1.7143 - val_accuracy: 0.3556\n",
      "Epoch 14/100\n",
      "21/21 [==============================] - 1s 43ms/step - loss: 1.6988 - accuracy: 0.3623 - val_loss: 1.7012 - val_accuracy: 0.3556\n",
      "Epoch 15/100\n",
      "21/21 [==============================] - 1s 43ms/step - loss: 1.6846 - accuracy: 0.3722 - val_loss: 1.6863 - val_accuracy: 0.3481\n",
      "Epoch 16/100\n",
      "21/21 [==============================] - 1s 49ms/step - loss: 1.6737 - accuracy: 0.3251 - val_loss: 1.6747 - val_accuracy: 0.3556\n",
      "Epoch 17/100\n",
      "21/21 [==============================] - 1s 44ms/step - loss: 1.6615 - accuracy: 0.3449 - val_loss: 1.6635 - val_accuracy: 0.3556\n",
      "Epoch 18/100\n",
      "21/21 [==============================] - 1s 49ms/step - loss: 1.6483 - accuracy: 0.3623 - val_loss: 1.6515 - val_accuracy: 0.3556\n",
      "Epoch 19/100\n",
      "21/21 [==============================] - 1s 45ms/step - loss: 1.6322 - accuracy: 0.3648 - val_loss: 1.6410 - val_accuracy: 0.3630\n",
      "Epoch 20/100\n",
      "21/21 [==============================] - 1s 44ms/step - loss: 1.6214 - accuracy: 0.3648 - val_loss: 1.6282 - val_accuracy: 0.3556\n",
      "Epoch 21/100\n",
      "21/21 [==============================] - 1s 45ms/step - loss: 1.6097 - accuracy: 0.3846 - val_loss: 1.6196 - val_accuracy: 0.3630\n",
      "Epoch 22/100\n",
      "21/21 [==============================] - 1s 52ms/step - loss: 1.6006 - accuracy: 0.3772 - val_loss: 1.6085 - val_accuracy: 0.3630\n",
      "Epoch 23/100\n",
      "21/21 [==============================] - 1s 48ms/step - loss: 1.5889 - accuracy: 0.3797 - val_loss: 1.5971 - val_accuracy: 0.3704\n",
      "Epoch 24/100\n",
      "21/21 [==============================] - 1s 43ms/step - loss: 1.5734 - accuracy: 0.3921 - val_loss: 1.5872 - val_accuracy: 0.3704\n",
      "Epoch 25/100\n",
      "21/21 [==============================] - 1s 43ms/step - loss: 1.5684 - accuracy: 0.3821 - val_loss: 1.5753 - val_accuracy: 0.3704\n",
      "Epoch 26/100\n",
      "21/21 [==============================] - 1s 47ms/step - loss: 1.5528 - accuracy: 0.3970 - val_loss: 1.5677 - val_accuracy: 0.3704\n",
      "Epoch 27/100\n",
      "21/21 [==============================] - 1s 52ms/step - loss: 1.5446 - accuracy: 0.3945 - val_loss: 1.5590 - val_accuracy: 0.3704\n",
      "Epoch 28/100\n",
      "21/21 [==============================] - 1s 43ms/step - loss: 1.5345 - accuracy: 0.4045 - val_loss: 1.5496 - val_accuracy: 0.3704\n",
      "Epoch 29/100\n",
      "21/21 [==============================] - 1s 44ms/step - loss: 1.5268 - accuracy: 0.3921 - val_loss: 1.5401 - val_accuracy: 0.3704\n",
      "Epoch 30/100\n",
      "21/21 [==============================] - 1s 48ms/step - loss: 1.5174 - accuracy: 0.3821 - val_loss: 1.5323 - val_accuracy: 0.3704\n",
      "Epoch 31/100\n",
      "21/21 [==============================] - 1s 48ms/step - loss: 1.5097 - accuracy: 0.3821 - val_loss: 1.5241 - val_accuracy: 0.3704\n",
      "Epoch 32/100\n",
      "21/21 [==============================] - 1s 48ms/step - loss: 1.5011 - accuracy: 0.3846 - val_loss: 1.5156 - val_accuracy: 0.3630\n",
      "Epoch 33/100\n",
      "21/21 [==============================] - 1s 46ms/step - loss: 1.4908 - accuracy: 0.4069 - val_loss: 1.5102 - val_accuracy: 0.3704\n",
      "Epoch 34/100\n",
      "21/21 [==============================] - 1s 44ms/step - loss: 1.4822 - accuracy: 0.4045 - val_loss: 1.5017 - val_accuracy: 0.3704\n",
      "Epoch 35/100\n",
      "21/21 [==============================] - 1s 45ms/step - loss: 1.4746 - accuracy: 0.4094 - val_loss: 1.4954 - val_accuracy: 0.3704\n",
      "Epoch 36/100\n",
      "21/21 [==============================] - 1s 44ms/step - loss: 1.4682 - accuracy: 0.3846 - val_loss: 1.4883 - val_accuracy: 0.3704\n",
      "Epoch 37/100\n",
      "21/21 [==============================] - 1s 45ms/step - loss: 1.4618 - accuracy: 0.4144 - val_loss: 1.4808 - val_accuracy: 0.3704\n",
      "Epoch 38/100\n",
      "21/21 [==============================] - 1s 43ms/step - loss: 1.4556 - accuracy: 0.3797 - val_loss: 1.4759 - val_accuracy: 0.3704\n",
      "Epoch 39/100\n",
      "21/21 [==============================] - 1s 44ms/step - loss: 1.4452 - accuracy: 0.3821 - val_loss: 1.4682 - val_accuracy: 0.3704\n",
      "Epoch 40/100\n",
      "21/21 [==============================] - 1s 44ms/step - loss: 1.4380 - accuracy: 0.3648 - val_loss: 1.4633 - val_accuracy: 0.3704\n",
      "Epoch 41/100\n",
      "21/21 [==============================] - 1s 44ms/step - loss: 1.4300 - accuracy: 0.3722 - val_loss: 1.4544 - val_accuracy: 0.3926\n",
      "Epoch 42/100\n",
      "21/21 [==============================] - 1s 48ms/step - loss: 1.4270 - accuracy: 0.4169 - val_loss: 1.4492 - val_accuracy: 0.4667\n",
      "Epoch 43/100\n",
      "21/21 [==============================] - 1s 50ms/step - loss: 1.4214 - accuracy: 0.4268 - val_loss: 1.4438 - val_accuracy: 0.4815\n",
      "Epoch 44/100\n",
      "21/21 [==============================] - 1s 45ms/step - loss: 1.4124 - accuracy: 0.4541 - val_loss: 1.4385 - val_accuracy: 0.4593\n",
      "Epoch 45/100\n",
      "21/21 [==============================] - 1s 44ms/step - loss: 1.4061 - accuracy: 0.4615 - val_loss: 1.4306 - val_accuracy: 0.4370\n",
      "Epoch 46/100\n",
      "21/21 [==============================] - 1s 48ms/step - loss: 1.4049 - accuracy: 0.4392 - val_loss: 1.4265 - val_accuracy: 0.4370\n",
      "Epoch 47/100\n",
      "21/21 [==============================] - 1s 50ms/step - loss: 1.3942 - accuracy: 0.4566 - val_loss: 1.4221 - val_accuracy: 0.4370\n",
      "Epoch 48/100\n",
      "21/21 [==============================] - 1s 47ms/step - loss: 1.3908 - accuracy: 0.4541 - val_loss: 1.4158 - val_accuracy: 0.4370\n",
      "Epoch 49/100\n",
      "21/21 [==============================] - 1s 46ms/step - loss: 1.3891 - accuracy: 0.4516 - val_loss: 1.4081 - val_accuracy: 0.4444\n",
      "Epoch 50/100\n",
      "21/21 [==============================] - 1s 45ms/step - loss: 1.3832 - accuracy: 0.4665 - val_loss: 1.4029 - val_accuracy: 0.4519\n",
      "Epoch 51/100\n",
      "21/21 [==============================] - 1s 45ms/step - loss: 1.3787 - accuracy: 0.4417 - val_loss: 1.3965 - val_accuracy: 0.4370\n",
      "Epoch 52/100\n",
      "21/21 [==============================] - 1s 45ms/step - loss: 1.3706 - accuracy: 0.4467 - val_loss: 1.3943 - val_accuracy: 0.4074\n",
      "Epoch 53/100\n",
      "21/21 [==============================] - 1s 45ms/step - loss: 1.3672 - accuracy: 0.4591 - val_loss: 1.3891 - val_accuracy: 0.4370\n",
      "Epoch 54/100\n",
      "21/21 [==============================] - 1s 52ms/step - loss: 1.3624 - accuracy: 0.4442 - val_loss: 1.3860 - val_accuracy: 0.4222\n",
      "Epoch 55/100\n",
      "21/21 [==============================] - 1s 49ms/step - loss: 1.3530 - accuracy: 0.4690 - val_loss: 1.3790 - val_accuracy: 0.4444\n",
      "Epoch 56/100\n",
      "21/21 [==============================] - 1s 46ms/step - loss: 1.3498 - accuracy: 0.4640 - val_loss: 1.3719 - val_accuracy: 0.4519\n",
      "Epoch 57/100\n",
      "21/21 [==============================] - 1s 45ms/step - loss: 1.3431 - accuracy: 0.4541 - val_loss: 1.3683 - val_accuracy: 0.4519\n",
      "Epoch 58/100\n"
     ]
    },
    {
     "name": "stdout",
     "output_type": "stream",
     "text": [
      "21/21 [==============================] - 1s 42ms/step - loss: 1.3418 - accuracy: 0.4442 - val_loss: 1.3661 - val_accuracy: 0.4444\n",
      "Epoch 59/100\n",
      "21/21 [==============================] - 1s 46ms/step - loss: 1.3309 - accuracy: 0.4789 - val_loss: 1.3580 - val_accuracy: 0.4519\n",
      "Epoch 60/100\n",
      "21/21 [==============================] - 1s 46ms/step - loss: 1.3255 - accuracy: 0.4764 - val_loss: 1.3550 - val_accuracy: 0.4296\n",
      "Epoch 61/100\n",
      "21/21 [==============================] - 1s 42ms/step - loss: 1.3279 - accuracy: 0.4491 - val_loss: 1.3505 - val_accuracy: 0.4444\n",
      "Epoch 62/100\n",
      "21/21 [==============================] - 1s 47ms/step - loss: 1.3219 - accuracy: 0.4665 - val_loss: 1.3462 - val_accuracy: 0.4444\n",
      "Epoch 63/100\n",
      "21/21 [==============================] - 1s 65ms/step - loss: 1.3109 - accuracy: 0.4814 - val_loss: 1.3418 - val_accuracy: 0.4444\n",
      "Epoch 64/100\n",
      "21/21 [==============================] - 1s 56ms/step - loss: 1.3051 - accuracy: 0.4764 - val_loss: 1.3381 - val_accuracy: 0.4296\n",
      "Epoch 65/100\n",
      "21/21 [==============================] - 1s 47ms/step - loss: 1.3083 - accuracy: 0.4739 - val_loss: 1.3310 - val_accuracy: 0.4444\n",
      "Epoch 66/100\n",
      "21/21 [==============================] - 1s 56ms/step - loss: 1.3004 - accuracy: 0.4690 - val_loss: 1.3275 - val_accuracy: 0.4444\n",
      "Epoch 67/100\n",
      "21/21 [==============================] - 1s 49ms/step - loss: 1.2968 - accuracy: 0.4739 - val_loss: 1.3219 - val_accuracy: 0.4370\n",
      "Epoch 68/100\n",
      "21/21 [==============================] - 1s 54ms/step - loss: 1.2940 - accuracy: 0.4715 - val_loss: 1.3180 - val_accuracy: 0.4815\n",
      "Epoch 69/100\n",
      "21/21 [==============================] - 1s 55ms/step - loss: 1.2881 - accuracy: 0.4516 - val_loss: 1.3128 - val_accuracy: 0.4370\n",
      "Epoch 70/100\n",
      "21/21 [==============================] - 1s 67ms/step - loss: 1.2851 - accuracy: 0.4864 - val_loss: 1.3186 - val_accuracy: 0.4667\n",
      "Epoch 71/100\n",
      "21/21 [==============================] - 1s 61ms/step - loss: 1.2815 - accuracy: 0.4690 - val_loss: 1.3044 - val_accuracy: 0.4370\n",
      "Epoch 72/100\n",
      "21/21 [==============================] - 1s 54ms/step - loss: 1.2795 - accuracy: 0.4665 - val_loss: 1.3032 - val_accuracy: 0.4296\n",
      "Epoch 73/100\n",
      "21/21 [==============================] - 1s 53ms/step - loss: 1.2756 - accuracy: 0.4789 - val_loss: 1.2982 - val_accuracy: 0.4370\n",
      "Epoch 74/100\n",
      "21/21 [==============================] - 1s 53ms/step - loss: 1.2708 - accuracy: 0.4615 - val_loss: 1.2911 - val_accuracy: 0.4370\n",
      "Epoch 75/100\n",
      "21/21 [==============================] - 1s 44ms/step - loss: 1.2637 - accuracy: 0.4864 - val_loss: 1.2875 - val_accuracy: 0.4370\n",
      "Epoch 76/100\n",
      "21/21 [==============================] - 1s 48ms/step - loss: 1.2612 - accuracy: 0.4640 - val_loss: 1.2837 - val_accuracy: 0.4370\n",
      "Epoch 77/100\n",
      "21/21 [==============================] - 1s 63ms/step - loss: 1.2547 - accuracy: 0.4739 - val_loss: 1.2806 - val_accuracy: 0.4370\n",
      "Epoch 78/100\n",
      "21/21 [==============================] - 1s 56ms/step - loss: 1.2539 - accuracy: 0.4764 - val_loss: 1.2763 - val_accuracy: 0.4444\n",
      "Epoch 79/100\n",
      "21/21 [==============================] - 2s 74ms/step - loss: 1.2492 - accuracy: 0.4715 - val_loss: 1.2739 - val_accuracy: 0.4370\n",
      "Epoch 80/100\n",
      "21/21 [==============================] - 1s 63ms/step - loss: 1.2454 - accuracy: 0.4764 - val_loss: 1.2694 - val_accuracy: 0.4370\n",
      "Epoch 81/100\n",
      "21/21 [==============================] - 1s 47ms/step - loss: 1.2424 - accuracy: 0.4615 - val_loss: 1.2621 - val_accuracy: 0.4519\n",
      "Epoch 82/100\n",
      "21/21 [==============================] - 1s 45ms/step - loss: 1.2386 - accuracy: 0.4913 - val_loss: 1.2622 - val_accuracy: 0.4370\n",
      "Epoch 83/100\n",
      "21/21 [==============================] - 1s 56ms/step - loss: 1.2276 - accuracy: 0.4814 - val_loss: 1.2560 - val_accuracy: 0.4815\n",
      "Epoch 84/100\n",
      "21/21 [==============================] - 1s 48ms/step - loss: 1.2282 - accuracy: 0.4888 - val_loss: 1.2499 - val_accuracy: 0.4593\n",
      "Epoch 85/100\n",
      "21/21 [==============================] - 1s 67ms/step - loss: 1.2229 - accuracy: 0.4839 - val_loss: 1.2461 - val_accuracy: 0.4593\n",
      "Epoch 86/100\n",
      "21/21 [==============================] - 1s 67ms/step - loss: 1.2243 - accuracy: 0.4839 - val_loss: 1.2536 - val_accuracy: 0.4815\n",
      "Epoch 87/100\n",
      "21/21 [==============================] - 1s 43ms/step - loss: 1.2193 - accuracy: 0.4839 - val_loss: 1.2370 - val_accuracy: 0.4519\n",
      "Epoch 88/100\n",
      "21/21 [==============================] - 1s 50ms/step - loss: 1.2184 - accuracy: 0.4814 - val_loss: 1.2340 - val_accuracy: 0.4444\n",
      "Epoch 89/100\n",
      "21/21 [==============================] - 1s 42ms/step - loss: 1.2095 - accuracy: 0.4888 - val_loss: 1.2299 - val_accuracy: 0.4593\n",
      "Epoch 90/100\n",
      "21/21 [==============================] - 1s 43ms/step - loss: 1.2127 - accuracy: 0.4690 - val_loss: 1.2255 - val_accuracy: 0.4444\n",
      "Epoch 91/100\n",
      "21/21 [==============================] - 1s 47ms/step - loss: 1.2065 - accuracy: 0.4839 - val_loss: 1.2232 - val_accuracy: 0.4444\n",
      "Epoch 92/100\n",
      "21/21 [==============================] - 1s 43ms/step - loss: 1.2042 - accuracy: 0.4789 - val_loss: 1.2211 - val_accuracy: 0.4667\n",
      "Epoch 93/100\n",
      "21/21 [==============================] - 1s 43ms/step - loss: 1.2018 - accuracy: 0.4739 - val_loss: 1.2208 - val_accuracy: 0.4741\n",
      "Epoch 94/100\n",
      "21/21 [==============================] - 1s 50ms/step - loss: 1.1991 - accuracy: 0.5062 - val_loss: 1.2120 - val_accuracy: 0.4519\n",
      "Epoch 95/100\n",
      "21/21 [==============================] - 1s 42ms/step - loss: 1.1890 - accuracy: 0.4963 - val_loss: 1.2117 - val_accuracy: 0.4519\n",
      "Epoch 96/100\n",
      "21/21 [==============================] - 1s 46ms/step - loss: 1.1839 - accuracy: 0.4814 - val_loss: 1.2061 - val_accuracy: 0.4593\n",
      "Epoch 97/100\n",
      "21/21 [==============================] - 1s 44ms/step - loss: 1.1862 - accuracy: 0.4814 - val_loss: 1.2049 - val_accuracy: 0.4519\n",
      "Epoch 98/100\n",
      "21/21 [==============================] - 1s 43ms/step - loss: 1.1812 - accuracy: 0.4690 - val_loss: 1.2025 - val_accuracy: 0.4593\n",
      "Epoch 99/100\n",
      "21/21 [==============================] - 1s 47ms/step - loss: 1.1792 - accuracy: 0.4814 - val_loss: 1.1986 - val_accuracy: 0.4593\n",
      "Epoch 100/100\n",
      "21/21 [==============================] - 1s 47ms/step - loss: 1.1745 - accuracy: 0.4814 - val_loss: 1.1930 - val_accuracy: 0.4741\n"
     ]
    }
   ],
   "source": [
    "sm4history=sm4.fit(x_traincnn, y_train, batch_size=20, epochs=100, validation_data=(x_testcnn, y_test))"
   ]
  },
  {
   "cell_type": "code",
   "execution_count": 125,
   "metadata": {},
   "outputs": [
    {
     "name": "stdout",
     "output_type": "stream",
     "text": [
      "5/5 [==============================] - 0s 14ms/step - loss: 1.0441 - accuracy: 0.4815\n",
      "Restored model, accuracy: 48.15%\n"
     ]
    }
   ],
   "source": [
    "loss, acc = sm4.evaluate(x_testcnn, y_test)\n",
    "print(\"Restored model, accuracy: {:5.2f}%\".format(100*acc))"
   ]
  },
  {
   "cell_type": "code",
   "execution_count": null,
   "metadata": {},
   "outputs": [],
   "source": [
    "plt.plot(sm4history.history['loss'])\n",
    "plt.plot(sm4history.history['val_loss'])\n",
    "plt.title('model loss')\n",
    "plt.ylabel('loss')\n",
    "plt.xlabel('epoch')\n",
    "plt.legend(['train', 'test'], loc='upper left')\n",
    "plt.show()"
   ]
  },
  {
   "cell_type": "markdown",
   "metadata": {},
   "source": [
    "**Model 4: 2 sigmoid and 2 softmax**"
   ]
  },
  {
   "cell_type": "code",
   "execution_count": 80,
   "metadata": {},
   "outputs": [
    {
     "name": "stdout",
     "output_type": "stream",
     "text": [
      "Model: \"sequential_12\"\n",
      "_________________________________________________________________\n",
      " Layer (type)                Output Shape              Param #   \n",
      "=================================================================\n",
      " conv1d_35 (Conv1D)          (None, 180, 128)          768       \n",
      "                                                                 \n",
      " dropout_35 (Dropout)        (None, 180, 128)          0         \n",
      "                                                                 \n",
      " max_pooling1d_18 (MaxPoolin  (None, 22, 128)          0         \n",
      " g1D)                                                            \n",
      "                                                                 \n",
      " conv1d_36 (Conv1D)          (None, 22, 128)           82048     \n",
      "                                                                 \n",
      " activation_48 (Activation)  (None, 22, 128)           0         \n",
      "                                                                 \n",
      " dropout_36 (Dropout)        (None, 22, 128)           0         \n",
      "                                                                 \n",
      " conv1d_37 (Conv1D)          (None, 22, 128)           82048     \n",
      "                                                                 \n",
      " activation_49 (Activation)  (None, 22, 128)           0         \n",
      "                                                                 \n",
      " dropout_37 (Dropout)        (None, 22, 128)           0         \n",
      "                                                                 \n",
      " flatten_12 (Flatten)        (None, 2816)              0         \n",
      "                                                                 \n",
      " dense_12 (Dense)            (None, 8)                 22536     \n",
      "                                                                 \n",
      " activation_50 (Activation)  (None, 8)                 0         \n",
      "                                                                 \n",
      "=================================================================\n",
      "Total params: 187,400\n",
      "Trainable params: 187,400\n",
      "Non-trainable params: 0\n",
      "_________________________________________________________________\n",
      "Epoch 1/100\n",
      "21/21 [==============================] - 3s 51ms/step - loss: 1.7867 - accuracy: 0.3151 - val_loss: 1.3684 - val_accuracy: 0.2296\n",
      "Epoch 2/100\n",
      "21/21 [==============================] - 1s 31ms/step - loss: 1.3956 - accuracy: 0.2928 - val_loss: 1.3616 - val_accuracy: 0.2444\n",
      "Epoch 3/100\n",
      "21/21 [==============================] - 1s 31ms/step - loss: 1.3986 - accuracy: 0.3127 - val_loss: 1.3566 - val_accuracy: 0.2444\n",
      "Epoch 4/100\n",
      "21/21 [==============================] - 1s 32ms/step - loss: 1.3892 - accuracy: 0.3400 - val_loss: 1.3537 - val_accuracy: 0.2370\n",
      "Epoch 5/100\n",
      "21/21 [==============================] - 1s 52ms/step - loss: 1.3421 - accuracy: 0.3027 - val_loss: 1.3460 - val_accuracy: 0.2370\n",
      "Epoch 6/100\n",
      "21/21 [==============================] - 1s 51ms/step - loss: 1.4126 - accuracy: 0.3275 - val_loss: 1.3435 - val_accuracy: 0.2667\n",
      "Epoch 7/100\n",
      "21/21 [==============================] - 1s 50ms/step - loss: 1.3405 - accuracy: 0.3697 - val_loss: 1.3353 - val_accuracy: 0.2444\n",
      "Epoch 8/100\n",
      "21/21 [==============================] - 1s 31ms/step - loss: 1.3699 - accuracy: 0.3077 - val_loss: 1.3329 - val_accuracy: 0.2370\n",
      "Epoch 9/100\n",
      "21/21 [==============================] - 1s 32ms/step - loss: 1.3397 - accuracy: 0.2953 - val_loss: 1.3116 - val_accuracy: 0.2444\n",
      "Epoch 10/100\n",
      "21/21 [==============================] - 1s 32ms/step - loss: 1.3465 - accuracy: 0.3027 - val_loss: 1.3376 - val_accuracy: 0.2519\n",
      "Epoch 11/100\n",
      "21/21 [==============================] - 1s 32ms/step - loss: 1.3395 - accuracy: 0.3424 - val_loss: 1.3103 - val_accuracy: 0.2444\n",
      "Epoch 12/100\n",
      "21/21 [==============================] - 1s 32ms/step - loss: 1.3672 - accuracy: 0.3127 - val_loss: 1.3170 - val_accuracy: 0.2741\n",
      "Epoch 13/100\n",
      "21/21 [==============================] - 1s 33ms/step - loss: 1.3040 - accuracy: 0.3226 - val_loss: 1.3167 - val_accuracy: 0.4074\n",
      "Epoch 14/100\n",
      "21/21 [==============================] - 1s 32ms/step - loss: 1.3009 - accuracy: 0.3747 - val_loss: 1.2884 - val_accuracy: 0.3037\n",
      "Epoch 15/100\n",
      "21/21 [==============================] - 1s 37ms/step - loss: 1.2769 - accuracy: 0.3424 - val_loss: 1.2865 - val_accuracy: 0.2444\n",
      "Epoch 16/100\n",
      "21/21 [==============================] - 1s 32ms/step - loss: 1.2934 - accuracy: 0.3176 - val_loss: 1.2708 - val_accuracy: 0.2444\n",
      "Epoch 17/100\n",
      "21/21 [==============================] - 1s 34ms/step - loss: 1.2997 - accuracy: 0.3375 - val_loss: 1.2867 - val_accuracy: 0.2444\n",
      "Epoch 18/100\n",
      "21/21 [==============================] - 1s 32ms/step - loss: 1.3374 - accuracy: 0.3077 - val_loss: 1.2707 - val_accuracy: 0.3185\n",
      "Epoch 19/100\n",
      "21/21 [==============================] - 1s 31ms/step - loss: 1.3312 - accuracy: 0.2705 - val_loss: 1.2615 - val_accuracy: 0.3111\n",
      "Epoch 20/100\n",
      "21/21 [==============================] - 1s 36ms/step - loss: 1.4004 - accuracy: 0.3176 - val_loss: 1.2886 - val_accuracy: 0.2667\n",
      "Epoch 21/100\n",
      "21/21 [==============================] - 1s 31ms/step - loss: 1.2872 - accuracy: 0.3300 - val_loss: 1.2344 - val_accuracy: 0.2370\n",
      "Epoch 22/100\n",
      "21/21 [==============================] - 1s 36ms/step - loss: 1.3695 - accuracy: 0.3077 - val_loss: 1.2550 - val_accuracy: 0.2370\n",
      "Epoch 23/100\n",
      "21/21 [==============================] - 1s 36ms/step - loss: 1.3221 - accuracy: 0.3275 - val_loss: 1.2258 - val_accuracy: 0.2370\n",
      "Epoch 24/100\n",
      "21/21 [==============================] - 1s 35ms/step - loss: 1.3939 - accuracy: 0.3176 - val_loss: 1.2307 - val_accuracy: 0.2370\n",
      "Epoch 25/100\n",
      "21/21 [==============================] - 1s 30ms/step - loss: 1.3054 - accuracy: 0.3027 - val_loss: 1.2477 - val_accuracy: 0.3185\n",
      "Epoch 26/100\n",
      "21/21 [==============================] - 1s 30ms/step - loss: 1.3663 - accuracy: 0.4144 - val_loss: 1.2475 - val_accuracy: 0.3333\n",
      "Epoch 27/100\n",
      "21/21 [==============================] - 1s 41ms/step - loss: 1.2595 - accuracy: 0.3697 - val_loss: 1.2493 - val_accuracy: 0.3407\n",
      "Epoch 28/100\n",
      "21/21 [==============================] - 1s 37ms/step - loss: 1.2637 - accuracy: 0.3474 - val_loss: 1.2339 - val_accuracy: 0.3185\n",
      "Epoch 29/100\n",
      "21/21 [==============================] - 1s 34ms/step - loss: 1.2485 - accuracy: 0.3474 - val_loss: 1.2612 - val_accuracy: 0.3185\n",
      "Epoch 30/100\n",
      "21/21 [==============================] - 1s 36ms/step - loss: 1.2511 - accuracy: 0.3474 - val_loss: 1.2314 - val_accuracy: 0.2667\n",
      "Epoch 31/100\n",
      "21/21 [==============================] - 1s 31ms/step - loss: 1.2361 - accuracy: 0.3524 - val_loss: 1.2479 - val_accuracy: 0.2963\n",
      "Epoch 32/100\n",
      "21/21 [==============================] - 1s 33ms/step - loss: 1.2263 - accuracy: 0.3821 - val_loss: 1.2385 - val_accuracy: 0.3926\n",
      "Epoch 33/100\n",
      "21/21 [==============================] - 1s 46ms/step - loss: 1.2619 - accuracy: 0.3995 - val_loss: 1.1966 - val_accuracy: 0.2593\n",
      "Epoch 34/100\n",
      "21/21 [==============================] - 1s 30ms/step - loss: 1.3222 - accuracy: 0.3896 - val_loss: 1.2182 - val_accuracy: 0.4593\n",
      "Epoch 35/100\n",
      "21/21 [==============================] - 1s 35ms/step - loss: 1.2315 - accuracy: 0.3747 - val_loss: 1.2129 - val_accuracy: 0.3259\n",
      "Epoch 36/100\n",
      "21/21 [==============================] - 1s 38ms/step - loss: 1.2381 - accuracy: 0.3995 - val_loss: 1.2073 - val_accuracy: 0.4074\n",
      "Epoch 37/100\n",
      "21/21 [==============================] - 1s 30ms/step - loss: 1.2449 - accuracy: 0.3772 - val_loss: 1.2312 - val_accuracy: 0.4370\n",
      "Epoch 38/100\n",
      "21/21 [==============================] - 1s 37ms/step - loss: 1.2506 - accuracy: 0.3896 - val_loss: 1.1993 - val_accuracy: 0.2370\n",
      "Epoch 39/100\n",
      "21/21 [==============================] - 1s 43ms/step - loss: 1.2802 - accuracy: 0.3499 - val_loss: 1.1995 - val_accuracy: 0.2741\n",
      "Epoch 40/100\n",
      "21/21 [==============================] - 1s 39ms/step - loss: 1.2635 - accuracy: 0.4144 - val_loss: 1.2004 - val_accuracy: 0.2593\n",
      "Epoch 41/100\n",
      "21/21 [==============================] - 1s 31ms/step - loss: 1.2970 - accuracy: 0.3424 - val_loss: 1.2245 - val_accuracy: 0.4444\n",
      "Epoch 42/100\n",
      "21/21 [==============================] - 1s 49ms/step - loss: 1.3089 - accuracy: 0.3821 - val_loss: 1.1922 - val_accuracy: 0.2741\n",
      "Epoch 43/100\n",
      "21/21 [==============================] - 1s 36ms/step - loss: 1.3504 - accuracy: 0.3499 - val_loss: 1.2301 - val_accuracy: 0.3407\n"
     ]
    },
    {
     "name": "stdout",
     "output_type": "stream",
     "text": [
      "Epoch 44/100\n",
      "21/21 [==============================] - 1s 29ms/step - loss: 1.2940 - accuracy: 0.3945 - val_loss: 1.2136 - val_accuracy: 0.2370\n",
      "Epoch 45/100\n",
      "21/21 [==============================] - 1s 30ms/step - loss: 1.2361 - accuracy: 0.3300 - val_loss: 1.2103 - val_accuracy: 0.2370\n",
      "Epoch 46/100\n",
      "21/21 [==============================] - 1s 30ms/step - loss: 1.2355 - accuracy: 0.3672 - val_loss: 1.2141 - val_accuracy: 0.3259\n",
      "Epoch 47/100\n",
      "21/21 [==============================] - 1s 37ms/step - loss: 1.2434 - accuracy: 0.3474 - val_loss: 1.2219 - val_accuracy: 0.3111\n",
      "Epoch 48/100\n",
      "21/21 [==============================] - 1s 57ms/step - loss: 1.2041 - accuracy: 0.3573 - val_loss: 1.2094 - val_accuracy: 0.3111\n",
      "Epoch 49/100\n",
      "21/21 [==============================] - 1s 57ms/step - loss: 1.3222 - accuracy: 0.3499 - val_loss: 1.1917 - val_accuracy: 0.3259\n",
      "Epoch 50/100\n",
      "21/21 [==============================] - 1s 40ms/step - loss: 1.2061 - accuracy: 0.4020 - val_loss: 1.2274 - val_accuracy: 0.3778\n",
      "Epoch 51/100\n",
      "21/21 [==============================] - 1s 57ms/step - loss: 1.2341 - accuracy: 0.3697 - val_loss: 1.2539 - val_accuracy: 0.4000\n",
      "Epoch 52/100\n",
      "21/21 [==============================] - 1s 37ms/step - loss: 1.2535 - accuracy: 0.3722 - val_loss: 1.2245 - val_accuracy: 0.2963\n",
      "Epoch 53/100\n",
      "21/21 [==============================] - 1s 30ms/step - loss: 1.2514 - accuracy: 0.3772 - val_loss: 1.2081 - val_accuracy: 0.3037\n",
      "Epoch 54/100\n",
      "21/21 [==============================] - 1s 31ms/step - loss: 1.2781 - accuracy: 0.3548 - val_loss: 1.2310 - val_accuracy: 0.4593\n",
      "Epoch 55/100\n",
      "21/21 [==============================] - 1s 37ms/step - loss: 1.2670 - accuracy: 0.4318 - val_loss: 1.2070 - val_accuracy: 0.4296\n",
      "Epoch 56/100\n",
      "21/21 [==============================] - 1s 50ms/step - loss: 1.1994 - accuracy: 0.4367 - val_loss: 1.1922 - val_accuracy: 0.3926\n",
      "Epoch 57/100\n",
      "21/21 [==============================] - 1s 57ms/step - loss: 1.2288 - accuracy: 0.3970 - val_loss: 1.2124 - val_accuracy: 0.4667\n",
      "Epoch 58/100\n",
      "21/21 [==============================] - 1s 57ms/step - loss: 1.2294 - accuracy: 0.3697 - val_loss: 1.2045 - val_accuracy: 0.4148\n",
      "Epoch 59/100\n",
      "21/21 [==============================] - 1s 31ms/step - loss: 1.3477 - accuracy: 0.4318 - val_loss: 1.2143 - val_accuracy: 0.4963\n",
      "Epoch 60/100\n",
      "21/21 [==============================] - 1s 31ms/step - loss: 1.2581 - accuracy: 0.4467 - val_loss: 1.2164 - val_accuracy: 0.4593\n",
      "Epoch 61/100\n",
      "21/21 [==============================] - 1s 50ms/step - loss: 1.2098 - accuracy: 0.4045 - val_loss: 1.2017 - val_accuracy: 0.4296\n",
      "Epoch 62/100\n",
      "21/21 [==============================] - 1s 37ms/step - loss: 1.2511 - accuracy: 0.4516 - val_loss: 1.1396 - val_accuracy: 0.4519\n",
      "Epoch 63/100\n",
      "21/21 [==============================] - 1s 31ms/step - loss: 1.3297 - accuracy: 0.4541 - val_loss: 1.1554 - val_accuracy: 0.4741\n",
      "Epoch 64/100\n",
      "21/21 [==============================] - 1s 30ms/step - loss: 1.3124 - accuracy: 0.4442 - val_loss: 1.1555 - val_accuracy: 0.4222\n",
      "Epoch 65/100\n",
      "21/21 [==============================] - 1s 50ms/step - loss: 1.2685 - accuracy: 0.4615 - val_loss: 1.1120 - val_accuracy: 0.4593\n",
      "Epoch 66/100\n",
      "21/21 [==============================] - 1s 38ms/step - loss: 1.3113 - accuracy: 0.4541 - val_loss: 1.1402 - val_accuracy: 0.4222\n",
      "Epoch 67/100\n",
      "21/21 [==============================] - 1s 30ms/step - loss: 1.2657 - accuracy: 0.4318 - val_loss: 1.2281 - val_accuracy: 0.4815\n",
      "Epoch 68/100\n",
      "21/21 [==============================] - 1s 51ms/step - loss: 1.2846 - accuracy: 0.4491 - val_loss: 1.1560 - val_accuracy: 0.4741\n",
      "Epoch 69/100\n",
      "21/21 [==============================] - 1s 48ms/step - loss: 1.5911 - accuracy: 0.4293 - val_loss: 1.2587 - val_accuracy: 0.4667\n",
      "Epoch 70/100\n",
      "21/21 [==============================] - 1s 30ms/step - loss: 1.2022 - accuracy: 0.4467 - val_loss: 1.1630 - val_accuracy: 0.4296\n",
      "Epoch 71/100\n",
      "21/21 [==============================] - 1s 31ms/step - loss: 1.3172 - accuracy: 0.4516 - val_loss: 1.1261 - val_accuracy: 0.4444\n",
      "Epoch 72/100\n",
      "21/21 [==============================] - 1s 33ms/step - loss: 1.2602 - accuracy: 0.4764 - val_loss: 1.1297 - val_accuracy: 0.4889\n",
      "Epoch 73/100\n",
      "21/21 [==============================] - 1s 30ms/step - loss: 1.2328 - accuracy: 0.4789 - val_loss: 1.1208 - val_accuracy: 0.4296\n",
      "Epoch 74/100\n",
      "21/21 [==============================] - 1s 29ms/step - loss: 1.1642 - accuracy: 0.4467 - val_loss: 1.1096 - val_accuracy: 0.4296\n",
      "Epoch 75/100\n",
      "21/21 [==============================] - 1s 30ms/step - loss: 1.8138 - accuracy: 0.4442 - val_loss: 1.1833 - val_accuracy: 0.4444\n",
      "Epoch 76/100\n",
      "21/21 [==============================] - 1s 35ms/step - loss: 1.4193 - accuracy: 0.4293 - val_loss: 1.1433 - val_accuracy: 0.4889\n",
      "Epoch 77/100\n",
      "21/21 [==============================] - 1s 30ms/step - loss: 1.2681 - accuracy: 0.4591 - val_loss: 1.1386 - val_accuracy: 0.4444\n",
      "Epoch 78/100\n",
      "21/21 [==============================] - 1s 36ms/step - loss: 1.1848 - accuracy: 0.4591 - val_loss: 1.1220 - val_accuracy: 0.4222\n",
      "Epoch 79/100\n",
      "21/21 [==============================] - 1s 34ms/step - loss: 1.2606 - accuracy: 0.4367 - val_loss: 1.1289 - val_accuracy: 0.4519\n",
      "Epoch 80/100\n",
      "21/21 [==============================] - 1s 37ms/step - loss: 1.2408 - accuracy: 0.4491 - val_loss: 1.1007 - val_accuracy: 0.4815\n",
      "Epoch 81/100\n",
      "21/21 [==============================] - 1s 36ms/step - loss: 1.2196 - accuracy: 0.4591 - val_loss: 1.1263 - val_accuracy: 0.4444\n",
      "Epoch 82/100\n",
      "21/21 [==============================] - 1s 49ms/step - loss: 1.3706 - accuracy: 0.4665 - val_loss: 1.1192 - val_accuracy: 0.5037\n",
      "Epoch 83/100\n",
      "21/21 [==============================] - 1s 36ms/step - loss: 1.2725 - accuracy: 0.4491 - val_loss: 1.2313 - val_accuracy: 0.4296\n",
      "Epoch 84/100\n",
      "21/21 [==============================] - 1s 45ms/step - loss: 1.1057 - accuracy: 0.4045 - val_loss: 1.1343 - val_accuracy: 0.4741\n",
      "Epoch 85/100\n",
      "21/21 [==============================] - 1s 35ms/step - loss: 1.3562 - accuracy: 0.4566 - val_loss: 1.0936 - val_accuracy: 0.4815\n",
      "Epoch 86/100\n",
      "21/21 [==============================] - 1s 40ms/step - loss: 1.4588 - accuracy: 0.4888 - val_loss: 1.0883 - val_accuracy: 0.4889\n",
      "Epoch 87/100\n",
      "21/21 [==============================] - 1s 33ms/step - loss: 1.4417 - accuracy: 0.4814 - val_loss: 1.2750 - val_accuracy: 0.4741\n",
      "Epoch 88/100\n",
      "21/21 [==============================] - 1s 31ms/step - loss: 1.4737 - accuracy: 0.4467 - val_loss: 1.1041 - val_accuracy: 0.4815\n",
      "Epoch 89/100\n",
      "21/21 [==============================] - 1s 31ms/step - loss: 1.3025 - accuracy: 0.4318 - val_loss: 1.1035 - val_accuracy: 0.4667\n",
      "Epoch 90/100\n",
      "21/21 [==============================] - 1s 50ms/step - loss: 1.2006 - accuracy: 0.4541 - val_loss: 1.1082 - val_accuracy: 0.4815\n",
      "Epoch 91/100\n",
      "21/21 [==============================] - 1s 50ms/step - loss: 1.3066 - accuracy: 0.4392 - val_loss: 1.1022 - val_accuracy: 0.4815\n",
      "Epoch 92/100\n",
      "21/21 [==============================] - 1s 36ms/step - loss: 1.2031 - accuracy: 0.4591 - val_loss: 1.1230 - val_accuracy: 0.4296\n",
      "Epoch 93/100\n",
      "21/21 [==============================] - 1s 30ms/step - loss: 1.4322 - accuracy: 0.4665 - val_loss: 1.1276 - val_accuracy: 0.4444\n",
      "Epoch 94/100\n",
      "21/21 [==============================] - 1s 30ms/step - loss: 1.3653 - accuracy: 0.4491 - val_loss: 1.1114 - val_accuracy: 0.4889\n",
      "Epoch 95/100\n",
      "21/21 [==============================] - 1s 49ms/step - loss: 1.3714 - accuracy: 0.4591 - val_loss: 1.0961 - val_accuracy: 0.4963\n",
      "Epoch 96/100\n",
      "21/21 [==============================] - 1s 33ms/step - loss: 1.5004 - accuracy: 0.4566 - val_loss: 1.2803 - val_accuracy: 0.5333\n",
      "Epoch 97/100\n",
      "21/21 [==============================] - 1s 30ms/step - loss: 1.4974 - accuracy: 0.4566 - val_loss: 1.2527 - val_accuracy: 0.4963\n",
      "Epoch 98/100\n",
      "21/21 [==============================] - 1s 34ms/step - loss: 1.3058 - accuracy: 0.4442 - val_loss: 1.1239 - val_accuracy: 0.5185\n",
      "Epoch 99/100\n",
      "21/21 [==============================] - 1s 30ms/step - loss: 1.3812 - accuracy: 0.4566 - val_loss: 1.1180 - val_accuracy: 0.4519\n",
      "Epoch 100/100\n",
      "21/21 [==============================] - 1s 35ms/step - loss: 1.3631 - accuracy: 0.4615 - val_loss: 1.1089 - val_accuracy: 0.4667\n"
     ]
    }
   ],
   "source": [
    "\n",
    "sm5 = Sequential()\n",
    "\n",
    "sm5.add(Conv1D(128, 5,padding='same',input_shape=(180,1)))#1\n",
    "sm4.add(Activation('sigmoid'))\n",
    "sm5.add(Dropout(0.1))\n",
    "sm5.add(MaxPooling1D(pool_size=(8)))\n",
    "\n",
    "\n",
    "sm5.add(Conv1D(128, 5,padding='same',))                  #2\n",
    "sm5.add(Activation('sigmoid'))\n",
    "sm5.add(Dropout(0.1))\n",
    "\n",
    "sm5.add(Conv1D(128, 5,padding='same',))                  #3\n",
    "sm5.add(Activation('relu'))\n",
    "sm5.add(Dropout(0.1))\n",
    "\n",
    "sm5.add(Flatten())\n",
    "sm5.add(Dense(8))                                        #4                    \n",
    "sm5.add(Activation('relu'))\n",
    "opt = tf.keras.optimizers.RMSprop(learning_rate=0.00005,epsilon=None,rho=0.9,decay=0.0)\n",
    "\n",
    "sm5.summary()\n",
    "\n",
    "\n",
    "sm5.compile(loss='sparse_categorical_crossentropy',\n",
    "              optimizer=opt,\n",
    "              metrics=['accuracy'])\n",
    "\n",
    "sm5history=sm5.fit(x_traincnn, y_train, batch_size=20, epochs=100, validation_data=(x_testcnn, y_test))"
   ]
  },
  {
   "cell_type": "code",
   "execution_count": 81,
   "metadata": {},
   "outputs": [
    {
     "name": "stdout",
     "output_type": "stream",
     "text": [
      "5/5 [==============================] - 0s 10ms/step - loss: 1.1089 - accuracy: 0.4667\n",
      "Restored model, accuracy: 46.67%\n"
     ]
    },
    {
     "data": {
      "image/png": "[encoded data removed]",
      "text/plain": [
       "<Figure size 432x288 with 1 Axes>"
      ]
     },
     "metadata": {
      "needs_background": "light"
     },
     "output_type": "display_data"
    }
   ],
   "source": [
    "loss, acc = sm5.evaluate(x_testcnn, y_test)\n",
    "print(\"Restored model, accuracy: {:5.2f}%\".format(100*acc))\n",
    "\n",
    "plt.plot(sm5history.history['loss'])\n",
    "plt.plot(sm5history.history['val_loss'])\n",
    "plt.title('model loss')\n",
    "plt.ylabel('loss')\n",
    "plt.xlabel('epoch')\n",
    "plt.legend(['train', 'test'], loc='upper left')\n",
    "plt.show()"
   ]
  }
 ],
 "metadata": {
  "accelerator": "GPU",
  "colab": {
   "collapsed_sections": [],
   "name": "CNN_SpeechEmotion.ipynb",
   "provenance": [],
   "toc_visible": true
  },
  "kernelspec": {
   "display_name": "Python 3",
   "language": "python",
   "name": "python3"
  },
  "language_info": {
   "codemirror_mode": {
    "name": "ipython",
    "version": 3
   },
   "file_extension": ".py",
   "mimetype": "text/x-python",
   "name": "python",
   "nbconvert_exporter": "python",
   "pygments_lexer": "ipython3",
   "version": "3.8.5"
  }
 },
 "nbformat": 4,
 "nbformat_minor": 1
}
